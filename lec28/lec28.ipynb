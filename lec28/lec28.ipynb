{
 "cells": [
  {
   "cell_type": "markdown",
   "metadata": {},
   "source": [
    "# I/O with files \n",
    "\n",
    "Today we cover some practical aspects of python that make it a great language for scripting. While the same is possibile with bash and other shells, the OOP aspect of python and its high level semantics make it very easy for a beginner to write their first scripts.\n",
    "\n",
    "- Input/Output with files\n",
    "  - with statement\n",
    "  - parsing lines\n",
    "  - lines as lists\n",
    "  - splitting lines into lists\n",
    "  \n",
    "- json format for storage\n",
    "  - example of json usage\n",
    "  - storing python objects and reading them back\n",
    "  - storing custom python objects\n",
    "   [custom serialize](https://realpython.com/python-json/)\n",
    "  \n",
    "- functions with variable number of arguments\n",
    "  - example of printf\n"
   ]
  },
  {
   "cell_type": "markdown",
   "metadata": {},
   "source": [
    "# File handling\n",
    "\n",
    "Basic I/O with files is almost identical to C, at first.\n",
    "\n",
    "- You need to open a file object on disk before writing information into it\n",
    "- Opening a file can fail\n",
    "  - location does not exist\n",
    "  - no write privilege for the location\n",
    "\n",
    "By default a file is opened in **read** mode"
   ]
  },
  {
   "cell_type": "code",
   "execution_count": 12,
   "metadata": {
    "scrolled": false
   },
   "outputs": [
    {
     "ename": "FileNotFoundError",
     "evalue": "[Errno 2] No such file or directory: '/data.txt'",
     "output_type": "error",
     "traceback": [
      "\u001b[0;31m---------------------------------------------------------------------------\u001b[0m",
      "\u001b[0;31mFileNotFoundError\u001b[0m                         Traceback (most recent call last)",
      "\u001b[0;32m<ipython-input-12-5d349cf68adb>\u001b[0m in \u001b[0;36m<module>\u001b[0;34m\u001b[0m\n\u001b[1;32m      1\u001b[0m \u001b[0mfname\u001b[0m \u001b[0;34m=\u001b[0m \u001b[0;34m'/data.txt'\u001b[0m\u001b[0;34m\u001b[0m\u001b[0m\n\u001b[0;32m----> 2\u001b[0;31m \u001b[0mf\u001b[0m \u001b[0;34m=\u001b[0m \u001b[0mopen\u001b[0m\u001b[0;34m(\u001b[0m\u001b[0mfname\u001b[0m\u001b[0;34m)\u001b[0m\u001b[0;34m\u001b[0m\u001b[0m\n\u001b[0m",
      "\u001b[0;31mFileNotFoundError\u001b[0m: [Errno 2] No such file or directory: '/data.txt'"
     ]
    }
   ],
   "source": [
    "fname = '/data.txt'\n",
    "f = open(fname)"
   ]
  },
  {
   "cell_type": "markdown",
   "metadata": {},
   "source": [
    "You must specify the **write** mode to store data in a file in output"
   ]
  },
  {
   "cell_type": "code",
   "execution_count": 14,
   "metadata": {
    "scrolled": true
   },
   "outputs": [
    {
     "ename": "PermissionError",
     "evalue": "[Errno 13] Permission denied: '/data.txt'",
     "output_type": "error",
     "traceback": [
      "\u001b[0;31m---------------------------------------------------------------------------\u001b[0m",
      "\u001b[0;31mPermissionError\u001b[0m                           Traceback (most recent call last)",
      "\u001b[0;32m<ipython-input-14-2f7b36bbc485>\u001b[0m in \u001b[0;36m<module>\u001b[0;34m\u001b[0m\n\u001b[1;32m      1\u001b[0m \u001b[0mfname\u001b[0m \u001b[0;34m=\u001b[0m \u001b[0;34m'/data.txt'\u001b[0m\u001b[0;34m\u001b[0m\u001b[0m\n\u001b[1;32m      2\u001b[0m \u001b[0mget_ipython\u001b[0m\u001b[0;34m(\u001b[0m\u001b[0;34m)\u001b[0m\u001b[0;34m.\u001b[0m\u001b[0mrun_line_magic\u001b[0m\u001b[0;34m(\u001b[0m\u001b[0;34m'pinfo'\u001b[0m\u001b[0;34m,\u001b[0m \u001b[0;34m'open'\u001b[0m\u001b[0;34m)\u001b[0m\u001b[0;34m\u001b[0m\u001b[0m\n\u001b[0;32m----> 3\u001b[0;31m \u001b[0mf\u001b[0m \u001b[0;34m=\u001b[0m \u001b[0mopen\u001b[0m\u001b[0;34m(\u001b[0m\u001b[0mfname\u001b[0m\u001b[0;34m,\u001b[0m\u001b[0mmode\u001b[0m\u001b[0;34m=\u001b[0m\u001b[0;34m'w'\u001b[0m\u001b[0;34m)\u001b[0m\u001b[0;34m\u001b[0m\u001b[0m\n\u001b[0m",
      "\u001b[0;31mPermissionError\u001b[0m: [Errno 13] Permission denied: '/data.txt'"
     ]
    }
   ],
   "source": [
    "fname = '/data.txt'\n",
    "open?\n",
    "f = open(fname,mode='w')"
   ]
  },
  {
   "cell_type": "markdown",
   "metadata": {},
   "source": [
    "In this case the user does not have write permissions in `/`.\n",
    "\n",
    "Possible modes are:\n",
    "```\n",
    "========= ===============================================================\n",
    "Character Meaning\n",
    "--------- ---------------------------------------------------------------\n",
    "'r'       open for reading (default)\n",
    "'w'       open for writing, truncating the file first\n",
    "'x'       create a new file and open it for writing\n",
    "'a'       open for writing, appending to the end of the file if it exists\n",
    "'b'       binary mode\n",
    "'t'       text mode (default)\n",
    "'+'       open a disk file for updating (reading and writing)\n",
    "========= ===============================================================\n",
    "```\n",
    "So by default a text file is opened in read mode.\n",
    "\n",
    "We now store some values in a file to simulate data.\n",
    "\n",
    "It is important to close the file to make sure all data are flushed from memory to disk and the file handle closed properly"
   ]
  },
  {
   "cell_type": "code",
   "execution_count": 31,
   "metadata": {},
   "outputs": [
    {
     "data": {
      "text/plain": [
       "['lec28.ipynb', 'examples', '.ipynb_checkpoints', 'data.txt']"
      ]
     },
     "execution_count": 31,
     "metadata": {},
     "output_type": "execute_result"
    }
   ],
   "source": [
    "fname = 'data.txt'\n",
    "f = open(fname,'w')\n",
    "\n",
    "f.write('first file in python\\n')\n",
    "    \n",
    "f.close()\n",
    "\n",
    "os.listdir()"
   ]
  },
  {
   "cell_type": "markdown",
   "metadata": {},
   "source": [
    "## getting rid of `close()`\n",
    "\n",
    "To make it less C-like and feel more like python we can get rid of `close()` is usinng the `with` statement"
   ]
  },
  {
   "cell_type": "code",
   "execution_count": 33,
   "metadata": {},
   "outputs": [
    {
     "data": {
      "text/plain": [
       "['lec28.ipynb', 'examples', '.ipynb_checkpoints', 'data.txt']"
      ]
     },
     "execution_count": 33,
     "metadata": {},
     "output_type": "execute_result"
    }
   ],
   "source": [
    "fname = 'data.txt'\n",
    "with open(fname,'w') as ofile:\n",
    "  ofile.write('first file in python\\n')\n",
    "\n",
    "os.listdir()"
   ]
  },
  {
   "cell_type": "markdown",
   "metadata": {},
   "source": [
    "`with` makes sure that ofile is an open file handle in the `with` scope. Once it ends you can no more use the handle, because `close()` has been called autmatically"
   ]
  },
  {
   "cell_type": "markdown",
   "metadata": {},
   "source": [
    "## Storing lists and multiple values\n",
    "\n",
    "You can use the C-style output to format and store elements of a list"
   ]
  },
  {
   "cell_type": "code",
   "execution_count": 47,
   "metadata": {},
   "outputs": [],
   "source": [
    "import random\n",
    "\n",
    "nevents = 3\n",
    "\n",
    "fname = 'data1.txt'\n",
    "with open(fname,'w') as f:\n",
    "    for i in range(nevents):\n",
    "        measurements = [ random.random() for j in range(10) ]\n",
    "        for val in measurements:\n",
    "            f.write(\"%.3f\\t\"%val)\n",
    "        f.write('\\n')\n"
   ]
  },
  {
   "cell_type": "markdown",
   "metadata": {},
   "source": [
    "A more python-style is to use a new `writelines()` function and comprehensions"
   ]
  },
  {
   "cell_type": "code",
   "execution_count": 48,
   "metadata": {},
   "outputs": [],
   "source": [
    "import random\n",
    "\n",
    "nevents = 3\n",
    "\n",
    "fname = 'data2.txt'\n",
    "with open(fname,'w') as f:\n",
    "    for i in range(nevents):\n",
    "        measurements = [ random.random() for j in range(10) ]\n",
    "        f.writelines(\"%.3f\\t\"%val for val in measurements)\n",
    "        f.write('\\n')"
   ]
  },
  {
   "cell_type": "markdown",
   "metadata": {},
   "source": [
    "which can be further reduced"
   ]
  },
  {
   "cell_type": "code",
   "execution_count": 49,
   "metadata": {},
   "outputs": [],
   "source": [
    "import random\n",
    "\n",
    "nevents = 3\n",
    "\n",
    "fname = 'data2.txt'\n",
    "with open(fname,'w') as f:\n",
    "    for i in range(nevents):\n",
    "        f.writelines(\"%.3f\\t\"%val for val in [ random.random() for j in range(10) ] )\n",
    "        f.write('\\n')\n"
   ]
  },
  {
   "cell_type": "markdown",
   "metadata": {},
   "source": [
    "## Input from file\n",
    "\n",
    "A file can be read in a single string and then split into lines and columns. "
   ]
  },
  {
   "cell_type": "code",
   "execution_count": 50,
   "metadata": {
    "scrolled": true
   },
   "outputs": [
    {
     "name": "stdout",
     "output_type": "stream",
     "text": [
      "0.520\t0.666\t0.448\t0.425\t0.540\t0.792\t0.076\t0.134\t0.522\t0.663\t\n",
      "0.055\t0.315\t0.623\t0.555\t0.567\t0.465\t0.651\t0.105\t0.017\t0.149\t\n",
      "0.936\t0.860\t0.257\t0.487\t0.362\t0.913\t0.381\t0.399\t0.349\t0.268\t\n",
      "\n",
      "['0.520', '0.666', '0.448', '0.425', '0.540', '0.792', '0.076', '0.134', '0.522', '0.663', '0.055', '0.315', '0.623', '0.555', '0.567', '0.465', '0.651', '0.105', '0.017', '0.149', '0.936', '0.860', '0.257', '0.487', '0.362', '0.913', '0.381', '0.399', '0.349', '0.268']\n"
     ]
    }
   ],
   "source": [
    "fname = 'data2.txt'\n",
    "\n",
    "f = open(fname)\n",
    "file = f.read()\n",
    "print(file)\n",
    "\n",
    "vals = file.split()\n",
    "print(vals)"
   ]
  },
  {
   "cell_type": "markdown",
   "metadata": {},
   "source": [
    "You could also read the file as a list of iines, each line marked by a newline `\\n`"
   ]
  },
  {
   "cell_type": "code",
   "execution_count": 51,
   "metadata": {},
   "outputs": [
    {
     "name": "stdout",
     "output_type": "stream",
     "text": [
      "['0.520\\t0.666\\t0.448\\t0.425\\t0.540\\t0.792\\t0.076\\t0.134\\t0.522\\t0.663\\t\\n', '0.055\\t0.315\\t0.623\\t0.555\\t0.567\\t0.465\\t0.651\\t0.105\\t0.017\\t0.149\\t\\n', '0.936\\t0.860\\t0.257\\t0.487\\t0.362\\t0.913\\t0.381\\t0.399\\t0.349\\t0.268\\t\\n']\n"
     ]
    }
   ],
   "source": [
    "fname = 'data2.txt'\n",
    "lines = [l for l in open(fname)]\n",
    "print(lines)"
   ]
  },
  {
   "cell_type": "markdown",
   "metadata": {},
   "source": [
    "However you note that you have `\\t` and `\\n` as part of the strigf being read in! Fixing this is easy"
   ]
  },
  {
   "cell_type": "code",
   "execution_count": 52,
   "metadata": {},
   "outputs": [
    {
     "name": "stdout",
     "output_type": "stream",
     "text": [
      "['0.520\\t0.666\\t0.448\\t0.425\\t0.540\\t0.792\\t0.076\\t0.134\\t0.522\\t0.663', '0.055\\t0.315\\t0.623\\t0.555\\t0.567\\t0.465\\t0.651\\t0.105\\t0.017\\t0.149', '0.936\\t0.860\\t0.257\\t0.487\\t0.362\\t0.913\\t0.381\\t0.399\\t0.349\\t0.268']\n"
     ]
    }
   ],
   "source": [
    "fname = 'data2.txt'\n",
    "lines = [l.strip() for l in open(fname)]\n",
    "print(lines)"
   ]
  },
  {
   "cell_type": "markdown",
   "metadata": {},
   "source": [
    "this has removed the `\\n`. We now split each line using `\\t` as the separator"
   ]
  },
  {
   "cell_type": "code",
   "execution_count": 55,
   "metadata": {},
   "outputs": [
    {
     "name": "stdout",
     "output_type": "stream",
     "text": [
      "[['0.520', '0.666', '0.448', '0.425', '0.540', '0.792', '0.076', '0.134', '0.522', '0.663'], ['0.055', '0.315', '0.623', '0.555', '0.567', '0.465', '0.651', '0.105', '0.017', '0.149'], ['0.936', '0.860', '0.257', '0.487', '0.362', '0.913', '0.381', '0.399', '0.349', '0.268']]\n",
      "[['0.936', '0.860', '0.257', '0.487', '0.362', '0.913', '0.381', '0.399', '0.349', '0.268']]\n"
     ]
    }
   ],
   "source": [
    "fname = 'data2.txt'\n",
    "lines = [l.strip() for l in open(fname)]\n",
    "data = [ l.split('\\t') for l in lines ]\n",
    "print(data)\n",
    "print(data[2:])"
   ]
  },
  {
   "cell_type": "markdown",
   "metadata": {},
   "source": [
    "even more concisely"
   ]
  },
  {
   "cell_type": "code",
   "execution_count": 56,
   "metadata": {},
   "outputs": [
    {
     "name": "stdout",
     "output_type": "stream",
     "text": [
      "[['0.520', '0.666', '0.448', '0.425', '0.540', '0.792', '0.076', '0.134', '0.522', '0.663'], ['0.055', '0.315', '0.623', '0.555', '0.567', '0.465', '0.651', '0.105', '0.017', '0.149'], ['0.936', '0.860', '0.257', '0.487', '0.362', '0.913', '0.381', '0.399', '0.349', '0.268']]\n"
     ]
    }
   ],
   "source": [
    "fname = 'data2.txt'\n",
    "data = [ l.split('\\t') for l in [line.strip() for line in open(fname)] ]\n",
    "print(data)"
   ]
  },
  {
   "cell_type": "markdown",
   "metadata": {},
   "source": [
    "### exercise\n",
    "- change the separator and use `,` or `:` to store and read back data files"
   ]
  },
  {
   "cell_type": "markdown",
   "metadata": {},
   "source": [
    "## Storing Lists, Dicts, and Tuples\n",
    "\n",
    "As you have seen with the example above, there is no automatic writing of objects. So for a dictionary you need to take care of formatting the output file. "
   ]
  },
  {
   "cell_type": "code",
   "execution_count": 61,
   "metadata": {},
   "outputs": [],
   "source": [
    "import random\n",
    "\n",
    "datum = {'val':-1.1, 'err':0.2}\n",
    "\n",
    "fname = 'data4.txt'\n",
    "\n",
    "with open(fname,'w') as f:\n",
    "    f.writelines(\"%s\\t\"%v for v in datum.keys())\n",
    "    f.write('\\n')\n",
    "    for i in range(10):\n",
    "        datum['val'] = random.uniform(-3.,3.)\n",
    "        datum['err'] = random.normalvariate(0., 0.2)\n",
    "        f.writelines(\"%.3f\\t\"%val for val in datum.values() )\n",
    "        f.write('\\n')\n"
   ]
  },
  {
   "cell_type": "markdown",
   "metadata": {},
   "source": [
    "### Exercise\n",
    "- use a dictionary to store data for 3 keys of different type\n",
    "- store 100 dictionary instances in file\n",
    "- read back and populate dictionary objects from file"
   ]
  },
  {
   "cell_type": "markdown",
   "metadata": {},
   "source": [
    "## Storing NumPy objects\n",
    "\n",
    "NumPy provides built-in functions to easily store and read ndarrays in binary and text format  without iterating over each element"
   ]
  },
  {
   "cell_type": "code",
   "execution_count": 74,
   "metadata": {},
   "outputs": [],
   "source": [
    "import numpy as np\n",
    "import os\n",
    "\n",
    "matrix = np.random.randn(100,10)\n",
    "\n",
    "fname = 'npdata1'\n",
    "np.save(fname+'.npy', matrix)\n",
    "np.savetxt(fname+'.txt', matrix)\n"
   ]
  },
  {
   "cell_type": "markdown",
   "metadata": {},
   "source": [
    "Reading the file is also simple with `load()`"
   ]
  },
  {
   "cell_type": "code",
   "execution_count": 75,
   "metadata": {},
   "outputs": [
    {
     "name": "stdout",
     "output_type": "stream",
     "text": [
      "(100, 10)\n",
      "[[ 1.49193655  0.86816299 -1.01754419  0.53341083 -1.67983499  2.1464185\n",
      "   1.3642971   0.24185052 -0.10550519 -0.86854152]]\n"
     ]
    }
   ],
   "source": [
    "vals = np.load(fname+'.npy')\n",
    "\n",
    "print(vals.shape)\n",
    "print(vals[:1,])"
   ]
  },
  {
   "cell_type": "markdown",
   "metadata": {},
   "source": [
    "The [Python Data Analysis Library (pandas)](http://pandas.pydata.org) provides even more efficient tools and data formats to handle data for analysis and their storage to file."
   ]
  },
  {
   "cell_type": "markdown",
   "metadata": {},
   "source": [
    "## Data storage with pickle and JSON \n",
    "\n",
    "With NumPy we saw the first example of using the binary format to easy store an array.\n",
    "\n",
    "Previously we had oly saved data in text files by iterating over elements of lists and dictionaries.\n",
    "\n",
    "Python provides a built-in [pickle]() library for easy storage of lists and other built-in python objects in binary format. "
   ]
  },
  {
   "cell_type": "code",
   "execution_count": 105,
   "metadata": {
    "scrolled": true
   },
   "outputs": [
    {
     "data": {
      "text/plain": [
       "['npdata1.npy',\n",
       " 'pickle1.data',\n",
       " 'lec28.ipynb',\n",
       " 'examples',\n",
       " '.ipynb_checkpoints',\n",
       " 'data1.txt',\n",
       " 'data2.txt',\n",
       " 'npdata1.txt',\n",
       " 'data.txt',\n",
       " 'data4.txt']"
      ]
     },
     "execution_count": 105,
     "metadata": {},
     "output_type": "execute_result"
    }
   ],
   "source": [
    "import random\n",
    "import pickle\n",
    "import os\n",
    "\n",
    "datum = {'val':-1.1, 'err':0.2}\n",
    "\n",
    "fname = 'pickle1.data'\n",
    "with open(fname,'wb') as f:\n",
    "    pickle.dump(datum,f)\n",
    "\n",
    "os.listdir()"
   ]
  },
  {
   "cell_type": "markdown",
   "metadata": {},
   "source": [
    "Readig back is also easy"
   ]
  },
  {
   "cell_type": "code",
   "execution_count": 106,
   "metadata": {},
   "outputs": [
    {
     "name": "stdout",
     "output_type": "stream",
     "text": [
      "{'val': -1.1, 'err': 0.2}\n"
     ]
    }
   ],
   "source": [
    "\n",
    "fname = 'pickle1.data'\n",
    "with open(fname,'rb') as f:\n",
    "    indata = pickle.load(f)\n",
    "\n",
    "print(indata)\n"
   ]
  },
  {
   "cell_type": "markdown",
   "metadata": {},
   "source": [
    "## JSON \n",
    "\n",
    "However, a commonly used format for data storage that is cross platform and cross language is [JSON (JavaScript Object Notation](https://www.json.org).\n",
    "\n",
    "The JSON librray in python allows you to convert python objects (including your custom classes) into JSON for storage.\n",
    "\n",
    "Converting or enconding an object into JSON is commonly called **serialization**. Converting from JSON to python objects is referred to as **deserialization**. For  more details and introduction see this nice webpage on [working with JSON](https://realpython.com/python-json/). \n",
    "\n",
    "Here is an example of dictionary and list stored in JSON files.\n",
    "\n",
    "There are two functions commonly used\n",
    "- `dump()`: convert an object into JSON and possibly write to file\n",
    "- `dumps()` note the extra **s**: converto to JSON string but cannot interact with file\n",
    "The two functions are identical except for the file interaction."
   ]
  },
  {
   "cell_type": "code",
   "execution_count": 120,
   "metadata": {
    "scrolled": true
   },
   "outputs": [
    {
     "name": "stdout",
     "output_type": "stream",
     "text": [
      "{\"val\": -1.1, \"err\": 0.2}\n",
      "[0, 1, 2, 3, 4, 5, 6, 7, 8, 9]\n"
     ]
    },
    {
     "data": {
      "text/plain": [
       "['npdata1.npy',\n",
       " 'pickle1.data',\n",
       " 'lec28.ipynb',\n",
       " 'data.json',\n",
       " 'examples',\n",
       " '.ipynb_checkpoints',\n",
       " 'data1.txt',\n",
       " 'data2.txt',\n",
       " 'npdata1.txt',\n",
       " 'data.txt',\n",
       " 'data4.txt']"
      ]
     },
     "execution_count": 120,
     "metadata": {},
     "output_type": "execute_result"
    }
   ],
   "source": [
    "import json\n",
    "import os\n",
    "\n",
    "datum = {'val':-1.1, 'err':0.2}\n",
    "\n",
    "x = json.dumps(datum)\n",
    "print(x)\n",
    "\n",
    "data = [z for z in range(10)]\n",
    "y = json.dumps(data)\n",
    "\n",
    "print(y)\n",
    "\n",
    "with open('data.json','w') as of:\n",
    "    json.dump([datum, data], of)\n",
    " \n",
    "os.listdir()"
   ]
  },
  {
   "cell_type": "markdown",
   "metadata": {},
   "source": [
    "Now we read back or deserialize the data from file"
   ]
  },
  {
   "cell_type": "code",
   "execution_count": 122,
   "metadata": {
    "scrolled": true
   },
   "outputs": [
    {
     "name": "stdout",
     "output_type": "stream",
     "text": [
      "[{'val': -1.1, 'err': 0.2}, [0, 1, 2, 3, 4, 5, 6, 7, 8, 9]]\n",
      "{'val': -1.1, 'err': 0.2} [0, 1, 2, 3, 4, 5, 6, 7, 8, 9]\n"
     ]
    }
   ],
   "source": [
    "with open('data.json') as infile:\n",
    "    indata = json.load(infile)\n",
    "print(indata)\n",
    "datum = indata[0]\n",
    "data = indata[1]\n",
    "print(datum, data)"
   ]
  },
  {
   "cell_type": "markdown",
   "metadata": {},
   "source": [
    "# Functions with arbitrary number of arguments\n",
    "\n",
    "As you have seen, `print()` function can have a variable number of arguments. The same behaviour can easily be defined for any custom defined function for both positioal and keyword arguments\n",
    "\n",
    "## positional arguments\n",
    "\n",
    "Additional arguments are taken via the special `*arg` argument which is a tuple of additional positional arguments"
   ]
  },
  {
   "cell_type": "code",
   "execution_count": 146,
   "metadata": {},
   "outputs": [
    {
     "name": "stdout",
     "output_type": "stream",
     "text": [
      "positional arguments: 1.1 ()\n",
      "positional arguments: ciao ()\n",
      "positional arguments: -0.2 (0.3, 'ciao')\n",
      "[0.3]\t\n",
      "[ciao]\t\n",
      "\n",
      "\n",
      "positional arguments: -0.2 (0.3, 'ciao', 'hello', -2, 100)\n",
      "[0.3]\t\n",
      "[ciao]\t\n",
      "[hello]\t\n",
      "[-2]\t\n",
      "[100]\t\n",
      "\n",
      "\n"
     ]
    }
   ],
   "source": [
    "def myfunc(a, *arg):\n",
    "    print(\"positional arguments: %s %s\"%(a,arg))\n",
    "    if len(arg):\n",
    "        for x in arg:\n",
    "            print('[%s]\\t'%x)\n",
    "        print('\\n')\n",
    "\n",
    "myfunc(1.1)\n",
    "myfunc('ciao')\n",
    "myfunc(-0.2, 0.3, 'ciao')\n",
    "myfunc(-0.2, 0.3, 'ciao', 'hello', -2, 100)"
   ]
  },
  {
   "cell_type": "markdown",
   "metadata": {},
   "source": [
    "## keyword arguments\n",
    "\n",
    "For optional keyword arguments the `**kargs` feature is used"
   ]
  },
  {
   "cell_type": "code",
   "execution_count": 147,
   "metadata": {},
   "outputs": [
    {
     "name": "stdout",
     "output_type": "stream",
     "text": [
      "a: 0.1\n",
      "keyword arguments: 0.0 0.1 {}\n",
      "a: 0.3\n",
      "keyword arguments: 0.0 0.5 {}\n",
      "a: 0.3\n",
      "keyword arguments: 0.0 0.1 {'color': 'red'}\n",
      "[color]\t\n",
      "\n",
      "\n",
      "a: 0.3\n",
      "keyword arguments: 0.6 0.1 {'color': 'red'}\n",
      "[color]\t\n",
      "\n",
      "\n"
     ]
    }
   ],
   "source": [
    "def myf2(a,mu=0.0, sig=0.1, **karg):\n",
    "    print(\"a: %s\"%(a))\n",
    "    print(\"keyword arguments: %s %s %s\"%(mu,sig,karg))\n",
    "    if len(karg):\n",
    "        for x in karg:\n",
    "            print('[%s]\\t'%x)\n",
    "            \n",
    "        print('\\n')\n",
    "myf2(0.1)\n",
    "myf2(0.3, sig=0.5)\n",
    "myf2(0.3, color='red')\n",
    "myf2(0.3, color='red', mu=0.6)"
   ]
  },
  {
   "cell_type": "markdown",
   "metadata": {},
   "source": [
    "The additional keyword arguments are stored as a dictionary."
   ]
  },
  {
   "cell_type": "code",
   "execution_count": 148,
   "metadata": {},
   "outputs": [
    {
     "name": "stdout",
     "output_type": "stream",
     "text": [
      "a: 0.1\n",
      "keyword arguments: 0.0 0.1 {}\n",
      "a: 0.3\n",
      "keyword arguments: 0.6 0.1 {'color': 'red'}\n",
      "[color = red]\t\n",
      "\n",
      "\n"
     ]
    }
   ],
   "source": [
    "def myf3(a,mu=0.0, sig=0.1, **karg):\n",
    "    print(\"a: %s\"%(a))\n",
    "    print(\"keyword arguments: %s %s %s\"%(mu,sig,karg))\n",
    "    if len(karg):\n",
    "        for x in karg.keys():\n",
    "            print('[%s = %s]\\t'%(x, karg[x]))\n",
    "        print('\\n')\n",
    "myf3(0.1)\n",
    "myf3(0.3, color='red', mu=0.6)"
   ]
  },
  {
   "cell_type": "markdown",
   "metadata": {},
   "source": [
    "You can also combine both positional and keyword arguments for the most generic function"
   ]
  },
  {
   "cell_type": "code",
   "execution_count": 164,
   "metadata": {},
   "outputs": [
    {
     "name": "stdout",
     "output_type": "stream",
     "text": [
      "function called\n",
      "positional a: -0.1 ()\n",
      "keyword: 0.0 0.1 {}\n",
      "\n",
      "\n",
      "function called\n",
      "positional a: -0.1 (10.1,)\n",
      "[10.1]\t\n",
      "\n",
      "\n",
      "keyword: 0.0 0.1 {}\n",
      "\n",
      "\n",
      "function called\n",
      "positional a: -0.1 ()\n",
      "keyword: 10.1 0.1 {}\n",
      "\n",
      "\n"
     ]
    }
   ],
   "source": [
    "def myf4(a,*arg, mu=0.0, sig=0.1, **karg):\n",
    "    print(\"function called\")\n",
    "    print(\"positional a: %s %s\"%(a,arg))\n",
    "    if len(arg):\n",
    "        for x in arg:\n",
    "            print('[%s]\\t'%x)\n",
    "        print('\\n')\n",
    "    print(\"keyword: %s %s %s\"%(mu,sig,karg))    \n",
    "    if len(karg):\n",
    "        for x in karg.keys():\n",
    "            print('[%s = %s]\\t'%(x, karg[x]))\n",
    "        print('\\n')\n",
    "    print('\\n')\n",
    "myf4(-0.1)\n",
    "myf4(-0.1,10.1)\n",
    "myf4(-0.1,mu=10.1)"
   ]
  },
  {
   "cell_type": "code",
   "execution_count": 165,
   "metadata": {},
   "outputs": [
    {
     "name": "stdout",
     "output_type": "stream",
     "text": [
      "function called\n",
      "positional a: 0.3 ('x', 'y', 0.9)\n",
      "[x]\t\n",
      "[y]\t\n",
      "[0.9]\t\n",
      "\n",
      "\n",
      "keyword: 0.6 0.1 {'color': 'red', 'thick': 1.1, 'fill': 'true'}\n",
      "[color = red]\t\n",
      "[thick = 1.1]\t\n",
      "[fill = true]\t\n",
      "\n",
      "\n",
      "\n",
      "\n"
     ]
    }
   ],
   "source": [
    "myf4(0.3,'x','y', 0.9, color='red', mu=0.6, thick=1.1, fill='true')"
   ]
  },
  {
   "cell_type": "markdown",
   "metadata": {},
   "source": [
    "## Command line arguments for python programs\n",
    "\n",
    "The sys module gives easy access to command line arguments as a list. An example is in [app1.py](examples/app1.py)"
   ]
  },
  {
   "cell_type": "code",
   "execution_count": null,
   "metadata": {},
   "outputs": [],
   "source": [
    "# %load examples/app1.py\n",
    "import sys, os\n",
    "\n",
    "print(\"Running \"+__file__)\n",
    "\n",
    "print(\"Running \"+os.path.basename(__file__))\n",
    "\n",
    "\n",
    "print(\"program called with %d arguments\"%len(sys.argv))\n",
    "\n",
    "for a in sys.argv:\n",
    "    print(a)\n"
   ]
  }
 ],
 "metadata": {
  "kernelspec": {
   "display_name": "Python 3",
   "language": "python",
   "name": "python3"
  },
  "language_info": {
   "codemirror_mode": {
    "name": "ipython",
    "version": 3
   },
   "file_extension": ".py",
   "mimetype": "text/x-python",
   "name": "python",
   "nbconvert_exporter": "python",
   "pygments_lexer": "ipython3",
   "version": "3.7.0"
  }
 },
 "nbformat": 4,
 "nbformat_minor": 2
}
