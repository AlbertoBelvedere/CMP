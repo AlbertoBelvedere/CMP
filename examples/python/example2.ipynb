{
 "cells": [
  {
   "cell_type": "markdown",
   "metadata": {},
   "source": [
    "# Text cells with Markdown\n",
    "\n",
    "\n",
    "This cell contains text.\n",
    "\n",
    "You can use Markdown commands for formatting\n",
    "\n",
    "# Header 1\n",
    "\n",
    "## header 2\n",
    "\n",
    "### header 3\n",
    "\n",
    "unordered list\n",
    "  - Function\n",
    "    - Gauss\n",
    "    - Line\n",
    "    - Poly\n",
    "  - Integrator\n",
    "    - MC method\n",
    "    - Simpson\n",
    "    - Rectangles\n",
    "    \n",
    "I usually use this [short and complete summary](https://github.com/adam-p/markdown-here/wiki/Markdown-Cheatsheet)\n",
    "of Markdown syntax to write these lectures.\n"
   ]
  },
  {
   "cell_type": "markdown",
   "metadata": {},
   "source": [
    "# `example1` with jupyter\n",
    "\n",
    "We now redo our [example1.py](example1.py) interactively with jupyter. \n",
    "\n",
    "In order to use the notebook interactively, you must\n",
    "  1. download this file [example2.ipynb](example2.ipynb)\n",
    "  2. open it with jupyter from commands line: `jupyter notebook example2.ipynb`\n"
   ]
  },
  {
   "cell_type": "code",
   "execution_count": 2,
   "metadata": {},
   "outputs": [],
   "source": [
    "a = -2.11\n",
    "b = 4.5\n",
    "c = a/b"
   ]
  },
  {
   "cell_type": "markdown",
   "metadata": {},
   "source": [
    "Now you can use the previous variables and continue with your program\n",
    "\n",
    "To execuate a cell (code or text) click on `Run` in the top menu or press `Shift + Return`"
   ]
  },
  {
   "cell_type": "code",
   "execution_count": 3,
   "metadata": {},
   "outputs": [
    {
     "name": "stdout",
     "output_type": "stream",
     "text": [
      "-2.11 4.5 -0.46888888888888886\n"
     ]
    }
   ],
   "source": [
    "# plain print\n",
    "print (a,b,c)"
   ]
  },
  {
   "cell_type": "code",
   "execution_count": 4,
   "metadata": {},
   "outputs": [
    {
     "name": "stdout",
     "output_type": "stream",
     "text": [
      "c = a/b =  -0.46888888888888886\n"
     ]
    }
   ],
   "source": [
    "#plain print of more variables\n",
    "print('c = a/b = ', c)"
   ]
  },
  {
   "cell_type": "code",
   "execution_count": 5,
   "metadata": {},
   "outputs": [
    {
     "name": "stdout",
     "output_type": "stream",
     "text": [
      "a = -2.11, b = 4.5, c = -0.46888888888888886\n"
     ]
    }
   ],
   "source": [
    "#print using ''\n",
    "print('a = {0}, b = {1}, c = {2}'.format( a, b, c) )\n"
   ]
  },
  {
   "cell_type": "markdown",
   "metadata": {},
   "source": [
    "In the above we are treating `'a = {0}, b = {1}, c = {2}'` as an object by applying the `format()` method to it.\n",
    "\n",
    "\n",
    "__NB__: the output with `print` is a bit diffrent than with interactive python from command line.  "
   ]
  },
  {
   "cell_type": "markdown",
   "metadata": {},
   "source": [
    "# Interactive help\n",
    "\n",
    "You can invoke the inline help by using `?` with any object"
   ]
  },
  {
   "cell_type": "code",
   "execution_count": 9,
   "metadata": {},
   "outputs": [],
   "source": [
    "c?\n",
    "print?"
   ]
  },
  {
   "cell_type": "code",
   "execution_count": 11,
   "metadata": {},
   "outputs": [],
   "source": [
    "x = \"hello all!\"\n",
    "x?\n"
   ]
  },
  {
   "cell_type": "markdown",
   "metadata": {},
   "source": [
    "## Iteration in Python\n",
    "\n",
    "the `for` loop uses the `range(a,b,s)` function to generate values from `a` to `b` (excluded) with steps of `s`."
   ]
  },
  {
   "cell_type": "code",
   "execution_count": 40,
   "metadata": {},
   "outputs": [
    {
     "name": "stdout",
     "output_type": "stream",
     "text": [
      "i = 0\n",
      "i = 3\n",
      "i = 6\n",
      "i = 9\n",
      "i = 12\n",
      "i = 15\n",
      "i = 18\n",
      "after the loop: i = 18\n"
     ]
    }
   ],
   "source": [
    "for i in  range(0,20,3):\n",
    "    print(\"i = {0}\".format(i))\n",
    "\n",
    "print(\"after the loop: i = {0}\".format(i))   "
   ]
  },
  {
   "cell_type": "markdown",
   "metadata": {},
   "source": [
    "##  math library\n",
    "\n",
    "All usual mathematical functions are in the `math` module. We will look more in details on how modules work in the next lectures."
   ]
  },
  {
   "cell_type": "code",
   "execution_count": 41,
   "metadata": {},
   "outputs": [
    {
     "data": {
      "text/plain": [
       "4.242640687119285"
      ]
     },
     "execution_count": 41,
     "metadata": {},
     "output_type": "execute_result"
    }
   ],
   "source": [
    "import math\n",
    "x = math.sqrt(i)\n",
    "x"
   ]
  },
  {
   "cell_type": "markdown",
   "metadata": {},
   "source": [
    "Note that the `sqrt` function belongs to the `math` namespace so you need to explicitly use `math.sqrt()`"
   ]
  },
  {
   "cell_type": "code",
   "execution_count": 42,
   "metadata": {},
   "outputs": [
    {
     "name": "stdout",
     "output_type": "stream",
     "text": [
      "0.01436959609043909\n"
     ]
    }
   ],
   "source": [
    "print( math.exp(-x) )"
   ]
  },
  {
   "cell_type": "code",
   "execution_count": 43,
   "metadata": {},
   "outputs": [
    {
     "name": "stdout",
     "output_type": "stream",
     "text": [
      "3.141592653589793\n"
     ]
    }
   ],
   "source": [
    "print(math.pi)"
   ]
  },
  {
   "cell_type": "markdown",
   "metadata": {},
   "source": [
    "For additional information about math module you can use the inline command."
   ]
  },
  {
   "cell_type": "code",
   "execution_count": 44,
   "metadata": {},
   "outputs": [],
   "source": [
    "math.pi?"
   ]
  },
  {
   "cell_type": "code",
   "execution_count": 45,
   "metadata": {},
   "outputs": [],
   "source": [
    "math?"
   ]
  },
  {
   "cell_type": "markdown",
   "metadata": {},
   "source": [
    "## Plotting with `mathplotlib`\n",
    "\n",
    "The `matplotlib` provides numerous plotting functionalities. We will explore this module in several examples.\n",
    "jupyter allows us to use the plots interactively by invoking the magic command `%matplotlib inline` ."
   ]
  },
  {
   "cell_type": "code",
   "execution_count": 46,
   "metadata": {},
   "outputs": [
    {
     "data": {
      "text/plain": [
       "[<matplotlib.lines.Line2D at 0x11a9c7ef0>]"
      ]
     },
     "execution_count": 46,
     "metadata": {},
     "output_type": "execute_result"
    },
    {
     "data": {
      "image/png": "[encoded data removed]",
      "text/plain": [
       "<Figure size 432x288 with 1 Axes>"
      ]
     },
     "metadata": {
      "needs_background": "light"
     },
     "output_type": "display_data"
    }
   ],
   "source": [
    "import matplotlib.pyplot as plt\n",
    "%matplotlib inline\n",
    "plt.plot( range(3,100,3))"
   ]
  }
 ],
 "metadata": {
  "kernelspec": {
   "display_name": "Python 3",
   "language": "python",
   "name": "python3"
  },
  "language_info": {
   "codemirror_mode": {
    "name": "ipython",
    "version": 3
   },
   "file_extension": ".py",
   "mimetype": "text/x-python",
   "name": "python",
   "nbconvert_exporter": "python",
   "pygments_lexer": "ipython3",
   "version": "3.7.0"
  }
 },
 "nbformat": 4,
 "nbformat_minor": 2
}
