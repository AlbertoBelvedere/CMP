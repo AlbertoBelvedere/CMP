{
 "cells": [
  {
   "cell_type": "markdown",
   "metadata": {},
   "source": [
    "# Text cells with Markdown\n",
    "\n",
    "\n",
    "This cell contains text.\n",
    "\n",
    "You can use Markdown commands for formatting\n",
    "\n",
    "# Header 1\n",
    "\n",
    "## header 2\n",
    "\n",
    "### header 3\n",
    "\n",
    "unordered list\n",
    "  - Function\n",
    "    - Gauss\n",
    "    - Line\n",
    "    - Poly\n",
    "  - Integrator\n",
    "    - MC method\n",
    "    - Simpson\n",
    "       - parameters\n",
    "    - Rectangles\n",
    "    \n",
    "I usually use this [short and complete summary](https://github.com/adam-p/markdown-here/wiki/Markdown-Cheatsheet)\n",
    "of Markdown syntax to write these lectures.\n",
    "\n",
    "You can also write Latex symbols for mathematical expressions\n",
    "- $E = mc^2$\n",
    "- $N = \\sigma \\cdot n_b \\cdot \\delta \\cdot \\Delta t$\n",
    "- $\\frac{df(x,y)}{dx} = g(x,y)$\n"
   ]
  },
  {
   "cell_type": "markdown",
   "metadata": {},
   "source": [
    "# First example with jupyter\n",
    "\n",
    "We now redo our [example1.py](example1.py) interactively with jupyter. \n",
    "\n",
    "In order to use the notebook interactively, you must\n",
    "  1. download this file [example2.ipynb](example2.ipynb). If you need help, see the [instructions](https://github.com/rahatlou/CMP/blob/CMP2020/material/python.md#downloading-a-jupyter-notebook)\n",
    "  1. open it with jupyter from commands line: `jupyter notebook example2.ipynb`\n"
   ]
  },
  {
   "cell_type": "code",
   "execution_count": null,
   "metadata": {},
   "outputs": [],
   "source": [
    "a = -2.11\n",
    "b = 4.5\n",
    "c = a/b"
   ]
  },
  {
   "cell_type": "markdown",
   "metadata": {},
   "source": [
    "Now you can use the previous variables and continue with your program\n",
    "\n",
    "To execuate a cell (code or text) click on `Run` in the top menu or press `Shift + Return`"
   ]
  },
  {
   "cell_type": "code",
   "execution_count": null,
   "metadata": {},
   "outputs": [],
   "source": [
    "# plain print\n",
    "print (a,b,c)"
   ]
  },
  {
   "cell_type": "code",
   "execution_count": null,
   "metadata": {},
   "outputs": [],
   "source": [
    "#plain print of more variables\n",
    "print('c = a/b = ', c)"
   ]
  },
  {
   "cell_type": "code",
   "execution_count": null,
   "metadata": {},
   "outputs": [],
   "source": [
    "#print using ''\n",
    "print('a = {0}, b = {1}, c = {2}'.format( a, b, c) )\n"
   ]
  },
  {
   "cell_type": "markdown",
   "metadata": {},
   "source": [
    "In the above we are treating `'a = {0}, b = {1}, c = {2}'` as an object by applying the `format()` method to it.\n",
    "\n",
    "\n",
    "__NB__: the output with `print` is a bit diffrent than with interactive python from command line. \n",
    "\n",
    "Finally we can also use the C-like `printf` format"
   ]
  },
  {
   "cell_type": "code",
   "execution_count": null,
   "metadata": {},
   "outputs": [],
   "source": [
    "print('a = %.3f, b = %.3g, c = %2.4g'%(a,b,c))"
   ]
  },
  {
   "cell_type": "markdown",
   "metadata": {},
   "source": [
    "# Interactive help\n",
    "\n",
    "You can invoke the inline help by using `?` with any object"
   ]
  },
  {
   "cell_type": "code",
   "execution_count": null,
   "metadata": {},
   "outputs": [],
   "source": [
    "c?\n",
    "print?"
   ]
  },
  {
   "cell_type": "code",
   "execution_count": null,
   "metadata": {},
   "outputs": [],
   "source": [
    "x = \"hello all!\"\n",
    "x?\n"
   ]
  },
  {
   "cell_type": "markdown",
   "metadata": {},
   "source": [
    "## Iteration in Python\n",
    "\n",
    "the `for` loop uses the `range(a,b,s)` function to generate values from `a` to `b` (excluded) with steps of `s`."
   ]
  },
  {
   "cell_type": "code",
   "execution_count": null,
   "metadata": {},
   "outputs": [],
   "source": [
    "for i in  range(0,20,3):\n",
    "    print(\"i = {0}\".format(i))\n",
    "\n",
    "print(\"after the loop: i = {0}\".format(i))   "
   ]
  },
  {
   "cell_type": "markdown",
   "metadata": {},
   "source": [
    "##  math library\n",
    "\n",
    "All usual mathematical functions are in the `math` module. We will look more in details on how modules work in the next lectures."
   ]
  },
  {
   "cell_type": "code",
   "execution_count": null,
   "metadata": {},
   "outputs": [],
   "source": [
    "import math\n",
    "x = math.sqrt(i)\n",
    "x"
   ]
  },
  {
   "cell_type": "markdown",
   "metadata": {},
   "source": [
    "Note that the `sqrt` function belongs to the `math` namespace so you need to explicitly use `math.sqrt()`"
   ]
  },
  {
   "cell_type": "code",
   "execution_count": null,
   "metadata": {},
   "outputs": [],
   "source": [
    "print( math.exp(-x) )"
   ]
  },
  {
   "cell_type": "code",
   "execution_count": null,
   "metadata": {},
   "outputs": [],
   "source": [
    "print(math.pi)"
   ]
  },
  {
   "cell_type": "markdown",
   "metadata": {},
   "source": [
    "For additional information about math module you can use the inline command."
   ]
  },
  {
   "cell_type": "code",
   "execution_count": null,
   "metadata": {},
   "outputs": [],
   "source": [
    "math.pi?"
   ]
  },
  {
   "cell_type": "code",
   "execution_count": null,
   "metadata": {},
   "outputs": [],
   "source": [
    "math?"
   ]
  },
  {
   "cell_type": "markdown",
   "metadata": {},
   "source": [
    "## Redce typing math\n",
    "\n",
    "you can import object from an existing namespace `math` to a new local namespace `m`"
   ]
  },
  {
   "cell_type": "code",
   "execution_count": null,
   "metadata": {},
   "outputs": [],
   "source": [
    "import math as m\n",
    "print(m.cos(m.pi))"
   ]
  },
  {
   "cell_type": "code",
   "execution_count": null,
   "metadata": {},
   "outputs": [],
   "source": [
    "theta = m.pi/4\n",
    "print(\"theta in rad: \", theta)\n",
    "print(\"theta degrees: \", 180*theta/m.pi)"
   ]
  },
  {
   "cell_type": "code",
   "execution_count": null,
   "metadata": {},
   "outputs": [],
   "source": [
    "print(\"theta: \", m.degrees(theta))"
   ]
  },
  {
   "cell_type": "markdown",
   "metadata": {},
   "source": [
    "## Plotting with `mathplotlib`\n",
    "\n",
    "The `matplotlib` provides numerous plotting functionalities. We will explore this module in several examples.\n",
    "jupyter allows us to use the plots interactively by invoking the magic command `%matplotlib inline` ."
   ]
  },
  {
   "cell_type": "code",
   "execution_count": null,
   "metadata": {},
   "outputs": [],
   "source": [
    "import matplotlib.pyplot as plt\n",
    "\n",
    "# you need this online to show the plot in jupyter. Not needed in plain python\n",
    "%matplotlib notebook \n",
    "\n",
    "# define your data\n",
    "x= [1,2,3,4,5,6]\n",
    "y = x\n",
    "\n",
    "z = [i**3 for i in x]\n",
    "\n",
    "plt.plot(x,y, marker='o',label=\"sample 1\")\n",
    "plt.plot(x,z, marker='^',label=\"sample 2\", color='red')\n",
    "\n",
    "\n",
    "plt.legend()"
   ]
  },
  {
   "cell_type": "code",
   "execution_count": null,
   "metadata": {},
   "outputs": [],
   "source": []
  }
 ],
 "metadata": {
  "kernelspec": {
   "display_name": "Python 3",
   "language": "python",
   "name": "python3"
  },
  "language_info": {
   "codemirror_mode": {
    "name": "ipython",
    "version": 3
   },
   "file_extension": ".py",
   "mimetype": "text/x-python",
   "name": "python",
   "nbconvert_exporter": "python",
   "pygments_lexer": "ipython3",
   "version": "3.7.6"
  }
 },
 "nbformat": 4,
 "nbformat_minor": 2
}
