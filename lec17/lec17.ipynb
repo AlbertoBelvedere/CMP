{
 "cells": [
  {
   "cell_type": "markdown",
   "metadata": {
    "slideshow": {
     "slide_type": "slide"
    }
   },
   "source": [
    "# Input from keyboard\n",
    "\n",
    "`input()` acquires simple text from keyboard. "
   ]
  },
  {
   "cell_type": "code",
   "execution_count": null,
   "metadata": {
    "slideshow": {
     "slide_type": "subslide"
    }
   },
   "outputs": [],
   "source": [
    "z = input(\"insert a number: \")\n",
    "print(\"your input: \"+z)\n",
    "if z>0:\n",
    "    print(\"positive number: \", z)"
   ]
  },
  {
   "cell_type": "markdown",
   "metadata": {
    "slideshow": {
     "slide_type": "subslide"
    }
   },
   "source": [
    "`z` is simple text and cannot be used with the `>` operator. \n",
    "\n",
    "You need to explicitly convert to the type you need."
   ]
  },
  {
   "cell_type": "code",
   "execution_count": null,
   "metadata": {
    "slideshow": {
     "slide_type": "subslide"
    }
   },
   "outputs": [],
   "source": [
    "x = int(input(\"insert integer: \"))\n",
    "print (\"x = \", x)"
   ]
  },
  {
   "cell_type": "code",
   "execution_count": null,
   "metadata": {
    "slideshow": {
     "slide_type": "subslide"
    }
   },
   "outputs": [],
   "source": [
    "x = int(input(\"insert integer: \"))\n",
    "y = float( input(\"a rational number? \"))\n",
    "\n",
    "if x > y:\n",
    "    print(\"x: {0} > y:{1}\".format(x,y)  )\n",
    "else: \n",
    "    print(\"y: {1} > x:{0}\".format(x,y) )\n",
    "\n"
   ]
  },
  {
   "cell_type": "markdown",
   "metadata": {},
   "source": [
    "# built-in types\n",
    "\n",
    "Commonly used numerical and string types are\n",
    "\n",
    "type | Description |\n",
    ":----|:-----------\n",
    " str | similar to C++ string \n",
    " float | C double precision \n",
    " complex | complex number with real parts x + yj\n",
    " int | integer \n",
    " bool | boolean variable. special integer with just 1 bit\n",
    "\n",
    "you have to explicitly convert `input()` to desired type for use.\n"
   ]
  },
  {
   "cell_type": "code",
   "execution_count": null,
   "metadata": {},
   "outputs": [],
   "source": [
    "anint = int( input(\"insert an integer: \"))\n",
    "print(anint)"
   ]
  },
  {
   "cell_type": "markdown",
   "metadata": {},
   "source": [
    "by putting the explicit cast, you will have an error if a floating point number is provided in input.\n",
    "There is no automatic conversion!"
   ]
  },
  {
   "cell_type": "code",
   "execution_count": null,
   "metadata": {},
   "outputs": [],
   "source": [
    "afloat = float( input(\"insert a float: \"))\n",
    "print(afloat)"
   ]
  },
  {
   "cell_type": "markdown",
   "metadata": {},
   "source": [
    "However an integer literal can be used as float:"
   ]
  },
  {
   "cell_type": "code",
   "execution_count": null,
   "metadata": {},
   "outputs": [],
   "source": [
    "afloat = float( input(\"insert a float: \"))\n",
    "print(afloat)"
   ]
  },
  {
   "cell_type": "code",
   "execution_count": null,
   "metadata": {},
   "outputs": [],
   "source": [
    "acomplex = complex( input(\"insert a complex number: \"))\n",
    "print(acomplex)"
   ]
  },
  {
   "cell_type": "markdown",
   "metadata": {},
   "source": [
    "## bool type\n",
    "same as bool in C++. used for logical operation and uses just one bit to store the info"
   ]
  },
  {
   "cell_type": "code",
   "execution_count": null,
   "metadata": {},
   "outputs": [],
   "source": [
    "c = 2.3 < 3\n",
    "print(c,type(c),c.bit_length())\n",
    "\n",
    "c = bool(0)\n",
    "print(c,c.bit_length())\n",
    "\n",
    "c = bool(-3)\n",
    "print(c,c.bit_length())\n",
    "\n",
    "d = True\n",
    "print(d, int(d))\n",
    "\n",
    "print(type(2.3), type(True), type(\"hello\"))"
   ]
  },
  {
   "cell_type": "markdown",
   "metadata": {},
   "source": [
    "## integers in python\n",
    "Unlike in C/C++, you can have arbitrarily large integers in python"
   ]
  },
  {
   "cell_type": "code",
   "execution_count": null,
   "metadata": {},
   "outputs": [],
   "source": [
    "j = 3**334\n",
    "print(j)\n",
    "print(type(j))\n",
    "print( (3**11567).bit_length())"
   ]
  },
  {
   "cell_type": "markdown",
   "metadata": {},
   "source": [
    "## Integer in arbitrary base\n",
    "\n",
    "A neat feature of integers in python is easy conversion to an arbitrary base"
   ]
  },
  {
   "cell_type": "code",
   "execution_count": null,
   "metadata": {},
   "outputs": [],
   "source": [
    "int('101',base=2)"
   ]
  },
  {
   "cell_type": "code",
   "execution_count": null,
   "metadata": {},
   "outputs": [],
   "source": [
    "int('101', base=3)"
   ]
  },
  {
   "cell_type": "code",
   "execution_count": null,
   "metadata": {},
   "outputs": [],
   "source": [
    "int('101', base=5)"
   ]
  },
  {
   "cell_type": "code",
   "execution_count": null,
   "metadata": {},
   "outputs": [],
   "source": [
    "int('101', base=7)"
   ]
  },
  {
   "cell_type": "code",
   "execution_count": null,
   "metadata": {},
   "outputs": [],
   "source": [
    "int('101', base=8)"
   ]
  },
  {
   "cell_type": "code",
   "execution_count": null,
   "metadata": {},
   "outputs": [],
   "source": [
    "int('101', base=16)"
   ]
  },
  {
   "cell_type": "code",
   "execution_count": null,
   "metadata": {},
   "outputs": [],
   "source": [
    "int('1F',base=16)"
   ]
  },
  {
   "cell_type": "code",
   "execution_count": null,
   "metadata": {},
   "outputs": [],
   "source": [
    "int('FF01',base=16)+int('1110001',base=2)"
   ]
  },
  {
   "cell_type": "markdown",
   "metadata": {},
   "source": [
    "# Inline help and inspection\n",
    "In addition to `?` in jupyter, you can use the inline help facility in the interactive python session:"
   ]
  },
  {
   "cell_type": "code",
   "execution_count": null,
   "metadata": {},
   "outputs": [],
   "source": [
    "help(int)"
   ]
  },
  {
   "cell_type": "markdown",
   "metadata": {},
   "source": [
    "and since everything is an object in python, you can list the attributes, data and functions which are all objects, within any object."
   ]
  },
  {
   "cell_type": "code",
   "execution_count": null,
   "metadata": {},
   "outputs": [],
   "source": [
    "dir(int)"
   ]
  },
  {
   "cell_type": "code",
   "execution_count": null,
   "metadata": {},
   "outputs": [],
   "source": [
    "help(int.bit_length)"
   ]
  },
  {
   "cell_type": "code",
   "execution_count": null,
   "metadata": {},
   "outputs": [],
   "source": [
    "help(bin)"
   ]
  },
  {
   "cell_type": "markdown",
   "metadata": {},
   "source": [
    "There are actually built-in functions for easy base conversion"
   ]
  },
  {
   "cell_type": "code",
   "execution_count": null,
   "metadata": {},
   "outputs": [],
   "source": [
    "c = 23\n",
    "print( bin(c), oct(c), hex(c))\n",
    "\n",
    "0x1F + 3 +0b111"
   ]
  },
  {
   "cell_type": "markdown",
   "metadata": {},
   "source": [
    "So finally you can quickly exercise your ability to convert between hexadecimal and binary bases."
   ]
  },
  {
   "cell_type": "code",
   "execution_count": null,
   "metadata": {},
   "outputs": [],
   "source": [
    "print( hex(0b00011000))"
   ]
  },
  {
   "cell_type": "markdown",
   "metadata": {},
   "source": [
    "# Flow control in python\n",
    "The main difference with respect to C++ is the lack of `}` and `;` and use of `:` and indentation for logical structure\n",
    "\n",
    "## If/elif/else "
   ]
  },
  {
   "cell_type": "code",
   "execution_count": null,
   "metadata": {},
   "outputs": [],
   "source": [
    "x = float(input(\"insert a number: \"))\n",
    "if x < 0 :\n",
    "    pass\n",
    "elif x < 1:\n",
    "    print(\"0 < x < 1\")\n",
    "else:\n",
    "    print(\"x > 1\")\n",
    "    "
   ]
  },
  {
   "cell_type": "markdown",
   "metadata": {},
   "source": [
    "The new keyword `pass` is needed for an empty scope. It does not skip anything. It only tells the interpreter that in this scope there is nothing to do. It is equivalent to `{}` in C++."
   ]
  },
  {
   "cell_type": "markdown",
   "metadata": {},
   "source": [
    "## while loop"
   ]
  },
  {
   "cell_type": "code",
   "execution_count": null,
   "metadata": {},
   "outputs": [],
   "source": [
    "w = -2\n",
    "while w<0 or w>1:\n",
    "    w = float(input(\"insert x in [0,1]: \"))"
   ]
  },
  {
   "cell_type": "markdown",
   "metadata": {},
   "source": [
    "You can now easily create a user interface for input with control over user input"
   ]
  },
  {
   "cell_type": "code",
   "execution_count": null,
   "metadata": {},
   "outputs": [],
   "source": [
    "while True:\n",
    "    w = float(input(\"insert x in [0,1]: \"))\n",
    "    if w>=0 and w<=1: break"
   ]
  },
  {
   "cell_type": "markdown",
   "metadata": {},
   "source": [
    "## for loop\n",
    "we have already seen the use of a for loop that requires a sequence of objects to iterate over\n"
   ]
  },
  {
   "cell_type": "code",
   "execution_count": null,
   "metadata": {},
   "outputs": [],
   "source": [
    "for i in range(1,11,2):\n",
    "    print(\"i: %-3d\\t i^2: %d\"%(i, i**2))\n",
    "    print(\"i: {0}\\t i^2: {1}\".format(i,i**2))"
   ]
  },
  {
   "cell_type": "markdown",
   "metadata": {},
   "source": [
    "In this example you can also use the C-style `fprintf` formatting for displaying information."
   ]
  },
  {
   "cell_type": "markdown",
   "metadata": {},
   "source": [
    "# Functions\n",
    "\n",
    "as in other languages  function is defined by its name and its argguments. But there is no return type nor you need to specify the type of arguments. Any object can be the input to any function.\n",
    "\n",
    "The generic structure of a function is\n",
    "```python\n",
    "def function(arg1, arg2, arg3=val):\n",
    "    statements\n",
    "    return value\n",
    "```\n",
    "\n",
    "If a function does not return a value, a `None` value is returned automatically"
   ]
  },
  {
   "cell_type": "code",
   "execution_count": null,
   "metadata": {},
   "outputs": [],
   "source": [
    "def decay(x, a=0.3, b=0.7):\n",
    "    if x < a:\n",
    "        print(\"two body decay\")\n",
    "    elif x<b:\n",
    "        print(\"three body decay\")\n",
    "    else:\n",
    "        print(\"decay to 4 or more bodies\")\n",
    "    \n",
    "decay(0.4)\n",
    "decay(0.9, b=0.6)\n",
    "# also decay() has a return type\n",
    "v = decay(0.003)\n",
    "print( type(v))\n",
    "\n",
    "# import NumPy module\n",
    "import numpy as np\n",
    "x = np.random.random()\n",
    "print(\"x = %.4f\"%x)\n",
    "decay(x)\n"
   ]
  },
  {
   "cell_type": "markdown",
   "metadata": {},
   "source": [
    "# python application and modules\n",
    "An important difference with respect to C++ is the lack of an entry point.\n",
    "\n",
    "A typical C/C++ application `app.cc` is\n",
    "```c++\n",
    "#include <stdio>\n",
    "#include<math>\n",
    "\n",
    "double uniform(double,double);\n",
    "\n",
    "int main() {\n",
    "  /*   code goes here */\n",
    "  return 0;\n",
    "}\n",
    "\n",
    "double uniform(double a,double b) {\n",
    "  /* implement uniform */\n",
    "  return something\n",
    "}\n",
    "```\n",
    "you compile and link the application using the math library as\n",
    "```\n",
    "g++ -o /tmp/app.exe -lm app.cc\n",
    "```\n",
    "and finally run the executable\n",
    "```\n",
    "/tmp/app.exe\n",
    "```\n",
    "\n",
    "Running the executable means that the oeprating system calls the `main()` function in `app.exe`.\n",
    "\n",
    "**In python however there is no such thing!**\n",
    "\n",
    "A program is any file containing python statements. Being an interpreted language, all statements are executed as they appear in the file.\n",
    "\n",
    "Our first program is [example1.py](examples/example1.py)"
   ]
  },
  {
   "cell_type": "code",
   "execution_count": 1,
   "metadata": {},
   "outputs": [
    {
     "name": "stdout",
     "output_type": "stream",
     "text": [
      "trying simple examples in example1.py\n",
      "a = 2.3, b = 4.5, c = 0.5111111111111111\n",
      "x: 2.0, m: 1.0, q: 2.3\n",
      "4.3\n",
      "x: 0.0, m: 1.0, q: -1.3\n",
      "-1.3\n"
     ]
    }
   ],
   "source": [
    "# this is my first module\n",
    "\n",
    "print(\"trying simple examples in example1.py\")\n",
    "\n",
    "a = 2.3\n",
    "b = 4.5\n",
    "c = a/b\n",
    "\n",
    "def line(x, m=1., q=0.):\n",
    "  print(\"x: {2}, m: {0}, q: {1}\".format(m,q,x))\n",
    "  return m*x+q\n",
    "\n",
    "#print using ''\n",
    "print('a = {0}, b = {1}, c = {2}'.format( a, b, c) )\n",
    "\n",
    "\n",
    "print( line(2., q=2.3) )\n",
    "print( line(0., q=-1.3) )"
   ]
  },
  {
   "cell_type": "markdown",
   "metadata": {},
   "source": [
    "__Reminder__: you can execute the program from the command line with \n",
    "```\n",
    "python3 example1.py\n",
    "```\n",
    "In jupyter you can run a local file (with path relative to directory where you started the notebook session) by using the magic `%run` command.\n",
    "\n",
    "In this case I am already in  \n",
    "```\n",
    "$ pwd\n",
    "/Users/rahatlou/Didattica/Computing Methods in Physics/lec22\n",
    "```"
   ]
  },
  {
   "cell_type": "code",
   "execution_count": 3,
   "metadata": {},
   "outputs": [
    {
     "name": "stdout",
     "output_type": "stream",
     "text": [
      "trying simple examples in example1.py\n",
      "a = 2.3, b = 4.5, c = 0.5111111111111111\n",
      "x: 2.0, m: 1.0, q: 2.3\n",
      "4.3\n",
      "x: 0.0, m: 1.0, q: -1.3\n",
      "-1.3\n"
     ]
    }
   ],
   "source": [
    "%run examples/example1.py"
   ]
  },
  {
   "cell_type": "markdown",
   "metadata": {},
   "source": [
    "## Our first module\n",
    "We now want to use the `line()` function in this examples in other programs. Rather than copying the code by hand we want to use a library model, or what is called a __module__ in python. \n",
    "\n",
    "Unlike C there is  no special setup to create a module.\n",
    "\n",
    "We write a second program [example2.py](examples/example2.py)\n",
    "```python\n",
    "import example1\n",
    "\n",
    "x = float(input(\"insert x:\"))\n",
    "y = example1.line(x)\n",
    "print( y )\n",
    "\n",
    "# a much shorter way\n",
    "print( example1.line( float( input(\"insert x:\")  )  )  )\n",
    "```"
   ]
  },
  {
   "cell_type": "code",
   "execution_count": 6,
   "metadata": {},
   "outputs": [
    {
     "name": "stdout",
     "output_type": "stream",
     "text": [
      "insert x:3\n",
      "x: 3.0, m: 1.0, q: 0.0\n",
      "3.0\n",
      "insert x:-3\n",
      "x: -3.0, m: 1.0, q: 0.0\n",
      "-3.0\n"
     ]
    }
   ],
   "source": [
    "%run examples/example2.py"
   ]
  },
  {
   "cell_type": "markdown",
   "metadata": {},
   "source": [
    "There are 2 important aspects to note\n",
    "  1. the function `line()` belongs to the `example1` namespace. So you __must__ use `example1.line` to call the functions\n",
    "  2. by importing `example1` in addition to the function `line` you also execute the rest of the python program\n",
    "  This is expected because __python is an interpreted language__ \n",
    "  \n",
    "let's address these 2 issues\n",
    "\n",
    "### importing only some objects of a module\n",
    "To address the first issue we can do the following in [example3.py](examples/example3.py)\n",
    "```python\n",
    "from  example1 import line\n",
    "\n",
    "print(\"++++ executing \"+ __file__)\n",
    "\n",
    "print( line( -3.4, q=0.5 )  )\n",
    "```\n",
    "Now when we run the program:\n",
    "```shell\n",
    "$ python3 example3.py\n",
    "trying simple examples in example1.py\n",
    "a = 2.3, b = 4.5, c = 0.5111111111111111\n",
    "x: 2.0, m: 1.0, q: 2.3\n",
    "4.3\n",
    "x: 0.0, m: 1.0, q: -1.3\n",
    "-1.3\n",
    "++++ executing example3.py\n",
    "x: -3.4, m: 1.0, q: 0.5\n",
    "-2.9\n",
    "```\n",
    "\n",
    "### importing objects from a module with a new name\n",
    "A different approach is shown in ([example4.py](examples/example4.py)) where line is imported with a new name `p1`\n",
    "```python\n",
    "from  example1 import line as p1\n",
    "\n",
    "print(\"++++ executing \"+ __file__)\n",
    "\n",
    "print( p1( -3.4, q=0.5 )  )\n",
    "```\n",
    "which produces\n",
    "\n",
    "```shell\n",
    "$ python3 example4.py\n",
    "trying simple examples in example1.py\n",
    "a = 2.3, b = 4.5, c = 0.5111111111111111\n",
    "x: 2.0, m: 1.0, q: 2.3\n",
    "4.3\n",
    "x: 0.0, m: 1.0, q: -1.3\n",
    "-1.3\n",
    "++++ executing example4.py\n",
    "x: -3.4, m: 1.0, q: 0.5\n",
    "-2.9\n",
    "```"
   ]
  },
  {
   "cell_type": "markdown",
   "metadata": {},
   "source": [
    "### what is imported? \n",
    "All objects defined in a module are available when a module is imported. \n",
    "\n",
    "This is shown in [example5.py](examples/example5.py)\n",
    "```python \n",
    "$ cat example5.py \n",
    "import example1\n",
    "\n",
    "print(\"++++ executing file: \"+ __file__)\n",
    "\n",
    "print( \"callig example1.line( 2.34, q=0.5 ): \", example1.line( 2.34, q=0.5 )  )\n",
    "\n",
    "print( \"example1.a: %f\"%example1.a )\n",
    "```\n",
    "and when running in the terminal\n",
    "\n",
    "```shell\n",
    "$ python3 example5.py\n",
    "trying simple examples in example1.py\n",
    "a = 2.3, b = 4.5, c = 0.5111111111111111\n",
    "x: 2.0, m: 1.0, q: 2.3\n",
    "4.3\n",
    "x: 0.0, m: 1.0, q: -1.3\n",
    "-1.3\n",
    "++++ executing file: example5.py\n",
    "x: 2.34, m: 1.0, q: 0.5\n",
    "callig example1.line( 2.34, q=0.5 ):  2.84\n",
    "example1.a: 2.300000\n",
    "```"
   ]
  },
  {
   "cell_type": "markdown",
   "metadata": {},
   "source": [
    "### importing only objects without executing statements\n",
    "We now solve our secnd problem which is how to avoid running the statements in [example1.py](examples/example1.py) when importing it as a module.\n",
    "\n",
    "This can be done with a more advanced feature of python which we will understand better in future lecture. The solution is actually trivial. A modified version of [example1.py](examples/example1.py) is [mymodule.py](examples/mymodule.py)\n",
    "```python\n",
    "# this is my first module\n",
    "a = 2.3\n",
    "b = 4.5\n",
    "c = a/b\n",
    "\n",
    "def line(x, m=1., q=0.):\n",
    "  print(\"=== in line === x: {2}, m: {0}, q: {1}\".format(m,q,x))\n",
    "  return m*x+q\n",
    "\n",
    "print(\"__name__ : \"+  __name__ + \" in \" + __file__)\n",
    "\n",
    "\n",
    "if __name__ == \"__main__\":\n",
    "  print(\"executing \"+  __name__ + \" in \" + __file__)\n",
    "\n",
    "  #print using ''\n",
    "  print('a = {0}, b = {1}, c = {2}'.format( a, b, c) )\n",
    "  print( \"calling line(): \", line(2., q=2.3) )\n",
    "  print( \"calling line()\", line(0., q=-1.3) )\n",
    "\n",
    "  def p1(x, m=1., q=0.):\n",
    "     print(\"x: {2}, m: {0}, q: {1}\".format(m,q,x))\n",
    "     return m*x+q\n",
    "```\n",
    "which has this behavior\n",
    "```shell\n",
    "$ python3 mymodule.py \n",
    "__name__ : __main__ in mymodule.py\n",
    "executing __main__ in mymodule.py\n",
    "a = 2.3, b = 4.5, c = 0.5111111111111111\n",
    "=== in line === x: 2.0, m: 1.0, q: 2.3\n",
    "calling line():  4.3\n",
    "=== in line === x: 0.0, m: 1.0, q: -1.3\n",
    "calling line() -1.3\n",
    "```"
   ]
  },
  {
   "cell_type": "markdown",
   "metadata": {},
   "source": [
    "To understand this better look at in [example6.py](examples/example6.py)\n",
    "```python\n",
    "import mymodule\n",
    "\n",
    "print(\"++++ executing namespace \" + __name__ + \" in file: \" +  __file__)\n",
    "\n",
    "# local a variable\n",
    "a = 'test string'\n",
    "\n",
    "# any object in mymodule can be used\n",
    "# and there is no confusion with local a\n",
    "print( \"mymodule.a: %f\"%mymodule.a )\n",
    "print( \"local a: \" + a )\n",
    "\n",
    "## use line function from mymodule\n",
    "print( mymodule.line( 2.34, q=0.5 )  )\n",
    "\n",
    "## function p1 is defined in mymodule but cannot be used because\n",
    "## behind __name__ == \"__main__\" in mymodule\n",
    "##\n",
    "print( mymodule.p1( 2.34, q=0.5 )  )\n",
    "```"
   ]
  },
  {
   "cell_type": "markdown",
   "metadata": {},
   "source": [
    "At runtime we get the following error\n",
    "```shell\n",
    "$ python3 example6.py\n",
    "__name__ : mymodule in /Users/rahatlou/Sites/Didattica/cmp/lec17/examples/mymodule.py\n",
    "++++ executing namespace __main__ in file: example6.py\n",
    "mymodule.a: 2.300000\n",
    "local a: test string\n",
    "=== in line === x: 2.34, m: 1.0, q: 0.5\n",
    "2.84\n",
    "Traceback (most recent call last):\n",
    "  File \"example6.py\", line 19, in <module>\n",
    "    print( mymodule.p1( 2.34, q=0.5 )  )\n",
    "AttributeError: module 'mymodule' has no attribute 'p1'\n",
    "```"
   ]
  },
  {
   "cell_type": "markdown",
   "metadata": {},
   "source": [
    "When `mymodule` is imported it has its own namespace which is not `__main__`. Therefore at anytime only the python program being executed has the `__main__` namespace as desired.\n"
   ]
  }
 ],
 "metadata": {
  "kernelspec": {
   "display_name": "Python 3",
   "language": "python",
   "name": "python3"
  },
  "language_info": {
   "codemirror_mode": {
    "name": "ipython",
    "version": 3
   },
   "file_extension": ".py",
   "mimetype": "text/x-python",
   "name": "python",
   "nbconvert_exporter": "python",
   "pygments_lexer": "ipython3",
   "version": "3.7.0"
  }
 },
 "nbformat": 4,
 "nbformat_minor": 2
}
