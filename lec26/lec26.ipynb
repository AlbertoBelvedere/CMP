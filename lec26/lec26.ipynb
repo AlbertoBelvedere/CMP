{
 "cells": [
  {
   "cell_type": "markdown",
   "metadata": {},
   "source": [
    "# Numpy: Numerical Python package \n",
    "\n",
    "- [NumPy](https://www.numpy.org) is perhaps the most important  package for numerical computing in python\n",
    "- the n-dimentional array in NumPy used a basic  object in most python packages for data exchange\n",
    "  - we will look at its methods and semantics starting today through examples\n",
    "- some of the most important features of Num Py \n",
    "  - ndarray: multidimensional array for fast and efficient array-oriented operations and arithmetics\n",
    "  - mathematical functions for fast operation on  arrays  without using loops and iterations\n",
    "  - tools for I/O to and from disk\n",
    "  - Linear algebra\n",
    "  - random generation \n",
    "  - API to connect NumPy with C and C++ libraries"
   ]
  },
  {
   "cell_type": "markdown",
   "metadata": {},
   "source": [
    "## NumPy ndarray: a multidimensional array object\n",
    "while we will oftenuse it for 2D and 3D calculations , an ndarray can have an arbitary dimension\n",
    "\n",
    "Let's first see how much faster is an ndarray object"
   ]
  },
  {
   "cell_type": "code",
   "execution_count": 1,
   "metadata": {
    "scrolled": true
   },
   "outputs": [
    {
     "name": "stdout",
     "output_type": "stream",
     "text": [
      "<class 'numpy.ndarray'>\n",
      "<class 'list'>\n",
      "CPU times: user 1.4 ms, sys: 698 µs, total: 2.1 ms\n",
      "Wall time: 1.86 ms\n",
      "CPU times: user 67.5 ms, sys: 14.3 ms, total: 81.8 ms\n",
      "Wall time: 81.9 ms\n"
     ]
    }
   ],
   "source": [
    "import numpy as np\n",
    "\n",
    "my_arr = np.arange(100000)\n",
    "print(type(my_arr))\n",
    "\n",
    "my_list = list(range(100000))\n",
    "print(type(my_list))\n",
    "\n",
    "%time for _ in range(10): my_arr2 = my_arr * 2\n",
    "\n",
    "%time for _ in range(10): my_list2 = [ x*2 for x in my_list ]\n",
    "    "
   ]
  },
  {
   "cell_type": "markdown",
   "metadata": {},
   "source": [
    "__NumPy based algorithms are generally 10 to 100 times faster than pure python counterparts!__"
   ]
  },
  {
   "cell_type": "code",
   "execution_count": 2,
   "metadata": {},
   "outputs": [
    {
     "name": "stdout",
     "output_type": "stream",
     "text": [
      "[[1 2 3]\n",
      " [4 5 6]\n",
      " [7 8 9]]\n"
     ]
    }
   ],
   "source": [
    "import numpy as np\n",
    "arr2 = np.array( [ [ 1,2,3], [4,5,6], [7,8,9]  ] )\n",
    "print(arr2)"
   ]
  },
  {
   "cell_type": "code",
   "execution_count": 3,
   "metadata": {
    "scrolled": true
   },
   "outputs": [
    {
     "name": "stdout",
     "output_type": "stream",
     "text": [
      "[[0.84427596 0.27861956 0.25615588 0.11302969 0.36882147]\n",
      " [0.12166928 0.45103546 0.1540956  0.51679095 0.32092015]]\n",
      "[[[0.54182932 0.57173973]\n",
      "  [0.35215243 0.66480996]]\n",
      "\n",
      " [[0.23963299 0.23191085]\n",
      "  [0.60556823 0.37112058]]]\n"
     ]
    }
   ],
   "source": [
    "arr3 = np.random.rand(2,5)\n",
    "print(arr3)\n",
    "arr4 = np.random.rand(2,2,2)\n",
    "print(arr4)"
   ]
  },
  {
   "cell_type": "markdown",
   "metadata": {},
   "source": [
    "## creating ndarrays\n",
    "As seen above, all NumPy functions and classes use ndarray as return type. You only need to specify the dimensions and the size of the array to be created\n",
    "\n",
    "### uniform random numbers"
   ]
  },
  {
   "cell_type": "code",
   "execution_count": 19,
   "metadata": {
    "scrolled": true
   },
   "outputs": [
    {
     "data": {
      "text/plain": [
       "array([[0.96153329, 0.68227069, 0.74699186],\n",
       "       [0.56530556, 0.78139006, 0.98501338],\n",
       "       [0.0031835 , 0.75006218, 0.28725375],\n",
       "       [0.4853958 , 0.93083974, 0.77128018],\n",
       "       [0.71460934, 0.13556474, 0.91235606],\n",
       "       [0.87502189, 0.33686751, 0.64443819],\n",
       "       [0.81927906, 0.5344741 , 0.85360352],\n",
       "       [0.73920228, 0.79252824, 0.31396606],\n",
       "       [0.80641295, 0.76174506, 0.5673283 ],\n",
       "       [0.42876781, 0.3999522 , 0.20277509]])"
      ]
     },
     "execution_count": 19,
     "metadata": {},
     "output_type": "execute_result"
    }
   ],
   "source": [
    "np.random.rand(10,3)"
   ]
  },
  {
   "cell_type": "markdown",
   "metadata": {},
   "source": [
    "### array of zeros"
   ]
  },
  {
   "cell_type": "code",
   "execution_count": 21,
   "metadata": {},
   "outputs": [
    {
     "name": "stdout",
     "output_type": "stream",
     "text": [
      "[0. 0. 0.]\n"
     ]
    }
   ],
   "source": [
    "v = np.zeros(3)\n",
    "print(v)"
   ]
  },
  {
   "cell_type": "code",
   "execution_count": 23,
   "metadata": {
    "scrolled": true
   },
   "outputs": [
    {
     "name": "stdout",
     "output_type": "stream",
     "text": [
      "[[0. 0. 0. 0.]\n",
      " [0. 0. 0. 0.]\n",
      " [0. 0. 0. 0.]]\n"
     ]
    }
   ],
   "source": [
    "A = np.zeros( (3,4) )\n",
    "print(A)"
   ]
  },
  {
   "cell_type": "markdown",
   "metadata": {},
   "source": [
    "### arrays of 1"
   ]
  },
  {
   "cell_type": "code",
   "execution_count": 24,
   "metadata": {
    "scrolled": true
   },
   "outputs": [
    {
     "name": "stdout",
     "output_type": "stream",
     "text": [
      "[1. 1. 1. 1.]\n"
     ]
    }
   ],
   "source": [
    "w = np.ones(4)\n",
    "print(w)"
   ]
  },
  {
   "cell_type": "code",
   "execution_count": 26,
   "metadata": {
    "scrolled": true
   },
   "outputs": [
    {
     "name": "stdout",
     "output_type": "stream",
     "text": [
      "[[1. 1. 1. 1.]\n",
      " [1. 1. 1. 1.]\n",
      " [1. 1. 1. 1.]]\n"
     ]
    }
   ],
   "source": [
    "B = np.ones ( (3,4))\n",
    "print(B)\n"
   ]
  },
  {
   "cell_type": "code",
   "execution_count": 27,
   "metadata": {
    "scrolled": true
   },
   "outputs": [
    {
     "name": "stdout",
     "output_type": "stream",
     "text": [
      "[3.12 3.12 3.12 3.12]\n"
     ]
    }
   ],
   "source": [
    "z = np.full( 4, fill_value=3.12)\n",
    "print(z)"
   ]
  },
  {
   "cell_type": "code",
   "execution_count": 29,
   "metadata": {
    "scrolled": false
   },
   "outputs": [
    {
     "name": "stdout",
     "output_type": "stream",
     "text": [
      "[[-4.3 -4.3 -4.3 -4.3 -4.3]\n",
      " [-4.3 -4.3 -4.3 -4.3 -4.3]\n",
      " [-4.3 -4.3 -4.3 -4.3 -4.3]\n",
      " [-4.3 -4.3 -4.3 -4.3 -4.3]]\n"
     ]
    }
   ],
   "source": [
    "C = np.full( (4,5), fill_value=-4.3)\n",
    "print(C)"
   ]
  },
  {
   "cell_type": "markdown",
   "metadata": {},
   "source": [
    "### Identity array"
   ]
  },
  {
   "cell_type": "code",
   "execution_count": 74,
   "metadata": {
    "scrolled": true
   },
   "outputs": [
    {
     "name": "stdout",
     "output_type": "stream",
     "text": [
      "[[1. 0. 0.]\n",
      " [0. 1. 0.]\n",
      " [0. 0. 1.]]\n"
     ]
    }
   ],
   "source": [
    "data = np.identity(3)\n",
    "print(data)"
   ]
  },
  {
   "cell_type": "markdown",
   "metadata": {},
   "source": [
    "## Shape of arrays\n",
    "each ndarray is characterized by its \n",
    "- shape\n",
    "- size \n",
    "- type of data"
   ]
  },
  {
   "cell_type": "code",
   "execution_count": 75,
   "metadata": {},
   "outputs": [
    {
     "name": "stdout",
     "output_type": "stream",
     "text": [
      "[[-1.   2.3]\n",
      " [ 2.3  4.5]\n",
      " [-8.4  1.9]]\n",
      "<class 'numpy.ndarray'>\n",
      "2\n",
      "(3, 2)\n",
      "float64\n"
     ]
    }
   ],
   "source": [
    "data = np.array([ [-1., 2.3], [2.3, 4.5], [-8.4, 1.9] ])\n",
    "print(data)\n",
    "print(type(data))\n",
    "print(data.ndim)\n",
    "print(data.shape)\n",
    "print(data.dtype)"
   ]
  },
  {
   "cell_type": "markdown",
   "metadata": {},
   "source": [
    "## Reshaping arrays"
   ]
  },
  {
   "cell_type": "code",
   "execution_count": 127,
   "metadata": {},
   "outputs": [
    {
     "data": {
      "text/plain": [
       "array([  1,   2,   3,   4,   5,   6,   7,   8,   9,  10,  11,  12,  13,\n",
       "        14,  15,  16,  17,  18,  19,  20,  21,  22,  23,  24,  25,  26,\n",
       "        27,  28,  29,  30,  31,  32,  33,  34,  35,  36,  37,  38,  39,\n",
       "        40,  41,  42,  43,  44,  45,  46,  47,  48,  49,  50,  51,  52,\n",
       "        53,  54,  55,  56,  57,  58,  59,  60,  61,  62,  63,  64,  65,\n",
       "        66,  67,  68,  69,  70,  71,  72,  73,  74,  75,  76,  77,  78,\n",
       "        79,  80,  81,  82,  83,  84,  85,  86,  87,  88,  89,  90,  91,\n",
       "        92,  93,  94,  95,  96,  97,  98,  99, 100])"
      ]
     },
     "execution_count": 127,
     "metadata": {},
     "output_type": "execute_result"
    }
   ],
   "source": [
    "data = np.arange(1,101)\n",
    "data"
   ]
  },
  {
   "cell_type": "code",
   "execution_count": 128,
   "metadata": {
    "scrolled": true
   },
   "outputs": [
    {
     "data": {
      "text/plain": [
       "array([[  1,   2,   3,   4,   5,   6,   7,   8,   9,  10,  11,  12,  13,\n",
       "         14,  15,  16,  17,  18,  19,  20,  21,  22,  23,  24,  25],\n",
       "       [ 26,  27,  28,  29,  30,  31,  32,  33,  34,  35,  36,  37,  38,\n",
       "         39,  40,  41,  42,  43,  44,  45,  46,  47,  48,  49,  50],\n",
       "       [ 51,  52,  53,  54,  55,  56,  57,  58,  59,  60,  61,  62,  63,\n",
       "         64,  65,  66,  67,  68,  69,  70,  71,  72,  73,  74,  75],\n",
       "       [ 76,  77,  78,  79,  80,  81,  82,  83,  84,  85,  86,  87,  88,\n",
       "         89,  90,  91,  92,  93,  94,  95,  96,  97,  98,  99, 100]])"
      ]
     },
     "execution_count": 128,
     "metadata": {},
     "output_type": "execute_result"
    }
   ],
   "source": [
    "mat1 = data.reshape(4,25)\n",
    "mat1"
   ]
  },
  {
   "cell_type": "code",
   "execution_count": 129,
   "metadata": {
    "scrolled": true
   },
   "outputs": [
    {
     "data": {
      "text/plain": [
       "array([[  1,   2,   3,   4,   5,   6,   7,   8,   9,  10],\n",
       "       [ 11,  12,  13,  14,  15,  16,  17,  18,  19,  20],\n",
       "       [ 21,  22,  23,  24,  25,  26,  27,  28,  29,  30],\n",
       "       [ 31,  32,  33,  34,  35,  36,  37,  38,  39,  40],\n",
       "       [ 41,  42,  43,  44,  45,  46,  47,  48,  49,  50],\n",
       "       [ 51,  52,  53,  54,  55,  56,  57,  58,  59,  60],\n",
       "       [ 61,  62,  63,  64,  65,  66,  67,  68,  69,  70],\n",
       "       [ 71,  72,  73,  74,  75,  76,  77,  78,  79,  80],\n",
       "       [ 81,  82,  83,  84,  85,  86,  87,  88,  89,  90],\n",
       "       [ 91,  92,  93,  94,  95,  96,  97,  98,  99, 100]])"
      ]
     },
     "execution_count": 129,
     "metadata": {},
     "output_type": "execute_result"
    }
   ],
   "source": [
    "mat2 = mat1.reshape(10,10)\n",
    "mat2"
   ]
  },
  {
   "cell_type": "markdown",
   "metadata": {},
   "source": [
    "Note that the original data array has not been modified"
   ]
  },
  {
   "cell_type": "code",
   "execution_count": 130,
   "metadata": {
    "scrolled": true
   },
   "outputs": [
    {
     "data": {
      "text/plain": [
       "array([  1,   2,   3,   4,   5,   6,   7,   8,   9,  10,  11,  12,  13,\n",
       "        14,  15,  16,  17,  18,  19,  20,  21,  22,  23,  24,  25,  26,\n",
       "        27,  28,  29,  30,  31,  32,  33,  34,  35,  36,  37,  38,  39,\n",
       "        40,  41,  42,  43,  44,  45,  46,  47,  48,  49,  50,  51,  52,\n",
       "        53,  54,  55,  56,  57,  58,  59,  60,  61,  62,  63,  64,  65,\n",
       "        66,  67,  68,  69,  70,  71,  72,  73,  74,  75,  76,  77,  78,\n",
       "        79,  80,  81,  82,  83,  84,  85,  86,  87,  88,  89,  90,  91,\n",
       "        92,  93,  94,  95,  96,  97,  98,  99, 100])"
      ]
     },
     "execution_count": 130,
     "metadata": {},
     "output_type": "execute_result"
    }
   ],
   "source": [
    "data"
   ]
  },
  {
   "cell_type": "markdown",
   "metadata": {},
   "source": [
    "You can create an array with the same shape of an existing array"
   ]
  },
  {
   "cell_type": "code",
   "execution_count": 135,
   "metadata": {
    "scrolled": false
   },
   "outputs": [
    {
     "name": "stdout",
     "output_type": "stream",
     "text": [
      "[1 1 1 1 1 1 1 1 1 1 1 1 1 1 1 1 1 1 1 1 1 1 1 1 1 1 1 1 1 1 1 1 1 1 1 1 1\n",
      " 1 1 1 1 1 1 1 1 1 1 1 1 1 1 1 1 1 1 1 1 1 1 1 1 1 1 1 1 1 1 1 1 1 1 1 1 1\n",
      " 1 1 1 1 1 1 1 1 1 1 1 1 1 1 1 1 1 1 1 1 1 1 1 1 1 1]\n"
     ]
    }
   ],
   "source": [
    "np.ones_like(data)\n",
    "print(data2)"
   ]
  },
  {
   "cell_type": "code",
   "execution_count": 112,
   "metadata": {
    "scrolled": true
   },
   "outputs": [
    {
     "data": {
      "text/plain": [
       "array([0, 0, 0, 0, 0, 0, 0, 0, 0, 0, 0, 0, 0, 0, 0, 0, 0, 0, 0, 0, 0, 0,\n",
       "       0, 0, 0, 0, 0, 0, 0, 0, 0, 0, 0, 0, 0, 0, 0, 0, 0, 0, 0, 0, 0, 0,\n",
       "       0, 0, 0, 0, 0, 0, 0, 0, 0, 0, 0, 0, 0, 0, 0, 0, 0, 0, 0, 0, 0, 0,\n",
       "       0, 0, 0, 0, 0, 0, 0, 0, 0, 0, 0, 0, 0, 0, 0, 0, 0, 0, 0, 0, 0, 0,\n",
       "       0, 0, 0, 0, 0, 0, 0, 0, 0, 0, 0, 0])"
      ]
     },
     "execution_count": 112,
     "metadata": {},
     "output_type": "execute_result"
    }
   ],
   "source": [
    "np.zeros_like(data)"
   ]
  },
  {
   "cell_type": "code",
   "execution_count": 114,
   "metadata": {
    "scrolled": false
   },
   "outputs": [
    {
     "data": {
      "text/plain": [
       "array([-4, -4, -4, -4, -4, -4, -4, -4, -4, -4, -4, -4, -4, -4, -4, -4, -4,\n",
       "       -4, -4, -4, -4, -4, -4, -4, -4, -4, -4, -4, -4, -4, -4, -4, -4, -4,\n",
       "       -4, -4, -4, -4, -4, -4, -4, -4, -4, -4, -4, -4, -4, -4, -4, -4, -4,\n",
       "       -4, -4, -4, -4, -4, -4, -4, -4, -4, -4, -4, -4, -4, -4, -4, -4, -4,\n",
       "       -4, -4, -4, -4, -4, -4, -4, -4, -4, -4, -4, -4, -4, -4, -4, -4, -4,\n",
       "       -4, -4, -4, -4, -4, -4, -4, -4, -4, -4, -4, -4, -4, -4, -4])"
      ]
     },
     "execution_count": 114,
     "metadata": {},
     "output_type": "execute_result"
    }
   ],
   "source": [
    "np.full_like(data, -4.5)"
   ]
  },
  {
   "cell_type": "markdown",
   "metadata": {},
   "source": [
    "Since the array used for the shape had integers, the new array is also made of integers, despite you providing `4.5` as fill_value. If you need a float array, then you have to specify it:"
   ]
  },
  {
   "cell_type": "code",
   "execution_count": 133,
   "metadata": {
    "scrolled": true
   },
   "outputs": [
    {
     "data": {
      "text/plain": [
       "array([-4.5, -4.5, -4.5, -4.5, -4.5, -4.5, -4.5, -4.5, -4.5, -4.5, -4.5,\n",
       "       -4.5, -4.5, -4.5, -4.5, -4.5, -4.5, -4.5, -4.5, -4.5, -4.5, -4.5,\n",
       "       -4.5, -4.5, -4.5, -4.5, -4.5, -4.5, -4.5, -4.5, -4.5, -4.5, -4.5,\n",
       "       -4.5, -4.5, -4.5, -4.5, -4.5, -4.5, -4.5, -4.5, -4.5, -4.5, -4.5,\n",
       "       -4.5, -4.5, -4.5, -4.5, -4.5, -4.5, -4.5, -4.5, -4.5, -4.5, -4.5,\n",
       "       -4.5, -4.5, -4.5, -4.5, -4.5, -4.5, -4.5, -4.5, -4.5, -4.5, -4.5,\n",
       "       -4.5, -4.5, -4.5, -4.5, -4.5, -4.5, -4.5, -4.5, -4.5, -4.5, -4.5,\n",
       "       -4.5, -4.5, -4.5, -4.5, -4.5, -4.5, -4.5, -4.5, -4.5, -4.5, -4.5,\n",
       "       -4.5, -4.5, -4.5, -4.5, -4.5, -4.5, -4.5, -4.5, -4.5, -4.5, -4.5,\n",
       "       -4.5])"
      ]
     },
     "execution_count": 133,
     "metadata": {},
     "output_type": "execute_result"
    }
   ],
   "source": [
    "np.full_like(data, fill_value=-4.5,dtype='float64')"
   ]
  },
  {
   "cell_type": "markdown",
   "metadata": {},
   "source": [
    "## Operations with ndarray\n",
    "you can use an ndarray for  basic mathematical operations tyoically used with scalars.\n",
    "\n"
   ]
  },
  {
   "cell_type": "markdown",
   "metadata": {},
   "source": [
    "### Arithmetics with arrays"
   ]
  },
  {
   "cell_type": "code",
   "execution_count": 134,
   "metadata": {
    "scrolled": false
   },
   "outputs": [
    {
     "name": "stdout",
     "output_type": "stream",
     "text": [
      "[[ 1  2  3  4]\n",
      " [ 5  6  7  8]\n",
      " [ 9 10 11 12]\n",
      " [13 14 15 16]]\n"
     ]
    }
   ],
   "source": [
    "data = np.arange(1,17).reshape(4,4)\n",
    "print(data)"
   ]
  },
  {
   "cell_type": "code",
   "execution_count": 136,
   "metadata": {},
   "outputs": [
    {
     "name": "stdout",
     "output_type": "stream",
     "text": [
      "[[1 1 1 1]\n",
      " [1 1 1 1]\n",
      " [1 1 1 1]\n",
      " [1 1 1 1]]\n"
     ]
    }
   ],
   "source": [
    "data2 = np.ones_like(data)\n",
    "print(data2)"
   ]
  },
  {
   "cell_type": "code",
   "execution_count": 137,
   "metadata": {
    "scrolled": false
   },
   "outputs": [
    {
     "data": {
      "text/plain": [
       "array([[ 2,  3,  4,  5],\n",
       "       [ 6,  7,  8,  9],\n",
       "       [10, 11, 12, 13],\n",
       "       [14, 15, 16, 17]])"
      ]
     },
     "execution_count": 137,
     "metadata": {},
     "output_type": "execute_result"
    }
   ],
   "source": [
    "data + data2"
   ]
  },
  {
   "cell_type": "code",
   "execution_count": 138,
   "metadata": {},
   "outputs": [
    {
     "data": {
      "text/plain": [
       "array([[ 0,  1,  2,  3],\n",
       "       [ 4,  5,  6,  7],\n",
       "       [ 8,  9, 10, 11],\n",
       "       [12, 13, 14, 15]])"
      ]
     },
     "execution_count": 138,
     "metadata": {},
     "output_type": "execute_result"
    }
   ],
   "source": [
    "data - data2"
   ]
  },
  {
   "cell_type": "markdown",
   "metadata": {},
   "source": [
    "Division by an array applies the divison to each element. It is not the same as inverting an array"
   ]
  },
  {
   "cell_type": "code",
   "execution_count": 139,
   "metadata": {},
   "outputs": [
    {
     "data": {
      "text/plain": [
       "array([[1.        , 0.5       , 0.33333333, 0.25      ],\n",
       "       [0.2       , 0.16666667, 0.14285714, 0.125     ],\n",
       "       [0.11111111, 0.1       , 0.09090909, 0.08333333],\n",
       "       [0.07692308, 0.07142857, 0.06666667, 0.0625    ]])"
      ]
     },
     "execution_count": 139,
     "metadata": {},
     "output_type": "execute_result"
    }
   ],
   "source": [
    "1./data"
   ]
  },
  {
   "cell_type": "code",
   "execution_count": 142,
   "metadata": {
    "scrolled": false
   },
   "outputs": [
    {
     "data": {
      "text/plain": [
       "array([[10.        ,  5.        ,  3.33333333,  2.5       ],\n",
       "       [ 2.        ,  1.66666667,  1.42857143,  1.25      ],\n",
       "       [ 1.11111111,  1.        ,  0.90909091,  0.83333333],\n",
       "       [ 0.76923077,  0.71428571,  0.66666667,  0.625     ]])"
      ]
     },
     "execution_count": 142,
     "metadata": {},
     "output_type": "execute_result"
    }
   ],
   "source": [
    "10 / data"
   ]
  },
  {
   "cell_type": "markdown",
   "metadata": {},
   "source": [
    "Adding a scalar to an array, adds the same value to all cells"
   ]
  },
  {
   "cell_type": "code",
   "execution_count": 144,
   "metadata": {},
   "outputs": [
    {
     "data": {
      "text/plain": [
       "array([[ 4,  5,  6,  7],\n",
       "       [ 8,  9, 10, 11],\n",
       "       [12, 13, 14, 15],\n",
       "       [16, 17, 18, 19]])"
      ]
     },
     "execution_count": 144,
     "metadata": {},
     "output_type": "execute_result"
    }
   ],
   "source": [
    "3+data"
   ]
  },
  {
   "cell_type": "code",
   "execution_count": 146,
   "metadata": {},
   "outputs": [
    {
     "data": {
      "text/plain": [
       "array([[4.51147098, 4.12464871, 3.71704   , 3.48079938],\n",
       "       [3.47821515, 3.62343075, 3.76385523, 3.79366978],\n",
       "       [3.71579094, 3.61559789, 3.5790918 , 3.62528559],\n",
       "       [3.70232054, 3.74075767, 3.71335252, 3.65200604]])"
      ]
     },
     "execution_count": 146,
     "metadata": {},
     "output_type": "execute_result"
    }
   ],
   "source": [
    "3.67+ np.sin(data)/data"
   ]
  },
  {
   "cell_type": "markdown",
   "metadata": {},
   "source": [
    "### functions\n",
    "you have to use the NumPy functions so __np.sin__ instead of __math.sin__"
   ]
  },
  {
   "cell_type": "code",
   "execution_count": 119,
   "metadata": {
    "scrolled": false
   },
   "outputs": [
    {
     "data": {
      "text/plain": [
       "array([    1,     4,     9,    16,    25,    36,    49,    64,    81,\n",
       "         100,   121,   144,   169,   196,   225,   256,   289,   324,\n",
       "         361,   400,   441,   484,   529,   576,   625,   676,   729,\n",
       "         784,   841,   900,   961,  1024,  1089,  1156,  1225,  1296,\n",
       "        1369,  1444,  1521,  1600,  1681,  1764,  1849,  1936,  2025,\n",
       "        2116,  2209,  2304,  2401,  2500,  2601,  2704,  2809,  2916,\n",
       "        3025,  3136,  3249,  3364,  3481,  3600,  3721,  3844,  3969,\n",
       "        4096,  4225,  4356,  4489,  4624,  4761,  4900,  5041,  5184,\n",
       "        5329,  5476,  5625,  5776,  5929,  6084,  6241,  6400,  6561,\n",
       "        6724,  6889,  7056,  7225,  7396,  7569,  7744,  7921,  8100,\n",
       "        8281,  8464,  8649,  8836,  9025,  9216,  9409,  9604,  9801,\n",
       "       10000])"
      ]
     },
     "execution_count": 119,
     "metadata": {},
     "output_type": "execute_result"
    }
   ],
   "source": [
    "data**2"
   ]
  },
  {
   "cell_type": "code",
   "execution_count": 120,
   "metadata": {
    "scrolled": true
   },
   "outputs": [
    {
     "name": "stdout",
     "output_type": "stream",
     "text": [
      "[  1   2   3   4   5   6   7   8   9  10  11  12  13  14  15  16  17  18\n",
      "  19  20  21  22  23  24  25  26  27  28  29  30  31  32  33  34  35  36\n",
      "  37  38  39  40  41  42  43  44  45  46  47  48  49  50  51  52  53  54\n",
      "  55  56  57  58  59  60  61  62  63  64  65  66  67  68  69  70  71  72\n",
      "  73  74  75  76  77  78  79  80  81  82  83  84  85  86  87  88  89  90\n",
      "  91  92  93  94  95  96  97  98  99 100]\n"
     ]
    }
   ],
   "source": [
    "print(data)"
   ]
  },
  {
   "cell_type": "markdown",
   "metadata": {},
   "source": [
    "Note how applying the function __does not__ modify data. Instead a new array is returned. This is the same behavior as with scalars in other langguage and also in python."
   ]
  },
  {
   "cell_type": "code",
   "execution_count": 121,
   "metadata": {
    "scrolled": true
   },
   "outputs": [
    {
     "name": "stdout",
     "output_type": "stream",
     "text": [
      "[    1     4     9    16    25    36    49    64    81   100   121   144\n",
      "   169   196   225   256   289   324   361   400   441   484   529   576\n",
      "   625   676   729   784   841   900   961  1024  1089  1156  1225  1296\n",
      "  1369  1444  1521  1600  1681  1764  1849  1936  2025  2116  2209  2304\n",
      "  2401  2500  2601  2704  2809  2916  3025  3136  3249  3364  3481  3600\n",
      "  3721  3844  3969  4096  4225  4356  4489  4624  4761  4900  5041  5184\n",
      "  5329  5476  5625  5776  5929  6084  6241  6400  6561  6724  6889  7056\n",
      "  7225  7396  7569  7744  7921  8100  8281  8464  8649  8836  9025  9216\n",
      "  9409  9604  9801 10000]\n"
     ]
    }
   ],
   "source": [
    "data_sqr = data**2\n",
    "print(data_sqr)"
   ]
  },
  {
   "cell_type": "code",
   "execution_count": 122,
   "metadata": {
    "scrolled": true
   },
   "outputs": [],
   "source": [
    "data_2 = np.log(data_sqr) + np.sin( data*np.pi)"
   ]
  },
  {
   "cell_type": "code",
   "execution_count": 123,
   "metadata": {
    "scrolled": true
   },
   "outputs": [
    {
     "name": "stdout",
     "output_type": "stream",
     "text": [
      "[  1.   2.   3.   4.   5.   6.   7.   8.   9.  10.  11.  12.  13.  14.\n",
      "  15.  16.  17.  18.  19.  20.  21.  22.  23.  24.  25.  26.  27.  28.\n",
      "  29.  30.  31.  32.  33.  34.  35.  36.  37.  38.  39.  40.  41.  42.\n",
      "  43.  44.  45.  46.  47.  48.  49.  50.  51.  52.  53.  54.  55.  56.\n",
      "  57.  58.  59.  60.  61.  62.  63.  64.  65.  66.  67.  68.  69.  70.\n",
      "  71.  72.  73.  74.  75.  76.  77.  78.  79.  80.  81.  82.  83.  84.\n",
      "  85.  86.  87.  88.  89.  90.  91.  92.  93.  94.  95.  96.  97.  98.\n",
      "  99. 100.]\n"
     ]
    }
   ],
   "source": [
    "data_3 = np.sqrt( data_sqr )\n",
    "print(data_3)"
   ]
  },
  {
   "cell_type": "markdown",
   "metadata": {},
   "source": [
    "## Indexing and slicing"
   ]
  },
  {
   "cell_type": "code",
   "execution_count": 151,
   "metadata": {},
   "outputs": [
    {
     "data": {
      "text/plain": [
       "array([[ 0,  1,  2,  3,  4,  5,  6,  7],\n",
       "       [ 8,  9, 10, 11, 12, 13, 14, 15],\n",
       "       [16, 17, 18, 19, 20, 21, 22, 23]])"
      ]
     },
     "execution_count": 151,
     "metadata": {},
     "output_type": "execute_result"
    }
   ],
   "source": [
    "data= np.arange(24).reshape(3,8)\n",
    "data"
   ]
  },
  {
   "cell_type": "code",
   "execution_count": 155,
   "metadata": {},
   "outputs": [
    {
     "data": {
      "text/plain": [
       "array([ 8,  9, 10, 11, 12, 13, 14, 15])"
      ]
     },
     "execution_count": 155,
     "metadata": {},
     "output_type": "execute_result"
    }
   ],
   "source": [
    "data[1,:]"
   ]
  },
  {
   "cell_type": "code",
   "execution_count": 154,
   "metadata": {},
   "outputs": [
    {
     "data": {
      "text/plain": [
       "array([ 4, 12, 20])"
      ]
     },
     "execution_count": 154,
     "metadata": {},
     "output_type": "execute_result"
    }
   ],
   "source": [
    "data[:,4]"
   ]
  },
  {
   "cell_type": "code",
   "execution_count": 157,
   "metadata": {},
   "outputs": [
    {
     "data": {
      "text/plain": [
       "array([[ 3,  4,  5,  6],\n",
       "       [11, 12, 13, 14]])"
      ]
     },
     "execution_count": 157,
     "metadata": {},
     "output_type": "execute_result"
    }
   ],
   "source": [
    "data[:2,3:7]"
   ]
  },
  {
   "cell_type": "markdown",
   "metadata": {},
   "source": [
    "As with the lists, all operations return a refernce to the original array, unless you make a copy\n"
   ]
  },
  {
   "cell_type": "code",
   "execution_count": 167,
   "metadata": {},
   "outputs": [
    {
     "name": "stdout",
     "output_type": "stream",
     "text": [
      "[[ 1  2]\n",
      " [ 9 10]]\n"
     ]
    }
   ],
   "source": [
    "x = data[:2,1:3]\n",
    "print(x)"
   ]
  },
  {
   "cell_type": "code",
   "execution_count": 170,
   "metadata": {},
   "outputs": [
    {
     "data": {
      "text/plain": [
       "array([1, 2])"
      ]
     },
     "execution_count": 170,
     "metadata": {},
     "output_type": "execute_result"
    }
   ],
   "source": [
    "x[0]"
   ]
  },
  {
   "cell_type": "code",
   "execution_count": 171,
   "metadata": {},
   "outputs": [
    {
     "data": {
      "text/plain": [
       "2"
      ]
     },
     "execution_count": 171,
     "metadata": {},
     "output_type": "execute_result"
    }
   ],
   "source": [
    "x[0][1]"
   ]
  },
  {
   "cell_type": "code",
   "execution_count": 172,
   "metadata": {},
   "outputs": [
    {
     "name": "stdout",
     "output_type": "stream",
     "text": [
      "[[ 1 -5]\n",
      " [ 9 10]]\n",
      "[[ 0  1 -5  3  4  5  6  7]\n",
      " [ 8  9 10 11 12 13 14 15]\n",
      " [16 17 18 19 20 21 22 23]]\n"
     ]
    }
   ],
   "source": [
    "x[0][1] = -5.55\n",
    "print(x)\n",
    "print(data)"
   ]
  },
  {
   "cell_type": "markdown",
   "metadata": {},
   "source": [
    "So you have modified not just x, but also the original data array!\n",
    "\n",
    "If this is not what you want, then you have to create a new copy"
   ]
  },
  {
   "cell_type": "code",
   "execution_count": 185,
   "metadata": {
    "scrolled": true
   },
   "outputs": [
    {
     "data": {
      "text/plain": [
       "array([[ 0,  1,  2,  3],\n",
       "       [ 4,  5,  6,  7],\n",
       "       [ 8,  9, 10, 11],\n",
       "       [12, 13, 14, 15]])"
      ]
     },
     "execution_count": 185,
     "metadata": {},
     "output_type": "execute_result"
    }
   ],
   "source": [
    "data= np.arange(16).reshape(4,4)\n",
    "data"
   ]
  },
  {
   "cell_type": "code",
   "execution_count": 186,
   "metadata": {},
   "outputs": [
    {
     "name": "stdout",
     "output_type": "stream",
     "text": [
      "[0 1 2 3]\n"
     ]
    }
   ],
   "source": [
    "x = np.array( data[0])\n",
    "print(x)"
   ]
  },
  {
   "cell_type": "code",
   "execution_count": 187,
   "metadata": {},
   "outputs": [
    {
     "data": {
      "text/plain": [
       "array([1, 2])"
      ]
     },
     "execution_count": 187,
     "metadata": {},
     "output_type": "execute_result"
    }
   ],
   "source": [
    "x[1:3]"
   ]
  },
  {
   "cell_type": "code",
   "execution_count": 189,
   "metadata": {},
   "outputs": [
    {
     "name": "stdout",
     "output_type": "stream",
     "text": [
      "[ 0 -2 -4  3]\n"
     ]
    }
   ],
   "source": [
    "x[1:3] = [ -2, -4]\n",
    "print(x)"
   ]
  },
  {
   "cell_type": "code",
   "execution_count": 190,
   "metadata": {
    "scrolled": true
   },
   "outputs": [
    {
     "name": "stdout",
     "output_type": "stream",
     "text": [
      "[[ 0  1  2  3]\n",
      " [ 4  5  6  7]\n",
      " [ 8  9 10 11]\n",
      " [12 13 14 15]]\n"
     ]
    }
   ],
   "source": [
    "print(data)"
   ]
  },
  {
   "cell_type": "markdown",
   "metadata": {},
   "source": [
    "## converting and casting\n",
    "When using arange() the array's type is integer."
   ]
  },
  {
   "cell_type": "code",
   "execution_count": 191,
   "metadata": {},
   "outputs": [
    {
     "data": {
      "text/plain": [
       "array([[ 0,  1,  2,  3,  4,  5,  6],\n",
       "       [ 7,  8,  9, 10, 11, 12, 13],\n",
       "       [14, 15, 16, 17, 18, 19, 20],\n",
       "       [21, 22, 23, 24, 25, 26, 27],\n",
       "       [28, 29, 30, 31, 32, 33, 34],\n",
       "       [35, 36, 37, 38, 39, 40, 41]])"
      ]
     },
     "execution_count": 191,
     "metadata": {},
     "output_type": "execute_result"
    }
   ],
   "source": [
    "data= np.arange(42).reshape(6,7)\n",
    "data"
   ]
  },
  {
   "cell_type": "code",
   "execution_count": 192,
   "metadata": {},
   "outputs": [
    {
     "data": {
      "text/plain": [
       "array([14, 15, 16, 17, 18, 19, 20])"
      ]
     },
     "execution_count": 192,
     "metadata": {},
     "output_type": "execute_result"
    }
   ],
   "source": [
    "data[2]"
   ]
  },
  {
   "cell_type": "markdown",
   "metadata": {},
   "source": [
    "Sometimes you might want to changge its type to do floating point calculations"
   ]
  },
  {
   "cell_type": "code",
   "execution_count": 194,
   "metadata": {},
   "outputs": [
    {
     "data": {
      "text/plain": [
       "array([[ 0,  1,  2,  3,  4,  5,  6],\n",
       "       [ 7,  8,  9, 10, 11, 12, 13],\n",
       "       [-3, 15, 16, 17, 18, 19, 20],\n",
       "       [21, 22, 23, 24, 25, 26, 27],\n",
       "       [28, 29, 30, 31, 32, 33, 34],\n",
       "       [35, 36, 37, 38, 39, 40, 41]])"
      ]
     },
     "execution_count": 194,
     "metadata": {},
     "output_type": "execute_result"
    }
   ],
   "source": [
    "data[2][0] = -np.pi\n",
    "data"
   ]
  },
  {
   "cell_type": "code",
   "execution_count": 195,
   "metadata": {},
   "outputs": [
    {
     "data": {
      "text/plain": [
       "array([[ 0.,  1.,  2.,  3.,  4.,  5.,  6.],\n",
       "       [ 7.,  8.,  9., 10., 11., 12., 13.],\n",
       "       [-3., 15., 16., 17., 18., 19., 20.],\n",
       "       [21., 22., 23., 24., 25., 26., 27.],\n",
       "       [28., 29., 30., 31., 32., 33., 34.],\n",
       "       [35., 36., 37., 38., 39., 40., 41.]])"
      ]
     },
     "execution_count": 195,
     "metadata": {},
     "output_type": "execute_result"
    }
   ],
   "source": [
    "data_float = data.astype( np.float64)\n",
    "data_float"
   ]
  },
  {
   "cell_type": "code",
   "execution_count": 197,
   "metadata": {},
   "outputs": [
    {
     "data": {
      "text/plain": [
       "array([[ 0.  ,  1.  ,  2.  ,  3.  ,  4.  ,  5.  ,  6.  ],\n",
       "       [ 7.  ,  8.  ,  9.  , 10.  , 11.  , 12.  , 13.  ],\n",
       "       [-3.  , 15.  , 16.  , 17.  , 18.  , 19.  , 20.  ],\n",
       "       [21.  , 22.  , 23.  , 24.  , 25.  , 26.  , 27.  ],\n",
       "       [28.  , 29.  , 30.  , 31.  , 32.  , -1.24, 34.  ],\n",
       "       [35.  , 36.  , 37.  , 38.  , 39.  , 40.  , 41.  ]])"
      ]
     },
     "execution_count": 197,
     "metadata": {},
     "output_type": "execute_result"
    }
   ],
   "source": [
    "data_float[4][5] = -1.24\n",
    "data_float"
   ]
  },
  {
   "cell_type": "markdown",
   "metadata": {},
   "source": [
    "## Boolean arrays\n",
    "As with all operationds, also logical opertions are vectorised"
   ]
  },
  {
   "cell_type": "code",
   "execution_count": 271,
   "metadata": {},
   "outputs": [
    {
     "data": {
      "text/plain": [
       "array([0.74211767, 1.47999512, 1.10897368, 1.20607992, 0.24631132,\n",
       "       0.20653833, 1.23289433, 1.50771445, 1.34696734, 1.5213118 ])"
      ]
     },
     "execution_count": 271,
     "metadata": {},
     "output_type": "execute_result"
    }
   ],
   "source": [
    "data = np.random.normal(1.,0.5, 10)\n",
    "data"
   ]
  },
  {
   "cell_type": "code",
   "execution_count": 272,
   "metadata": {},
   "outputs": [
    {
     "data": {
      "text/plain": [
       "array([ True, False,  True, False, False,  True,  True, False,  True,\n",
       "       False])"
      ]
     },
     "execution_count": 272,
     "metadata": {},
     "output_type": "execute_result"
    }
   ],
   "source": [
    "data = np.random.normal(0,1., 10)\n",
    "data > 0."
   ]
  },
  {
   "cell_type": "markdown",
   "metadata": {},
   "source": [
    "Since booleans are converted automatically to 0 and 1, you can easy count tem by using the `sum` function"
   ]
  },
  {
   "cell_type": "code",
   "execution_count": 274,
   "metadata": {},
   "outputs": [
    {
     "data": {
      "text/plain": [
       "5"
      ]
     },
     "execution_count": 274,
     "metadata": {},
     "output_type": "execute_result"
    }
   ],
   "source": [
    "(data >0).sum()"
   ]
  },
  {
   "cell_type": "markdown",
   "metadata": {},
   "source": [
    "Logial arrays can be used to slice and index an array!\n",
    "\n",
    "In this case we want the array with just the positive cells"
   ]
  },
  {
   "cell_type": "code",
   "execution_count": 215,
   "metadata": {
    "scrolled": false
   },
   "outputs": [
    {
     "name": "stdout",
     "output_type": "stream",
     "text": [
      "<class 'numpy.ndarray'> (5,)\n"
     ]
    }
   ],
   "source": [
    "pos_vals = data[ data> 0. ]\n",
    "print(type(pos_vals), pos_vals.shape)"
   ]
  },
  {
   "cell_type": "code",
   "execution_count": 216,
   "metadata": {},
   "outputs": [
    {
     "data": {
      "text/plain": [
       "0.4790110229469974"
      ]
     },
     "execution_count": 216,
     "metadata": {},
     "output_type": "execute_result"
    }
   ],
   "source": [
    "pos_vals[0]"
   ]
  },
  {
   "cell_type": "code",
   "execution_count": 222,
   "metadata": {},
   "outputs": [],
   "source": [
    "pos_vals[0] = -1"
   ]
  },
  {
   "cell_type": "code",
   "execution_count": 223,
   "metadata": {},
   "outputs": [
    {
     "name": "stdout",
     "output_type": "stream",
     "text": [
      "[-1.          0.10287567  0.1759219   1.00980333  0.22562508]\n"
     ]
    }
   ],
   "source": [
    "print (pos_vals)"
   ]
  },
  {
   "cell_type": "code",
   "execution_count": 224,
   "metadata": {},
   "outputs": [
    {
     "name": "stdout",
     "output_type": "stream",
     "text": [
      "[ 0.47901102 -0.29646927 -0.19406709 -1.49848078 -1.79624113  0.10287567\n",
      "  0.1759219   1.00980333 -1.28679243  0.22562508]\n"
     ]
    }
   ],
   "source": [
    "print(data)"
   ]
  },
  {
   "cell_type": "markdown",
   "metadata": {},
   "source": [
    "Note how slicing with boolean array, creates a new array and is not a reference to the original array"
   ]
  },
  {
   "cell_type": "code",
   "execution_count": 278,
   "metadata": {},
   "outputs": [
    {
     "name": "stdout",
     "output_type": "stream",
     "text": [
      "274\n",
      "274\n",
      "fraction of points beyond 3.0 sigma: 0.3 %\n"
     ]
    }
   ],
   "source": [
    "mu =1.0\n",
    "sig = 0.2\n",
    "nsig = 3.\n",
    "nvals = 100000\n",
    "data = np.random.normal(mu,sig, nvals)\n",
    "print( (abs(data-mu)>nsig*sig).sum()   )\n",
    "tail = data[ abs(data-mu)>nsig*sig  ]\n",
    "print(len(tail))\n",
    "print(\"fraction of points beyond %.1f sigma: %.1f\"%(nsig,100*len(tail)/nvals),\"%\")"
   ]
  },
  {
   "cell_type": "markdown",
   "metadata": {},
   "source": [
    "## Using NumPy ndarray instead of Lists\n",
    "We now solve the same problem  of the projectile but this time using a 2D array to do just one comprhension to compute both x(t) and y(t).\n",
    "\n",
    "When plotting you have to use slicing to specify that the 1st column are the x values and the 2nd column are the y values."
   ]
  },
  {
   "cell_type": "code",
   "execution_count": 11,
   "metadata": {},
   "outputs": [
    {
     "name": "stdout",
     "output_type": "stream",
     "text": [
      "v0_x: 26.0 m/s \t v0_y: 15.0 m/s\n",
      "[0.   0.01 0.02 0.03 0.04 0.05 0.06 0.07 0.08 0.09]\n",
      "shape of pos array:  (363, 2)\n"
     ]
    },
    {
     "data": {
      "application/javascript": [
       "/* Put everything inside the global mpl namespace */\n",
       "window.mpl = {};\n",
       "\n",
       "\n",
       "mpl.get_websocket_type = function() {\n",
       "    if (typeof(WebSocket) !== 'undefined') {\n",
       "        return WebSocket;\n",
       "    } else if (typeof(MozWebSocket) !== 'undefined') {\n",
       "        return MozWebSocket;\n",
       "    } else {\n",
       "        alert('Your browser does not have WebSocket support.' +\n",
       "              'Please try Chrome, Safari or Firefox ≥ 6. ' +\n",
       "              'Firefox 4 and 5 are also supported but you ' +\n",
       "              'have to enable WebSockets in about:config.');\n",
       "    };\n",
       "}\n",
       "\n",
       "mpl.figure = function(figure_id, websocket, ondownload, parent_element) {\n",
       "    this.id = figure_id;\n",
       "\n",
       "    this.ws = websocket;\n",
       "\n",
       "    this.supports_binary = (this.ws.binaryType != undefined);\n",
       "\n",
       "    if (!this.supports_binary) {\n",
       "        var warnings = document.getElementById(\"mpl-warnings\");\n",
       "        if (warnings) {\n",
       "            warnings.style.display = 'block';\n",
       "            warnings.textContent = (\n",
       "                \"This browser does not support binary websocket messages. \" +\n",
       "                    \"Performance may be slow.\");\n",
       "        }\n",
       "    }\n",
       "\n",
       "    this.imageObj = new Image();\n",
       "\n",
       "    this.context = undefined;\n",
       "    this.message = undefined;\n",
       "    this.canvas = undefined;\n",
       "    this.rubberband_canvas = undefined;\n",
       "    this.rubberband_context = undefined;\n",
       "    this.format_dropdown = undefined;\n",
       "\n",
       "    this.image_mode = 'full';\n",
       "\n",
       "    this.root = $('<div/>');\n",
       "    this._root_extra_style(this.root)\n",
       "    this.root.attr('style', 'display: inline-block');\n",
       "\n",
       "    $(parent_element).append(this.root);\n",
       "\n",
       "    this._init_header(this);\n",
       "    this._init_canvas(this);\n",
       "    this._init_toolbar(this);\n",
       "\n",
       "    var fig = this;\n",
       "\n",
       "    this.waiting = false;\n",
       "\n",
       "    this.ws.onopen =  function () {\n",
       "            fig.send_message(\"supports_binary\", {value: fig.supports_binary});\n",
       "            fig.send_message(\"send_image_mode\", {});\n",
       "            if (mpl.ratio != 1) {\n",
       "                fig.send_message(\"set_dpi_ratio\", {'dpi_ratio': mpl.ratio});\n",
       "            }\n",
       "            fig.send_message(\"refresh\", {});\n",
       "        }\n",
       "\n",
       "    this.imageObj.onload = function() {\n",
       "            if (fig.image_mode == 'full') {\n",
       "                // Full images could contain transparency (where diff images\n",
       "                // almost always do), so we need to clear the canvas so that\n",
       "                // there is no ghosting.\n",
       "                fig.context.clearRect(0, 0, fig.canvas.width, fig.canvas.height);\n",
       "            }\n",
       "            fig.context.drawImage(fig.imageObj, 0, 0);\n",
       "        };\n",
       "\n",
       "    this.imageObj.onunload = function() {\n",
       "        fig.ws.close();\n",
       "    }\n",
       "\n",
       "    this.ws.onmessage = this._make_on_message_function(this);\n",
       "\n",
       "    this.ondownload = ondownload;\n",
       "}\n",
       "\n",
       "mpl.figure.prototype._init_header = function() {\n",
       "    var titlebar = $(\n",
       "        '<div class=\"ui-dialog-titlebar ui-widget-header ui-corner-all ' +\n",
       "        'ui-helper-clearfix\"/>');\n",
       "    var titletext = $(\n",
       "        '<div class=\"ui-dialog-title\" style=\"width: 100%; ' +\n",
       "        'text-align: center; padding: 3px;\"/>');\n",
       "    titlebar.append(titletext)\n",
       "    this.root.append(titlebar);\n",
       "    this.header = titletext[0];\n",
       "}\n",
       "\n",
       "\n",
       "\n",
       "mpl.figure.prototype._canvas_extra_style = function(canvas_div) {\n",
       "\n",
       "}\n",
       "\n",
       "\n",
       "mpl.figure.prototype._root_extra_style = function(canvas_div) {\n",
       "\n",
       "}\n",
       "\n",
       "mpl.figure.prototype._init_canvas = function() {\n",
       "    var fig = this;\n",
       "\n",
       "    var canvas_div = $('<div/>');\n",
       "\n",
       "    canvas_div.attr('style', 'position: relative; clear: both; outline: 0');\n",
       "\n",
       "    function canvas_keyboard_event(event) {\n",
       "        return fig.key_event(event, event['data']);\n",
       "    }\n",
       "\n",
       "    canvas_div.keydown('key_press', canvas_keyboard_event);\n",
       "    canvas_div.keyup('key_release', canvas_keyboard_event);\n",
       "    this.canvas_div = canvas_div\n",
       "    this._canvas_extra_style(canvas_div)\n",
       "    this.root.append(canvas_div);\n",
       "\n",
       "    var canvas = $('<canvas/>');\n",
       "    canvas.addClass('mpl-canvas');\n",
       "    canvas.attr('style', \"left: 0; top: 0; z-index: 0; outline: 0\")\n",
       "\n",
       "    this.canvas = canvas[0];\n",
       "    this.context = canvas[0].getContext(\"2d\");\n",
       "\n",
       "    var backingStore = this.context.backingStorePixelRatio ||\n",
       "\tthis.context.webkitBackingStorePixelRatio ||\n",
       "\tthis.context.mozBackingStorePixelRatio ||\n",
       "\tthis.context.msBackingStorePixelRatio ||\n",
       "\tthis.context.oBackingStorePixelRatio ||\n",
       "\tthis.context.backingStorePixelRatio || 1;\n",
       "\n",
       "    mpl.ratio = (window.devicePixelRatio || 1) / backingStore;\n",
       "\n",
       "    var rubberband = $('<canvas/>');\n",
       "    rubberband.attr('style', \"position: absolute; left: 0; top: 0; z-index: 1;\")\n",
       "\n",
       "    var pass_mouse_events = true;\n",
       "\n",
       "    canvas_div.resizable({\n",
       "        start: function(event, ui) {\n",
       "            pass_mouse_events = false;\n",
       "        },\n",
       "        resize: function(event, ui) {\n",
       "            fig.request_resize(ui.size.width, ui.size.height);\n",
       "        },\n",
       "        stop: function(event, ui) {\n",
       "            pass_mouse_events = true;\n",
       "            fig.request_resize(ui.size.width, ui.size.height);\n",
       "        },\n",
       "    });\n",
       "\n",
       "    function mouse_event_fn(event) {\n",
       "        if (pass_mouse_events)\n",
       "            return fig.mouse_event(event, event['data']);\n",
       "    }\n",
       "\n",
       "    rubberband.mousedown('button_press', mouse_event_fn);\n",
       "    rubberband.mouseup('button_release', mouse_event_fn);\n",
       "    // Throttle sequential mouse events to 1 every 20ms.\n",
       "    rubberband.mousemove('motion_notify', mouse_event_fn);\n",
       "\n",
       "    rubberband.mouseenter('figure_enter', mouse_event_fn);\n",
       "    rubberband.mouseleave('figure_leave', mouse_event_fn);\n",
       "\n",
       "    canvas_div.on(\"wheel\", function (event) {\n",
       "        event = event.originalEvent;\n",
       "        event['data'] = 'scroll'\n",
       "        if (event.deltaY < 0) {\n",
       "            event.step = 1;\n",
       "        } else {\n",
       "            event.step = -1;\n",
       "        }\n",
       "        mouse_event_fn(event);\n",
       "    });\n",
       "\n",
       "    canvas_div.append(canvas);\n",
       "    canvas_div.append(rubberband);\n",
       "\n",
       "    this.rubberband = rubberband;\n",
       "    this.rubberband_canvas = rubberband[0];\n",
       "    this.rubberband_context = rubberband[0].getContext(\"2d\");\n",
       "    this.rubberband_context.strokeStyle = \"#000000\";\n",
       "\n",
       "    this._resize_canvas = function(width, height) {\n",
       "        // Keep the size of the canvas, canvas container, and rubber band\n",
       "        // canvas in synch.\n",
       "        canvas_div.css('width', width)\n",
       "        canvas_div.css('height', height)\n",
       "\n",
       "        canvas.attr('width', width * mpl.ratio);\n",
       "        canvas.attr('height', height * mpl.ratio);\n",
       "        canvas.attr('style', 'width: ' + width + 'px; height: ' + height + 'px;');\n",
       "\n",
       "        rubberband.attr('width', width);\n",
       "        rubberband.attr('height', height);\n",
       "    }\n",
       "\n",
       "    // Set the figure to an initial 600x600px, this will subsequently be updated\n",
       "    // upon first draw.\n",
       "    this._resize_canvas(600, 600);\n",
       "\n",
       "    // Disable right mouse context menu.\n",
       "    $(this.rubberband_canvas).bind(\"contextmenu\",function(e){\n",
       "        return false;\n",
       "    });\n",
       "\n",
       "    function set_focus () {\n",
       "        canvas.focus();\n",
       "        canvas_div.focus();\n",
       "    }\n",
       "\n",
       "    window.setTimeout(set_focus, 100);\n",
       "}\n",
       "\n",
       "mpl.figure.prototype._init_toolbar = function() {\n",
       "    var fig = this;\n",
       "\n",
       "    var nav_element = $('<div/>')\n",
       "    nav_element.attr('style', 'width: 100%');\n",
       "    this.root.append(nav_element);\n",
       "\n",
       "    // Define a callback function for later on.\n",
       "    function toolbar_event(event) {\n",
       "        return fig.toolbar_button_onclick(event['data']);\n",
       "    }\n",
       "    function toolbar_mouse_event(event) {\n",
       "        return fig.toolbar_button_onmouseover(event['data']);\n",
       "    }\n",
       "\n",
       "    for(var toolbar_ind in mpl.toolbar_items) {\n",
       "        var name = mpl.toolbar_items[toolbar_ind][0];\n",
       "        var tooltip = mpl.toolbar_items[toolbar_ind][1];\n",
       "        var image = mpl.toolbar_items[toolbar_ind][2];\n",
       "        var method_name = mpl.toolbar_items[toolbar_ind][3];\n",
       "\n",
       "        if (!name) {\n",
       "            // put a spacer in here.\n",
       "            continue;\n",
       "        }\n",
       "        var button = $('<button/>');\n",
       "        button.addClass('ui-button ui-widget ui-state-default ui-corner-all ' +\n",
       "                        'ui-button-icon-only');\n",
       "        button.attr('role', 'button');\n",
       "        button.attr('aria-disabled', 'false');\n",
       "        button.click(method_name, toolbar_event);\n",
       "        button.mouseover(tooltip, toolbar_mouse_event);\n",
       "\n",
       "        var icon_img = $('<span/>');\n",
       "        icon_img.addClass('ui-button-icon-primary ui-icon');\n",
       "        icon_img.addClass(image);\n",
       "        icon_img.addClass('ui-corner-all');\n",
       "\n",
       "        var tooltip_span = $('<span/>');\n",
       "        tooltip_span.addClass('ui-button-text');\n",
       "        tooltip_span.html(tooltip);\n",
       "\n",
       "        button.append(icon_img);\n",
       "        button.append(tooltip_span);\n",
       "\n",
       "        nav_element.append(button);\n",
       "    }\n",
       "\n",
       "    var fmt_picker_span = $('<span/>');\n",
       "\n",
       "    var fmt_picker = $('<select/>');\n",
       "    fmt_picker.addClass('mpl-toolbar-option ui-widget ui-widget-content');\n",
       "    fmt_picker_span.append(fmt_picker);\n",
       "    nav_element.append(fmt_picker_span);\n",
       "    this.format_dropdown = fmt_picker[0];\n",
       "\n",
       "    for (var ind in mpl.extensions) {\n",
       "        var fmt = mpl.extensions[ind];\n",
       "        var option = $(\n",
       "            '<option/>', {selected: fmt === mpl.default_extension}).html(fmt);\n",
       "        fmt_picker.append(option)\n",
       "    }\n",
       "\n",
       "    // Add hover states to the ui-buttons\n",
       "    $( \".ui-button\" ).hover(\n",
       "        function() { $(this).addClass(\"ui-state-hover\");},\n",
       "        function() { $(this).removeClass(\"ui-state-hover\");}\n",
       "    );\n",
       "\n",
       "    var status_bar = $('<span class=\"mpl-message\"/>');\n",
       "    nav_element.append(status_bar);\n",
       "    this.message = status_bar[0];\n",
       "}\n",
       "\n",
       "mpl.figure.prototype.request_resize = function(x_pixels, y_pixels) {\n",
       "    // Request matplotlib to resize the figure. Matplotlib will then trigger a resize in the client,\n",
       "    // which will in turn request a refresh of the image.\n",
       "    this.send_message('resize', {'width': x_pixels, 'height': y_pixels});\n",
       "}\n",
       "\n",
       "mpl.figure.prototype.send_message = function(type, properties) {\n",
       "    properties['type'] = type;\n",
       "    properties['figure_id'] = this.id;\n",
       "    this.ws.send(JSON.stringify(properties));\n",
       "}\n",
       "\n",
       "mpl.figure.prototype.send_draw_message = function() {\n",
       "    if (!this.waiting) {\n",
       "        this.waiting = true;\n",
       "        this.ws.send(JSON.stringify({type: \"draw\", figure_id: this.id}));\n",
       "    }\n",
       "}\n",
       "\n",
       "\n",
       "mpl.figure.prototype.handle_save = function(fig, msg) {\n",
       "    var format_dropdown = fig.format_dropdown;\n",
       "    var format = format_dropdown.options[format_dropdown.selectedIndex].value;\n",
       "    fig.ondownload(fig, format);\n",
       "}\n",
       "\n",
       "\n",
       "mpl.figure.prototype.handle_resize = function(fig, msg) {\n",
       "    var size = msg['size'];\n",
       "    if (size[0] != fig.canvas.width || size[1] != fig.canvas.height) {\n",
       "        fig._resize_canvas(size[0], size[1]);\n",
       "        fig.send_message(\"refresh\", {});\n",
       "    };\n",
       "}\n",
       "\n",
       "mpl.figure.prototype.handle_rubberband = function(fig, msg) {\n",
       "    var x0 = msg['x0'] / mpl.ratio;\n",
       "    var y0 = (fig.canvas.height - msg['y0']) / mpl.ratio;\n",
       "    var x1 = msg['x1'] / mpl.ratio;\n",
       "    var y1 = (fig.canvas.height - msg['y1']) / mpl.ratio;\n",
       "    x0 = Math.floor(x0) + 0.5;\n",
       "    y0 = Math.floor(y0) + 0.5;\n",
       "    x1 = Math.floor(x1) + 0.5;\n",
       "    y1 = Math.floor(y1) + 0.5;\n",
       "    var min_x = Math.min(x0, x1);\n",
       "    var min_y = Math.min(y0, y1);\n",
       "    var width = Math.abs(x1 - x0);\n",
       "    var height = Math.abs(y1 - y0);\n",
       "\n",
       "    fig.rubberband_context.clearRect(\n",
       "        0, 0, fig.canvas.width, fig.canvas.height);\n",
       "\n",
       "    fig.rubberband_context.strokeRect(min_x, min_y, width, height);\n",
       "}\n",
       "\n",
       "mpl.figure.prototype.handle_figure_label = function(fig, msg) {\n",
       "    // Updates the figure title.\n",
       "    fig.header.textContent = msg['label'];\n",
       "}\n",
       "\n",
       "mpl.figure.prototype.handle_cursor = function(fig, msg) {\n",
       "    var cursor = msg['cursor'];\n",
       "    switch(cursor)\n",
       "    {\n",
       "    case 0:\n",
       "        cursor = 'pointer';\n",
       "        break;\n",
       "    case 1:\n",
       "        cursor = 'default';\n",
       "        break;\n",
       "    case 2:\n",
       "        cursor = 'crosshair';\n",
       "        break;\n",
       "    case 3:\n",
       "        cursor = 'move';\n",
       "        break;\n",
       "    }\n",
       "    fig.rubberband_canvas.style.cursor = cursor;\n",
       "}\n",
       "\n",
       "mpl.figure.prototype.handle_message = function(fig, msg) {\n",
       "    fig.message.textContent = msg['message'];\n",
       "}\n",
       "\n",
       "mpl.figure.prototype.handle_draw = function(fig, msg) {\n",
       "    // Request the server to send over a new figure.\n",
       "    fig.send_draw_message();\n",
       "}\n",
       "\n",
       "mpl.figure.prototype.handle_image_mode = function(fig, msg) {\n",
       "    fig.image_mode = msg['mode'];\n",
       "}\n",
       "\n",
       "mpl.figure.prototype.updated_canvas_event = function() {\n",
       "    // Called whenever the canvas gets updated.\n",
       "    this.send_message(\"ack\", {});\n",
       "}\n",
       "\n",
       "// A function to construct a web socket function for onmessage handling.\n",
       "// Called in the figure constructor.\n",
       "mpl.figure.prototype._make_on_message_function = function(fig) {\n",
       "    return function socket_on_message(evt) {\n",
       "        if (evt.data instanceof Blob) {\n",
       "            /* FIXME: We get \"Resource interpreted as Image but\n",
       "             * transferred with MIME type text/plain:\" errors on\n",
       "             * Chrome.  But how to set the MIME type?  It doesn't seem\n",
       "             * to be part of the websocket stream */\n",
       "            evt.data.type = \"image/png\";\n",
       "\n",
       "            /* Free the memory for the previous frames */\n",
       "            if (fig.imageObj.src) {\n",
       "                (window.URL || window.webkitURL).revokeObjectURL(\n",
       "                    fig.imageObj.src);\n",
       "            }\n",
       "\n",
       "            fig.imageObj.src = (window.URL || window.webkitURL).createObjectURL(\n",
       "                evt.data);\n",
       "            fig.updated_canvas_event();\n",
       "            fig.waiting = false;\n",
       "            return;\n",
       "        }\n",
       "        else if (typeof evt.data === 'string' && evt.data.slice(0, 21) == \"data:image/png;base64\") {\n",
       "            fig.imageObj.src = evt.data;\n",
       "            fig.updated_canvas_event();\n",
       "            fig.waiting = false;\n",
       "            return;\n",
       "        }\n",
       "\n",
       "        var msg = JSON.parse(evt.data);\n",
       "        var msg_type = msg['type'];\n",
       "\n",
       "        // Call the  \"handle_{type}\" callback, which takes\n",
       "        // the figure and JSON message as its only arguments.\n",
       "        try {\n",
       "            var callback = fig[\"handle_\" + msg_type];\n",
       "        } catch (e) {\n",
       "            console.log(\"No handler for the '\" + msg_type + \"' message type: \", msg);\n",
       "            return;\n",
       "        }\n",
       "\n",
       "        if (callback) {\n",
       "            try {\n",
       "                // console.log(\"Handling '\" + msg_type + \"' message: \", msg);\n",
       "                callback(fig, msg);\n",
       "            } catch (e) {\n",
       "                console.log(\"Exception inside the 'handler_\" + msg_type + \"' callback:\", e, e.stack, msg);\n",
       "            }\n",
       "        }\n",
       "    };\n",
       "}\n",
       "\n",
       "// from http://stackoverflow.com/questions/1114465/getting-mouse-location-in-canvas\n",
       "mpl.findpos = function(e) {\n",
       "    //this section is from http://www.quirksmode.org/js/events_properties.html\n",
       "    var targ;\n",
       "    if (!e)\n",
       "        e = window.event;\n",
       "    if (e.target)\n",
       "        targ = e.target;\n",
       "    else if (e.srcElement)\n",
       "        targ = e.srcElement;\n",
       "    if (targ.nodeType == 3) // defeat Safari bug\n",
       "        targ = targ.parentNode;\n",
       "\n",
       "    // jQuery normalizes the pageX and pageY\n",
       "    // pageX,Y are the mouse positions relative to the document\n",
       "    // offset() returns the position of the element relative to the document\n",
       "    var x = e.pageX - $(targ).offset().left;\n",
       "    var y = e.pageY - $(targ).offset().top;\n",
       "\n",
       "    return {\"x\": x, \"y\": y};\n",
       "};\n",
       "\n",
       "/*\n",
       " * return a copy of an object with only non-object keys\n",
       " * we need this to avoid circular references\n",
       " * http://stackoverflow.com/a/24161582/3208463\n",
       " */\n",
       "function simpleKeys (original) {\n",
       "  return Object.keys(original).reduce(function (obj, key) {\n",
       "    if (typeof original[key] !== 'object')\n",
       "        obj[key] = original[key]\n",
       "    return obj;\n",
       "  }, {});\n",
       "}\n",
       "\n",
       "mpl.figure.prototype.mouse_event = function(event, name) {\n",
       "    var canvas_pos = mpl.findpos(event)\n",
       "\n",
       "    if (name === 'button_press')\n",
       "    {\n",
       "        this.canvas.focus();\n",
       "        this.canvas_div.focus();\n",
       "    }\n",
       "\n",
       "    var x = canvas_pos.x * mpl.ratio;\n",
       "    var y = canvas_pos.y * mpl.ratio;\n",
       "\n",
       "    this.send_message(name, {x: x, y: y, button: event.button,\n",
       "                             step: event.step,\n",
       "                             guiEvent: simpleKeys(event)});\n",
       "\n",
       "    /* This prevents the web browser from automatically changing to\n",
       "     * the text insertion cursor when the button is pressed.  We want\n",
       "     * to control all of the cursor setting manually through the\n",
       "     * 'cursor' event from matplotlib */\n",
       "    event.preventDefault();\n",
       "    return false;\n",
       "}\n",
       "\n",
       "mpl.figure.prototype._key_event_extra = function(event, name) {\n",
       "    // Handle any extra behaviour associated with a key event\n",
       "}\n",
       "\n",
       "mpl.figure.prototype.key_event = function(event, name) {\n",
       "\n",
       "    // Prevent repeat events\n",
       "    if (name == 'key_press')\n",
       "    {\n",
       "        if (event.which === this._key)\n",
       "            return;\n",
       "        else\n",
       "            this._key = event.which;\n",
       "    }\n",
       "    if (name == 'key_release')\n",
       "        this._key = null;\n",
       "\n",
       "    var value = '';\n",
       "    if (event.ctrlKey && event.which != 17)\n",
       "        value += \"ctrl+\";\n",
       "    if (event.altKey && event.which != 18)\n",
       "        value += \"alt+\";\n",
       "    if (event.shiftKey && event.which != 16)\n",
       "        value += \"shift+\";\n",
       "\n",
       "    value += 'k';\n",
       "    value += event.which.toString();\n",
       "\n",
       "    this._key_event_extra(event, name);\n",
       "\n",
       "    this.send_message(name, {key: value,\n",
       "                             guiEvent: simpleKeys(event)});\n",
       "    return false;\n",
       "}\n",
       "\n",
       "mpl.figure.prototype.toolbar_button_onclick = function(name) {\n",
       "    if (name == 'download') {\n",
       "        this.handle_save(this, null);\n",
       "    } else {\n",
       "        this.send_message(\"toolbar_button\", {name: name});\n",
       "    }\n",
       "};\n",
       "\n",
       "mpl.figure.prototype.toolbar_button_onmouseover = function(tooltip) {\n",
       "    this.message.textContent = tooltip;\n",
       "};\n",
       "mpl.toolbar_items = [[\"Home\", \"Reset original view\", \"fa fa-home icon-home\", \"home\"], [\"Back\", \"Back to previous view\", \"fa fa-arrow-left icon-arrow-left\", \"back\"], [\"Forward\", \"Forward to next view\", \"fa fa-arrow-right icon-arrow-right\", \"forward\"], [\"\", \"\", \"\", \"\"], [\"Pan\", \"Pan axes with left mouse, zoom with right\", \"fa fa-arrows icon-move\", \"pan\"], [\"Zoom\", \"Zoom to rectangle\", \"fa fa-square-o icon-check-empty\", \"zoom\"], [\"\", \"\", \"\", \"\"], [\"Download\", \"Download plot\", \"fa fa-floppy-o icon-save\", \"download\"]];\n",
       "\n",
       "mpl.extensions = [\"eps\", \"pdf\", \"png\", \"ps\", \"raw\", \"svg\"];\n",
       "\n",
       "mpl.default_extension = \"png\";var comm_websocket_adapter = function(comm) {\n",
       "    // Create a \"websocket\"-like object which calls the given IPython comm\n",
       "    // object with the appropriate methods. Currently this is a non binary\n",
       "    // socket, so there is still some room for performance tuning.\n",
       "    var ws = {};\n",
       "\n",
       "    ws.close = function() {\n",
       "        comm.close()\n",
       "    };\n",
       "    ws.send = function(m) {\n",
       "        //console.log('sending', m);\n",
       "        comm.send(m);\n",
       "    };\n",
       "    // Register the callback with on_msg.\n",
       "    comm.on_msg(function(msg) {\n",
       "        //console.log('receiving', msg['content']['data'], msg);\n",
       "        // Pass the mpl event to the overridden (by mpl) onmessage function.\n",
       "        ws.onmessage(msg['content']['data'])\n",
       "    });\n",
       "    return ws;\n",
       "}\n",
       "\n",
       "mpl.mpl_figure_comm = function(comm, msg) {\n",
       "    // This is the function which gets called when the mpl process\n",
       "    // starts-up an IPython Comm through the \"matplotlib\" channel.\n",
       "\n",
       "    var id = msg.content.data.id;\n",
       "    // Get hold of the div created by the display call when the Comm\n",
       "    // socket was opened in Python.\n",
       "    var element = $(\"#\" + id);\n",
       "    var ws_proxy = comm_websocket_adapter(comm)\n",
       "\n",
       "    function ondownload(figure, format) {\n",
       "        window.open(figure.imageObj.src);\n",
       "    }\n",
       "\n",
       "    var fig = new mpl.figure(id, ws_proxy,\n",
       "                           ondownload,\n",
       "                           element.get(0));\n",
       "\n",
       "    // Call onopen now - mpl needs it, as it is assuming we've passed it a real\n",
       "    // web socket which is closed, not our websocket->open comm proxy.\n",
       "    ws_proxy.onopen();\n",
       "\n",
       "    fig.parent_element = element.get(0);\n",
       "    fig.cell_info = mpl.find_output_cell(\"<div id='\" + id + \"'></div>\");\n",
       "    if (!fig.cell_info) {\n",
       "        console.error(\"Failed to find cell for figure\", id, fig);\n",
       "        return;\n",
       "    }\n",
       "\n",
       "    var output_index = fig.cell_info[2]\n",
       "    var cell = fig.cell_info[0];\n",
       "\n",
       "};\n",
       "\n",
       "mpl.figure.prototype.handle_close = function(fig, msg) {\n",
       "    var width = fig.canvas.width/mpl.ratio\n",
       "    fig.root.unbind('remove')\n",
       "\n",
       "    // Update the output cell to use the data from the current canvas.\n",
       "    fig.push_to_output();\n",
       "    var dataURL = fig.canvas.toDataURL();\n",
       "    // Re-enable the keyboard manager in IPython - without this line, in FF,\n",
       "    // the notebook keyboard shortcuts fail.\n",
       "    IPython.keyboard_manager.enable()\n",
       "    $(fig.parent_element).html('<img src=\"' + dataURL + '\" width=\"' + width + '\">');\n",
       "    fig.close_ws(fig, msg);\n",
       "}\n",
       "\n",
       "mpl.figure.prototype.close_ws = function(fig, msg){\n",
       "    fig.send_message('closing', msg);\n",
       "    // fig.ws.close()\n",
       "}\n",
       "\n",
       "mpl.figure.prototype.push_to_output = function(remove_interactive) {\n",
       "    // Turn the data on the canvas into data in the output cell.\n",
       "    var width = this.canvas.width/mpl.ratio\n",
       "    var dataURL = this.canvas.toDataURL();\n",
       "    this.cell_info[1]['text/html'] = '<img src=\"' + dataURL + '\" width=\"' + width + '\">';\n",
       "}\n",
       "\n",
       "mpl.figure.prototype.updated_canvas_event = function() {\n",
       "    // Tell IPython that the notebook contents must change.\n",
       "    IPython.notebook.set_dirty(true);\n",
       "    this.send_message(\"ack\", {});\n",
       "    var fig = this;\n",
       "    // Wait a second, then push the new image to the DOM so\n",
       "    // that it is saved nicely (might be nice to debounce this).\n",
       "    setTimeout(function () { fig.push_to_output() }, 1000);\n",
       "}\n",
       "\n",
       "mpl.figure.prototype._init_toolbar = function() {\n",
       "    var fig = this;\n",
       "\n",
       "    var nav_element = $('<div/>')\n",
       "    nav_element.attr('style', 'width: 100%');\n",
       "    this.root.append(nav_element);\n",
       "\n",
       "    // Define a callback function for later on.\n",
       "    function toolbar_event(event) {\n",
       "        return fig.toolbar_button_onclick(event['data']);\n",
       "    }\n",
       "    function toolbar_mouse_event(event) {\n",
       "        return fig.toolbar_button_onmouseover(event['data']);\n",
       "    }\n",
       "\n",
       "    for(var toolbar_ind in mpl.toolbar_items){\n",
       "        var name = mpl.toolbar_items[toolbar_ind][0];\n",
       "        var tooltip = mpl.toolbar_items[toolbar_ind][1];\n",
       "        var image = mpl.toolbar_items[toolbar_ind][2];\n",
       "        var method_name = mpl.toolbar_items[toolbar_ind][3];\n",
       "\n",
       "        if (!name) { continue; };\n",
       "\n",
       "        var button = $('<button class=\"btn btn-default\" href=\"#\" title=\"' + name + '\"><i class=\"fa ' + image + ' fa-lg\"></i></button>');\n",
       "        button.click(method_name, toolbar_event);\n",
       "        button.mouseover(tooltip, toolbar_mouse_event);\n",
       "        nav_element.append(button);\n",
       "    }\n",
       "\n",
       "    // Add the status bar.\n",
       "    var status_bar = $('<span class=\"mpl-message\" style=\"text-align:right; float: right;\"/>');\n",
       "    nav_element.append(status_bar);\n",
       "    this.message = status_bar[0];\n",
       "\n",
       "    // Add the close button to the window.\n",
       "    var buttongrp = $('<div class=\"btn-group inline pull-right\"></div>');\n",
       "    var button = $('<button class=\"btn btn-mini btn-primary\" href=\"#\" title=\"Stop Interaction\"><i class=\"fa fa-power-off icon-remove icon-large\"></i></button>');\n",
       "    button.click(function (evt) { fig.handle_close(fig, {}); } );\n",
       "    button.mouseover('Stop Interaction', toolbar_mouse_event);\n",
       "    buttongrp.append(button);\n",
       "    var titlebar = this.root.find($('.ui-dialog-titlebar'));\n",
       "    titlebar.prepend(buttongrp);\n",
       "}\n",
       "\n",
       "mpl.figure.prototype._root_extra_style = function(el){\n",
       "    var fig = this\n",
       "    el.on(\"remove\", function(){\n",
       "\tfig.close_ws(fig, {});\n",
       "    });\n",
       "}\n",
       "\n",
       "mpl.figure.prototype._canvas_extra_style = function(el){\n",
       "    // this is important to make the div 'focusable\n",
       "    el.attr('tabindex', 0)\n",
       "    // reach out to IPython and tell the keyboard manager to turn it's self\n",
       "    // off when our div gets focus\n",
       "\n",
       "    // location in version 3\n",
       "    if (IPython.notebook.keyboard_manager) {\n",
       "        IPython.notebook.keyboard_manager.register_events(el);\n",
       "    }\n",
       "    else {\n",
       "        // location in version 2\n",
       "        IPython.keyboard_manager.register_events(el);\n",
       "    }\n",
       "\n",
       "}\n",
       "\n",
       "mpl.figure.prototype._key_event_extra = function(event, name) {\n",
       "    var manager = IPython.notebook.keyboard_manager;\n",
       "    if (!manager)\n",
       "        manager = IPython.keyboard_manager;\n",
       "\n",
       "    // Check for shift+enter\n",
       "    if (event.shiftKey && event.which == 13) {\n",
       "        this.canvas_div.blur();\n",
       "        event.shiftKey = false;\n",
       "        // Send a \"J\" for go to next cell\n",
       "        event.which = 74;\n",
       "        event.keyCode = 74;\n",
       "        manager.command_mode();\n",
       "        manager.handle_keydown(event);\n",
       "    }\n",
       "}\n",
       "\n",
       "mpl.figure.prototype.handle_save = function(fig, msg) {\n",
       "    fig.ondownload(fig, null);\n",
       "}\n",
       "\n",
       "\n",
       "mpl.find_output_cell = function(html_output) {\n",
       "    // Return the cell and output element which can be found *uniquely* in the notebook.\n",
       "    // Note - this is a bit hacky, but it is done because the \"notebook_saving.Notebook\"\n",
       "    // IPython event is triggered only after the cells have been serialised, which for\n",
       "    // our purposes (turning an active figure into a static one), is too late.\n",
       "    var cells = IPython.notebook.get_cells();\n",
       "    var ncells = cells.length;\n",
       "    for (var i=0; i<ncells; i++) {\n",
       "        var cell = cells[i];\n",
       "        if (cell.cell_type === 'code'){\n",
       "            for (var j=0; j<cell.output_area.outputs.length; j++) {\n",
       "                var data = cell.output_area.outputs[j];\n",
       "                if (data.data) {\n",
       "                    // IPython >= 3 moved mimebundle to data attribute of output\n",
       "                    data = data.data;\n",
       "                }\n",
       "                if (data['text/html'] == html_output) {\n",
       "                    return [cell, data, j];\n",
       "                }\n",
       "            }\n",
       "        }\n",
       "    }\n",
       "}\n",
       "\n",
       "// Register the function which deals with the matplotlib target/channel.\n",
       "// The kernel may be null if the page has been refreshed.\n",
       "if (IPython.notebook.kernel != null) {\n",
       "    IPython.notebook.kernel.comm_manager.register_target('matplotlib', mpl.mpl_figure_comm);\n",
       "}\n"
      ],
      "text/plain": [
       "<IPython.core.display.Javascript object>"
      ]
     },
     "metadata": {},
     "output_type": "display_data"
    },
    {
     "data": {
      "text/html": [
       "<img src=\"data:image/png;base64,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\" width=\"640\">"
      ],
      "text/plain": [
       "<IPython.core.display.HTML object>"
      ]
     },
     "metadata": {},
     "output_type": "display_data"
    },
    {
     "name": "stdout",
     "output_type": "stream",
     "text": [
      "max height: 21.48 at x = 39.75\n"
     ]
    }
   ],
   "source": [
    "%matplotlib notebook\n",
    "import matplotlib.pyplot as plt\n",
    "import matplotlib.animation as animation\n",
    "import numpy as np\n",
    "import time\n",
    "\n",
    "\n",
    "# initial conditions\n",
    "g = 9.8\n",
    "h = 10.\n",
    "theta = (30./180.)*np.pi\n",
    "v0 = 30.\n",
    "dt=0.01\n",
    "\n",
    "#compute velocity components\n",
    "v0x = v0*np.cos(theta)\n",
    "v0y = v0*np.sin(theta)\n",
    "print(\"v0_x: %.1f m/s \\t v0_y: %.1f m/s\"%(v0x,v0y))\n",
    "\n",
    "x0 = 0\n",
    "y0 = h\n",
    "\n",
    "def x(t):\n",
    "    return x0+v0x*t\n",
    "\n",
    "def y(t):\n",
    "    return y0+v0y*t-0.5*g*t*t\n",
    "\n",
    "\n",
    "dt = 0.01\n",
    "# generate list of times for sampling\n",
    "times = np.arange(0., 1000., dt)\n",
    "\n",
    "#print first 10 elements\n",
    "print(times[:10])\n",
    "\n",
    "# use 2D array to do one comprehension\n",
    "pos = np.array([ [x(t),y(t)] for t in times if y(t)>=0. ])\n",
    "print(\"shape of pos array: \",pos.shape)\n",
    "# create a figure object\n",
    "fig = plt.figure()\n",
    "\n",
    "# add subplot (just 1) and set x and y limits based on data\n",
    "# ax is the object containing objects to be plotted\n",
    "ax = fig.add_subplot(111, autoscale_on=False, xlim=(-0.1, max(pos[:,0])*1.2), ylim=(-0.1,max(pos[:,1])*1.2) )\n",
    "ax.grid()\n",
    "ax.set_xlabel('x(t) [m]')\n",
    "ax.set_ylabel(\"y(t) [m]\")\n",
    "plt.title(\"trajectory of a projectile with $v_0$: %.1f m/s\\t $\\Theta_0$: %.1f$^\\circ$\"%(v0,theta))\n",
    "\n",
    "# plot slices for ndarray\n",
    "line = ax.plot(pos[:,0], pos[:,1],  lw=2, color='red')\n",
    "plt.show()\n",
    "\n",
    "\n",
    "xi = list(pos[:,0])\n",
    "yi = list(pos[:,1])\n",
    "print(\"max height: %.2f at x = %.2f\"%(max(yi),xi[yi.index(max(yi))]))\n"
   ]
  },
  {
   "cell_type": "markdown",
   "metadata": {},
   "source": [
    "## Using function with multiple return value\n",
    "we now get rid of x(t) and y(t) and replace it with just one function pos(t) returning 2 values\n",
    "\n",
    "We use ndarray everywhere instaed of the list type. Howevere note that\n",
    "- to print the position of the maximum, using slices can cause some headache and confusion for who reads the code\n",
    "  - you can create lists xi and yi to make the code more readable\n",
    "- a slice does not have the same methods of a list. So for example you can not call `index()` on a slice so we create a list on the fly `list(pos[:,1]).index(max(pos[:,1]))`"
   ]
  },
  {
   "cell_type": "code",
   "execution_count": 13,
   "metadata": {
    "scrolled": false
   },
   "outputs": [
    {
     "name": "stdout",
     "output_type": "stream",
     "text": [
      "v0_x: 26.0 m/s \t v0_y: 15.0 m/s\n",
      "[0.   0.01 0.02 0.03 0.04 0.05 0.06 0.07 0.08 0.09]\n",
      "shape of pos:  (363, 2)\n",
      "max height: 21.48 at x = 39.75\n"
     ]
    },
    {
     "data": {
      "application/javascript": [
       "/* Put everything inside the global mpl namespace */\n",
       "window.mpl = {};\n",
       "\n",
       "\n",
       "mpl.get_websocket_type = function() {\n",
       "    if (typeof(WebSocket) !== 'undefined') {\n",
       "        return WebSocket;\n",
       "    } else if (typeof(MozWebSocket) !== 'undefined') {\n",
       "        return MozWebSocket;\n",
       "    } else {\n",
       "        alert('Your browser does not have WebSocket support.' +\n",
       "              'Please try Chrome, Safari or Firefox ≥ 6. ' +\n",
       "              'Firefox 4 and 5 are also supported but you ' +\n",
       "              'have to enable WebSockets in about:config.');\n",
       "    };\n",
       "}\n",
       "\n",
       "mpl.figure = function(figure_id, websocket, ondownload, parent_element) {\n",
       "    this.id = figure_id;\n",
       "\n",
       "    this.ws = websocket;\n",
       "\n",
       "    this.supports_binary = (this.ws.binaryType != undefined);\n",
       "\n",
       "    if (!this.supports_binary) {\n",
       "        var warnings = document.getElementById(\"mpl-warnings\");\n",
       "        if (warnings) {\n",
       "            warnings.style.display = 'block';\n",
       "            warnings.textContent = (\n",
       "                \"This browser does not support binary websocket messages. \" +\n",
       "                    \"Performance may be slow.\");\n",
       "        }\n",
       "    }\n",
       "\n",
       "    this.imageObj = new Image();\n",
       "\n",
       "    this.context = undefined;\n",
       "    this.message = undefined;\n",
       "    this.canvas = undefined;\n",
       "    this.rubberband_canvas = undefined;\n",
       "    this.rubberband_context = undefined;\n",
       "    this.format_dropdown = undefined;\n",
       "\n",
       "    this.image_mode = 'full';\n",
       "\n",
       "    this.root = $('<div/>');\n",
       "    this._root_extra_style(this.root)\n",
       "    this.root.attr('style', 'display: inline-block');\n",
       "\n",
       "    $(parent_element).append(this.root);\n",
       "\n",
       "    this._init_header(this);\n",
       "    this._init_canvas(this);\n",
       "    this._init_toolbar(this);\n",
       "\n",
       "    var fig = this;\n",
       "\n",
       "    this.waiting = false;\n",
       "\n",
       "    this.ws.onopen =  function () {\n",
       "            fig.send_message(\"supports_binary\", {value: fig.supports_binary});\n",
       "            fig.send_message(\"send_image_mode\", {});\n",
       "            if (mpl.ratio != 1) {\n",
       "                fig.send_message(\"set_dpi_ratio\", {'dpi_ratio': mpl.ratio});\n",
       "            }\n",
       "            fig.send_message(\"refresh\", {});\n",
       "        }\n",
       "\n",
       "    this.imageObj.onload = function() {\n",
       "            if (fig.image_mode == 'full') {\n",
       "                // Full images could contain transparency (where diff images\n",
       "                // almost always do), so we need to clear the canvas so that\n",
       "                // there is no ghosting.\n",
       "                fig.context.clearRect(0, 0, fig.canvas.width, fig.canvas.height);\n",
       "            }\n",
       "            fig.context.drawImage(fig.imageObj, 0, 0);\n",
       "        };\n",
       "\n",
       "    this.imageObj.onunload = function() {\n",
       "        fig.ws.close();\n",
       "    }\n",
       "\n",
       "    this.ws.onmessage = this._make_on_message_function(this);\n",
       "\n",
       "    this.ondownload = ondownload;\n",
       "}\n",
       "\n",
       "mpl.figure.prototype._init_header = function() {\n",
       "    var titlebar = $(\n",
       "        '<div class=\"ui-dialog-titlebar ui-widget-header ui-corner-all ' +\n",
       "        'ui-helper-clearfix\"/>');\n",
       "    var titletext = $(\n",
       "        '<div class=\"ui-dialog-title\" style=\"width: 100%; ' +\n",
       "        'text-align: center; padding: 3px;\"/>');\n",
       "    titlebar.append(titletext)\n",
       "    this.root.append(titlebar);\n",
       "    this.header = titletext[0];\n",
       "}\n",
       "\n",
       "\n",
       "\n",
       "mpl.figure.prototype._canvas_extra_style = function(canvas_div) {\n",
       "\n",
       "}\n",
       "\n",
       "\n",
       "mpl.figure.prototype._root_extra_style = function(canvas_div) {\n",
       "\n",
       "}\n",
       "\n",
       "mpl.figure.prototype._init_canvas = function() {\n",
       "    var fig = this;\n",
       "\n",
       "    var canvas_div = $('<div/>');\n",
       "\n",
       "    canvas_div.attr('style', 'position: relative; clear: both; outline: 0');\n",
       "\n",
       "    function canvas_keyboard_event(event) {\n",
       "        return fig.key_event(event, event['data']);\n",
       "    }\n",
       "\n",
       "    canvas_div.keydown('key_press', canvas_keyboard_event);\n",
       "    canvas_div.keyup('key_release', canvas_keyboard_event);\n",
       "    this.canvas_div = canvas_div\n",
       "    this._canvas_extra_style(canvas_div)\n",
       "    this.root.append(canvas_div);\n",
       "\n",
       "    var canvas = $('<canvas/>');\n",
       "    canvas.addClass('mpl-canvas');\n",
       "    canvas.attr('style', \"left: 0; top: 0; z-index: 0; outline: 0\")\n",
       "\n",
       "    this.canvas = canvas[0];\n",
       "    this.context = canvas[0].getContext(\"2d\");\n",
       "\n",
       "    var backingStore = this.context.backingStorePixelRatio ||\n",
       "\tthis.context.webkitBackingStorePixelRatio ||\n",
       "\tthis.context.mozBackingStorePixelRatio ||\n",
       "\tthis.context.msBackingStorePixelRatio ||\n",
       "\tthis.context.oBackingStorePixelRatio ||\n",
       "\tthis.context.backingStorePixelRatio || 1;\n",
       "\n",
       "    mpl.ratio = (window.devicePixelRatio || 1) / backingStore;\n",
       "\n",
       "    var rubberband = $('<canvas/>');\n",
       "    rubberband.attr('style', \"position: absolute; left: 0; top: 0; z-index: 1;\")\n",
       "\n",
       "    var pass_mouse_events = true;\n",
       "\n",
       "    canvas_div.resizable({\n",
       "        start: function(event, ui) {\n",
       "            pass_mouse_events = false;\n",
       "        },\n",
       "        resize: function(event, ui) {\n",
       "            fig.request_resize(ui.size.width, ui.size.height);\n",
       "        },\n",
       "        stop: function(event, ui) {\n",
       "            pass_mouse_events = true;\n",
       "            fig.request_resize(ui.size.width, ui.size.height);\n",
       "        },\n",
       "    });\n",
       "\n",
       "    function mouse_event_fn(event) {\n",
       "        if (pass_mouse_events)\n",
       "            return fig.mouse_event(event, event['data']);\n",
       "    }\n",
       "\n",
       "    rubberband.mousedown('button_press', mouse_event_fn);\n",
       "    rubberband.mouseup('button_release', mouse_event_fn);\n",
       "    // Throttle sequential mouse events to 1 every 20ms.\n",
       "    rubberband.mousemove('motion_notify', mouse_event_fn);\n",
       "\n",
       "    rubberband.mouseenter('figure_enter', mouse_event_fn);\n",
       "    rubberband.mouseleave('figure_leave', mouse_event_fn);\n",
       "\n",
       "    canvas_div.on(\"wheel\", function (event) {\n",
       "        event = event.originalEvent;\n",
       "        event['data'] = 'scroll'\n",
       "        if (event.deltaY < 0) {\n",
       "            event.step = 1;\n",
       "        } else {\n",
       "            event.step = -1;\n",
       "        }\n",
       "        mouse_event_fn(event);\n",
       "    });\n",
       "\n",
       "    canvas_div.append(canvas);\n",
       "    canvas_div.append(rubberband);\n",
       "\n",
       "    this.rubberband = rubberband;\n",
       "    this.rubberband_canvas = rubberband[0];\n",
       "    this.rubberband_context = rubberband[0].getContext(\"2d\");\n",
       "    this.rubberband_context.strokeStyle = \"#000000\";\n",
       "\n",
       "    this._resize_canvas = function(width, height) {\n",
       "        // Keep the size of the canvas, canvas container, and rubber band\n",
       "        // canvas in synch.\n",
       "        canvas_div.css('width', width)\n",
       "        canvas_div.css('height', height)\n",
       "\n",
       "        canvas.attr('width', width * mpl.ratio);\n",
       "        canvas.attr('height', height * mpl.ratio);\n",
       "        canvas.attr('style', 'width: ' + width + 'px; height: ' + height + 'px;');\n",
       "\n",
       "        rubberband.attr('width', width);\n",
       "        rubberband.attr('height', height);\n",
       "    }\n",
       "\n",
       "    // Set the figure to an initial 600x600px, this will subsequently be updated\n",
       "    // upon first draw.\n",
       "    this._resize_canvas(600, 600);\n",
       "\n",
       "    // Disable right mouse context menu.\n",
       "    $(this.rubberband_canvas).bind(\"contextmenu\",function(e){\n",
       "        return false;\n",
       "    });\n",
       "\n",
       "    function set_focus () {\n",
       "        canvas.focus();\n",
       "        canvas_div.focus();\n",
       "    }\n",
       "\n",
       "    window.setTimeout(set_focus, 100);\n",
       "}\n",
       "\n",
       "mpl.figure.prototype._init_toolbar = function() {\n",
       "    var fig = this;\n",
       "\n",
       "    var nav_element = $('<div/>')\n",
       "    nav_element.attr('style', 'width: 100%');\n",
       "    this.root.append(nav_element);\n",
       "\n",
       "    // Define a callback function for later on.\n",
       "    function toolbar_event(event) {\n",
       "        return fig.toolbar_button_onclick(event['data']);\n",
       "    }\n",
       "    function toolbar_mouse_event(event) {\n",
       "        return fig.toolbar_button_onmouseover(event['data']);\n",
       "    }\n",
       "\n",
       "    for(var toolbar_ind in mpl.toolbar_items) {\n",
       "        var name = mpl.toolbar_items[toolbar_ind][0];\n",
       "        var tooltip = mpl.toolbar_items[toolbar_ind][1];\n",
       "        var image = mpl.toolbar_items[toolbar_ind][2];\n",
       "        var method_name = mpl.toolbar_items[toolbar_ind][3];\n",
       "\n",
       "        if (!name) {\n",
       "            // put a spacer in here.\n",
       "            continue;\n",
       "        }\n",
       "        var button = $('<button/>');\n",
       "        button.addClass('ui-button ui-widget ui-state-default ui-corner-all ' +\n",
       "                        'ui-button-icon-only');\n",
       "        button.attr('role', 'button');\n",
       "        button.attr('aria-disabled', 'false');\n",
       "        button.click(method_name, toolbar_event);\n",
       "        button.mouseover(tooltip, toolbar_mouse_event);\n",
       "\n",
       "        var icon_img = $('<span/>');\n",
       "        icon_img.addClass('ui-button-icon-primary ui-icon');\n",
       "        icon_img.addClass(image);\n",
       "        icon_img.addClass('ui-corner-all');\n",
       "\n",
       "        var tooltip_span = $('<span/>');\n",
       "        tooltip_span.addClass('ui-button-text');\n",
       "        tooltip_span.html(tooltip);\n",
       "\n",
       "        button.append(icon_img);\n",
       "        button.append(tooltip_span);\n",
       "\n",
       "        nav_element.append(button);\n",
       "    }\n",
       "\n",
       "    var fmt_picker_span = $('<span/>');\n",
       "\n",
       "    var fmt_picker = $('<select/>');\n",
       "    fmt_picker.addClass('mpl-toolbar-option ui-widget ui-widget-content');\n",
       "    fmt_picker_span.append(fmt_picker);\n",
       "    nav_element.append(fmt_picker_span);\n",
       "    this.format_dropdown = fmt_picker[0];\n",
       "\n",
       "    for (var ind in mpl.extensions) {\n",
       "        var fmt = mpl.extensions[ind];\n",
       "        var option = $(\n",
       "            '<option/>', {selected: fmt === mpl.default_extension}).html(fmt);\n",
       "        fmt_picker.append(option)\n",
       "    }\n",
       "\n",
       "    // Add hover states to the ui-buttons\n",
       "    $( \".ui-button\" ).hover(\n",
       "        function() { $(this).addClass(\"ui-state-hover\");},\n",
       "        function() { $(this).removeClass(\"ui-state-hover\");}\n",
       "    );\n",
       "\n",
       "    var status_bar = $('<span class=\"mpl-message\"/>');\n",
       "    nav_element.append(status_bar);\n",
       "    this.message = status_bar[0];\n",
       "}\n",
       "\n",
       "mpl.figure.prototype.request_resize = function(x_pixels, y_pixels) {\n",
       "    // Request matplotlib to resize the figure. Matplotlib will then trigger a resize in the client,\n",
       "    // which will in turn request a refresh of the image.\n",
       "    this.send_message('resize', {'width': x_pixels, 'height': y_pixels});\n",
       "}\n",
       "\n",
       "mpl.figure.prototype.send_message = function(type, properties) {\n",
       "    properties['type'] = type;\n",
       "    properties['figure_id'] = this.id;\n",
       "    this.ws.send(JSON.stringify(properties));\n",
       "}\n",
       "\n",
       "mpl.figure.prototype.send_draw_message = function() {\n",
       "    if (!this.waiting) {\n",
       "        this.waiting = true;\n",
       "        this.ws.send(JSON.stringify({type: \"draw\", figure_id: this.id}));\n",
       "    }\n",
       "}\n",
       "\n",
       "\n",
       "mpl.figure.prototype.handle_save = function(fig, msg) {\n",
       "    var format_dropdown = fig.format_dropdown;\n",
       "    var format = format_dropdown.options[format_dropdown.selectedIndex].value;\n",
       "    fig.ondownload(fig, format);\n",
       "}\n",
       "\n",
       "\n",
       "mpl.figure.prototype.handle_resize = function(fig, msg) {\n",
       "    var size = msg['size'];\n",
       "    if (size[0] != fig.canvas.width || size[1] != fig.canvas.height) {\n",
       "        fig._resize_canvas(size[0], size[1]);\n",
       "        fig.send_message(\"refresh\", {});\n",
       "    };\n",
       "}\n",
       "\n",
       "mpl.figure.prototype.handle_rubberband = function(fig, msg) {\n",
       "    var x0 = msg['x0'] / mpl.ratio;\n",
       "    var y0 = (fig.canvas.height - msg['y0']) / mpl.ratio;\n",
       "    var x1 = msg['x1'] / mpl.ratio;\n",
       "    var y1 = (fig.canvas.height - msg['y1']) / mpl.ratio;\n",
       "    x0 = Math.floor(x0) + 0.5;\n",
       "    y0 = Math.floor(y0) + 0.5;\n",
       "    x1 = Math.floor(x1) + 0.5;\n",
       "    y1 = Math.floor(y1) + 0.5;\n",
       "    var min_x = Math.min(x0, x1);\n",
       "    var min_y = Math.min(y0, y1);\n",
       "    var width = Math.abs(x1 - x0);\n",
       "    var height = Math.abs(y1 - y0);\n",
       "\n",
       "    fig.rubberband_context.clearRect(\n",
       "        0, 0, fig.canvas.width, fig.canvas.height);\n",
       "\n",
       "    fig.rubberband_context.strokeRect(min_x, min_y, width, height);\n",
       "}\n",
       "\n",
       "mpl.figure.prototype.handle_figure_label = function(fig, msg) {\n",
       "    // Updates the figure title.\n",
       "    fig.header.textContent = msg['label'];\n",
       "}\n",
       "\n",
       "mpl.figure.prototype.handle_cursor = function(fig, msg) {\n",
       "    var cursor = msg['cursor'];\n",
       "    switch(cursor)\n",
       "    {\n",
       "    case 0:\n",
       "        cursor = 'pointer';\n",
       "        break;\n",
       "    case 1:\n",
       "        cursor = 'default';\n",
       "        break;\n",
       "    case 2:\n",
       "        cursor = 'crosshair';\n",
       "        break;\n",
       "    case 3:\n",
       "        cursor = 'move';\n",
       "        break;\n",
       "    }\n",
       "    fig.rubberband_canvas.style.cursor = cursor;\n",
       "}\n",
       "\n",
       "mpl.figure.prototype.handle_message = function(fig, msg) {\n",
       "    fig.message.textContent = msg['message'];\n",
       "}\n",
       "\n",
       "mpl.figure.prototype.handle_draw = function(fig, msg) {\n",
       "    // Request the server to send over a new figure.\n",
       "    fig.send_draw_message();\n",
       "}\n",
       "\n",
       "mpl.figure.prototype.handle_image_mode = function(fig, msg) {\n",
       "    fig.image_mode = msg['mode'];\n",
       "}\n",
       "\n",
       "mpl.figure.prototype.updated_canvas_event = function() {\n",
       "    // Called whenever the canvas gets updated.\n",
       "    this.send_message(\"ack\", {});\n",
       "}\n",
       "\n",
       "// A function to construct a web socket function for onmessage handling.\n",
       "// Called in the figure constructor.\n",
       "mpl.figure.prototype._make_on_message_function = function(fig) {\n",
       "    return function socket_on_message(evt) {\n",
       "        if (evt.data instanceof Blob) {\n",
       "            /* FIXME: We get \"Resource interpreted as Image but\n",
       "             * transferred with MIME type text/plain:\" errors on\n",
       "             * Chrome.  But how to set the MIME type?  It doesn't seem\n",
       "             * to be part of the websocket stream */\n",
       "            evt.data.type = \"image/png\";\n",
       "\n",
       "            /* Free the memory for the previous frames */\n",
       "            if (fig.imageObj.src) {\n",
       "                (window.URL || window.webkitURL).revokeObjectURL(\n",
       "                    fig.imageObj.src);\n",
       "            }\n",
       "\n",
       "            fig.imageObj.src = (window.URL || window.webkitURL).createObjectURL(\n",
       "                evt.data);\n",
       "            fig.updated_canvas_event();\n",
       "            fig.waiting = false;\n",
       "            return;\n",
       "        }\n",
       "        else if (typeof evt.data === 'string' && evt.data.slice(0, 21) == \"data:image/png;base64\") {\n",
       "            fig.imageObj.src = evt.data;\n",
       "            fig.updated_canvas_event();\n",
       "            fig.waiting = false;\n",
       "            return;\n",
       "        }\n",
       "\n",
       "        var msg = JSON.parse(evt.data);\n",
       "        var msg_type = msg['type'];\n",
       "\n",
       "        // Call the  \"handle_{type}\" callback, which takes\n",
       "        // the figure and JSON message as its only arguments.\n",
       "        try {\n",
       "            var callback = fig[\"handle_\" + msg_type];\n",
       "        } catch (e) {\n",
       "            console.log(\"No handler for the '\" + msg_type + \"' message type: \", msg);\n",
       "            return;\n",
       "        }\n",
       "\n",
       "        if (callback) {\n",
       "            try {\n",
       "                // console.log(\"Handling '\" + msg_type + \"' message: \", msg);\n",
       "                callback(fig, msg);\n",
       "            } catch (e) {\n",
       "                console.log(\"Exception inside the 'handler_\" + msg_type + \"' callback:\", e, e.stack, msg);\n",
       "            }\n",
       "        }\n",
       "    };\n",
       "}\n",
       "\n",
       "// from http://stackoverflow.com/questions/1114465/getting-mouse-location-in-canvas\n",
       "mpl.findpos = function(e) {\n",
       "    //this section is from http://www.quirksmode.org/js/events_properties.html\n",
       "    var targ;\n",
       "    if (!e)\n",
       "        e = window.event;\n",
       "    if (e.target)\n",
       "        targ = e.target;\n",
       "    else if (e.srcElement)\n",
       "        targ = e.srcElement;\n",
       "    if (targ.nodeType == 3) // defeat Safari bug\n",
       "        targ = targ.parentNode;\n",
       "\n",
       "    // jQuery normalizes the pageX and pageY\n",
       "    // pageX,Y are the mouse positions relative to the document\n",
       "    // offset() returns the position of the element relative to the document\n",
       "    var x = e.pageX - $(targ).offset().left;\n",
       "    var y = e.pageY - $(targ).offset().top;\n",
       "\n",
       "    return {\"x\": x, \"y\": y};\n",
       "};\n",
       "\n",
       "/*\n",
       " * return a copy of an object with only non-object keys\n",
       " * we need this to avoid circular references\n",
       " * http://stackoverflow.com/a/24161582/3208463\n",
       " */\n",
       "function simpleKeys (original) {\n",
       "  return Object.keys(original).reduce(function (obj, key) {\n",
       "    if (typeof original[key] !== 'object')\n",
       "        obj[key] = original[key]\n",
       "    return obj;\n",
       "  }, {});\n",
       "}\n",
       "\n",
       "mpl.figure.prototype.mouse_event = function(event, name) {\n",
       "    var canvas_pos = mpl.findpos(event)\n",
       "\n",
       "    if (name === 'button_press')\n",
       "    {\n",
       "        this.canvas.focus();\n",
       "        this.canvas_div.focus();\n",
       "    }\n",
       "\n",
       "    var x = canvas_pos.x * mpl.ratio;\n",
       "    var y = canvas_pos.y * mpl.ratio;\n",
       "\n",
       "    this.send_message(name, {x: x, y: y, button: event.button,\n",
       "                             step: event.step,\n",
       "                             guiEvent: simpleKeys(event)});\n",
       "\n",
       "    /* This prevents the web browser from automatically changing to\n",
       "     * the text insertion cursor when the button is pressed.  We want\n",
       "     * to control all of the cursor setting manually through the\n",
       "     * 'cursor' event from matplotlib */\n",
       "    event.preventDefault();\n",
       "    return false;\n",
       "}\n",
       "\n",
       "mpl.figure.prototype._key_event_extra = function(event, name) {\n",
       "    // Handle any extra behaviour associated with a key event\n",
       "}\n",
       "\n",
       "mpl.figure.prototype.key_event = function(event, name) {\n",
       "\n",
       "    // Prevent repeat events\n",
       "    if (name == 'key_press')\n",
       "    {\n",
       "        if (event.which === this._key)\n",
       "            return;\n",
       "        else\n",
       "            this._key = event.which;\n",
       "    }\n",
       "    if (name == 'key_release')\n",
       "        this._key = null;\n",
       "\n",
       "    var value = '';\n",
       "    if (event.ctrlKey && event.which != 17)\n",
       "        value += \"ctrl+\";\n",
       "    if (event.altKey && event.which != 18)\n",
       "        value += \"alt+\";\n",
       "    if (event.shiftKey && event.which != 16)\n",
       "        value += \"shift+\";\n",
       "\n",
       "    value += 'k';\n",
       "    value += event.which.toString();\n",
       "\n",
       "    this._key_event_extra(event, name);\n",
       "\n",
       "    this.send_message(name, {key: value,\n",
       "                             guiEvent: simpleKeys(event)});\n",
       "    return false;\n",
       "}\n",
       "\n",
       "mpl.figure.prototype.toolbar_button_onclick = function(name) {\n",
       "    if (name == 'download') {\n",
       "        this.handle_save(this, null);\n",
       "    } else {\n",
       "        this.send_message(\"toolbar_button\", {name: name});\n",
       "    }\n",
       "};\n",
       "\n",
       "mpl.figure.prototype.toolbar_button_onmouseover = function(tooltip) {\n",
       "    this.message.textContent = tooltip;\n",
       "};\n",
       "mpl.toolbar_items = [[\"Home\", \"Reset original view\", \"fa fa-home icon-home\", \"home\"], [\"Back\", \"Back to previous view\", \"fa fa-arrow-left icon-arrow-left\", \"back\"], [\"Forward\", \"Forward to next view\", \"fa fa-arrow-right icon-arrow-right\", \"forward\"], [\"\", \"\", \"\", \"\"], [\"Pan\", \"Pan axes with left mouse, zoom with right\", \"fa fa-arrows icon-move\", \"pan\"], [\"Zoom\", \"Zoom to rectangle\", \"fa fa-square-o icon-check-empty\", \"zoom\"], [\"\", \"\", \"\", \"\"], [\"Download\", \"Download plot\", \"fa fa-floppy-o icon-save\", \"download\"]];\n",
       "\n",
       "mpl.extensions = [\"eps\", \"pdf\", \"png\", \"ps\", \"raw\", \"svg\"];\n",
       "\n",
       "mpl.default_extension = \"png\";var comm_websocket_adapter = function(comm) {\n",
       "    // Create a \"websocket\"-like object which calls the given IPython comm\n",
       "    // object with the appropriate methods. Currently this is a non binary\n",
       "    // socket, so there is still some room for performance tuning.\n",
       "    var ws = {};\n",
       "\n",
       "    ws.close = function() {\n",
       "        comm.close()\n",
       "    };\n",
       "    ws.send = function(m) {\n",
       "        //console.log('sending', m);\n",
       "        comm.send(m);\n",
       "    };\n",
       "    // Register the callback with on_msg.\n",
       "    comm.on_msg(function(msg) {\n",
       "        //console.log('receiving', msg['content']['data'], msg);\n",
       "        // Pass the mpl event to the overridden (by mpl) onmessage function.\n",
       "        ws.onmessage(msg['content']['data'])\n",
       "    });\n",
       "    return ws;\n",
       "}\n",
       "\n",
       "mpl.mpl_figure_comm = function(comm, msg) {\n",
       "    // This is the function which gets called when the mpl process\n",
       "    // starts-up an IPython Comm through the \"matplotlib\" channel.\n",
       "\n",
       "    var id = msg.content.data.id;\n",
       "    // Get hold of the div created by the display call when the Comm\n",
       "    // socket was opened in Python.\n",
       "    var element = $(\"#\" + id);\n",
       "    var ws_proxy = comm_websocket_adapter(comm)\n",
       "\n",
       "    function ondownload(figure, format) {\n",
       "        window.open(figure.imageObj.src);\n",
       "    }\n",
       "\n",
       "    var fig = new mpl.figure(id, ws_proxy,\n",
       "                           ondownload,\n",
       "                           element.get(0));\n",
       "\n",
       "    // Call onopen now - mpl needs it, as it is assuming we've passed it a real\n",
       "    // web socket which is closed, not our websocket->open comm proxy.\n",
       "    ws_proxy.onopen();\n",
       "\n",
       "    fig.parent_element = element.get(0);\n",
       "    fig.cell_info = mpl.find_output_cell(\"<div id='\" + id + \"'></div>\");\n",
       "    if (!fig.cell_info) {\n",
       "        console.error(\"Failed to find cell for figure\", id, fig);\n",
       "        return;\n",
       "    }\n",
       "\n",
       "    var output_index = fig.cell_info[2]\n",
       "    var cell = fig.cell_info[0];\n",
       "\n",
       "};\n",
       "\n",
       "mpl.figure.prototype.handle_close = function(fig, msg) {\n",
       "    var width = fig.canvas.width/mpl.ratio\n",
       "    fig.root.unbind('remove')\n",
       "\n",
       "    // Update the output cell to use the data from the current canvas.\n",
       "    fig.push_to_output();\n",
       "    var dataURL = fig.canvas.toDataURL();\n",
       "    // Re-enable the keyboard manager in IPython - without this line, in FF,\n",
       "    // the notebook keyboard shortcuts fail.\n",
       "    IPython.keyboard_manager.enable()\n",
       "    $(fig.parent_element).html('<img src=\"' + dataURL + '\" width=\"' + width + '\">');\n",
       "    fig.close_ws(fig, msg);\n",
       "}\n",
       "\n",
       "mpl.figure.prototype.close_ws = function(fig, msg){\n",
       "    fig.send_message('closing', msg);\n",
       "    // fig.ws.close()\n",
       "}\n",
       "\n",
       "mpl.figure.prototype.push_to_output = function(remove_interactive) {\n",
       "    // Turn the data on the canvas into data in the output cell.\n",
       "    var width = this.canvas.width/mpl.ratio\n",
       "    var dataURL = this.canvas.toDataURL();\n",
       "    this.cell_info[1]['text/html'] = '<img src=\"' + dataURL + '\" width=\"' + width + '\">';\n",
       "}\n",
       "\n",
       "mpl.figure.prototype.updated_canvas_event = function() {\n",
       "    // Tell IPython that the notebook contents must change.\n",
       "    IPython.notebook.set_dirty(true);\n",
       "    this.send_message(\"ack\", {});\n",
       "    var fig = this;\n",
       "    // Wait a second, then push the new image to the DOM so\n",
       "    // that it is saved nicely (might be nice to debounce this).\n",
       "    setTimeout(function () { fig.push_to_output() }, 1000);\n",
       "}\n",
       "\n",
       "mpl.figure.prototype._init_toolbar = function() {\n",
       "    var fig = this;\n",
       "\n",
       "    var nav_element = $('<div/>')\n",
       "    nav_element.attr('style', 'width: 100%');\n",
       "    this.root.append(nav_element);\n",
       "\n",
       "    // Define a callback function for later on.\n",
       "    function toolbar_event(event) {\n",
       "        return fig.toolbar_button_onclick(event['data']);\n",
       "    }\n",
       "    function toolbar_mouse_event(event) {\n",
       "        return fig.toolbar_button_onmouseover(event['data']);\n",
       "    }\n",
       "\n",
       "    for(var toolbar_ind in mpl.toolbar_items){\n",
       "        var name = mpl.toolbar_items[toolbar_ind][0];\n",
       "        var tooltip = mpl.toolbar_items[toolbar_ind][1];\n",
       "        var image = mpl.toolbar_items[toolbar_ind][2];\n",
       "        var method_name = mpl.toolbar_items[toolbar_ind][3];\n",
       "\n",
       "        if (!name) { continue; };\n",
       "\n",
       "        var button = $('<button class=\"btn btn-default\" href=\"#\" title=\"' + name + '\"><i class=\"fa ' + image + ' fa-lg\"></i></button>');\n",
       "        button.click(method_name, toolbar_event);\n",
       "        button.mouseover(tooltip, toolbar_mouse_event);\n",
       "        nav_element.append(button);\n",
       "    }\n",
       "\n",
       "    // Add the status bar.\n",
       "    var status_bar = $('<span class=\"mpl-message\" style=\"text-align:right; float: right;\"/>');\n",
       "    nav_element.append(status_bar);\n",
       "    this.message = status_bar[0];\n",
       "\n",
       "    // Add the close button to the window.\n",
       "    var buttongrp = $('<div class=\"btn-group inline pull-right\"></div>');\n",
       "    var button = $('<button class=\"btn btn-mini btn-primary\" href=\"#\" title=\"Stop Interaction\"><i class=\"fa fa-power-off icon-remove icon-large\"></i></button>');\n",
       "    button.click(function (evt) { fig.handle_close(fig, {}); } );\n",
       "    button.mouseover('Stop Interaction', toolbar_mouse_event);\n",
       "    buttongrp.append(button);\n",
       "    var titlebar = this.root.find($('.ui-dialog-titlebar'));\n",
       "    titlebar.prepend(buttongrp);\n",
       "}\n",
       "\n",
       "mpl.figure.prototype._root_extra_style = function(el){\n",
       "    var fig = this\n",
       "    el.on(\"remove\", function(){\n",
       "\tfig.close_ws(fig, {});\n",
       "    });\n",
       "}\n",
       "\n",
       "mpl.figure.prototype._canvas_extra_style = function(el){\n",
       "    // this is important to make the div 'focusable\n",
       "    el.attr('tabindex', 0)\n",
       "    // reach out to IPython and tell the keyboard manager to turn it's self\n",
       "    // off when our div gets focus\n",
       "\n",
       "    // location in version 3\n",
       "    if (IPython.notebook.keyboard_manager) {\n",
       "        IPython.notebook.keyboard_manager.register_events(el);\n",
       "    }\n",
       "    else {\n",
       "        // location in version 2\n",
       "        IPython.keyboard_manager.register_events(el);\n",
       "    }\n",
       "\n",
       "}\n",
       "\n",
       "mpl.figure.prototype._key_event_extra = function(event, name) {\n",
       "    var manager = IPython.notebook.keyboard_manager;\n",
       "    if (!manager)\n",
       "        manager = IPython.keyboard_manager;\n",
       "\n",
       "    // Check for shift+enter\n",
       "    if (event.shiftKey && event.which == 13) {\n",
       "        this.canvas_div.blur();\n",
       "        event.shiftKey = false;\n",
       "        // Send a \"J\" for go to next cell\n",
       "        event.which = 74;\n",
       "        event.keyCode = 74;\n",
       "        manager.command_mode();\n",
       "        manager.handle_keydown(event);\n",
       "    }\n",
       "}\n",
       "\n",
       "mpl.figure.prototype.handle_save = function(fig, msg) {\n",
       "    fig.ondownload(fig, null);\n",
       "}\n",
       "\n",
       "\n",
       "mpl.find_output_cell = function(html_output) {\n",
       "    // Return the cell and output element which can be found *uniquely* in the notebook.\n",
       "    // Note - this is a bit hacky, but it is done because the \"notebook_saving.Notebook\"\n",
       "    // IPython event is triggered only after the cells have been serialised, which for\n",
       "    // our purposes (turning an active figure into a static one), is too late.\n",
       "    var cells = IPython.notebook.get_cells();\n",
       "    var ncells = cells.length;\n",
       "    for (var i=0; i<ncells; i++) {\n",
       "        var cell = cells[i];\n",
       "        if (cell.cell_type === 'code'){\n",
       "            for (var j=0; j<cell.output_area.outputs.length; j++) {\n",
       "                var data = cell.output_area.outputs[j];\n",
       "                if (data.data) {\n",
       "                    // IPython >= 3 moved mimebundle to data attribute of output\n",
       "                    data = data.data;\n",
       "                }\n",
       "                if (data['text/html'] == html_output) {\n",
       "                    return [cell, data, j];\n",
       "                }\n",
       "            }\n",
       "        }\n",
       "    }\n",
       "}\n",
       "\n",
       "// Register the function which deals with the matplotlib target/channel.\n",
       "// The kernel may be null if the page has been refreshed.\n",
       "if (IPython.notebook.kernel != null) {\n",
       "    IPython.notebook.kernel.comm_manager.register_target('matplotlib', mpl.mpl_figure_comm);\n",
       "}\n"
      ],
      "text/plain": [
       "<IPython.core.display.Javascript object>"
      ]
     },
     "metadata": {},
     "output_type": "display_data"
    },
    {
     "data": {
      "text/html": [
       "<img src=\"data:image/png;base64,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\" width=\"640\">"
      ],
      "text/plain": [
       "<IPython.core.display.HTML object>"
      ]
     },
     "metadata": {},
     "output_type": "display_data"
    }
   ],
   "source": [
    "%matplotlib notebook\n",
    "import matplotlib.pyplot as plt\n",
    "import matplotlib.animation as animation\n",
    "import numpy as np\n",
    "import time\n",
    "\n",
    "\n",
    "# initial conditions\n",
    "g = 9.8\n",
    "h = 10.\n",
    "theta = (30./180.)*np.pi\n",
    "v0 = 30.\n",
    "dt=0.01\n",
    "\n",
    "#compute velocity components\n",
    "v0x = v0*np.cos(theta)\n",
    "v0y = v0*np.sin(theta)\n",
    "print(\"v0_x: %.1f m/s \\t v0_y: %.1f m/s\"%(v0x,v0y))\n",
    "\n",
    "x0 = 0\n",
    "y0 = h\n",
    "\n",
    "def pos(t):\n",
    "    return x0+v0x*t, y0+v0y*t-0.5*g*t*t\n",
    "\n",
    "\n",
    "dt = 0.01\n",
    "# generate list of times for sampling\n",
    "times = np.arange(0., 1000., dt)\n",
    "\n",
    "#print first 10 elements\n",
    "print(times[:10])\n",
    "\n",
    "\n",
    "# use 2D array to do one comprehension\n",
    "pos = np.array([ pos(t) for t in times if pos(t)[1]>=0. ])\n",
    "\n",
    "print(\"shape of pos: \",pos.shape)\n",
    "\n",
    "# you can create list for xi and yi\n",
    "#xi = list(pos[:,0])\n",
    "#yi = list(pos[:,1])\n",
    "#print(\"max height: %.2f at x = %.2f\"%(max(yi),xi[yi.index(max(yi))]))\n",
    "\n",
    "# or you can simply use the slicing again. In this case it can be a bit confusing if not familiar\n",
    "# also note that index() is a method for a list not for slices.\n",
    "print(\"max height: %.2f at x = %.2f\"%(max(pos[:,1]),pos[ list(pos[:,1]).index(max(pos[:,1])),0 ] ) )\n",
    "\n",
    "\n",
    "\n",
    "# create a figure object\n",
    "fig = plt.figure()\n",
    "\n",
    "# add subplot (just 1) and set x and y limits based on data\n",
    "# ax is the object containing objects to be plotted\n",
    "ax = fig.add_subplot(111, autoscale_on=False, xlim=(-0.1, max(pos[:,0])*1.2), ylim=(-0.1,max(pos[:,1])*1.2) )\n",
    "ax.grid()\n",
    "ax.set_xlabel('x(t) [m]')\n",
    "ax.set_ylabel(\"y(t) [m]\")\n",
    "plt.title(\"trajectory of a projectile with $v_0$: %.1f m/s\\t $\\Theta_0$: %.1f$^\\circ$\"%(v0,theta))\n",
    "\n",
    "# plot slices for ndarray\n",
    "line = ax.plot(pos[:,0], pos[:,1],  lw=2, color='red')\n",
    "\n",
    "plt.show()"
   ]
  },
  {
   "cell_type": "markdown",
   "metadata": {},
   "source": [
    "## Exercise\n",
    "- exetend the problem to 3D and use 3D plot to show the trajectory in space"
   ]
  },
  {
   "cell_type": "markdown",
   "metadata": {},
   "source": [
    "# Random walks with ndarrays\n",
    "\n",
    "In this example we use ndarray to solve the classical problem of random walk\n",
    "\n",
    "The typical C like solution is"
   ]
  },
  {
   "cell_type": "code",
   "execution_count": 311,
   "metadata": {
    "scrolled": false
   },
   "outputs": [
    {
     "data": {
      "application/javascript": [
       "/* Put everything inside the global mpl namespace */\n",
       "window.mpl = {};\n",
       "\n",
       "\n",
       "mpl.get_websocket_type = function() {\n",
       "    if (typeof(WebSocket) !== 'undefined') {\n",
       "        return WebSocket;\n",
       "    } else if (typeof(MozWebSocket) !== 'undefined') {\n",
       "        return MozWebSocket;\n",
       "    } else {\n",
       "        alert('Your browser does not have WebSocket support.' +\n",
       "              'Please try Chrome, Safari or Firefox ≥ 6. ' +\n",
       "              'Firefox 4 and 5 are also supported but you ' +\n",
       "              'have to enable WebSockets in about:config.');\n",
       "    };\n",
       "}\n",
       "\n",
       "mpl.figure = function(figure_id, websocket, ondownload, parent_element) {\n",
       "    this.id = figure_id;\n",
       "\n",
       "    this.ws = websocket;\n",
       "\n",
       "    this.supports_binary = (this.ws.binaryType != undefined);\n",
       "\n",
       "    if (!this.supports_binary) {\n",
       "        var warnings = document.getElementById(\"mpl-warnings\");\n",
       "        if (warnings) {\n",
       "            warnings.style.display = 'block';\n",
       "            warnings.textContent = (\n",
       "                \"This browser does not support binary websocket messages. \" +\n",
       "                    \"Performance may be slow.\");\n",
       "        }\n",
       "    }\n",
       "\n",
       "    this.imageObj = new Image();\n",
       "\n",
       "    this.context = undefined;\n",
       "    this.message = undefined;\n",
       "    this.canvas = undefined;\n",
       "    this.rubberband_canvas = undefined;\n",
       "    this.rubberband_context = undefined;\n",
       "    this.format_dropdown = undefined;\n",
       "\n",
       "    this.image_mode = 'full';\n",
       "\n",
       "    this.root = $('<div/>');\n",
       "    this._root_extra_style(this.root)\n",
       "    this.root.attr('style', 'display: inline-block');\n",
       "\n",
       "    $(parent_element).append(this.root);\n",
       "\n",
       "    this._init_header(this);\n",
       "    this._init_canvas(this);\n",
       "    this._init_toolbar(this);\n",
       "\n",
       "    var fig = this;\n",
       "\n",
       "    this.waiting = false;\n",
       "\n",
       "    this.ws.onopen =  function () {\n",
       "            fig.send_message(\"supports_binary\", {value: fig.supports_binary});\n",
       "            fig.send_message(\"send_image_mode\", {});\n",
       "            if (mpl.ratio != 1) {\n",
       "                fig.send_message(\"set_dpi_ratio\", {'dpi_ratio': mpl.ratio});\n",
       "            }\n",
       "            fig.send_message(\"refresh\", {});\n",
       "        }\n",
       "\n",
       "    this.imageObj.onload = function() {\n",
       "            if (fig.image_mode == 'full') {\n",
       "                // Full images could contain transparency (where diff images\n",
       "                // almost always do), so we need to clear the canvas so that\n",
       "                // there is no ghosting.\n",
       "                fig.context.clearRect(0, 0, fig.canvas.width, fig.canvas.height);\n",
       "            }\n",
       "            fig.context.drawImage(fig.imageObj, 0, 0);\n",
       "        };\n",
       "\n",
       "    this.imageObj.onunload = function() {\n",
       "        fig.ws.close();\n",
       "    }\n",
       "\n",
       "    this.ws.onmessage = this._make_on_message_function(this);\n",
       "\n",
       "    this.ondownload = ondownload;\n",
       "}\n",
       "\n",
       "mpl.figure.prototype._init_header = function() {\n",
       "    var titlebar = $(\n",
       "        '<div class=\"ui-dialog-titlebar ui-widget-header ui-corner-all ' +\n",
       "        'ui-helper-clearfix\"/>');\n",
       "    var titletext = $(\n",
       "        '<div class=\"ui-dialog-title\" style=\"width: 100%; ' +\n",
       "        'text-align: center; padding: 3px;\"/>');\n",
       "    titlebar.append(titletext)\n",
       "    this.root.append(titlebar);\n",
       "    this.header = titletext[0];\n",
       "}\n",
       "\n",
       "\n",
       "\n",
       "mpl.figure.prototype._canvas_extra_style = function(canvas_div) {\n",
       "\n",
       "}\n",
       "\n",
       "\n",
       "mpl.figure.prototype._root_extra_style = function(canvas_div) {\n",
       "\n",
       "}\n",
       "\n",
       "mpl.figure.prototype._init_canvas = function() {\n",
       "    var fig = this;\n",
       "\n",
       "    var canvas_div = $('<div/>');\n",
       "\n",
       "    canvas_div.attr('style', 'position: relative; clear: both; outline: 0');\n",
       "\n",
       "    function canvas_keyboard_event(event) {\n",
       "        return fig.key_event(event, event['data']);\n",
       "    }\n",
       "\n",
       "    canvas_div.keydown('key_press', canvas_keyboard_event);\n",
       "    canvas_div.keyup('key_release', canvas_keyboard_event);\n",
       "    this.canvas_div = canvas_div\n",
       "    this._canvas_extra_style(canvas_div)\n",
       "    this.root.append(canvas_div);\n",
       "\n",
       "    var canvas = $('<canvas/>');\n",
       "    canvas.addClass('mpl-canvas');\n",
       "    canvas.attr('style', \"left: 0; top: 0; z-index: 0; outline: 0\")\n",
       "\n",
       "    this.canvas = canvas[0];\n",
       "    this.context = canvas[0].getContext(\"2d\");\n",
       "\n",
       "    var backingStore = this.context.backingStorePixelRatio ||\n",
       "\tthis.context.webkitBackingStorePixelRatio ||\n",
       "\tthis.context.mozBackingStorePixelRatio ||\n",
       "\tthis.context.msBackingStorePixelRatio ||\n",
       "\tthis.context.oBackingStorePixelRatio ||\n",
       "\tthis.context.backingStorePixelRatio || 1;\n",
       "\n",
       "    mpl.ratio = (window.devicePixelRatio || 1) / backingStore;\n",
       "\n",
       "    var rubberband = $('<canvas/>');\n",
       "    rubberband.attr('style', \"position: absolute; left: 0; top: 0; z-index: 1;\")\n",
       "\n",
       "    var pass_mouse_events = true;\n",
       "\n",
       "    canvas_div.resizable({\n",
       "        start: function(event, ui) {\n",
       "            pass_mouse_events = false;\n",
       "        },\n",
       "        resize: function(event, ui) {\n",
       "            fig.request_resize(ui.size.width, ui.size.height);\n",
       "        },\n",
       "        stop: function(event, ui) {\n",
       "            pass_mouse_events = true;\n",
       "            fig.request_resize(ui.size.width, ui.size.height);\n",
       "        },\n",
       "    });\n",
       "\n",
       "    function mouse_event_fn(event) {\n",
       "        if (pass_mouse_events)\n",
       "            return fig.mouse_event(event, event['data']);\n",
       "    }\n",
       "\n",
       "    rubberband.mousedown('button_press', mouse_event_fn);\n",
       "    rubberband.mouseup('button_release', mouse_event_fn);\n",
       "    // Throttle sequential mouse events to 1 every 20ms.\n",
       "    rubberband.mousemove('motion_notify', mouse_event_fn);\n",
       "\n",
       "    rubberband.mouseenter('figure_enter', mouse_event_fn);\n",
       "    rubberband.mouseleave('figure_leave', mouse_event_fn);\n",
       "\n",
       "    canvas_div.on(\"wheel\", function (event) {\n",
       "        event = event.originalEvent;\n",
       "        event['data'] = 'scroll'\n",
       "        if (event.deltaY < 0) {\n",
       "            event.step = 1;\n",
       "        } else {\n",
       "            event.step = -1;\n",
       "        }\n",
       "        mouse_event_fn(event);\n",
       "    });\n",
       "\n",
       "    canvas_div.append(canvas);\n",
       "    canvas_div.append(rubberband);\n",
       "\n",
       "    this.rubberband = rubberband;\n",
       "    this.rubberband_canvas = rubberband[0];\n",
       "    this.rubberband_context = rubberband[0].getContext(\"2d\");\n",
       "    this.rubberband_context.strokeStyle = \"#000000\";\n",
       "\n",
       "    this._resize_canvas = function(width, height) {\n",
       "        // Keep the size of the canvas, canvas container, and rubber band\n",
       "        // canvas in synch.\n",
       "        canvas_div.css('width', width)\n",
       "        canvas_div.css('height', height)\n",
       "\n",
       "        canvas.attr('width', width * mpl.ratio);\n",
       "        canvas.attr('height', height * mpl.ratio);\n",
       "        canvas.attr('style', 'width: ' + width + 'px; height: ' + height + 'px;');\n",
       "\n",
       "        rubberband.attr('width', width);\n",
       "        rubberband.attr('height', height);\n",
       "    }\n",
       "\n",
       "    // Set the figure to an initial 600x600px, this will subsequently be updated\n",
       "    // upon first draw.\n",
       "    this._resize_canvas(600, 600);\n",
       "\n",
       "    // Disable right mouse context menu.\n",
       "    $(this.rubberband_canvas).bind(\"contextmenu\",function(e){\n",
       "        return false;\n",
       "    });\n",
       "\n",
       "    function set_focus () {\n",
       "        canvas.focus();\n",
       "        canvas_div.focus();\n",
       "    }\n",
       "\n",
       "    window.setTimeout(set_focus, 100);\n",
       "}\n",
       "\n",
       "mpl.figure.prototype._init_toolbar = function() {\n",
       "    var fig = this;\n",
       "\n",
       "    var nav_element = $('<div/>')\n",
       "    nav_element.attr('style', 'width: 100%');\n",
       "    this.root.append(nav_element);\n",
       "\n",
       "    // Define a callback function for later on.\n",
       "    function toolbar_event(event) {\n",
       "        return fig.toolbar_button_onclick(event['data']);\n",
       "    }\n",
       "    function toolbar_mouse_event(event) {\n",
       "        return fig.toolbar_button_onmouseover(event['data']);\n",
       "    }\n",
       "\n",
       "    for(var toolbar_ind in mpl.toolbar_items) {\n",
       "        var name = mpl.toolbar_items[toolbar_ind][0];\n",
       "        var tooltip = mpl.toolbar_items[toolbar_ind][1];\n",
       "        var image = mpl.toolbar_items[toolbar_ind][2];\n",
       "        var method_name = mpl.toolbar_items[toolbar_ind][3];\n",
       "\n",
       "        if (!name) {\n",
       "            // put a spacer in here.\n",
       "            continue;\n",
       "        }\n",
       "        var button = $('<button/>');\n",
       "        button.addClass('ui-button ui-widget ui-state-default ui-corner-all ' +\n",
       "                        'ui-button-icon-only');\n",
       "        button.attr('role', 'button');\n",
       "        button.attr('aria-disabled', 'false');\n",
       "        button.click(method_name, toolbar_event);\n",
       "        button.mouseover(tooltip, toolbar_mouse_event);\n",
       "\n",
       "        var icon_img = $('<span/>');\n",
       "        icon_img.addClass('ui-button-icon-primary ui-icon');\n",
       "        icon_img.addClass(image);\n",
       "        icon_img.addClass('ui-corner-all');\n",
       "\n",
       "        var tooltip_span = $('<span/>');\n",
       "        tooltip_span.addClass('ui-button-text');\n",
       "        tooltip_span.html(tooltip);\n",
       "\n",
       "        button.append(icon_img);\n",
       "        button.append(tooltip_span);\n",
       "\n",
       "        nav_element.append(button);\n",
       "    }\n",
       "\n",
       "    var fmt_picker_span = $('<span/>');\n",
       "\n",
       "    var fmt_picker = $('<select/>');\n",
       "    fmt_picker.addClass('mpl-toolbar-option ui-widget ui-widget-content');\n",
       "    fmt_picker_span.append(fmt_picker);\n",
       "    nav_element.append(fmt_picker_span);\n",
       "    this.format_dropdown = fmt_picker[0];\n",
       "\n",
       "    for (var ind in mpl.extensions) {\n",
       "        var fmt = mpl.extensions[ind];\n",
       "        var option = $(\n",
       "            '<option/>', {selected: fmt === mpl.default_extension}).html(fmt);\n",
       "        fmt_picker.append(option)\n",
       "    }\n",
       "\n",
       "    // Add hover states to the ui-buttons\n",
       "    $( \".ui-button\" ).hover(\n",
       "        function() { $(this).addClass(\"ui-state-hover\");},\n",
       "        function() { $(this).removeClass(\"ui-state-hover\");}\n",
       "    );\n",
       "\n",
       "    var status_bar = $('<span class=\"mpl-message\"/>');\n",
       "    nav_element.append(status_bar);\n",
       "    this.message = status_bar[0];\n",
       "}\n",
       "\n",
       "mpl.figure.prototype.request_resize = function(x_pixels, y_pixels) {\n",
       "    // Request matplotlib to resize the figure. Matplotlib will then trigger a resize in the client,\n",
       "    // which will in turn request a refresh of the image.\n",
       "    this.send_message('resize', {'width': x_pixels, 'height': y_pixels});\n",
       "}\n",
       "\n",
       "mpl.figure.prototype.send_message = function(type, properties) {\n",
       "    properties['type'] = type;\n",
       "    properties['figure_id'] = this.id;\n",
       "    this.ws.send(JSON.stringify(properties));\n",
       "}\n",
       "\n",
       "mpl.figure.prototype.send_draw_message = function() {\n",
       "    if (!this.waiting) {\n",
       "        this.waiting = true;\n",
       "        this.ws.send(JSON.stringify({type: \"draw\", figure_id: this.id}));\n",
       "    }\n",
       "}\n",
       "\n",
       "\n",
       "mpl.figure.prototype.handle_save = function(fig, msg) {\n",
       "    var format_dropdown = fig.format_dropdown;\n",
       "    var format = format_dropdown.options[format_dropdown.selectedIndex].value;\n",
       "    fig.ondownload(fig, format);\n",
       "}\n",
       "\n",
       "\n",
       "mpl.figure.prototype.handle_resize = function(fig, msg) {\n",
       "    var size = msg['size'];\n",
       "    if (size[0] != fig.canvas.width || size[1] != fig.canvas.height) {\n",
       "        fig._resize_canvas(size[0], size[1]);\n",
       "        fig.send_message(\"refresh\", {});\n",
       "    };\n",
       "}\n",
       "\n",
       "mpl.figure.prototype.handle_rubberband = function(fig, msg) {\n",
       "    var x0 = msg['x0'] / mpl.ratio;\n",
       "    var y0 = (fig.canvas.height - msg['y0']) / mpl.ratio;\n",
       "    var x1 = msg['x1'] / mpl.ratio;\n",
       "    var y1 = (fig.canvas.height - msg['y1']) / mpl.ratio;\n",
       "    x0 = Math.floor(x0) + 0.5;\n",
       "    y0 = Math.floor(y0) + 0.5;\n",
       "    x1 = Math.floor(x1) + 0.5;\n",
       "    y1 = Math.floor(y1) + 0.5;\n",
       "    var min_x = Math.min(x0, x1);\n",
       "    var min_y = Math.min(y0, y1);\n",
       "    var width = Math.abs(x1 - x0);\n",
       "    var height = Math.abs(y1 - y0);\n",
       "\n",
       "    fig.rubberband_context.clearRect(\n",
       "        0, 0, fig.canvas.width, fig.canvas.height);\n",
       "\n",
       "    fig.rubberband_context.strokeRect(min_x, min_y, width, height);\n",
       "}\n",
       "\n",
       "mpl.figure.prototype.handle_figure_label = function(fig, msg) {\n",
       "    // Updates the figure title.\n",
       "    fig.header.textContent = msg['label'];\n",
       "}\n",
       "\n",
       "mpl.figure.prototype.handle_cursor = function(fig, msg) {\n",
       "    var cursor = msg['cursor'];\n",
       "    switch(cursor)\n",
       "    {\n",
       "    case 0:\n",
       "        cursor = 'pointer';\n",
       "        break;\n",
       "    case 1:\n",
       "        cursor = 'default';\n",
       "        break;\n",
       "    case 2:\n",
       "        cursor = 'crosshair';\n",
       "        break;\n",
       "    case 3:\n",
       "        cursor = 'move';\n",
       "        break;\n",
       "    }\n",
       "    fig.rubberband_canvas.style.cursor = cursor;\n",
       "}\n",
       "\n",
       "mpl.figure.prototype.handle_message = function(fig, msg) {\n",
       "    fig.message.textContent = msg['message'];\n",
       "}\n",
       "\n",
       "mpl.figure.prototype.handle_draw = function(fig, msg) {\n",
       "    // Request the server to send over a new figure.\n",
       "    fig.send_draw_message();\n",
       "}\n",
       "\n",
       "mpl.figure.prototype.handle_image_mode = function(fig, msg) {\n",
       "    fig.image_mode = msg['mode'];\n",
       "}\n",
       "\n",
       "mpl.figure.prototype.updated_canvas_event = function() {\n",
       "    // Called whenever the canvas gets updated.\n",
       "    this.send_message(\"ack\", {});\n",
       "}\n",
       "\n",
       "// A function to construct a web socket function for onmessage handling.\n",
       "// Called in the figure constructor.\n",
       "mpl.figure.prototype._make_on_message_function = function(fig) {\n",
       "    return function socket_on_message(evt) {\n",
       "        if (evt.data instanceof Blob) {\n",
       "            /* FIXME: We get \"Resource interpreted as Image but\n",
       "             * transferred with MIME type text/plain:\" errors on\n",
       "             * Chrome.  But how to set the MIME type?  It doesn't seem\n",
       "             * to be part of the websocket stream */\n",
       "            evt.data.type = \"image/png\";\n",
       "\n",
       "            /* Free the memory for the previous frames */\n",
       "            if (fig.imageObj.src) {\n",
       "                (window.URL || window.webkitURL).revokeObjectURL(\n",
       "                    fig.imageObj.src);\n",
       "            }\n",
       "\n",
       "            fig.imageObj.src = (window.URL || window.webkitURL).createObjectURL(\n",
       "                evt.data);\n",
       "            fig.updated_canvas_event();\n",
       "            fig.waiting = false;\n",
       "            return;\n",
       "        }\n",
       "        else if (typeof evt.data === 'string' && evt.data.slice(0, 21) == \"data:image/png;base64\") {\n",
       "            fig.imageObj.src = evt.data;\n",
       "            fig.updated_canvas_event();\n",
       "            fig.waiting = false;\n",
       "            return;\n",
       "        }\n",
       "\n",
       "        var msg = JSON.parse(evt.data);\n",
       "        var msg_type = msg['type'];\n",
       "\n",
       "        // Call the  \"handle_{type}\" callback, which takes\n",
       "        // the figure and JSON message as its only arguments.\n",
       "        try {\n",
       "            var callback = fig[\"handle_\" + msg_type];\n",
       "        } catch (e) {\n",
       "            console.log(\"No handler for the '\" + msg_type + \"' message type: \", msg);\n",
       "            return;\n",
       "        }\n",
       "\n",
       "        if (callback) {\n",
       "            try {\n",
       "                // console.log(\"Handling '\" + msg_type + \"' message: \", msg);\n",
       "                callback(fig, msg);\n",
       "            } catch (e) {\n",
       "                console.log(\"Exception inside the 'handler_\" + msg_type + \"' callback:\", e, e.stack, msg);\n",
       "            }\n",
       "        }\n",
       "    };\n",
       "}\n",
       "\n",
       "// from http://stackoverflow.com/questions/1114465/getting-mouse-location-in-canvas\n",
       "mpl.findpos = function(e) {\n",
       "    //this section is from http://www.quirksmode.org/js/events_properties.html\n",
       "    var targ;\n",
       "    if (!e)\n",
       "        e = window.event;\n",
       "    if (e.target)\n",
       "        targ = e.target;\n",
       "    else if (e.srcElement)\n",
       "        targ = e.srcElement;\n",
       "    if (targ.nodeType == 3) // defeat Safari bug\n",
       "        targ = targ.parentNode;\n",
       "\n",
       "    // jQuery normalizes the pageX and pageY\n",
       "    // pageX,Y are the mouse positions relative to the document\n",
       "    // offset() returns the position of the element relative to the document\n",
       "    var x = e.pageX - $(targ).offset().left;\n",
       "    var y = e.pageY - $(targ).offset().top;\n",
       "\n",
       "    return {\"x\": x, \"y\": y};\n",
       "};\n",
       "\n",
       "/*\n",
       " * return a copy of an object with only non-object keys\n",
       " * we need this to avoid circular references\n",
       " * http://stackoverflow.com/a/24161582/3208463\n",
       " */\n",
       "function simpleKeys (original) {\n",
       "  return Object.keys(original).reduce(function (obj, key) {\n",
       "    if (typeof original[key] !== 'object')\n",
       "        obj[key] = original[key]\n",
       "    return obj;\n",
       "  }, {});\n",
       "}\n",
       "\n",
       "mpl.figure.prototype.mouse_event = function(event, name) {\n",
       "    var canvas_pos = mpl.findpos(event)\n",
       "\n",
       "    if (name === 'button_press')\n",
       "    {\n",
       "        this.canvas.focus();\n",
       "        this.canvas_div.focus();\n",
       "    }\n",
       "\n",
       "    var x = canvas_pos.x * mpl.ratio;\n",
       "    var y = canvas_pos.y * mpl.ratio;\n",
       "\n",
       "    this.send_message(name, {x: x, y: y, button: event.button,\n",
       "                             step: event.step,\n",
       "                             guiEvent: simpleKeys(event)});\n",
       "\n",
       "    /* This prevents the web browser from automatically changing to\n",
       "     * the text insertion cursor when the button is pressed.  We want\n",
       "     * to control all of the cursor setting manually through the\n",
       "     * 'cursor' event from matplotlib */\n",
       "    event.preventDefault();\n",
       "    return false;\n",
       "}\n",
       "\n",
       "mpl.figure.prototype._key_event_extra = function(event, name) {\n",
       "    // Handle any extra behaviour associated with a key event\n",
       "}\n",
       "\n",
       "mpl.figure.prototype.key_event = function(event, name) {\n",
       "\n",
       "    // Prevent repeat events\n",
       "    if (name == 'key_press')\n",
       "    {\n",
       "        if (event.which === this._key)\n",
       "            return;\n",
       "        else\n",
       "            this._key = event.which;\n",
       "    }\n",
       "    if (name == 'key_release')\n",
       "        this._key = null;\n",
       "\n",
       "    var value = '';\n",
       "    if (event.ctrlKey && event.which != 17)\n",
       "        value += \"ctrl+\";\n",
       "    if (event.altKey && event.which != 18)\n",
       "        value += \"alt+\";\n",
       "    if (event.shiftKey && event.which != 16)\n",
       "        value += \"shift+\";\n",
       "\n",
       "    value += 'k';\n",
       "    value += event.which.toString();\n",
       "\n",
       "    this._key_event_extra(event, name);\n",
       "\n",
       "    this.send_message(name, {key: value,\n",
       "                             guiEvent: simpleKeys(event)});\n",
       "    return false;\n",
       "}\n",
       "\n",
       "mpl.figure.prototype.toolbar_button_onclick = function(name) {\n",
       "    if (name == 'download') {\n",
       "        this.handle_save(this, null);\n",
       "    } else {\n",
       "        this.send_message(\"toolbar_button\", {name: name});\n",
       "    }\n",
       "};\n",
       "\n",
       "mpl.figure.prototype.toolbar_button_onmouseover = function(tooltip) {\n",
       "    this.message.textContent = tooltip;\n",
       "};\n",
       "mpl.toolbar_items = [[\"Home\", \"Reset original view\", \"fa fa-home icon-home\", \"home\"], [\"Back\", \"Back to previous view\", \"fa fa-arrow-left icon-arrow-left\", \"back\"], [\"Forward\", \"Forward to next view\", \"fa fa-arrow-right icon-arrow-right\", \"forward\"], [\"\", \"\", \"\", \"\"], [\"Pan\", \"Pan axes with left mouse, zoom with right\", \"fa fa-arrows icon-move\", \"pan\"], [\"Zoom\", \"Zoom to rectangle\", \"fa fa-square-o icon-check-empty\", \"zoom\"], [\"\", \"\", \"\", \"\"], [\"Download\", \"Download plot\", \"fa fa-floppy-o icon-save\", \"download\"]];\n",
       "\n",
       "mpl.extensions = [\"eps\", \"pdf\", \"png\", \"ps\", \"raw\", \"svg\"];\n",
       "\n",
       "mpl.default_extension = \"png\";var comm_websocket_adapter = function(comm) {\n",
       "    // Create a \"websocket\"-like object which calls the given IPython comm\n",
       "    // object with the appropriate methods. Currently this is a non binary\n",
       "    // socket, so there is still some room for performance tuning.\n",
       "    var ws = {};\n",
       "\n",
       "    ws.close = function() {\n",
       "        comm.close()\n",
       "    };\n",
       "    ws.send = function(m) {\n",
       "        //console.log('sending', m);\n",
       "        comm.send(m);\n",
       "    };\n",
       "    // Register the callback with on_msg.\n",
       "    comm.on_msg(function(msg) {\n",
       "        //console.log('receiving', msg['content']['data'], msg);\n",
       "        // Pass the mpl event to the overridden (by mpl) onmessage function.\n",
       "        ws.onmessage(msg['content']['data'])\n",
       "    });\n",
       "    return ws;\n",
       "}\n",
       "\n",
       "mpl.mpl_figure_comm = function(comm, msg) {\n",
       "    // This is the function which gets called when the mpl process\n",
       "    // starts-up an IPython Comm through the \"matplotlib\" channel.\n",
       "\n",
       "    var id = msg.content.data.id;\n",
       "    // Get hold of the div created by the display call when the Comm\n",
       "    // socket was opened in Python.\n",
       "    var element = $(\"#\" + id);\n",
       "    var ws_proxy = comm_websocket_adapter(comm)\n",
       "\n",
       "    function ondownload(figure, format) {\n",
       "        window.open(figure.imageObj.src);\n",
       "    }\n",
       "\n",
       "    var fig = new mpl.figure(id, ws_proxy,\n",
       "                           ondownload,\n",
       "                           element.get(0));\n",
       "\n",
       "    // Call onopen now - mpl needs it, as it is assuming we've passed it a real\n",
       "    // web socket which is closed, not our websocket->open comm proxy.\n",
       "    ws_proxy.onopen();\n",
       "\n",
       "    fig.parent_element = element.get(0);\n",
       "    fig.cell_info = mpl.find_output_cell(\"<div id='\" + id + \"'></div>\");\n",
       "    if (!fig.cell_info) {\n",
       "        console.error(\"Failed to find cell for figure\", id, fig);\n",
       "        return;\n",
       "    }\n",
       "\n",
       "    var output_index = fig.cell_info[2]\n",
       "    var cell = fig.cell_info[0];\n",
       "\n",
       "};\n",
       "\n",
       "mpl.figure.prototype.handle_close = function(fig, msg) {\n",
       "    var width = fig.canvas.width/mpl.ratio\n",
       "    fig.root.unbind('remove')\n",
       "\n",
       "    // Update the output cell to use the data from the current canvas.\n",
       "    fig.push_to_output();\n",
       "    var dataURL = fig.canvas.toDataURL();\n",
       "    // Re-enable the keyboard manager in IPython - without this line, in FF,\n",
       "    // the notebook keyboard shortcuts fail.\n",
       "    IPython.keyboard_manager.enable()\n",
       "    $(fig.parent_element).html('<img src=\"' + dataURL + '\" width=\"' + width + '\">');\n",
       "    fig.close_ws(fig, msg);\n",
       "}\n",
       "\n",
       "mpl.figure.prototype.close_ws = function(fig, msg){\n",
       "    fig.send_message('closing', msg);\n",
       "    // fig.ws.close()\n",
       "}\n",
       "\n",
       "mpl.figure.prototype.push_to_output = function(remove_interactive) {\n",
       "    // Turn the data on the canvas into data in the output cell.\n",
       "    var width = this.canvas.width/mpl.ratio\n",
       "    var dataURL = this.canvas.toDataURL();\n",
       "    this.cell_info[1]['text/html'] = '<img src=\"' + dataURL + '\" width=\"' + width + '\">';\n",
       "}\n",
       "\n",
       "mpl.figure.prototype.updated_canvas_event = function() {\n",
       "    // Tell IPython that the notebook contents must change.\n",
       "    IPython.notebook.set_dirty(true);\n",
       "    this.send_message(\"ack\", {});\n",
       "    var fig = this;\n",
       "    // Wait a second, then push the new image to the DOM so\n",
       "    // that it is saved nicely (might be nice to debounce this).\n",
       "    setTimeout(function () { fig.push_to_output() }, 1000);\n",
       "}\n",
       "\n",
       "mpl.figure.prototype._init_toolbar = function() {\n",
       "    var fig = this;\n",
       "\n",
       "    var nav_element = $('<div/>')\n",
       "    nav_element.attr('style', 'width: 100%');\n",
       "    this.root.append(nav_element);\n",
       "\n",
       "    // Define a callback function for later on.\n",
       "    function toolbar_event(event) {\n",
       "        return fig.toolbar_button_onclick(event['data']);\n",
       "    }\n",
       "    function toolbar_mouse_event(event) {\n",
       "        return fig.toolbar_button_onmouseover(event['data']);\n",
       "    }\n",
       "\n",
       "    for(var toolbar_ind in mpl.toolbar_items){\n",
       "        var name = mpl.toolbar_items[toolbar_ind][0];\n",
       "        var tooltip = mpl.toolbar_items[toolbar_ind][1];\n",
       "        var image = mpl.toolbar_items[toolbar_ind][2];\n",
       "        var method_name = mpl.toolbar_items[toolbar_ind][3];\n",
       "\n",
       "        if (!name) { continue; };\n",
       "\n",
       "        var button = $('<button class=\"btn btn-default\" href=\"#\" title=\"' + name + '\"><i class=\"fa ' + image + ' fa-lg\"></i></button>');\n",
       "        button.click(method_name, toolbar_event);\n",
       "        button.mouseover(tooltip, toolbar_mouse_event);\n",
       "        nav_element.append(button);\n",
       "    }\n",
       "\n",
       "    // Add the status bar.\n",
       "    var status_bar = $('<span class=\"mpl-message\" style=\"text-align:right; float: right;\"/>');\n",
       "    nav_element.append(status_bar);\n",
       "    this.message = status_bar[0];\n",
       "\n",
       "    // Add the close button to the window.\n",
       "    var buttongrp = $('<div class=\"btn-group inline pull-right\"></div>');\n",
       "    var button = $('<button class=\"btn btn-mini btn-primary\" href=\"#\" title=\"Stop Interaction\"><i class=\"fa fa-power-off icon-remove icon-large\"></i></button>');\n",
       "    button.click(function (evt) { fig.handle_close(fig, {}); } );\n",
       "    button.mouseover('Stop Interaction', toolbar_mouse_event);\n",
       "    buttongrp.append(button);\n",
       "    var titlebar = this.root.find($('.ui-dialog-titlebar'));\n",
       "    titlebar.prepend(buttongrp);\n",
       "}\n",
       "\n",
       "mpl.figure.prototype._root_extra_style = function(el){\n",
       "    var fig = this\n",
       "    el.on(\"remove\", function(){\n",
       "\tfig.close_ws(fig, {});\n",
       "    });\n",
       "}\n",
       "\n",
       "mpl.figure.prototype._canvas_extra_style = function(el){\n",
       "    // this is important to make the div 'focusable\n",
       "    el.attr('tabindex', 0)\n",
       "    // reach out to IPython and tell the keyboard manager to turn it's self\n",
       "    // off when our div gets focus\n",
       "\n",
       "    // location in version 3\n",
       "    if (IPython.notebook.keyboard_manager) {\n",
       "        IPython.notebook.keyboard_manager.register_events(el);\n",
       "    }\n",
       "    else {\n",
       "        // location in version 2\n",
       "        IPython.keyboard_manager.register_events(el);\n",
       "    }\n",
       "\n",
       "}\n",
       "\n",
       "mpl.figure.prototype._key_event_extra = function(event, name) {\n",
       "    var manager = IPython.notebook.keyboard_manager;\n",
       "    if (!manager)\n",
       "        manager = IPython.keyboard_manager;\n",
       "\n",
       "    // Check for shift+enter\n",
       "    if (event.shiftKey && event.which == 13) {\n",
       "        this.canvas_div.blur();\n",
       "        event.shiftKey = false;\n",
       "        // Send a \"J\" for go to next cell\n",
       "        event.which = 74;\n",
       "        event.keyCode = 74;\n",
       "        manager.command_mode();\n",
       "        manager.handle_keydown(event);\n",
       "    }\n",
       "}\n",
       "\n",
       "mpl.figure.prototype.handle_save = function(fig, msg) {\n",
       "    fig.ondownload(fig, null);\n",
       "}\n",
       "\n",
       "\n",
       "mpl.find_output_cell = function(html_output) {\n",
       "    // Return the cell and output element which can be found *uniquely* in the notebook.\n",
       "    // Note - this is a bit hacky, but it is done because the \"notebook_saving.Notebook\"\n",
       "    // IPython event is triggered only after the cells have been serialised, which for\n",
       "    // our purposes (turning an active figure into a static one), is too late.\n",
       "    var cells = IPython.notebook.get_cells();\n",
       "    var ncells = cells.length;\n",
       "    for (var i=0; i<ncells; i++) {\n",
       "        var cell = cells[i];\n",
       "        if (cell.cell_type === 'code'){\n",
       "            for (var j=0; j<cell.output_area.outputs.length; j++) {\n",
       "                var data = cell.output_area.outputs[j];\n",
       "                if (data.data) {\n",
       "                    // IPython >= 3 moved mimebundle to data attribute of output\n",
       "                    data = data.data;\n",
       "                }\n",
       "                if (data['text/html'] == html_output) {\n",
       "                    return [cell, data, j];\n",
       "                }\n",
       "            }\n",
       "        }\n",
       "    }\n",
       "}\n",
       "\n",
       "// Register the function which deals with the matplotlib target/channel.\n",
       "// The kernel may be null if the page has been refreshed.\n",
       "if (IPython.notebook.kernel != null) {\n",
       "    IPython.notebook.kernel.comm_manager.register_target('matplotlib', mpl.mpl_figure_comm);\n",
       "}\n"
      ],
      "text/plain": [
       "<IPython.core.display.Javascript object>"
      ]
     },
     "metadata": {},
     "output_type": "display_data"
    },
    {
     "data": {
      "text/html": [
       "<img src=\"data:image/png;base64,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\" width=\"640\">"
      ],
      "text/plain": [
       "<IPython.core.display.HTML object>"
      ]
     },
     "metadata": {},
     "output_type": "display_data"
    },
    {
     "data": {
      "text/plain": [
       "Text(0, 0.5, 'position')"
      ]
     },
     "execution_count": 311,
     "metadata": {},
     "output_type": "execute_result"
    }
   ],
   "source": [
    "%matplotlib notebook\n",
    "import numpy as np\n",
    "import matplotlib.pyplot as plt\n",
    "\n",
    "nstep = 100\n",
    "\n",
    "x = 0\n",
    "position = [x] \n",
    "\n",
    "\n",
    "for i in range(nstep):\n",
    "    step = 1\n",
    "    if np.random.uniform(0.,1.) < 0.5: step = -1\n",
    "    x += step\n",
    "    position.append(x)    \n",
    "\n",
    "    \n",
    "plt.plot(position[:nstep])\n",
    "plt.grid()\n",
    "plt.xlabel('step')\n",
    "plt.ylabel('position')\n"
   ]
  },
  {
   "cell_type": "markdown",
   "metadata": {},
   "source": [
    "## Random walk with arrays\n",
    " We now note that the position of the walk is the cumulative sum of random numbers. we can use this to convert the problem to using arrays only"
   ]
  },
  {
   "cell_type": "code",
   "execution_count": 376,
   "metadata": {},
   "outputs": [],
   "source": [
    "%matplotlib notebook\n",
    "import numpy as np\n",
    "import matplotlib.pyplot as plt\n",
    "\n",
    "nsteps = 50"
   ]
  },
  {
   "cell_type": "markdown",
   "metadata": {},
   "source": [
    " - first we draw the random numbers for all `nsteps` at once, think of it as a coin"
   ]
  },
  {
   "cell_type": "code",
   "execution_count": 377,
   "metadata": {
    "scrolled": true
   },
   "outputs": [
    {
     "name": "stdout",
     "output_type": "stream",
     "text": [
      "[0 1 0 0 0 1 0 1 1 1 0 1 0 1 0 0 1 1 0 0 1 1 0 0 0 1 1 1 0 0 1 0 1 1 0 1 0\n",
      " 1 1 0 1 1 1 1 0 0 0 0 0 1]\n"
     ]
    }
   ],
   "source": [
    "draws = np.random.randint(0,2, size=nsteps)\n",
    "print(draws)"
   ]
  },
  {
   "cell_type": "markdown",
   "metadata": {},
   "source": [
    "Based on the drawn coins, we decide the steps, if positive or negative"
   ]
  },
  {
   "cell_type": "code",
   "execution_count": 378,
   "metadata": {},
   "outputs": [
    {
     "name": "stdout",
     "output_type": "stream",
     "text": [
      "[-1  1 -1 -1 -1  1 -1  1  1  1 -1  1 -1  1 -1 -1  1  1 -1 -1  1  1 -1 -1\n",
      " -1  1  1  1 -1 -1  1 -1  1  1 -1  1 -1  1  1 -1  1  1  1  1 -1 -1 -1 -1\n",
      " -1  1]\n"
     ]
    }
   ],
   "source": [
    "steps = np.where(draws>0, 1, -1)\n",
    "print(steps)"
   ]
  },
  {
   "cell_type": "markdown",
   "metadata": {},
   "source": [
    "- then we compute the cumulative sum of random numers"
   ]
  },
  {
   "cell_type": "code",
   "execution_count": 379,
   "metadata": {
    "scrolled": true
   },
   "outputs": [
    {
     "name": "stdout",
     "output_type": "stream",
     "text": [
      "[-1  0 -1 -2 -3 -2 -3 -2 -1  0 -1  0 -1  0 -1 -2 -1  0 -1 -2 -1  0 -1 -2\n",
      " -3 -2 -1  0 -1 -2 -1 -2 -1  0 -1  0 -1  0  1  0  1  2  3  4  3  2  1  0\n",
      " -1  0]\n"
     ]
    }
   ],
   "source": [
    "walk = steps.cumsum()\n",
    "print(walk)"
   ]
  },
  {
   "cell_type": "markdown",
   "metadata": {},
   "source": [
    "The cumulative sum on an array, sums all values in cells before a given position."
   ]
  },
  {
   "cell_type": "code",
   "execution_count": 380,
   "metadata": {},
   "outputs": [
    {
     "data": {
      "application/javascript": [
       "/* Put everything inside the global mpl namespace */\n",
       "window.mpl = {};\n",
       "\n",
       "\n",
       "mpl.get_websocket_type = function() {\n",
       "    if (typeof(WebSocket) !== 'undefined') {\n",
       "        return WebSocket;\n",
       "    } else if (typeof(MozWebSocket) !== 'undefined') {\n",
       "        return MozWebSocket;\n",
       "    } else {\n",
       "        alert('Your browser does not have WebSocket support.' +\n",
       "              'Please try Chrome, Safari or Firefox ≥ 6. ' +\n",
       "              'Firefox 4 and 5 are also supported but you ' +\n",
       "              'have to enable WebSockets in about:config.');\n",
       "    };\n",
       "}\n",
       "\n",
       "mpl.figure = function(figure_id, websocket, ondownload, parent_element) {\n",
       "    this.id = figure_id;\n",
       "\n",
       "    this.ws = websocket;\n",
       "\n",
       "    this.supports_binary = (this.ws.binaryType != undefined);\n",
       "\n",
       "    if (!this.supports_binary) {\n",
       "        var warnings = document.getElementById(\"mpl-warnings\");\n",
       "        if (warnings) {\n",
       "            warnings.style.display = 'block';\n",
       "            warnings.textContent = (\n",
       "                \"This browser does not support binary websocket messages. \" +\n",
       "                    \"Performance may be slow.\");\n",
       "        }\n",
       "    }\n",
       "\n",
       "    this.imageObj = new Image();\n",
       "\n",
       "    this.context = undefined;\n",
       "    this.message = undefined;\n",
       "    this.canvas = undefined;\n",
       "    this.rubberband_canvas = undefined;\n",
       "    this.rubberband_context = undefined;\n",
       "    this.format_dropdown = undefined;\n",
       "\n",
       "    this.image_mode = 'full';\n",
       "\n",
       "    this.root = $('<div/>');\n",
       "    this._root_extra_style(this.root)\n",
       "    this.root.attr('style', 'display: inline-block');\n",
       "\n",
       "    $(parent_element).append(this.root);\n",
       "\n",
       "    this._init_header(this);\n",
       "    this._init_canvas(this);\n",
       "    this._init_toolbar(this);\n",
       "\n",
       "    var fig = this;\n",
       "\n",
       "    this.waiting = false;\n",
       "\n",
       "    this.ws.onopen =  function () {\n",
       "            fig.send_message(\"supports_binary\", {value: fig.supports_binary});\n",
       "            fig.send_message(\"send_image_mode\", {});\n",
       "            if (mpl.ratio != 1) {\n",
       "                fig.send_message(\"set_dpi_ratio\", {'dpi_ratio': mpl.ratio});\n",
       "            }\n",
       "            fig.send_message(\"refresh\", {});\n",
       "        }\n",
       "\n",
       "    this.imageObj.onload = function() {\n",
       "            if (fig.image_mode == 'full') {\n",
       "                // Full images could contain transparency (where diff images\n",
       "                // almost always do), so we need to clear the canvas so that\n",
       "                // there is no ghosting.\n",
       "                fig.context.clearRect(0, 0, fig.canvas.width, fig.canvas.height);\n",
       "            }\n",
       "            fig.context.drawImage(fig.imageObj, 0, 0);\n",
       "        };\n",
       "\n",
       "    this.imageObj.onunload = function() {\n",
       "        fig.ws.close();\n",
       "    }\n",
       "\n",
       "    this.ws.onmessage = this._make_on_message_function(this);\n",
       "\n",
       "    this.ondownload = ondownload;\n",
       "}\n",
       "\n",
       "mpl.figure.prototype._init_header = function() {\n",
       "    var titlebar = $(\n",
       "        '<div class=\"ui-dialog-titlebar ui-widget-header ui-corner-all ' +\n",
       "        'ui-helper-clearfix\"/>');\n",
       "    var titletext = $(\n",
       "        '<div class=\"ui-dialog-title\" style=\"width: 100%; ' +\n",
       "        'text-align: center; padding: 3px;\"/>');\n",
       "    titlebar.append(titletext)\n",
       "    this.root.append(titlebar);\n",
       "    this.header = titletext[0];\n",
       "}\n",
       "\n",
       "\n",
       "\n",
       "mpl.figure.prototype._canvas_extra_style = function(canvas_div) {\n",
       "\n",
       "}\n",
       "\n",
       "\n",
       "mpl.figure.prototype._root_extra_style = function(canvas_div) {\n",
       "\n",
       "}\n",
       "\n",
       "mpl.figure.prototype._init_canvas = function() {\n",
       "    var fig = this;\n",
       "\n",
       "    var canvas_div = $('<div/>');\n",
       "\n",
       "    canvas_div.attr('style', 'position: relative; clear: both; outline: 0');\n",
       "\n",
       "    function canvas_keyboard_event(event) {\n",
       "        return fig.key_event(event, event['data']);\n",
       "    }\n",
       "\n",
       "    canvas_div.keydown('key_press', canvas_keyboard_event);\n",
       "    canvas_div.keyup('key_release', canvas_keyboard_event);\n",
       "    this.canvas_div = canvas_div\n",
       "    this._canvas_extra_style(canvas_div)\n",
       "    this.root.append(canvas_div);\n",
       "\n",
       "    var canvas = $('<canvas/>');\n",
       "    canvas.addClass('mpl-canvas');\n",
       "    canvas.attr('style', \"left: 0; top: 0; z-index: 0; outline: 0\")\n",
       "\n",
       "    this.canvas = canvas[0];\n",
       "    this.context = canvas[0].getContext(\"2d\");\n",
       "\n",
       "    var backingStore = this.context.backingStorePixelRatio ||\n",
       "\tthis.context.webkitBackingStorePixelRatio ||\n",
       "\tthis.context.mozBackingStorePixelRatio ||\n",
       "\tthis.context.msBackingStorePixelRatio ||\n",
       "\tthis.context.oBackingStorePixelRatio ||\n",
       "\tthis.context.backingStorePixelRatio || 1;\n",
       "\n",
       "    mpl.ratio = (window.devicePixelRatio || 1) / backingStore;\n",
       "\n",
       "    var rubberband = $('<canvas/>');\n",
       "    rubberband.attr('style', \"position: absolute; left: 0; top: 0; z-index: 1;\")\n",
       "\n",
       "    var pass_mouse_events = true;\n",
       "\n",
       "    canvas_div.resizable({\n",
       "        start: function(event, ui) {\n",
       "            pass_mouse_events = false;\n",
       "        },\n",
       "        resize: function(event, ui) {\n",
       "            fig.request_resize(ui.size.width, ui.size.height);\n",
       "        },\n",
       "        stop: function(event, ui) {\n",
       "            pass_mouse_events = true;\n",
       "            fig.request_resize(ui.size.width, ui.size.height);\n",
       "        },\n",
       "    });\n",
       "\n",
       "    function mouse_event_fn(event) {\n",
       "        if (pass_mouse_events)\n",
       "            return fig.mouse_event(event, event['data']);\n",
       "    }\n",
       "\n",
       "    rubberband.mousedown('button_press', mouse_event_fn);\n",
       "    rubberband.mouseup('button_release', mouse_event_fn);\n",
       "    // Throttle sequential mouse events to 1 every 20ms.\n",
       "    rubberband.mousemove('motion_notify', mouse_event_fn);\n",
       "\n",
       "    rubberband.mouseenter('figure_enter', mouse_event_fn);\n",
       "    rubberband.mouseleave('figure_leave', mouse_event_fn);\n",
       "\n",
       "    canvas_div.on(\"wheel\", function (event) {\n",
       "        event = event.originalEvent;\n",
       "        event['data'] = 'scroll'\n",
       "        if (event.deltaY < 0) {\n",
       "            event.step = 1;\n",
       "        } else {\n",
       "            event.step = -1;\n",
       "        }\n",
       "        mouse_event_fn(event);\n",
       "    });\n",
       "\n",
       "    canvas_div.append(canvas);\n",
       "    canvas_div.append(rubberband);\n",
       "\n",
       "    this.rubberband = rubberband;\n",
       "    this.rubberband_canvas = rubberband[0];\n",
       "    this.rubberband_context = rubberband[0].getContext(\"2d\");\n",
       "    this.rubberband_context.strokeStyle = \"#000000\";\n",
       "\n",
       "    this._resize_canvas = function(width, height) {\n",
       "        // Keep the size of the canvas, canvas container, and rubber band\n",
       "        // canvas in synch.\n",
       "        canvas_div.css('width', width)\n",
       "        canvas_div.css('height', height)\n",
       "\n",
       "        canvas.attr('width', width * mpl.ratio);\n",
       "        canvas.attr('height', height * mpl.ratio);\n",
       "        canvas.attr('style', 'width: ' + width + 'px; height: ' + height + 'px;');\n",
       "\n",
       "        rubberband.attr('width', width);\n",
       "        rubberband.attr('height', height);\n",
       "    }\n",
       "\n",
       "    // Set the figure to an initial 600x600px, this will subsequently be updated\n",
       "    // upon first draw.\n",
       "    this._resize_canvas(600, 600);\n",
       "\n",
       "    // Disable right mouse context menu.\n",
       "    $(this.rubberband_canvas).bind(\"contextmenu\",function(e){\n",
       "        return false;\n",
       "    });\n",
       "\n",
       "    function set_focus () {\n",
       "        canvas.focus();\n",
       "        canvas_div.focus();\n",
       "    }\n",
       "\n",
       "    window.setTimeout(set_focus, 100);\n",
       "}\n",
       "\n",
       "mpl.figure.prototype._init_toolbar = function() {\n",
       "    var fig = this;\n",
       "\n",
       "    var nav_element = $('<div/>')\n",
       "    nav_element.attr('style', 'width: 100%');\n",
       "    this.root.append(nav_element);\n",
       "\n",
       "    // Define a callback function for later on.\n",
       "    function toolbar_event(event) {\n",
       "        return fig.toolbar_button_onclick(event['data']);\n",
       "    }\n",
       "    function toolbar_mouse_event(event) {\n",
       "        return fig.toolbar_button_onmouseover(event['data']);\n",
       "    }\n",
       "\n",
       "    for(var toolbar_ind in mpl.toolbar_items) {\n",
       "        var name = mpl.toolbar_items[toolbar_ind][0];\n",
       "        var tooltip = mpl.toolbar_items[toolbar_ind][1];\n",
       "        var image = mpl.toolbar_items[toolbar_ind][2];\n",
       "        var method_name = mpl.toolbar_items[toolbar_ind][3];\n",
       "\n",
       "        if (!name) {\n",
       "            // put a spacer in here.\n",
       "            continue;\n",
       "        }\n",
       "        var button = $('<button/>');\n",
       "        button.addClass('ui-button ui-widget ui-state-default ui-corner-all ' +\n",
       "                        'ui-button-icon-only');\n",
       "        button.attr('role', 'button');\n",
       "        button.attr('aria-disabled', 'false');\n",
       "        button.click(method_name, toolbar_event);\n",
       "        button.mouseover(tooltip, toolbar_mouse_event);\n",
       "\n",
       "        var icon_img = $('<span/>');\n",
       "        icon_img.addClass('ui-button-icon-primary ui-icon');\n",
       "        icon_img.addClass(image);\n",
       "        icon_img.addClass('ui-corner-all');\n",
       "\n",
       "        var tooltip_span = $('<span/>');\n",
       "        tooltip_span.addClass('ui-button-text');\n",
       "        tooltip_span.html(tooltip);\n",
       "\n",
       "        button.append(icon_img);\n",
       "        button.append(tooltip_span);\n",
       "\n",
       "        nav_element.append(button);\n",
       "    }\n",
       "\n",
       "    var fmt_picker_span = $('<span/>');\n",
       "\n",
       "    var fmt_picker = $('<select/>');\n",
       "    fmt_picker.addClass('mpl-toolbar-option ui-widget ui-widget-content');\n",
       "    fmt_picker_span.append(fmt_picker);\n",
       "    nav_element.append(fmt_picker_span);\n",
       "    this.format_dropdown = fmt_picker[0];\n",
       "\n",
       "    for (var ind in mpl.extensions) {\n",
       "        var fmt = mpl.extensions[ind];\n",
       "        var option = $(\n",
       "            '<option/>', {selected: fmt === mpl.default_extension}).html(fmt);\n",
       "        fmt_picker.append(option)\n",
       "    }\n",
       "\n",
       "    // Add hover states to the ui-buttons\n",
       "    $( \".ui-button\" ).hover(\n",
       "        function() { $(this).addClass(\"ui-state-hover\");},\n",
       "        function() { $(this).removeClass(\"ui-state-hover\");}\n",
       "    );\n",
       "\n",
       "    var status_bar = $('<span class=\"mpl-message\"/>');\n",
       "    nav_element.append(status_bar);\n",
       "    this.message = status_bar[0];\n",
       "}\n",
       "\n",
       "mpl.figure.prototype.request_resize = function(x_pixels, y_pixels) {\n",
       "    // Request matplotlib to resize the figure. Matplotlib will then trigger a resize in the client,\n",
       "    // which will in turn request a refresh of the image.\n",
       "    this.send_message('resize', {'width': x_pixels, 'height': y_pixels});\n",
       "}\n",
       "\n",
       "mpl.figure.prototype.send_message = function(type, properties) {\n",
       "    properties['type'] = type;\n",
       "    properties['figure_id'] = this.id;\n",
       "    this.ws.send(JSON.stringify(properties));\n",
       "}\n",
       "\n",
       "mpl.figure.prototype.send_draw_message = function() {\n",
       "    if (!this.waiting) {\n",
       "        this.waiting = true;\n",
       "        this.ws.send(JSON.stringify({type: \"draw\", figure_id: this.id}));\n",
       "    }\n",
       "}\n",
       "\n",
       "\n",
       "mpl.figure.prototype.handle_save = function(fig, msg) {\n",
       "    var format_dropdown = fig.format_dropdown;\n",
       "    var format = format_dropdown.options[format_dropdown.selectedIndex].value;\n",
       "    fig.ondownload(fig, format);\n",
       "}\n",
       "\n",
       "\n",
       "mpl.figure.prototype.handle_resize = function(fig, msg) {\n",
       "    var size = msg['size'];\n",
       "    if (size[0] != fig.canvas.width || size[1] != fig.canvas.height) {\n",
       "        fig._resize_canvas(size[0], size[1]);\n",
       "        fig.send_message(\"refresh\", {});\n",
       "    };\n",
       "}\n",
       "\n",
       "mpl.figure.prototype.handle_rubberband = function(fig, msg) {\n",
       "    var x0 = msg['x0'] / mpl.ratio;\n",
       "    var y0 = (fig.canvas.height - msg['y0']) / mpl.ratio;\n",
       "    var x1 = msg['x1'] / mpl.ratio;\n",
       "    var y1 = (fig.canvas.height - msg['y1']) / mpl.ratio;\n",
       "    x0 = Math.floor(x0) + 0.5;\n",
       "    y0 = Math.floor(y0) + 0.5;\n",
       "    x1 = Math.floor(x1) + 0.5;\n",
       "    y1 = Math.floor(y1) + 0.5;\n",
       "    var min_x = Math.min(x0, x1);\n",
       "    var min_y = Math.min(y0, y1);\n",
       "    var width = Math.abs(x1 - x0);\n",
       "    var height = Math.abs(y1 - y0);\n",
       "\n",
       "    fig.rubberband_context.clearRect(\n",
       "        0, 0, fig.canvas.width, fig.canvas.height);\n",
       "\n",
       "    fig.rubberband_context.strokeRect(min_x, min_y, width, height);\n",
       "}\n",
       "\n",
       "mpl.figure.prototype.handle_figure_label = function(fig, msg) {\n",
       "    // Updates the figure title.\n",
       "    fig.header.textContent = msg['label'];\n",
       "}\n",
       "\n",
       "mpl.figure.prototype.handle_cursor = function(fig, msg) {\n",
       "    var cursor = msg['cursor'];\n",
       "    switch(cursor)\n",
       "    {\n",
       "    case 0:\n",
       "        cursor = 'pointer';\n",
       "        break;\n",
       "    case 1:\n",
       "        cursor = 'default';\n",
       "        break;\n",
       "    case 2:\n",
       "        cursor = 'crosshair';\n",
       "        break;\n",
       "    case 3:\n",
       "        cursor = 'move';\n",
       "        break;\n",
       "    }\n",
       "    fig.rubberband_canvas.style.cursor = cursor;\n",
       "}\n",
       "\n",
       "mpl.figure.prototype.handle_message = function(fig, msg) {\n",
       "    fig.message.textContent = msg['message'];\n",
       "}\n",
       "\n",
       "mpl.figure.prototype.handle_draw = function(fig, msg) {\n",
       "    // Request the server to send over a new figure.\n",
       "    fig.send_draw_message();\n",
       "}\n",
       "\n",
       "mpl.figure.prototype.handle_image_mode = function(fig, msg) {\n",
       "    fig.image_mode = msg['mode'];\n",
       "}\n",
       "\n",
       "mpl.figure.prototype.updated_canvas_event = function() {\n",
       "    // Called whenever the canvas gets updated.\n",
       "    this.send_message(\"ack\", {});\n",
       "}\n",
       "\n",
       "// A function to construct a web socket function for onmessage handling.\n",
       "// Called in the figure constructor.\n",
       "mpl.figure.prototype._make_on_message_function = function(fig) {\n",
       "    return function socket_on_message(evt) {\n",
       "        if (evt.data instanceof Blob) {\n",
       "            /* FIXME: We get \"Resource interpreted as Image but\n",
       "             * transferred with MIME type text/plain:\" errors on\n",
       "             * Chrome.  But how to set the MIME type?  It doesn't seem\n",
       "             * to be part of the websocket stream */\n",
       "            evt.data.type = \"image/png\";\n",
       "\n",
       "            /* Free the memory for the previous frames */\n",
       "            if (fig.imageObj.src) {\n",
       "                (window.URL || window.webkitURL).revokeObjectURL(\n",
       "                    fig.imageObj.src);\n",
       "            }\n",
       "\n",
       "            fig.imageObj.src = (window.URL || window.webkitURL).createObjectURL(\n",
       "                evt.data);\n",
       "            fig.updated_canvas_event();\n",
       "            fig.waiting = false;\n",
       "            return;\n",
       "        }\n",
       "        else if (typeof evt.data === 'string' && evt.data.slice(0, 21) == \"data:image/png;base64\") {\n",
       "            fig.imageObj.src = evt.data;\n",
       "            fig.updated_canvas_event();\n",
       "            fig.waiting = false;\n",
       "            return;\n",
       "        }\n",
       "\n",
       "        var msg = JSON.parse(evt.data);\n",
       "        var msg_type = msg['type'];\n",
       "\n",
       "        // Call the  \"handle_{type}\" callback, which takes\n",
       "        // the figure and JSON message as its only arguments.\n",
       "        try {\n",
       "            var callback = fig[\"handle_\" + msg_type];\n",
       "        } catch (e) {\n",
       "            console.log(\"No handler for the '\" + msg_type + \"' message type: \", msg);\n",
       "            return;\n",
       "        }\n",
       "\n",
       "        if (callback) {\n",
       "            try {\n",
       "                // console.log(\"Handling '\" + msg_type + \"' message: \", msg);\n",
       "                callback(fig, msg);\n",
       "            } catch (e) {\n",
       "                console.log(\"Exception inside the 'handler_\" + msg_type + \"' callback:\", e, e.stack, msg);\n",
       "            }\n",
       "        }\n",
       "    };\n",
       "}\n",
       "\n",
       "// from http://stackoverflow.com/questions/1114465/getting-mouse-location-in-canvas\n",
       "mpl.findpos = function(e) {\n",
       "    //this section is from http://www.quirksmode.org/js/events_properties.html\n",
       "    var targ;\n",
       "    if (!e)\n",
       "        e = window.event;\n",
       "    if (e.target)\n",
       "        targ = e.target;\n",
       "    else if (e.srcElement)\n",
       "        targ = e.srcElement;\n",
       "    if (targ.nodeType == 3) // defeat Safari bug\n",
       "        targ = targ.parentNode;\n",
       "\n",
       "    // jQuery normalizes the pageX and pageY\n",
       "    // pageX,Y are the mouse positions relative to the document\n",
       "    // offset() returns the position of the element relative to the document\n",
       "    var x = e.pageX - $(targ).offset().left;\n",
       "    var y = e.pageY - $(targ).offset().top;\n",
       "\n",
       "    return {\"x\": x, \"y\": y};\n",
       "};\n",
       "\n",
       "/*\n",
       " * return a copy of an object with only non-object keys\n",
       " * we need this to avoid circular references\n",
       " * http://stackoverflow.com/a/24161582/3208463\n",
       " */\n",
       "function simpleKeys (original) {\n",
       "  return Object.keys(original).reduce(function (obj, key) {\n",
       "    if (typeof original[key] !== 'object')\n",
       "        obj[key] = original[key]\n",
       "    return obj;\n",
       "  }, {});\n",
       "}\n",
       "\n",
       "mpl.figure.prototype.mouse_event = function(event, name) {\n",
       "    var canvas_pos = mpl.findpos(event)\n",
       "\n",
       "    if (name === 'button_press')\n",
       "    {\n",
       "        this.canvas.focus();\n",
       "        this.canvas_div.focus();\n",
       "    }\n",
       "\n",
       "    var x = canvas_pos.x * mpl.ratio;\n",
       "    var y = canvas_pos.y * mpl.ratio;\n",
       "\n",
       "    this.send_message(name, {x: x, y: y, button: event.button,\n",
       "                             step: event.step,\n",
       "                             guiEvent: simpleKeys(event)});\n",
       "\n",
       "    /* This prevents the web browser from automatically changing to\n",
       "     * the text insertion cursor when the button is pressed.  We want\n",
       "     * to control all of the cursor setting manually through the\n",
       "     * 'cursor' event from matplotlib */\n",
       "    event.preventDefault();\n",
       "    return false;\n",
       "}\n",
       "\n",
       "mpl.figure.prototype._key_event_extra = function(event, name) {\n",
       "    // Handle any extra behaviour associated with a key event\n",
       "}\n",
       "\n",
       "mpl.figure.prototype.key_event = function(event, name) {\n",
       "\n",
       "    // Prevent repeat events\n",
       "    if (name == 'key_press')\n",
       "    {\n",
       "        if (event.which === this._key)\n",
       "            return;\n",
       "        else\n",
       "            this._key = event.which;\n",
       "    }\n",
       "    if (name == 'key_release')\n",
       "        this._key = null;\n",
       "\n",
       "    var value = '';\n",
       "    if (event.ctrlKey && event.which != 17)\n",
       "        value += \"ctrl+\";\n",
       "    if (event.altKey && event.which != 18)\n",
       "        value += \"alt+\";\n",
       "    if (event.shiftKey && event.which != 16)\n",
       "        value += \"shift+\";\n",
       "\n",
       "    value += 'k';\n",
       "    value += event.which.toString();\n",
       "\n",
       "    this._key_event_extra(event, name);\n",
       "\n",
       "    this.send_message(name, {key: value,\n",
       "                             guiEvent: simpleKeys(event)});\n",
       "    return false;\n",
       "}\n",
       "\n",
       "mpl.figure.prototype.toolbar_button_onclick = function(name) {\n",
       "    if (name == 'download') {\n",
       "        this.handle_save(this, null);\n",
       "    } else {\n",
       "        this.send_message(\"toolbar_button\", {name: name});\n",
       "    }\n",
       "};\n",
       "\n",
       "mpl.figure.prototype.toolbar_button_onmouseover = function(tooltip) {\n",
       "    this.message.textContent = tooltip;\n",
       "};\n",
       "mpl.toolbar_items = [[\"Home\", \"Reset original view\", \"fa fa-home icon-home\", \"home\"], [\"Back\", \"Back to previous view\", \"fa fa-arrow-left icon-arrow-left\", \"back\"], [\"Forward\", \"Forward to next view\", \"fa fa-arrow-right icon-arrow-right\", \"forward\"], [\"\", \"\", \"\", \"\"], [\"Pan\", \"Pan axes with left mouse, zoom with right\", \"fa fa-arrows icon-move\", \"pan\"], [\"Zoom\", \"Zoom to rectangle\", \"fa fa-square-o icon-check-empty\", \"zoom\"], [\"\", \"\", \"\", \"\"], [\"Download\", \"Download plot\", \"fa fa-floppy-o icon-save\", \"download\"]];\n",
       "\n",
       "mpl.extensions = [\"eps\", \"pdf\", \"png\", \"ps\", \"raw\", \"svg\"];\n",
       "\n",
       "mpl.default_extension = \"png\";var comm_websocket_adapter = function(comm) {\n",
       "    // Create a \"websocket\"-like object which calls the given IPython comm\n",
       "    // object with the appropriate methods. Currently this is a non binary\n",
       "    // socket, so there is still some room for performance tuning.\n",
       "    var ws = {};\n",
       "\n",
       "    ws.close = function() {\n",
       "        comm.close()\n",
       "    };\n",
       "    ws.send = function(m) {\n",
       "        //console.log('sending', m);\n",
       "        comm.send(m);\n",
       "    };\n",
       "    // Register the callback with on_msg.\n",
       "    comm.on_msg(function(msg) {\n",
       "        //console.log('receiving', msg['content']['data'], msg);\n",
       "        // Pass the mpl event to the overridden (by mpl) onmessage function.\n",
       "        ws.onmessage(msg['content']['data'])\n",
       "    });\n",
       "    return ws;\n",
       "}\n",
       "\n",
       "mpl.mpl_figure_comm = function(comm, msg) {\n",
       "    // This is the function which gets called when the mpl process\n",
       "    // starts-up an IPython Comm through the \"matplotlib\" channel.\n",
       "\n",
       "    var id = msg.content.data.id;\n",
       "    // Get hold of the div created by the display call when the Comm\n",
       "    // socket was opened in Python.\n",
       "    var element = $(\"#\" + id);\n",
       "    var ws_proxy = comm_websocket_adapter(comm)\n",
       "\n",
       "    function ondownload(figure, format) {\n",
       "        window.open(figure.imageObj.src);\n",
       "    }\n",
       "\n",
       "    var fig = new mpl.figure(id, ws_proxy,\n",
       "                           ondownload,\n",
       "                           element.get(0));\n",
       "\n",
       "    // Call onopen now - mpl needs it, as it is assuming we've passed it a real\n",
       "    // web socket which is closed, not our websocket->open comm proxy.\n",
       "    ws_proxy.onopen();\n",
       "\n",
       "    fig.parent_element = element.get(0);\n",
       "    fig.cell_info = mpl.find_output_cell(\"<div id='\" + id + \"'></div>\");\n",
       "    if (!fig.cell_info) {\n",
       "        console.error(\"Failed to find cell for figure\", id, fig);\n",
       "        return;\n",
       "    }\n",
       "\n",
       "    var output_index = fig.cell_info[2]\n",
       "    var cell = fig.cell_info[0];\n",
       "\n",
       "};\n",
       "\n",
       "mpl.figure.prototype.handle_close = function(fig, msg) {\n",
       "    var width = fig.canvas.width/mpl.ratio\n",
       "    fig.root.unbind('remove')\n",
       "\n",
       "    // Update the output cell to use the data from the current canvas.\n",
       "    fig.push_to_output();\n",
       "    var dataURL = fig.canvas.toDataURL();\n",
       "    // Re-enable the keyboard manager in IPython - without this line, in FF,\n",
       "    // the notebook keyboard shortcuts fail.\n",
       "    IPython.keyboard_manager.enable()\n",
       "    $(fig.parent_element).html('<img src=\"' + dataURL + '\" width=\"' + width + '\">');\n",
       "    fig.close_ws(fig, msg);\n",
       "}\n",
       "\n",
       "mpl.figure.prototype.close_ws = function(fig, msg){\n",
       "    fig.send_message('closing', msg);\n",
       "    // fig.ws.close()\n",
       "}\n",
       "\n",
       "mpl.figure.prototype.push_to_output = function(remove_interactive) {\n",
       "    // Turn the data on the canvas into data in the output cell.\n",
       "    var width = this.canvas.width/mpl.ratio\n",
       "    var dataURL = this.canvas.toDataURL();\n",
       "    this.cell_info[1]['text/html'] = '<img src=\"' + dataURL + '\" width=\"' + width + '\">';\n",
       "}\n",
       "\n",
       "mpl.figure.prototype.updated_canvas_event = function() {\n",
       "    // Tell IPython that the notebook contents must change.\n",
       "    IPython.notebook.set_dirty(true);\n",
       "    this.send_message(\"ack\", {});\n",
       "    var fig = this;\n",
       "    // Wait a second, then push the new image to the DOM so\n",
       "    // that it is saved nicely (might be nice to debounce this).\n",
       "    setTimeout(function () { fig.push_to_output() }, 1000);\n",
       "}\n",
       "\n",
       "mpl.figure.prototype._init_toolbar = function() {\n",
       "    var fig = this;\n",
       "\n",
       "    var nav_element = $('<div/>')\n",
       "    nav_element.attr('style', 'width: 100%');\n",
       "    this.root.append(nav_element);\n",
       "\n",
       "    // Define a callback function for later on.\n",
       "    function toolbar_event(event) {\n",
       "        return fig.toolbar_button_onclick(event['data']);\n",
       "    }\n",
       "    function toolbar_mouse_event(event) {\n",
       "        return fig.toolbar_button_onmouseover(event['data']);\n",
       "    }\n",
       "\n",
       "    for(var toolbar_ind in mpl.toolbar_items){\n",
       "        var name = mpl.toolbar_items[toolbar_ind][0];\n",
       "        var tooltip = mpl.toolbar_items[toolbar_ind][1];\n",
       "        var image = mpl.toolbar_items[toolbar_ind][2];\n",
       "        var method_name = mpl.toolbar_items[toolbar_ind][3];\n",
       "\n",
       "        if (!name) { continue; };\n",
       "\n",
       "        var button = $('<button class=\"btn btn-default\" href=\"#\" title=\"' + name + '\"><i class=\"fa ' + image + ' fa-lg\"></i></button>');\n",
       "        button.click(method_name, toolbar_event);\n",
       "        button.mouseover(tooltip, toolbar_mouse_event);\n",
       "        nav_element.append(button);\n",
       "    }\n",
       "\n",
       "    // Add the status bar.\n",
       "    var status_bar = $('<span class=\"mpl-message\" style=\"text-align:right; float: right;\"/>');\n",
       "    nav_element.append(status_bar);\n",
       "    this.message = status_bar[0];\n",
       "\n",
       "    // Add the close button to the window.\n",
       "    var buttongrp = $('<div class=\"btn-group inline pull-right\"></div>');\n",
       "    var button = $('<button class=\"btn btn-mini btn-primary\" href=\"#\" title=\"Stop Interaction\"><i class=\"fa fa-power-off icon-remove icon-large\"></i></button>');\n",
       "    button.click(function (evt) { fig.handle_close(fig, {}); } );\n",
       "    button.mouseover('Stop Interaction', toolbar_mouse_event);\n",
       "    buttongrp.append(button);\n",
       "    var titlebar = this.root.find($('.ui-dialog-titlebar'));\n",
       "    titlebar.prepend(buttongrp);\n",
       "}\n",
       "\n",
       "mpl.figure.prototype._root_extra_style = function(el){\n",
       "    var fig = this\n",
       "    el.on(\"remove\", function(){\n",
       "\tfig.close_ws(fig, {});\n",
       "    });\n",
       "}\n",
       "\n",
       "mpl.figure.prototype._canvas_extra_style = function(el){\n",
       "    // this is important to make the div 'focusable\n",
       "    el.attr('tabindex', 0)\n",
       "    // reach out to IPython and tell the keyboard manager to turn it's self\n",
       "    // off when our div gets focus\n",
       "\n",
       "    // location in version 3\n",
       "    if (IPython.notebook.keyboard_manager) {\n",
       "        IPython.notebook.keyboard_manager.register_events(el);\n",
       "    }\n",
       "    else {\n",
       "        // location in version 2\n",
       "        IPython.keyboard_manager.register_events(el);\n",
       "    }\n",
       "\n",
       "}\n",
       "\n",
       "mpl.figure.prototype._key_event_extra = function(event, name) {\n",
       "    var manager = IPython.notebook.keyboard_manager;\n",
       "    if (!manager)\n",
       "        manager = IPython.keyboard_manager;\n",
       "\n",
       "    // Check for shift+enter\n",
       "    if (event.shiftKey && event.which == 13) {\n",
       "        this.canvas_div.blur();\n",
       "        event.shiftKey = false;\n",
       "        // Send a \"J\" for go to next cell\n",
       "        event.which = 74;\n",
       "        event.keyCode = 74;\n",
       "        manager.command_mode();\n",
       "        manager.handle_keydown(event);\n",
       "    }\n",
       "}\n",
       "\n",
       "mpl.figure.prototype.handle_save = function(fig, msg) {\n",
       "    fig.ondownload(fig, null);\n",
       "}\n",
       "\n",
       "\n",
       "mpl.find_output_cell = function(html_output) {\n",
       "    // Return the cell and output element which can be found *uniquely* in the notebook.\n",
       "    // Note - this is a bit hacky, but it is done because the \"notebook_saving.Notebook\"\n",
       "    // IPython event is triggered only after the cells have been serialised, which for\n",
       "    // our purposes (turning an active figure into a static one), is too late.\n",
       "    var cells = IPython.notebook.get_cells();\n",
       "    var ncells = cells.length;\n",
       "    for (var i=0; i<ncells; i++) {\n",
       "        var cell = cells[i];\n",
       "        if (cell.cell_type === 'code'){\n",
       "            for (var j=0; j<cell.output_area.outputs.length; j++) {\n",
       "                var data = cell.output_area.outputs[j];\n",
       "                if (data.data) {\n",
       "                    // IPython >= 3 moved mimebundle to data attribute of output\n",
       "                    data = data.data;\n",
       "                }\n",
       "                if (data['text/html'] == html_output) {\n",
       "                    return [cell, data, j];\n",
       "                }\n",
       "            }\n",
       "        }\n",
       "    }\n",
       "}\n",
       "\n",
       "// Register the function which deals with the matplotlib target/channel.\n",
       "// The kernel may be null if the page has been refreshed.\n",
       "if (IPython.notebook.kernel != null) {\n",
       "    IPython.notebook.kernel.comm_manager.register_target('matplotlib', mpl.mpl_figure_comm);\n",
       "}\n"
      ],
      "text/plain": [
       "<IPython.core.display.Javascript object>"
      ]
     },
     "metadata": {},
     "output_type": "display_data"
    },
    {
     "data": {
      "text/html": [
       "<img src=\"data:image/png;base64,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\" width=\"640\">"
      ],
      "text/plain": [
       "<IPython.core.display.HTML object>"
      ]
     },
     "metadata": {},
     "output_type": "display_data"
    },
    {
     "data": {
      "text/plain": [
       "Text(0, 0.5, 'position')"
      ]
     },
     "execution_count": 380,
     "metadata": {},
     "output_type": "execute_result"
    }
   ],
   "source": [
    "plt.plot(walk)\n",
    "plt.grid()\n",
    "plt.xlabel('step')\n",
    "plt.ylabel('position')\n",
    "\n"
   ]
  },
  {
   "cell_type": "markdown",
   "metadata": {},
   "source": [
    "\n",
    "finding information about the walk and doing analysis is now trivial.\n",
    "\n",
    "The maximum position is"
   ]
  },
  {
   "cell_type": "code",
   "execution_count": 381,
   "metadata": {},
   "outputs": [
    {
     "name": "stdout",
     "output_type": "stream",
     "text": [
      "4\n",
      "43\n",
      "50\n"
     ]
    }
   ],
   "source": [
    "print(walk.max())\n",
    "print(walk.argmax())\n",
    "print(len(walk))"
   ]
  },
  {
   "cell_type": "markdown",
   "metadata": {},
   "source": [
    "`argmax()` provides the first index where the `max()` value has occured. Similarly for the minimum"
   ]
  },
  {
   "cell_type": "code",
   "execution_count": 382,
   "metadata": {},
   "outputs": [
    {
     "name": "stdout",
     "output_type": "stream",
     "text": [
      "-3\n",
      "4\n",
      "50\n"
     ]
    }
   ],
   "source": [
    "print(walk.min())\n",
    "print(walk.argmin())\n",
    "print(len(walk))"
   ]
  },
  {
   "cell_type": "markdown",
   "metadata": {},
   "source": [
    "But we want to find the location (positive or negative) with the largest distance. This can be easily done with vector operations"
   ]
  },
  {
   "cell_type": "code",
   "execution_count": 383,
   "metadata": {},
   "outputs": [
    {
     "name": "stdout",
     "output_type": "stream",
     "text": [
      "[1 0 1 2 3 2 3 2 1 0 1 0 1 0 1 2 1 0 1 2 1 0 1 2 3 2 1 0 1 2 1 2 1 0 1 0 1\n",
      " 0 1 0 1 2 3 4 3 2 1 0 1 0]\n",
      "4\n"
     ]
    }
   ],
   "source": [
    "print(np.abs(walk))\n",
    "print(np.abs(walk).max())"
   ]
  },
  {
   "cell_type": "code",
   "execution_count": 384,
   "metadata": {
    "scrolled": true
   },
   "outputs": [
    {
     "name": "stdout",
     "output_type": "stream",
     "text": [
      "43\n"
     ]
    }
   ],
   "source": [
    "print(np.abs(walk).argmax())"
   ]
  },
  {
   "cell_type": "markdown",
   "metadata": {},
   "source": [
    "We can also easily find the time at which we cross a certain position. For example we want to find when the position is back to origin. This is done using the boolean arrays"
   ]
  },
  {
   "cell_type": "code",
   "execution_count": 385,
   "metadata": {},
   "outputs": [
    {
     "data": {
      "text/plain": [
       "array([False,  True, False, False, False, False, False, False, False,\n",
       "        True, False,  True, False,  True, False, False, False,  True,\n",
       "       False, False, False,  True, False, False, False, False, False,\n",
       "        True, False, False, False, False, False,  True, False,  True,\n",
       "       False,  True, False,  True, False, False, False, False, False,\n",
       "       False, False,  True, False,  True])"
      ]
     },
     "execution_count": 385,
     "metadata": {},
     "output_type": "execute_result"
    }
   ],
   "source": [
    "np.abs(walk) == 0"
   ]
  },
  {
   "cell_type": "code",
   "execution_count": 386,
   "metadata": {},
   "outputs": [
    {
     "data": {
      "text/plain": [
       "True"
      ]
     },
     "execution_count": 386,
     "metadata": {},
     "output_type": "execute_result"
    }
   ],
   "source": [
    "(np.abs(walk)==0).max()"
   ]
  },
  {
   "cell_type": "markdown",
   "metadata": {},
   "source": [
    "in a boolean array `max()` corresponds to `True` value. So using `argmax()` we can find when for the first time the particle crosses again the origin"
   ]
  },
  {
   "cell_type": "code",
   "execution_count": 387,
   "metadata": {},
   "outputs": [
    {
     "data": {
      "text/plain": [
       "1"
      ]
     },
     "execution_count": 387,
     "metadata": {},
     "output_type": "execute_result"
    }
   ],
   "source": [
    "(np.abs(walk)==0).argmax()"
   ]
  },
  {
   "cell_type": "markdown",
   "metadata": {},
   "source": [
    "## Simulating many random walks at once\n",
    "\n",
    "We now want to simulate `nexp` random walks and study statistics about number of crossings, maximum distance, etc. Instead of using nested loops, we can simplhy use 2D array to keep track of steps for `nexp` experiments.\n",
    "\n",
    "In fact the only place we change the code, is the extraction of random numbers to decide direction of the random walk."
   ]
  },
  {
   "cell_type": "code",
   "execution_count": 401,
   "metadata": {},
   "outputs": [
    {
     "name": "stdout",
     "output_type": "stream",
     "text": [
      "(1000, 100)\n",
      "(1000, 100)\n",
      "(1000, 100)\n"
     ]
    }
   ],
   "source": [
    "%matplotlib notebook\n",
    "import numpy as np\n",
    "import matplotlib.pyplot as plt\n",
    "\n",
    "nsteps = 100\n",
    "nexp = 1000\n",
    "\n",
    "draws = np.random.randint(0,2, size=(nexp,nsteps) )\n",
    "print(draws.shape)\n",
    "\n",
    "steps = np.where(draws>0, 1, -1)\n",
    "print(steps.shape)\n",
    "\n",
    "\n",
    "walks = steps.cumsum(1)\n",
    "print(walks.shape)"
   ]
  },
  {
   "cell_type": "markdown",
   "metadata": {},
   "source": [
    "By calling `cumsum(1)` we summing over the 1-th dimensions, which are the columns. Recall that each row represents and experiment. columns are the draws or the steps for a given experiment. So by summing the steps over the columns, we obtain the random walk for each experiment."
   ]
  },
  {
   "cell_type": "code",
   "execution_count": 402,
   "metadata": {},
   "outputs": [
    {
     "data": {
      "text/plain": [
       "array([[  1,   2,   1, ...,  -2,  -1,   0],\n",
       "       [  1,   0,  -1, ...,  -2,  -1,   0],\n",
       "       [ -1,  -2,  -3, ...,  -4,  -3,  -4],\n",
       "       ...,\n",
       "       [  1,   2,   3, ...,  -4,  -5,  -6],\n",
       "       [ -1,   0,  -1, ...,   2,   3,   4],\n",
       "       [  1,   2,   1, ...,  -8,  -9, -10]])"
      ]
     },
     "execution_count": 402,
     "metadata": {},
     "output_type": "execute_result"
    }
   ],
   "source": [
    "walks"
   ]
  },
  {
   "cell_type": "markdown",
   "metadata": {},
   "source": [
    "The maximum distance ever reached is"
   ]
  },
  {
   "cell_type": "code",
   "execution_count": 403,
   "metadata": {
    "scrolled": true
   },
   "outputs": [
    {
     "data": {
      "text/plain": [
       "32"
      ]
     },
     "execution_count": 403,
     "metadata": {},
     "output_type": "execute_result"
    }
   ],
   "source": [
    "np.abs(walks).max()"
   ]
  },
  {
   "cell_type": "markdown",
   "metadata": {},
   "source": [
    "Check if the walk ever goes back  to the origin"
   ]
  },
  {
   "cell_type": "code",
   "execution_count": 412,
   "metadata": {},
   "outputs": [],
   "source": [
    "hits_home = (np.abs(walks)==0).any(1)\n"
   ]
  },
  {
   "cell_type": "code",
   "execution_count": 413,
   "metadata": {
    "scrolled": false
   },
   "outputs": [
    {
     "name": "stdout",
     "output_type": "stream",
     "text": [
      "927\n"
     ]
    }
   ],
   "source": [
    "hits10 = (np.abs(walks)==10).any(1)\n",
    "print(hits_home.sum())"
   ]
  },
  {
   "cell_type": "code",
   "execution_count": null,
   "metadata": {},
   "outputs": [],
   "source": [
    "print(walk)"
   ]
  },
  {
   "cell_type": "code",
   "execution_count": 406,
   "metadata": {},
   "outputs": [
    {
     "ename": "IndexError",
     "evalue": "too many indices for array",
     "output_type": "error",
     "traceback": [
      "\u001b[0;31m---------------------------------------------------------------------------\u001b[0m",
      "\u001b[0;31mIndexError\u001b[0m                                Traceback (most recent call last)",
      "\u001b[0;32m<ipython-input-406-6920813aa30a>\u001b[0m in \u001b[0;36m<module>\u001b[0;34m\u001b[0m\n\u001b[0;32m----> 1\u001b[0;31m \u001b[0mplt\u001b[0m\u001b[0;34m.\u001b[0m\u001b[0mplot\u001b[0m\u001b[0;34m(\u001b[0m\u001b[0mwalk\u001b[0m\u001b[0;34m[\u001b[0m\u001b[0;36m0\u001b[0m\u001b[0;34m,\u001b[0m\u001b[0;34m:\u001b[0m\u001b[0;34m]\u001b[0m\u001b[0;34m)\u001b[0m\u001b[0;34m\u001b[0m\u001b[0m\n\u001b[0m\u001b[1;32m      2\u001b[0m \u001b[0mplt\u001b[0m\u001b[0;34m.\u001b[0m\u001b[0mgrid\u001b[0m\u001b[0;34m(\u001b[0m\u001b[0;34m)\u001b[0m\u001b[0;34m\u001b[0m\u001b[0m\n\u001b[1;32m      3\u001b[0m \u001b[0mplt\u001b[0m\u001b[0;34m.\u001b[0m\u001b[0mxlabel\u001b[0m\u001b[0;34m(\u001b[0m\u001b[0;34m'step'\u001b[0m\u001b[0;34m)\u001b[0m\u001b[0;34m\u001b[0m\u001b[0m\n\u001b[1;32m      4\u001b[0m \u001b[0mplt\u001b[0m\u001b[0;34m.\u001b[0m\u001b[0mylabel\u001b[0m\u001b[0;34m(\u001b[0m\u001b[0;34m'position'\u001b[0m\u001b[0;34m)\u001b[0m\u001b[0;34m\u001b[0m\u001b[0m\n",
      "\u001b[0;31mIndexError\u001b[0m: too many indices for array"
     ]
    }
   ],
   "source": [
    "plt.plot(walk[0,:])\n",
    "plt.grid()\n",
    "plt.xlabel('step')\n",
    "plt.ylabel('position')"
   ]
  },
  {
   "cell_type": "markdown",
   "metadata": {},
   "source": [
    "### Exercise\n",
    "- use animation to show the experimets in sequence\n",
    "- simulate the random walk in 3D and compute the fraction of experiments going back to the origin or reaching an arbitrary distance from the origin"
   ]
  },
  {
   "cell_type": "code",
   "execution_count": null,
   "metadata": {},
   "outputs": [],
   "source": []
  }
 ],
 "metadata": {
  "kernelspec": {
   "display_name": "Python 3",
   "language": "python",
   "name": "python3"
  },
  "language_info": {
   "codemirror_mode": {
    "name": "ipython",
    "version": 3
   },
   "file_extension": ".py",
   "mimetype": "text/x-python",
   "name": "python",
   "nbconvert_exporter": "python",
   "pygments_lexer": "ipython3",
   "version": "3.7.0"
  }
 },
 "nbformat": 4,
 "nbformat_minor": 2
}
