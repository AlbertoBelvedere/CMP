{
 "cells": [
  {
   "cell_type": "markdown",
   "metadata": {},
   "source": [
    "# Classes and Object Oriented Programming\n",
    "\n",
    "- In C++ we saw the advantage of using classes and objects\n",
    "\n",
    "  - Instead of complex data structures and functions, programs connsist in objects interactingg by calling eachother's methods\n",
    "\n",
    "\n",
    " \n",
    "- Inheritance allowed us to model even sophisticated physics problems with basic classes implementing the physics iside methods\n",
    "\n",
    "- Deign patterns like Composition and  Strategy allow creation of complex solutionns with a few classes\n",
    "  - Solar system solution \n",
    "  - particle and detector hierarchies\n",
    "  \n",
    "- Operator overloading allows to encapsulate complex opersations and methods in methods to make objects behave in a natural manner easy to understad for clients\n",
    "\n",
    "\n",
    "## Classes in Python\n",
    "- very similar to what we learned in C++\n",
    "- OOP is even easier in Python\n",
    " - being a dynamically typed language, much of the overhead and syntactic complexity of class definition is gone\n",
    "- some features like operator overloading are even simpler in python\n",
    "- As with built-in types and functions in Python, classes are also objects in Python!\n",
    "- We distinguish between\n",
    " - class object: the class prototype defined only once \n",
    "   ```\n",
    "   class Person:\n",
    "      # methods annd attributes go here\n",
    "   ```\n",
    " - instance objects: actual instances of a class created by using the class constructor\n",
    "   ```\n",
    "   john = Person()\n",
    "   ```\n",
    "\n",
    "- methods and variables of a class are referred to as **attributes**  and cann be accessed with the access operator `.`\n",
    "```\n",
    "john.display()\n",
    "john.name\n",
    "```\n",
    "\n",
    "- so unlike C++, in this example, we will not be defining accessor method `name()` just to be able to access the attribute `name`\n",
    "\n",
    "Let's start with a first simple example to see how classes work in Python\n",
    "\n",
    "## first example: Person\n",
    "- we use the same well known example from C++\n",
    "- class Person has only one variable attribute `name` and has two method attributes `setName` annd `display`"
   ]
  },
  {
   "cell_type": "code",
   "execution_count": 1,
   "metadata": {
    "scrolled": true
   },
   "outputs": [
    {
     "ename": "AttributeError",
     "evalue": "'Person' object has no attribute 'name'",
     "output_type": "error",
     "traceback": [
      "\u001b[0;31m---------------------------------------------------------------------------\u001b[0m",
      "\u001b[0;31mAttributeError\u001b[0m                            Traceback (most recent call last)",
      "\u001b[0;32m<ipython-input-1-e481e1197e28>\u001b[0m in \u001b[0;36m<module>\u001b[0;34m\u001b[0m\n\u001b[1;32m      8\u001b[0m \u001b[0;34m\u001b[0m\u001b[0m\n\u001b[1;32m      9\u001b[0m \u001b[0mjohn\u001b[0m \u001b[0;34m=\u001b[0m \u001b[0mPerson\u001b[0m\u001b[0;34m(\u001b[0m\u001b[0;34m)\u001b[0m\u001b[0;34m\u001b[0m\u001b[0m\n\u001b[0;32m---> 10\u001b[0;31m \u001b[0mjohn\u001b[0m\u001b[0;34m.\u001b[0m\u001b[0mdisplay\u001b[0m\u001b[0;34m(\u001b[0m\u001b[0;34m)\u001b[0m\u001b[0;34m\u001b[0m\u001b[0m\n\u001b[0m",
      "\u001b[0;32m<ipython-input-1-e481e1197e28>\u001b[0m in \u001b[0;36mdisplay\u001b[0;34m(self)\u001b[0m\n\u001b[1;32m      4\u001b[0m \u001b[0;34m\u001b[0m\u001b[0m\n\u001b[1;32m      5\u001b[0m     \u001b[0;32mdef\u001b[0m \u001b[0mdisplay\u001b[0m\u001b[0;34m(\u001b[0m\u001b[0mself\u001b[0m\u001b[0;34m)\u001b[0m\u001b[0;34m:\u001b[0m\u001b[0;34m\u001b[0m\u001b[0m\n\u001b[0;32m----> 6\u001b[0;31m         \u001b[0mprint\u001b[0m\u001b[0;34m(\u001b[0m\u001b[0mself\u001b[0m\u001b[0;34m.\u001b[0m\u001b[0mname\u001b[0m\u001b[0;34m)\u001b[0m\u001b[0;34m\u001b[0m\u001b[0m\n\u001b[0m\u001b[1;32m      7\u001b[0m \u001b[0;34m\u001b[0m\u001b[0m\n\u001b[1;32m      8\u001b[0m \u001b[0;34m\u001b[0m\u001b[0m\n",
      "\u001b[0;31mAttributeError\u001b[0m: 'Person' object has no attribute 'name'"
     ]
    }
   ],
   "source": [
    "class Person:\n",
    "    def setName(self,n):\n",
    "        self.name = n\n",
    "        \n",
    "    def display(self):\n",
    "        print(self.name)\n",
    "        \n",
    "\n",
    "john = Person()\n",
    "john.display()"
   ]
  },
  {
   "cell_type": "markdown",
   "metadata": {},
   "source": [
    "We note immediatley some important differences with respect to C++\n",
    "- the constructor is not defined so a default constructor is used\n",
    "- the attribute `name` is not declared and is assigned only when `setName()` is called, so calling `display()` casues an error\n",
    "\n",
    "More importantly:\n",
    "- methods are defined like all python functions using the `def` statement\n",
    "- all methods must have a first argument called conventially `self` which is a reference to the object being acted on\n",
    "  - it is the equivalent of `this` pointer in C++ and java\n",
    "  \n",
    "To fix the problem we can either assignn the name to the object"
   ]
  },
  {
   "cell_type": "code",
   "execution_count": 2,
   "metadata": {},
   "outputs": [
    {
     "name": "stdout",
     "output_type": "stream",
     "text": [
      "Johnny\n",
      "Susy\n",
      "paolo\n"
     ]
    }
   ],
   "source": [
    "john.setName(\"Johnny\")\n",
    "\n",
    "susan = Person()\n",
    "paolo = Person()\n",
    "susan.setName(\"Susy\")\n",
    "paolo.setName(\"paolo\")\n",
    "\n",
    "students = [ john, susan, paolo]\n",
    "for s in students:\n",
    "    s.display()"
   ]
  },
  {
   "cell_type": "markdown",
   "metadata": {},
   "source": [
    "or we could define a constructor to force assignment of all attributes at the time an object is created\n",
    "\n",
    "## class constructor : `__init__`\n",
    "\n",
    "classes have some specially named attributes. The first and perhaps most important one, is the `__init__` method which is equivalent to the C++ constrcutor. It is used to assign all attributes for an object being created\n",
    "\n",
    "As with all methods, the first argument must be `self` followed by  additional arguments"
   ]
  },
  {
   "cell_type": "code",
   "execution_count": 4,
   "metadata": {},
   "outputs": [
    {
     "ename": "TypeError",
     "evalue": "__init__() missing 1 required positional argument: 'name'",
     "output_type": "error",
     "traceback": [
      "\u001b[0;31m---------------------------------------------------------------------------\u001b[0m",
      "\u001b[0;31mTypeError\u001b[0m                                 Traceback (most recent call last)",
      "\u001b[0;32m<ipython-input-4-fdd372467b61>\u001b[0m in \u001b[0;36m<module>\u001b[0;34m\u001b[0m\n\u001b[1;32m     10\u001b[0m \u001b[0;34m\u001b[0m\u001b[0m\n\u001b[1;32m     11\u001b[0m \u001b[0;34m\u001b[0m\u001b[0m\n\u001b[0;32m---> 12\u001b[0;31m \u001b[0mjohn\u001b[0m \u001b[0;34m=\u001b[0m \u001b[0mPerson\u001b[0m\u001b[0;34m(\u001b[0m\u001b[0;34m)\u001b[0m\u001b[0;34m\u001b[0m\u001b[0m\n\u001b[0m\u001b[1;32m     13\u001b[0m \u001b[0mjohn\u001b[0m\u001b[0;34m.\u001b[0m\u001b[0mdisplay\u001b[0m\u001b[0;34m(\u001b[0m\u001b[0;34m)\u001b[0m\u001b[0;34m\u001b[0m\u001b[0m\n",
      "\u001b[0;31mTypeError\u001b[0m: __init__() missing 1 required positional argument: 'name'"
     ]
    }
   ],
   "source": [
    "class Person:\n",
    "    def __init__(self,name):\n",
    "        self.name = name\n",
    "        \n",
    "    def setName(self,name):\n",
    "        self.name = name\n",
    "        \n",
    "    def display(self):\n",
    "        print(self.name)\n",
    "        \n",
    "\n",
    "john = Person()\n",
    "john.display()"
   ]
  },
  {
   "cell_type": "markdown",
   "metadata": {},
   "source": [
    "If you want to allow a Person object have an empty name then you can provide the default value as in C++"
   ]
  },
  {
   "cell_type": "code",
   "execution_count": 6,
   "metadata": {},
   "outputs": [
    {
     "name": "stdout",
     "output_type": "stream",
     "text": [
      "name: \n",
      "<__main__.Person object at 0x103dca780>\n"
     ]
    }
   ],
   "source": [
    "class Person:\n",
    "    def __init__(self,n=\"\"):\n",
    "        self.name = n\n",
    "        \n",
    "    def setName(self,n):\n",
    "        self.name = n\n",
    "        \n",
    "    def display(self):\n",
    "        print(\"name: %s\"%self.name)\n",
    "        \n",
    "\n",
    "john = Person()\n",
    "john.display()\n",
    "\n",
    "susan = Person(\"Susy\")\n",
    "print(susan)"
   ]
  },
  {
   "cell_type": "markdown",
   "metadata": {},
   "source": [
    "## Special Class attributes\n",
    "Similar to `__init__` for the constructor, there are other  special attributes to customize the class behaviour\n",
    "\n",
    "### `__str__`\n",
    "this attribute allows you to customize the output of `print()` invoked on an instance object"
   ]
  },
  {
   "cell_type": "code",
   "execution_count": 36,
   "metadata": {
    "scrolled": false
   },
   "outputs": [
    {
     "name": "stdout",
     "output_type": "stream",
     "text": [
      "\n",
      "[Class Person] name: \n",
      "Susy\n",
      "[Class Person] name: Susy\n"
     ]
    }
   ],
   "source": [
    "class Person:\n",
    "    def __init__(self,n=\"\"):\n",
    "        self.name = n\n",
    "        \n",
    "    def __str__(self):\n",
    "        return \"[Class Person] name: %s\"%self.name\n",
    "    \n",
    "    def setName(self,n):\n",
    "        self.name = n\n",
    "        \n",
    "    def display(self):\n",
    "        print(self.name)\n",
    "        \n",
    "\n",
    "john = Person()\n",
    "john.display()\n",
    "print(john)\n",
    "\n",
    "susan = Person(\"Susy\")\n",
    "susan.display()\n",
    "print(susan)"
   ]
  },
  {
   "cell_type": "markdown",
   "metadata": {},
   "source": [
    "### `__add__`\n",
    "this attribute can be used to quickly overload the `+` operator for addition between two objects"
   ]
  },
  {
   "cell_type": "code",
   "execution_count": 37,
   "metadata": {},
   "outputs": [
    {
     "name": "stdout",
     "output_type": "stream",
     "text": [
      "0.600000 +/- 0.282843\n"
     ]
    }
   ],
   "source": [
    "class Datum:\n",
    "    def __init__(self,val,err):\n",
    "        self.val = val\n",
    "        self.err = err\n",
    "    def __add__(self, other):\n",
    "        import math as m\n",
    "        return Datum(self.val+other.val, m.sqrt(self.err**2+other.err**2) )\n",
    "    def __str__(self):\n",
    "        return \"%f +/- %f\"%(self.val, self.err)\n",
    "    \n",
    "x = Datum(1.1, 0.2)\n",
    "y = Datum(-0.5, 0.2)\n",
    "z = x + y\n",
    "print(z)"
   ]
  },
  {
   "cell_type": "markdown",
   "metadata": {},
   "source": [
    "### Operator overloading with special attributes \n",
    "There are additional special attributes that make overloading of operators much easier in Python than in C++\n",
    "<img src='special-attributes.png' width=700>"
   ]
  },
  {
   "cell_type": "markdown",
   "metadata": {},
   "source": [
    "### Exercise\n",
    " - complete the `Datum` class by adding all operators\n",
    " "
   ]
  },
  {
   "cell_type": "markdown",
   "metadata": {},
   "source": [
    "## class dictionary\n",
    "You can easily find out about the attributes of a class in the form of a dictionary"
   ]
  },
  {
   "cell_type": "code",
   "execution_count": 38,
   "metadata": {},
   "outputs": [
    {
     "name": "stdout",
     "output_type": "stream",
     "text": [
      "{'name': 'Susy'}\n"
     ]
    }
   ],
   "source": [
    "print(susan.__dict__)"
   ]
  },
  {
   "cell_type": "markdown",
   "metadata": {},
   "source": [
    "## Adding attributes to exisiting objects\n",
    "\n",
    "You can also add new attributes to instance objects after their creation. but in this case only the specific object will be modified not all instances of the same type."
   ]
  },
  {
   "cell_type": "code",
   "execution_count": 39,
   "metadata": {},
   "outputs": [
    {
     "name": "stdout",
     "output_type": "stream",
     "text": [
      "{'name': 'Susy', 'id': 123456}\n"
     ]
    }
   ],
   "source": [
    "susan.id = 123456\n",
    "print(susan.__dict__)"
   ]
  },
  {
   "cell_type": "markdown",
   "metadata": {},
   "source": [
    "Note how susan is very different from john because of addition of attributes after its creation, although their are still of the same type"
   ]
  },
  {
   "cell_type": "code",
   "execution_count": 40,
   "metadata": {
    "scrolled": true
   },
   "outputs": [
    {
     "name": "stdout",
     "output_type": "stream",
     "text": [
      "{'name': ''}\n",
      "<class '__main__.Person'> <class '__main__.Person'>\n"
     ]
    }
   ],
   "source": [
    "print(john.__dict__)\n",
    "print( type(john), type(susan))"
   ]
  },
  {
   "cell_type": "markdown",
   "metadata": {},
   "source": [
    "## Adding attributes to exisiting Classes\n",
    "\n",
    "You can also extend the entire class by adding new attributes, variables and functions without modifying the original class implementation.\n",
    "\n",
    "In this example we add a new attribute `age` to `Person` by adding a new  method `setAge()` and calling it for all instance objects"
   ]
  },
  {
   "cell_type": "code",
   "execution_count": 41,
   "metadata": {},
   "outputs": [],
   "source": [
    "def setAge(obj,age):\n",
    "    obj.age = age\n",
    "\n",
    "Person.setAge = setAge"
   ]
  },
  {
   "cell_type": "code",
   "execution_count": 42,
   "metadata": {},
   "outputs": [
    {
     "name": "stdout",
     "output_type": "stream",
     "text": [
      "Susy\n",
      "{'name': 'Susy', 'id': 123456, 'age': 23}\n"
     ]
    }
   ],
   "source": [
    "susan.setAge(23)\n",
    "susan.display()\n",
    "print(susan.__dict__)"
   ]
  },
  {
   "cell_type": "markdown",
   "metadata": {},
   "source": [
    "## Classes vs Dictionaries\n",
    "\n",
    "from the examples above, you might think that classes are basically equivalent to dictionaries. This is true for the information being stored. As in C++, the advantge of classes is having methods and behvious for objects not just storage of information.\n"
   ]
  },
  {
   "cell_type": "markdown",
   "metadata": {},
   "source": [
    "## `Person` revisited\n",
    "\n",
    "Since attributes can be accessed directly we can get rid of `setName` which is unnecessary. \n",
    "\n",
    "Also note that we use `None` instead of the empty string `\"\"` which will tell the user that the name has not been assigned"
   ]
  },
  {
   "cell_type": "code",
   "execution_count": 43,
   "metadata": {},
   "outputs": [
    {
     "name": "stdout",
     "output_type": "stream",
     "text": [
      "[Class Person] name: None\n",
      "[Class Person] name: Susy\n",
      "<class 'NoneType'>\n",
      "None\n",
      "name not assigned\n",
      "None\n"
     ]
    }
   ],
   "source": [
    "class Person:\n",
    "    def __init__(self,n=None):\n",
    "        self.name = n\n",
    "        \n",
    "    def __str__(self):\n",
    "        return \"[Class Person] name: %s\"%self.name\n",
    "    \n",
    "    def display(self):\n",
    "        print(self.name)\n",
    "\n",
    "john = Person()\n",
    "print(john)\n",
    "\n",
    "susan = Person(\"Susy\")\n",
    "print(susan)\n",
    "print(type(None))\n",
    "\n",
    "gino = Person()\n",
    "print(gino.name)\n",
    "if(gino.name == None):\n",
    "    print('name not assigned')\n",
    "print(gino.name)"
   ]
  },
  {
   "cell_type": "markdown",
   "metadata": {},
   "source": [
    "## Classes and modules\n",
    "\n",
    "Creation of a module (or library) containing your classes is also much easier now. \n",
    "\n",
    "We create a python file [classes.py](examples/classes.py) that contains the `Datum` and `Person` classes"
   ]
  },
  {
   "cell_type": "code",
   "execution_count": null,
   "metadata": {},
   "outputs": [],
   "source": [
    "# %load examples/classes.py\n",
    "class Datum:\n",
    "    def __init__(self,val,err):\n",
    "        self.val = val\n",
    "        self.err = err\n",
    "    def __add__(self, other):\n",
    "        import math as m\n",
    "        return Datum(self.val+other.val, m.sqrt(self.err**2+other.err**2) )\n",
    "    def __str__(self):\n",
    "        return \"%f +/- %f\"%(self.val, self.err)\n",
    "\n",
    "class Person:\n",
    "    def __init__(self,n=None):\n",
    "        self.name = n\n",
    "\n",
    "    def __str__(self):\n",
    "        return \"[Class Person] name: %s\"%self.name\n",
    "\n",
    "    def display(self):\n",
    "        print(self.name)\n",
    "\n",
    "\n",
    "\n",
    "if __name__ == \"__main__\":\n",
    " x = Datum(1.1, 0.2)\n",
    " y = Datum(-0.5, 0.2)\n",
    " z = x + y\n",
    " print(z)\n",
    "\n",
    " john = Person()\n",
    " print(john)\n",
    "\n",
    " susan = Person(\"Susy\")\n",
    " print(susan)\n"
   ]
  },
  {
   "cell_type": "markdown",
   "metadata": {},
   "source": [
    "Note how in classes we also add the test program to test our code. You can run this file as usual with `python3 classes.py`\n",
    "\n",
    "In [example2.py](examples/example2.py) we use these classes"
   ]
  },
  {
   "cell_type": "code",
   "execution_count": null,
   "metadata": {},
   "outputs": [],
   "source": [
    "# %load examples/example2.py\n",
    "import classes as c\n",
    "\n",
    "x = c.Datum(-1.1, 0.08)\n",
    "print(x)\n",
    "\n",
    "paolo = c.Person(\"Paolo\")\n",
    "paolo.display()\n",
    "print(paolo)\n"
   ]
  },
  {
   "cell_type": "markdown",
   "metadata": {},
   "source": [
    "## Common convention in Python\n",
    "\n",
    "- use upper case letter for Classs names to distinguish them from the module names\n",
    "- recall that module and classes are namespaces so using the upper case is helpful for the reader to distinguish module names from classes"
   ]
  },
  {
   "cell_type": "markdown",
   "metadata": {},
   "source": [
    "## Inheritance\n",
    "\n",
    "Inheritance is also much easier and lighter in terms of synntax compared to C++.\n",
    "\n",
    "We continue with the `Person` class for this example."
   ]
  },
  {
   "cell_type": "code",
   "execution_count": 44,
   "metadata": {},
   "outputs": [
    {
     "name": "stdout",
     "output_type": "stream",
     "text": [
      "{'name': 'Anna'}\n",
      "Student Anna\n",
      "[Class Person] name: Anna\n"
     ]
    }
   ],
   "source": [
    "class Person:\n",
    "    def __init__(self,name=None):\n",
    "        self.name = name\n",
    "\n",
    "    def __str__(self):\n",
    "        return \"[Class Person] name: %s\"%self.name\n",
    "\n",
    "    def display(self):\n",
    "        print(self.name)\n",
    "\n",
    "class Student(Person):\n",
    "    def display(self):\n",
    "        print(\"Student\", self.name)\n",
    "\n",
    "anna = Student(\"Anna\")\n",
    "print(anna.__dict__)\n",
    "anna.display()\n",
    "print(anna)"
   ]
  },
  {
   "cell_type": "markdown",
   "metadata": {},
   "source": [
    "We note some important features\n",
    "- no need for public or private declaration\n",
    "- all attributes of the base class (commonly called superclass in python) are imported to the derived class (subclass)\n",
    "- the constructor of superclass is called since no `__init__` is assigned in `Student`\n",
    "- `display()` is overriden in `Student` while `__str__` is still the same as in `Person`\n",
    "\n",
    "We now add the constructor for `Student` to add the attribute for an id number"
   ]
  },
  {
   "cell_type": "code",
   "execution_count": 45,
   "metadata": {},
   "outputs": [
    {
     "ename": "AttributeError",
     "evalue": "'Student' object has no attribute 'name'",
     "output_type": "error",
     "traceback": [
      "\u001b[0;31m---------------------------------------------------------------------------\u001b[0m",
      "\u001b[0;31mAttributeError\u001b[0m                            Traceback (most recent call last)",
      "\u001b[0;32m<ipython-input-45-023588a960ca>\u001b[0m in \u001b[0;36m<module>\u001b[0;34m\u001b[0m\n\u001b[1;32m      8\u001b[0m \u001b[0;34m\u001b[0m\u001b[0m\n\u001b[1;32m      9\u001b[0m \u001b[0manna\u001b[0m \u001b[0;34m=\u001b[0m \u001b[0mStudent\u001b[0m\u001b[0;34m(\u001b[0m\u001b[0;34m\"anna\"\u001b[0m\u001b[0;34m,\u001b[0m \u001b[0;36m123456\u001b[0m\u001b[0;34m)\u001b[0m\u001b[0;34m\u001b[0m\u001b[0m\n\u001b[0;32m---> 10\u001b[0;31m \u001b[0manna\u001b[0m\u001b[0;34m.\u001b[0m\u001b[0mdisplay\u001b[0m\u001b[0;34m(\u001b[0m\u001b[0;34m)\u001b[0m\u001b[0;34m\u001b[0m\u001b[0m\n\u001b[0m\u001b[1;32m     11\u001b[0m \u001b[0mprint\u001b[0m\u001b[0;34m(\u001b[0m\u001b[0manna\u001b[0m\u001b[0;34m)\u001b[0m\u001b[0;34m\u001b[0m\u001b[0m\n",
      "\u001b[0;32m<ipython-input-45-023588a960ca>\u001b[0m in \u001b[0;36mdisplay\u001b[0;34m(self)\u001b[0m\n\u001b[1;32m      5\u001b[0m \u001b[0;34m\u001b[0m\u001b[0m\n\u001b[1;32m      6\u001b[0m     \u001b[0;32mdef\u001b[0m \u001b[0mdisplay\u001b[0m\u001b[0;34m(\u001b[0m\u001b[0mself\u001b[0m\u001b[0;34m)\u001b[0m\u001b[0;34m:\u001b[0m\u001b[0;34m\u001b[0m\u001b[0m\n\u001b[0;32m----> 7\u001b[0;31m         \u001b[0mprint\u001b[0m\u001b[0;34m(\u001b[0m\u001b[0;34m\"Student\"\u001b[0m\u001b[0;34m,\u001b[0m \u001b[0mself\u001b[0m\u001b[0;34m.\u001b[0m\u001b[0mname\u001b[0m\u001b[0;34m)\u001b[0m\u001b[0;34m\u001b[0m\u001b[0m\n\u001b[0m\u001b[1;32m      8\u001b[0m \u001b[0;34m\u001b[0m\u001b[0m\n\u001b[1;32m      9\u001b[0m \u001b[0manna\u001b[0m \u001b[0;34m=\u001b[0m \u001b[0mStudent\u001b[0m\u001b[0;34m(\u001b[0m\u001b[0;34m\"anna\"\u001b[0m\u001b[0;34m,\u001b[0m \u001b[0;36m123456\u001b[0m\u001b[0;34m)\u001b[0m\u001b[0;34m\u001b[0m\u001b[0m\n",
      "\u001b[0;31mAttributeError\u001b[0m: 'Student' object has no attribute 'name'"
     ]
    }
   ],
   "source": [
    "class Student(Person):\n",
    "    def __init__(self, name, id):\n",
    "        self.id = id\n",
    "\n",
    "\n",
    "    def display(self):\n",
    "        print(\"Student\", self.name)\n",
    "\n",
    "anna = Student(\"anna\", 123456)\n",
    "anna.display()\n",
    "print(anna)"
   ]
  },
  {
   "cell_type": "markdown",
   "metadata": {},
   "source": [
    "This time we get an error since `name` has not been assigned. The new connstructor is called an no more the superclass `__init__`. The correct solution is the same as in C++. We must assign the superclass attributes by invokinng its constructor."
   ]
  },
  {
   "cell_type": "code",
   "execution_count": 46,
   "metadata": {},
   "outputs": [
    {
     "name": "stdout",
     "output_type": "stream",
     "text": [
      "Student: anna  id: 123456\n",
      "[Class Person] name: anna\n"
     ]
    }
   ],
   "source": [
    "class Student(Person):\n",
    "    def __init__(self, name, id):\n",
    "        Person.__init__(self,name)\n",
    "        self.id = id\n",
    "    def display(self):\n",
    "        print(\"Student: %s  id: %i\"%(self.name, self.id) )\n",
    "\n",
    "anna = Student(\"anna\", 123456)\n",
    "anna.display()\n",
    "print(anna)"
   ]
  },
  {
   "cell_type": "markdown",
   "metadata": {},
   "source": [
    "## Polymorphism\n",
    "\n",
    "since there are no pointers in python, polymorphism is also much easier to use and understand"
   ]
  },
  {
   "cell_type": "code",
   "execution_count": 47,
   "metadata": {},
   "outputs": [
    {
     "name": "stdout",
     "output_type": "stream",
     "text": [
      "Name: Fabio  age: 40 course: ['Laboratorio', 'EM']\n",
      "[Class Professor] name: Fabio age: 40 #courses: 2\n",
      "[Class Professor] name: Andrea age: 42 #courses: 2\n"
     ]
    }
   ],
   "source": [
    "class Professor(Person):\n",
    "    def __init__(self, name, age, courses):\n",
    "        Person.__init__(self,name)\n",
    "        self.age = age\n",
    "        self.courses = courses\n",
    "    def __str__(self):\n",
    "        return \"[Class Professor] name: %s age: %i #courses: %d\"%(self.name, self.age, len(self.courses) )\n",
    "\n",
    "\n",
    "    def display(self):\n",
    "        print(\"Name: %s  age: %i course: %s\"%(self.name, self.age, self.courses) )\n",
    "\n",
    "fabio = Professor(\"Fabio\", 40, [\"Laboratorio\", \"EM\"])\n",
    "fabio.display()\n",
    "print(fabio)\n",
    "\n",
    "andrea = Professor('Andrea', 42, ['Mechanics', 'Computing'])\n",
    "print(andrea)"
   ]
  },
  {
   "cell_type": "markdown",
   "metadata": {},
   "source": [
    "We now make a list of various people and call the same methods which deliver different results as desired"
   ]
  },
  {
   "cell_type": "code",
   "execution_count": 48,
   "metadata": {},
   "outputs": [
    {
     "name": "stdout",
     "output_type": "stream",
     "text": [
      "None\n",
      "Susy\n",
      "Student: anna  id: 123456\n",
      "Name: Fabio  age: 40 course: ['Laboratorio', 'EM']\n",
      "[Class Person] name: None\n",
      "[Class Person] name: Susy\n",
      "[Class Person] name: anna\n",
      "[Class Professor] name: Fabio age: 40 #courses: 2\n"
     ]
    }
   ],
   "source": [
    "people = [john, susan, anna, fabio]\n",
    "for p in people:\n",
    "    p.display()\n",
    "\n",
    "for p in people:\n",
    "    print(p)"
   ]
  },
  {
   "cell_type": "markdown",
   "metadata": {},
   "source": [
    "Again we create a new module [people.py](examples/people.py) to collect all classes in this hierarchy and a test program at the end"
   ]
  },
  {
   "cell_type": "code",
   "execution_count": null,
   "metadata": {},
   "outputs": [],
   "source": [
    "# %load examples/people.py\n",
    "class Person:\n",
    "    def __init__(self,name=None):\n",
    "        self.name = name\n",
    "\n",
    "    def __str__(self):\n",
    "        return \"[Class Person] name: %s\"%self.name\n",
    "\n",
    "    def display(self):\n",
    "        print(self.name)\n",
    "\n",
    "\n",
    "class Student(Person):\n",
    "    def __init__(self, name, id):\n",
    "        Person.__init__(self,name)\n",
    "        self.id = id\n",
    "    def __str__(self):\n",
    "        return \"[Class Student] name: %s id: %i\"%(self.name, self.id)\n",
    "\n",
    "    def display(self):\n",
    "        print(\"Student: %s  id: %i\"%(self.name, self.id) )\n",
    "\n",
    "\n",
    "\n",
    "class Professor(Person):\n",
    "    def __init__(self, name, age, courses):\n",
    "        Person.__init__(self,name)\n",
    "        self.age = age\n",
    "        self.courses = courses\n",
    "    def __str__(self):\n",
    "        return \"[Class Professor] name: %s age: %i #courses: %d\"%(self.name, self.age, len(self.courses) )\n",
    "\n",
    "\n",
    "    def display(self):\n",
    "        print(\"Name: %s  age: %i course: %s\"%(self.name, self.age, self.courses) )\n",
    "\n",
    "\n",
    "\n",
    "if __name__ == \"__main__\":\n",
    "    john = Person(\"johnny\")\n",
    "    joe = Person()\n",
    "    anna = Student(\"Anna\", id=12345456)\n",
    "    andrea = Professor(\"Andrea\", age=41, courses=['lab1', 'optics', 'computing'])\n",
    "\n",
    "    people = [ john, joe, anna, andrea]\n",
    "\n",
    "    for p in people:\n",
    "        print(p)\n"
   ]
  },
  {
   "cell_type": "markdown",
   "metadata": {},
   "source": [
    "## Exercise\n",
    "- Implement solar system example in python\n",
    "  - Use the [SciPy inntegration tools (scipy.integrate)](https://docs.scipy.org/doc/scipy/reference/integrate.html) to replace the euler method\n",
    "- revisit midterm project and detector implementation with python classes"
   ]
  }
 ],
 "metadata": {
  "kernelspec": {
   "display_name": "Python 3",
   "language": "python",
   "name": "python3"
  },
  "language_info": {
   "codemirror_mode": {
    "name": "ipython",
    "version": 3
   },
   "file_extension": ".py",
   "mimetype": "text/x-python",
   "name": "python",
   "nbconvert_exporter": "python",
   "pygments_lexer": "ipython3",
   "version": "3.7.0"
  },
  "widgets": {
   "application/vnd.jupyter.widget-state+json": {
    "state": {},
    "version_major": 2,
    "version_minor": 0
   }
  }
 },
 "nbformat": 4,
 "nbformat_minor": 2
}
