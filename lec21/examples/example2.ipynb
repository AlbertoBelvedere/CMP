{
 "cells": [
  {
   "cell_type": "markdown",
   "metadata": {},
   "source": [
    "This cell contains text.\n",
    "\n",
    "You can use Markdown commands for formatting\n",
    "\n",
    "# Header 1\n",
    "\n",
    "## header 2\n",
    "\n",
    "### header 3\n",
    "\n",
    "unordered list\n",
    "  - Function\n",
    "    - Gauss\n",
    "    - Line\n",
    "    - Poly\n",
    "  - Integrator\n",
    "    - MC method\n",
    "    - Simpson\n",
    "    - Rectangles\n",
    "    \n",
    "I usually use this [short and complete summary](https://github.com/adam-p/markdown-here/wiki/Markdown-Cheatsheet)\n",
    "of Markdown syntax to write these lectures.\n"
   ]
  },
  {
   "cell_type": "markdown",
   "metadata": {},
   "source": [
    "# example1 with jupyter\n",
    "\n",
    "We now redo our example1 intersactively with jupyter"
   ]
  },
  {
   "cell_type": "code",
   "execution_count": 4,
   "metadata": {},
   "outputs": [],
   "source": [
    "a = 2.3\n",
    "b = 4.5\n",
    "c = a/b"
   ]
  },
  {
   "cell_type": "markdown",
   "metadata": {},
   "source": [
    "Now you can use the previous variables and continue with your program\n",
    "\n",
    "To execuate a cell (code or text) click on `Run` in the top menu or press `Shift + Return`"
   ]
  },
  {
   "cell_type": "code",
   "execution_count": 5,
   "metadata": {},
   "outputs": [
    {
     "name": "stdout",
     "output_type": "stream",
     "text": [
      "2.3 4.5 0.5111111111111111\n"
     ]
    }
   ],
   "source": [
    "# plain print\n",
    "print (a,b,c)"
   ]
  },
  {
   "cell_type": "code",
   "execution_count": 6,
   "metadata": {},
   "outputs": [
    {
     "name": "stdout",
     "output_type": "stream",
     "text": [
      "c = a/b =  0.5111111111111111\n"
     ]
    }
   ],
   "source": [
    "#plain print of more variables\n",
    "print('c = a/b = ', c)"
   ]
  },
  {
   "cell_type": "code",
   "execution_count": 7,
   "metadata": {},
   "outputs": [
    {
     "name": "stdout",
     "output_type": "stream",
     "text": [
      "a = 2.3, b = 4.5, c = 0.5111111111111111\n"
     ]
    }
   ],
   "source": [
    "#print using ''\n",
    "print('a = {0}, b = {1}, c = {2}'.format( a, b, c) )\n"
   ]
  },
  {
   "cell_type": "markdown",
   "metadata": {},
   "source": [
    "In the above we are treating `'a = {0}, b = {1}, c = {2}'` as an object by applying the `format()` method to it.\n",
    "\n",
    "\n",
    "__NB__: the output with `print` is a bit diffrent than with interactive python from command line.  "
   ]
  },
  {
   "cell_type": "markdown",
   "metadata": {},
   "source": [
    "# Interactive help\n",
    "\n",
    "You can invoke the inline help by using `?` with any object"
   ]
  },
  {
   "cell_type": "code",
   "execution_count": 14,
   "metadata": {},
   "outputs": [],
   "source": [
    "c?"
   ]
  },
  {
   "cell_type": "code",
   "execution_count": 17,
   "metadata": {},
   "outputs": [],
   "source": [
    "x = \"hello all!\"\n",
    "x?"
   ]
  },
  {
   "cell_type": "code",
   "execution_count": null,
   "metadata": {},
   "outputs": [],
   "source": []
  }
 ],
 "metadata": {
  "kernelspec": {
   "display_name": "Python 3",
   "language": "python",
   "name": "python3"
  }
 },
 "nbformat": 4,
 "nbformat_minor": 2
}
