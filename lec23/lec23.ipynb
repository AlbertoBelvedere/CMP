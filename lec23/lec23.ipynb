{
 "cells": [
  {
   "cell_type": "markdown",
   "metadata": {},
   "source": [
    "# Built-in data structures: containers and sequences\n",
    "\n",
    "- One of the great and popular features of python is the presence of built-in containers for sequenes of objects.\n",
    "  - These are similar to STL containers discussed in C++.\n",
    "\n",
    "- Since in python everything is an object and all objects can be refrenced in the same way, containers can include objects of different type\n",
    "  - this is unlike anything seen in C++\n",
    "  \n",
    "- these built-in types and the reference-driven flexibility of python has made it very popular for data analysis\n",
    "\n",
    "- basic buil-in data structures in python are\n",
    "  - tuple\n",
    "  - list\n",
    "  - set\n",
    "  - dictionary\n",
    "  \n",
    "- Today we only focus on these types\n",
    "- We will introduce more advanced types when discussing [NumPy](https://www.numpy.org) and [pandas](http://pandas.pydata.org) packages, e.g.\n",
    "  - ndarrays\n",
    "  - series\n",
    "  - time series\n",
    "  - DataFrame"
   ]
  },
  {
   "cell_type": "markdown",
   "metadata": {},
   "source": [
    "## Tuples\n",
    "\n",
    "- sequence of python objects\n",
    "  - fixed length\n",
    "  - immutable\n",
    "\n",
    "to create a tuple simply separate its elements with a `,`"
   ]
  },
  {
   "cell_type": "code",
   "execution_count": 35,
   "metadata": {},
   "outputs": [
    {
     "name": "stdout",
     "output_type": "stream",
     "text": [
      "('lec23', 'lec24', 'lec25')\n"
     ]
    }
   ],
   "source": [
    "a = 'lec23', 'lec24', 'lec25'\n",
    "print(a)\n"
   ]
  },
  {
   "cell_type": "code",
   "execution_count": 36,
   "metadata": {},
   "outputs": [
    {
     "data": {
      "text/plain": [
       "3"
      ]
     },
     "execution_count": 36,
     "metadata": {},
     "output_type": "execute_result"
    }
   ],
   "source": [
    "len(a)"
   ]
  },
  {
   "cell_type": "markdown",
   "metadata": {},
   "source": [
    "a tuple can contain different type of objects"
   ]
  },
  {
   "cell_type": "code",
   "execution_count": 37,
   "metadata": {},
   "outputs": [
    {
     "name": "stdout",
     "output_type": "stream",
     "text": [
      "('paul', 24, 1.75, 85.3)\n"
     ]
    }
   ],
   "source": [
    "b = 'paul', 24, 1.75, 85.3\n",
    "print(b)"
   ]
  },
  {
   "cell_type": "code",
   "execution_count": 38,
   "metadata": {},
   "outputs": [
    {
     "name": "stdout",
     "output_type": "stream",
     "text": [
      "('lec23', 'lec24', 'lec25') ('paul', 24, 1.75, 85.3)\n"
     ]
    }
   ],
   "source": [
    "print(a,b)"
   ]
  },
  {
   "cell_type": "markdown",
   "metadata": {},
   "source": [
    "## access tuple elements\n",
    "Access to the i-th element of a tuple is done with `[]` operator"
   ]
  },
  {
   "cell_type": "code",
   "execution_count": 39,
   "metadata": {},
   "outputs": [
    {
     "name": "stdout",
     "output_type": "stream",
     "text": [
      "lec25\n",
      "85.3\n"
     ]
    }
   ],
   "source": [
    "print(a[2])\n",
    "print(b[3])"
   ]
  },
  {
   "cell_type": "markdown",
   "metadata": {},
   "source": [
    "## empty or one-element tuple"
   ]
  },
  {
   "cell_type": "code",
   "execution_count": 40,
   "metadata": {},
   "outputs": [
    {
     "name": "stdout",
     "output_type": "stream",
     "text": [
      "<class 'tuple'> ()\n",
      "<class 'tuple'> ('one',)\n"
     ]
    }
   ],
   "source": [
    "c = ()\n",
    "print(type(c),c)\n",
    "d = ('one',)\n",
    "print(type(d),d)"
   ]
  },
  {
   "cell_type": "markdown",
   "metadata": {},
   "source": [
    "Note that the `,` is critical to distinguish a on-element tuple from a normal variable."
   ]
  },
  {
   "cell_type": "code",
   "execution_count": null,
   "metadata": {},
   "outputs": [],
   "source": [
    "e = ('valore')\n",
    "print(type(e), e)"
   ]
  },
  {
   "cell_type": "markdown",
   "metadata": {},
   "source": [
    "## conversion to tuple"
   ]
  },
  {
   "cell_type": "code",
   "execution_count": null,
   "metadata": {},
   "outputs": [],
   "source": [
    "tup = range(10)\n",
    "print(len(tup))\n",
    "print(tup)"
   ]
  },
  {
   "cell_type": "markdown",
   "metadata": {},
   "source": [
    "Note how tup is not a tuple but simply a refernce to function call `range(10)`.\n",
    "\n",
    "If you want a tuple you have to explicitly convert the output of `range(10)` to be a tuple"
   ]
  },
  {
   "cell_type": "code",
   "execution_count": null,
   "metadata": {},
   "outputs": [],
   "source": [
    "tup = tuple(range(10))\n",
    "print(len(tup))\n",
    "print(tup)"
   ]
  },
  {
   "cell_type": "markdown",
   "metadata": {},
   "source": [
    "Iterating over a tuple is easy"
   ]
  },
  {
   "cell_type": "code",
   "execution_count": null,
   "metadata": {},
   "outputs": [],
   "source": [
    "for i in tup:\n",
    "    print(i)"
   ]
  },
  {
   "cell_type": "markdown",
   "metadata": {},
   "source": [
    "## converting strings to tuples\n"
   ]
  },
  {
   "cell_type": "code",
   "execution_count": null,
   "metadata": {},
   "outputs": [],
   "source": [
    "tup = tuple(\"hello world\")\n",
    "print(tup)\n",
    "for i in tup:\n",
    "    print(i)"
   ]
  },
  {
   "cell_type": "markdown",
   "metadata": {},
   "source": [
    "## Tuples can contain any object\n",
    "even a function is a valid object"
   ]
  },
  {
   "cell_type": "code",
   "execution_count": 31,
   "metadata": {},
   "outputs": [
    {
     "name": "stdout",
     "output_type": "stream",
     "text": [
      "(1, 'name', <function myprod at 0x116ae2ea0>)\n"
     ]
    }
   ],
   "source": [
    "def myprod(a,b):\n",
    "    return a*b\n",
    "\n",
    "tup = (1, 'name', myprod)\n",
    "print(tup)"
   ]
  },
  {
   "cell_type": "code",
   "execution_count": null,
   "metadata": {},
   "outputs": [],
   "source": [
    "tup[2](3,4)"
   ]
  },
  {
   "cell_type": "markdown",
   "metadata": {},
   "source": [
    "a tuple can contain tuples as its elements"
   ]
  },
  {
   "cell_type": "code",
   "execution_count": null,
   "metadata": {},
   "outputs": [],
   "source": [
    "x = a,b,c, tup\n",
    "print(x)"
   ]
  },
  {
   "cell_type": "code",
   "execution_count": null,
   "metadata": {},
   "outputs": [],
   "source": [
    "print(x[2])\n",
    "print(x[0])"
   ]
  },
  {
   "cell_type": "markdown",
   "metadata": {},
   "source": [
    "## Tuple is immutable\n",
    "You can bind a variable to a new tuple but you cannot change an element of a tuple"
   ]
  },
  {
   "cell_type": "code",
   "execution_count": null,
   "metadata": {},
   "outputs": [],
   "source": [
    "print(b)"
   ]
  },
  {
   "cell_type": "code",
   "execution_count": null,
   "metadata": {},
   "outputs": [],
   "source": [
    "b[0] = 'one'"
   ]
  },
  {
   "cell_type": "code",
   "execution_count": null,
   "metadata": {},
   "outputs": [],
   "source": [
    "y = 'one', a, (2,3)\n",
    "print(y)\n",
    "print(b)"
   ]
  },
  {
   "cell_type": "code",
   "execution_count": null,
   "metadata": {},
   "outputs": [],
   "source": [
    "b = y\n",
    "print(b)"
   ]
  },
  {
   "cell_type": "markdown",
   "metadata": {},
   "source": [
    "## Tuple methods\n",
    "given the limitation of tuple, content and size are immutable, there are very few methods. (checkout `dir(tuple)`)\n",
    "\n",
    "One very useful one is `count()`"
   ]
  },
  {
   "cell_type": "code",
   "execution_count": null,
   "metadata": {},
   "outputs": [],
   "source": [
    "grades = [30, 22, 24, 23, 30, 18, 24, 27, 28, 28, 25, 24, 22, 30, 30, 18, 20]\n",
    "grades.count(30)"
   ]
  },
  {
   "cell_type": "markdown",
   "metadata": {},
   "source": [
    "## Lists\n",
    "- Lists are also a collection of objects but unlike tuples they are mutable\n",
    "  - variable length\n",
    "  - each element can be modified\n",
    "  "
   ]
  },
  {
   "cell_type": "code",
   "execution_count": 27,
   "metadata": {
    "scrolled": true
   },
   "outputs": [
    {
     "name": "stdout",
     "output_type": "stream",
     "text": [
      "[2, 3, 4]\n",
      "4\n",
      "[2, 3, -3]\n"
     ]
    }
   ],
   "source": [
    "alist = [2,3,4]\n",
    "print(alist)\n",
    "print(alist[2])\n",
    "alist[2] = -3\n",
    "print(alist)"
   ]
  },
  {
   "cell_type": "markdown",
   "metadata": {},
   "source": [
    "lists (and tuples) are protected against out of range index"
   ]
  },
  {
   "cell_type": "code",
   "execution_count": 29,
   "metadata": {},
   "outputs": [
    {
     "name": "stdout",
     "output_type": "stream",
     "text": [
      "3\n"
     ]
    },
    {
     "ename": "IndexError",
     "evalue": "list index out of range",
     "output_type": "error",
     "traceback": [
      "\u001b[0;31m---------------------------------------------------------------------------\u001b[0m",
      "\u001b[0;31mIndexError\u001b[0m                                Traceback (most recent call last)",
      "\u001b[0;32m<ipython-input-29-758fda718bb3>\u001b[0m in \u001b[0;36m<module>\u001b[0;34m\u001b[0m\n\u001b[1;32m      1\u001b[0m \u001b[0mprint\u001b[0m\u001b[0;34m(\u001b[0m\u001b[0mlen\u001b[0m\u001b[0;34m(\u001b[0m\u001b[0malist\u001b[0m\u001b[0;34m)\u001b[0m\u001b[0;34m)\u001b[0m\u001b[0;34m\u001b[0m\u001b[0m\n\u001b[0;32m----> 2\u001b[0;31m \u001b[0malist\u001b[0m\u001b[0;34m[\u001b[0m\u001b[0;36m3\u001b[0m\u001b[0;34m]\u001b[0m\u001b[0;34m\u001b[0m\u001b[0m\n\u001b[0m",
      "\u001b[0;31mIndexError\u001b[0m: list index out of range"
     ]
    }
   ],
   "source": [
    "print(len(alist))\n",
    "alist[3]"
   ]
  },
  {
   "cell_type": "markdown",
   "metadata": {},
   "source": [
    "A list can cantain any type of data. In this example the list is made of strings, float, int, function, lists, and tuples"
   ]
  },
  {
   "cell_type": "code",
   "execution_count": 32,
   "metadata": {},
   "outputs": [
    {
     "name": "stdout",
     "output_type": "stream",
     "text": [
      "['one', 2, 3.24, <function myprod at 0x116ae2ea0>, (23, 24), ['lec1', 'lec2']]\n"
     ]
    }
   ],
   "source": [
    "alist = ['one', 2, 3.24, myprod, (23,24), ['lec1', 'lec2']]\n",
    "print(alist)"
   ]
  },
  {
   "cell_type": "markdown",
   "metadata": {},
   "source": [
    "## lists and tuples\n",
    "- a list is created using the `[]` operator or the explicit type `list`\n",
    "- a tuple is created with the `()` operator or the explicit type `tuple`\n",
    "- Lists and tuples are semantically similar\n",
    "  - many functions can take a tuple or a list\n",
    "  \n",
    "- Lists are used in data analysis to store data from iterators or generators"
   ]
  },
  {
   "cell_type": "code",
   "execution_count": 33,
   "metadata": {},
   "outputs": [
    {
     "name": "stdout",
     "output_type": "stream",
     "text": [
      "range(-3, 10, 2)\n"
     ]
    },
    {
     "data": {
      "text/plain": [
       "[-3, -1, 1, 3, 5, 7, 9]"
      ]
     },
     "execution_count": 33,
     "metadata": {},
     "output_type": "execute_result"
    }
   ],
   "source": [
    "values  = range(-3,10, 2)\n",
    "print(values)\n",
    "list(values)"
   ]
  },
  {
   "cell_type": "markdown",
   "metadata": {},
   "source": [
    "Note that as with tuples, you have to convert the output of `range` to be a list."
   ]
  },
  {
   "cell_type": "markdown",
   "metadata": {},
   "source": [
    "## list from tuple\n",
    "you can create a list from a tuple by explicit conversion "
   ]
  },
  {
   "cell_type": "code",
   "execution_count": 51,
   "metadata": {},
   "outputs": [
    {
     "name": "stdout",
     "output_type": "stream",
     "text": [
      "('lec23', 'lec24', 'lec25')\n",
      "['lec23', 'lec24', 'lec25']\n"
     ]
    },
    {
     "data": {
      "text/plain": [
       "['lec23', 'lec24', 'lec28']"
      ]
     },
     "execution_count": 51,
     "metadata": {},
     "output_type": "execute_result"
    }
   ],
   "source": [
    "print(a)\n",
    "blist = list(a)\n",
    "print(blist)\n",
    "blist[2] = 'lec28'\n",
    "blist"
   ]
  },
  {
   "cell_type": "markdown",
   "metadata": {},
   "source": [
    "## Manipulating lists\n",
    "\n",
    "### adding and removing elements\n",
    "to add an element at the end of the list"
   ]
  },
  {
   "cell_type": "code",
   "execution_count": 42,
   "metadata": {},
   "outputs": [
    {
     "name": "stdout",
     "output_type": "stream",
     "text": [
      "['one', 2, 3.14, 4, 'five', 6]\n"
     ]
    }
   ],
   "source": [
    "clist = ['one', 2, 3.14, 4, 'five']\n",
    "clist.append(6)\n",
    "print(clist)"
   ]
  },
  {
   "cell_type": "markdown",
   "metadata": {},
   "source": [
    "We can also insert a value at a specific location by providing the index"
   ]
  },
  {
   "cell_type": "code",
   "execution_count": 43,
   "metadata": {},
   "outputs": [
    {
     "data": {
      "text/plain": [
       "['one', 2, 'two', 3.14, 4, 'five', 6]"
      ]
     },
     "execution_count": 43,
     "metadata": {},
     "output_type": "execute_result"
    }
   ],
   "source": [
    "clist.insert(2, 'two')\n",
    "clist"
   ]
  },
  {
   "cell_type": "markdown",
   "metadata": {},
   "source": [
    "note how the new element is inserted __before__ the indicated index. \n",
    "\n",
    "You can also remove an element from the list at a specific location with `pop`"
   ]
  },
  {
   "cell_type": "code",
   "execution_count": 44,
   "metadata": {},
   "outputs": [
    {
     "data": {
      "text/plain": [
       "['one', 2, 3.14, 4, 'five', 6]"
      ]
     },
     "execution_count": 44,
     "metadata": {},
     "output_type": "execute_result"
    }
   ],
   "source": [
    "clist.pop(2)\n",
    "clist"
   ]
  },
  {
   "cell_type": "markdown",
   "metadata": {},
   "source": [
    "The `insert` and `pop` methods have a return value. \n",
    "\n",
    "In particular with `pop` it is useful to see the value you have removed from the list"
   ]
  },
  {
   "cell_type": "code",
   "execution_count": 45,
   "metadata": {},
   "outputs": [
    {
     "name": "stdout",
     "output_type": "stream",
     "text": [
      "None\n",
      "test\n",
      "['one', 2, 3.14, 4, 'five', 6]\n"
     ]
    }
   ],
   "source": [
    "x = clist.insert(2, 'test')\n",
    "print (x)\n",
    "x = clist.pop(2)\n",
    "print(x)\n",
    "print(clist)"
   ]
  },
  {
   "cell_type": "markdown",
   "metadata": {},
   "source": [
    "### removing by value\n",
    "Although not very efficient, you can remove a given value from the list. It will only remove the first such occurance. python will linearly go through all elements until it finds the first occurance"
   ]
  },
  {
   "cell_type": "code",
   "execution_count": 48,
   "metadata": {},
   "outputs": [
    {
     "name": "stdout",
     "output_type": "stream",
     "text": [
      "True\n",
      "['one', 2, 3.14, 4, 'five', 6]\n"
     ]
    }
   ],
   "source": [
    "print(4 in clist)\n",
    "print(clist)"
   ]
  },
  {
   "cell_type": "code",
   "execution_count": 49,
   "metadata": {},
   "outputs": [
    {
     "name": "stdout",
     "output_type": "stream",
     "text": [
      "['one', 2, 3.14, 'five', 6]\n"
     ]
    }
   ],
   "source": [
    "if 4 in clist:\n",
    "    clist.remove(4)\n",
    "print(clist)\n"
   ]
  },
  {
   "cell_type": "markdown",
   "metadata": {},
   "source": [
    "### combining lists\n",
    "you can use `+` to combine or extend exisiting or new lists"
   ]
  },
  {
   "cell_type": "code",
   "execution_count": 56,
   "metadata": {},
   "outputs": [
    {
     "name": "stdout",
     "output_type": "stream",
     "text": [
      "['lec23', 'lec24', 'lec28']\n",
      "['one', 2, 3.14, 'five', 6]\n",
      "['lec23', 'lec24', 'lec28', 'id', 'name', 'major']\n"
     ]
    }
   ],
   "source": [
    "print(blist)\n",
    "print(clist)\n",
    "all = blist + ['id', 'name', 'major']\n",
    "print(all)"
   ]
  },
  {
   "cell_type": "markdown",
   "metadata": {},
   "source": [
    "Note that this is very different than doing"
   ]
  },
  {
   "cell_type": "code",
   "execution_count": 60,
   "metadata": {},
   "outputs": [
    {
     "name": "stdout",
     "output_type": "stream",
     "text": [
      "[['lec23', 'lec24', 'lec28'], 'id', 'name', 'major']\n"
     ]
    }
   ],
   "source": [
    "all = [blist,'id', 'name', 'major']\n",
    "print(all)"
   ]
  },
  {
   "cell_type": "markdown",
   "metadata": {},
   "source": [
    "The most efficient way to extend a list is with `extend`. It can take one or more elements to be added"
   ]
  },
  {
   "cell_type": "code",
   "execution_count": 61,
   "metadata": {},
   "outputs": [
    {
     "name": "stdout",
     "output_type": "stream",
     "text": [
      "[['lec23', 'lec24', 'lec28'], 'id', 'name', 'major', 2, 3, 4, 'test', 'python']\n"
     ]
    }
   ],
   "source": [
    "all.extend([2,3,4, 'test', 'python'])\n",
    "print(all)"
   ]
  },
  {
   "cell_type": "code",
   "execution_count": null,
   "metadata": {},
   "outputs": [],
   "source": [
    "### sorting a list\n",
    "lists of elements that can be compared to each other can be sorted"
   ]
  },
  {
   "cell_type": "code",
   "execution_count": 62,
   "metadata": {},
   "outputs": [
    {
     "ename": "TypeError",
     "evalue": "'<' not supported between instances of 'str' and 'list'",
     "output_type": "error",
     "traceback": [
      "\u001b[0;31m---------------------------------------------------------------------------\u001b[0m",
      "\u001b[0;31mTypeError\u001b[0m                                 Traceback (most recent call last)",
      "\u001b[0;32m<ipython-input-62-18f819a19ae0>\u001b[0m in \u001b[0;36m<module>\u001b[0;34m\u001b[0m\n\u001b[0;32m----> 1\u001b[0;31m \u001b[0mall\u001b[0m\u001b[0;34m.\u001b[0m\u001b[0msort\u001b[0m\u001b[0;34m(\u001b[0m\u001b[0;34m)\u001b[0m\u001b[0;34m\u001b[0m\u001b[0m\n\u001b[0m",
      "\u001b[0;31mTypeError\u001b[0m: '<' not supported between instances of 'str' and 'list'"
     ]
    }
   ],
   "source": [
    "all.sort()\n"
   ]
  },
  {
   "cell_type": "code",
   "execution_count": 90,
   "metadata": {},
   "outputs": [
    {
     "name": "stdout",
     "output_type": "stream",
     "text": [
      "['january', 'february', 'march', 'april', 'may', 'june', 'july', 'august', 'september', 'october', 'november', 'december']\n"
     ]
    }
   ],
   "source": [
    "months = ['january', 'february', 'march', 'april', 'may', 'june', 'july', 'august', 'september', 'october', 'november', 'december']\n",
    "print(months)"
   ]
  },
  {
   "cell_type": "code",
   "execution_count": 67,
   "metadata": {},
   "outputs": [
    {
     "name": "stdout",
     "output_type": "stream",
     "text": [
      "['april', 'august', 'december', 'february', 'january', 'july', 'june', 'march', 'may', 'november', 'october', 'september']\n"
     ]
    }
   ],
   "source": [
    "months.sort()\n",
    "print(months)"
   ]
  },
  {
   "cell_type": "code",
   "execution_count": 69,
   "metadata": {},
   "outputs": [
    {
     "name": "stdout",
     "output_type": "stream",
     "text": [
      "['may', 'july', 'june', 'april', 'march', 'august', 'january', 'october', 'december', 'february', 'november', 'september']\n"
     ]
    }
   ],
   "source": [
    "months.sort(key=len)\n",
    "print(months)"
   ]
  },
  {
   "cell_type": "code",
   "execution_count": 70,
   "metadata": {},
   "outputs": [
    {
     "name": "stdout",
     "output_type": "stream",
     "text": [
      "Help on method_descriptor:\n",
      "\n",
      "sort(self, /, *, key=None, reverse=False)\n",
      "    Stable sort *IN PLACE*.\n",
      "\n"
     ]
    }
   ],
   "source": [
    "help(list.sort)"
   ]
  },
  {
   "cell_type": "markdown",
   "metadata": {},
   "source": [
    "### sort vs sorted\n",
    "in this example `sort()` is applied to the object and modifies it. Instead we might prefer keeping the data intact and have a new sorted copy"
   ]
  },
  {
   "cell_type": "code",
   "execution_count": 134,
   "metadata": {},
   "outputs": [
    {
     "name": "stdout",
     "output_type": "stream",
     "text": [
      "['january', 'february', 'march', 'april', 'may', 'june', 'july', 'august', 'september', 'october', 'november', 'december']\n",
      "['april', 'august', 'december', 'february', 'january', 'july', 'june', 'march', 'may', 'november', 'october', 'september']\n",
      "['may', 'june', 'july', 'march', 'april', 'august', 'january', 'october', 'february', 'november', 'december', 'september']\n"
     ]
    }
   ],
   "source": [
    "months = ['january', 'february', 'march', 'april', 'may', 'june', 'july', 'august', 'september', 'october', 'november', 'december']\n",
    "print(months)\n",
    "sorted_months = sorted(months)\n",
    "print(sorted_months)\n",
    "sorted_months = sorted(months, key=len)\n",
    "print(sorted_months)"
   ]
  },
  {
   "cell_type": "markdown",
   "metadata": {},
   "source": [
    "### lists and strings"
   ]
  },
  {
   "cell_type": "code",
   "execution_count": 135,
   "metadata": {},
   "outputs": [
    {
     "name": "stdout",
     "output_type": "stream",
     "text": [
      "['i', 'n', ' ', 'a', ' ', 'f', 'a', 'r', ' ', 'a', 'w', 'a', 'y', ' ', 'g', 'a', 'l', 'a', 'x', 'y']\n"
     ]
    },
    {
     "data": {
      "text/plain": [
       "4"
      ]
     },
     "execution_count": 135,
     "metadata": {},
     "output_type": "execute_result"
    }
   ],
   "source": [
    "chars = list(\"in a far away galaxy\")\n",
    "print(chars)\n",
    "chars.count(' ')\n"
   ]
  },
  {
   "cell_type": "markdown",
   "metadata": {},
   "source": [
    "### enumerate function\n",
    "useful python function  to keep track of index while iterating on a collection, e.g. a list.\n",
    "\n",
    "see how in python the `for` loop takes advantage of `numerate`"
   ]
  },
  {
   "cell_type": "code",
   "execution_count": 136,
   "metadata": {
    "scrolled": true
   },
   "outputs": [
    {
     "name": "stdout",
     "output_type": "stream",
     "text": [
      "month 1 : january\n",
      "month 2 : february\n",
      "month 3 : march\n",
      "month 4 : april\n",
      "month 5 : may\n",
      "month 6 : june\n",
      "month 7 : july\n",
      "month 8 : august\n",
      "month 9 : september\n",
      "month 10: october\n",
      "month 11: november\n",
      "month 12: december\n"
     ]
    }
   ],
   "source": [
    "for i,m in enumerate(months):\n",
    "    print(\"month %-2d: %s\"%(i+1,m))"
   ]
  },
  {
   "cell_type": "code",
   "execution_count": null,
   "metadata": {},
   "outputs": [],
   "source": []
  },
  {
   "cell_type": "markdown",
   "metadata": {},
   "source": [
    "### slicing\n",
    "one of most popular featurs in data analysis with python is the possibility of accessing a subset of a collection by specifying the indices"
   ]
  },
  {
   "cell_type": "code",
   "execution_count": 137,
   "metadata": {},
   "outputs": [
    {
     "name": "stdout",
     "output_type": "stream",
     "text": [
      "['january', 'february', 'march']\n"
     ]
    }
   ],
   "source": [
    "print(months[:3])"
   ]
  },
  {
   "cell_type": "code",
   "execution_count": 138,
   "metadata": {},
   "outputs": [
    {
     "name": "stdout",
     "output_type": "stream",
     "text": [
      "['may', 'june']\n"
     ]
    }
   ],
   "source": [
    "print(months[4:6])"
   ]
  },
  {
   "cell_type": "code",
   "execution_count": 139,
   "metadata": {},
   "outputs": [
    {
     "name": "stdout",
     "output_type": "stream",
     "text": [
      "['june', 'july', 'august', 'september', 'october', 'november', 'december']\n",
      "6\n"
     ]
    }
   ],
   "source": [
    "print(months[5:])\n",
    "print(len(months[6:]))"
   ]
  },
  {
   "cell_type": "markdown",
   "metadata": {},
   "source": [
    "### references and lists\n",
    "in python all collection objects are handled as a reference. This is shown explicitly in this example"
   ]
  },
  {
   "cell_type": "code",
   "execution_count": 140,
   "metadata": {},
   "outputs": [
    {
     "name": "stdout",
     "output_type": "stream",
     "text": [
      "['january', 'february', 'march', 'april', 'may', 'june', 'july', 'august', 'september', 'october', 'november', 'december']\n"
     ]
    }
   ],
   "source": [
    "newlist = months\n",
    "print(newlist)"
   ]
  },
  {
   "cell_type": "code",
   "execution_count": 141,
   "metadata": {
    "scrolled": true
   },
   "outputs": [
    {
     "name": "stdout",
     "output_type": "stream",
     "text": [
      "['january', 'february', 'march', 'april', 'may', 'june', 'july', 'august', 'september', 'october', 'november', 'december', 'NewMonth']\n"
     ]
    }
   ],
   "source": [
    "newlist.append('NewMonth')\n",
    "print(months)"
   ]
  },
  {
   "cell_type": "markdown",
   "metadata": {},
   "source": [
    "so `newlist` __is not a new copy__. `newlist` and `months` are simply two references to the same list object!\n",
    "\n",
    "to have a new copy you have to use the explcit conversion"
   ]
  },
  {
   "cell_type": "code",
   "execution_count": 142,
   "metadata": {},
   "outputs": [
    {
     "name": "stdout",
     "output_type": "stream",
     "text": [
      "['january', 'february', 'march', 'april', 'may', 'june', 'july', 'august', 'september', 'october', 'november', 'december', 'NewMonth']\n",
      "['january', 'february', 'march', 'april', 'may', 'june', 'july', 'august', 'september', 'october', 'november', 'december', 'NewMonth', 'CrazyMonth']\n"
     ]
    }
   ],
   "source": [
    "newlist = list(months)\n",
    "newlist.append('CrazyMonth')\n",
    "print(months)\n",
    "print(newlist)"
   ]
  },
  {
   "cell_type": "markdown",
   "metadata": {},
   "source": [
    "## Dictionaries\n",
    "dictionaries are very similar to the associative container `map<T,K>` discussed in C++. They are also known as __hash tables__ in other languages, e.g. `perl`. The `{}` operator is used to create a `dict` object"
   ]
  },
  {
   "cell_type": "code",
   "execution_count": 143,
   "metadata": {
    "scrolled": true
   },
   "outputs": [
    {
     "name": "stdout",
     "output_type": "stream",
     "text": [
      "# of days in january: \n"
     ]
    },
    {
     "ename": "ValueError",
     "evalue": "invalid literal for int() with base 10: ''",
     "output_type": "error",
     "traceback": [
      "\u001b[0;31m---------------------------------------------------------------------------\u001b[0m",
      "\u001b[0;31mValueError\u001b[0m                                Traceback (most recent call last)",
      "\u001b[0;32m<ipython-input-143-b0cb5279e0f3>\u001b[0m in \u001b[0;36m<module>\u001b[0;34m\u001b[0m\n\u001b[1;32m      1\u001b[0m \u001b[0mdays\u001b[0m \u001b[0;34m=\u001b[0m \u001b[0;34m{\u001b[0m\u001b[0;34m}\u001b[0m\u001b[0;34m\u001b[0m\u001b[0m\n\u001b[1;32m      2\u001b[0m \u001b[0;32mfor\u001b[0m \u001b[0mm\u001b[0m \u001b[0;32min\u001b[0m \u001b[0mmonths\u001b[0m\u001b[0;34m:\u001b[0m\u001b[0;34m\u001b[0m\u001b[0m\n\u001b[0;32m----> 3\u001b[0;31m     \u001b[0mdays\u001b[0m\u001b[0;34m[\u001b[0m\u001b[0mm\u001b[0m\u001b[0;34m]\u001b[0m \u001b[0;34m=\u001b[0m \u001b[0mint\u001b[0m\u001b[0;34m(\u001b[0m\u001b[0minput\u001b[0m\u001b[0;34m(\u001b[0m\u001b[0;34m\"# of days in {0}: \"\u001b[0m\u001b[0;34m.\u001b[0m\u001b[0mformat\u001b[0m\u001b[0;34m(\u001b[0m\u001b[0mm\u001b[0m\u001b[0;34m)\u001b[0m\u001b[0;34m)\u001b[0m\u001b[0;34m)\u001b[0m\u001b[0;34m\u001b[0m\u001b[0m\n\u001b[0m\u001b[1;32m      4\u001b[0m \u001b[0mprint\u001b[0m\u001b[0;34m(\u001b[0m\u001b[0mdays\u001b[0m\u001b[0;34m)\u001b[0m\u001b[0;34m\u001b[0m\u001b[0m\n",
      "\u001b[0;31mValueError\u001b[0m: invalid literal for int() with base 10: ''"
     ]
    }
   ],
   "source": [
    "days = {}\n",
    "for m in months:\n",
    "    days[m] = int(input(\"# of days in {0}: \".format(m)))\n",
    "print(days)"
   ]
  },
  {
   "cell_type": "markdown",
   "metadata": {},
   "source": [
    "You can also create a dictionary by hand"
   ]
  },
  {
   "cell_type": "code",
   "execution_count": 144,
   "metadata": {},
   "outputs": [
    {
     "name": "stdout",
     "output_type": "stream",
     "text": [
      "{'a': 1, 'b': (1, 2, 3), 'c': ['one', 'two'], 'd': 'example'}\n"
     ]
    }
   ],
   "source": [
    "dict1 = { 'a' : 1, 'b' : (1,2,3), 'c' : ['one','two'], 'd' : 'example', }\n",
    "print(dict1)"
   ]
  },
  {
   "cell_type": "code",
   "execution_count": 145,
   "metadata": {},
   "outputs": [
    {
     "name": "stdout",
     "output_type": "stream",
     "text": [
      "{'rio': {'name': 'john', 'age': 23, 'id': 123456}, 'nairobi': {'name': 'susan', 'id': 123123, 'age': 21}, 'tokyo': {'name': 'maria', 'id': 123651, 'age': 24}}\n"
     ]
    }
   ],
   "source": [
    "students = { 'rio': {'name':'john', 'age':23, 'id':123456}, 'nairobi':{'name':'susan', 'id':123123, 'age':21},  'tokyo':{'name':'maria', 'id':123651, 'age':24}, }\n",
    "print(students)"
   ]
  },
  {
   "cell_type": "markdown",
   "metadata": {},
   "source": [
    "you can add a new value for a new key"
   ]
  },
  {
   "cell_type": "code",
   "execution_count": 146,
   "metadata": {},
   "outputs": [
    {
     "name": "stdout",
     "output_type": "stream",
     "text": [
      "{'rio': {'name': 'john', 'age': 23, 'id': 123456}, 'nairobi': {'name': 'susan', 'id': 123123, 'age': 21}, 'tokyo': {'name': 'maria', 'id': 123651, 'age': 24}, 'oslo': {'name': '', 'age': 30, 'id': 111111}}\n"
     ]
    }
   ],
   "source": [
    "students['oslo'] = {'name':'', 'age':30, 'id':111111} \n",
    "print(students)"
   ]
  },
  {
   "cell_type": "markdown",
   "metadata": {},
   "source": [
    "If the key already is used, its value will be updated. This is similar to modifying elements of a list"
   ]
  },
  {
   "cell_type": "code",
   "execution_count": 147,
   "metadata": {},
   "outputs": [
    {
     "name": "stdout",
     "output_type": "stream",
     "text": [
      "{'rio': {'name': 'john', 'age': 23, 'id': 123456}, 'nairobi': {'name': 'susan', 'id': 123123, 'age': 21}, 'tokyo': {'name': 'maria', 'id': 123651, 'age': 24}, 'oslo': {'name': 'sergey', 'age': 22}}\n"
     ]
    }
   ],
   "source": [
    "students['oslo'] = {'name':'sergey', 'age':22} \n",
    "print(students)"
   ]
  },
  {
   "cell_type": "markdown",
   "metadata": {},
   "source": [
    "You can check if the dictionary contains a key"
   ]
  },
  {
   "cell_type": "code",
   "execution_count": 148,
   "metadata": {},
   "outputs": [
    {
     "name": "stdout",
     "output_type": "stream",
     "text": [
      "name (press return to end): \n"
     ]
    }
   ],
   "source": [
    "while True:\n",
    "    name = input(\"name (press return to end): \")  \n",
    "    if(name==''): break\n",
    "    if name not in students:\n",
    "        print(\"{0} not in the list. sorry.\".format(name))\n",
    "    else: \n",
    "        print(\"name: {0}\\t age: {1}\\t id: {2}\".format(students[name]['name'], students[name]['age'], students[name]['id']))\n",
    "    "
   ]
  },
  {
   "cell_type": "markdown",
   "metadata": {},
   "source": [
    "This if-else structure is very common with dictionaries. so in pythion there is a dedicated method\n",
    "```python\n",
    "value = some_dict.get(key, default_value)\n",
    "```"
   ]
  },
  {
   "cell_type": "code",
   "execution_count": 149,
   "metadata": {},
   "outputs": [
    {
     "name": "stdout",
     "output_type": "stream",
     "text": [
      "name (press return to end): \n"
     ]
    }
   ],
   "source": [
    "while True:\n",
    "    name = input(\"name (press return to end): \")  \n",
    "    if(name==''): break\n",
    "    val = students.get(name, \"not found\")\n",
    "    print(val)"
   ]
  },
  {
   "cell_type": "markdown",
   "metadata": {},
   "source": [
    "### Keys and values\n",
    "you can also obtain a list of all keys and values in a dictionary"
   ]
  },
  {
   "cell_type": "code",
   "execution_count": 150,
   "metadata": {},
   "outputs": [
    {
     "name": "stdout",
     "output_type": "stream",
     "text": [
      "dict_keys(['rio', 'nairobi', 'tokyo', 'oslo'])\n",
      "['rio', 'nairobi', 'tokyo', 'oslo']\n"
     ]
    }
   ],
   "source": [
    "type(students.keys())\n",
    "print(students.keys())\n",
    "print(list(students.keys()))"
   ]
  },
  {
   "cell_type": "code",
   "execution_count": 151,
   "metadata": {},
   "outputs": [
    {
     "name": "stdout",
     "output_type": "stream",
     "text": [
      "[{'name': 'john', 'age': 23, 'id': 123456}, {'name': 'susan', 'id': 123123, 'age': 21}, {'name': 'maria', 'id': 123651, 'age': 24}, {'name': 'sergey', 'age': 22}]\n"
     ]
    }
   ],
   "source": [
    "print( list( students.values()))"
   ]
  },
  {
   "cell_type": "markdown",
   "metadata": {},
   "source": [
    "# Using a list for plotting\n",
    "\n",
    "## motion of a body under gravity\n",
    "We want to simulate the motion of a body under gravity. This is one of the first exercises in __Laboratorio di Calcolo__. This time we also want to quickly plot the trajectory to check our equations."
   ]
  },
  {
   "cell_type": "code",
   "execution_count": 152,
   "metadata": {},
   "outputs": [
    {
     "name": "stdout",
     "output_type": "stream",
     "text": [
      "v0_x: 7.071 m/s \t v0_y: 7.071 m/s\n"
     ]
    },
    {
     "data": {
      "application/javascript": [
       "/* Put everything inside the global mpl namespace */\n",
       "window.mpl = {};\n",
       "\n",
       "\n",
       "mpl.get_websocket_type = function() {\n",
       "    if (typeof(WebSocket) !== 'undefined') {\n",
       "        return WebSocket;\n",
       "    } else if (typeof(MozWebSocket) !== 'undefined') {\n",
       "        return MozWebSocket;\n",
       "    } else {\n",
       "        alert('Your browser does not have WebSocket support.' +\n",
       "              'Please try Chrome, Safari or Firefox ≥ 6. ' +\n",
       "              'Firefox 4 and 5 are also supported but you ' +\n",
       "              'have to enable WebSockets in about:config.');\n",
       "    };\n",
       "}\n",
       "\n",
       "mpl.figure = function(figure_id, websocket, ondownload, parent_element) {\n",
       "    this.id = figure_id;\n",
       "\n",
       "    this.ws = websocket;\n",
       "\n",
       "    this.supports_binary = (this.ws.binaryType != undefined);\n",
       "\n",
       "    if (!this.supports_binary) {\n",
       "        var warnings = document.getElementById(\"mpl-warnings\");\n",
       "        if (warnings) {\n",
       "            warnings.style.display = 'block';\n",
       "            warnings.textContent = (\n",
       "                \"This browser does not support binary websocket messages. \" +\n",
       "                    \"Performance may be slow.\");\n",
       "        }\n",
       "    }\n",
       "\n",
       "    this.imageObj = new Image();\n",
       "\n",
       "    this.context = undefined;\n",
       "    this.message = undefined;\n",
       "    this.canvas = undefined;\n",
       "    this.rubberband_canvas = undefined;\n",
       "    this.rubberband_context = undefined;\n",
       "    this.format_dropdown = undefined;\n",
       "\n",
       "    this.image_mode = 'full';\n",
       "\n",
       "    this.root = $('<div/>');\n",
       "    this._root_extra_style(this.root)\n",
       "    this.root.attr('style', 'display: inline-block');\n",
       "\n",
       "    $(parent_element).append(this.root);\n",
       "\n",
       "    this._init_header(this);\n",
       "    this._init_canvas(this);\n",
       "    this._init_toolbar(this);\n",
       "\n",
       "    var fig = this;\n",
       "\n",
       "    this.waiting = false;\n",
       "\n",
       "    this.ws.onopen =  function () {\n",
       "            fig.send_message(\"supports_binary\", {value: fig.supports_binary});\n",
       "            fig.send_message(\"send_image_mode\", {});\n",
       "            if (mpl.ratio != 1) {\n",
       "                fig.send_message(\"set_dpi_ratio\", {'dpi_ratio': mpl.ratio});\n",
       "            }\n",
       "            fig.send_message(\"refresh\", {});\n",
       "        }\n",
       "\n",
       "    this.imageObj.onload = function() {\n",
       "            if (fig.image_mode == 'full') {\n",
       "                // Full images could contain transparency (where diff images\n",
       "                // almost always do), so we need to clear the canvas so that\n",
       "                // there is no ghosting.\n",
       "                fig.context.clearRect(0, 0, fig.canvas.width, fig.canvas.height);\n",
       "            }\n",
       "            fig.context.drawImage(fig.imageObj, 0, 0);\n",
       "        };\n",
       "\n",
       "    this.imageObj.onunload = function() {\n",
       "        fig.ws.close();\n",
       "    }\n",
       "\n",
       "    this.ws.onmessage = this._make_on_message_function(this);\n",
       "\n",
       "    this.ondownload = ondownload;\n",
       "}\n",
       "\n",
       "mpl.figure.prototype._init_header = function() {\n",
       "    var titlebar = $(\n",
       "        '<div class=\"ui-dialog-titlebar ui-widget-header ui-corner-all ' +\n",
       "        'ui-helper-clearfix\"/>');\n",
       "    var titletext = $(\n",
       "        '<div class=\"ui-dialog-title\" style=\"width: 100%; ' +\n",
       "        'text-align: center; padding: 3px;\"/>');\n",
       "    titlebar.append(titletext)\n",
       "    this.root.append(titlebar);\n",
       "    this.header = titletext[0];\n",
       "}\n",
       "\n",
       "\n",
       "\n",
       "mpl.figure.prototype._canvas_extra_style = function(canvas_div) {\n",
       "\n",
       "}\n",
       "\n",
       "\n",
       "mpl.figure.prototype._root_extra_style = function(canvas_div) {\n",
       "\n",
       "}\n",
       "\n",
       "mpl.figure.prototype._init_canvas = function() {\n",
       "    var fig = this;\n",
       "\n",
       "    var canvas_div = $('<div/>');\n",
       "\n",
       "    canvas_div.attr('style', 'position: relative; clear: both; outline: 0');\n",
       "\n",
       "    function canvas_keyboard_event(event) {\n",
       "        return fig.key_event(event, event['data']);\n",
       "    }\n",
       "\n",
       "    canvas_div.keydown('key_press', canvas_keyboard_event);\n",
       "    canvas_div.keyup('key_release', canvas_keyboard_event);\n",
       "    this.canvas_div = canvas_div\n",
       "    this._canvas_extra_style(canvas_div)\n",
       "    this.root.append(canvas_div);\n",
       "\n",
       "    var canvas = $('<canvas/>');\n",
       "    canvas.addClass('mpl-canvas');\n",
       "    canvas.attr('style', \"left: 0; top: 0; z-index: 0; outline: 0\")\n",
       "\n",
       "    this.canvas = canvas[0];\n",
       "    this.context = canvas[0].getContext(\"2d\");\n",
       "\n",
       "    var backingStore = this.context.backingStorePixelRatio ||\n",
       "\tthis.context.webkitBackingStorePixelRatio ||\n",
       "\tthis.context.mozBackingStorePixelRatio ||\n",
       "\tthis.context.msBackingStorePixelRatio ||\n",
       "\tthis.context.oBackingStorePixelRatio ||\n",
       "\tthis.context.backingStorePixelRatio || 1;\n",
       "\n",
       "    mpl.ratio = (window.devicePixelRatio || 1) / backingStore;\n",
       "\n",
       "    var rubberband = $('<canvas/>');\n",
       "    rubberband.attr('style', \"position: absolute; left: 0; top: 0; z-index: 1;\")\n",
       "\n",
       "    var pass_mouse_events = true;\n",
       "\n",
       "    canvas_div.resizable({\n",
       "        start: function(event, ui) {\n",
       "            pass_mouse_events = false;\n",
       "        },\n",
       "        resize: function(event, ui) {\n",
       "            fig.request_resize(ui.size.width, ui.size.height);\n",
       "        },\n",
       "        stop: function(event, ui) {\n",
       "            pass_mouse_events = true;\n",
       "            fig.request_resize(ui.size.width, ui.size.height);\n",
       "        },\n",
       "    });\n",
       "\n",
       "    function mouse_event_fn(event) {\n",
       "        if (pass_mouse_events)\n",
       "            return fig.mouse_event(event, event['data']);\n",
       "    }\n",
       "\n",
       "    rubberband.mousedown('button_press', mouse_event_fn);\n",
       "    rubberband.mouseup('button_release', mouse_event_fn);\n",
       "    // Throttle sequential mouse events to 1 every 20ms.\n",
       "    rubberband.mousemove('motion_notify', mouse_event_fn);\n",
       "\n",
       "    rubberband.mouseenter('figure_enter', mouse_event_fn);\n",
       "    rubberband.mouseleave('figure_leave', mouse_event_fn);\n",
       "\n",
       "    canvas_div.on(\"wheel\", function (event) {\n",
       "        event = event.originalEvent;\n",
       "        event['data'] = 'scroll'\n",
       "        if (event.deltaY < 0) {\n",
       "            event.step = 1;\n",
       "        } else {\n",
       "            event.step = -1;\n",
       "        }\n",
       "        mouse_event_fn(event);\n",
       "    });\n",
       "\n",
       "    canvas_div.append(canvas);\n",
       "    canvas_div.append(rubberband);\n",
       "\n",
       "    this.rubberband = rubberband;\n",
       "    this.rubberband_canvas = rubberband[0];\n",
       "    this.rubberband_context = rubberband[0].getContext(\"2d\");\n",
       "    this.rubberband_context.strokeStyle = \"#000000\";\n",
       "\n",
       "    this._resize_canvas = function(width, height) {\n",
       "        // Keep the size of the canvas, canvas container, and rubber band\n",
       "        // canvas in synch.\n",
       "        canvas_div.css('width', width)\n",
       "        canvas_div.css('height', height)\n",
       "\n",
       "        canvas.attr('width', width * mpl.ratio);\n",
       "        canvas.attr('height', height * mpl.ratio);\n",
       "        canvas.attr('style', 'width: ' + width + 'px; height: ' + height + 'px;');\n",
       "\n",
       "        rubberband.attr('width', width);\n",
       "        rubberband.attr('height', height);\n",
       "    }\n",
       "\n",
       "    // Set the figure to an initial 600x600px, this will subsequently be updated\n",
       "    // upon first draw.\n",
       "    this._resize_canvas(600, 600);\n",
       "\n",
       "    // Disable right mouse context menu.\n",
       "    $(this.rubberband_canvas).bind(\"contextmenu\",function(e){\n",
       "        return false;\n",
       "    });\n",
       "\n",
       "    function set_focus () {\n",
       "        canvas.focus();\n",
       "        canvas_div.focus();\n",
       "    }\n",
       "\n",
       "    window.setTimeout(set_focus, 100);\n",
       "}\n",
       "\n",
       "mpl.figure.prototype._init_toolbar = function() {\n",
       "    var fig = this;\n",
       "\n",
       "    var nav_element = $('<div/>')\n",
       "    nav_element.attr('style', 'width: 100%');\n",
       "    this.root.append(nav_element);\n",
       "\n",
       "    // Define a callback function for later on.\n",
       "    function toolbar_event(event) {\n",
       "        return fig.toolbar_button_onclick(event['data']);\n",
       "    }\n",
       "    function toolbar_mouse_event(event) {\n",
       "        return fig.toolbar_button_onmouseover(event['data']);\n",
       "    }\n",
       "\n",
       "    for(var toolbar_ind in mpl.toolbar_items) {\n",
       "        var name = mpl.toolbar_items[toolbar_ind][0];\n",
       "        var tooltip = mpl.toolbar_items[toolbar_ind][1];\n",
       "        var image = mpl.toolbar_items[toolbar_ind][2];\n",
       "        var method_name = mpl.toolbar_items[toolbar_ind][3];\n",
       "\n",
       "        if (!name) {\n",
       "            // put a spacer in here.\n",
       "            continue;\n",
       "        }\n",
       "        var button = $('<button/>');\n",
       "        button.addClass('ui-button ui-widget ui-state-default ui-corner-all ' +\n",
       "                        'ui-button-icon-only');\n",
       "        button.attr('role', 'button');\n",
       "        button.attr('aria-disabled', 'false');\n",
       "        button.click(method_name, toolbar_event);\n",
       "        button.mouseover(tooltip, toolbar_mouse_event);\n",
       "\n",
       "        var icon_img = $('<span/>');\n",
       "        icon_img.addClass('ui-button-icon-primary ui-icon');\n",
       "        icon_img.addClass(image);\n",
       "        icon_img.addClass('ui-corner-all');\n",
       "\n",
       "        var tooltip_span = $('<span/>');\n",
       "        tooltip_span.addClass('ui-button-text');\n",
       "        tooltip_span.html(tooltip);\n",
       "\n",
       "        button.append(icon_img);\n",
       "        button.append(tooltip_span);\n",
       "\n",
       "        nav_element.append(button);\n",
       "    }\n",
       "\n",
       "    var fmt_picker_span = $('<span/>');\n",
       "\n",
       "    var fmt_picker = $('<select/>');\n",
       "    fmt_picker.addClass('mpl-toolbar-option ui-widget ui-widget-content');\n",
       "    fmt_picker_span.append(fmt_picker);\n",
       "    nav_element.append(fmt_picker_span);\n",
       "    this.format_dropdown = fmt_picker[0];\n",
       "\n",
       "    for (var ind in mpl.extensions) {\n",
       "        var fmt = mpl.extensions[ind];\n",
       "        var option = $(\n",
       "            '<option/>', {selected: fmt === mpl.default_extension}).html(fmt);\n",
       "        fmt_picker.append(option)\n",
       "    }\n",
       "\n",
       "    // Add hover states to the ui-buttons\n",
       "    $( \".ui-button\" ).hover(\n",
       "        function() { $(this).addClass(\"ui-state-hover\");},\n",
       "        function() { $(this).removeClass(\"ui-state-hover\");}\n",
       "    );\n",
       "\n",
       "    var status_bar = $('<span class=\"mpl-message\"/>');\n",
       "    nav_element.append(status_bar);\n",
       "    this.message = status_bar[0];\n",
       "}\n",
       "\n",
       "mpl.figure.prototype.request_resize = function(x_pixels, y_pixels) {\n",
       "    // Request matplotlib to resize the figure. Matplotlib will then trigger a resize in the client,\n",
       "    // which will in turn request a refresh of the image.\n",
       "    this.send_message('resize', {'width': x_pixels, 'height': y_pixels});\n",
       "}\n",
       "\n",
       "mpl.figure.prototype.send_message = function(type, properties) {\n",
       "    properties['type'] = type;\n",
       "    properties['figure_id'] = this.id;\n",
       "    this.ws.send(JSON.stringify(properties));\n",
       "}\n",
       "\n",
       "mpl.figure.prototype.send_draw_message = function() {\n",
       "    if (!this.waiting) {\n",
       "        this.waiting = true;\n",
       "        this.ws.send(JSON.stringify({type: \"draw\", figure_id: this.id}));\n",
       "    }\n",
       "}\n",
       "\n",
       "\n",
       "mpl.figure.prototype.handle_save = function(fig, msg) {\n",
       "    var format_dropdown = fig.format_dropdown;\n",
       "    var format = format_dropdown.options[format_dropdown.selectedIndex].value;\n",
       "    fig.ondownload(fig, format);\n",
       "}\n",
       "\n",
       "\n",
       "mpl.figure.prototype.handle_resize = function(fig, msg) {\n",
       "    var size = msg['size'];\n",
       "    if (size[0] != fig.canvas.width || size[1] != fig.canvas.height) {\n",
       "        fig._resize_canvas(size[0], size[1]);\n",
       "        fig.send_message(\"refresh\", {});\n",
       "    };\n",
       "}\n",
       "\n",
       "mpl.figure.prototype.handle_rubberband = function(fig, msg) {\n",
       "    var x0 = msg['x0'] / mpl.ratio;\n",
       "    var y0 = (fig.canvas.height - msg['y0']) / mpl.ratio;\n",
       "    var x1 = msg['x1'] / mpl.ratio;\n",
       "    var y1 = (fig.canvas.height - msg['y1']) / mpl.ratio;\n",
       "    x0 = Math.floor(x0) + 0.5;\n",
       "    y0 = Math.floor(y0) + 0.5;\n",
       "    x1 = Math.floor(x1) + 0.5;\n",
       "    y1 = Math.floor(y1) + 0.5;\n",
       "    var min_x = Math.min(x0, x1);\n",
       "    var min_y = Math.min(y0, y1);\n",
       "    var width = Math.abs(x1 - x0);\n",
       "    var height = Math.abs(y1 - y0);\n",
       "\n",
       "    fig.rubberband_context.clearRect(\n",
       "        0, 0, fig.canvas.width, fig.canvas.height);\n",
       "\n",
       "    fig.rubberband_context.strokeRect(min_x, min_y, width, height);\n",
       "}\n",
       "\n",
       "mpl.figure.prototype.handle_figure_label = function(fig, msg) {\n",
       "    // Updates the figure title.\n",
       "    fig.header.textContent = msg['label'];\n",
       "}\n",
       "\n",
       "mpl.figure.prototype.handle_cursor = function(fig, msg) {\n",
       "    var cursor = msg['cursor'];\n",
       "    switch(cursor)\n",
       "    {\n",
       "    case 0:\n",
       "        cursor = 'pointer';\n",
       "        break;\n",
       "    case 1:\n",
       "        cursor = 'default';\n",
       "        break;\n",
       "    case 2:\n",
       "        cursor = 'crosshair';\n",
       "        break;\n",
       "    case 3:\n",
       "        cursor = 'move';\n",
       "        break;\n",
       "    }\n",
       "    fig.rubberband_canvas.style.cursor = cursor;\n",
       "}\n",
       "\n",
       "mpl.figure.prototype.handle_message = function(fig, msg) {\n",
       "    fig.message.textContent = msg['message'];\n",
       "}\n",
       "\n",
       "mpl.figure.prototype.handle_draw = function(fig, msg) {\n",
       "    // Request the server to send over a new figure.\n",
       "    fig.send_draw_message();\n",
       "}\n",
       "\n",
       "mpl.figure.prototype.handle_image_mode = function(fig, msg) {\n",
       "    fig.image_mode = msg['mode'];\n",
       "}\n",
       "\n",
       "mpl.figure.prototype.updated_canvas_event = function() {\n",
       "    // Called whenever the canvas gets updated.\n",
       "    this.send_message(\"ack\", {});\n",
       "}\n",
       "\n",
       "// A function to construct a web socket function for onmessage handling.\n",
       "// Called in the figure constructor.\n",
       "mpl.figure.prototype._make_on_message_function = function(fig) {\n",
       "    return function socket_on_message(evt) {\n",
       "        if (evt.data instanceof Blob) {\n",
       "            /* FIXME: We get \"Resource interpreted as Image but\n",
       "             * transferred with MIME type text/plain:\" errors on\n",
       "             * Chrome.  But how to set the MIME type?  It doesn't seem\n",
       "             * to be part of the websocket stream */\n",
       "            evt.data.type = \"image/png\";\n",
       "\n",
       "            /* Free the memory for the previous frames */\n",
       "            if (fig.imageObj.src) {\n",
       "                (window.URL || window.webkitURL).revokeObjectURL(\n",
       "                    fig.imageObj.src);\n",
       "            }\n",
       "\n",
       "            fig.imageObj.src = (window.URL || window.webkitURL).createObjectURL(\n",
       "                evt.data);\n",
       "            fig.updated_canvas_event();\n",
       "            fig.waiting = false;\n",
       "            return;\n",
       "        }\n",
       "        else if (typeof evt.data === 'string' && evt.data.slice(0, 21) == \"data:image/png;base64\") {\n",
       "            fig.imageObj.src = evt.data;\n",
       "            fig.updated_canvas_event();\n",
       "            fig.waiting = false;\n",
       "            return;\n",
       "        }\n",
       "\n",
       "        var msg = JSON.parse(evt.data);\n",
       "        var msg_type = msg['type'];\n",
       "\n",
       "        // Call the  \"handle_{type}\" callback, which takes\n",
       "        // the figure and JSON message as its only arguments.\n",
       "        try {\n",
       "            var callback = fig[\"handle_\" + msg_type];\n",
       "        } catch (e) {\n",
       "            console.log(\"No handler for the '\" + msg_type + \"' message type: \", msg);\n",
       "            return;\n",
       "        }\n",
       "\n",
       "        if (callback) {\n",
       "            try {\n",
       "                // console.log(\"Handling '\" + msg_type + \"' message: \", msg);\n",
       "                callback(fig, msg);\n",
       "            } catch (e) {\n",
       "                console.log(\"Exception inside the 'handler_\" + msg_type + \"' callback:\", e, e.stack, msg);\n",
       "            }\n",
       "        }\n",
       "    };\n",
       "}\n",
       "\n",
       "// from http://stackoverflow.com/questions/1114465/getting-mouse-location-in-canvas\n",
       "mpl.findpos = function(e) {\n",
       "    //this section is from http://www.quirksmode.org/js/events_properties.html\n",
       "    var targ;\n",
       "    if (!e)\n",
       "        e = window.event;\n",
       "    if (e.target)\n",
       "        targ = e.target;\n",
       "    else if (e.srcElement)\n",
       "        targ = e.srcElement;\n",
       "    if (targ.nodeType == 3) // defeat Safari bug\n",
       "        targ = targ.parentNode;\n",
       "\n",
       "    // jQuery normalizes the pageX and pageY\n",
       "    // pageX,Y are the mouse positions relative to the document\n",
       "    // offset() returns the position of the element relative to the document\n",
       "    var x = e.pageX - $(targ).offset().left;\n",
       "    var y = e.pageY - $(targ).offset().top;\n",
       "\n",
       "    return {\"x\": x, \"y\": y};\n",
       "};\n",
       "\n",
       "/*\n",
       " * return a copy of an object with only non-object keys\n",
       " * we need this to avoid circular references\n",
       " * http://stackoverflow.com/a/24161582/3208463\n",
       " */\n",
       "function simpleKeys (original) {\n",
       "  return Object.keys(original).reduce(function (obj, key) {\n",
       "    if (typeof original[key] !== 'object')\n",
       "        obj[key] = original[key]\n",
       "    return obj;\n",
       "  }, {});\n",
       "}\n",
       "\n",
       "mpl.figure.prototype.mouse_event = function(event, name) {\n",
       "    var canvas_pos = mpl.findpos(event)\n",
       "\n",
       "    if (name === 'button_press')\n",
       "    {\n",
       "        this.canvas.focus();\n",
       "        this.canvas_div.focus();\n",
       "    }\n",
       "\n",
       "    var x = canvas_pos.x * mpl.ratio;\n",
       "    var y = canvas_pos.y * mpl.ratio;\n",
       "\n",
       "    this.send_message(name, {x: x, y: y, button: event.button,\n",
       "                             step: event.step,\n",
       "                             guiEvent: simpleKeys(event)});\n",
       "\n",
       "    /* This prevents the web browser from automatically changing to\n",
       "     * the text insertion cursor when the button is pressed.  We want\n",
       "     * to control all of the cursor setting manually through the\n",
       "     * 'cursor' event from matplotlib */\n",
       "    event.preventDefault();\n",
       "    return false;\n",
       "}\n",
       "\n",
       "mpl.figure.prototype._key_event_extra = function(event, name) {\n",
       "    // Handle any extra behaviour associated with a key event\n",
       "}\n",
       "\n",
       "mpl.figure.prototype.key_event = function(event, name) {\n",
       "\n",
       "    // Prevent repeat events\n",
       "    if (name == 'key_press')\n",
       "    {\n",
       "        if (event.which === this._key)\n",
       "            return;\n",
       "        else\n",
       "            this._key = event.which;\n",
       "    }\n",
       "    if (name == 'key_release')\n",
       "        this._key = null;\n",
       "\n",
       "    var value = '';\n",
       "    if (event.ctrlKey && event.which != 17)\n",
       "        value += \"ctrl+\";\n",
       "    if (event.altKey && event.which != 18)\n",
       "        value += \"alt+\";\n",
       "    if (event.shiftKey && event.which != 16)\n",
       "        value += \"shift+\";\n",
       "\n",
       "    value += 'k';\n",
       "    value += event.which.toString();\n",
       "\n",
       "    this._key_event_extra(event, name);\n",
       "\n",
       "    this.send_message(name, {key: value,\n",
       "                             guiEvent: simpleKeys(event)});\n",
       "    return false;\n",
       "}\n",
       "\n",
       "mpl.figure.prototype.toolbar_button_onclick = function(name) {\n",
       "    if (name == 'download') {\n",
       "        this.handle_save(this, null);\n",
       "    } else {\n",
       "        this.send_message(\"toolbar_button\", {name: name});\n",
       "    }\n",
       "};\n",
       "\n",
       "mpl.figure.prototype.toolbar_button_onmouseover = function(tooltip) {\n",
       "    this.message.textContent = tooltip;\n",
       "};\n",
       "mpl.toolbar_items = [[\"Home\", \"Reset original view\", \"fa fa-home icon-home\", \"home\"], [\"Back\", \"Back to previous view\", \"fa fa-arrow-left icon-arrow-left\", \"back\"], [\"Forward\", \"Forward to next view\", \"fa fa-arrow-right icon-arrow-right\", \"forward\"], [\"\", \"\", \"\", \"\"], [\"Pan\", \"Pan axes with left mouse, zoom with right\", \"fa fa-arrows icon-move\", \"pan\"], [\"Zoom\", \"Zoom to rectangle\", \"fa fa-square-o icon-check-empty\", \"zoom\"], [\"\", \"\", \"\", \"\"], [\"Download\", \"Download plot\", \"fa fa-floppy-o icon-save\", \"download\"]];\n",
       "\n",
       "mpl.extensions = [\"eps\", \"pdf\", \"png\", \"ps\", \"raw\", \"svg\"];\n",
       "\n",
       "mpl.default_extension = \"png\";var comm_websocket_adapter = function(comm) {\n",
       "    // Create a \"websocket\"-like object which calls the given IPython comm\n",
       "    // object with the appropriate methods. Currently this is a non binary\n",
       "    // socket, so there is still some room for performance tuning.\n",
       "    var ws = {};\n",
       "\n",
       "    ws.close = function() {\n",
       "        comm.close()\n",
       "    };\n",
       "    ws.send = function(m) {\n",
       "        //console.log('sending', m);\n",
       "        comm.send(m);\n",
       "    };\n",
       "    // Register the callback with on_msg.\n",
       "    comm.on_msg(function(msg) {\n",
       "        //console.log('receiving', msg['content']['data'], msg);\n",
       "        // Pass the mpl event to the overridden (by mpl) onmessage function.\n",
       "        ws.onmessage(msg['content']['data'])\n",
       "    });\n",
       "    return ws;\n",
       "}\n",
       "\n",
       "mpl.mpl_figure_comm = function(comm, msg) {\n",
       "    // This is the function which gets called when the mpl process\n",
       "    // starts-up an IPython Comm through the \"matplotlib\" channel.\n",
       "\n",
       "    var id = msg.content.data.id;\n",
       "    // Get hold of the div created by the display call when the Comm\n",
       "    // socket was opened in Python.\n",
       "    var element = $(\"#\" + id);\n",
       "    var ws_proxy = comm_websocket_adapter(comm)\n",
       "\n",
       "    function ondownload(figure, format) {\n",
       "        window.open(figure.imageObj.src);\n",
       "    }\n",
       "\n",
       "    var fig = new mpl.figure(id, ws_proxy,\n",
       "                           ondownload,\n",
       "                           element.get(0));\n",
       "\n",
       "    // Call onopen now - mpl needs it, as it is assuming we've passed it a real\n",
       "    // web socket which is closed, not our websocket->open comm proxy.\n",
       "    ws_proxy.onopen();\n",
       "\n",
       "    fig.parent_element = element.get(0);\n",
       "    fig.cell_info = mpl.find_output_cell(\"<div id='\" + id + \"'></div>\");\n",
       "    if (!fig.cell_info) {\n",
       "        console.error(\"Failed to find cell for figure\", id, fig);\n",
       "        return;\n",
       "    }\n",
       "\n",
       "    var output_index = fig.cell_info[2]\n",
       "    var cell = fig.cell_info[0];\n",
       "\n",
       "};\n",
       "\n",
       "mpl.figure.prototype.handle_close = function(fig, msg) {\n",
       "    var width = fig.canvas.width/mpl.ratio\n",
       "    fig.root.unbind('remove')\n",
       "\n",
       "    // Update the output cell to use the data from the current canvas.\n",
       "    fig.push_to_output();\n",
       "    var dataURL = fig.canvas.toDataURL();\n",
       "    // Re-enable the keyboard manager in IPython - without this line, in FF,\n",
       "    // the notebook keyboard shortcuts fail.\n",
       "    IPython.keyboard_manager.enable()\n",
       "    $(fig.parent_element).html('<img src=\"' + dataURL + '\" width=\"' + width + '\">');\n",
       "    fig.close_ws(fig, msg);\n",
       "}\n",
       "\n",
       "mpl.figure.prototype.close_ws = function(fig, msg){\n",
       "    fig.send_message('closing', msg);\n",
       "    // fig.ws.close()\n",
       "}\n",
       "\n",
       "mpl.figure.prototype.push_to_output = function(remove_interactive) {\n",
       "    // Turn the data on the canvas into data in the output cell.\n",
       "    var width = this.canvas.width/mpl.ratio\n",
       "    var dataURL = this.canvas.toDataURL();\n",
       "    this.cell_info[1]['text/html'] = '<img src=\"' + dataURL + '\" width=\"' + width + '\">';\n",
       "}\n",
       "\n",
       "mpl.figure.prototype.updated_canvas_event = function() {\n",
       "    // Tell IPython that the notebook contents must change.\n",
       "    IPython.notebook.set_dirty(true);\n",
       "    this.send_message(\"ack\", {});\n",
       "    var fig = this;\n",
       "    // Wait a second, then push the new image to the DOM so\n",
       "    // that it is saved nicely (might be nice to debounce this).\n",
       "    setTimeout(function () { fig.push_to_output() }, 1000);\n",
       "}\n",
       "\n",
       "mpl.figure.prototype._init_toolbar = function() {\n",
       "    var fig = this;\n",
       "\n",
       "    var nav_element = $('<div/>')\n",
       "    nav_element.attr('style', 'width: 100%');\n",
       "    this.root.append(nav_element);\n",
       "\n",
       "    // Define a callback function for later on.\n",
       "    function toolbar_event(event) {\n",
       "        return fig.toolbar_button_onclick(event['data']);\n",
       "    }\n",
       "    function toolbar_mouse_event(event) {\n",
       "        return fig.toolbar_button_onmouseover(event['data']);\n",
       "    }\n",
       "\n",
       "    for(var toolbar_ind in mpl.toolbar_items){\n",
       "        var name = mpl.toolbar_items[toolbar_ind][0];\n",
       "        var tooltip = mpl.toolbar_items[toolbar_ind][1];\n",
       "        var image = mpl.toolbar_items[toolbar_ind][2];\n",
       "        var method_name = mpl.toolbar_items[toolbar_ind][3];\n",
       "\n",
       "        if (!name) { continue; };\n",
       "\n",
       "        var button = $('<button class=\"btn btn-default\" href=\"#\" title=\"' + name + '\"><i class=\"fa ' + image + ' fa-lg\"></i></button>');\n",
       "        button.click(method_name, toolbar_event);\n",
       "        button.mouseover(tooltip, toolbar_mouse_event);\n",
       "        nav_element.append(button);\n",
       "    }\n",
       "\n",
       "    // Add the status bar.\n",
       "    var status_bar = $('<span class=\"mpl-message\" style=\"text-align:right; float: right;\"/>');\n",
       "    nav_element.append(status_bar);\n",
       "    this.message = status_bar[0];\n",
       "\n",
       "    // Add the close button to the window.\n",
       "    var buttongrp = $('<div class=\"btn-group inline pull-right\"></div>');\n",
       "    var button = $('<button class=\"btn btn-mini btn-primary\" href=\"#\" title=\"Stop Interaction\"><i class=\"fa fa-power-off icon-remove icon-large\"></i></button>');\n",
       "    button.click(function (evt) { fig.handle_close(fig, {}); } );\n",
       "    button.mouseover('Stop Interaction', toolbar_mouse_event);\n",
       "    buttongrp.append(button);\n",
       "    var titlebar = this.root.find($('.ui-dialog-titlebar'));\n",
       "    titlebar.prepend(buttongrp);\n",
       "}\n",
       "\n",
       "mpl.figure.prototype._root_extra_style = function(el){\n",
       "    var fig = this\n",
       "    el.on(\"remove\", function(){\n",
       "\tfig.close_ws(fig, {});\n",
       "    });\n",
       "}\n",
       "\n",
       "mpl.figure.prototype._canvas_extra_style = function(el){\n",
       "    // this is important to make the div 'focusable\n",
       "    el.attr('tabindex', 0)\n",
       "    // reach out to IPython and tell the keyboard manager to turn it's self\n",
       "    // off when our div gets focus\n",
       "\n",
       "    // location in version 3\n",
       "    if (IPython.notebook.keyboard_manager) {\n",
       "        IPython.notebook.keyboard_manager.register_events(el);\n",
       "    }\n",
       "    else {\n",
       "        // location in version 2\n",
       "        IPython.keyboard_manager.register_events(el);\n",
       "    }\n",
       "\n",
       "}\n",
       "\n",
       "mpl.figure.prototype._key_event_extra = function(event, name) {\n",
       "    var manager = IPython.notebook.keyboard_manager;\n",
       "    if (!manager)\n",
       "        manager = IPython.keyboard_manager;\n",
       "\n",
       "    // Check for shift+enter\n",
       "    if (event.shiftKey && event.which == 13) {\n",
       "        this.canvas_div.blur();\n",
       "        event.shiftKey = false;\n",
       "        // Send a \"J\" for go to next cell\n",
       "        event.which = 74;\n",
       "        event.keyCode = 74;\n",
       "        manager.command_mode();\n",
       "        manager.handle_keydown(event);\n",
       "    }\n",
       "}\n",
       "\n",
       "mpl.figure.prototype.handle_save = function(fig, msg) {\n",
       "    fig.ondownload(fig, null);\n",
       "}\n",
       "\n",
       "\n",
       "mpl.find_output_cell = function(html_output) {\n",
       "    // Return the cell and output element which can be found *uniquely* in the notebook.\n",
       "    // Note - this is a bit hacky, but it is done because the \"notebook_saving.Notebook\"\n",
       "    // IPython event is triggered only after the cells have been serialised, which for\n",
       "    // our purposes (turning an active figure into a static one), is too late.\n",
       "    var cells = IPython.notebook.get_cells();\n",
       "    var ncells = cells.length;\n",
       "    for (var i=0; i<ncells; i++) {\n",
       "        var cell = cells[i];\n",
       "        if (cell.cell_type === 'code'){\n",
       "            for (var j=0; j<cell.output_area.outputs.length; j++) {\n",
       "                var data = cell.output_area.outputs[j];\n",
       "                if (data.data) {\n",
       "                    // IPython >= 3 moved mimebundle to data attribute of output\n",
       "                    data = data.data;\n",
       "                }\n",
       "                if (data['text/html'] == html_output) {\n",
       "                    return [cell, data, j];\n",
       "                }\n",
       "            }\n",
       "        }\n",
       "    }\n",
       "}\n",
       "\n",
       "// Register the function which deals with the matplotlib target/channel.\n",
       "// The kernel may be null if the page has been refreshed.\n",
       "if (IPython.notebook.kernel != null) {\n",
       "    IPython.notebook.kernel.comm_manager.register_target('matplotlib', mpl.mpl_figure_comm);\n",
       "}\n"
      ],
      "text/plain": [
       "<IPython.core.display.Javascript object>"
      ]
     },
     "metadata": {},
     "output_type": "display_data"
    },
    {
     "data": {
      "text/html": [
       "<img src=\"data:image/png;base64,iVBORw0KGgoAAAANSUhEUgAABQAAAAPACAYAAABq3NR5AAAAAXNSR0IArs4c6QAAQABJREFUeAHs3QmcVVX9APAfy8Cwyq4gi4IiqIAr7pj7kmbumeaeWlZa2WL9KyszrczKyrQ0lzQVlzKj3HNFEVFEEEEQWZV932YG/ve+AucyA7IN8+a97/l85jPvnHvfved8z2WG95uz1FuZpJAIECBAgAABAgQIECBAgAABAgQIEChIgfoF2SqNIkCAAAECBAgQIECAAAECBAgQIEAgJyAA6EEgQIAAAQIECBAgQIAAAQIECBAgUMACAoAF3LmaRoAAAQIECBAgQIAAAQIECBAgQEAA0DNAgAABAgQIECBAgAABAgQIECBAoIAFBAALuHM1jQABAgQIECBAgAABAgQIECBAgIAAoGeAAAECBAgQIECAAAECBAgQIECAQAELCAAWcOdqGgECBAgQIECAAAECBAgQIECAAAEBQM8AAQIECBAgQIAAAQIECBAgQIAAgQIWEAAs4M7VNAIECBAgQIAAAQIECBAgQIAAAQICgJ4BAgQIECBAgAABAgQIECBAgAABAgUsIABYwJ2raQQIECBAgAABAgQIECBAgAABAgQEAD0DBAgQIECAAAECBAgQIECAAAECBApYQACwgDtX0wgQIECAAAECBAgQIECAAAECBAgIAHoGCBAgQIAAAQIECBAgQIAAAQIECBSwgABgAXeuphEgQIAAAQIECBAgQIAAAQIECBAQAPQMECBAgAABAgQIECBAgAABAgQIEChgAQHAAu5cTSNAgAABAgQIECBAgAABAgQIECAgAOgZIECAAAECBAgQIECAAAECBAgQIFDAAgKABdy5mkaAAAECBAgQIECAAAECBAgQIEBAANAzQIAAAQIECBAgQIAAAQIECBAgQKCABQQAC7hzNY0AAQIECBAgQIAAAQIECBAgQICAAKBngAABAgQIECBAgAABAgQIECBAgEABCwgAFnDnahoBAgQIECBAgAABAgQIECBAgAABAUDPAAECBAgQIECAAAECBAgQIECAAIECFhAALODO1TQCBAgQIECAAAECBAgQIECAAAECAoCeAQIECBAgQIAAAQIECBAgQIAAAQIFLCAAWMCdq2kECBAgQIAAAQIECBAgQIAAAQIEBAA9AwQIECBAgAABAgQIECBAgAABAgQKWEAAsIA7V9MIECBAgAABAgQIECBAgAABAgQICAB6BggQIECAAAECBAgQIECAAAECBAgUsIAAYAF3rqYRIECAAAECBAgQIECAAAECBAgQEAD0DBAgQIAAAQIECBAgQIAAAQIECBAoYAEBwALuXE0jQIAAAQIECBAgQIAAAQIECBAgIADoGSBAgAABAgQIECBAgAABAgQIECBQwAICgAXcuZpGgAABAgQIECBAgAABAgQIECBAQADQM0CAAAECBAgQIECAAAECBAgQIECggAUEAAu4czWNAAECBAgQIECAAAECBAgQIECAgACgZ4AAAQIECBAgQIAAAQIECBAgQIBAAQsIABZw52oaAQIECBAgQIAAAQIECBAgQIAAAQFAzwABAgQIECBAgAABAgQIECBAgACBAhYQACzgztU0AgQIECBAgAABAgQIECBAgAABAgKAngECBAgQIECAAAECBAgQIECAAAECBSwgAFjAnatpBAgQIECAAAECBAgQIECAAAECBAQAPQMECBAgQIAAAQIECBAgQIAAAQIEClhAALCAO1fTCBAgQIAAAQIECBAgQIAAAQIECAgAegYIECBAgAABAgQIECBAgAABAgQIFLCAAGABd66mESBAgAABAgQIECBAgAABAgQIEBAA9AwQIECAAAECBAgQIECAAAECBAgQKGABAcAC7lxNI0CAAAECBAgQIECAAAECBAgQICAA6BkgQIAAAQIECBAgQIAAAQIECBAgUMACAoAF3LmaRoAAAQIECBAgQIAAAQIECBAgQEAA0DNAgAABAgQIECBAgAABAgQIECBAoIAFBAALuHM1jQABAgQIECBAgAABAgQIECBAgIAAoGeAAAECBAgQIECAAAECBAgQIECAQAELCAAWcOdqGgECBAgQIECAAAECBAgQIECAAAEBQM8AAQIECBAgQIAAAQIECBAgQIAAgQIWEAAs4M7VNAIECBAgQIAAAQIECBAgQIAAAQICgJ4BAgQIECBAgAABAgQIECBAgAABAgUsIABYwJ2raQQIECBAgAABAgQIECBAgAABAgQEAD0DBAgQIECAAAECBAgQIECAAAECBApYQACwgDtX0wgQIECAAAECBAgQIECAAAECBAgIAHoGCBAgQIAAAQIECBAgQIAAAQIECBSwgABgAXeuphEgQIAAAQIECBAgQIAAAQIECBAQAPQMECBAgAABAgQIECBAgAABAgQIEChgAQHAAu5cTSNAgAABAgQIECBAgAABAgQIECAgAOgZIECAAAECBAgQIECAAAECBAgQIFDAAgKABdy5mkaAAAECBAgQIECAAAECBAgQIEBAANAzQIAAAQIECBAgQIAAAQIECBAgQKCABQQAC7hzNY0AAQIECBAgQIAAAQIECBAgQICAAKBngAABAgQIECBAgAABAgQIECBAgEABCwgAFnDnahoBAgQIECBAgAABAgQIECBAgAABAUDPAAECBAgQIECAAAECBAgQIECAAIECFhAALODO1TQCBAgQIECAAAECBAgQIECAAAECAoCeAQIECBAgQIAAAQIECBAgQIAAAQIFLCAAWMCdq2kECBAgQIAAAQIECBAgQIAAAQIEBAA9AwQIECBAgAABAgQIECBAgAABAgQKWEAAsIA7V9MIECBAgAABAgQIECBAgAABAgQICAB6BggQIECAAAECBAgQIECAAAECBAgUsIAAYAF3rqYRIECAAAECBAgQIECAAAECBAgQEAD0DBAgQIAAAQIECBAgQIAAAQIECBAoYAEBwALuXE0jQIAAAQIECBAgQIAAAQIECBAgIADoGSBAgAABAgQIECBAgAABAgQIECBQwAICgAXcuZpGgAABAgQIECBAgAABAgQIECBAQADQM0CAAAECBAgQIECAAAECBAgQIECggAUEAAu4czWNAAECBAgQIECAAAECBAgQIECAgACgZ4AAAQIECBAgQIAAAQIECBAgQIBAAQsIABZw52oaAQIECBAgQIAAAQIECBAgQIAAAQFAzwABAgQIECBAgAABAgQIECBAgACBAhYQACzgztU0AgQIECBAgAABAgQIECBAgAABAgKAngECBAgQIECAAAECBAgQIECAAAECBSwgAFjAnatpBAgQIECAAAECBAgQIECAAAECBAQAPQMECBAgQIAAAQIECBAgQIAAAQIEClhAALCAO1fTCBAgQIAAAQIECBAgQIAAAQIECAgAegYIECBAgAABAgQIECBAgAABAgQIFLCAAGABd66mESBAgAABAgQIECBAgAABAgQIEBAA9AwQIECAAAECBAgQIECAAAECBAgQKGABAcAC7lxNI0CAAAECBAgQIECAAAECBAgQICAA6BkgQIAAAQIECBAgQIAAAQIECBAgUMACAoAF3LmaRoAAAQIECBAgQIAAAQIECBAgQEAA0DNAgAABAgQIECBAgAABAgQIECBAoIAFBAALuHM1jQABAgQIECBAgAABAgQIECBAgIAAoGeAAAECBAgQIECAAAECBAgQIECAQAELCAAWcOdqGgECBAgQIECAAAECBAgQIECAAAEBQM8AAQIECBAgQIAAAQIECBAgQIAAgQIWEAAs4M7VNAIECBAgQIAAAQIECBAgQIAAAQICgJ4BAgQIECBAgAABAgQIECBAgAABAgUsIABYwJ2raQQIECBAgAABAgQIECBAgAABAgQEAD0DBAgQIECAAAECBAgQIECAAAECBApYQACwgDtX0wgQIECAAAECBAgQIECAAAECBAgIAHoGCBAgQIAAAQIECBAgQIAAAQIECBSwgABgAXeuphEgQIAAAQIECBAgQIAAAQIECBAQAPQMECBAgAABAgQIECBAgAABAgQIEChggYYF3DZNy2OBpUuXxogRI3I1bN++fTRs6FHM4+5SNQIECBAgQIAAAQIECBCoowLl5eUxY8aMXO379OkTpaWldbQlqr0pAqIum6LnvRstkAb/+vfvv9Hv90YCBAgQIECAAAECBAgQIEBgwwSGDBkSe++994a9ydkFIWAKcEF0o0YQIECAAAECBAgQIECAAAECBAgQqF7ACMDqXZTWsEA67XdVSv8C0bFjx1VZ3wkQIECAAAECBAgQIECAAIHNJDBt2rTVM/AqfxbfTJd3mToiIABYRzqq0KpZec2/NPjXuXPnQmui9hAgQIAAAQIECBAgQIAAgbwSqPxZPK8qpjI1LmAKcI0TuwEBAgQIECBAgAABAgQIECBAgACB2hMQAKw9e3cmQIAAAQIECBAgQIAAAQIECBAgUOMCAoA1TuwGBAgQIECAAAECBAgQIECAAAECBGpPQACw9uzdmQABAgQIECBAgAABAgQIECBAgECNCwgA1jixGxAgQIAAAQIECBAgQIAAAQIECBCoPQEBwNqzd2cCBAgQIECAAAECBAgQIECAAAECNS4gAFjjxG5AgAABAgQIECBAgAABAgQIECBAoPYEBABrz96dCRAgQIAAAQIECBAgQIAAAQIECNS4gABgjRO7AQECBAgQIECAAAECBAgQIECAAIHaExAArD17dyZAgAABAgQIECBAgAABAgQIECBQ4wICgDVO7AYECBAgQIAAAQIECBAgQIAAAQIEak9AALD27N2ZAAECBAgQIECAAAECBAgQIECAQI0LCADWOLEbECBAgAABAgQIECBAgAABAgQIEKg9AQHA2rN3ZwIECBAgQIAAAQIECBAgQIAAAQI1LiAAWOPEbkCAAAECBAgQIECAAAECBAgQIECg9gQEAGvP3p0JECBAgAABAgQIECBAgAABAgQI1LiAAGCNE7sBAQIECBAgQIAAAQIECBAgQIAAgdoTEACsPXt3JkCAAAECBAgQIECAAAECBAgQIFDjAgKANU7sBgQIECBAgAABAgQIECBAgAABAgRqT0AAsPbs3ZkAAQIECBAgQIAAAQIECBAgQIBAjQsIANY4sRsQIECAAAECBAgQIECAAAECBAgQqD0BAcDas3dnAgQIECBAgAABAgQIECBAgAABAjUuIABY48RuQIAAAQIECBAgQIAAAQIECBAgQKD2BAQAa8/enQkQIECAAAECBAgQIECAAAECBAjUuIAAYI0TuwEBAgQIECBAgAABAgQIECBAgACB2hMQAKw9e3cmQIAAAQIECBAgQIAAAQIECBAgUOMCAoA1TuwGBAgQIECAAAECBAgQIECAAAECBGpPQACw9uzdmQABAgQIECBAgAABAgQIECBAgECNCzSs8Tu4AQECBAgQIECAQEEIVKxYGW9Pmx+Ll1dEx61KY+uWpdGoob8nF0TnagQBAgQIECBQ0AICgAXdvRpHgAABAgQIENg0gZkLl8Wz78yIZ96ZHs+PnRnzlpStvmC9ehHtmzeOjq2aRKckINhxq+R7q9Lkq0kuQJh+T4/Xr5+cKBEgQIAAAQIECNSagABgrdG7MQECBAgQIEAg/wTSUX7DJ8+N/4yeHv8ZMyPenDxvrZVcuTJi+oJlua/hk6o/rWES/NsmCQ52SoKDHZPgYBok3PZ/39N8Wt6qaUnUS6OJEgECBAgQIECAQI0ICADWCKuLEiBAgAABAgTqjsCsZJTfc2NnxH+SkX7PJUG/OYs/GuW3qa0oTwKKk+csyX2t7VpNShrkgoO5IGE6kjAZObgqSJiOKEyDhs0a+2/r2vyUEyBAgAABAgQ+TsD/pD5OyHECBAgQIECAQIEJrEiCcm9OmZcE/KYnU3vTUX5zIx3Nt76ptKR+LC1bsb6nf+x5S8oqYvyMRbmvtZ28VZOS1dOK0/UH0+nFq4KDaeAwHWVoPcK16SknQIAAAQIEil1AALDYnwDtJ0CAAAECBIpCYM6i5ZlRfrOS/PqmZo0axAE7tItP7NQh+WqfC8SlawFOnbs0ps1bElPnLU1eL4lpyVf6Oi37IPleVrEBUcWPqUx6v/Rr9AcL1npm+xaNV69FmE4v3ja3FuF/px6nQcL0eAPrEa7VzwECBAgQIECgcAUEAPOob4cOHRqDBg2KF154IUaNGhUzZsyIkpKS6NSpUxxwwAFxwQUXxIEHHrjJNb7qqqvihz/84Xpd55lnnolPfOIT63WukwgQIECAAIH8EUhH+b01NR3l998NPIZPmhtJ0XqnHTs0zwX7DkmCfntt16bK6LpWTRsla/c1ip07taz2mun90w1EcgHB/wUGc0HCNGD4v8Bhun7ghow8rPZGlQpnJNdLv4avZd3CdD3CdOfiVSMHM0HC/40qbG09wkqiXhIgQIAAAQKFIiAAmCc9OWDAgHj++eer1Gb58uUxduzY3Nftt98eZ599dvzxj3+MRo0aVTlXAQECBAgQIFDcAvOStfvStfzSHXvTtfxmLlz/UX7pOnz/HeXXPhf469y66SZhpjv/dkiCbenXbl1aVXutsooVuZGC0/43anBVYDANFK56vbnXI5ySXDv9iphTbZ3S6c25tQj/t/Zgbqrx/9YlzO10nIwqbG49wmrtFBIgQIAAAQL5KyAAmCd9M3Xq1FxN0tF+p556ahx00EHRtWvXqKioiMGDB8f1118fU6ZMiTvvvDPKysrinnvu2Sw1HzFixDqvs/3226/zuIMECBAgQIBA7Qmko+xGTZufW8svHek3bOKcDRrl16N9s9y03nSU397bt47GDRts0caUNKgfXdo0zX2t7cZLllckowjT6cXJNOP/fU+nGKdBvFzgMPm+KDlnc6V0bcPxM5P1CJOvtaV01+LDe28dXz50h+jWttnaTlNOgAABAgQIEMgbAQHAPOmKXr16xTXXXBMnn3xyNGiQ/c/3vvvuG5/73Ody04DHjBkTf/3rX+OSSy6JdNTgpqZdd911Uy/h/QQIECBAgMAWFEjXwXth7MzcKL9nk1F+6ZTX9U3p6LYDeqRr+aWj/DqsM/C2vtes6fOaJOsP9mjfPPdV3b1WJnOI5y8t/+8ahJWmF6cBw1VBwnQ9wuXJaMPNleYmIy0feG1yPPz6lDh1z87x5cN2zK03uLmu7zoECBAgQIAAgc0tIAC4uUU38nqPPvroOt/Zrl273CjA448/PnfeAw88sFkCgOu8qYMECBAgQIBArQukAa63py34b8AvGeX3WjLKr2IDFvPr3q5ZHJwE/NJRfv23bxOlyVTfQkr16tWLdIfg9Kt3x7WvR5huerLmGoQfbV6yNKYvWLpBoydTw7Qf7n11Ujw0bEqc0b9LXHrIDrkpz4Xkqy0ECBAgQIBAYQgIANahfjzkkENW13bcuHGrX3tBgAABAgQIFJbA/KVl8WIyyi+d1vufMdPjw/nrP8qvccP6sV+PtrmAXzrSzxTViHQ9wnQH4PSr3zrWI0w3JUl3Ml41cnDVrsb/DRwujdlr2Tk5HV14x+D3476hk+Ls/baLSw7uEW2aWa+5sP5Vag0BAgQIEKjbAgKAdaj/li376D//a04TrkPNUFUCBAgQIEBgDYF0lN87Hy747469o6fHa+/PifINGOXXrW3T1QG/fbu3LbhRfmtw1Ug2XY9w22SDj/Rrr7XcYWlZRS44eH8y6u+OwRMiXS+wckrztzw3Pu5++f04/8Dt48KDuudGJlY+x2sCBAgQIECAQG0ICADWhvpG3vPZZ59d/c7evXuvfr0pL4488sh44403Yu7cudGqVavYeeed4+ijj46LL744WrduvSmX9l4CBAgQIEBgHQILl5Xn1vJ7Nhnhl470Sze0WN/UKBnllwb6DvnfWn7bJ9N8pZoXSKdPp+sRXnls77ggCfD9/j/j4p5XJlZZXzDdlOTGp9+NO16aEBcN6B7nHrC9nYNrvnvcgQABAgQIEFiHQL3kL84r13HcoTwRWLFiRey3334xZMiQXI2GDh0ae+6550bV7qqrroof/vCH63xvGgy8/fbb44QTTljneWs7OHny5LUdypVPmzYt+vfvn3s9adKk6Ny58zrPd5AAAQIECNR1gfS/XGOnL8zt2PvM6Bkx9P3ZUVax/v8N69KmyepRfvt1bxfp5hhS7Quk04V/+/TYGDh08lpHbabTgb+QTAv+3H7djM6s/S5TAwIECBSdQPr5vEuXLrl2+/xddN2/usFGAK6myO8XN9xww+rg30knnbTRwb9VrezTp098+tOfzgXhOnXqFGVlZfHOO+/E3XffHY8//nhuRGC6I/E//vGPOOaYY1a9bb2/r/rhst5vcCIBAgQIEChAgUXJKL+Xxs1avYFHGixa39QomZK6T/c2ud1607X80s080g0vpPwSSKcM//Skvrl1/3795Nh4+I0pseaf19O1A38y6O344/Pj40uH7hCn790lGjcUwM2vnlQbAgQIECBQ2AJGANaB/k2n/h5++OFRXl4eHTp0iBEjRuS+b2zVV033Xdv7b7755rjkkktyh9PgYLrhSGlp6dpOr7Z8Qz6g+AtEtYQKCRAgQKAOCqSj/MbNWJQb5ZdO6x3y3uwq00PX1aw0mHRIr/bxiZ4dYv8d2kbTRv5Wuy6vfDw2NlnL8VdJIPCfI6attXppP3/lsB3ipD06R7r2oESAAAECBGpSwAjAmtStO9cWAMzzvho5cmQcdNBBMWfOnFwQ7rHHHosBAwbUeK0vvPDCuPXWW3P3+ctf/hJnnnnmBt3TFOAN4nIyAQIECNRhgcXLy2NwMsovDfg98870mDxn/Uf5lTSoF/23T0b5JQG/NPCXri+3IX9Eq8NsBV/1kVPnxQ1PjI0n3/5wrW1NN2+5/PAd41P9to0GyU7FEgECBAgQqAkBAcCaUK171xQAzOM+e++99+LAAw+MqVOnRrrr74MPPrjRa/JtaDNfffXV1Wv0ff7zn49bbrllQy+xzvP9AFonj4MECBAgkMcC6Si/92YuSoJ9M3Ij/V5JR/mVZ3eDXVf1O21VGp/o1SEJ+rVPRvm1sznEurAK4Ngbk+bG9Y+/E8+PnbnW1uzQoXl87YiecfQu20R9gcC1OjlAgAABAhsn4PP3xrkV2rvMK8nTHk2Dfum03/R7OhLgtttu22LBv5Qk3Q14VZoyZcqql74TIECAAIGiFSirWBF/ev69uPfVifH+rMXr7dAwCejsvV26ll/7ZJRfh9gxCfYY5bfefHX+xN26tIq7LtgnXhk/KwkEjokhE2ZXadO7yeYwX7x7WOzcsWV8/ciecWjynHhGqjApIECAAAECBDZBQABwE/Bq6q0zZ86MI444IsaPH5+7xY033hhnn312Td2u2uv6T2e1LAoJECBAoEgF0nXdvnr/G/HWlPnrJbBNy9LclN6Dk6m9ByRr+bUoLVmv9zmpcAX26d427rt433jh3ZnxiyQQODwZGbhmGjVtflxwx9BIg4ZXHLlT7tnxf7I1leQJECBAgACBjREQANwYtRp8z7x58+Koo46KUaNG5e5y7bXXxqWXXlqDd6z+0qvunx5NNwKRCBAgQIBAMQqsWLEybnvxvfjZY++sc5pvun7bXt1a53bsTdfy22nrFkZwFeMD8zFtToN5B+3YPg5Mpn4/9fb0uP6JMfF2EvRbM6XThs+69ZXYJ1kf8utJIDBdJ1IiQIAAAQIECGyKgADgpuht5vcuXrw4PvnJT8awYcNyV/7ud78b3/rWtzbzXdbvculOwKvSwQcfvOql7wQIECBAoGgEJs9ZHFcMHB4vj686ZTNF6NCi8X+n9e6UjPLbsV20NMqvaJ6NTW1oGgg8fOetc1N9//XWB3HDk2MinQa8ZkrXlzzt5sExIFkv8uvJGoH9kpGBEgECBAgQIEBgYwTqb8ybvGfzCyxfvjxOPPHEePHFF3MXv+yyy+Lqq6/e4BvdfvvtuREH6X8sr7rqqirvHzFiRLz77rtVyisXpBt+/OlPf8oVbbPNNrl6VT7uNQECBAgQKGSBdJOPgUMnxdG/er7a4F+6YcPAS/aLV75zWPzslH5xTJ+Ogn+F/EDUYNvSDT8+2bdjPHb5gLjh9H6R7gpcXXpuzIw44XcvxufvHFrtiMHq3qOMAAECBAgQIFBZwAjAyhq1+PqMM86Ixx9/PFeDQw89NC644IJ466231lqjRo0aRc+ePdd6fG0HXnvttbjwwgvjkEMOiWOOOSb69OkTbdu2jfLy8hg9enTcfffdq+uR7jycBgObNWu2tsspJ0CAAAECBSUwc+GyuPKhEfHEqA+rbdcFB24f3zhqpygtaVDtcYUENkYgnUJ+4u6d47i+neLB1ybHb54aG1PnLa1yqfS5TL+OS4KGlx/eM9JgtESAAAECBAgQWB8BAcD1UdoC5zz00EOr7/L0009H3759V+ere9GtW7eYMGFCdYc+tqyioiKefPLJ3NfaTk6Dgrfeemscf/zxaztFOQECBAgQKCiBx0Z+EN9Jgn+zFi2v0q5tWzWJn5/aN/bv0a7KMQUENpdASYP68Zn+XePEPbaNe4dMit8+827MWLCsyuUffXNaDBoxLT69+7Zx+WE9o+taRg5WeaMCAgQIECBAoGgFBACLrOuPPfbYXGBv8ODB8frrr8eHH34Ys2bNinS6U5s2baJfv35x9NFHx7nnnhstW7YsMh3NJUCAAIFiFJi/tCx++MioeHDY5Gqbf8qeneP7x+9smm+1OgprQqBxwwZxzv7bxWl7dYm7Xp4QN/1nXMxZXJa5VbI/TTw0bEo88sbUODU578uH7hCdkkC1RIAAAQIECBCoTqBeEvhJ/vsgEdiyApMnT44uXbrkbjpp0qTo3Lnzlq2AuxEgQIAAgUTgpXEz4xsD34wpc5dU8WjbrFFcc1KfOGqXbaocU0BgSwosXFYef37hvbjl+fGxYGl5tbdulIwe/Ow+XeOLh/RINqgprfYchQQIECBQnAI+fxdnv6/ZagHANUXkt4iAH0BbhNlNCBAgQGAtAkvLKuJn/34nbnvxvWrPOCLZofWnSfCvXfPG1R5XSKA2BOYlowD/9ML4uC0JBi5aXlFtFUpL6udGD14yoEe0ToLYEgECBAgQ8PnbM5AKCAB6DmpFwA+gWmF3UwIECBBIBN6cPDe+et8bMW7GoioezRs3jKs+tUucnKzBVq9evSrHFRDIB4FZyWY1Nz83Pu54aUIsK19RbZXSZ/n8ZNOadOOarZqUVHuOQgIECBAoDgGfv4ujnz+ulQKAHyfkeI0I+AFUI6wuSoAAAQLrECirWBG/SzZVuPHpd6MiXUBtjbRf97a5jT46t266xhFZAvkpMH3+0twzfc+QiVFWUfWZTmudBv8uGtA9zk3WFGyWBAUlAgQIECg+AZ+/i6/Pq2uxAGB1KspqXMAPoBondgMCBAgQqCTw7vSF8fX734jhk+dVKv3vy0YN68e3ju4V5yUBkvr1jfqrAqQg7wUmz1kcv00C2wNfm1xtcDttQLqm5Rc+0SPO2rdblJY0yPs2qSABAgQIbD4Bn783n2VdvpIAYF3uvTpcdz+A6nDnqToBAgTqkMCKZKTfHYMnxLX/Gl3tVMk+224VvzytX+y4dYs61CpVJVC9wISZi+LXT42Nv70xJda2zd/WLRvHlw7ZIU7fu2ukwW+JAAECBApfwOfvwu/j9WmhAOD6KDlnswv4AbTZSV2QAAECBNYQSHf2/cbA4clOv7PWOBLRIBnplwZBvnToDlGS7J4qESgkgbEfLogbnhwTg0Z8sNZmbduqSVx22I5xUrLeZUP/Btbq5AABAgQKQcDn70LoxU1vgwDgphu6wkYI+AG0EWjeQoAAAQLrJbAyGfr08OtT4gd/HxkLlpVXeU/39s3ihtN2i35dWlU5poBAIQmMnDovbnhiTDz59vS1Nmv7ds3i8sN3jOP6dsoFxtd6ogMECBAgUGcFfP6us123WSsuALhZOV1sfQX8AFpfKecRIECAwIYIpLujfvfht+LfI6sf+XTeAdvl1vuzBtqGqDq3rgu8PnFO/DIJBD4/duZam9Jz6+bxtSN6xlG7bGMH7LUqOUCAAIG6KeDzd93st81da1uBbW5R1yNAgAABAgRqReCJUR/GlQ+9GTMXLq9y/05blcYvTu0X++/QrsoxBQQKXWD3rq3jrgv2iZfHz4rrH38nXp0wp0qTx3y4MC75y7DYdduW8fUjdopP7NReILCKkgICBAgQIFB3BQQA627fqTkBAgQIECCQCCxYWhY/fnRU3D90crUe6RpnV31ql2hZWlLtcYUEikVg3+5t4/6L98uNBEwDgdXtiv3WlPlx3u2vxh5dW8UVR+4kaF4sD4d2EiBAgEDBCwgAFnwXayABAgQIEChcgXRE0xXJRh+T5yyp0sg2zRrFNSfuGkfv2rHKMQUEilWgXr16MaBn+zhox3a5tQHTQODoDxZU4Rg2cW589k+vxL7d2+QCgXtt16bKOQoIECBAgACBuiMgAFh3+kpNCRAgQIAAgf8JLC2ryE1l/NML70Wy50eVdHjvDvHTk/pG+xaNqxxTQIBA5Kb3HrHz1nFYrw4x6K1puc1Cxs1YVIXm5fGz45Q/DI6Dk6Dh14/sGX072zynCpICAgQIECBQBwQEAOtAJ6kiAQIECBAg8JHAW1PmxVfveyPGTl/4UeH/XjVv3DC+f/zOceqena1fVkVHAYGqAvXr18vtAHxMMlL2b8nu2b96akxMml11RO2zY2ZE+nVkEjT8WhII7LVNy6oXU0KAAAECBAjkrYAAYN52jYoRIECAAAEClQXKK1bETf8ZF79+amyUr6g67G+f7dvkNvro0qZp5bd5TYDAegg0SAKBJyeB80/t1ikGJutp3vj02Jg2b2mVdz6ebLbzxNsfxvF9O+WC7e2aG2VbBUkBAQIECBDIQwEBwDzsFFUiQIAAAQIEsgLjZiyMr90/PIZPmps9kOQaNawf3zxqpzj/gO0jHc0kESCw8QIlDerHZ/fpGunmOfcOmRi/fWZcsrP2sswF02n3jwyfmmwiMjfuOn+f6NpW0D0DJEOAAAECBPJQoH4e1kmVCBAgQIAAAQI5gRXJSL87XpoQn/zN89UG/3bp1DIe/fKBceFB3QX/PDMENqNAaUmDODcJqj//zUPiymN6ReumVXfRfn/W4jj5Dy/F29Pmb8Y7uxQBAgQIECBQEwICgDWh6poECBAgQIDAJgtMnbskzr5tSPzgkZGxtGxF5nrpdMWvHLpDPPzFA6Ln1i0yx2QIENh8Ak0aNYiLD+4RzyWBwK8d0TNaJOtsVk4zFiyL024eHEPem1252GsCBAgQIEAgzwQEAPOsQ1SHAAECBAgUu8DKZH5huhnBUb96Ll54d2YVju3bNYsHLtkv2Yhgp9z03yonKCBAYLMLtCgtia8ctmM89fWDo3fH7AYgC5aWx+dufSWeTNYHlAgQIECAAIH8FBAAzM9+USsCBAgQIFCUArMXLY9L7xkWlye7/KZBhTXTOft1i0FfOSh279p6zUPyBAhsAYEOLUvj3ov2jf7JpjuV07LyFXHxX16LB16bXLnYawIECBAgQCBPBAQA86QjVIMAAQIECBS7wFPJzqJH3vBcDBrxQRWKbZKgw10X9I8fnrBrpFMSJQIEak9gqyYlcef5/ePw3ltnKlGRrNl5xcDhcctz4zLlMgQIECBAgEDtCwgA1n4fqAEBAgQIEChqgYXLyuPbD74ZF9wxtMpuoynMibtvG49dPiAO2rF9UTtpPIF8Ekg3CfnDWXvEqXt2rlKtawaNjp/+6+1Ip/NLBAgQIECAQH4IZFfxzY86qQUBAgQIECBQJALpxgFfH/hGTJq9pEqL011Hf3Jinzi2T8cqxxQQIFD7Ag0b1I+fndI32jRvFDc/Oz5ToTQ/J5nSf03ybzg9TyJAgAABAgRqV0AAsHb93Z0AAQIECBSlwNKyirjhiTFxy/Pjk1FCVQkO7dUhrj2pT6TrjUkECOSvQL169eLKY3pH22aNIh35VzndP3RyzFlcFjeesXukIwYlAgQIECBAoPYE/Dmu9uzdmQABAgQIFKXAyKnz4oTfvhg3P1c1+NcsWd8vDfzdes5egn9F+XRodF0VuGhAj/h5MhqwQf16mSY8kewMfPZtQ2L+0rJMuQwBAgQIECCwZQUEALest7sRIECAAIGiFSivWBG/e+bd+PTvXox3PlxQxWHv7VrHvy4bEJ/p3zXSUUUSAQJ1S+DUvbok6wLuGY0bZj9ipFP9T7/55Zi+YGndapDaEiBAgACBAhLI/nYuoIZpCgECBAgQIJA/Au/NXBSn3Tw4fv7YO1FWkZ3z2yhZH+zKY3rFvRftF13bNs2fSqsJAQIbLHDEzlsnO3bvEy1KsysNvT1tfpz6h8ExcdbiDb6mNxAgQIAAAQKbLiAAuOmGrkCAAAECBAisRSDdBfSul9+PY3/9fAybOLfKWb07toxHvnxAXHxwjypTB6ucrIAAgToh0H/7NnFfEtBv36Jxpr7vJ8G/k//wUoyaOj9TLkOAAAECBAjUvIAAYM0buwMBAgQIEChKgQ/mLY1z/vxqfO9vb8WSZNOPyildJuzSQ3rE3y89IHpt07LyIa8JECgAgZ07tYwHL9k/uq0xqnfGgmVx+i2DI50WLBEgQIAAAQJbTkAAcMtZuxMBAgQIECgagb+/MSWOvOHZeG7MjCpt3i4JCAxMAgPfOKpXNFpjrbAqJysgQKDOCqRT+gdesl+kI30rpwVLy+Nzt74STyYbhEgECBAgQIDAlhEQANwyzu5CgAABAgSKQmDOouXxpXuGxWX3vpHs+llepc1n7ds1Bl12UOzZrXWVYwoIECg8gQ4tSuO+i/eNdFpw5bSsfEVc/JfXYuDQSZWLvSZAgAABAgRqSEAAsIZgXZYAAQIECBSbwDPvTI+jfvVcPPrmtCpN37pl47jj/P5x9af7RNNG2c0BqpysgACBghJoWVoSdyb//tMNQiqnihUr4xsPvBk3PzuucrHXBAgQIECAQA0ICADWAKpLEiBAgACBYhJYtKw8vvPwiDgvWe9verK+15rpU/06xWOXD4iDe7Zf85A8AQJFIlBa0iBuOnOPOG2vzlVa/NN/jY6fDno70k2DJAIECBAgQKBmBPwJvmZcXZUAAQIECBSFwNAJs+Nr9w+PibMXV2nvVk1KkhF/u8bxSQBQIkCAQMMG9eO6k/tG62aNklF/4zMgNz83PmYnSwj89KQ+kZ4nESBAgAABAptXQABw83q6GgECBAgQKAqBZeUV8asnx+am7iWz+KqkT+zUPvdBf+uWpVWOKSBAoHgF6tWrF1ce0zvaJkHAawaNzkAMfG1yzFlcFr/97O6RjhiUCBAgQIAAgc0n4M9rm8/SlQgQIECAQFEIvD1tfpzw2xfjpv+MizWDf02SD+0/OXHX+PO5e4fgX1E8DhpJYKMELhrQI35+St9oUL9e5v1Pvv1hnH3bkGQTobJMuQwBAgQIECCwaQICgJvm590ECBAgQKBoBNIF+9Og36d++0KM/mBBlXanO/v+K9nh98x9ukU6ykciQIDAugRO3atL3HzWntG4YfYjyZD3ZsfpN7+crCm6dF1vd4wAAQIECBDYAIHsb9sNeKNTCRAgQIAAgeIRWJEE/64YODyu+/foKKvIzvktaVAvvnV0r7j/4v1iu3bNigdFSwkQ2GSBw5Odge+6YJ9oUZpdmSgdaXzKTYPj/VmLNvkeLkCAAAECBAhECAB6CggQIECAAIF1CqQ7c/7o0VHx8OtTqpzXa5sW8fdLD4wvfKJHlal8VU5WQIAAgWoE+m/fJu67aL9o36Jx5mi6udDJSRBw5NR5mXIZAgQIECBAYMMFBAA33Mw7CBAgQIBAUQn89ul34/aXJmTanM7wveTgHvH3Lx0QO3dqmTkmQ4AAgQ0VSH+OPHjJ/tGtbdPMW2cuXBafSaYDvzJ+VqZchgABAgQIENgwAQHADfNyNgECBAgQKCqBv7z8flz/xJhMmxsmi/bfes5e8e1jeiVrd9mpM4MjQ4DARgt0TYJ/Ay/ZL3p3zP5RYcGy8tzGIE+M+nCjr+2NBAgQIECg2AUEAIv9CdB+AgQIECCwFoF/vjktvvf3tzJH05F/15/WLw7ttXWmXIYAAQKbQ6BDi9K47+J9I50WXDktK18Rl/zltbh/6KTKxV4TIECAAAEC6ykgALieUE4jQIAAAQLFJPDC2Jlx+X2vR7L8XyZddfwuccJu22bKZAgQILA5BVqWlsSd5/ePI5INQiqndCfybz7wZtz87LjKxV4TIECAAAEC6yEgALgeSE4hQIAAAQLFJDB80ty46K6hVXb7/cphO8Y5+29XTBTaSoBALQmUljSIm87cI07bq3OVGvz0X6PjmkFvJ3+gWOMvFFXOVECAAAECBAisEhAAXCXhOwECBAgQIBDvTl8Y5/55SCxeXpHR+Ny+3eKrh++YKZMhQIBATQo0bFA/rju5b27DoTXvc8tz4+MbyWjA8ooVax6SJ0CAAAECBKoREACsBkURAQIECBAoRoGpc5fE2be+EnMWl2Waf1zfjnHVp3aJeukCgBIBAgS2oED6cyfdcOi7x/auctcHXpucWxdwaVn2DxZVTlRAgAABAgQIhACgh4AAAQIECBCIOYuW53bZnDpvaUbjoB3bxS9P2y0aJDv/SgQIEKgtgc8P6B6/OLVflZ9FT749PfnDxZCYtyT7h4vaqqf7EiBAgACBfBUQAMzXnlEvAgQIECCwhQQWLSuPc29/NTf9t/It+3VpFX84a89o1NB/Fyq7eE2AQO0InLJn57g5+ZnUeI2fSUMmzI7Tbx4c0+dn/4BRO7V0VwIECBAgkJ8C/kefn/2iVgQIECBAYIsILC9fkZtCl278UTn1aN8s/nzu3tGsccPKxV4TIECgVgUOT3YG/suF+0SL0uzPptEfLIhT/jA43p+1qFbr5+YECBAgQCBfBQQA87Vn1IsAAQIECNSwQMWKlfG1+9+I58fOzNyp01alcdcF+0SbZo0y5TIECBDIB4G9t2sT91+8X7Rv0ThTnYmzF8fJNw2OkVPnZcplCBAgQIAAgbAGoIeAAAECBAgUo8DKlSvjqkdGxqNvTss0v3XTkrgzCf51atUkUy5DgACBfBLo3bFlPHjJ/tGtbdNMtWYuXBafufnleHn8rEy5DAECBAgQKHYBIwCL/QnQfgIECBAoSoFfPTk27nr5/UzbmzZqEH8+r3/s0KF5plyGAAEC+SjQNQn+PZAEAXdOgoGV04JkXdOzbxsSj4/8oHKx1wQIECBAoKgFBACLuvs1ngABAgSKUeCOlybEr58am2l6SYN6ccvn9ordko0/JAIECNQVgXQa8L0X7xv7bN8mU+VV65ve/+qkTLkMAQIECBAoVgEBwGLtee0mQIAAgaIU+PsbU+Kqf4zMtL1evYhfnb57HLhju0y5DAECBOqCQMvSkrjj/P5xZLJBSOWULHMa33zwzfjDs+MqF3tNgAABAgSKUkAAsCi7XaMJECBAoBgFnh0zI75+//BIlv/LpB+fsGt8sm/HTJkMAQIE6pJAaUmD+P2Ze8Tpe3WpUu1r/zU6rhn0dvKzb40fflXOVECAAAECBApXQACwcPtWywgQIECAwGqBYRPnxCV3vRbl6ZCYSulrR/SMs/btVqnESwIECNRNgYYN6se1J/eJSw7uUaUBtzw3Pq4Y+GaUV6yockwBAQIECBAoBgEBwGLoZW0kQIAAgaIWGPvhgjj/9ldjSVlFxuHc/beLLx+6Q6ZMhgABAnVZoF6ypsG3j+kV3z22d5VmPDhsclyc/CFk6Ro/C6ucqIAAAQIECBSggABgAXaqJhEgQIAAgVUCk+csjs/dOiTmLi5bVZT7fsJuneL7x+0c6YdliQABAoUm8PkB3eP6U/tFg/rZn3FPjZ6e/Ex8JeYtyf5MLLT2aw8BAgQIEFhTQABwTRF5AgQIECBQIAKzFi6Ls5Pg3wfzl2ZadHDP9vHzU/pF/TU+GGdOkiFAgEAdFzh5z85x81l7RuOG2Y88r06YE6ffPDimr/GzsY43V/UJECBAgMA6BbK/Ddd5qoMECBAgQIBAXRFYuKw8zkum/Y6fuShT5T26toqbztojGq3xgThzkgwBAgQKRODwZGfgv1y4T7QobZhp0egPFsTJf3gpJqzxMzJzkgwBAgQIECggAQHAAupMTSFAgAABAqnAsvKKuOjOofHm5HkZkJ5bN4/bzt07mjbKfhDOnCRDgACBAhPYe7s2cf/F+0WHFo0zLZs0e0mc8ofBMXJq9mdl5iQZAgQIECBQIAICgAXSkZpBgAABAgRSgYpkl9/L730jXho3KwOybasmcef5+0Srpo0y5TIECBAoBoHeHVvGg1/YP7q1bZpp7sxkqYTP3PxyvDw++zMzc5IMAQIECBAoAAEBwALoRE0gQIAAAQKpwMqVK+P//jYi/vXWBxmQts0axV0X9I9ttirNlMsQIECgmAS6tGkaD1yyf+ycBAMrpwXJkgln3zYkHhuZ/dlZ+RyvCRAgQIBAXRcQAKzrPaj+BAgQIEDgfwK/ePyd+OuQSRmP5o0bxu3n9Y/u7ZtnymUIECBQjALtk2nA9168b+yzfZtM85eXr4gv/OW1uP/V7M/QzEkyBAgQIECgDgsIANbhzlN1AgQIECCwSuDWF96L3z0zblU2971Rg/pxy9l7Rp/OW2XKZQgQIFDMAi1LS+KO8/vHkckGIZVTsoJCfPPBN+Om/4zLjaiufMxrAgQIECBQ1wUEAOt6D6o/AQIECBS9wEPDJsePHx2VcahfL+I3Z+wW+/dolymXIUCAAIGI0pIG8fsz94jT9+pSheO6f4+Oawa9HSvSiKBEgAABAgQKREAAsEA6UjMIECBAoDgFnh79YXzjgTerNP4nJ/aJo3ftWKVcAQECBAj8V6BhMkr62pP7xBc+0aMKyR+ffy/3s7WsYkWVYwoIECBAgEBdFBAArIu9ps4ECBAgQCARGDphdnzx7mG5nX8rg3zjqJ3ijP5dKxd5TYAAAQLVCNSrVy++dXSv+L9P9q5y9MFkdPUld70WS5ZXVDmmgAABAgQI1DUBAcC61mPqS4AAAQIEEoHRH8yP829/NZaWZUenXHDg9vHFakazQCNAgACBtQtceFD3uP7UftEgXT+hUnpq9PRkh+BXYt6SskqlXhIgQIAAgbonIABY9/pMjQkQIECgyAUmzV4cZ986JOYvLc9InLT7tvHdY3tHOqJFIkCAAIENEzh5z85xy+f2jMYNsx+RXp0wJ06/eXBMn790wy7obAIECBAgkEcC2d9ueVQxVSFAgAABAgSqCsxYsCzOuvWVmJ58r5wO69Uhrjulb9RfY/RK5XO8JkCAAIF1CxzWe+v4y4X7RMvShpkTR3+wIE666aWYMHNRplyGAAECBAjUFQEBwLrSU+pJgAABAkUvMH9pWZxz25B4f9bijMXe27WO3yW7WZYkC9pLBAgQILBpAntv1ybuu3i/6NCiceZCk+csiVP+8FK8NWVeplyGAAECBAjUBQGfFOpCL6kjAQIECBS9wNKyivj8HUNj1LT5GYte27SIP52zd5SWNMiUyxAgQIDAxgv07tgyHvzC/rFd26aZi8xcuDzOuOXlGDxuVqZchgABAgQI5LuAAGC+95D6ESBAgEDRC5RXrIgv//X1eOW92RmLrm2axp3n94+tmpRkymUIECBAYNMFuiQ/Ywdesn/s0qll5mILlpXHOX8eEo+N/CBTLkOAAAECBPJZQAAwn3tH3QgQIECg6AVWrlwZ33l4RDwx6sOMRbvmjeOuC/pHh5almXIZAgQIENh8Au2TacB/vWjf2Ld7m8xFl5eviEvvHhbDJs7JlMsQIECAAIF8FRAAzNeeUS8CBAgQIJAIXPvv0XH/0MkZixaNG8Yd5+8d3do2y5TLECBAgMDmF2hZWhK3n9c/jtpl68zFy1esjC8lQcA5i5ZnymUIECBAgEA+CggA5mOvqBMBAgQIEEgEbnluXNz87PiMReOG9ZM1//ZKpqRtlSmXIUCAAIGaE0jXWf3dZ/eI0/bqnLnJ1HlL46v3vxErkmCgRIAAAQIE8llAADCfe0fdCBAgQKBoBQYOnRTXDBqdaX+D+vXit8kH0H26t82UyxAgQIBAzQs0THZav+bEPrHP9tnpwP95Z0bc9Oy4mq+AOxAgQIAAgU0QEADcBDxvJUCAAAECNSGQrvf37YdGVLn0tSf1iSN2zk5Bq3KSAgIECBCoMYE0CHjjGbtHu+aNMve4/vF34uXxdgbOoMgQIECAQF4JCADmVXeoDAECBAgUu8AryQfIS+8ZFhVrTCf7zrG94tS9uhQ7j/YTIECg1gXSzZd+85ndo169j6qS/shOd2ufsWDZR4VeESBAgACBPBIQAMyjzlAVAgQIEChugZFT58WFdwyNdHfJyunig7vHRQN6VC7ymgABAgRqUWD/HdrFVw/vmalBGvy77N7Xq/wBJ3OSDAECBAgQqCUBAcBagndbAgQIECBQWeD9WYvinNtejQXLyisX5xac//bRvTJlMgQIECBQ+wJfOmSHGNCzfaYiL42bFb9+ckymTIYAAQIECOSDgABgPvSCOhAgQIBAUQtMn780zrr1lZi5MDt17Mhkvb90wfl6leeZFbWUxhMgQCB/BOonGzPdcFq/2CaZElw53fjMu/HsmBmVi7wmQIAAAQK1LiAAWOtdoAIECBAgUMwC85aUxdm3DYlJs5dkGNJdJn+TLDSfLjgvESBAgEB+CrRt3jjZnX33SHdpX5VWJusBfvW+N2LavOzP9VXHfSdAgAABArUh4FNFbai7JwECBAgQSASWLK9I1vx7NUZ/sCDjsXPHlvHHc/aK0pIGmXIZAgQIEMg/gb22axNrLtUwe9Hy+NI9r0dZRXZN1/yrvRoRIECAQLEICAAWS09rJwECBAjklUD6ofBLyW6/r06Yk6nXdm2bxh3n94+WpSWZchkCBAgQyF+BCw/aPo5Ilm2onF57f078/LF3Khd5TYAAAQIEak1AALDW6N2YAAECBIpVYMWKlfGtB9+Mp0ZPzxB0aNE47rpgn2iffJcIECBAoO4IpGu1/uKUftG5dZNMpW95bnw8PvKDTJkMAQIECBCoDQEBwNpQd08CBAgQKFqBlcniUNcMejseGjYlY9CytGHceUH/6NKmaaZchgABAgTqhsBWTUvi92fuEY3WWLv16wOHx8RZi+tGI9SSAAECBApWQACwYLtWwwgQIEAgHwVuenZc/OmF9zJVKy2pH7edu3f02qZlplyGAAECBOqWQN/OreJ7x/XOVHrB0vK4NFnyYVl5RaZchgABAgQIbEkBAcAtqe1eBAgQIFDUAvcOmRg/+3d2Pah058h0xEi6iLxEgAABAnVf4Kx9u8Xx/TplGjJiyrz4yT/fzpTJECBAgACBLSkgALgltd2LAAECBIpW4N9vTYvvPDyiSvt/cWrfOLRXduH4KicpIECAAIE6I5CuB/jTk/pE93bNMnW+c/D78Y/hUzNlMgQIECBAYEsJCABuKWn3IUCAAIGiFXhp3Mz4yl/fiGTvj0z63nE7x4m7d86UyRAgQIBA3Rdo3rhh/P6sPaJxw+zHrW8nG0CNm7Gw7jdQCwgQIECgzglkfyPVueqrMAECBAgQyG+BEZPnxefvGBrLK1ZkKnrpIT3iggO3z5TJECBAgEDhCKTruv7407tmGrRoeUVcevewWJJ8lwgQIECAwJYUEADcktruRYAAAQJFJTA+GeVx7p+HRPqBr3I6o3/XuOLInSoXeU2AAAECBShw2l5d4pQ9syO9R3+wIL7/97cKsLWaRIAAAQL5LCAAmM+9o24ECBAgUGcFPpi3ND5365CYtWh5pg3H7LpNXJ2MCEnXiJIIECBAoPAFfnzCrrHT1i0yDR342uS4f+ikTJkMAQIECBCoSQEBwDegSXQAAEAASURBVJrUdW0CBAgQKEqBuYuXJ8G/V2LK3CWZ9u/fo2386jO7Rbrzr0SAAAECxSHQpFGD3HqAzZLvlVM6CnD0B/MrF3lNgAABAgRqTEAAsMZoXZgAAQIEilFg8fLyOO/2V2Ps9Owi73223SpuOXuvZEH47AfAYjTSZgIECBSbQI/2zeOnJ/fNNHtp2Yr4YrIe4MJl5ZlyGQIECBAgUBMCAoA1oeqaBAgQIFCUAsvLV8QX/jIsXp84N9P+7u2axe3n7R3prpASAQIECBSnwKf6dYrP7dst0/jxMxbFlQ+NiJUr19gmPnOWDAECBAgQ2HQBAcBNN3QFAgQIECAQK1asjCsGDo9nx8zIaGzTsjTuvKB/tG3eOFMuQ4AAAQLFJ/B/x/WOdER45fSP4VPjL69MrFzkNQECBAgQ2OwCAoCbndQFCRAgQKDYBNKRGz96dFQ8knyIq5y2alKSC/51bt20crHXBAgQIFCkAukyEL/77B7RojQ7IvzH/xgVIybPK1IVzSZAgACBLSEgALgllN2DAAECBApa4Man343bX5qQaWOTkgbx52Tab881dn7MnCRDgAABAkUn0LVt07j+1H6Zdi+vSNYDvOe1mLe4LFMuQ4AAAQIENpeAAODmknQdAgQIEChKgbtefj9++cSYTNtLGtSLP3xuz9ija+tMuQwBAgQIEEgFjtxlm/j8QdtnMCbNXhJXPDDceoAZFRkCBAgQ2FwCAoCbS9J1CBAgQKDoBB59c2p8/+9vZdpdr17E9aftFgf3bJ8plyFAgAABApUFvnl0r9izW/YPRU+M+jBufeG9yqd5TYAAAQIENouAAOBmYXQRAgQIECg2gefHzoiv3vdGMlIj2/IffmqXSHd6lAgQIECAwLoEShrUj99+dvdo3bQkc9q1/xodr70/O1MmQ4AAAQIENlVAAHBTBb2fAAECBIpO4I1Jc+Piu16Lsops9O+yw3aMs/fbrug8NJgAAQIENk6g41ZN4obTd4t09PiqVJ7sKn/p3a/HrIXLVhX5ToAAAQIENllAAHCTCV2AAAECBIpJ4N3pC+K8Pw+JxcsrMs0+e79ucfnhO2bKZAgQIECAwMcJfGKnDvGlQ3bInPbB/KXx1fuHx4okGCgRIECAAIHNISAAuDkUXYMAAQIEikJg6twl8blbh8ScNXZpPK5vx7jq+F2SERyVhnAUhYhGEiBAgMDmELj88J6xX/e2mUs9N2ZG/P4/72bKZAgQIECAwMYKCABurJz3ESBAgEBRCSxaVh7n3DYkps1bmmn3QTu2i18mm37Ury/4l4GRIUCAAIH1FmiQ/A759Rm7RfsWjTPvSXeZf2nczEyZDAECBAgQ2BgBAcCNUfMeAgQIECg6gev+PTrGTl+YafduXVrFH87aMxo19Os0AyNDgAABAhss0KFFafzmM7tH5b8npTOAv/LXN2J6MiVYIkCAAAECmyLgE8um6HkvAQIECBSFQDr64s7B72faukOH5vHnc/eOZo0bZsplCBAgQIDAxgrs16NtfP3InTJvn5lsBvLlv74e5RUrMuUyBAgQIEBgQwQEADdEq4bPHTp0aPzoRz+KI488Mjp37hyNGzeO5s2bR8+ePeO8886LF154YbPX4K9//Wvufttss02UlpZGt27d4qyzzorBgwdv9nu5IAECBOqiwMJk6u83H3gzU/XSkvrxx7P3itbNGmXKZQgQIECAwKYKfOHgHvGJndpnLvPKe7PjhifHZMpkCBAgQIDAhgjUW5mkDXmDc2tGYMCAAfH8889/7MXPPvvs+OMf/xiNGm3ah84lS5bEKaecEoMGDar2nvXr14/vf//78YMf/KDa45taOHny5OjSpUvuMpMmTcoFPDf1mt5PgACBmhD47sMj4u5XJmYu/YPjd47zDtg+UyZDgAABAgQ2l8CcRcvjk795Pqause7sn8/bOw5Jdg2WCBAgsCECPn9viFbhnmsEYJ707dSpU3M16dSpU1x22WXxwAMPxJAhQ3Ij8X75y1/Gtttumzt+5513xrnnnrvJtT7//PNXB/8OOeSQ+Nvf/pa736233ho9evSIFStWxFVXXRW33HLLJt/LBQgQIFBXBV4YO7NK8K//9m3inP22q6tNUm8CBAgQqAMC6QjzGz+7RzSsvCBgUu+v3vdGpDvSSwQIECBAYEMFjADcULEaOv+4446LdHTfySefHA0aNKhyl5kzZ8YBBxwQY8b8d+j/s88+G+mowY1JTz/9dBx22GG5tx5//PHx8MMPZ+6Z3mvPPfeMiRMnRqtWrWL8+PHRunXrjbnVWt/jLxBrpXGAAIE8EViwtCyO/tXzMaXSB62mjRrEvy8bEF3bNs2TWqoGAQIECBSywK0vvBc/fnRUpom7d20V9120nw2oMioyBAisS8Dn73XpFM8xIwDzpK8fffTROO200zKBuMpVa9euXVx//fWri9IRghubfvGLX+Te2rBhw/j9739f5Z7pva677rrcOXPnzo0//elPG3sr7yNAgECdFbhm0NuZ4F/akCuP6SX4V2d7VMUJECBQ9wTOP2C7OGqXrTMVf33i3Eh3ppcIECBAgMCGCAgAbohWLZ+bTtVdlcaNG7fq5QZ9X7BgQTz11FO59xx++OFrXXvvpJNOipYtW+bOS0cISgQIECgmgWfHzIi/DpmUafJ+3dvGmft0y5TJECBAgACBmhSoV69e/OyUftG1TXbkeToy8N9vfVCTt3ZtAgQIECgwAQHAOtShy5YtW13b6qYJrz64jhevvvpqLF++PHfGwQcfvNYz001G9t1339zx9D1lZWVrPdcBAgQIFJLAvCVl8a01dv1tlkz9/dkpfaP+GmsxFVK7tYUAAQIE8lNgqyYl8fsz96gy5fcbDwyP92ctys9KqxUBAgQI5J2AAGDedcnaK5Su+7cq9e7de9XLDfo+atRHa4j06tVrne9ddby8vDzGjh27znMdJECAQKEIXJ2stfTB/KWZ5nznk72jyxqjLzInyBAgQIAAgRoU2HXbrSLdgb5yWrC0PL5497BYWlZRudhrAgQIECBQrUDDaksV5p1Auivvtddeu7pe6XqBG5PSxT9Xpc6dO696We33Ll26rC6fNGlS7Lxz9j8dqw9W86Lyfao5HNOmTauuWBkBAgRqVeCZ0dNj4Gsf/ZxMK3PgDu3is/271mq93JwAAQIECKS/i4a8Nzv+/sbU1Rgjp87PbRLykxP7rC7zggABAgQIVCcgAFidSh6W3XDDDTFkyJBczdL1+dJdejcmpWsArkrNmzdf9bLa782aNVtdvnDhwtWv1+dF5eDh+pzvHAIECNS2wLzFZfHth97MVKN544ZxXTL1N12DSSJAgAABArUpkP4uuiYJ9L01ZV6Mm/HR1N+7X5kY/bdvEyfstm1tVs+9CRAgQCDPBUwBzvMOSquXTv399re/natphw4d4qabbtroWi9d+tG0tnSdv3Wlxo0brz68ZMmS1a+9IECAQCEK/PDRkfHh/I/WWk3b+H/J1N9tWzUpxOZqEwECBAjUQYFmyR+mbjprzygtyX6Mu/KhEfHu9I/+0F8Hm6bKBAgQIFDDAkYA1jDwpl5+5MiRceKJJ0a6Dl9paWkMHDgw0iDgxqb0GqvSqs1AVuXX/F5505EmTTbsA3A6ZXhdKZ0C3L9//3Wd4hgBAgS2mMCToz6Mh4ZNydxvQM/2cfreHy2FkDkoQ4AAAQIEakmg59Yt4upP94krBg5fXYPFyyty6wH+7dIDomkjH/FWw3hBgAABAqsF/HZYTZF/L95777048sgjY86cOZHu+nvvvffGgAEDNqmiLVq0WP3+j5vWu2jRR1MLPm668OqL/u/Fx60vuOb58gQIEKgtgbmLl8eVD4/I3L5FaTL19+Q+pv5mVGQIECBAIF8ETtmzc7yarAd439CP/ug+5sOF8X9/eyuuP7Wf31/50lHqQYAAgTwSyI4dz6OKFXtVpk6dGocffnik39P1Pm677bY44YQTNpmlcmDu4zbqqDyKz5p+m0zvAgQI5KnAVY+MjBkLslN/v3/cztFxqw0b+ZynzVMtAgQIEChQgR+esEv02uajP+6nzUxHsw8cOrlAW6xZBAgQILApAgKAm6JXQ++dOXNmHHHEETF+/PjcHW688cY4++yzN8vdKu/kO3r06HVec9Xxhg0bxo477rjOcx0kQIBAXRT491sfxN8q7aaYtuHQXh0iHVkhESBAgACBfBYoLWkQvz9zj0g3rKqcvvf3t2JUsjuwRIAAAQIEKgsIAFbWyIPX8+bNi6OOOipGjRqVq821114bl1566War2d577x2rNv9INxdZW0rXB3z55Zdzh9P3lJSUrO1U5QQIEKiTArMXLU+mSmWn/rZMpv6mOyza9bdOdqlKEyBAoOgEurdvnixZ0TfT7mXlK+LSe4bFgqVlmXIZAgQIEChuAQHAPOr/xYsXxyc/+ckYNmxYrlbf/e5341vf+tZmrWG6BuBhhx2Wu+aTTz4Za5sG/NBDD8X8+f/9y2G6CYlEgACBQhP4QTL1d+bC5ZlmXfWpXWKbrT7aLClzUIYAAQIECOShwCf7doxz998uU7P3Zi6Kbz84IlauXJkplyFAgACB4hUQAMyTvk9H3KWBthdffDFXo8suuyyuvvrqDa7d7bffnhu5ko5eueqqq6p9/xVXXJErT3cWTkcXVlRUZM5LpyCvCjy2atUqLrzwwsxxGQIECNR1gUEjpsU/hk/NNOPw3lvHibtvmymTIUCAAAECdUHgymN7Rb/OW2Wq+s/kd92dg9/PlMkQIECAQPEKZBeMKF6HWm/5GWecEY8//niuHoceemhccMEF8dZbb621Xuk03p49e671+LoOpNf/zGc+k9tV+JFHHsmtN3j55ZdHp06dYsSIEfGTn/wkJk6cmLvEddddF61bt17X5RwjQIBAnRKYuXBZbpfEypXeqklJMvV3V1N/K6N4TYAAAQJ1RqBxwwbx28/uEcfd+ELMW/LR1N+r/zkqduvSKvolXxIBAgQIFLeAAGCe9H865XZVevrpp6Nv3+xaHquOrfrerVu3mDBhwqrsBn9PdxVOp/gOGjQonnnmmdxX5YvUr18/vve978VFF11UudhrAgQI1GmBdCrU9/72VqTr/1VOP0p2UuzQ0tTfyiZeEyBAgEDdEujSpmn88rR+ccEdQ1dXvKxiZXzx7mEx6CsHxVZNrem9GsYLAgQIFKGAKcBF2Olpk5s0aRL//Oc/4+67786NAOzQoUNuc5AuXbrEZz/72XjhhRfWOoW4SMk0mwCBAhB49M1p8a9k59/K6ahdto5P9etUuchrAgQIECBQJwUOS5azuPjg7pm6T5m7JL4+8I1YscJ6gBkYGQIECBSZQL1kNITfBEXW6fnQ3HTzkTTYmKZJkyZF586d86Fa6kCAQAELzFiwLI684dmYs/ijqVGtk9EQj3/14GjfonEBt1zTCBAgQKCYBMoqVsRn//hyvDphTqbZVx7TKwkO9siUyRAgUBwCPn8XRz9/XCuNAPw4IccJECBAoM4LpH/r+r+/jcgE/9JG/fjTuwr+1fne1QACBAgQqCxQ0qB+3HjGHtG2WaPKxfGzx95JgoKzM2UyBAgQIFA8AgKAxdPXWkqAAIGiFXgk2fH3sZEfZtp/bJ9t4ri+pv5mUGQIECBAoCAEttmqNH71md2Sza0+ak5FMgX4S/cMi1nJZlgSAQIECBSfgABg8fW5FhMgQKCoBKbPXxrf//vITJvTURE/PmHXTJkMAQIECBAoJIGDdmwfXzl0x0yTPpy/LC6/741Ig4ESAQIECBSXgABgcfW31hIgQKCoBNKpv995eETMW/LRun8pwNXJ1N+2za37V1QPg8YSIECgCAW+ctiOceAO7TItf37szPjt0+9mymQIECBAoPAFBAALv4+1kAABAkUr8PDrU+LJt6dn2n98suPvMX06ZspkCBAgQIBAIQo0qF8vNxW4wxqbXf3qqTHx4rszC7HJ2kSAAAECaxEQAFwLjGICBAgQqNsCH8xbGlc9kp362655o/jhp3ap2w1TewIECBAgsAEC7ZIR7zeesXukwcBVKRkgH5fd+3p8mCyTIREgQIBAcQgIABZHP2slAQIEikognfp75UNvxvyl5Zl2X/3pPtFmjV0RMyfIECBAgACBAhTYp3vbuOLInTItm7lweXz5ntejvGJFplyGAAECBApTQACwMPtVqwgQIFDUAg+8NjmeeWdGxuDTu3WKo3fdJlMmQ4AAAQIEikXg4gHd47BeHTLNHTJhdlz/xJhMmQwBAgQIFKaAAGBh9qtWESBAoGgFps1bEj/6x6hM+9snax9dZepvxkSGAAECBIpLoH4yBfj60/rFtq2aZBp+03/GxdOjP8yUyRAgQIBA4QkIABZen2oRAQIEilYgnfr7rQdHxIJl2am/Pz2xT7Rq2qhoXTScAAECBAikAunvwt+duUeUNPhoPcC0/Kv3DY/JcxanLyUCBAgQKFABAcAC7VjNIkCAQDEK3PfqpHhuTHbq70l7bBuH77x1MXJoMwECBAgQqCKwW5dW8d1je2fK5y0pi0uT9QCXl1sPMAMjQ4AAgQISEAAsoM7UFAIECBSzwJS5S+Lqf76dIdi6ZeP4wXF2/c2gyBAgQIBA0Qucs/92cWyf7Lq4wyfNjZ/+K/t7tOihABAgQKCABAQAC6gzNYUAAQLFKpCb+vvAm7Fwjam/157UN7ZqWlKsLNpNgAABAgSqFahXr15ce3Lf2K5t08zxP784IQaNmJYpkyFAgACBwhAQACyMftQKAgQIFLXAPUMmxgvvzswYnLZX5zhkjd0OMyfIECBAgACBIhZoWVoSvz9zz2jUMPuR8JvJH9QmzFxUxDKaToAAgcIUyP60L8w2ahUBAgQIFLDApNmL4ydrTP3tuFVp/N9xOxdwqzWNAAECBAhsusDOnVrGjz6VXSojHU3/xbuHxdKyik2/gSsQIECAQN4ICADmTVeoCAECBAhsqMCKFSsjHamweHn2Q0o6rSkd2SARIECAAAEC6xY4fe8ucdLu22ZOGjVtfvzwHyMzZTIECBAgULcFBADrdv+pPQECBIpa4O5X3o/B42dlDM7o3yUO7tk+UyZDgAABAgQIVC+Qrgd49Ym7xo4dmmdO+OuQSfHQsMmZMhkCBAgQqLsCAoB1t+/UnAABAkUtMHHW4rhm0OiMwbatmsR3ju2dKZMhQIAAAQIE1i3QtFHDuOmsPaJJSYPMid99+K0Y++GCTJkMAQIECNRNAQHAutlvak2AAIGiFkin/l7xwPBYssb6RNclU39bmPpb1M+GxhMgQIDAxgns0KFFXHPSrpk3p79nv5CsB7h4eXmmXIYAAQIE6p6AAGDd6zM1JkCAQNEL3DF4Qgx5b3bG4cx9usaBO7bLlMkQIECAAAEC6y9w4u6d44z+XTNveHf6wkhHAq5cuTJTLkOAAAECdUtAALBu9ZfaEiBAoOgF3pu5KK77d3bqb+fWTeJKU3+L/tkAQIAAAQKbLvCD43eOnTu2zFzo4denxL2vTsqUyRAgQIBA3RIQAKxb/aW2BAgQKGqBimTq7zcGDo+lZSsyDj87pW80b9wwUyZDgAABAgQIbLhAabIO4O/P3CNarPF79QePjIyRU+dt+AW9gwABAgTyQkAAMC+6QSUIECBAYH0E/vziezH0/TmZU8/Zr1vs38PU3wyKDAECBAgQ2ASB7do1i5+f2jdzheXlK+KLyXqA85eWZcplCBAgQKBuCAgA1o1+UksCBAgUvcC4GQvj54+9k3Ho2qZpfOuYXpkyGQIECBAgQGDTBY7etWOcf8D2mQu9P2txfOuBN60HmFGRIUCAQN0QEACsG/2klgQIEChqgVVTf5clow8qp58nU3+bNjL1t7KJ1wQIECBAYHMJfDv5I9tuXVplLvevtz6I21+akCmTIUCAAIH8FxAAzP8+UkMCBAgUvcCtL4yPYRPnZhzOO2C72Kd720yZDAECBAgQILD5BBo1rB+/S9YDbNW0JHPRawa9Ha9PzC7JkTlBhgABAgTyTkAAMO+6RIUIECBAoLLAu9MXxC8eH1O5KLZr2zS+eZSpvxkUGQIECBAgUAMC27ZqEjectlvmymUVK+NL97wecxYtz5TLECBAgED+CggA5m/fqBkBAgSKXqC8YkV8feCbkS48virVqxfxi1P7RZNGDVYV+U6AAAECBAjUoMAhvTrEFz/RI3OHKXOXxA//MTJTJkOAAAEC+SsgAJi/faNmBAgQKHqBW54fH8MnZaf+XpAsSL7Xdm2K3gYAAQIECBDYkgJfO6Jn7LN99vfv396YGq+9P3tLVsO9CBAgQGAjBQQANxLO2wgQIECgZgXGfLggfvXE2MxNurdrFlcctVOmTIYAAQIECBCoeYGGDerHjWfsHi1Ks5tvXfXIqFixYmXNV8AdCBAgQGCTBAQAN4nPmwkQIECgJgTK0qm/9w+P5cn3Val+OvX3tH5RWmLq7yoT3wkQIECAwJYU6NCyNC47bMfMLUdMmRcDX5uUKZMhQIAAgfwTEADMvz5RIwIECBS9wM3Pjov0A0Xl9PkB3WOPrq0rF3lNgAABAgQIbGGBc/bfLnq0b5a5688feyfmLy3LlMkQIECAQH4JCADmV3+oDQECBIpe4O1p8+PXT2Wn/u7QoXl89fCeRW8D4P/ZuxP4qqpr8ePrZh4JQwiBDCRhnhREBhkEHFBUnG1Rqw/Q1qF9bV9r7evrvxXb1/daa9vX9lWlVdD6EKq1tk4VBAUkMomWmUAgI4SEMCQhIXP+58Tm5q4wZbrJuXf/zudDc9a+556z1/dQvFn37L0RQAABBBDoboFgayjwD+eOUt0oPl0tv23x3251AAECCCCAQLcLUADs9ltABxBAAAEEmgTsob+PvbZdauqa5xJqHPprrfrL0N8mJX4igAACCCDQvQIzhvaVa0bEqU4sTc+Wg8dOqzYCBBBAAAHnCFAAdM69oCcIIICA8QLPfHhQdh8pVQ4PzxgkY5N6qjYCBBBAAAEEEOhegf9340gJsZ4GbNpqrYVAfvz2nqaQnwgggAACDhNo/hfbYR2jOwgggAACZgnsPlIiv/1AD/0d2i9KvnGNnmzcLBWyRQABBBBAwJkCKbGRsnBaqurc2oxj8sG+QtVGgAACCCDgDAEKgM64D/QCAQQQMFqguvbzVX/tpweatkBr7O8v7horoUGs+ttkwk8EEEAAAQScJPC1qwZLXHSo6tKP394r9n/X2RBAAAEEnCVAAdBZ94PeIIAAAkYK/K/15N++o2Uq90dnDpIxiTGqjQABBBBAAAEEnCMQFRok371+uOpQVnG5LE3PUm0ECCCAAALdL0ABsPvvAT1AAAEEjBbYdbhEfrf2oDIYHh8t/3oVQ38VCgECCCCAAAIOFLhtXMJZc/X+9oNMKSqrdGBv6RICCCBgrgAFQHPvPZkjgAAC3S5QVVsn3351u9R5DP0Nsob+Pm2t+hsSxH+iuv0G0QEEEEAAAQQuIhBg/Xf7ibkj1VGnq2rlqfcyVBsBAggggED3CvDbVff6c3UEEEDAaIHfrDkgGYV66O9XZw2W0QkM/TX6LwbJI4AAAgj4lMC45F5yx2WJqs9/3pYv/8g7pdoIEEAAAQS6T4ACYPfZc2UEEEDAaIHt1i8Fz7YY+juyfw+xC4BsCCCAAAIIIOBbAt+9fphEhuiFuxa9uVvqPZ7y962M6C0CCCDgXwIUAP3rfpINAggg4BMClTV18thr28Xzd4LgQIb++sTNo5MIIIAAAgicQyCuR5j869V6/l77CcA3Pjt8jqNpQgABBBDoagEKgF0tzvUQQAABBOR/Vh+QA0WnlcTXrUU/Rg7oodoIEEAAAQQQQMB3BBZMTZGUPhGqwz99b5/YcwKyIYAAAgh0rwAFwO715+oIIICAcQKf5p6U36/Xq/6Oseb8e3jmIOMsSBgBBBBAAAF/EggNCpQf3KQXBDlWViX/a60KzIYAAggg0L0CFAC715+rI4AAAkYJnGvob0hgQOOqv8HWTzYEEEAAAQQQ8G2Bq4bHyYyhfVUSSzZkSXZxuWojQAABBBDoWgF+2+pab66GAAIIGC3wi1UZcuiY/gXgG9cMkWHx0Ua7kDwCCCCAAAL+IuByuRqfAgwKcLlTqq6rl/98Z487ZgcBBBBAoOsFKAB2vTlXRAABBIwU2JZzQp63ngDw3C5NjJGHrkzzbGIfAQQQQAABBHxcYHBclMyfkqKyWL23SNbtP6baCBBAAAEEuk6AAmDXWXMlBBBAwFiBM9X2qr87pKGhmSAk6POhv0EM/W1GYQ8BBBBAAAE/Efi69YR/bFSIyuZHb+2WGutpQDYEEEAAga4XoADY9eZcEQEEEDBO4OcrMySrxdw/37p2qAzpx9Bf4/4ykDACCCCAgBECPcKC5TvXDVO5HrSmAfnjxhzVRoAAAggg0DUCFAC7xpmrIIAAAsYKbMk6IUs/1kN/xyX3lC9PZ+ivsX8pSBwBBBBAwAiBu8YnyZiEGJXr/6zeL8dPV6k2AgQQQAAB7wtQAPS+MVdAAAEEjBWoqK6V7/x5uxr6G/rPob+BHpODGwtE4ggggAACCPixQID13/pFN49UGZZV1srT1qJgbAgggAACXStAAbBrvbkaAgggYJTAU+9lSM7xCpWzPRxoUN8o1UaAAAIIIIAAAv4pMH5gb7l17ACV3IqtebLrcIlqI0AAAQQQ8K4ABUDv+nJ2BBBAwFiBjQePy4sfZ6v8Lx/YSxZMTVVtBAgggAACCCDg3wL/PmeERIQEupO0FwVb9OZua4SAx+pg7lfZQQABBBDwhgAFQG+ock4EEEDAcIHyqs+H/noyhAUHyM/vulQY+uupwj4CCCCAAAL+LxAfEyZfnTVYJfpJzkl5c/sR1UaAAAIIIOA9AQqA3rPlzAgggICxAj/9+z7JP3lG5f/4dcMlNTZStREggAACCCCAgBkCD0xLleTeESrZ/353n9jzBbMhgAACCHhfgAKg9425AgIIIGCUQHpmsby8KUflPDGlt8yfkqLaCBBAAAEEEEDAHIGw4ED5/o0jVMJHSyvl2bUHVRsBAggggIB3BCgAeseVsyKAAAJGCpRV1sjjf96hcg+3PvD//K5LxF4JkA0BBBBAAAEEzBWYPbKfTBscqwAWrz8keSf0gmHqAAIEEEAAgU4RoADYKYycBAEEEEDAFvgvayjP4VN66O+/zxkuA/sw9Je/IQgggAACCJgu4HK55Im5I9V8wNW19fKTd/aaTkP+CCCAgNcFKAB6nZgLIIAAAmYIrN9/TJZvyVXJTk7rLfdNHqjaCBBAAAEEEEDAXIEh/aLP+mzw3u6j8rE1hQgbAggggID3BCgAes+WMyOAAALGCJRaQ3///XU99DcixBr6e+elDP015m8BiSKAAAIIINA6gX+7Zqj0ighWBz/51h6pratXbQQIIIAAAp0nQAGw8yw5EwIIIGCswE/e3itHSipV/v9xwwhJarHanzqAAAEEEEAAAQSMFIixin/fnj1M5Z5RWCbLNuuRBOoAAgQQQACBDglQAOwQH29GAAEEEPgwo0j+9EmegrAn+L53UrJqI0AAAQQQQAABBJoE7p6YLCP692gKG3/+8v39crK8WrURIIAAAgh0jgAFwM5x5CwIIICAkQIlZ84e+hsVGiQ/vWOM2BN9syGAAAIIIIAAAucSCAxwySJrQRDPzf5c8Yv3Mzyb2EcAAQQQ6CQBCoCdBMlpEEAAARMFfvz2HiksrVKpf//GEZLYK0K1ESCAAAIIIIAAAi0FJqX1kRsv6a+aX7GGAe85UqraCBBAAAEEOi5AAbDjhpwBAQQQMFJgzd5C+fO2fJX79CGxMm9CkmojQAABBBBAAAEEzidgzxkcFtz8a2l9g8iTb+2WhgZrhw0BBBBAoNMEmv+l7bRTciIEEEAAAX8XOFVRLd/7y06VZrQ19Pdnd1zC0F+lQoAAAggggAACFxJI6BkuD88YpA7ZnHVC/r7rqGojQAABBBDomAAFwI758W4EEEDASIEn39ojRWV66O8PbhopA6wP8WwIIIAAAggggEBbBB66cpDYhUDP7Sfv7JXKmjrPJvYRQAABBDogQAGwA3i8FQEEEDBRYNXuo/LGZ4dV6jOH9ZW7Lk9UbQQIIIAAAggggEBrBMJDAsUeCuy5HT51RhavO+TZxD4CCCCAQAcEKAB2AI+3IoAAAqYJnCyvlv94Y5dKOzrMWvX3dob+KhQCBBBAAAEEEGiTwA1j4mVSam/1nmfXZYpdCGRDAAEEEOi4AAXAjhtyBgQQQMAYgSfe3C3Fp/XQ30VzR0l8TJgxBiSKAAIIIIAAAp0v4HK5ZNHNoyTA1Xzuypp6+e939zY3sIcAAggg0G4BCoDtpuONCCCAgFkC71mTcb+5/YhK+urhcXL7ZQmqjQABBBBAAAEEEGiPwIj+PeSeScnqrW/vKJDNh46rNgIEEEAAgbYLUABsuxnvQAABBIwTqK6tl/9q8Q18THiw/NftY1j117i/DSSMAAIIIICA9wS+fe0wsT9jeG6LrMXH6uobPJvYRwABBBBoowAFwDaCcTgCCCBgosCfPsmT3BMVKvVFN4+Ufj0Y+qtQCBBAAAEEEECgQwK9IkPkW9cOVefYW1AqK7bmqjYCBBBAAIG2CVAAbJsXRyOAAALGCZyprpPfrDmg8h6X3FNuHcvQX4VCgAACCCCAAAKdInCvNQx4WL9oda6nV2ZISUWNaiNAAAEEEGi9AAXA1ltxJAIIIGCkwNKPs+RYmV744/HrhjP018i/DSSNAAIIIICA9wWCAgPkibkj1YVOWsW/X63er9oIEEAAAQRaL0ABsPVWHIkAAggYJ2B/0/7c2oMq7+lDYuWKQX1UGwECCCCAAAIIINCZAlMGx8r1o+LVKV/elCP7C8tUGwECCCCAQOsEKAC2zomjEEAAASMFFq8/KKWVtSp3++k/NgQQQAABBBBAwNsC379xhIQENf/Kai8E8iNrQZCGBhYE8bY950cAAf8TaP7X1P9yIyMEEEAAgQ4IFJVWypL0LHWGG8f0lzGJMaqNAAEEEEAAAQQQ8IZAUu8IeejKNHXqDZnFsmpPoWojQAABBBC4uAAFwIsbcQQCCCBgpMBvP8iUypp6d+6BAS751my9Kp/7RXYQQAABBBBAAAEvCDwyc5DE9whTZ/7Pd/ZYn1HqVBsBAggggMCFBSgAXtiHVxFAAAEjBXKPV8jyLbkq97vGJ8qgvlGqjQABBBBAAAEEEPCmQERIkHzvBj39SN6JM/LCBj1KwZt94NwIIICAPwhQAPSHu0gOCCCAQCcL/PL9DKm15tlp2uz5d75xzZCmkJ8IIIAAAggggECXCdx86QC5fGAvdb3ffZgpR0sqVRsBAggggMD5BSgAnt+GVxBAAAEjBfYdLZW/bT+icr9/8kDpHxOu2ggQQAABBBBAAIGuEHC5XLLo5lFi/XBvFdV18tO/73XH7CCAAAIIXFiAAuCFfXgVAQQQME7g6ZUZ1up6zWlHhQbJo7MGNzewhwACCCCAAAIIdLHA6IQY+eLlSeqqf/3HEdmWc0K1ESCAAAIInFuAAuC5XWhFAAEEjBT4JPuErN5bpHL/8vQ06R0ZotoIEEAAAQQQQACBrhZ47LphEh0WpC775Ft7pN5j2hL1IgECCCCAgFuAAqCbgh0EEEDAbIEG67G/p6yn/zy3Plbh74HpqZ5N7COAAAIIIIAAAt0iEBsVKt+4Ws9JvCO/RP68Lb9b+sNFEUAAAV8SoADoS3eLviKAAAJeFFi3/5hsydLDaL5qDf21hwCzIYAAAggggAACThD4lykpMqhvpOrKUyv3SWlljWojQAABBBDQAhQAtQcRAgggYKSAPXTmqff0038JPcPl3snJRnqQNAIIIIAAAgg4UyA4MEB+OHeU6lzx6Wr57ZoDqo0AAQQQQEALUADUHkQIIICAkQLv7CyQPQWlKvdvXDNEQoMCVRsBAggggAACCCDQ3QIzhvaVa0bEqW4sTc+Wg8dOqzYCBBBAAIFmAQqAzRbsIYAAAkYK1NTVyy/f369yHxwXJbePS1BtBAgggAACCCCAgFME/t+NIyXEehqwaau1RjP8+O09TSE/EUAAAQRaCDT/i9niBUIEEEAAATMEXvskX7KKy1Wyj80eKkEeH6rViwQIIIAAAggggEA3C6TERsrCaXqhsrUZx+SDfYXd3DMujwACCDhTgAKgM+8LvUIAAQS6RKCypk5+vUY//XdpYoxcNyq+S67PRRBAAAEEEEAAgfYKfO2qwRIXHare/uO390p1bb1qI0AAAQQQEKEAyN8CBBBAwGCBP27MlsLSKiXw+PXDxeVyqTYCBBBAAAEEEEDAaQJRoUHyXetzi+dmj2pYmp7l2cQ+AggggIAlQAGQvwYIIICAoQKllTXyzNqDKvupg/vI1MGxqo0AAQQQQAABBBBwqsBt1pzFY5N6qu799oNMKSqrVG0ECCCAgOkCFABN/xtA/gggYKzAH9YfklMVNSr/71ynv0VXLxIggAACCCCAAAIOEwgIcMmim0epXp2uqpWn3stQbQQIIICA6QIUAE3/G0D+CCBgpMCxsip5YYMeHnO9Ne9fy2/QjcQhaQQQQAABBBDwKQH788ud4xNVn/+8LV/+kXdKtREggAACJgtQADT57pM7AggYK/C7DzOlorrOnb/15bk8dt1Qd8wOAggggAACCCDgSwKPXz9M7DkBPbdFb+6W+voGzyb2EUAAAWMFKAAae+tJHAEETBXIO1EhyzbnqPTvuCxRBsdFqzYCBBBAAAEEEEDAVwTiosPkX61VgT03+wnANz477NnEPgIIIGCsAAVAY289iSOAgKkCv1q9X2rqmr8NDwkMkG9ey9N/pv59IG8EEEAAAQT8RWDB1FRJjY1U6fz0vX1izwnIhgACCJguQAHQ9L8B5I8AAkYJ7C8sO+ub8HsnJ0tCz3CjHEgWAQQQQAABBPxPICQoQH5w0wiVmD3vsT31CRsCCCBgugAFQNP/BpA/AggYJfD0ygxpaH74TyJDAuWrs/RwGaNASBYBBBBAAAEE/ErgquH9ZOawviqnFz7KkuzictVGgAACCJgmQAHQtDtOvgggYKzAp7knZdWeQpX/A9PTJDYqVLURIIAAAggggAACvizw/24cKUH2Cmf/3Krr6uU/39nbFPITAQQQMFKAAqCRt52kEUDANIEG67G/n7+XodLuFREsX56eqtoIEEAAAQQQQAABXxcYHBcl86ekqDRW7y2U9fuPqTYCBBBAwCQBCoAm3W1yRQABYwU2ZBbLxkPHVf720N/osGDVRoAAAggggAACCPiDwNevGWKNcghRqfzo7T3WQmj1qo0AAQQQMEWAAqApd5o8EUDAWAH76b+nWjz91z8mTL40eaCxJiSOAAIIIIAAAv4t0MP6kvM71w1TSWYWnZY/bsxRbQQIIICAKQIUAE250+SJAALGCvx911HZebhE5f+Nq4dIWHCgaiNAAAEEEEAAAQT8SeCu8UkyJiFGpfQ/q/fL8dNVqo0AAQQQMEGAAqAJd5kcEUDAWIFaa5jL06v03H9psZFy5/hEY01IHAEEEEAAAQTMEAiwFgJZdPNIlWxZZe1Zn43UAQQIIICAnwpQAPTTG0taCCCAgC3w+qf5cuhYucL49uxhEhTIP/8KhQABBBBAAAEE/FJg/MDecuvYASq3FVvzZFeL0RHqAAIEEEDADwX4DdAPbyopIYAAArZAZU2d/M/qAwpjdEIPmTM6XrURIIAAAggggAAC/izw73NGSERI89Qn1vTIsujN3WLPk8yGAAIImCJAAdCUO02eCCBgnMD/bcqRgpJKlffj1w0XezgMGwIIIIAAAgggYIpAvLX42VdnDVbpfpJzUt7cfkS1ESCAAAL+LEAB0EF3t6ioSN5++2354Q9/KHPmzJHY2FhxuVyNf+bPn99pPV20aJH7vE3nP9/PtWvXdtp1ORECCHSdQFlljfzuw0x1wclpvWX6kFjVRoAAAggggAACCJgg8MC0VEnuHaFS/e9390lFda1qI0AAAQT8VSDIXxPzxbz69evni92mzwgg4ECB5z/KkpMVNapnj18/vLH4rxoJEEAAAQQQQAABAwTCggPl+zeOkIde3ubO9mhppTy79qDY8yOzIYAAAv4uQAHQoXc4OTlZhg8fLqtWrfJqD3fu3HnB86empl7wdV5EAAHnCRw/XSXPf3RIdezakf3ksuReqo0AAQQQQAABBBAwSWC29Xlo2uBY2ZBZ7E578fpD8oXLkySpxdOB7gPYQQABBPxEgAKgg26kPfR3woQJjX/spwGzs7PF2wW40aNHO0iAriCAQGcI/O7Dg1JeXec+lTWTgDzGN9tuD3YQQAABBBBAwEwBe9qjJ+aOlOt//ZHU1X++AEh1bb385J298tx9481EIWsEEDBGgDkAHXSrn3zySbnpppuEocAOuil0BQEfEzh86ozYi394breNTZBh8dGeTewjgAACCCCAAAJGCgzpFy33TR6ocn9v91H52OOpQPUiAQIIIOAnAhQA/eRGkgYCCCBgC/x69X6prqt3YwQHuuTfrh3qjtlBAAEEEEAAAQRMF/i3a4ZKr4hgxfDkW3uk1uMzlHqRAAEEEPADAQqAfnATSQEBBBCwBTKLyuTP2/IVxj0Tk5nTRokQIIAAAggggIDpAjFW8e+x6/TCHxmFZfLKllzTacgfAQT8WIACoB/f3NakNnv2bImLi5OQkJDGnzNnzpSf/vSncvLkyda8nWMQQMBBAr9YtV/+OZ1NY6/CrdXuvnbVEAf1kK4ggAACCCCAAALOEJg3IVlG9u+hOmN/ljpZXq3aCBBAAAF/EaAA6C93sp15vP/++3Ls2DGpqalp/Llu3Tr53ve+J2lpafK3v/2tnWcVyc/Pv+CfgoKCdp+bNyKAwNkC2/NOyd93HVUvPDAtVfpGh6o2AgQQQAABBBBAAAGRwACXLLp5lKIoOVMjv3x/v2ojQAABBPxFgFWA/eVOtjGPMWPGyK233ioTJ06UAQMGNBYAMzIyZNmyZbJq1So5deqU3HHHHfLWW2/JnDlz2nh2kaSkpDa/hzcggED7BX6+MkO9OSY8WL58ZZpqI0AAAQQQQAABBBBoFpiY2ltuuqS/vL2j+eGEZZtz5J5JyTKixdOBze9iDwEEEPBNAZ4A9M371qFef/Ob35QdO3bIj370o8ZVhy+77DKZNGmS3H///bJy5Up57rnnGs9fV1cnDz74oFRWVnboerwZAQS8K2CvWrehxcp1j84cJHYRkA0BBBBAAAEEEEDg/ALfu2GEhAU3/1psT6fy5Fu7paHB2mFDAAEE/Eig+V86P0qKVC4s0LNnzwse8NBDD8kDDzzQeMyRI0fk9ddfv+Dx53oxLy9PLvRny5Yt53obbQgg0EYB+8Ppz1o8/devR6j8y5SUNp6JwxFAAAEEEEAAAfMEEnqGy8MzBqnENx06cdbUKuoAAgQQQMAHBSgA+uBN64ou20XAps2eF7CtW2JiolzoT//+/dt6So5HAIFzCKzcXSj2/H+e29evHmJ9kx3o2cQ+AggggAACCCCAwHkEHrpykNiFQM/tJ+/slcqaOs8m9hFAAAGfFqAA6NO3z3udHzlypPvkhw8fdu+zgwACzhGos8ao/GKVnvsvpU+EfOFy5uB0zl2iJwgggAACCCDgdIHwkED5D2sosOd2+NQZWbzukGcT+wgggIBPC1AA9Onb573Ou1wu752cMyOAQKcIvPHZYTlQdFqd61uzh0lwIP+0KxQCBBBAAAEEEEDgIgI3jImXSdaiIJ7bs+syxS4EsiGAAAL+IMBvif5wF72Qw549e9xntVcJZkMAAWcJVNXWya/e3686NdJare6mMQyvVygECCCAAAIIIIBAKwTsByAW3TxKAjyeg6isqZf/fndvK97NIQgggIDzBSgAOv8edUsPFy9e7L7ujBkz3PvsIICAMwRe2Zx71jfS37l+mAR4fmp1RlfpBQIIIIAAAggg4BMCI6wvU++ZlKz6+vaOAtl86LhqI0AAAQR8UYACoC/etQv0+cUXXxT726vGb7AWLTrryJ07d0pmZuZZ7Z4Nv//97+X5559vbIqPj5fbbrvN82X2EUCgmwVOV9XK/36g/388MaW3zBzat5t7xuURQAABBBBAAAHfFvj2tcMkJjxYJbHorT1iz73MhgACCPiyQJAvd97f+r5hwwZVnCsuLnanaBft7OKe5zZ//nzPsFX727ZtkwcffFBmzZolc+bMkTFjxkifPn2ktrZW9u3bJ8uWLZNVq1Y1niswMFDsYmBkZGSrzs1BCCDQNQJLNmTJ8fJqdbHHraf/mLtTkRAggAACCCCAAAJtFugVGSLfunaoPPHmbvd79xaUyoqtuXLvpIHuNnYQQAABXxOgAOigO2Y/dffSSy+ds0fp6eli//Hc2lMAtN9fV1cnq1evbvzjeT7Pfbso+MILL8jcuXM9m9lHAIFuFjhhFf7+sF6vSHf18Di53HoCkA0BBBBAAAEEEECg4wL3WsOA7elWMgrL3Cd7emWGNdfyAImJ0E8Hug9gBwEEEHC4AEOAHX6DOrt7N9xwQ2Nhz34KcPz48ZKYmCjh4eESFhYm9mIf9lOBv/71r+XQoUNyyy23dPblOR8CCHRQ4Nm1mVJmDQFu2uwFux+7blhTyE8EEEAAAQQQQACBDgoEBQbIE3NHqrOcrKiRX63WC7CpAwgQQAABhwu4GqzN4X2ke34okJ+fL0lJSY2Z5eXlNRYi/TBNUkKgUwUKSs7IjJ+vleraevd5bxk7QH49b5w7ZgcBBBBAAAEEEECgcwQefnmbvLf7qPtkgdZia3//xnQZ2i/a3cYOAr4gwO/fvnCXvN9HngD0vjFXQAABBDpF4DdrDqjiX5D1IdSeo4YNAQQQQAABBBBAoPMFvn/jCAkJav6V2V4I5EfWgiA8Q9P51pwRAQS8L9D8r5n3r8UVEEAAAQTaKXDo2Gl59ZN89e55E5NkYB8W6VEoBAgggAACCCCAQCcJJPWOkIeuTFNn25BZLO/vKVRtBAgggIAvCFAA9IW7RB8RQMB4gV+8v1/sb52btrDgAPn6VUOaQn4igAACCCCAAAIIeEHgkZmDpH9MmDrzf76zVypr6lQbAQIIIOB0AQqATr9D9A8BBIwX2HW4RN7ZUaAcFkxNlbge+sOoOoAAAQQQQAABBBBAoMMCESFB8u9zhqvz5J6okBc2ZKk2AgQQQMDpAhQAnX6H6B8CCBgv8NTKDGXQIyxIHr5ykGojQAABBBBAAAEEEPCOwM2XDpAJKb3UyX/3YaYcLalUbQQIIICAkwUoADr57tA3BBAwXmDToeOyfv8x5fDQjEESExGs2ggQQAABBBBAAAEEvCPgcrnkibmjxPrh3iqq6+Rn7+1zx+wggAACThegAOj0O0T/EEDAWAF7hbmnWnyw7BsdKgumphhrQuIIIIAAAggggEB3CIxOiJF5E5LUpd/47LBkHC1TbQQIIICAUwUoADr1ztAvBBAwXmD13iL5NPeUcvj6VYPFnouGDQEEEEAAAQQQQKBrBR6bPUyiralYPLfF6w56huwjgAACjhWgAOjYW0PHEEDAZAF7xd+nW8z9l9Q7XL44IdlkFnJHAAEEEEAAAQS6TaBPlD0SI1Vd/2/bj0ietSgIGwIIIOB0AQqATr9D9A8BBIwUeHO7NaSkUA8p+fa1wyQkiH+2jfwLQdIIIIAAAggg4AiBBVNSJDw40N0X+0vbP3x0yB2zgwACCDhVgN8knXpn6BcCCBgrUF1bL798f7/Kf3h8tNgr0LEhgAACCCCAAAIIdJ9Ar8gQuXuiHpHxp615cqysqvs6xZURQACBVghQAGwFEocggAACXSmwYmuuNZTkjLrkd64bJgEBHkvPqVcJEEAAAQQQQAABBLpK4MtXpkpwYPPnsirry9ul6VlddXmugwACCLRLgAJgu9h4EwIIIOAdgYrqWvnNmkx18vEDe8lVw+NUGwECCCCAAAIIIIBA9wj0jwmX28YlqIu/vDFHSitrVBsBAggg4CQBCoBOuhv0BQEEjBdYmp4txaf1EJLHraf/XK7mb5mNRwIAAQQQQAABBBDoZoGHZgyyPp81d6KsqlaWbcptbmAPAQQQcJgABUCH3RC6gwAC5gqcqqiW59YdVAAzh/WVSWl9VBsBAggggAACCCCAQPcKDOobJdePiledeGFDllTW1Kk2AgQQQMApAhQAnXIn6AcCCBgv8Ny6Q1JWWascHps9TMUECCCAAAIIIIAAAs4QeHTmYNURexTHa9vyVRsBAggg4BQBCoBOuRP0AwEEjBYoLK08a/Lomy7pL6MTYox2IXkEEEAAAQQQQMCpAmMSY2T6kFjVvd+vPyi1dfWqjQABBBBwggAFQCfcBfqAAALGC/xmzQGxV5Br2gKtFX+/zdN/TRz8RAABBBBAAAEEHCnwiDUXoOeWd+KMvLOzwLOJfQQQQMARAhQAHXEb6AQCCJgskF1cLn/amqcIvnB5kqTGRqo2AgQQQAABBBBAAAFnCVwxqI9cmtRTderZtQeloaFBtREggAAC3S1AAbC77wDXRwAB4wV++f5+qa1v/pAYGhQg37h6iPEuACCAAAIIIIAAAk4XcFlLAT86Uz8FuO9omXywr8jpXad/CCBgmAAFQMNuOOkigICzBHYfKZE3tx9RnZo/JUXiY8JUGwECCCCAAAIIIICAMwWuHdFPBsdFqc7ZTwGyIYAAAk4SoADopLtBXxBAwDiBp1dmqJyjQ4Pk4RZzyagDCBBAAAEEEEAAAQQcJRBgzd3c8vPbJzknZUvWCUf1k84ggIDZAhQAzb7/ZI8AAt0osDX7hHyYcUz14CtXpkmvyBDVRoAAAggggAACCCDgbIFbxg6QhJ7hqpPPrM1UMQECCCDQnQIUALtTn2sjgICxAvbE0D/7+z6Vf2xUiCyclqraCBBAAAEEEEAAAQScLxAcGCBfnq4/x621vui1p3thQwABBJwgQAHQCXeBPiCAgHECH2YUiT00xHP72qzBEmkNAWZDAAEEEEAAAQQQ8D2BL05Ilj4tRnIwF6Dv3Ud6jIC/ClAA9Nc7S14IIOBYgXprxd+fr9yv+mcPGbl7UrJqI0AAAQQQQAABBBDwHYHwkEBZMDVFdfjdnQWSXVyu2ggQQACB7hCgANgd6lwTAQSMFnhrxxHZW1CqDL517VAJDQpUbQQIIIAAAggggAACviVw3+QUibQKgU2b9b2vLF5/qCnkJwIIINBtAhQAu42eCyOAgIkCNXX18sv39dN/Q/tFya3jEkzkIGcEEEAAAQQQQMCvBGIiguVLkweqnF7fli+FpZWqjQABBBDoagEKgF0tzvUQQMBogT9tzZOc4xXK4Nuzh0lggEu1ESCAAAIIIIAAAgj4psAD1qJuIUHNv2pXW18Av7AhyzeTodcIIOA3As3/KvlNSiSCAAIIOFPgTHWd/GbNAdW5sUk9ZfbIfqqNAAEEEEAAAQQQQMB3BeJ6hMmd4xNVAss25UhJRY1qI0AAAQS6UoACYFdqcy0EEDBa4MWPs6WorEoZPH79MHG5ePpPoRAggAACCCCAAAI+LvDQlWniOcCj3Poi+I8bs308K7qPAAK+LEAB0JfvHn1HAAGfESg5UyPPrTuo+jt9SKxMGRSr2ggQQAABBBBAAAEEfF9gYJ9IufGSASqRpdaXwfaIEDYEEECgOwQoAHaHOtdEAAHjBH6//qDYRUDP7TvXDfMM2UcAAQQQQAABBBDwI4FHZgxS2Zwor5YVW3NVGwECCCDQVQIUALtKmusggICxAkVllbJkQ7bK/4Yx8XJJYk/VRoAAAggggAACCCDgPwIjB/SQWcP6qoT+sP6QVNfWqzYCBBBAoCsEKAB2hTLXQABLyN8LAABAAElEQVQBowX+94NMOVPTPNzDXvHXXvmXDQEEEEAAAQQQQMC/BR6dNVgleKSkUt7cfkS1ESCAAAJdIUABsCuUuQYCCBgrkHu8QpZv0UM97rwsUQb1jTLWhMQRQAABBBBAAAFTBCak9JbLB/ZS6drzQtfXN6g2AgQQQMDbAhQAvS3M+RFAwGiBX63eLzV1zR/wQoIC5BvXDDHahOQRQAABBBBAAAGTBB6dpecCzCw6Lav2FJpEQK4IIOAAAQqADrgJdAEBBPxTYN/RUvnrPw6r5O6fPFAG9AxXbQQIIIAAAggggAAC/iswa1icDI+PVgk+uzZTGhqavyRWLxIggAACXhCgAOgFVE6JAAII2AJPr9xvfbBrtogKDZKW88A0v8oeAggggAACCCCAgD8KuFwueWSmfgpwe36JbDx43B/TJScEEHCoAAVAh94YuoUAAr4tsC3nhKzeq4d2PDg9VXpHhvh2YvQeAQQQQAABBBBAoM0CN47pL8m9I9T7nll7UMUECCCAgDcFKAB6U5dzI4CAkQL2cI6n3stQuduFvwenp6k2AgQQQAABBBBAAAEzBIICA+QrV+rPghsyi2VH/ikzAMgSAQS6XYACYLffAjqAAAL+JrD+QLFszjqh0vrqrMFiDwFmQwABBBBAAAEEEDBT4M7xidI3OlQl/8yHPAWoQAgQQMBrAhQAvUbLiRFAwESB+nr76b99KvUBMWFy76Rk1UaAAAIIIIAAAgggYJZAWHCgPDAtVSW9cs9RsVcFZkMAAQS8LUAB0NvCnB8BBIwSeHdXgew+Uqpy/ua1Q8X+wMeGAAIIIIAAAgggYLaA/aVwdFjzqBB7wbjF63gK0Oy/FWSPQNcIUADsGmeuggACBgjU1NXLL1btV5kO6hspt49LUG0ECCCAAAIIIIAAAmYKRIcFy/1XDFTJv/HZYTly6oxqI0AAAQQ6W4ACYGeLcj4EEDBW4M/b8iWruFzl/9jsYWJP+syGAAIIIIAAAggggIAtsGBqqoQGNX8+rLWmkPnDR4fAQQABBLwq0Pyvjlcvw8kRQAAB/xaorKmTX68+oJK8JDFGrh8dr9oIEEAAAQQQQAABBMwWiI0KlXkTkhTCii15cqK8WrURIIAAAp0pQAGwMzU5FwIIGCvw8sYcOVpaqfJ//Lrh4nK5VBsBAggggAACCCCAAAJfvjJNAgOaPyeesb5MfvHjbGAQQAABrwlQAPQaLSdGAAFTBEora+R3azNVulMG9ZFpQ2JVGwECCCCAAAIIIIAAArZAYq8IueXSAQrjJasAeLqqVrURIIAAAp0lQAGwsyQ5DwIIGCvw/PpDcqqiRuX/+PXDVUyAAAIIIIAAAggggICnwMMzB3mGUnKmRpZvzlVtBAgggEBnCVAA7CxJzoMAAkYKHCurkuc3ZKncrxvVT8Ym9VRtBAgggAACCCCAAAIIeAoM7Rct147s59lkfa48JFW1daqNAAEEEOgMAQqAnaHIORBAwFiB332YKRXVzR/S7Klc7JV/2RBAAAEEEEAAAQQQuJjAIy2eAiwsrZI3Pj18sbfxOgIIINBmAQqAbSbjDQgggMDnAnknKuSVFsM0br8sUYZY3+ayIYAAAggggAACCCBwMYHLknvJ5LTe6rDF1vQydfUNqo0AAQQQ6KgABcCOCvJ+BBAwVuB/Vh+Q6rp6d/4hgQHyzWuGuGN2EEAAAQQQQAABBBC4mMCjMwerQ7KKy+XvuwpUGwECCCDQUQEKgB0V5P0IIGCkwIHCMnnjs3yV+z2TkhtXdFONBAgggAACCCCAAAIIXEBg+pBYGZ3QQx3xzIcHpaGBpwAVCgECCHRIgAJgh/h4MwIImCrw9KoM8RyZERESKF+7Sn97a6oNeSOAAAIIIIAAAgi0XsDlcknLpwD3FJTKuv3HWn8SjkQAAQQuIkAB8CJAvIwAAgi0FPgs96Ss3F2omh+cliqxUaGqjQABBBBAAAEEEEAAgdYIXDcqXtJiI9Whz649qGICBBBAoCMCFAA7osd7EUDASIGfr8xQefeKCJYHr0xTbQQIIIAAAggggAACCLRWIDDAJQ/N0J8nN2edkG05J1t7Co5DAAEELihAAfCCPLyIAAIIaIENB4rl44PHVaM9ZKNHWLBqI0AAAQQQQAABBBBAoC0Ct41LlPgeYeotz67NVDEBAggg0F4BCoDtleN9CCBgnIA9EfNTK/epvO0PafddMVC1ESCAAAIIIIAAAggg0FaBkKAAeXB6qnrb6r1FknG0TLURIIAAAu0RoADYHjXegwACRgq8t+uo7MgvUbl/85ohEhYcqNoIEEAAAQQQQAABBBBoj8DdE5OlpzW9jOf23DrmAvT0YB8BBNonQAGwfW68CwEEDBOos5b8tVf+9dzsiZrvHJ/o2cQ+AggggAACCCCAAALtFogMDZJ/uSJFvf/N7Uck70SFaiNAAAEE2ipAAbCtYhyPAAJGCqzZWygHj5Wr3L81e6gEBfLPqEIhQAABBBBAAAEEEOiQwPwpKRIR0jzCxP4i+vfrD3XonLwZAQQQ4DdX/g4ggAACrRBYmp6tjhoeHy03jO6v2ggQQAABBBBAAAEEEOioQK/IELGHAntur36SJ8fKqjyb2EcAAQTaJEABsE1cHIwAAiYK7DlSKhsP6ZV/vzw9TQICXCZykDMCCCCAAAIIIICAlwXsxUCCA5s/a1bV1svS9CwvX5XTI4CAPwtQAPTnu0tuCCDQKQItP2zFRoXKTZfy9F+n4HISBBBAAAEEEEAAgbME+seEy23jElT7yxtzpLSyRrURIIAAAq0VoADYWimOQwABIwWKT1fJ36yJlz23L01OltCg5nlZPF9jHwEEEEAAAQQQQACBzhB4aMYgcTU/BChlVbXyf5tyOuPUnAMBBAwUoABo4E0nZQQQaL3AK5tzpdoactG0hViLftw7aWBTyE8EEEAAAQQQQAABBLwiMKhvlMwZHa/OvWRDllTW1Kk2AgQQQKA1AhQAW6PEMQggYKSAXfh7ucW3rHMvHSB9o0ON9CBpBBBAAAEEEEAAga4VeHTmYHXB4tPV8pq1IAgbAggg0FYBCoBtFeN4BBAwRuCdnUfOWm1twdQUY/InUQQQQAABBBBAAIHuFRidECPTh8SqTixef0hq65pHqKgXCRBAAIHzCFAAPA8MzQggYLZAQ0ODvGANsfDcJqX2FvtDGBsCCCCAAAIIIIAAAl0l8MjMQepS+SfPyNs7ClQbAQIIIHAxAQqAFxPidQQQMFLgk5yTsutwqcp9wdRUFRMggAACCCCAAAIIIOBtgSvS+sjYpJ7qMs+uPSj19Q2qjQABBBC4kAAFwAvp8BoCCBgrsDRdP/2X2Ctcrh3Zz1gPEkcAAQQQQAABBBDoHgGXtRTwoy2eAswoLJMP9hV1T4e4KgII+KQABUCfvG10GgEEvCmQf7JC3tt1VF1i/pQUCQxwqTYCBBBAAAEEEEAAAQS6QuCaEf1kSFyUutQzazPFnraGDQEEEGiNAAXA1ihxDAIIGCXwx4054jmiIjIkUL4wIckoA5JFAAEEEEAAAQQQcI5AgPVF9MMz9FyAn+aeki1ZJ5zTSXqCAAKOFqAA6OjbQ+cQQKCrBcqramXFllx12bsuT5IeYcGqjQABBBBAAAEEEEAAga4UuHnsAEnoGa4u+Yw1FyAbAggg0BoBCoCtUeIYBBAwRuAvn+ZLaWWtO19ryhX5F2v4LxsCCCCAAAIIIIAAAt0pEBwYIF+5Mk11Yd3+Y9bCdSWqjQABBBA4lwAFwHOp0IYAAkYK2CupLU3PVrlfNSxOUmMjVRsBAggggAACCCCAAALdIfAFa2RKn8gQdenn1vEUoAIhQACBcwpQADwnC40IIGCiwLoDx+RQcblKfeG0VBUTIIAAAggggAACCCDQXQLh1tzUC6amqMu/u7NAslt8hlUHECCAAAKWAAVA/hoggAAC/xRYsiFLWQzrFy1TBvVRbQQIIIAAAggggAACCHSnwH1XpEhUaJC7C/bidYvX8xSgG4QdBBA4pwAFwHOy0IgAAqYJHCgsk48OFKu07W9XXfYkgGwIIIAAAggggAACCDhEICY8WO6dnKx68/q2w1JYWqnaCBBAAAFPAQqAnhrsI4CAsQJLP85WufeKCJZbxyWoNgIEEEAAAQQQQAABBJwg8IA1TU1IUPOv89V19fL8R4ec0DX6gAACDhVo/hfDoR2kWwgggIC3BU6WV4u9+q/ndu+kgRIWHOjZxD4CCCCAAAIIIIAAAo4QiIsOk7vGJ6q+vLI5V05VVKs2AgQQQKBJgAJgkwQ/EUDAWIHlW3OlsqbenX9QgEvuu2KgO2YHAQQQQAABBBBAAAGnCXzlyjSxPra6t/LqOvnjxhx3zA4CCCDgKUAB0FODfQQQME6gxhou8XKLD0o3XtJf+vUIM86ChBFAAAEEEEAAAQR8R2Bgn0i56ZIBqsNL07OkorpWtREggAACtgAFQP4eIICA0QLv7ToqBSV6wuQFU1ONNiF5BBBAAAEEEEAAAd8QeGTmINXRkxU1smJLnmojQAABBGwBCoD8PUAAAaMFlljfknpulyX3lLFJPT2b2EcAAQQQQAABBBBAwJECI/r3kKuGx6m+2YuBVNc2T2+jXiRAAAFjBSgAGnvrSRwBBD7LPSmf5Z5SEAutFdXYEEAAAQQQQAABBBDwFYGWTwEesUa3/O0fh32l+/QTAQS6SIACYBdBcxkEEHCewNL0bNWpATFhcv2oeNVGgAACCCCAAAIIIICAkwUmpPSWCSm9VBefW3dQ6usbVBsBAgiYLUAB0Oz7T/YIGCtw1Ppm9N2dBSr/+65IkaBA/llUKAQIIIAAAggggAACjhd4dOZg1ceDx8pl1Z6jqo0AAQTMFuA3XbPvP9kjYKzAy5uypdbjW9Gw4AC5e2KSsR4kjgACCCCAAAIIIOC7AjOH9RV7PkDP7Zm1B6WhgacAPU3YR8BkAQqAJt99ckfAUIEz1XXyyuZclf0dlyVKz4gQ1UaAAAIIIIAAAggggIAvCLhcLmk5F+CO/BL5+OBxX+g+fUQAgS4QoADYBchcAgEEnCXwV2tS5JMVNapTC6amqJgAAQQQQAABBBBAAAFfErhhdLwk945QXX5mbaaKCRBAwFwBCoDm3nsyR8BIAXsYxNL0LJX7lUP7yuC4aNVGgAACCCCAAAIIIICALwnYc1k/NCNNdTk987hszzul2ggQQMBMAQqAZt53skbAWAH7Q9D+wtMq/4U8/ac8CBBAAAEEEEAAAQR8U8Ce1qZvdKjqPE8BKg4CBIwVoABo7K0ncQTMFFjS4um/tL6RcuWQvmZikDUCCCCAAAIIIICAXwmEBQfKg9NSVU4rdxdKZlGZaiNAAAHzBCgAmnfPyRgBYwWyisvlg31FKv8FU1MlIMCl2ggQQAABBBBAAAEEEPBVgXsmJUuPsCDV/efWHVIxAQIImCdAAdC8e07GCBgr8GKLp//sD0Z3XJZgrAeJI4AAAggggAACCPifQHRYsNx/RYpK7K+fHZbDp86oNgIEEDBLgAKgWfebbBEwVqDkTI28ti1f5X/3xGSJCNHfjqoDCBBAAAEEEEAAAQQQ8EGBBdYc12HBzb/u19Y3yB/W8xSgD95KuoxApwk0/4vQaafkRAgggIDzBF77JE8qquvcHQu0hv3ePyXFHbODAAIIIIAAAggggIC/CPSJCpV5E5JVOiu25sqJ8mrVRoAAAuYIUAA0516TKQLGCtTW1cvS9GyV//Wj4iWhZ7hqI0AAAQQQQAABBBBAwF8EHpyeKkEec11X1tRLyylx/CVX8kAAgYsLUAC8uBFHIICAjwus3lt41pwn9rAINgQQQAABBBBAAAEE/FUgsVeE3Dx2gErvxY+z5XRVrWojQAABMwQoAJpxn8kSAaMFlrR4+u+SxBgZP7CX0SYkjwACCCCAAAIIIOD/Ao/MGKSSLK2slVc256g2AgQQMEOAAqAZ95ksETBWYNfhEtmSdULlv3BqqrhcLtVGgAACCCCAAAIIIICAvwkM6Rcts0f2U2k9/1GWVNU2z42tXiRAAAG/FaAA6Le3lsQQQMAWWJKepSDiokPlhjH9VRsBAggggAACCCCAAAL+KvDITP0UYFFZlfzl08P+mi55IYDAeQQoAJ4HhmYEEPB9gaKySnl7e4FK5L7JAyUkiH/6FAoBAggggAACCCCAgN8KjEvuJVek9VH5LV53UOrqG1QbAQII+LcAvwX79/0lOwSMFli2KVeqrRWAmza78HfPpOSmkJ8IIIAAAggggAACCBgh8Ogs/RRg9vEKeXen/qLcCAiSRMBgAQqABt98UkfAnwXseU2WtZjg+LaxCdInKtSf0yY3BBBAAAEEEEAAAQTOEpg2OFbGJMSo9mfWHpSGBp4CVCgECPixAAVAP765pIaAyQJvWUN/i09XK4IF01JUTIAAAggggAACCCCAgAkC9gJ4j7aYC3BvQams23/MhPTJEQEELAEKgPw1QAABvxOwv8lcskEv/jFlUB8ZHt/D73IlIQQQQAABBBBAAAEEWiMwe1S8pMVGqkPtpwDZEEDADAEKgA66z0VFRfL222/LD3/4Q5kzZ47ExsaK/U2N/Wf+/Ple6eny5ctl9uzZEh8fL2FhYTJw4ED50pe+JBs3bvTK9TgpAl0hsDnrhOyxvtH03BZOTfUM2UcAAQQQQAABBBBAwCiBwACXPDxDzwW4xfrcvC3nhFEOJIuAqQJBpibuxLz79evXZd06c+aM3HnnnfLuu++qa+bm5sqyZcvELgzahcgnnnhCvU6AgC8ILE3XT/8N7BMhVw2P84Wu00cEEEAAAQQQQAABBLwmcOu4BPnV6v1SUFLpvsYzHx6UF+b3dsfsIICAfwrwBKBD72tycnLjk3ne6t7ChQvdxb9Zs2bJX//6V9myZYu88MILMmjQIKmvr5dFixbJ73//e291gfMi4BWBXGtFs1V7CtW5509JkQDrG082BBBAAAEEEEAAAQRMFggJCpAHp6cpgjX7imTfUT16Rh1AgAACfiFAAdBBt9F+4u6tt96So0ePSk5OjixevNgrvfvggw9kxYoVjeeeO3euvP/++3LLLbfIhAkTxC4Mbtq0SewCpL1997vflZMnTzbu8z8I+ILASxuzrdXMmnsaHRokd12e1NzAHgIIIIAAAggggAACBgvMm5AkPSOClcBzzAWoPAgQ8EcBCoAOuqtPPvmk3HTTTeLtocBPP/10Y9ZBQUHyzDPPSGBgoFKw5x782c9+1th26tQpef7559XrBAg4VeB0Va28ujVPdc8u/kVZRUA2BBBAAAEEEEAAAQQQEIm0PhvbI2Q8t7d2FEjeiQrPJvYRQMDPBCgA+tkNvVg6ZWVlsmbNmsbDrrnmGklMTDznW26//Xbp0ePzFVPfeOONcx5DIwJOE/jzJ3lSZhUBmzZr/ZyzPtw0vcZPBBBAAAEEEEAAAQRMFbALgBEhzQ+C1NU3yOL1rAhs6t8H8jZDgAKgGffZneXWrVulurq6MZ4xY4a7veVOSEiITJ48ubHZfk9NTU3LQ4gRcJRAvfWh5cWPs1Wfrh3RT5KtBUDYEEAAAQQQQAABBBBAoFmgZ0SI3DPx82mfmlpf/SRfisqaFwdpaucnAgj4hwAFQP+4j63OYs+ePe5jhw8f7t4/107T67W1tXLgwIFzHUIbAo4R+DCjSLKtBUA8twVTUz1D9hFAAAEEEEAAAQQQQOCfAvZiIMGBzQvlVdfWy9L0bHwQQMBPBZgYy09v7PnSys/Pd790vuG/TQckJTUvnJCXlycjR45seumiPz2vc66DCwoKztVMGwLtFliSnqXeO6J/D5mc1lu1ESCAAAIIIIAAAggggMDnAvExYXL7uET5kzWNTtP2fxtz5JGZg6RHmF4kpOl1fiKAgO8KUAD03XvXrp7bcwA2bVFRUU275/wZGRnpbj99+rR7vzU7nsXD1hzPMQh0RCDjaJmkZx5Xp1g4NUVc9iSAbAgggAACCCCAAAIIIHBOgYdmpMmr2/KkoeHzl+35tF+2ioBfnTX4nMfTiAACvivAEGDfvXft6nllZfOcDvY8fxfaQkND3S+fOXPGvc8OAk4TWNri6b8+kSEy99IBTusm/UEAAQQQQAABBBBAwFECaX2j5IbR/VWf7M/WlTV1qo0AAQR8X4AnAH3/HrYpg7CwMPfxTYuBuBta7FRVVblbwsPD3fut2bGHDF9os4cAT5w48UKH8BoCrRI4UV4tb3x2WB177+SBEhbcvKqZepEAAQQQQAABBBBAAAEE3AL2kN93djZP0VR8ulpes4YF33dFivsYdhBAwPcFKAD6/j1sUwbR0dHu4y82rLe8vNx97MWGC7sP/OfOxeYXbHk8MQLtFVi+JVeqrAmLmzZ7IuMvTdYrmjW9xk8EEEAAAQQQQAABBBDQAqMTYmT6kFj56ECx+4XF6w/J3dYqwUGBDBp0o7CDgI8L8P9mH7+Bbe2+Z2HuYgt1eD7Fx5x+bZXm+K4QsFcq++PGbHWpuZcMkLjo5idd1YsECCCAAAIIIIAAAgggcJbAozP1nH/5J8/IWzuOnHUcDQgg4LsCFAB99961q+eeK/nu27fvgudoej0oKEiGDBlywWN5EYHuEPj7rgIpLG0eqm73YcHU1O7oCtdEAAEEEEAAAQQQQMBnBSan9ZZxyT1V/59de1Dq6/+5Ooh6hQABBHxRgAKgL961DvR5woQJ0rT4x7p16857Jnt+wE2bNjW+br8nOJhl4M+LxQvdItBgLVW2ZEOWuvbElN4yJjFGtREggAACCCCAAAIIIIDAhQVcLpe0fApwf+FpWbOv6MJv5FUEEPAZAQqAPnOrOqej9hyAV199dePJVq9eLecbBvyXv/xFSktLG4+77bbbOufinAWBThT4NPeUbM8vUWdcMDVFxQQIIIAAAggggAACCCDQOoGrh8fJ0H5R6uBn1maK/cU7GwII+L4ABUDfv4cqgxdffFHsb2/sP4sWLVKvNQWPPfZY425tba189atflbo6vcR7cXGxfPe73208pmfPnvLggw82vZWfCDhGYEm6fvovoWe4XDuyn2P6R0cQQAABBBBAAAEEEPAlgYAAlzw8Y5Dq8mfWl+6bs06oNgIEEPBNgSDf7LZ/9nrDhg2SmZnpTs4uxDVtdrtd3PPc5s+f7xm2ev+qq66SefPmyYoVK+TNN9+Ua6+9Vr75zW/KgAEDZOfOnfKTn/xEcnNzG8/3s5/9THr16tXqc3MgAl0hcOTUGXlv11F1qflTUlilTIkQIIAAAggggAACCCDQNoG5lw6QX6zaL4etz9tN2zPWXICT0/o0hfxEAAEfFaAA6KAb9/zzz8tLL710zh6lp6eL/cdza28B0D7HkiVLGof4vvvuu/Lhhx82/vE8d0BAgPzgBz+Qr3zlK57N7CPgCIE/bsyROo8JiSNCAuULE5Ic0Tc6gQACCCCAAAIIIICArwoEBwbIQzPS5Id/2+1OYf3+Y7LrcImMTmCubTcKOwj4oABDgH3wpnVGl8PDw+Wdd96RZcuWNT4BGBcX17g4SFJSktxzzz1iP414viHEnXF9zoFAewUqqmtl+ZbPn1BtOsed4xMlJpyFapo8+IkAAggggAACCCCAQHsFvnB5kvSJDFFvf3bdQRUTIICA7wm4rAk9mdHT9+6bz/fYXnzELjbaW15eniQmJvp8TiTQNQLLNufI99/YpS72wbdnSFpfPWGxOoAAAQQQQAABBBBAAAEEWi3wuw8z5ecrM9zHW9MDyppvz5TU2Eh3Gzu+I8Dv375zr7zZU54A9KYu50YAgU4VqLeG/S7ZoBf/mDWsL8W/TlXmZAgggAACCCCAAAKmC3xp8kCJCm2eMcyefWcxTwGa/teC/H1cgAKgj99Auo+ASQIfZRbLwWPlKuWF01JVTIAAAggggAACCCCAAAIdE7Cn17GLgJ7b65/my9GSSs8m9hFAwIcEKAD60M2iqwiYLrA0XT/9NyQuSqYNjjWdhfwRQAABBBBAAAEEEOh0gYXTUiQkqLlkUFPXIC9sONTp1+GECCDQNQLN/2/umutxFQQQQKBdAplFp2VtxjH13gVTU8XlsiYkYUMAAQQQQAABBBBAAIFOFYiLDpO7rMX2PLdlm3PlVEW1ZxP7CCDgIwIUAH3kRtFNBEwXePFj/fRfz4hguW1cguks5I8AAggggAACCCCAgNcEHrpykNgLgDRtFdV18tLHOU0hPxFAwIcEKAD60M2iqwiYKlBSUSOvbzus0r9nYrKEhwSqNgIEEEAAAQQQQAABBBDoPIHkPhEy99IB6oT2F/MV1bWqjQABBJwvQAHQ+feIHiJgvMCKrblypqbO7RBofQ153xV6UmL3i+wggAACCCCAAAIIIIBApwk8MnOQOtdJ68v55VvyVBsBAgg4X4ACoPPvET1EwGiB2rp6a5hBtjK4YUx/6R8TrtoIEEAAAQQQQAABBBBAoPMFhsf3kKuHx6kTP//RIamurVdtBAgg4GwBCoDOvj/0DgHjBVbtKZQjJZXKYeHUFBUTIIAAAggggAACCCCAgPcEWj4FWGB9Pv/rP/QUPd67OmdGAIHOEKAA2BmKnAMBBLwmsGSDXvxjbFJPGZfcy2vX48QIIIAAAggggAACCCCgBS5P6S0TrT+e23PrDkpdfYNnE/sIIOBgAQqADr45dA0B0wV25J+ST3JOKoaF01JVTIAAAggggAACCCCAAALeF3hklp4L8NCxcnl/z1HvX5grIIBApwhQAOwURk6CAALeEFianq1OG98jTOaMjldtBAgggAACCCCAAAIIIOB9gZlD+8qI/j3Uhf5vU66KCRBAwLkCFACde2/oGQJGCxSWVsrbO44oA3vl3+BA/tlSKAQIIIAAAggggAACCHSBgMvlkq9cqUfjbMgslpzj5V1wdS6BAAIdFeA36Y4K8n4EEPCKwP9typGauuY5RUKDAuSeicleuRYnRQABBBBAAAEEEEAAgYsLzBndX2LCg9WBK7bmqZgAAQScKUAB0Jn3hV4hYLRAZU2dLNucqwxuvyxRekWGqDYCBBBAAAEEEEAAAQQQ6DqBsOBAuf2yBHXB1z7Jt764r1dtBAgg4DwBCoDOuyf0CAHjBd78xxE5UV6tHBZMTVExAQIIIIAAAggggAACCHS9wN0tRuUUn66SNXsLu74jXBEBBNokQAGwTVwcjAAC3hZoaGiQJelZ6jLTh8TK0H7Rqo0AAQQQQAABBBBAAAEEul7A/lx++cBe6sLLtzAMWIEQIOBAAQqADrwpdAkBkwU2Hjou+46WKYKFU/Vkw+pFAgQQQAABBBBAAAEEEOhSgXktngJcf+CY5J2o6NI+cDEEEGibAAXAtnlxNAIIeFlgyYZsdYW02EiZMbSvaiNAAAEEEEAAAQQQQACB7hO4cUx/iQ4LcnfAGsQjr33CU4BuEHYQcKAABUAH3hS6hICpAjnHy2XNPj1/yHxr7r+AAJepJOSNAAIIIIAAAggggIDjBMJDAuW2cXoxkD9ZBcBaFgNx3L2iQwg0CVAAbJLgJwIIdLvAix9ni/3tYdNmf6t4h7X6LxsCCCCAAAIIIIAAAgg4S2DehGTVocLSKlmbcUy1ESCAgHMEKAA6517QEwSMFiirrLGGDeQrg3kTkiQytHlogXqRAAEEEEAAAQQQQAABBLpNYOSAHnJpUk91/eVbclVMgAACzhGgAOice0FPEDBa4FWr+He6qtZtYI/6vf+KFHfMDgIIIIAAAggggAACCDhL4J6JSapDH2YUSUHJGdVGgAACzhCgAOiM+0AvEDBaoK6+QV6yhv96bteNipek3hGeTewjgAACCCCAAAIIIICAgwRuumSARFrzATZt1sd6eXWrHtXT9Bo/EUCgewUoAHavP1dHAAFLYM3eQsk9UaEsFkxNVTEBAggggAACCCCAAAIIOEvAnq7nlpaLgWzNFfsLfjYEEHCWAAVAZ90PeoOAkQJL0rNU3qMTesiElF6qjQABBBBAAAEEEEAAAQScJ3DPRL0YyJGSSll/gMVAnHen6JHpAhQATf8bQP4IdLPAniOlsunQCdWLhdbTfy6XNQkgGwIIIIAAAggggAACCDhaYHRCjNhf4HtuyzfneobsI4CAAwQoADrgJtAFBEwWWNri6b/YqFC58ZL+JpOQOwIIIIAAAggggAACPiVwd4unANfsK5Ki0kqfyoHOIuDvAhQA/f0Okx8CDhYoPl0lf/vHEdXD+yYPlNCg5omE1YsECCCAAAIIIIAAAggg4DiBmy8dIOHBzZ/h7TkAX9vGYiCOu1F0yGgBCoBG336SR6B7BV6xhgZU19W7OxESGCD3TtZziLhfZAcBBBBAAAEEEEAAAQQcKRAdFix2EdBzW2EtBlLPYiCeJOwj0K0CFAC7lZ+LI2CuQFVtnby8KUcB3Dx2gNhDgNkQQAABBBBAAAEEEEDAtwTmTUxSHc47cUbSDxarNgIEEOg+AQqA3WfPlREwWuCdHQVyrKxKGSyYmqJiAgQQQAABBBBAAAEEEPANgbFJPWV4fLTq7IoteSomQACB7hOgANh99lwZAWMFGhoaZEmLxT8mp/WWUQNijDUhcQQQQAABBBBAAAEEfFnA5XJJy8VAVu4+etaX/r6cI31HwJcFKAD68t2j7wj4qMAnOSdl1+FS1fsFU1NVTIAAAggggAACCCCAAAK+JXDruARrQb/mMkOtNQfg65+yGIhv3UV6668Czf/P9NcMyQsBBBwnsGRDlupTUu9wuWZEP9VGgAACCCCAAAIIIIAAAr4lEBMeLDde0l91esWWXLFHALEhgED3ClAA7F5/ro6AcQL5JyvEHgrguc2fkiqBAS7PJvYRQAABBBBAAAEEEEDABwXumZisep19vEI2Hjqu2ggQQKDrBSgAdr05V0TAaIE/bswRaySAe4sMCZS7Lk90x+wggAACCCCAAAIIIICA7wqMH9hLhsRFqQRYDERxECDQLQIUALuFnYsiYKZAeVWtLLeGAHhud12eJD3Cgj2b2EcAAQQQQAABBBBAAAEfFbAXA5nX4inA93YdlRPl1T6aEd1GwD8EKAD6x30kCwR8QuAv1gTAZZW17r5anw1k/pQUd8wOAggggAACCCCAAAII+L7A7dZiICEei4FU19WL/bsAGwIIdJ8ABcDus+fKCBglUG+N+12anq1yvnp4nKTERqo2AgQQQAABBBBAAAEEEPBtgV6RITJndLxKwh4JxGIgioQAgS4VoADYpdxcDAFzBdbtPyaHissVwMKpqSomQAABBBBAAAEEEEAAAf8QuLvFMOCDx8rlk5yT/pEcWSDggwIUAH3wptFlBHxRYEl6lur28PhouWJQH9VGgAACCCCAAAIIIIAAAv4hMCm1t6S1GO2zfHOufyRHFgj4oAAFQB+8aXQZAV8T2F9YJh8dKFbdXjA1RewJgtkQQAABBBBAAAEEEEDA/wQ+XwwkSSX2zs4CKamoUW0ECCDQNQIUALvGmasgYLRAy7n/eltzgtwyNsFoE5JHAAEEEEAAAQQQQMDfBe64LFGCA5u/9K+qrZc3PmMxEH+/7+TnTAEKgM68L/QKAb8ROFlefdZ/5O+dlCxhwYF+kyOJIIAAAggggAACCCCAwNkCfaJCZfaolouB5LEYyNlUtCDgdQEKgF4n5gIImC2wfGuuVNbUuxGCAlzypckD3TE7CCCAAAIIIIAAAggg4L8C97RYDCTDmh7os7xT/pswmSHgUAEKgA69MXQLAX8QqKmrlz9+nKNSuemS/tKvR5hqI0AAAQQQQAABBBBAAAH/FLgirY8k945QybEYiOIgQKBLBCgAdgkzF0HATIH3dh2Vo6WVKvmF01JVTIAAAggggAACCCCAAAL+KxBgjQCaN1EvBvL2jgIprWQxEP+962TmRAEKgE68K/QJAT8RWJKepTIZP7CXXJLYU7URIIAAAggggAACCCCAgH8L3Dk+UeypgJq2MzV18rd/HGkK+YkAAl0gQAGwC5C5BAImCnyWe1I+y9VzeyycytN/Jv5dIGcEEEAAAQQQQAABswXiosPkmhH9FII9DLihoUG1ESCAgPcEKAB6z5YzI2C0wNL0bJX/gJgwuW6U/o++OoAAAQQQQAABBBBAAAEE/Fag5TDgPQWlsvNwid/mS2IIOE2AAqDT7gj9QcAPBApKzsi7OwtUJvdPSZGgQP7JUSgECCCAAAIIIIAAAggYIjB9SF9J6Bmusl2+JU/FBAgg4D0Bfhv3ni1nRsBYgZc35khtffPj/OHBgTJvgp7411gcEkcAAQQQQAABBBBAwECBQGsOwC+2+J3gzX8cltNVtQZqkDICXS9AAbDrzbkiAn4tcKa6TpZvyVU53jE+QXpGhKg2AgQQQAABBBBAAAEEEDBL4AuXJ4nHWiBSbv3u8NZ2FgMx628B2XaXAAXA7pLnugj4qcBfrW/xTlbUqOzmT2HxDwVCgAACCCCAAAIIIICAgQLx1rzgVw2PU5mvaPHwgHqRAAEEOk2AAmCnUXIiBBCwV/Famp6lIGYM7SuD46JUGwECCCCAAAIIIIAAAgiYKXD3xGSV+Pb8Etl9hMVAFAoBAl4QoADoBVROiYCpAumZx2V/4WmV/sJpPP2nQAgQQAABBBBAAAEEEDBYwH5AoL/1JKDntoLFQDw52EfAKwIUAL3CykkRMFNgSYun/wb1jZQrh8SaiUHWCCCAAAIIIIAAAgggcJZAUGCA3GXNBei5/fWzw1JRzWIgnibsI9DZAhQAO1uU8yFgqMChY6flg31FKvsFU1PF5XKpNgIEEEAAAQQQQAABBBAwW8BeDdjz14QyayXgd3YUmI1C9gh4WYACoJeBOT0Cpgi89HG2SjUmPFhuvyxBtREggAACCCCAAAIIIIAAAgk9w8UeCuy5LWcxEE8O9hHodAEKgJ1OygkRME+g5EyNvLYtXyU+b2KSRIQEqTYCBBBAAAEEEEAAAQQQQMAWaLkYyKe5pyTjaBk4CCDgJQEKgF6C5bQImCTw6tY8a86OOnfKgQEuuf+KFHfMDgIIIIAAAggggAACCCDgKXDV8DjpGx3q2SQ8Bag4CBDoVAEKgJ3KyckQME+gtq5eXmwx/Pf60fFiP9bPhgACCCCAAAIIIIAAAgicSyDYWgzkC5cnqpfesBYDqaxpfrBAvUiAAAIdEqAA2CE+3owAAqv3FsrhU2cUxMKpKSomQAABBBBAAAEEEEAAAQRaCnzx8mTVZE8t9PddLAaiUAgQ6CQBCoCdBMlpEDBVYMmGbJX6pYkxcllyL9VGgAACCCCAAAIIIIAAAgi0FEjuEyHTh8Sq5uWb81RMgAACnSNAAbBzHDkLAkYK7DpcIluyT6jcF05LFZfLpdoIEEAAAQQQQAABBBBAAIFzCbRcDMT+/SKz6PS5DqUNAQQ6IEABsAN4vBUB0wWWpGcpgjhrEt85o/urNgIEEEAAAQQQQAABBBBA4HwC14zoJ30iQ9TLK7bkqpgAAQQ6LkABsOOGnAEBIwWKyirlre1HVO73XzFQQoL4Z0WhECCAAAIIIIAAAggggMB5BezfH+5ssRjI65/mS1Uti4GcF40XEGiHAL+ptwONtyCAgMiyTblSU9fgpgi1/sPd8vF994vsIIAAAggggAACCCCAAALnEZg3QS8GcrKiRlbuLjzP0TQjgEB7BCgAtkeN9yBguEBlTZ0s25yjFG4dmyB9okJVGwECCCCAAAIIIIAAAgggcDGB1NhIuSKtjzqMYcCKgwCBDgtQAOwwISdAwDwBe+hv8elqlfiCaSkqJkAAAQQQQAABBBBAAAEEWiswb2KSOvTjg8clu7hctREggED7BSgAtt+OdyJgpEBDQ4MsTc9WuU8d3EeGx/dQbQQIIIAAAggggAACCCCAQGsFrhsVL70igtXhK7bmqZgAAQTaL0ABsP12vBMBIwU2Z52QPQWlKveFU1NVTIAAAggggAACCCCAAAIItEUgLDhQbr8sUb3lz9vypLq2XrURIIBA+wQoALbPjXchYKzAkg1ZKveUPhEya1icaiNAAAEEEEAAAQQQQAABBNoqcHeLYcD2tENr9rIYSFsdOR6BcwlQADyXCm0IIHBOgdzjFfJ+i/8Az5+SIgEBrnMeTyMCCCCAAAIIIIAAAggg0FqBwXHRMjGltzr8lS25KiZAAIH2CVAAbJ8b70LASIGXNmaLNQWge4sODZI7L9eT9bpfZAcBBBBAAAEEEEAAAQQQaKNAy8VAPjpQLHknKtp4Fg5HAIGWAhQAW4oQI4DAOQVOV9XKqy0m4f3ChCSJsoqAbAgggAACCCCAAAIIIIBAZwjcMKa/9AjTv2P8qcXvIZ1xHc6BgGkCFABNu+Pki0A7Bf7yab6UWUXAps0e9WsP/2VDAAEEEEAAAQQQQAABBDpL4FyLgbz6SZ7U1rEYSGcZcx4zBSgAmnnfyRqBNgvY/9H13K4d2U+Sekd4NrGPAAIIIIAAAggggAACCHRYoOUw4KKyKvlgX1GHz8sJEDBZgAKgyXef3BFopUDG0TLZdbhUHX3vpIEqJkAAAQQQQAABBBBAAAEEOkNgeHwPGZfcU51qOYuBKA8CBNoqQAGwrWIcj4CBAq9bw389t/geYTJ1cKxnE/sIIIAAAggggAACCCCAQKcJ3D0xWZ1r3f5jcvjUGdVGgAACrRegANh6K45EwEgBe66NNz47rHK/dVyCBNqTALIhgAACCCCAAAIIIIAAAl4QuOmS/hLtseBgfYOctSihFy7LKRHwWwEKgH57a0kMgc4R+CizWI5Zc254bneOT/AM2UcAAQQQQAABBBBAAAEEOlUgIiRIbhk3QJ3Tnpe8zq4EsiGAQJsFKAC2mYw3IGCWwOvb9PDfSxNjZHBctFkIZIsAAggggAACCCCAAAJdLjBvgh4GXFBSKev2sxhIl98ILugXAhQA/eI2kgQC3hEoOVMjq/YUqpPfMT5RxQQIIIAAAggggAACCCCAgDcERifEyCXWAwie2yub8zxD9hFAoJUCFABbCcVhCJgo8M6OAqmurXenHhzokrmX6Mfw3S+ygwACCCCAAAIIIIAAAgh0skDLxUA+zCiSo9aTgGwIINA2AQqAbfPiaASMEmi5+u/Vw/tJr8gQowxIFgEEEEAAAQQQQAABBLpPYO6lAyQiJNDdAXsOwNesuQDZEECgbQIUANvmxdEIGCOQVVwu23JOqnwZ/qs4CBBAAAEEEEAAAQQQQMDLAlHWSsC3jNWjkFZszZN6FgPxsjyn9zcBCoD+dkfJB4FOEvjLp3rxjz7Wk38zh/XtpLNzGgQQQAABBBBAAAEEEECgdQItFwM5fOqMfJRZ3Lo3cxQCCDQKUADkLwICCJwlYH+b9pdPD6v2m61v3YID+SdDoRAggAACCCCAAAIIIICA1wXshUBG9u+hrrNiS66KCRBA4MIC/DZ/YR9eRcBIgU1Zx8X+Vs1zu+MyVv/19GAfAQQQQAABBBBAAAEEukbA5XLJ3ROT1MXe31Mox8qqVBsBAgicX4AC4PlteAUBYwVe3/b/27sTKLmqOnH8t7OvkIUkZDVAAoTVJCTCICDI4CgghKgsw0EYFGeOfwc5HHFURtGRUQ6iMJzfmVFBHcYj6CQCYnBkRBZBMGRhD/uSjZCFhOxLJ/3v+5iq1Ot0J9Wd7ur3qj7XE+vdt917P7dIqr51373p0X+H7t8/HD4i/YtbzeJoOAECBAgQIECAAAECFRc4a+LI0Kv7zhBGfeNTSzPmpqctqnilFEggRwI7/+vJUaVVlQCBjhPYsKU+/O7Zt1IFxNF/8Vc3iQABAgQIECBAgAABAp0hsE+v7uGMo5ouBrLQYiCd0RnKzKWAAGAuu02lCXScwP88uyxs3Lq9WEDXLnXhrInpf2iLB20QIECAAAECBAgQIECgQgLnTx2TKunNVRvD46+tSu2TIUCgeQEBwOZd7CVQswIzm6z+e+L4/cLQ/r1q1kPDCRAgQIAAAQIECBDIhsCkMQPCIcP6pyrzC4uBpDxkCLQkIADYkoz9BGpQIC788ViTX9CmT7b4Rw2+FTSZAAECBAgQIECAQOYE4rRE5zVZDOT3zy0Lq9ZbDCRznaVCmRMQAMxcl6gQgc4TuLNx9F9Dw87y9+nVLZw6YdjOHbYIECBAgAABAgQIECDQiQLTGhcD6dltZyhj2/aG8Ot56UUMO7F6iiaQWYGd/9VktooqRoBAJQQaGiN/M5v8w3nG0SMaV9rqWonilUGAAAECBAgQIECAAIE9Cgzo0yN87MjhqfNuf2Jh40CGkpEMqaMyBAhEAQFA7wMCBBKBeQvXhNdXbkhpxNV/JQIECBAgQIAAAQIECGRJoOliIK+t2BBmv/5OlqqoLgQyJyAAmLkuUSECnSPQdPGPA/brG+IkuxIBAgQIECBAgAABAgSyJDBl7MBw0JC+qSrdbjGQlIcMgaYCAoBNReQJ1KDA5m3bw2+fWppq+fRJI0OcZFciQIAAAQIECBAgQIBAlgTi95SmowDvfXZZWLNxa5aqqS4EMiUgAJip7lAZAp0j8IcFb4e1m+uLhce43zSP/xY9bBAgQIAAAQIECBAgkC2Bcxq/r/ToujOksbV+h8VAstVFapMxgZ3/tWSsYqpDgEDlBGbMXZwq7LgDB4eRA3qn9skQIECAAAECBAgQIEAgKwKD+vYIHzli/1R17rAYSMpDhkCpgABgqYZtAjUosHzt5vDwSytSLbf4R4pDhgABAgQIECBAgACBDAqcP3V0qlYvvb0+zFu4OrVPhgCB9wQEAL0TCNS4wF1PLgk7GnYi9OnRNfxNk1/Sdh61RYAAAQIECBAgQIAAgWwIxCeXxg7uk6rML/6yKJWXIUDgPQEBQO8EAjUs0NDQEGbOXZIS+OgRw0Pfnt1S+2QIECBAgAABAgQIECCQNYG4GMh5U8ekqjXrmaXh3U3bUvtkCBAIQQDQu4BADQs8t3RtePHtdSmB6ZNHpvIyBAgQIECAAAECBAgQyKpAnL6oW5fGVQz/L23etiPc3fiUk0SAQFpAADDtIUegpgSaLv4RF/449oDBNWWgsQQIECBAgAABAgQI5FdgSP+e4bTDh6Ua8Iu/LAzxaSeJAIGdAgKAOy1sEagpga31O8JvnlqaavP0SSNDl5Jfz1IHZQgQIECAAAECBAgQIJBBgfOmpB8DfmHZuvDU4nczWFNVItB5AgKAnWevZAKdKvDgi8vDOxu2pupwTuPweYkAAQIECBAgQIAAAQJ5EvjguP3CqIG9U1W+Y/bCVF6GQK0LCABm9B3w5ptvhiuvvDIceuihoW/fvmHQoEFhypQp4frrrw8bN27cq1r/7Gc/C3Gy1HL+xHOl6hSYOW9xqmHHvG9gGLtf39Q+GQIECBAgQIAAAQIECGRdID7FdN6U0alqxqed1m+pT+2TIVDLAgKAGez9e+65Jxx11FHh+9//fnjxxReTgN/q1avDnDlzwlVXXRUmTpwYXnnllQzWXJXyIrC6ceTfH19Ynqru9MlG/6VAZAgQIECAAAECBAgQyI3AJ48ZHbqWTGe0cev28Jsn01Me5aYxKkqgAwS6dcA93XIvBObPnx/OPffcsGnTptCvX7/wla98JZx88slJ/o477gg//vGPw0svvRROP/30JCDYv3//vSgthN///vdhxIgRLd5j1ChBoRZxcnwg/hq2bfvOSXF7dusSTj9qeI5bpOoECBAgQIAAAQIECNSywLB9eoVTDh0a/vf5t4sMtzc+BnzBB9LzAxYP2iBQYwICgBnr8MsvvzwJ9nXr1i3cd9994bjjjivW8JRTTgnjx49PRgHGIOANN9wQrrnmmuLxtmwcfPDBYezYsW251DU5Fmj6+O9ph+8f9unVPcctUnUCBAgQIECAAAECBGpd4IKpY1IBwGeWvBuebfxzxMh9a51G+wkEjwBn6E0we/bs8Kc//Smp0aWXXpoK/hWqGecFnDBhQpK96aabwrZt2wqHvBIoS+Dlt9eFp5usiBVX/5UIECBAgAABAgQIECCQZ4ETDx4SRuzbK9WEOApQIkAgCABm6U1w1113FatzySWXFLdLN7p06RIuuuiiZNeaNWvCAw88UHrYNoE9CsxosvjH0P49wwnjh+zxOicQIECAAAECBAgQIEAgywJxDsBPNVkM5O7GeQA3WAwky92mbhUSMAKwQtDlFPPII48kp8VVfydPntziJSeddFLx2KOPPlrctkFgTwLbdzSEu+YvSZ02beLI1GS5qYMyBAgQIECAAAECBAgQyJHApxoXAylZCyRZCXjW02/lqAWqSqBjBAQAO8a1TXddsGBBct24ceNCnAOwpXTooYcWDxWuKe5o5UYcaRgXAenRo0fYb7/9wrHHHhuuvvrqsGRJOkjUyts6PaMCj7yyMry9dkuqdlb/TXHIECBAgAABAgQIECCQY4ERA3qHDx0yNNWCX3gMOOUhU5sCLUeZatOj01q9efPmsHLlyqT8Pa28O3DgwBBHCW7YsCEsWrRor+r84IMPFq9ftWpViH/+8pe/JAuM3HjjjeFzn/tc8XhrNhYvXrzb0996yy8wuwXqoIMz56b75cjGyXAPHrZ3K0l3UFXdlgABAgQIECBAgAABAm0SOL9xMZA/vrC8eO2Ti9aEBW+tDROG71PcZ4NArQkIAGakx9etW1esSb9+/YrbLW0UAoDr169v6ZTd7j/wwAPDOeeckyw0Mnr06OTc1157LcycOTPMmDEjxIDk3//934e6urpw2WWX7fZezR0s3LO5Y/Z1jsDazdvC759blirc4h8pDhkCBAgQIECAAAECBKpA4ORDhoRh+/RMPf10R+MowG+edUQVtE4TCLRNwCPAbXNr96tiwK2Q4uO4e0o9e/ZMTtm0adOeTt3l+LRp08Irr7wSrr/++iQIOGXKlBD/nHvuueFXv/pV+M1vfhO6d++eXHfFFVeEZcvSQaNdbmhHLgTubZz3Ykv9jmJdu3etCx9/v9V/iyA2CBAgQIAAAQIECBCoCoFuXbuEOBdgabqzcS70TVu3l+6yTaCmBAQAM9LdvXrtXKp869ate6zVli3vzePWu3fvPZ7b9IR99903GdnXdH8hf8YZZ4Svf/3rSXbjxo3h1ltvLRwq+zU+mry7P7Nnzy77Xk5sH4GZTVb/PblxXoxBffccbG6f0t2FAAECBAgQIECAAAEClROIAcDGB9qKae3m+nDvM6aiKoLYqDkBAcCMdHn//jvnYSvnsd44/19M5Twu3JYmxsd+4+O/MT300EOtvkWcx3B3f4YPH97qe7qg7QJvrtoQnnhjdeoGFv9IccgQIECAAAECBAgQIFBFAqMH9QknjB+SatEdTyxM5WUI1JKAAGBGejuOABw8eHBSmz0toLF69epkAZB4ckfNtTd06NBifawInJE3yV5UY+a89KrOA/t0D3EEoESAAAECBAgQIECAAIFqFbhgavox4Dgo4uW3d86/X63t1i4CzQkIADan0kn7DjvssKTkOD9ffX19i7V44YUXiscmTJhQ3G7vjcIIwPa+r/tVVmDHjobw6yaP/57VOPdfj27+869sTyiNAAECBAgQIECAAIFKCnx4wrCwX7/35s8vlHv77EWFTa8EakpABCBD3f3BD34wqU18vHfu3Lkt1qz0kdzjjz++xfP25sCKFSvCypUrk1uMGDFib27l2k4WmP3GO2Hx6vRiMdMnjerkWimeAAECBAgQIECAAAECHSvQvXExkE8ek/7u8+v5i8PmbRYD6Vh5d8+igABghnrl7LPPLtbmpz/9aXG7dGPHjh3htttuS3YNGDAgnHzyyaWH2237Rz/6UWhoaEjud9JJJ7Xbfd2o8gIz5y5OFXrwsH7hiJH7pPbJECBAgAABAgQIECBAoBoFzpuSfgx4zcZt4ffPLavGpmoTgd0KCADulqeyB6dOnRpOOOGE0mmV8AAAPW1JREFUpNC48u5jjz22SwVuuOGGsGDBgmT/5ZdfHrp3754658EHH0wW74iP71588cWpYzHzxhtvhPnz5++yv3THb3/72/Ctb30r2RVXGb7kkktKD9vOkcDGrbuudBVH/3m8O0edqKoECBAgQIAAAQIECLRZ4H2D+4bjx703337hJrfPXljY9EqgZgS61UxLc9LQm266KcTHejdt2hROO+208NWvfjUZ5Rfzd9xxR4gj82I6+OCDw5VXXtnqVsUAYBw1eNxxx4UzzzwzHH300SEu+BHTa6+9FmbMmJH8KYz++973vhdGjhzZ6nJckA2B+MvWhq07h7d3aVzYedpE/ZmN3lELAgQIECBAgAABAgQqIXDelDHh0VdWFYt6/LV3wmsr1ocDh/Qr7rNBoNoFBAAz1sMTJ04Mv/zlL8OFF14Y1q5dmwQAm1YxBv9mzZoV+vfv3/RQ2fk4urC5EYaFG/Tp0yf84Ac/CJdddllhl9ccCsycm17994TxQ8LQfXrlsCWqTIAAAQIECBAgQIAAgbYJnHb4sDCob4/wzoatxRv88olF4Ssf67hFNYsF2SCQEQGPAGekI0qrEUfmPf300+GKK65IRvrFYFyc7++YY44J1113XfII77hx40ovKXt78uTJ4ec//3n4/Oc/Hz7wgQ+EMWPGhHj/Hj16hGHDhoVTTjklXHvtteH1118X/CtbNZsnLl2zKTz66nsLuRRqOH1yegLcwn6vBAgQIECAAAECBAgQqFaBnt26humT0k9CzWicK31r/Y5qbbJ2EdhFoK7xUc/3VnrY5ZAdBDpOYPHixWH06PcmY120aFEYNUpgqr21/98Dr4Trf/9i8bb9e3ULT3zt1NCre9fiPhsECBAgQIAAAQIECBCoBYFXGx/5/fAND6Wa+v8umBROP2p4al81Znz/rsZebX2bjABsvZkrCGReIMb1m67+e0bjP2yCf5nvOhUkQIAAAQIECBAgQKADBA5qnO9v6gGDUne2GEiKQ6bKBQQAq7yDNa82BeYvWhNeW7kh1fi4+q9EgAABAgQIECBAgACBWhW4YOqYVNMfeWVlWLhqY2qfDIFqFRAArNae1a6aFmg6+m/s4D5h8vsG1rSJxhMgQIAAAQIECBAgUNsCf3PE/mHf3t1TCHc8sTCVlyFQrQICgNXas9pVswKbt20P9zy1NNX+cxpH/9XV1aX2yRAgQIAAAQIECBAgQKCWBOKUSOc0WQzkV3MWh23bLQZSS++DWm2rAGCt9rx2V63A/QuWh7Wb61PtmzYxveJV6qAMAQIECBAgQIAAAQIEakTg/CaPAa9cvyXE71ASgWoXEACs9h7WvpoTmDlvcarNxx44KIwe1Ce1T4YAAQIECBAgQIAAAQK1KHDwsP67TI9kMZBafCfUXpsFAGuvz7W4igVWrNsSHnppRaqFFv9IccgQIECAAAECBAgQIFDjAk1HAT788oqweLXFQGr8bVH1zRcArPou1sBaErj7ySVh+46GYpP79OgaPnbk8GLeBgECBAgQIECAAAECBGpd4PTG70j9e3UrMjQ0foX61ROLinkbBKpRQACwGntVm2pWYMbc9OO/cZWrvj13/sNWszAaToAAAQIECBAgQIAAgf8T6N04UKLpPOlxMZB6i4F4j1SxgABgFXeuptWWwHNL3w0vLFuXavQnGlf/lQgQIECAAAECBAgQIEAgLXDelDGpHcvWbg4PvpieTil1ggyBnAsIAOa8A1WfQEFg5twlhc3kdeSA3uHYAwen9skQIECAAAECBAgQIECAQAiHjdgnHD16QIrijicWpvIyBKpJQACwmnpTW2pWYFvjUPU4/19pikPau3SpK91lmwABAgQIECBAgAABAgT+T+CCqaNTFn98YXl4691NqX0yBKpFQACwWnpSO2pa4KHGoeqrNmxNGZwzaWQqL0OAAAECBAgQIECAAAECOwXOOGpE6Ns4H2AhxfUUf/VEel71wjGvBPIuIACY9x5UfwKNAjPnpf+RmjRmQDhwSD82BAgQIECAAAECBAgQINCCQFww8azGJ6dK06/mLArbYyRQIlBlAgKAVdahmlN7Ams2bg33L1ieavj0yRb/SIHIECBAgAABAgQIECBAoBmB85ssBrJkzabw8MsWA2mGyq6cCwgA5rwDVZ/APU8tDVtLlqvv0a1LiEPZJQIECBAgQIAAAQIECBDYvcCRo/YNR4zcJ3XSHbMXpvIyBKpBQACwGnpRG2paYMa89OIff33YsLBv7+41baLxBAgQIECAAAECBAgQKFfgvCajAP/Q+ITV8rWby73ceQRyISAAmItuUkkCzQu8snx9eGrRmtTBT0zy+G8KRIYAAQIECBAgQIAAAQK7ETjr/SNC7+47FwOJcwD+99z0POu7udwhArkQEADMRTepJIHmBZou/jGkf89wwvj9mj/ZXgIECBAgQIAAAQIECBDYRaB/r+7hzKOHp/bf8cTCsMNiICkTmXwLCADmu//UvoYF4q9SdzZ5/Pfsxl+uunX1n3UNvy00nQABAgQIECBAgACBNgicP3VM6qpF72wKf351VWqfDIE8C4gU5Ln31L2mBf786sqwrMm8FFb/rem3hMYTIECAAAECBAgQINBGgfePHhAO3b9/6urbLQaS8pDJt4AAYL77T+1rWGBmkzkpDh+xT+M/WOnVq2qYR9MJECBAgAABAgQIECBQtkBdXV1oOgrwvueXhZXrt5R9DycSyLKAAGCWe0fdCLQgsG7ztvA/zy1LHZ1u8Y+UhwwBAgQIECBAgAABAgRaI3D2xJGhZ7edYZJt2xtC04EXrbmfcwlkSWDnOztLtVIXAgR2K/C7Z5aFzdt2FM/p1qUuxJWrJAIECBAgQIAAAQIECBBom8C+vbuH049quhjIotDQ0NC2G7qKQIYEBAAz1BmqQqBcgRnz0kvSf+iQoWFwv57lXu48AgQIECBAgAABAgQIEGhG4IImi4G8vnJDePy1d5o50y4C+RIQAMxXf6ktgbBw1cYw+/X0P0CfmDySDAECBAgQIECAAAECBAjspcDk9w0M44b2S93FYiApDpmcCggA5rTjVLt2BWY2Gf03oE/3cPKhQ2sXRMsJECBAgAABAgQIECDQTgLNLQbyP88uC6s3bG2nEtyGQOcICAB2jrtSCbRJYMeOhvDr+enHfz9+9IjGiWq7tul+LiJAgAABAgQIECBAgACBtMA5jYuB9Oi6M1yydfuO0HQgRvoKOQLZF9j5js5+XdWQQM0LPPHGO2HRO5tSDlb/TXHIECBAgAABAgQIECBAYK8EBvbtET565P6pe9zxhMVAUiAyuRMQAMxdl6lwLQs0/dUpzk1x1Kh9a5lE2wkQIECAAAECBAgQINDuAudNGZO65yvL14c5b65O7ZMhkCcBAcA89Za61rTApq3bw73PLEsZxNF/cY4KiQABAgQIECBAgAABAgTaT+DYAweFA/brm7qhxUBSHDI5ExAAzFmHqW7tCvz+uWVh/Zb6IkCXxrjftMa5KSQCBAgQIECAAAECBAgQaF+B9xYDGZ266ayn3wrvbtyW2idDIC8CAoB56Sn1rHmBpo//Hj9uv7D/vr1q3gUAAQIECBAgQIAAAQIEOkIgPnHVvevOJ6621O8IdzZZlLEjynVPAh0hIADYEaruSaCdBd56d1N45JWVqbt+YvKoVF6GAAECBAgQIECAAAECBNpPYHC/nuG0wy0G0n6i7tSZAgKAnamvbAJlCtw5f0loaNh5cr+e3cJph6X/Idp51BYBAgQIECBAgAABAgQItIfA+U0WA3lh2bowf9Ga9ri1exCoqIAAYEW5FUag9QINjZG/mXMXpy48/cjhoXePrql9MgQIECBAgAABAgQIECDQvgJ/ddDgMGZQn9RN75i9MJWXIZAHAQHAPPSSOta0wFOL3w2vrtiQMpju8d+UhwwBAgQIECBAgAABAgQ6QqBL4+qL505JLwZyz1NvhXWbLQbSEd7u2XECAoAdZ+vOBNpFoOnov/jr05SxA9vl3m5CgAABAgQIECBAgAABArsX+OQxo0K3xkBgIW3atj3c/eTSQtYrgVwICADmoptUslYFttRvD795Kv0PS1yJKi5JLxEgQIAAAQIECBAgQIBAxwsM7d8rfHjC0FRBt3sMOOUhk30BAcDs95Ea1rDAHxcsD+9uSg8tP2fSyBoW0XQCBAgQIECAAAECBAhUXuD8qWNShT63dG14pnG6JolAXgQEAPPSU+pZkwIz56UX//jAAYPC6CYT0NYkjEYTIECAAAECBAgQIECgggInjB8SRg7onSrxF0YBpjxksi0gAJjt/lG7GhZYuX5LePDFFSkBi3+kOGQIECBAgAABAgQIECBQEYGuzSwG8psnl4QNW+orUr5CCOytgADg3gq6nkAHCcRJZet3NBTv3rt71/CxI4cX8zYIECBAgAABAgQIECBAoHICnzpmdChZCyRs2Lo93NNkzvbK1UZJBFonIADYOi9nE6iYQNPVf//miP1Dv57dKla+gggQIECAAAECBAgQIEBgp8D++/YKpxz63mIgwxu3L//w+HDiwUN2nmCLQIYFRBMy3DmqVrsCC95aG55v/FOa4uq/EgECBAgQIECAAAECBAh0nsD/d8r4cMEHxoSTDh4a4mPBEoG8CAgA5qWn1LOmBJqO/ou/Lh130OCaMtBYAgQIECBAgAABAgQIZE3g/aMHZK1K6kOgLAGPAJfF5CQClROo374j3NU4/19pmjZxpF+XSkFsEyBAgAABAgQIECBAgAABAmULCACWTeVEApURePjlFSGuAFyarP5bqmGbAAECBAgQIECAAAECBAgQaI2AAGBrtJxLoAICM+cuSZUSh5gfNKRfap8MAQIECBAgQIAAAQIECBAgQKBcAQHAcqWcR6ACAu9u3Bb+9/m3UyUZ/ZfikCFAgAABAgQIECBAgAABAgRaKSAA2EowpxPoSIF7nl4atjbOAVhIPbp2CWceNbyQ9UqAAAECBAgQIECAAAECBAgQaLWAAGCryVxAoOMEZs5bnLr5qYcNDQP69EjtkyFAgAABAgQIECBAgAABAgQItEZAALA1Ws4l0IECr65YH+YvXJMqYfqkUam8DAECBAgQIECAAAECBAgQIECgtQICgK0Vcz6BDhL4dZPRf/v16xFOPHhIB5XmtgQIECBAgAABAgQIECBAgECtCAgA1kpPa2emBbbvaAi/npde/fes948M3RvnAJQIECBAgAABAgQIECBAgAABAnsjILqwN3quJdBOAo+9uiq89e7m1N08/pvikCFAgAABAgQIECBAgAABAgTaKCAA2EY4lxFoT4Gmi39MGL5POGzEPu1ZhHsRIECAAAECBAgQIECAAAECNSogAFijHa/Z2RFYv6U+/M+zy1IVmj5pZCovQ4AAAQIECBAgQIAAAQIECBBoq4AAYFvlXEegnQTufeatsGnb9uLdunapC3H+P4kAAQIECBAgQIAAAQIECBAg0B4CAoDtoegeBPZCYObcxamrP9S48u+Q/j1T+2QIECBAgAABAgQIECBAgAABAm0VEABsq5zrCLSDwKJ3Noa/vP5O6k7TJ49K5WUIECBAgAABAgQIECBAgAABAnsjIAC4N3quJbCXAr+etyR1h317dw8fnjA0tU+GAAECBAgQIECAAAECBAgQILA3AgKAe6PnWgJ7IdDQ0BB+PT/9+O+ZRw8PPbt13Yu7upQAAQIECBAgQIAAAQIECBAgkBYQAEx7yBGomMCcN1eHN1dtTJU3fZLHf1MgMgQIECBAgAABAgQIECBAgMBeCwgA7jWhGxBom0DTxT8OHNI3vH/0gLbdzFUECBAgQIAAAQIECBAgQIAAgRYEBABbgLGbQEcKbN62Pcx6+q1UEXH0X11dXWqfDAECBAgQIECAAAECBAgQIEBgbwUEAPdW0PUE2iDw++eWhXVb6otXxrjfOZNGFvM2CBAgQIAAAQIECBAgQIAAAQLtJSAA2F6S7kOgFQIzm6z+e/xB+4Xh+/ZuxR2cSoAAAQIECBAgQIAAAQIECBAoT0AAsDwnZxFoN4G3124Oj7y8InW/6ZON/kuByBAgQIAAAQIECBAgQIAAAQLtJiAA2G6UbkSgPIE75y8JOxp2ntuvZ7fwkcP337nDFgECBAgQIECAAAECBAgQIECgHQUEANsR060I7EmgoaEhNF3992NH7h/69Oi2p0sdJ0CAAAECBAgQIECAAAECBAi0SUAAsE1sLiLQNoFnlrwbXl6+PnVxXP1XIkCAAAECBAgQIECAAAECBAh0lIAAYEfJui+BZgSajv4bPah3mDJ2UDNn2kWAAAECBAgQIECAAAECBAgQaB8BAcD2cXQXAnsU2Fq/I/zmqaWp886ZOCp06VKX2idDgAABAgQIECBAgAABAgQIEGhPAQHA9tR0LwK7EfjjC8vD6o3bUmd4/DfFIUOAAAECBAgQIECAAAECBAh0gIAAYAeguiWB5gRmzluc2j218dHfMYP7pPbJECBAgAABAgQIECBAgAABAgTaW0AAsL1F3Y9AMwKr1m8JDzSOACxN0yePLM3aJkCAAAECBAgQIECAAAECBAh0iIAAYIewuimBtECc+69+R0NxZ6/uXcLHjhxezNsgQIAAAQIECBAgQIAAAQIECHSUgABgR8m6L4ESgaaP/37k8P1D/17dS86wSYAAAQIECBAgQIAAAQIECBDoGAEBwI5xdVcCRYEXl60Lzy5ZW8zHDYt/pDhkCBAgQIAAAQIECBAgQIAAgQ4UEADsQFy3JhAFmo7+23+fXuH4cfvBIUCAAAECBAgQIECAAAECBAhUREAAsCLMCqlVgfrtO8Kd85ekmn/2xJGha5e61D4ZAgQIECBAgAABAgQIECBAgEBHCQgAdpSs+xJoFPjTyyvDinVbUhafsPpvykOGAAECBAgQIECAAAECBAgQ6FgBAcCO9XX3GheYMW9xSuDoUfuGcUP7p/bJECBAgAABAgQIECBAgAABAgQ6UkAAsCN13bumBd7duC387/NvpwymTx6VyssQIECAAAECBAgQIECAAAECBDpaQACwo4Xdv2YFfvvM0rC1fkex/d271oUzjxpRzNsgQIAAAQIECBAgQIAAAQIECFRCQACwEsrKqEmBmXPTj/9++NBhYWDfHjVpodEECBAgQIAAAQIECBAgQIBA5wkIAHaevZKrWOC1FevDvIVrUi30+G+KQ4YAAQIECBAgQIAAAQIECBCokIAAYIWgFVNbAr+etyTV4MGNI/8+dMiQ1D4ZAgQIECBAgAABAgQIECBAgEAlBAQAK6GsjJoS2LGjIdw5Px0A/Pj7R4TuXf3nVlNvBI0lQIAAAQIECBAgQIAAAQIZERCRyEhHqEb1CDz+2qqwZM2mVIOmT7L6bwpEhgABAgQIECBAgAABAgQIEKiYgABgxagVVCsCM+alF/84dP/+4fAR+9RK87WTAAECBAgQIECAAAECBAgQyJiAAGDGOkR18i2wYUt9+J9nl6UaEUf/1dXVpfbJECBAgAABAgQIECBAgAABAgQqJSAAWClp5dSEwO8ag38bt24vtrVrl7pw1sQRxbwNAgQIECBAgAABAgQIECBAgEClBQQAKy2uvKoWmDk3/fjvieP3C0P796rqNmscAQIECBAgQIAAAQIECBAgkG0BAcBs94/a5Uhg8eqN4bHGBUBK0/TJFv8o9bBNgAABAgQIECBAgAABAgQIVF5AALDy5kqsUoE75y1JtWyfXt3CqROGpfbJECBAgAABAgQIECBAgAABAgQqLSAAWGlx5VWlQENDQ/j1/HQA8IyjR4Re3btWZXs1igABAgQIECBAgAABAgQIEMiPgABgfvpKTTMsMG/h6vD6yg2pGsbVfyUCBAgQIECAAAECBAgQIECAQGcLCAB2dg8ovyoEZsxNj/47cL++YdKYAVXRNo0gQIAAAQIECBAgQIAAAQIE8i0gAJjv/lP7DAhs3rY9/PbppamaxMU/6urqUvtkCBAgQIAAAQIECBAgQIAAAQKdISAA2Bnqyqwqgf99/u2wbnN9sU0x7jdt4shi3gYBAgQIECBAgAABAgQIECBAoDMFBAA7U1/ZVSEwc97iVDv+6qDBYcSA3ql9MgQIECBAgAABAgQIECBAgACBzhIQAOwseeVWhcDytZvDwy+tSLXF4h8pDhkCBAgQIECAAAECBAgQIECgkwUEADu5AxSfb4G7nlwSdjTsbEPfHl3D3xyx/84dtggQIECAAAECBAgQIECAAAECnSwgANjJHaD4/Ao0NDSEmU1W//3okcNDnx7d8tsoNSdAgAABAgQIECBAgAABAgSqTkAAsOq6VIMqJfDc0rXhxbfXpYrz+G+KQ4YAAQIECBAgQIAAAQIECBDIgIAAYAY6QRXyKTBjbnrxj5GNC3984IBB+WyMWhMgQIAAAQIECBAgQIAAAQJVKyAAWLVdq2EdKbC1fkf4zVNLU0VMnzQydOlSl9onQ4AAAQIECBAgQIAAAQIECBDobAEBwM7uAeXnUuDBF5eHdzZsTdX9nEmjUnkZAgQIECBAgAABAgQIECBAgEAWBAQAs9ALzdThzTffDFdeeWU49NBDQ9++fcOgQYPClClTwvXXXx82btzYzBVt2/W73/0uTJs2LYwaNSr07NkzeY35uF9qWaDp47/HvG9gGLtf35YvcIQAAQIECBAgQIAAAQIECBAg0EkClivtJPjdFXvPPfeECy+8MKxdu7Z4Wgz6zZkzJ/lzyy23hFmzZoVx48YVj7d2Y8eOHeGyyy4Lt956a+rSJUuWhPjnrrvuCp/5zGfCD3/4w8bHWsWJS5HiyL8HGkcAlqbpk43+K/WwTYAAAQIECBAgQIAAAQIECGRHQGQnO32R1GT+/Pnh3HPPTYJ//fr1C9dee23485//HO6///7w2c9+NjnnpZdeCqeffnpYty69Am1rmvK1r32tGPybOHFiuP3228Ps2bOT15iPKQYar7766tbctibO/c2TS8K27Q3Ftvbs1iWcftTwYt4GAQIECBAgQIAAAQIECBAgQCBLAnUNjSlLFar1upx44onhT3/6U+jWrVt4+OGHw3HHHZciiY8AX3XVVcm+b3zjG+Gaa65JHS8nEwOIhx9+eKivrw/HHHNMUk7v3r2Ll8bRhieddFIy2jDWY8GCBXs12rB445KNxYsXh9GjRyd7Fi1alDx6XHI405tn3vxIeGbJu8U6nnn0iHDz+e8FTYs7bRAgQIAAAQIECBAgQIAAgQwI5Pn7dwb4qqYKRgBmqCvjCLwY/Ivp0ksv3SX4F/fHeQEnTJgQN8NNN90Utm3blmy35v9uvPHGJPgXr7n55ptDafAv7uvTp0+yP27HIOEPfvCDuCk1Crz09rpU8C+ixNV/JQIECBAgQIAAAQIECBAgQIBAVgUEADPUM3HevUK65JJLCpup1zgf30UXXZTsW7NmTXjggQdSx/eUiQM+77777uS0uMDIscce2+wlcf8hhxySHIvnGyj6HtPMuYtTXkP79wwnjB+S2idDgAABAgQIECBAgAABAgQIEMiSgABghnrjkUceSWoTV/2dPHlyizWLj+cW0qOPPlrYLOv19ddfD0uXLk3OLb1PcxcXjsdFQd54443mTqmpffXbd4Q75y9JtXnaxJGha5e61D4ZAgQIECBAgAABAgQIECBAgECWBAQAM9Qbca69mOLqvnHuvZZSHLlXSIVrCvk9vT7//PPFU0rvU9xZslF6vLXllNymajYfeWVlWL5uS6o9Vv9NccgQIECAAAECBAgQIECAAAECGRRoOcqUwcpWc5U2b94cVq5cmTRx1KhRu23qwIEDQxwluGHDhhAX0GhNipN/FtKeyiks0hHP35tyCuWVvr711lul2Vxsz5yXHv135Mh9w8HD+uei7ipJgAABAgQIECBAgAABAgQI1K6AAGBG+n7dunXFmvTr16+43dJGIQC4fv36lk5pdn9ryollFFJryykNHhbukefXtZu3hfueW5ZqgsU/UhwyBAgQIECAAAECBAgQIECAQEYFPAKckY6JIwALqUePHoXNFl979uyZHNu0aVOL5zR3oDXlFMqI92ltOc2Vned9s55+K2yp31FsQveudeHj77f6bxHEBgECBAgQIECAAAECBAgQIJBZASMAM9I1vXr1KtZk69atxe2WNrZseW8uut69e7d0SrP7W1NOoYx4o9aWs6dHhuMjwFOnTm22jlncedphw8LmbdvDzHmLw7NL1oaTDxkaBvXdc6A2i21RJwIECBAgQIAAAQIECBAgQKC2BAQAM9Lf/fvvnEuunMdt4/x/MZXzuHBpE1tTTqGMtpSzp/kFS+uUh+3B/XqGS44/IPnz4rJ1oaHxfxIBAgQIECBAgAABAgQIECBAIA8CAoAZ6aU4Mm/w4MFh1apVoXShjuaqt3r16mQBkHistXPtlQbm9lRO6Si+1pbTXL2rZd8h++8M1lZLm7SDAAECBAgQIECAAAECBAgQqF4BcwBmqG8PO+ywpDavvPJKqK+vb7FmL7zwQvHYhAkTitvlbBTKiOeW3qe5a0uPt7ac5u5nHwECBAgQIECAAAECBAgQIECAQOUFBAArb95iiR/84AeTY/HR27lz57Z43kMPPVQ8dvzxxxe3y9k44IADwogRI5JTS+/T3LUPP/xwsnvkyJFh7NixzZ1iHwECBAgQIECAAAECBAgQIECAQMYFBAAz1EFnn312sTY//elPi9ulGzt27Ai33XZbsmvAgAHh5JNPLj28x+26urpw1llnJefFEX6PP/54s9fE/YURgPH8eJ1EgAABAgQIECBAgAABAgQIECCQPwEBwAz1WVwV94QTTkhqdOutt4bHHntsl9rdcMMNYcGCBcn+yy+/PHTv3j11zoMPPpgE62LA7uKLL04dK2S++MUvhq5duybZL3zhC2HTpk2FQ8lrzMf9MXXr1i3E8yUCBAgQIECAAAECBAgQIECAAIF8CggAZqzfbrrpptC7d+9kDsDTTjstfOc730lG6T3wwAPhc5/7XLjqqquSGh988MHhyiuvbFPt47Vf+tKXkmvnzJkT4mPEv/zlL0Pcjq8xH7djiueNHz8+2fZ/BAgQIECAAAECBAgQIECAAAEC+ROwCnDG+mzixIlJEO7CCy8Ma9euDV/96ld3qWEM4M2aNSv079/21WivvfbasHz58vCTn/wkzJ8/P5x33nm7lHPppZeGb3/727vst4MAAQIECBAgQIAAAQIECBAgQCA/AkYAZrCvzjzzzPD000+HK664IsRgX58+fUKc7++YY44J1113XRKwGzdu3F7VvEuXLiE+ZhwDiXGOv7gwSI8ePZLXmL/33nvDLbfcEuJ5EgECBAgQIECAAAECBAgQIECAQH4F6hoaU36rr+Z5FVi8eHEYPXp0Uv1FixaFUaNG5bUp6k2AAAECBAgQIECAAAECBDIr4Pt3ZrumohUzvKui3AojQIAAAQIECBAgQIAAAQIECBAgUFkBAcDKeiuNAAECBAgQIECAAAECBAgQIECAQEUFBAAryq0wAgQIECBAgAABAgQIECBAgAABApUVEACsrLfSCBAgQIAAAQIECBAgQIAAAQIECFRUQACwotwKI0CAAAECBAgQIECAAAECBAgQIFBZAQHAynorjQABAgQIECBAgAABAgQIECBAgEBFBQQAK8qtMAIECBAgQIAAAQIECBAgQIAAAQKVFRAArKy30ggQIECAAAECBAgQIECAAAECBAhUVEAAsKLcCiNAgAABAgQIECBAgAABAgQIECBQWQEBwMp6K40AAQIECBAgQIAAAQIECBAgQIBARQUEACvKrTACBAgQIECAAAECBAgQIECAAAEClRUQAKyst9IIECBAgAABAgQIECBAgAABAgQIVFRAALCi3AojQIAAAQIECBAgQIAAAQIECBAgUFkBAcDKeiuNAAECBAgQIECAAAECBAgQIECAQEUFBAAryq0wAgQIECBAgAABAgQIECBAgAABApUVEACsrLfSCBAgQIAAAQIECBAgQIAAAQIECFRUQACwotwKI0CAAAECBAgQIECAAAECBAgQIFBZAQHAynorjQABAgQIECBAgAABAgQIECBAgEBFBQQAK8qtMAIECBAgQIAAAQIECBAgQIAAAQKVFehW2eKURuA9gfr6+iLFW2+9Vdy2QYAAAQIECBAgQIAAAQIECLSfQOl37tLv4u1XgjvlQUAAMA+9VIV1XLFiRbFVU6dOLW7bIECAAAECBAgQIECAAAECBDpGIH4XHzt2bMfc3F0zLeAR4Ex3j8oRIECAAAECBAgQIECAAAECBAgQ2DuBuobGtHe3cDWB1gts3rw5PPPMM8mFQ4YMCd26ZX8wahw2XRitOHv27DB8+PDWN9wVBDIm4H2dsQ5RnXYR8L5uF0Y3yaCA93YGO0WV9lrA+3qvCd0ggwJZe1/Hx34LT+EdeeSRoVevXhlUU6WOFsh+1KWjBdy/UwTiXzhTpkzplLLbo9AY/Bs1alR73Mo9CGRGwPs6M12hIu0o4H3djphulSkB7+1MdYfKtJOA93U7QbpNpgSy8r722G+m3hadUhmPAHcKu0IJECBAgAABAgQIECBAgAABAgQIVEZAALAyzkohQIAAAQIECBAgQIAAAQIECBAg0CkCAoCdwq5QAgQIECBAgAABAgQIECBAgAABApUREACsjLNSCBAgQIAAAQIECBAgQIAAAQIECHSKgABgp7ArlAABAgQIECBAgAABAgQIECBAgEBlBAQAK+OsFAIECBAgQIAAAQIECBAgQIAAAQKdIiAA2CnsCiVAgAABAgQIECBAgAABAgQIECBQGYG6hsZUmaKUQoAAAQIECBAgQIAAAQIECBAgQIBApQWMAKy0uPIIECBAgAABAgQIECBAgAABAgQIVFBAALCC2IoiQIAAAQIECBAgQIAAAQIECBAgUGkBAcBKiyuPAAECBAgQIECAAAECBAgQIECAQAUFBAAriK0oAgQIECBAgAABAgQIECBAgAABApUWEACstLjyCBAgQIAAAQIECBAgQIAAAQIECFRQQACwgtiKIkCAAAECBAgQIECAAAECBAgQIFBpAQHASosrjwABAgQIECBAgAABAgQIECBAgEAFBQQAK4itKAIECBAgQIAAAQIECBAgQIAAAQKVFhAArLS48ggQIECAAAECBAgQIECAAAECBAhUUEAAsILYiiJAgAABAgQIECBAgAABAgQIECBQaQEBwEqLKy+XAm+++Wa48sorw6GHHhr69u0bBg0aFKZMmRKuv/76sHHjxly2SaVrU2DOnDnhW9/6VjjttNPCqFGjQs+ePUO/fv3CwQcfHC655JLwyCOP1CaMVletwJe//OVQV1dX/PPggw9WbVs1rPoFFi5cGL7xjW+EY445JgwZMiT06tUrjB49Opxwwgnh61//enj22WerH0ELq0Zg69at4ZZbbgkf+chHwvDhw4ufSQ455JDkM8mf//znqmmrhuRbYPny5eG3v/1t8vfsRz/60bDffvsVP1dcfPHFrW7c7373uzBt2rTiZ/H4mTzm436JQEcK1DU0po4swL0J5F3gnnvuCRdeeGFYu3Zts02JgZNZs2aFcePGNXvcTgJZETjxxBPDn/70pz1W56KLLgo//vGPQ48ePfZ4rhMIZFngySefTH6sqa+vL1bzgQceCB/60IeKeRsE8iJw8803h6985Sthw4YNLVb58ssvDzfeeGOLxx0gkBWB+OP66aefHp577rndVukLX/hCuOmmm5Jgy25PdJBABwrEHxJbSp/+9KfDz372s5YOp/bv2LEjXHbZZeHWW29N7S/NfOYznwk//OEPQ5cuxmqVuthuHwHvqvZxdJcqFZg/f34499xzk+BfHCV17bXXhvhr5P333x8++9nPJq1+6aWXkg8w69atq1IFzaoWgaVLlyZNGTFiRIhfEmfMmBFmz54dHnvssfD9738/jBw5Mjl+2223hbb8mlktTtpRHQKFD9kx+Dd06NDqaJRW1KzAt7/97fCP//iPSfAv/vAYn0CIo1nj55Q//OEPSf6v/uqvfGGs2XdIvhq+bdu2VPDvqKOOSgIo8fPIfffdl4yyik/cxBQD39ddd12+Gqi2VS0wZsyY5EmatjTya1/7WjH4N3HixHD77bcnn8Xja8zHFEfFXn311W25vWsI7FHACMA9EjmhlgUKI6a6desWHn744XDcccelOOIH8KuuuirZFx/Jueaaa1LHZQhkSeCMM84IcXTf9OnTQ9euXXep2sqVK8Pxxx8fYlA7poceeijE/wYkAnkUiKOgrrjiimTqhvhYzXe+852kGUYA5rE3a7vO8UfHU089NUGIf4fHL4fdu3dvFiU+Umn0drM0dmZIIP4A+clPfjKpUfxsHZ9OaPq5ZO7cucnn7hgsHDBgQFixYkWIn8clAp0hEL/nxemf4p9hw4aFN954IxxwwAFJVcodARg/Xx9++OEh/jAZp3GI3y179+5dbE6cVuqkk04Kcbqe+F5fsGCBJ8yKOjbaS8AIwPaSdJ+qE4gjowqPS1566aW7BP9ig+O8gBMmTEjaHh9PiB9SJAJZFYhzl3zqU5/a5UN2ob5xPpMbbrihkE1GCBYzNgjkSCDOk/bP//zPSY3/4z/+Q0AkR32nqmmBOJL1H/7hH5KdRx99dDJypKXgXzxJ8C/tJ5dNgdK5/eJj7U2Df7HWkydPDvGHy5jWrFmTBEOSjP8j0AkC3/zmN5P3Ywz+tTXFHyYLU5LEka2lwb94zz59+iQjXuN2PO8HP/hB3JQItKuAAGC7crpZNQncddddxebExRGaS3FuhvhrfEzxw0kcWSIRyLPAySefXKz+q6++Wty2QSBPAp///OfD+vXrQ/xVPv6aLhHIq0B8HPLll19Oqh8XtDECKq89qd6lAnGkaiEdeOCBhc1dXg866KDivtJrijttEMiJQFx24e67705qGxeVPPbYY5utedwfF8GJKZ5vuYZmmezcCwEBwL3Ac2l1CxRWQ41zkMRfIVtKpV8uH3300ZZOs59ALgS2bNlSrGdzv8gXD9ogkFGBX/3qV8lKfXG19u9973sZraVqEShP4L//+7+TE+ME9IXRUHHHO++8kwQG46tEIG8ChQBHrPdrr73WYvULP0TG9//48eNbPM8BAlkXeP3110NhLu7S747N1btwfMmSJcmjxs2dYx+BtgoIALZVznVVLxDnXYgpru67u1/c4684hVS4ppD3SiBvAnHev0IqPN5eyHslkHWBOBI7LnATU5w0Pj7WLhHIs8Djjz+eVH/s2LGhf//+4Re/+EU48sgjw+DBg0NcDCS+xmBKDHaX/oCT5zare/ULnH/++WGfffZJGhr/rt6+ffsujY4L3MyaNSvZf8EFFxTP3+VEOwjkQOD5558v1rL0u2NxZ8lG6XHfLUtgbLaLgABguzC6SbUJbN68OcQFEWIaNWrUbps3cODAUFipbNGiRbs910ECWRaIc01997vfLVYxzhcoEciTQFyUadmyZcliNnHuVolAngXi38kvvPBC0oQYzI7B7b/9278Nzz77bKpZcWL5L33pS+GUU05JpiNJHZQhkEGB+H7+r//6r2TOs/j0TFxY4bbbbgsx4B1XtY7zrcVRUPGx30mTJqXmJ85gc1SJwB4FFi9eXDxnT98tR48eXTzXd8sihY12EhAAbCdIt6kugXXr1hUb1K9fv+J2SxuFAGCcc0oikFeBONlwXPwmpnPOOWe3j77ntY3qXb0CcdGmuDpqHLEdF/6Ij4xJBPIs8O6774YYBIzpmWeeCf/2b/8Whg8fHn7+858njwDHFSPjqO3CXFJxYYW/+7u/y3OT1b2GBD7+8Y+HuNLvZz7zmfDkk08mc7bGFYH/+q//OlxzzTVJcDAumhD/bt+bhRdqiFRTMyzQmu+Whe+VsTm+W2a4U3NaNQHAnHacanesQBwBWEjlrKjXs2fP5PRNmzYVLvNKIFcC8UvkP/3TPyV1Hjp0aPj3f//3XNVfZWtbII4Sueyyy5LJsq+44opwxBFH1DaI1leFwIYNG4rtiJ9L4gqRcbGxOAowPn0QV5A88cQTwx//+McQVwiO6c477wx/+ctfitfZIJBVgfj3dhz119JCB2+//XYS7I4jAiUCeRdozXfLwvfK2GbfLfPe89mrvwBg9vpEjTIg0KtXr2Ityll1rDDvTtPl3Is3sUEgwwLPPfdcmDZtWqivrw/xvR8nnY9BQIlAXgT+9V//NXlUcsyYMeEb3/hGXqqtngR2K1D6WSSeGEdKlS6eULg4fva49tprC9nwy1/+srhtg0AWBWJw+9RTTw3f+c53ktGscfqGONdZ/DwdR77G1a8/+MEPhjlz5oSzzz47fP/7389iM9SJQNkCpX+f7+m7ZeF7Zby575ZlEzuxTAEBwDKhnFZbAnGi7UIqZ+h14Vf6ch4XLtzXK4EsCMRVyU477bSwevXqEFf9veOOO5IRJVmomzoQKEcgzpEWv0TGdPPNNxfnZC3nWucQyLJA6WeRWM/4d3VL6cMf/nBxwbInnniipdPsJ5AJgfiIb3y0N6Zbb701WbQpLnwQn7qJi4PEx4DjaNeTTz45Gdkd57h86qmnMlF3lSDQFoHSv8/39N2y8L0yluO7ZVu0XbM7gW67O+gYgVoViL/SxJX1Vq1aFUonbW3OIwZOCn9Rl07a2ty59hHIksDSpUuTX+Dja5wv7Sc/+Uk466yzslRFdSGwR4E4d2X8Nf3AAw8McU60GMRumkoXTYiPS8aFQmI688wzBQybYslnRiA+BjZkyJCwYsWKpE67+4wRP7fEhRXie7twfmYaoiIESgQaGhqSzxtxV1zJ+tOf/nTJ0Z2bcT7Xf/mXf0lGAsa5MH/2s5+F+Pe9RCCPAqULf+zpu2Xpwh+7+3s/jw7q3PkCAoCd3wdqkFGBww47LPl18pVXXkkejYwfRJpLhRX64rEJEyY0d4p9BDInEFe5jr+wv/baa0nd4sipiy66KHP1VCECexIoPCoT38vnn3/+nk5PvlAWToojYEsn2y7s90ogKwKHH354ePDBB5PqbN++fbfVKhxv6fPKbi92kECFBOLcfu+8805S2sSJE3db6uTJk4vHSz9vF3faIJATgfi9spD29F4uPe67ZUHNa3sJeAS4vSTdp+oE4twjMcXRfXGVspZSXDyhkI4//vjCplcCmRWI8+t85CMfCc8//3xSx+9+97vh85//fGbrq2IECBCoVYG4yEchFX6wKeRLX9euXRviDzsxjRw5svSQbQKZEigNUMe5h3eXtm3bVjxcel1xpw0CORE44IADwogRI5Laln53bK76Dz/8cLI7/l0+duzY5k6xj0CbBQQA20znwmoXiJMOF9JPf/rTwmbqNT6SEFcwi2nAgAHJXCWpE2QIZEwgPiJ5+umnh3nz5iU1+9rXvha+/OUvZ6yWqkOgfIH4WFh8pGx3f0oXBonzShXO9cG6fGdndo7A9OnTiwXHFX5bSvFYfF/HdMIJJ7R0mv0EOl1g0KBByTx/sSKPPfZY8pRNS5UqDZTEAIpEIK8CcaqdwjQ7cYTf448/3mxT4v7CCMB4frxOItCeAgKA7anpXlUlMHXq1OKH6DhBcfyQ0jTdcMMNyaplcf/ll18eunfv3vQUeQKZEYjzpMXVfh999NGkTvE9++1vfzsz9VMRAgQIEEgLHHXUUeGjH/1osvP2228P999/f/qExlyc9+/qq69O9sdFFC655JJdzrGDQFYEunTpkvwQGesT5yAuXcG6tI5xju3SHyjPOOOM0sO2CeRO4Itf/GKy4F6s+Be+8IWwadOmVBtiPu6PKY54jedLBNpboPlJzdq7FPcjkFOBm266KcTHeuNfyHH1va9+9avJKL+YjxPN/+hHP0paFicxvvLKK3PaStWuFYE4P9p9992XNPeUU04Jl156aShdHKGpQ/wiGd/bEgECBAh0nsCNN96Y/Ai5Zs2aEIMg8Uvhxz72sdC7d+8we/bsZBXswqTycdEEjwB3Xl8puTyBr3/96+Huu+9OFm6KKwLHqXbiYiBxMafNmzcno6Pi+37hwoXJDeMq17tbBbu8Up1FoO0CjzzySIjzwhdSYcqFmI/749MIpeniiy8uzSbb8TN1XNE6Tr0zZ86c5DtmDHIfdNBB4dVXX01Ww54/f35ybjxv/Pjxu9zDDgJ7K1DX+LjAe88L7O2dXE+gSgXuueeecOGFF4Y4v05zKf5lPmvWrDBu3LjmDttHIDMCrX2M4H3ve1944403MlN/FSHQVoH4BfOb3/xmcnl8BPhDH/pQW2/lOgKdIhC/fH7iE58IcQGF5lL8+z1O6RADgBKBPAj84Q9/SBZuKg2kNFfv+IPljBkzwsCBA5s7bB+BigjEgN5//ud/ll1WSyGWOH3UZz/72eJK2M3dMP5AHweZxNGyEoH2FvCuam9R96s6gTPPPDM8/fTT4YorrkhGQ/Xp0yeZ7++YY44p/lIj+Fd13a5BBAgQIEAgMwJxYbLnnnsuxPksjz766GQOtV69eoU4L1p85DeOoBL8y0x3qUgZAqeeemoy19l1112X/CgzZMiQZCqdOLI1vq8/9alPhbvuuivEQKHgXxmgTsmFQAzqxaml4uCROMdfXBgkPnETX2P+3nvvDbfccovgXy56M5+VNAIwn/2m1gQIECBAgAABAgQIECBAgAABAgTKEjACsCwmJxEgQIAAAQIECBAgQIAAAQIECBDIp4AAYD77Ta0JECBAgAABAgQIECBAgAABAgQIlCUgAFgWk5MIECBAgAABAgQIECBAgAABAgQI5FNAADCf/abWBAgQIECAAAECBAgQIECAAAECBMoSEAAsi8lJBAgQIECAAAECBAgQIECAAAECBPIpIACYz35TawIECBAgQIAAAQIECBAgQIAAAQJlCQgAlsXkJAIECBAgQIAAAQIECBAgQIAAAQL5FBAAzGe/qTUBAgQIECBAgAABAgQIECBAgACBsgQEAMtichIBAgQIECBAgAABAgQIECBAgACBfAoIAOaz39SaAAECBAgQIECAAAECBAgQIECAQFkCAoBlMTmJAAECBAgQIECAAAECBAgQIECAQD4FBADz2W9qTYAAAQIECBAgQIAAAQIECBAgQKAsAQHAspicRIAAAQIECBAgQIAAAQIECBAgQCCfAgKA+ew3tSZAgAABAgQIECBAgAABAgQIECBQloAAYFlMTiJAgAABAgQIECBAgAABAgQIECCQTwEBwHz2m1oTIECAAAECBAgQIECAAAECBAgQKEtAALAsJicRIECAAAECBAgQIECAAAECBAgQyKeAAGA++02tCRAgQIAAAQIECBAgQIAAAQIECJQlIABYFpOTCBAgQIAAAQIECBAgQIAAAQIECORTQAAwn/2m1gQIECBAgAABAgQIECBAgAABAgTKEhAALIvJSQQIECBAgAABAgQIECBAgAABAgTyKSAAmM9+U2sCBAgQIECAAAECBAgQIECAAAECZQkIAJbF5CQCBAgQIECAAAECBAgQIECAAAEC+RQQAMxnv6k1AQIECBAgQIAAAQIECBAgQIAAgbIEBADLYnISAQIECBAgQIAAAQIECBAgQIAAgXwKCADms9/UmgABAgQIECBAgAABAgQIECBAgEBZAgKAZTE5iQABAgQIECBAgAABAgQIECBAgEA+BQQA89lvak2AAAECBAgQIECAAAECBAgQIECgLAEBwLKYnESAAAECBAgQIECAAAECBAgQIEAgnwICgPnsN7UmQIAAAQIECBAgQIAAAQIECBAgUJaAAGBZTE4iQIAAAQIECBAgQIAAAQIECBAgkE8BAcB89ptaEyBAgAABAgQIECBAgAABAgQIEChLQACwLCYnESBAgAABAgQIECBAgAABAgQIEMingABgPvtNrQkQIECAAAECBAgQIECAAAECBAiUJSAAWBaTkwgQIECAAAECBAgQIECAAAECBAjkU0AAMJ/9ptYECBAgQIAAAQIECBAgQIAAAQIEyhIQACyLyUkECBAgQIAAAQIECBAgQIAAAQIE8ikgAJjPflNrAgQIECBAgAABAgQIECBAgAABAmUJCACWxeQkAgQIECBAgAABAgQIECBAgAABAvkUEADMZ7+pNQECBAgQIECAAAECBAgQIECAAIGyBAQAy2JyEgECBAgQIECAAAECBAgQIECAAIF8CggA5rPf1JoAAQIECBAgQIAAAQIECBAgQIBAWQICgGUxOYkAAQIECBAgQIAAAQIECBAgQIBAPgUEAPPZb2pNgAABAgQIECBAgAABAgQIECBAoCwBAcCymJxEgAABAgQIECBAgAABAgQIECBAIJ8CAoD57De1JkCAAAECBAgQIECAAAECBAgQIFCWgABgWUxOIkCAAAECBAgQIECAAAECBAgQIJBPAQHAfPabWhMgQIAAAQIECBAgQIAAAQIECBAoS0AAsCwmJxEgQIAAAQIECBAgQIAAAQIECBDIp4AAYD77Ta0JECBAgAABAgQIECBAgAABAgQIlCUgAFgWk5MIECBAgAABAgQIECBAgAABAgQI5FNAADCf/abWBAgQIECAAAECBAgQIECAAAECBMoSEAAsi8lJBAgQIECAAAECBAgQIECAAAECBPIpIACYz35TawIECBAgQIAAAQIECBAgQIAAAQJlCQgAlsXkJAIECBAgQIAAAQIECBAgQIAAAQL5FBAAzGe/qTUBAgQIECBAgAABAgQIECBAgACBsgQEAMtichIBAgQIECBAgAABAgQIECBAgACBfAoIAOaz39SaAAECBAgQIECAAAECBAgQIECAQFkCAoBlMTmJAAECBAgQIECAAAECBAgQIECAQD4FBADz2W9qTYAAAQIECBAgQIAAAQIECBAgQKAsAQHAspicRIAAAQIECBAgQIAAAQIECBAgQCCfAgKA+ew3tSZAgAABAgQIECBAgAABAgQIECBQloAAYFlMTiJAgAABAgQIECBAgAABAgQIECCQT4H/Hx3ibRI0B/Y2AAAAAElFTkSuQmCC\" width=\"640\">"
      ],
      "text/plain": [
       "<IPython.core.display.HTML object>"
      ]
     },
     "metadata": {},
     "output_type": "display_data"
    },
    {
     "data": {
      "text/plain": [
       "[<matplotlib.lines.Line2D at 0x11cde68d0>]"
      ]
     },
     "execution_count": 152,
     "metadata": {},
     "output_type": "execute_result"
    }
   ],
   "source": [
    "%matplotlib notebook\n",
    "import matplotlib.pyplot as plt\n",
    "import math\n",
    "\n",
    "# initial conditions\n",
    "g = 9.8\n",
    "h = 0.\n",
    "theta = (45./180.)*math.pi\n",
    "v0 = 10.\n",
    "dt=0.1\n",
    "        \n",
    "#compute velocity components\n",
    "v0x = v0*math.cos(theta)\n",
    "v0y = v0*math.sin(theta)\n",
    "print(\"v0_x: %.3f m/s \\t v0_y: %.3f m/s\"%(v0x,v0y))\n",
    "\n",
    "t=0.\n",
    "x=[]\n",
    "y=[]\n",
    "xi=0\n",
    "yi=h\n",
    "\n",
    "while yi>=0:\n",
    "    x.append(xi)\n",
    "    y.append(yi)\n",
    "    t+=dt\n",
    "    xi=v0x*t\n",
    "    yi=h+v0y*t-0.5*g*t*t\n",
    "\n",
    "#print(x,y)\n",
    "plt.plot(x,y)"
   ]
  },
  {
   "cell_type": "markdown",
   "metadata": {},
   "source": [
    "To make it more flexible we could ask the user to provide initial conditons"
   ]
  },
  {
   "cell_type": "code",
   "execution_count": 153,
   "metadata": {
    "scrolled": true
   },
   "outputs": [
    {
     "name": "stdout",
     "output_type": "stream",
     "text": [
      "angle theta in [0,90] degrees: \n"
     ]
    },
    {
     "ename": "ValueError",
     "evalue": "could not convert string to float: ",
     "output_type": "error",
     "traceback": [
      "\u001b[0;31m---------------------------------------------------------------------------\u001b[0m",
      "\u001b[0;31mValueError\u001b[0m                                Traceback (most recent call last)",
      "\u001b[0;32m<ipython-input-153-fe9565eae16a>\u001b[0m in \u001b[0;36m<module>\u001b[0;34m\u001b[0m\n\u001b[1;32m     12\u001b[0m \u001b[0mtheta\u001b[0m \u001b[0;34m=\u001b[0m \u001b[0;36m45.\u001b[0m\u001b[0;34m\u001b[0m\u001b[0m\n\u001b[1;32m     13\u001b[0m \u001b[0;32mwhile\u001b[0m \u001b[0;32mTrue\u001b[0m\u001b[0;34m:\u001b[0m\u001b[0;34m\u001b[0m\u001b[0m\n\u001b[0;32m---> 14\u001b[0;31m     \u001b[0mtheta\u001b[0m \u001b[0;34m=\u001b[0m \u001b[0mfloat\u001b[0m\u001b[0;34m(\u001b[0m\u001b[0minput\u001b[0m\u001b[0;34m(\u001b[0m\u001b[0;34m\"angle theta in [0,90] degrees: \"\u001b[0m\u001b[0;34m)\u001b[0m\u001b[0;34m)\u001b[0m\u001b[0;34m\u001b[0m\u001b[0m\n\u001b[0m\u001b[1;32m     15\u001b[0m     \u001b[0;32mif\u001b[0m\u001b[0;34m(\u001b[0m\u001b[0mtheta\u001b[0m\u001b[0;34m>\u001b[0m\u001b[0;36m0\u001b[0m \u001b[0;32mand\u001b[0m \u001b[0mtheta\u001b[0m\u001b[0;34m<\u001b[0m\u001b[0;36m90\u001b[0m\u001b[0;34m)\u001b[0m\u001b[0;34m:\u001b[0m \u001b[0;32mbreak\u001b[0m\u001b[0;34m\u001b[0m\u001b[0m\n\u001b[1;32m     16\u001b[0m \u001b[0mtheta\u001b[0m \u001b[0;34m=\u001b[0m \u001b[0;34m(\u001b[0m\u001b[0mtheta\u001b[0m\u001b[0;34m/\u001b[0m\u001b[0;36m180.\u001b[0m\u001b[0;34m)\u001b[0m\u001b[0;34m*\u001b[0m\u001b[0mmath\u001b[0m\u001b[0;34m.\u001b[0m\u001b[0mpi\u001b[0m\u001b[0;34m\u001b[0m\u001b[0m\n",
      "\u001b[0;31mValueError\u001b[0m: could not convert string to float: "
     ]
    }
   ],
   "source": [
    "%matplotlib notebook\n",
    "import matplotlib.pyplot as plt\n",
    "import math\n",
    "\n",
    "# initial conditions\n",
    "g = 9.8\n",
    "h = 0.\n",
    "\n",
    "v0 = 10.\n",
    "dt=0.1\n",
    "\n",
    "theta = 45.\n",
    "while True:\n",
    "    theta = float(input(\"angle theta in [0,90] degrees: \"))\n",
    "    if(theta>0 and theta<90): break\n",
    "theta = (theta/180.)*math.pi\n",
    "\n",
    "#compute velocity components\n",
    "v0x = v0*math.cos(theta)\n",
    "v0y = v0*math.sin(theta)\n",
    "print(\"v0_x: %.3f m/s \\t v0_y: %.3f m/s\"%(v0x,v0y))\n",
    "\n",
    "t=0.\n",
    "x=[]\n",
    "y=[]\n",
    "xi=0\n",
    "yi=h\n",
    "\n",
    "while yi>=0:\n",
    "    x.append(xi)\n",
    "    y.append(yi)\n",
    "    t+=dt\n",
    "    xi=v0x*t\n",
    "    yi=h+v0y*t-0.5*g*t*t\n",
    "\n",
    "#print(x,y)\n",
    "plt.plot(x,y)"
   ]
  },
  {
   "cell_type": "markdown",
   "metadata": {},
   "source": [
    "### To make it more user friendly we could provide a default value for the angle!\n",
    "We do this by providing a default and pressing return w/o any input"
   ]
  },
  {
   "cell_type": "code",
   "execution_count": 154,
   "metadata": {},
   "outputs": [
    {
     "name": "stdout",
     "output_type": "stream",
     "text": [
      "angle theta in [0,90] degrees (press return for 45.0 degree): \n",
      "v0_x: 7.071 m/s \t v0_y: 7.071 m/s\n"
     ]
    },
    {
     "data": {
      "application/javascript": [
       "/* Put everything inside the global mpl namespace */\n",
       "window.mpl = {};\n",
       "\n",
       "\n",
       "mpl.get_websocket_type = function() {\n",
       "    if (typeof(WebSocket) !== 'undefined') {\n",
       "        return WebSocket;\n",
       "    } else if (typeof(MozWebSocket) !== 'undefined') {\n",
       "        return MozWebSocket;\n",
       "    } else {\n",
       "        alert('Your browser does not have WebSocket support.' +\n",
       "              'Please try Chrome, Safari or Firefox ≥ 6. ' +\n",
       "              'Firefox 4 and 5 are also supported but you ' +\n",
       "              'have to enable WebSockets in about:config.');\n",
       "    };\n",
       "}\n",
       "\n",
       "mpl.figure = function(figure_id, websocket, ondownload, parent_element) {\n",
       "    this.id = figure_id;\n",
       "\n",
       "    this.ws = websocket;\n",
       "\n",
       "    this.supports_binary = (this.ws.binaryType != undefined);\n",
       "\n",
       "    if (!this.supports_binary) {\n",
       "        var warnings = document.getElementById(\"mpl-warnings\");\n",
       "        if (warnings) {\n",
       "            warnings.style.display = 'block';\n",
       "            warnings.textContent = (\n",
       "                \"This browser does not support binary websocket messages. \" +\n",
       "                    \"Performance may be slow.\");\n",
       "        }\n",
       "    }\n",
       "\n",
       "    this.imageObj = new Image();\n",
       "\n",
       "    this.context = undefined;\n",
       "    this.message = undefined;\n",
       "    this.canvas = undefined;\n",
       "    this.rubberband_canvas = undefined;\n",
       "    this.rubberband_context = undefined;\n",
       "    this.format_dropdown = undefined;\n",
       "\n",
       "    this.image_mode = 'full';\n",
       "\n",
       "    this.root = $('<div/>');\n",
       "    this._root_extra_style(this.root)\n",
       "    this.root.attr('style', 'display: inline-block');\n",
       "\n",
       "    $(parent_element).append(this.root);\n",
       "\n",
       "    this._init_header(this);\n",
       "    this._init_canvas(this);\n",
       "    this._init_toolbar(this);\n",
       "\n",
       "    var fig = this;\n",
       "\n",
       "    this.waiting = false;\n",
       "\n",
       "    this.ws.onopen =  function () {\n",
       "            fig.send_message(\"supports_binary\", {value: fig.supports_binary});\n",
       "            fig.send_message(\"send_image_mode\", {});\n",
       "            if (mpl.ratio != 1) {\n",
       "                fig.send_message(\"set_dpi_ratio\", {'dpi_ratio': mpl.ratio});\n",
       "            }\n",
       "            fig.send_message(\"refresh\", {});\n",
       "        }\n",
       "\n",
       "    this.imageObj.onload = function() {\n",
       "            if (fig.image_mode == 'full') {\n",
       "                // Full images could contain transparency (where diff images\n",
       "                // almost always do), so we need to clear the canvas so that\n",
       "                // there is no ghosting.\n",
       "                fig.context.clearRect(0, 0, fig.canvas.width, fig.canvas.height);\n",
       "            }\n",
       "            fig.context.drawImage(fig.imageObj, 0, 0);\n",
       "        };\n",
       "\n",
       "    this.imageObj.onunload = function() {\n",
       "        fig.ws.close();\n",
       "    }\n",
       "\n",
       "    this.ws.onmessage = this._make_on_message_function(this);\n",
       "\n",
       "    this.ondownload = ondownload;\n",
       "}\n",
       "\n",
       "mpl.figure.prototype._init_header = function() {\n",
       "    var titlebar = $(\n",
       "        '<div class=\"ui-dialog-titlebar ui-widget-header ui-corner-all ' +\n",
       "        'ui-helper-clearfix\"/>');\n",
       "    var titletext = $(\n",
       "        '<div class=\"ui-dialog-title\" style=\"width: 100%; ' +\n",
       "        'text-align: center; padding: 3px;\"/>');\n",
       "    titlebar.append(titletext)\n",
       "    this.root.append(titlebar);\n",
       "    this.header = titletext[0];\n",
       "}\n",
       "\n",
       "\n",
       "\n",
       "mpl.figure.prototype._canvas_extra_style = function(canvas_div) {\n",
       "\n",
       "}\n",
       "\n",
       "\n",
       "mpl.figure.prototype._root_extra_style = function(canvas_div) {\n",
       "\n",
       "}\n",
       "\n",
       "mpl.figure.prototype._init_canvas = function() {\n",
       "    var fig = this;\n",
       "\n",
       "    var canvas_div = $('<div/>');\n",
       "\n",
       "    canvas_div.attr('style', 'position: relative; clear: both; outline: 0');\n",
       "\n",
       "    function canvas_keyboard_event(event) {\n",
       "        return fig.key_event(event, event['data']);\n",
       "    }\n",
       "\n",
       "    canvas_div.keydown('key_press', canvas_keyboard_event);\n",
       "    canvas_div.keyup('key_release', canvas_keyboard_event);\n",
       "    this.canvas_div = canvas_div\n",
       "    this._canvas_extra_style(canvas_div)\n",
       "    this.root.append(canvas_div);\n",
       "\n",
       "    var canvas = $('<canvas/>');\n",
       "    canvas.addClass('mpl-canvas');\n",
       "    canvas.attr('style', \"left: 0; top: 0; z-index: 0; outline: 0\")\n",
       "\n",
       "    this.canvas = canvas[0];\n",
       "    this.context = canvas[0].getContext(\"2d\");\n",
       "\n",
       "    var backingStore = this.context.backingStorePixelRatio ||\n",
       "\tthis.context.webkitBackingStorePixelRatio ||\n",
       "\tthis.context.mozBackingStorePixelRatio ||\n",
       "\tthis.context.msBackingStorePixelRatio ||\n",
       "\tthis.context.oBackingStorePixelRatio ||\n",
       "\tthis.context.backingStorePixelRatio || 1;\n",
       "\n",
       "    mpl.ratio = (window.devicePixelRatio || 1) / backingStore;\n",
       "\n",
       "    var rubberband = $('<canvas/>');\n",
       "    rubberband.attr('style', \"position: absolute; left: 0; top: 0; z-index: 1;\")\n",
       "\n",
       "    var pass_mouse_events = true;\n",
       "\n",
       "    canvas_div.resizable({\n",
       "        start: function(event, ui) {\n",
       "            pass_mouse_events = false;\n",
       "        },\n",
       "        resize: function(event, ui) {\n",
       "            fig.request_resize(ui.size.width, ui.size.height);\n",
       "        },\n",
       "        stop: function(event, ui) {\n",
       "            pass_mouse_events = true;\n",
       "            fig.request_resize(ui.size.width, ui.size.height);\n",
       "        },\n",
       "    });\n",
       "\n",
       "    function mouse_event_fn(event) {\n",
       "        if (pass_mouse_events)\n",
       "            return fig.mouse_event(event, event['data']);\n",
       "    }\n",
       "\n",
       "    rubberband.mousedown('button_press', mouse_event_fn);\n",
       "    rubberband.mouseup('button_release', mouse_event_fn);\n",
       "    // Throttle sequential mouse events to 1 every 20ms.\n",
       "    rubberband.mousemove('motion_notify', mouse_event_fn);\n",
       "\n",
       "    rubberband.mouseenter('figure_enter', mouse_event_fn);\n",
       "    rubberband.mouseleave('figure_leave', mouse_event_fn);\n",
       "\n",
       "    canvas_div.on(\"wheel\", function (event) {\n",
       "        event = event.originalEvent;\n",
       "        event['data'] = 'scroll'\n",
       "        if (event.deltaY < 0) {\n",
       "            event.step = 1;\n",
       "        } else {\n",
       "            event.step = -1;\n",
       "        }\n",
       "        mouse_event_fn(event);\n",
       "    });\n",
       "\n",
       "    canvas_div.append(canvas);\n",
       "    canvas_div.append(rubberband);\n",
       "\n",
       "    this.rubberband = rubberband;\n",
       "    this.rubberband_canvas = rubberband[0];\n",
       "    this.rubberband_context = rubberband[0].getContext(\"2d\");\n",
       "    this.rubberband_context.strokeStyle = \"#000000\";\n",
       "\n",
       "    this._resize_canvas = function(width, height) {\n",
       "        // Keep the size of the canvas, canvas container, and rubber band\n",
       "        // canvas in synch.\n",
       "        canvas_div.css('width', width)\n",
       "        canvas_div.css('height', height)\n",
       "\n",
       "        canvas.attr('width', width * mpl.ratio);\n",
       "        canvas.attr('height', height * mpl.ratio);\n",
       "        canvas.attr('style', 'width: ' + width + 'px; height: ' + height + 'px;');\n",
       "\n",
       "        rubberband.attr('width', width);\n",
       "        rubberband.attr('height', height);\n",
       "    }\n",
       "\n",
       "    // Set the figure to an initial 600x600px, this will subsequently be updated\n",
       "    // upon first draw.\n",
       "    this._resize_canvas(600, 600);\n",
       "\n",
       "    // Disable right mouse context menu.\n",
       "    $(this.rubberband_canvas).bind(\"contextmenu\",function(e){\n",
       "        return false;\n",
       "    });\n",
       "\n",
       "    function set_focus () {\n",
       "        canvas.focus();\n",
       "        canvas_div.focus();\n",
       "    }\n",
       "\n",
       "    window.setTimeout(set_focus, 100);\n",
       "}\n",
       "\n",
       "mpl.figure.prototype._init_toolbar = function() {\n",
       "    var fig = this;\n",
       "\n",
       "    var nav_element = $('<div/>')\n",
       "    nav_element.attr('style', 'width: 100%');\n",
       "    this.root.append(nav_element);\n",
       "\n",
       "    // Define a callback function for later on.\n",
       "    function toolbar_event(event) {\n",
       "        return fig.toolbar_button_onclick(event['data']);\n",
       "    }\n",
       "    function toolbar_mouse_event(event) {\n",
       "        return fig.toolbar_button_onmouseover(event['data']);\n",
       "    }\n",
       "\n",
       "    for(var toolbar_ind in mpl.toolbar_items) {\n",
       "        var name = mpl.toolbar_items[toolbar_ind][0];\n",
       "        var tooltip = mpl.toolbar_items[toolbar_ind][1];\n",
       "        var image = mpl.toolbar_items[toolbar_ind][2];\n",
       "        var method_name = mpl.toolbar_items[toolbar_ind][3];\n",
       "\n",
       "        if (!name) {\n",
       "            // put a spacer in here.\n",
       "            continue;\n",
       "        }\n",
       "        var button = $('<button/>');\n",
       "        button.addClass('ui-button ui-widget ui-state-default ui-corner-all ' +\n",
       "                        'ui-button-icon-only');\n",
       "        button.attr('role', 'button');\n",
       "        button.attr('aria-disabled', 'false');\n",
       "        button.click(method_name, toolbar_event);\n",
       "        button.mouseover(tooltip, toolbar_mouse_event);\n",
       "\n",
       "        var icon_img = $('<span/>');\n",
       "        icon_img.addClass('ui-button-icon-primary ui-icon');\n",
       "        icon_img.addClass(image);\n",
       "        icon_img.addClass('ui-corner-all');\n",
       "\n",
       "        var tooltip_span = $('<span/>');\n",
       "        tooltip_span.addClass('ui-button-text');\n",
       "        tooltip_span.html(tooltip);\n",
       "\n",
       "        button.append(icon_img);\n",
       "        button.append(tooltip_span);\n",
       "\n",
       "        nav_element.append(button);\n",
       "    }\n",
       "\n",
       "    var fmt_picker_span = $('<span/>');\n",
       "\n",
       "    var fmt_picker = $('<select/>');\n",
       "    fmt_picker.addClass('mpl-toolbar-option ui-widget ui-widget-content');\n",
       "    fmt_picker_span.append(fmt_picker);\n",
       "    nav_element.append(fmt_picker_span);\n",
       "    this.format_dropdown = fmt_picker[0];\n",
       "\n",
       "    for (var ind in mpl.extensions) {\n",
       "        var fmt = mpl.extensions[ind];\n",
       "        var option = $(\n",
       "            '<option/>', {selected: fmt === mpl.default_extension}).html(fmt);\n",
       "        fmt_picker.append(option)\n",
       "    }\n",
       "\n",
       "    // Add hover states to the ui-buttons\n",
       "    $( \".ui-button\" ).hover(\n",
       "        function() { $(this).addClass(\"ui-state-hover\");},\n",
       "        function() { $(this).removeClass(\"ui-state-hover\");}\n",
       "    );\n",
       "\n",
       "    var status_bar = $('<span class=\"mpl-message\"/>');\n",
       "    nav_element.append(status_bar);\n",
       "    this.message = status_bar[0];\n",
       "}\n",
       "\n",
       "mpl.figure.prototype.request_resize = function(x_pixels, y_pixels) {\n",
       "    // Request matplotlib to resize the figure. Matplotlib will then trigger a resize in the client,\n",
       "    // which will in turn request a refresh of the image.\n",
       "    this.send_message('resize', {'width': x_pixels, 'height': y_pixels});\n",
       "}\n",
       "\n",
       "mpl.figure.prototype.send_message = function(type, properties) {\n",
       "    properties['type'] = type;\n",
       "    properties['figure_id'] = this.id;\n",
       "    this.ws.send(JSON.stringify(properties));\n",
       "}\n",
       "\n",
       "mpl.figure.prototype.send_draw_message = function() {\n",
       "    if (!this.waiting) {\n",
       "        this.waiting = true;\n",
       "        this.ws.send(JSON.stringify({type: \"draw\", figure_id: this.id}));\n",
       "    }\n",
       "}\n",
       "\n",
       "\n",
       "mpl.figure.prototype.handle_save = function(fig, msg) {\n",
       "    var format_dropdown = fig.format_dropdown;\n",
       "    var format = format_dropdown.options[format_dropdown.selectedIndex].value;\n",
       "    fig.ondownload(fig, format);\n",
       "}\n",
       "\n",
       "\n",
       "mpl.figure.prototype.handle_resize = function(fig, msg) {\n",
       "    var size = msg['size'];\n",
       "    if (size[0] != fig.canvas.width || size[1] != fig.canvas.height) {\n",
       "        fig._resize_canvas(size[0], size[1]);\n",
       "        fig.send_message(\"refresh\", {});\n",
       "    };\n",
       "}\n",
       "\n",
       "mpl.figure.prototype.handle_rubberband = function(fig, msg) {\n",
       "    var x0 = msg['x0'] / mpl.ratio;\n",
       "    var y0 = (fig.canvas.height - msg['y0']) / mpl.ratio;\n",
       "    var x1 = msg['x1'] / mpl.ratio;\n",
       "    var y1 = (fig.canvas.height - msg['y1']) / mpl.ratio;\n",
       "    x0 = Math.floor(x0) + 0.5;\n",
       "    y0 = Math.floor(y0) + 0.5;\n",
       "    x1 = Math.floor(x1) + 0.5;\n",
       "    y1 = Math.floor(y1) + 0.5;\n",
       "    var min_x = Math.min(x0, x1);\n",
       "    var min_y = Math.min(y0, y1);\n",
       "    var width = Math.abs(x1 - x0);\n",
       "    var height = Math.abs(y1 - y0);\n",
       "\n",
       "    fig.rubberband_context.clearRect(\n",
       "        0, 0, fig.canvas.width, fig.canvas.height);\n",
       "\n",
       "    fig.rubberband_context.strokeRect(min_x, min_y, width, height);\n",
       "}\n",
       "\n",
       "mpl.figure.prototype.handle_figure_label = function(fig, msg) {\n",
       "    // Updates the figure title.\n",
       "    fig.header.textContent = msg['label'];\n",
       "}\n",
       "\n",
       "mpl.figure.prototype.handle_cursor = function(fig, msg) {\n",
       "    var cursor = msg['cursor'];\n",
       "    switch(cursor)\n",
       "    {\n",
       "    case 0:\n",
       "        cursor = 'pointer';\n",
       "        break;\n",
       "    case 1:\n",
       "        cursor = 'default';\n",
       "        break;\n",
       "    case 2:\n",
       "        cursor = 'crosshair';\n",
       "        break;\n",
       "    case 3:\n",
       "        cursor = 'move';\n",
       "        break;\n",
       "    }\n",
       "    fig.rubberband_canvas.style.cursor = cursor;\n",
       "}\n",
       "\n",
       "mpl.figure.prototype.handle_message = function(fig, msg) {\n",
       "    fig.message.textContent = msg['message'];\n",
       "}\n",
       "\n",
       "mpl.figure.prototype.handle_draw = function(fig, msg) {\n",
       "    // Request the server to send over a new figure.\n",
       "    fig.send_draw_message();\n",
       "}\n",
       "\n",
       "mpl.figure.prototype.handle_image_mode = function(fig, msg) {\n",
       "    fig.image_mode = msg['mode'];\n",
       "}\n",
       "\n",
       "mpl.figure.prototype.updated_canvas_event = function() {\n",
       "    // Called whenever the canvas gets updated.\n",
       "    this.send_message(\"ack\", {});\n",
       "}\n",
       "\n",
       "// A function to construct a web socket function for onmessage handling.\n",
       "// Called in the figure constructor.\n",
       "mpl.figure.prototype._make_on_message_function = function(fig) {\n",
       "    return function socket_on_message(evt) {\n",
       "        if (evt.data instanceof Blob) {\n",
       "            /* FIXME: We get \"Resource interpreted as Image but\n",
       "             * transferred with MIME type text/plain:\" errors on\n",
       "             * Chrome.  But how to set the MIME type?  It doesn't seem\n",
       "             * to be part of the websocket stream */\n",
       "            evt.data.type = \"image/png\";\n",
       "\n",
       "            /* Free the memory for the previous frames */\n",
       "            if (fig.imageObj.src) {\n",
       "                (window.URL || window.webkitURL).revokeObjectURL(\n",
       "                    fig.imageObj.src);\n",
       "            }\n",
       "\n",
       "            fig.imageObj.src = (window.URL || window.webkitURL).createObjectURL(\n",
       "                evt.data);\n",
       "            fig.updated_canvas_event();\n",
       "            fig.waiting = false;\n",
       "            return;\n",
       "        }\n",
       "        else if (typeof evt.data === 'string' && evt.data.slice(0, 21) == \"data:image/png;base64\") {\n",
       "            fig.imageObj.src = evt.data;\n",
       "            fig.updated_canvas_event();\n",
       "            fig.waiting = false;\n",
       "            return;\n",
       "        }\n",
       "\n",
       "        var msg = JSON.parse(evt.data);\n",
       "        var msg_type = msg['type'];\n",
       "\n",
       "        // Call the  \"handle_{type}\" callback, which takes\n",
       "        // the figure and JSON message as its only arguments.\n",
       "        try {\n",
       "            var callback = fig[\"handle_\" + msg_type];\n",
       "        } catch (e) {\n",
       "            console.log(\"No handler for the '\" + msg_type + \"' message type: \", msg);\n",
       "            return;\n",
       "        }\n",
       "\n",
       "        if (callback) {\n",
       "            try {\n",
       "                // console.log(\"Handling '\" + msg_type + \"' message: \", msg);\n",
       "                callback(fig, msg);\n",
       "            } catch (e) {\n",
       "                console.log(\"Exception inside the 'handler_\" + msg_type + \"' callback:\", e, e.stack, msg);\n",
       "            }\n",
       "        }\n",
       "    };\n",
       "}\n",
       "\n",
       "// from http://stackoverflow.com/questions/1114465/getting-mouse-location-in-canvas\n",
       "mpl.findpos = function(e) {\n",
       "    //this section is from http://www.quirksmode.org/js/events_properties.html\n",
       "    var targ;\n",
       "    if (!e)\n",
       "        e = window.event;\n",
       "    if (e.target)\n",
       "        targ = e.target;\n",
       "    else if (e.srcElement)\n",
       "        targ = e.srcElement;\n",
       "    if (targ.nodeType == 3) // defeat Safari bug\n",
       "        targ = targ.parentNode;\n",
       "\n",
       "    // jQuery normalizes the pageX and pageY\n",
       "    // pageX,Y are the mouse positions relative to the document\n",
       "    // offset() returns the position of the element relative to the document\n",
       "    var x = e.pageX - $(targ).offset().left;\n",
       "    var y = e.pageY - $(targ).offset().top;\n",
       "\n",
       "    return {\"x\": x, \"y\": y};\n",
       "};\n",
       "\n",
       "/*\n",
       " * return a copy of an object with only non-object keys\n",
       " * we need this to avoid circular references\n",
       " * http://stackoverflow.com/a/24161582/3208463\n",
       " */\n",
       "function simpleKeys (original) {\n",
       "  return Object.keys(original).reduce(function (obj, key) {\n",
       "    if (typeof original[key] !== 'object')\n",
       "        obj[key] = original[key]\n",
       "    return obj;\n",
       "  }, {});\n",
       "}\n",
       "\n",
       "mpl.figure.prototype.mouse_event = function(event, name) {\n",
       "    var canvas_pos = mpl.findpos(event)\n",
       "\n",
       "    if (name === 'button_press')\n",
       "    {\n",
       "        this.canvas.focus();\n",
       "        this.canvas_div.focus();\n",
       "    }\n",
       "\n",
       "    var x = canvas_pos.x * mpl.ratio;\n",
       "    var y = canvas_pos.y * mpl.ratio;\n",
       "\n",
       "    this.send_message(name, {x: x, y: y, button: event.button,\n",
       "                             step: event.step,\n",
       "                             guiEvent: simpleKeys(event)});\n",
       "\n",
       "    /* This prevents the web browser from automatically changing to\n",
       "     * the text insertion cursor when the button is pressed.  We want\n",
       "     * to control all of the cursor setting manually through the\n",
       "     * 'cursor' event from matplotlib */\n",
       "    event.preventDefault();\n",
       "    return false;\n",
       "}\n",
       "\n",
       "mpl.figure.prototype._key_event_extra = function(event, name) {\n",
       "    // Handle any extra behaviour associated with a key event\n",
       "}\n",
       "\n",
       "mpl.figure.prototype.key_event = function(event, name) {\n",
       "\n",
       "    // Prevent repeat events\n",
       "    if (name == 'key_press')\n",
       "    {\n",
       "        if (event.which === this._key)\n",
       "            return;\n",
       "        else\n",
       "            this._key = event.which;\n",
       "    }\n",
       "    if (name == 'key_release')\n",
       "        this._key = null;\n",
       "\n",
       "    var value = '';\n",
       "    if (event.ctrlKey && event.which != 17)\n",
       "        value += \"ctrl+\";\n",
       "    if (event.altKey && event.which != 18)\n",
       "        value += \"alt+\";\n",
       "    if (event.shiftKey && event.which != 16)\n",
       "        value += \"shift+\";\n",
       "\n",
       "    value += 'k';\n",
       "    value += event.which.toString();\n",
       "\n",
       "    this._key_event_extra(event, name);\n",
       "\n",
       "    this.send_message(name, {key: value,\n",
       "                             guiEvent: simpleKeys(event)});\n",
       "    return false;\n",
       "}\n",
       "\n",
       "mpl.figure.prototype.toolbar_button_onclick = function(name) {\n",
       "    if (name == 'download') {\n",
       "        this.handle_save(this, null);\n",
       "    } else {\n",
       "        this.send_message(\"toolbar_button\", {name: name});\n",
       "    }\n",
       "};\n",
       "\n",
       "mpl.figure.prototype.toolbar_button_onmouseover = function(tooltip) {\n",
       "    this.message.textContent = tooltip;\n",
       "};\n",
       "mpl.toolbar_items = [[\"Home\", \"Reset original view\", \"fa fa-home icon-home\", \"home\"], [\"Back\", \"Back to previous view\", \"fa fa-arrow-left icon-arrow-left\", \"back\"], [\"Forward\", \"Forward to next view\", \"fa fa-arrow-right icon-arrow-right\", \"forward\"], [\"\", \"\", \"\", \"\"], [\"Pan\", \"Pan axes with left mouse, zoom with right\", \"fa fa-arrows icon-move\", \"pan\"], [\"Zoom\", \"Zoom to rectangle\", \"fa fa-square-o icon-check-empty\", \"zoom\"], [\"\", \"\", \"\", \"\"], [\"Download\", \"Download plot\", \"fa fa-floppy-o icon-save\", \"download\"]];\n",
       "\n",
       "mpl.extensions = [\"eps\", \"pdf\", \"png\", \"ps\", \"raw\", \"svg\"];\n",
       "\n",
       "mpl.default_extension = \"png\";var comm_websocket_adapter = function(comm) {\n",
       "    // Create a \"websocket\"-like object which calls the given IPython comm\n",
       "    // object with the appropriate methods. Currently this is a non binary\n",
       "    // socket, so there is still some room for performance tuning.\n",
       "    var ws = {};\n",
       "\n",
       "    ws.close = function() {\n",
       "        comm.close()\n",
       "    };\n",
       "    ws.send = function(m) {\n",
       "        //console.log('sending', m);\n",
       "        comm.send(m);\n",
       "    };\n",
       "    // Register the callback with on_msg.\n",
       "    comm.on_msg(function(msg) {\n",
       "        //console.log('receiving', msg['content']['data'], msg);\n",
       "        // Pass the mpl event to the overridden (by mpl) onmessage function.\n",
       "        ws.onmessage(msg['content']['data'])\n",
       "    });\n",
       "    return ws;\n",
       "}\n",
       "\n",
       "mpl.mpl_figure_comm = function(comm, msg) {\n",
       "    // This is the function which gets called when the mpl process\n",
       "    // starts-up an IPython Comm through the \"matplotlib\" channel.\n",
       "\n",
       "    var id = msg.content.data.id;\n",
       "    // Get hold of the div created by the display call when the Comm\n",
       "    // socket was opened in Python.\n",
       "    var element = $(\"#\" + id);\n",
       "    var ws_proxy = comm_websocket_adapter(comm)\n",
       "\n",
       "    function ondownload(figure, format) {\n",
       "        window.open(figure.imageObj.src);\n",
       "    }\n",
       "\n",
       "    var fig = new mpl.figure(id, ws_proxy,\n",
       "                           ondownload,\n",
       "                           element.get(0));\n",
       "\n",
       "    // Call onopen now - mpl needs it, as it is assuming we've passed it a real\n",
       "    // web socket which is closed, not our websocket->open comm proxy.\n",
       "    ws_proxy.onopen();\n",
       "\n",
       "    fig.parent_element = element.get(0);\n",
       "    fig.cell_info = mpl.find_output_cell(\"<div id='\" + id + \"'></div>\");\n",
       "    if (!fig.cell_info) {\n",
       "        console.error(\"Failed to find cell for figure\", id, fig);\n",
       "        return;\n",
       "    }\n",
       "\n",
       "    var output_index = fig.cell_info[2]\n",
       "    var cell = fig.cell_info[0];\n",
       "\n",
       "};\n",
       "\n",
       "mpl.figure.prototype.handle_close = function(fig, msg) {\n",
       "    var width = fig.canvas.width/mpl.ratio\n",
       "    fig.root.unbind('remove')\n",
       "\n",
       "    // Update the output cell to use the data from the current canvas.\n",
       "    fig.push_to_output();\n",
       "    var dataURL = fig.canvas.toDataURL();\n",
       "    // Re-enable the keyboard manager in IPython - without this line, in FF,\n",
       "    // the notebook keyboard shortcuts fail.\n",
       "    IPython.keyboard_manager.enable()\n",
       "    $(fig.parent_element).html('<img src=\"' + dataURL + '\" width=\"' + width + '\">');\n",
       "    fig.close_ws(fig, msg);\n",
       "}\n",
       "\n",
       "mpl.figure.prototype.close_ws = function(fig, msg){\n",
       "    fig.send_message('closing', msg);\n",
       "    // fig.ws.close()\n",
       "}\n",
       "\n",
       "mpl.figure.prototype.push_to_output = function(remove_interactive) {\n",
       "    // Turn the data on the canvas into data in the output cell.\n",
       "    var width = this.canvas.width/mpl.ratio\n",
       "    var dataURL = this.canvas.toDataURL();\n",
       "    this.cell_info[1]['text/html'] = '<img src=\"' + dataURL + '\" width=\"' + width + '\">';\n",
       "}\n",
       "\n",
       "mpl.figure.prototype.updated_canvas_event = function() {\n",
       "    // Tell IPython that the notebook contents must change.\n",
       "    IPython.notebook.set_dirty(true);\n",
       "    this.send_message(\"ack\", {});\n",
       "    var fig = this;\n",
       "    // Wait a second, then push the new image to the DOM so\n",
       "    // that it is saved nicely (might be nice to debounce this).\n",
       "    setTimeout(function () { fig.push_to_output() }, 1000);\n",
       "}\n",
       "\n",
       "mpl.figure.prototype._init_toolbar = function() {\n",
       "    var fig = this;\n",
       "\n",
       "    var nav_element = $('<div/>')\n",
       "    nav_element.attr('style', 'width: 100%');\n",
       "    this.root.append(nav_element);\n",
       "\n",
       "    // Define a callback function for later on.\n",
       "    function toolbar_event(event) {\n",
       "        return fig.toolbar_button_onclick(event['data']);\n",
       "    }\n",
       "    function toolbar_mouse_event(event) {\n",
       "        return fig.toolbar_button_onmouseover(event['data']);\n",
       "    }\n",
       "\n",
       "    for(var toolbar_ind in mpl.toolbar_items){\n",
       "        var name = mpl.toolbar_items[toolbar_ind][0];\n",
       "        var tooltip = mpl.toolbar_items[toolbar_ind][1];\n",
       "        var image = mpl.toolbar_items[toolbar_ind][2];\n",
       "        var method_name = mpl.toolbar_items[toolbar_ind][3];\n",
       "\n",
       "        if (!name) { continue; };\n",
       "\n",
       "        var button = $('<button class=\"btn btn-default\" href=\"#\" title=\"' + name + '\"><i class=\"fa ' + image + ' fa-lg\"></i></button>');\n",
       "        button.click(method_name, toolbar_event);\n",
       "        button.mouseover(tooltip, toolbar_mouse_event);\n",
       "        nav_element.append(button);\n",
       "    }\n",
       "\n",
       "    // Add the status bar.\n",
       "    var status_bar = $('<span class=\"mpl-message\" style=\"text-align:right; float: right;\"/>');\n",
       "    nav_element.append(status_bar);\n",
       "    this.message = status_bar[0];\n",
       "\n",
       "    // Add the close button to the window.\n",
       "    var buttongrp = $('<div class=\"btn-group inline pull-right\"></div>');\n",
       "    var button = $('<button class=\"btn btn-mini btn-primary\" href=\"#\" title=\"Stop Interaction\"><i class=\"fa fa-power-off icon-remove icon-large\"></i></button>');\n",
       "    button.click(function (evt) { fig.handle_close(fig, {}); } );\n",
       "    button.mouseover('Stop Interaction', toolbar_mouse_event);\n",
       "    buttongrp.append(button);\n",
       "    var titlebar = this.root.find($('.ui-dialog-titlebar'));\n",
       "    titlebar.prepend(buttongrp);\n",
       "}\n",
       "\n",
       "mpl.figure.prototype._root_extra_style = function(el){\n",
       "    var fig = this\n",
       "    el.on(\"remove\", function(){\n",
       "\tfig.close_ws(fig, {});\n",
       "    });\n",
       "}\n",
       "\n",
       "mpl.figure.prototype._canvas_extra_style = function(el){\n",
       "    // this is important to make the div 'focusable\n",
       "    el.attr('tabindex', 0)\n",
       "    // reach out to IPython and tell the keyboard manager to turn it's self\n",
       "    // off when our div gets focus\n",
       "\n",
       "    // location in version 3\n",
       "    if (IPython.notebook.keyboard_manager) {\n",
       "        IPython.notebook.keyboard_manager.register_events(el);\n",
       "    }\n",
       "    else {\n",
       "        // location in version 2\n",
       "        IPython.keyboard_manager.register_events(el);\n",
       "    }\n",
       "\n",
       "}\n",
       "\n",
       "mpl.figure.prototype._key_event_extra = function(event, name) {\n",
       "    var manager = IPython.notebook.keyboard_manager;\n",
       "    if (!manager)\n",
       "        manager = IPython.keyboard_manager;\n",
       "\n",
       "    // Check for shift+enter\n",
       "    if (event.shiftKey && event.which == 13) {\n",
       "        this.canvas_div.blur();\n",
       "        event.shiftKey = false;\n",
       "        // Send a \"J\" for go to next cell\n",
       "        event.which = 74;\n",
       "        event.keyCode = 74;\n",
       "        manager.command_mode();\n",
       "        manager.handle_keydown(event);\n",
       "    }\n",
       "}\n",
       "\n",
       "mpl.figure.prototype.handle_save = function(fig, msg) {\n",
       "    fig.ondownload(fig, null);\n",
       "}\n",
       "\n",
       "\n",
       "mpl.find_output_cell = function(html_output) {\n",
       "    // Return the cell and output element which can be found *uniquely* in the notebook.\n",
       "    // Note - this is a bit hacky, but it is done because the \"notebook_saving.Notebook\"\n",
       "    // IPython event is triggered only after the cells have been serialised, which for\n",
       "    // our purposes (turning an active figure into a static one), is too late.\n",
       "    var cells = IPython.notebook.get_cells();\n",
       "    var ncells = cells.length;\n",
       "    for (var i=0; i<ncells; i++) {\n",
       "        var cell = cells[i];\n",
       "        if (cell.cell_type === 'code'){\n",
       "            for (var j=0; j<cell.output_area.outputs.length; j++) {\n",
       "                var data = cell.output_area.outputs[j];\n",
       "                if (data.data) {\n",
       "                    // IPython >= 3 moved mimebundle to data attribute of output\n",
       "                    data = data.data;\n",
       "                }\n",
       "                if (data['text/html'] == html_output) {\n",
       "                    return [cell, data, j];\n",
       "                }\n",
       "            }\n",
       "        }\n",
       "    }\n",
       "}\n",
       "\n",
       "// Register the function which deals with the matplotlib target/channel.\n",
       "// The kernel may be null if the page has been refreshed.\n",
       "if (IPython.notebook.kernel != null) {\n",
       "    IPython.notebook.kernel.comm_manager.register_target('matplotlib', mpl.mpl_figure_comm);\n",
       "}\n"
      ],
      "text/plain": [
       "<IPython.core.display.Javascript object>"
      ]
     },
     "metadata": {},
     "output_type": "display_data"
    },
    {
     "data": {
      "text/html": [
       "<img src=\"data:image/png;base64,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\" width=\"640\">"
      ],
      "text/plain": [
       "<IPython.core.display.HTML object>"
      ]
     },
     "metadata": {},
     "output_type": "display_data"
    },
    {
     "data": {
      "text/plain": [
       "[<matplotlib.lines.Line2D at 0x11d9d88d0>]"
      ]
     },
     "execution_count": 154,
     "metadata": {},
     "output_type": "execute_result"
    }
   ],
   "source": [
    "%matplotlib notebook\n",
    "import matplotlib.pyplot as plt\n",
    "import math\n",
    "\n",
    "# initial conditions\n",
    "g = 9.8\n",
    "h = 0.\n",
    "\n",
    "v0 = 10.\n",
    "dt=0.1\n",
    "\n",
    "theta = 45.\n",
    "while True:\n",
    "    x = input(\"angle theta in [0,90] degrees (press return for {0} degree): \".format(theta))\n",
    "    if x == \"\" : break\n",
    "    theta  = float(x)\n",
    "    if(theta>0 and theta<90): break\n",
    "theta = (theta/90.)*math.pi/2.\n",
    " \n",
    "#compute velocity components\n",
    "v0x = v0*math.cos(theta)\n",
    "v0y = v0*math.sin(theta)\n",
    "print(\"v0_x: %.3f m/s \\t v0_y: %.3f m/s\"%(v0x,v0y))\n",
    "\n",
    "t=0.\n",
    "x=[]\n",
    "y=[]\n",
    "xi=0\n",
    "yi=h\n",
    "\n",
    "while yi>=0:\n",
    "    x.append(xi)\n",
    "    y.append(yi)\n",
    "    t+=dt\n",
    "    xi=v0x*t\n",
    "    yi=h+v0y*t-0.5*g*t*t\n",
    "\n",
    "#print(x,y)\n",
    "plt.plot(x,y)"
   ]
  },
  {
   "cell_type": "markdown",
   "metadata": {},
   "source": [
    "We now change all the variables to be configurable by the user"
   ]
  },
  {
   "cell_type": "code",
   "execution_count": 123,
   "metadata": {
    "scrolled": true
   },
   "outputs": [
    {
     "name": "stdout",
     "output_type": "stream",
     "text": [
      "initial height h in m: (press return for h = 0 m): \n",
      "angle theta in [0,90] degrees (press return for 20.0 degree): \n",
      "insert v_0 > 0 in m/s (press return for 10.0 m/s): \n",
      "insert dt > 0 in sec (press return for 0.1 sec): \n",
      "v0_x: 9.397 m/s \t v0_y: 3.420 m/s\n"
     ]
    },
    {
     "data": {
      "application/javascript": [
       "/* Put everything inside the global mpl namespace */\n",
       "window.mpl = {};\n",
       "\n",
       "\n",
       "mpl.get_websocket_type = function() {\n",
       "    if (typeof(WebSocket) !== 'undefined') {\n",
       "        return WebSocket;\n",
       "    } else if (typeof(MozWebSocket) !== 'undefined') {\n",
       "        return MozWebSocket;\n",
       "    } else {\n",
       "        alert('Your browser does not have WebSocket support.' +\n",
       "              'Please try Chrome, Safari or Firefox ≥ 6. ' +\n",
       "              'Firefox 4 and 5 are also supported but you ' +\n",
       "              'have to enable WebSockets in about:config.');\n",
       "    };\n",
       "}\n",
       "\n",
       "mpl.figure = function(figure_id, websocket, ondownload, parent_element) {\n",
       "    this.id = figure_id;\n",
       "\n",
       "    this.ws = websocket;\n",
       "\n",
       "    this.supports_binary = (this.ws.binaryType != undefined);\n",
       "\n",
       "    if (!this.supports_binary) {\n",
       "        var warnings = document.getElementById(\"mpl-warnings\");\n",
       "        if (warnings) {\n",
       "            warnings.style.display = 'block';\n",
       "            warnings.textContent = (\n",
       "                \"This browser does not support binary websocket messages. \" +\n",
       "                    \"Performance may be slow.\");\n",
       "        }\n",
       "    }\n",
       "\n",
       "    this.imageObj = new Image();\n",
       "\n",
       "    this.context = undefined;\n",
       "    this.message = undefined;\n",
       "    this.canvas = undefined;\n",
       "    this.rubberband_canvas = undefined;\n",
       "    this.rubberband_context = undefined;\n",
       "    this.format_dropdown = undefined;\n",
       "\n",
       "    this.image_mode = 'full';\n",
       "\n",
       "    this.root = $('<div/>');\n",
       "    this._root_extra_style(this.root)\n",
       "    this.root.attr('style', 'display: inline-block');\n",
       "\n",
       "    $(parent_element).append(this.root);\n",
       "\n",
       "    this._init_header(this);\n",
       "    this._init_canvas(this);\n",
       "    this._init_toolbar(this);\n",
       "\n",
       "    var fig = this;\n",
       "\n",
       "    this.waiting = false;\n",
       "\n",
       "    this.ws.onopen =  function () {\n",
       "            fig.send_message(\"supports_binary\", {value: fig.supports_binary});\n",
       "            fig.send_message(\"send_image_mode\", {});\n",
       "            if (mpl.ratio != 1) {\n",
       "                fig.send_message(\"set_dpi_ratio\", {'dpi_ratio': mpl.ratio});\n",
       "            }\n",
       "            fig.send_message(\"refresh\", {});\n",
       "        }\n",
       "\n",
       "    this.imageObj.onload = function() {\n",
       "            if (fig.image_mode == 'full') {\n",
       "                // Full images could contain transparency (where diff images\n",
       "                // almost always do), so we need to clear the canvas so that\n",
       "                // there is no ghosting.\n",
       "                fig.context.clearRect(0, 0, fig.canvas.width, fig.canvas.height);\n",
       "            }\n",
       "            fig.context.drawImage(fig.imageObj, 0, 0);\n",
       "        };\n",
       "\n",
       "    this.imageObj.onunload = function() {\n",
       "        fig.ws.close();\n",
       "    }\n",
       "\n",
       "    this.ws.onmessage = this._make_on_message_function(this);\n",
       "\n",
       "    this.ondownload = ondownload;\n",
       "}\n",
       "\n",
       "mpl.figure.prototype._init_header = function() {\n",
       "    var titlebar = $(\n",
       "        '<div class=\"ui-dialog-titlebar ui-widget-header ui-corner-all ' +\n",
       "        'ui-helper-clearfix\"/>');\n",
       "    var titletext = $(\n",
       "        '<div class=\"ui-dialog-title\" style=\"width: 100%; ' +\n",
       "        'text-align: center; padding: 3px;\"/>');\n",
       "    titlebar.append(titletext)\n",
       "    this.root.append(titlebar);\n",
       "    this.header = titletext[0];\n",
       "}\n",
       "\n",
       "\n",
       "\n",
       "mpl.figure.prototype._canvas_extra_style = function(canvas_div) {\n",
       "\n",
       "}\n",
       "\n",
       "\n",
       "mpl.figure.prototype._root_extra_style = function(canvas_div) {\n",
       "\n",
       "}\n",
       "\n",
       "mpl.figure.prototype._init_canvas = function() {\n",
       "    var fig = this;\n",
       "\n",
       "    var canvas_div = $('<div/>');\n",
       "\n",
       "    canvas_div.attr('style', 'position: relative; clear: both; outline: 0');\n",
       "\n",
       "    function canvas_keyboard_event(event) {\n",
       "        return fig.key_event(event, event['data']);\n",
       "    }\n",
       "\n",
       "    canvas_div.keydown('key_press', canvas_keyboard_event);\n",
       "    canvas_div.keyup('key_release', canvas_keyboard_event);\n",
       "    this.canvas_div = canvas_div\n",
       "    this._canvas_extra_style(canvas_div)\n",
       "    this.root.append(canvas_div);\n",
       "\n",
       "    var canvas = $('<canvas/>');\n",
       "    canvas.addClass('mpl-canvas');\n",
       "    canvas.attr('style', \"left: 0; top: 0; z-index: 0; outline: 0\")\n",
       "\n",
       "    this.canvas = canvas[0];\n",
       "    this.context = canvas[0].getContext(\"2d\");\n",
       "\n",
       "    var backingStore = this.context.backingStorePixelRatio ||\n",
       "\tthis.context.webkitBackingStorePixelRatio ||\n",
       "\tthis.context.mozBackingStorePixelRatio ||\n",
       "\tthis.context.msBackingStorePixelRatio ||\n",
       "\tthis.context.oBackingStorePixelRatio ||\n",
       "\tthis.context.backingStorePixelRatio || 1;\n",
       "\n",
       "    mpl.ratio = (window.devicePixelRatio || 1) / backingStore;\n",
       "\n",
       "    var rubberband = $('<canvas/>');\n",
       "    rubberband.attr('style', \"position: absolute; left: 0; top: 0; z-index: 1;\")\n",
       "\n",
       "    var pass_mouse_events = true;\n",
       "\n",
       "    canvas_div.resizable({\n",
       "        start: function(event, ui) {\n",
       "            pass_mouse_events = false;\n",
       "        },\n",
       "        resize: function(event, ui) {\n",
       "            fig.request_resize(ui.size.width, ui.size.height);\n",
       "        },\n",
       "        stop: function(event, ui) {\n",
       "            pass_mouse_events = true;\n",
       "            fig.request_resize(ui.size.width, ui.size.height);\n",
       "        },\n",
       "    });\n",
       "\n",
       "    function mouse_event_fn(event) {\n",
       "        if (pass_mouse_events)\n",
       "            return fig.mouse_event(event, event['data']);\n",
       "    }\n",
       "\n",
       "    rubberband.mousedown('button_press', mouse_event_fn);\n",
       "    rubberband.mouseup('button_release', mouse_event_fn);\n",
       "    // Throttle sequential mouse events to 1 every 20ms.\n",
       "    rubberband.mousemove('motion_notify', mouse_event_fn);\n",
       "\n",
       "    rubberband.mouseenter('figure_enter', mouse_event_fn);\n",
       "    rubberband.mouseleave('figure_leave', mouse_event_fn);\n",
       "\n",
       "    canvas_div.on(\"wheel\", function (event) {\n",
       "        event = event.originalEvent;\n",
       "        event['data'] = 'scroll'\n",
       "        if (event.deltaY < 0) {\n",
       "            event.step = 1;\n",
       "        } else {\n",
       "            event.step = -1;\n",
       "        }\n",
       "        mouse_event_fn(event);\n",
       "    });\n",
       "\n",
       "    canvas_div.append(canvas);\n",
       "    canvas_div.append(rubberband);\n",
       "\n",
       "    this.rubberband = rubberband;\n",
       "    this.rubberband_canvas = rubberband[0];\n",
       "    this.rubberband_context = rubberband[0].getContext(\"2d\");\n",
       "    this.rubberband_context.strokeStyle = \"#000000\";\n",
       "\n",
       "    this._resize_canvas = function(width, height) {\n",
       "        // Keep the size of the canvas, canvas container, and rubber band\n",
       "        // canvas in synch.\n",
       "        canvas_div.css('width', width)\n",
       "        canvas_div.css('height', height)\n",
       "\n",
       "        canvas.attr('width', width * mpl.ratio);\n",
       "        canvas.attr('height', height * mpl.ratio);\n",
       "        canvas.attr('style', 'width: ' + width + 'px; height: ' + height + 'px;');\n",
       "\n",
       "        rubberband.attr('width', width);\n",
       "        rubberband.attr('height', height);\n",
       "    }\n",
       "\n",
       "    // Set the figure to an initial 600x600px, this will subsequently be updated\n",
       "    // upon first draw.\n",
       "    this._resize_canvas(600, 600);\n",
       "\n",
       "    // Disable right mouse context menu.\n",
       "    $(this.rubberband_canvas).bind(\"contextmenu\",function(e){\n",
       "        return false;\n",
       "    });\n",
       "\n",
       "    function set_focus () {\n",
       "        canvas.focus();\n",
       "        canvas_div.focus();\n",
       "    }\n",
       "\n",
       "    window.setTimeout(set_focus, 100);\n",
       "}\n",
       "\n",
       "mpl.figure.prototype._init_toolbar = function() {\n",
       "    var fig = this;\n",
       "\n",
       "    var nav_element = $('<div/>')\n",
       "    nav_element.attr('style', 'width: 100%');\n",
       "    this.root.append(nav_element);\n",
       "\n",
       "    // Define a callback function for later on.\n",
       "    function toolbar_event(event) {\n",
       "        return fig.toolbar_button_onclick(event['data']);\n",
       "    }\n",
       "    function toolbar_mouse_event(event) {\n",
       "        return fig.toolbar_button_onmouseover(event['data']);\n",
       "    }\n",
       "\n",
       "    for(var toolbar_ind in mpl.toolbar_items) {\n",
       "        var name = mpl.toolbar_items[toolbar_ind][0];\n",
       "        var tooltip = mpl.toolbar_items[toolbar_ind][1];\n",
       "        var image = mpl.toolbar_items[toolbar_ind][2];\n",
       "        var method_name = mpl.toolbar_items[toolbar_ind][3];\n",
       "\n",
       "        if (!name) {\n",
       "            // put a spacer in here.\n",
       "            continue;\n",
       "        }\n",
       "        var button = $('<button/>');\n",
       "        button.addClass('ui-button ui-widget ui-state-default ui-corner-all ' +\n",
       "                        'ui-button-icon-only');\n",
       "        button.attr('role', 'button');\n",
       "        button.attr('aria-disabled', 'false');\n",
       "        button.click(method_name, toolbar_event);\n",
       "        button.mouseover(tooltip, toolbar_mouse_event);\n",
       "\n",
       "        var icon_img = $('<span/>');\n",
       "        icon_img.addClass('ui-button-icon-primary ui-icon');\n",
       "        icon_img.addClass(image);\n",
       "        icon_img.addClass('ui-corner-all');\n",
       "\n",
       "        var tooltip_span = $('<span/>');\n",
       "        tooltip_span.addClass('ui-button-text');\n",
       "        tooltip_span.html(tooltip);\n",
       "\n",
       "        button.append(icon_img);\n",
       "        button.append(tooltip_span);\n",
       "\n",
       "        nav_element.append(button);\n",
       "    }\n",
       "\n",
       "    var fmt_picker_span = $('<span/>');\n",
       "\n",
       "    var fmt_picker = $('<select/>');\n",
       "    fmt_picker.addClass('mpl-toolbar-option ui-widget ui-widget-content');\n",
       "    fmt_picker_span.append(fmt_picker);\n",
       "    nav_element.append(fmt_picker_span);\n",
       "    this.format_dropdown = fmt_picker[0];\n",
       "\n",
       "    for (var ind in mpl.extensions) {\n",
       "        var fmt = mpl.extensions[ind];\n",
       "        var option = $(\n",
       "            '<option/>', {selected: fmt === mpl.default_extension}).html(fmt);\n",
       "        fmt_picker.append(option)\n",
       "    }\n",
       "\n",
       "    // Add hover states to the ui-buttons\n",
       "    $( \".ui-button\" ).hover(\n",
       "        function() { $(this).addClass(\"ui-state-hover\");},\n",
       "        function() { $(this).removeClass(\"ui-state-hover\");}\n",
       "    );\n",
       "\n",
       "    var status_bar = $('<span class=\"mpl-message\"/>');\n",
       "    nav_element.append(status_bar);\n",
       "    this.message = status_bar[0];\n",
       "}\n",
       "\n",
       "mpl.figure.prototype.request_resize = function(x_pixels, y_pixels) {\n",
       "    // Request matplotlib to resize the figure. Matplotlib will then trigger a resize in the client,\n",
       "    // which will in turn request a refresh of the image.\n",
       "    this.send_message('resize', {'width': x_pixels, 'height': y_pixels});\n",
       "}\n",
       "\n",
       "mpl.figure.prototype.send_message = function(type, properties) {\n",
       "    properties['type'] = type;\n",
       "    properties['figure_id'] = this.id;\n",
       "    this.ws.send(JSON.stringify(properties));\n",
       "}\n",
       "\n",
       "mpl.figure.prototype.send_draw_message = function() {\n",
       "    if (!this.waiting) {\n",
       "        this.waiting = true;\n",
       "        this.ws.send(JSON.stringify({type: \"draw\", figure_id: this.id}));\n",
       "    }\n",
       "}\n",
       "\n",
       "\n",
       "mpl.figure.prototype.handle_save = function(fig, msg) {\n",
       "    var format_dropdown = fig.format_dropdown;\n",
       "    var format = format_dropdown.options[format_dropdown.selectedIndex].value;\n",
       "    fig.ondownload(fig, format);\n",
       "}\n",
       "\n",
       "\n",
       "mpl.figure.prototype.handle_resize = function(fig, msg) {\n",
       "    var size = msg['size'];\n",
       "    if (size[0] != fig.canvas.width || size[1] != fig.canvas.height) {\n",
       "        fig._resize_canvas(size[0], size[1]);\n",
       "        fig.send_message(\"refresh\", {});\n",
       "    };\n",
       "}\n",
       "\n",
       "mpl.figure.prototype.handle_rubberband = function(fig, msg) {\n",
       "    var x0 = msg['x0'] / mpl.ratio;\n",
       "    var y0 = (fig.canvas.height - msg['y0']) / mpl.ratio;\n",
       "    var x1 = msg['x1'] / mpl.ratio;\n",
       "    var y1 = (fig.canvas.height - msg['y1']) / mpl.ratio;\n",
       "    x0 = Math.floor(x0) + 0.5;\n",
       "    y0 = Math.floor(y0) + 0.5;\n",
       "    x1 = Math.floor(x1) + 0.5;\n",
       "    y1 = Math.floor(y1) + 0.5;\n",
       "    var min_x = Math.min(x0, x1);\n",
       "    var min_y = Math.min(y0, y1);\n",
       "    var width = Math.abs(x1 - x0);\n",
       "    var height = Math.abs(y1 - y0);\n",
       "\n",
       "    fig.rubberband_context.clearRect(\n",
       "        0, 0, fig.canvas.width, fig.canvas.height);\n",
       "\n",
       "    fig.rubberband_context.strokeRect(min_x, min_y, width, height);\n",
       "}\n",
       "\n",
       "mpl.figure.prototype.handle_figure_label = function(fig, msg) {\n",
       "    // Updates the figure title.\n",
       "    fig.header.textContent = msg['label'];\n",
       "}\n",
       "\n",
       "mpl.figure.prototype.handle_cursor = function(fig, msg) {\n",
       "    var cursor = msg['cursor'];\n",
       "    switch(cursor)\n",
       "    {\n",
       "    case 0:\n",
       "        cursor = 'pointer';\n",
       "        break;\n",
       "    case 1:\n",
       "        cursor = 'default';\n",
       "        break;\n",
       "    case 2:\n",
       "        cursor = 'crosshair';\n",
       "        break;\n",
       "    case 3:\n",
       "        cursor = 'move';\n",
       "        break;\n",
       "    }\n",
       "    fig.rubberband_canvas.style.cursor = cursor;\n",
       "}\n",
       "\n",
       "mpl.figure.prototype.handle_message = function(fig, msg) {\n",
       "    fig.message.textContent = msg['message'];\n",
       "}\n",
       "\n",
       "mpl.figure.prototype.handle_draw = function(fig, msg) {\n",
       "    // Request the server to send over a new figure.\n",
       "    fig.send_draw_message();\n",
       "}\n",
       "\n",
       "mpl.figure.prototype.handle_image_mode = function(fig, msg) {\n",
       "    fig.image_mode = msg['mode'];\n",
       "}\n",
       "\n",
       "mpl.figure.prototype.updated_canvas_event = function() {\n",
       "    // Called whenever the canvas gets updated.\n",
       "    this.send_message(\"ack\", {});\n",
       "}\n",
       "\n",
       "// A function to construct a web socket function for onmessage handling.\n",
       "// Called in the figure constructor.\n",
       "mpl.figure.prototype._make_on_message_function = function(fig) {\n",
       "    return function socket_on_message(evt) {\n",
       "        if (evt.data instanceof Blob) {\n",
       "            /* FIXME: We get \"Resource interpreted as Image but\n",
       "             * transferred with MIME type text/plain:\" errors on\n",
       "             * Chrome.  But how to set the MIME type?  It doesn't seem\n",
       "             * to be part of the websocket stream */\n",
       "            evt.data.type = \"image/png\";\n",
       "\n",
       "            /* Free the memory for the previous frames */\n",
       "            if (fig.imageObj.src) {\n",
       "                (window.URL || window.webkitURL).revokeObjectURL(\n",
       "                    fig.imageObj.src);\n",
       "            }\n",
       "\n",
       "            fig.imageObj.src = (window.URL || window.webkitURL).createObjectURL(\n",
       "                evt.data);\n",
       "            fig.updated_canvas_event();\n",
       "            fig.waiting = false;\n",
       "            return;\n",
       "        }\n",
       "        else if (typeof evt.data === 'string' && evt.data.slice(0, 21) == \"data:image/png;base64\") {\n",
       "            fig.imageObj.src = evt.data;\n",
       "            fig.updated_canvas_event();\n",
       "            fig.waiting = false;\n",
       "            return;\n",
       "        }\n",
       "\n",
       "        var msg = JSON.parse(evt.data);\n",
       "        var msg_type = msg['type'];\n",
       "\n",
       "        // Call the  \"handle_{type}\" callback, which takes\n",
       "        // the figure and JSON message as its only arguments.\n",
       "        try {\n",
       "            var callback = fig[\"handle_\" + msg_type];\n",
       "        } catch (e) {\n",
       "            console.log(\"No handler for the '\" + msg_type + \"' message type: \", msg);\n",
       "            return;\n",
       "        }\n",
       "\n",
       "        if (callback) {\n",
       "            try {\n",
       "                // console.log(\"Handling '\" + msg_type + \"' message: \", msg);\n",
       "                callback(fig, msg);\n",
       "            } catch (e) {\n",
       "                console.log(\"Exception inside the 'handler_\" + msg_type + \"' callback:\", e, e.stack, msg);\n",
       "            }\n",
       "        }\n",
       "    };\n",
       "}\n",
       "\n",
       "// from http://stackoverflow.com/questions/1114465/getting-mouse-location-in-canvas\n",
       "mpl.findpos = function(e) {\n",
       "    //this section is from http://www.quirksmode.org/js/events_properties.html\n",
       "    var targ;\n",
       "    if (!e)\n",
       "        e = window.event;\n",
       "    if (e.target)\n",
       "        targ = e.target;\n",
       "    else if (e.srcElement)\n",
       "        targ = e.srcElement;\n",
       "    if (targ.nodeType == 3) // defeat Safari bug\n",
       "        targ = targ.parentNode;\n",
       "\n",
       "    // jQuery normalizes the pageX and pageY\n",
       "    // pageX,Y are the mouse positions relative to the document\n",
       "    // offset() returns the position of the element relative to the document\n",
       "    var x = e.pageX - $(targ).offset().left;\n",
       "    var y = e.pageY - $(targ).offset().top;\n",
       "\n",
       "    return {\"x\": x, \"y\": y};\n",
       "};\n",
       "\n",
       "/*\n",
       " * return a copy of an object with only non-object keys\n",
       " * we need this to avoid circular references\n",
       " * http://stackoverflow.com/a/24161582/3208463\n",
       " */\n",
       "function simpleKeys (original) {\n",
       "  return Object.keys(original).reduce(function (obj, key) {\n",
       "    if (typeof original[key] !== 'object')\n",
       "        obj[key] = original[key]\n",
       "    return obj;\n",
       "  }, {});\n",
       "}\n",
       "\n",
       "mpl.figure.prototype.mouse_event = function(event, name) {\n",
       "    var canvas_pos = mpl.findpos(event)\n",
       "\n",
       "    if (name === 'button_press')\n",
       "    {\n",
       "        this.canvas.focus();\n",
       "        this.canvas_div.focus();\n",
       "    }\n",
       "\n",
       "    var x = canvas_pos.x * mpl.ratio;\n",
       "    var y = canvas_pos.y * mpl.ratio;\n",
       "\n",
       "    this.send_message(name, {x: x, y: y, button: event.button,\n",
       "                             step: event.step,\n",
       "                             guiEvent: simpleKeys(event)});\n",
       "\n",
       "    /* This prevents the web browser from automatically changing to\n",
       "     * the text insertion cursor when the button is pressed.  We want\n",
       "     * to control all of the cursor setting manually through the\n",
       "     * 'cursor' event from matplotlib */\n",
       "    event.preventDefault();\n",
       "    return false;\n",
       "}\n",
       "\n",
       "mpl.figure.prototype._key_event_extra = function(event, name) {\n",
       "    // Handle any extra behaviour associated with a key event\n",
       "}\n",
       "\n",
       "mpl.figure.prototype.key_event = function(event, name) {\n",
       "\n",
       "    // Prevent repeat events\n",
       "    if (name == 'key_press')\n",
       "    {\n",
       "        if (event.which === this._key)\n",
       "            return;\n",
       "        else\n",
       "            this._key = event.which;\n",
       "    }\n",
       "    if (name == 'key_release')\n",
       "        this._key = null;\n",
       "\n",
       "    var value = '';\n",
       "    if (event.ctrlKey && event.which != 17)\n",
       "        value += \"ctrl+\";\n",
       "    if (event.altKey && event.which != 18)\n",
       "        value += \"alt+\";\n",
       "    if (event.shiftKey && event.which != 16)\n",
       "        value += \"shift+\";\n",
       "\n",
       "    value += 'k';\n",
       "    value += event.which.toString();\n",
       "\n",
       "    this._key_event_extra(event, name);\n",
       "\n",
       "    this.send_message(name, {key: value,\n",
       "                             guiEvent: simpleKeys(event)});\n",
       "    return false;\n",
       "}\n",
       "\n",
       "mpl.figure.prototype.toolbar_button_onclick = function(name) {\n",
       "    if (name == 'download') {\n",
       "        this.handle_save(this, null);\n",
       "    } else {\n",
       "        this.send_message(\"toolbar_button\", {name: name});\n",
       "    }\n",
       "};\n",
       "\n",
       "mpl.figure.prototype.toolbar_button_onmouseover = function(tooltip) {\n",
       "    this.message.textContent = tooltip;\n",
       "};\n",
       "mpl.toolbar_items = [[\"Home\", \"Reset original view\", \"fa fa-home icon-home\", \"home\"], [\"Back\", \"Back to previous view\", \"fa fa-arrow-left icon-arrow-left\", \"back\"], [\"Forward\", \"Forward to next view\", \"fa fa-arrow-right icon-arrow-right\", \"forward\"], [\"\", \"\", \"\", \"\"], [\"Pan\", \"Pan axes with left mouse, zoom with right\", \"fa fa-arrows icon-move\", \"pan\"], [\"Zoom\", \"Zoom to rectangle\", \"fa fa-square-o icon-check-empty\", \"zoom\"], [\"\", \"\", \"\", \"\"], [\"Download\", \"Download plot\", \"fa fa-floppy-o icon-save\", \"download\"]];\n",
       "\n",
       "mpl.extensions = [\"eps\", \"pdf\", \"png\", \"ps\", \"raw\", \"svg\"];\n",
       "\n",
       "mpl.default_extension = \"png\";var comm_websocket_adapter = function(comm) {\n",
       "    // Create a \"websocket\"-like object which calls the given IPython comm\n",
       "    // object with the appropriate methods. Currently this is a non binary\n",
       "    // socket, so there is still some room for performance tuning.\n",
       "    var ws = {};\n",
       "\n",
       "    ws.close = function() {\n",
       "        comm.close()\n",
       "    };\n",
       "    ws.send = function(m) {\n",
       "        //console.log('sending', m);\n",
       "        comm.send(m);\n",
       "    };\n",
       "    // Register the callback with on_msg.\n",
       "    comm.on_msg(function(msg) {\n",
       "        //console.log('receiving', msg['content']['data'], msg);\n",
       "        // Pass the mpl event to the overridden (by mpl) onmessage function.\n",
       "        ws.onmessage(msg['content']['data'])\n",
       "    });\n",
       "    return ws;\n",
       "}\n",
       "\n",
       "mpl.mpl_figure_comm = function(comm, msg) {\n",
       "    // This is the function which gets called when the mpl process\n",
       "    // starts-up an IPython Comm through the \"matplotlib\" channel.\n",
       "\n",
       "    var id = msg.content.data.id;\n",
       "    // Get hold of the div created by the display call when the Comm\n",
       "    // socket was opened in Python.\n",
       "    var element = $(\"#\" + id);\n",
       "    var ws_proxy = comm_websocket_adapter(comm)\n",
       "\n",
       "    function ondownload(figure, format) {\n",
       "        window.open(figure.imageObj.src);\n",
       "    }\n",
       "\n",
       "    var fig = new mpl.figure(id, ws_proxy,\n",
       "                           ondownload,\n",
       "                           element.get(0));\n",
       "\n",
       "    // Call onopen now - mpl needs it, as it is assuming we've passed it a real\n",
       "    // web socket which is closed, not our websocket->open comm proxy.\n",
       "    ws_proxy.onopen();\n",
       "\n",
       "    fig.parent_element = element.get(0);\n",
       "    fig.cell_info = mpl.find_output_cell(\"<div id='\" + id + \"'></div>\");\n",
       "    if (!fig.cell_info) {\n",
       "        console.error(\"Failed to find cell for figure\", id, fig);\n",
       "        return;\n",
       "    }\n",
       "\n",
       "    var output_index = fig.cell_info[2]\n",
       "    var cell = fig.cell_info[0];\n",
       "\n",
       "};\n",
       "\n",
       "mpl.figure.prototype.handle_close = function(fig, msg) {\n",
       "    var width = fig.canvas.width/mpl.ratio\n",
       "    fig.root.unbind('remove')\n",
       "\n",
       "    // Update the output cell to use the data from the current canvas.\n",
       "    fig.push_to_output();\n",
       "    var dataURL = fig.canvas.toDataURL();\n",
       "    // Re-enable the keyboard manager in IPython - without this line, in FF,\n",
       "    // the notebook keyboard shortcuts fail.\n",
       "    IPython.keyboard_manager.enable()\n",
       "    $(fig.parent_element).html('<img src=\"' + dataURL + '\" width=\"' + width + '\">');\n",
       "    fig.close_ws(fig, msg);\n",
       "}\n",
       "\n",
       "mpl.figure.prototype.close_ws = function(fig, msg){\n",
       "    fig.send_message('closing', msg);\n",
       "    // fig.ws.close()\n",
       "}\n",
       "\n",
       "mpl.figure.prototype.push_to_output = function(remove_interactive) {\n",
       "    // Turn the data on the canvas into data in the output cell.\n",
       "    var width = this.canvas.width/mpl.ratio\n",
       "    var dataURL = this.canvas.toDataURL();\n",
       "    this.cell_info[1]['text/html'] = '<img src=\"' + dataURL + '\" width=\"' + width + '\">';\n",
       "}\n",
       "\n",
       "mpl.figure.prototype.updated_canvas_event = function() {\n",
       "    // Tell IPython that the notebook contents must change.\n",
       "    IPython.notebook.set_dirty(true);\n",
       "    this.send_message(\"ack\", {});\n",
       "    var fig = this;\n",
       "    // Wait a second, then push the new image to the DOM so\n",
       "    // that it is saved nicely (might be nice to debounce this).\n",
       "    setTimeout(function () { fig.push_to_output() }, 1000);\n",
       "}\n",
       "\n",
       "mpl.figure.prototype._init_toolbar = function() {\n",
       "    var fig = this;\n",
       "\n",
       "    var nav_element = $('<div/>')\n",
       "    nav_element.attr('style', 'width: 100%');\n",
       "    this.root.append(nav_element);\n",
       "\n",
       "    // Define a callback function for later on.\n",
       "    function toolbar_event(event) {\n",
       "        return fig.toolbar_button_onclick(event['data']);\n",
       "    }\n",
       "    function toolbar_mouse_event(event) {\n",
       "        return fig.toolbar_button_onmouseover(event['data']);\n",
       "    }\n",
       "\n",
       "    for(var toolbar_ind in mpl.toolbar_items){\n",
       "        var name = mpl.toolbar_items[toolbar_ind][0];\n",
       "        var tooltip = mpl.toolbar_items[toolbar_ind][1];\n",
       "        var image = mpl.toolbar_items[toolbar_ind][2];\n",
       "        var method_name = mpl.toolbar_items[toolbar_ind][3];\n",
       "\n",
       "        if (!name) { continue; };\n",
       "\n",
       "        var button = $('<button class=\"btn btn-default\" href=\"#\" title=\"' + name + '\"><i class=\"fa ' + image + ' fa-lg\"></i></button>');\n",
       "        button.click(method_name, toolbar_event);\n",
       "        button.mouseover(tooltip, toolbar_mouse_event);\n",
       "        nav_element.append(button);\n",
       "    }\n",
       "\n",
       "    // Add the status bar.\n",
       "    var status_bar = $('<span class=\"mpl-message\" style=\"text-align:right; float: right;\"/>');\n",
       "    nav_element.append(status_bar);\n",
       "    this.message = status_bar[0];\n",
       "\n",
       "    // Add the close button to the window.\n",
       "    var buttongrp = $('<div class=\"btn-group inline pull-right\"></div>');\n",
       "    var button = $('<button class=\"btn btn-mini btn-primary\" href=\"#\" title=\"Stop Interaction\"><i class=\"fa fa-power-off icon-remove icon-large\"></i></button>');\n",
       "    button.click(function (evt) { fig.handle_close(fig, {}); } );\n",
       "    button.mouseover('Stop Interaction', toolbar_mouse_event);\n",
       "    buttongrp.append(button);\n",
       "    var titlebar = this.root.find($('.ui-dialog-titlebar'));\n",
       "    titlebar.prepend(buttongrp);\n",
       "}\n",
       "\n",
       "mpl.figure.prototype._root_extra_style = function(el){\n",
       "    var fig = this\n",
       "    el.on(\"remove\", function(){\n",
       "\tfig.close_ws(fig, {});\n",
       "    });\n",
       "}\n",
       "\n",
       "mpl.figure.prototype._canvas_extra_style = function(el){\n",
       "    // this is important to make the div 'focusable\n",
       "    el.attr('tabindex', 0)\n",
       "    // reach out to IPython and tell the keyboard manager to turn it's self\n",
       "    // off when our div gets focus\n",
       "\n",
       "    // location in version 3\n",
       "    if (IPython.notebook.keyboard_manager) {\n",
       "        IPython.notebook.keyboard_manager.register_events(el);\n",
       "    }\n",
       "    else {\n",
       "        // location in version 2\n",
       "        IPython.keyboard_manager.register_events(el);\n",
       "    }\n",
       "\n",
       "}\n",
       "\n",
       "mpl.figure.prototype._key_event_extra = function(event, name) {\n",
       "    var manager = IPython.notebook.keyboard_manager;\n",
       "    if (!manager)\n",
       "        manager = IPython.keyboard_manager;\n",
       "\n",
       "    // Check for shift+enter\n",
       "    if (event.shiftKey && event.which == 13) {\n",
       "        this.canvas_div.blur();\n",
       "        event.shiftKey = false;\n",
       "        // Send a \"J\" for go to next cell\n",
       "        event.which = 74;\n",
       "        event.keyCode = 74;\n",
       "        manager.command_mode();\n",
       "        manager.handle_keydown(event);\n",
       "    }\n",
       "}\n",
       "\n",
       "mpl.figure.prototype.handle_save = function(fig, msg) {\n",
       "    fig.ondownload(fig, null);\n",
       "}\n",
       "\n",
       "\n",
       "mpl.find_output_cell = function(html_output) {\n",
       "    // Return the cell and output element which can be found *uniquely* in the notebook.\n",
       "    // Note - this is a bit hacky, but it is done because the \"notebook_saving.Notebook\"\n",
       "    // IPython event is triggered only after the cells have been serialised, which for\n",
       "    // our purposes (turning an active figure into a static one), is too late.\n",
       "    var cells = IPython.notebook.get_cells();\n",
       "    var ncells = cells.length;\n",
       "    for (var i=0; i<ncells; i++) {\n",
       "        var cell = cells[i];\n",
       "        if (cell.cell_type === 'code'){\n",
       "            for (var j=0; j<cell.output_area.outputs.length; j++) {\n",
       "                var data = cell.output_area.outputs[j];\n",
       "                if (data.data) {\n",
       "                    // IPython >= 3 moved mimebundle to data attribute of output\n",
       "                    data = data.data;\n",
       "                }\n",
       "                if (data['text/html'] == html_output) {\n",
       "                    return [cell, data, j];\n",
       "                }\n",
       "            }\n",
       "        }\n",
       "    }\n",
       "}\n",
       "\n",
       "// Register the function which deals with the matplotlib target/channel.\n",
       "// The kernel may be null if the page has been refreshed.\n",
       "if (IPython.notebook.kernel != null) {\n",
       "    IPython.notebook.kernel.comm_manager.register_target('matplotlib', mpl.mpl_figure_comm);\n",
       "}\n"
      ],
      "text/plain": [
       "<IPython.core.display.Javascript object>"
      ]
     },
     "metadata": {},
     "output_type": "display_data"
    },
    {
     "data": {
      "text/html": [
       "<img src=\"data:image/png;base64,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\" width=\"640\">"
      ],
      "text/plain": [
       "<IPython.core.display.HTML object>"
      ]
     },
     "metadata": {},
     "output_type": "display_data"
    },
    {
     "data": {
      "text/plain": [
       "(-0.1, 0.6435664729747067)"
      ]
     },
     "execution_count": 123,
     "metadata": {},
     "output_type": "execute_result"
    }
   ],
   "source": [
    "%matplotlib notebook\n",
    "import matplotlib.pyplot as plt\n",
    "import math\n",
    "\n",
    "g = 9.8\n",
    "\n",
    "h = 0.\n",
    "while True:\n",
    "    x = input(\"initial height h in m: (press return for h = 0 m): \")\n",
    "    if x == \"\":  break\n",
    "    h = float(x)\n",
    "    if(h>=0): break\n",
    "\n",
    "\n",
    "theta = 20.\n",
    "while True:\n",
    "    x = input(\"angle theta in [0,90] degrees (press return for {0} degree): \".format(theta))\n",
    "    if x == \"\" : break\n",
    "    theta  = float(x)\n",
    "    if(theta>0 and theta<90): break\n",
    "theta = (theta/90.)*math.pi/2.\n",
    "        \n",
    "\n",
    "v0 = 10.\n",
    "while True:\n",
    "    x = input(\"insert v_0 > 0 in m/s (press return for {0} m/s): \".format(v0))\n",
    "    if x == \"\":  break\n",
    "    v0 = float(x)\n",
    "    if(v0>0): break\n",
    "\n",
    "dt=0.1\n",
    "while True:\n",
    "    x = input(\"insert dt > 0 in sec (press return for {0} sec): \".format(dt))\n",
    "    if x == \"\": break\n",
    "    dt = float(x)\n",
    "    if(dt>0): break\n",
    "      \n",
    "        \n",
    "v0x = v0*math.cos(theta)\n",
    "v0y = v0*math.sin(theta)\n",
    "\n",
    "print(\"v0_x: %.3f m/s \\t v0_y: %.3f m/s\"%(v0x,v0y))\n",
    "\n",
    "t=0.\n",
    "x=[]\n",
    "y=[]\n",
    "xi=0\n",
    "yi=h\n",
    "\n",
    "while yi>=0:\n",
    "    x.append(xi)\n",
    "    y.append(yi)\n",
    "    t+=dt\n",
    "    xi=v0x*t\n",
    "    yi=h+v0y*t-0.5*g*t*t\n",
    "\n",
    "#print(x,y)\n",
    "plt.plot(x,y)\n",
    "\n",
    "# we also make the plot nicer\n",
    "plt.title('motion under gravity')\n",
    "plt.xlabel(\"x [m]\")\n",
    "plt.ylabel(\"y [m]\")\n",
    "plt.grid(True)\n",
    "plt.xlim(-0.1, max(x)*1.1)\n",
    "plt.ylim(-0.1,max(y)*1.10)\n"
   ]
  },
  {
   "cell_type": "code",
   "execution_count": null,
   "metadata": {},
   "outputs": [],
   "source": []
  }
 ],
 "metadata": {
  "kernelspec": {
   "display_name": "Python 3",
   "language": "python",
   "name": "python3"
  },
  "language_info": {
   "codemirror_mode": {
    "name": "ipython",
    "version": 3
   },
   "file_extension": ".py",
   "mimetype": "text/x-python",
   "name": "python",
   "nbconvert_exporter": "python",
   "pygments_lexer": "ipython3",
   "version": "3.7.0"
  }
 },
 "nbformat": 4,
 "nbformat_minor": 2
}
