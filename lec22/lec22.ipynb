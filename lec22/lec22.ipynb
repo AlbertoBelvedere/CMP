{
 "cells": [
  {
   "cell_type": "markdown",
   "metadata": {
    "slideshow": {
     "slide_type": "slide"
    }
   },
   "source": [
    "# Input from keyboard\n",
    "\n",
    "`input()` acquires simple text from keyboard. "
   ]
  },
  {
   "cell_type": "code",
   "execution_count": 1,
   "metadata": {
    "slideshow": {
     "slide_type": "subslide"
    }
   },
   "outputs": [
    {
     "name": "stdout",
     "output_type": "stream",
     "text": [
      "insert a number: 3\n",
      "your input: 3\n"
     ]
    },
    {
     "ename": "TypeError",
     "evalue": "'>' not supported between instances of 'str' and 'int'",
     "output_type": "error",
     "traceback": [
      "\u001b[0;31m---------------------------------------------------------------------------\u001b[0m",
      "\u001b[0;31mTypeError\u001b[0m                                 Traceback (most recent call last)",
      "\u001b[0;32m<ipython-input-1-0b5bf50bc996>\u001b[0m in \u001b[0;36m<module>\u001b[0;34m\u001b[0m\n\u001b[1;32m      1\u001b[0m \u001b[0mz\u001b[0m \u001b[0;34m=\u001b[0m \u001b[0minput\u001b[0m\u001b[0;34m(\u001b[0m\u001b[0;34m\"insert a number: \"\u001b[0m\u001b[0;34m)\u001b[0m\u001b[0;34m\u001b[0m\u001b[0m\n\u001b[1;32m      2\u001b[0m \u001b[0mprint\u001b[0m\u001b[0;34m(\u001b[0m\u001b[0;34m\"your input: \"\u001b[0m\u001b[0;34m+\u001b[0m\u001b[0mz\u001b[0m\u001b[0;34m)\u001b[0m\u001b[0;34m\u001b[0m\u001b[0m\n\u001b[0;32m----> 3\u001b[0;31m \u001b[0;32mif\u001b[0m \u001b[0mz\u001b[0m\u001b[0;34m>\u001b[0m\u001b[0;36m0\u001b[0m\u001b[0;34m:\u001b[0m\u001b[0;34m\u001b[0m\u001b[0m\n\u001b[0m\u001b[1;32m      4\u001b[0m     \u001b[0mprint\u001b[0m\u001b[0;34m(\u001b[0m\u001b[0;34m\"positive number: \"\u001b[0m\u001b[0;34m,\u001b[0m \u001b[0mz\u001b[0m\u001b[0;34m)\u001b[0m\u001b[0;34m\u001b[0m\u001b[0m\n",
      "\u001b[0;31mTypeError\u001b[0m: '>' not supported between instances of 'str' and 'int'"
     ]
    }
   ],
   "source": [
    "z = input(\"insert a number: \")\n",
    "print(\"your input: \"+z)\n",
    "if z>0:\n",
    "    print(\"positive number: \", z)"
   ]
  },
  {
   "cell_type": "markdown",
   "metadata": {
    "slideshow": {
     "slide_type": "subslide"
    }
   },
   "source": [
    "`z` is simple text and cannot be used with the `>` operator. \n",
    "\n",
    "You need to explicitly convert to the type you need."
   ]
  },
  {
   "cell_type": "code",
   "execution_count": 3,
   "metadata": {
    "slideshow": {
     "slide_type": "subslide"
    }
   },
   "outputs": [
    {
     "name": "stdout",
     "output_type": "stream",
     "text": [
      "insert integer: -2\n",
      "x =  -2\n"
     ]
    }
   ],
   "source": [
    "x = int(input(\"insert integer: \"))\n",
    "print (\"x = \", x)"
   ]
  },
  {
   "cell_type": "code",
   "execution_count": 4,
   "metadata": {
    "slideshow": {
     "slide_type": "subslide"
    }
   },
   "outputs": [
    {
     "name": "stdout",
     "output_type": "stream",
     "text": [
      "insert integer: 2\n",
      "a rational number? 4\n",
      "y: 4.0 > x:2\n"
     ]
    }
   ],
   "source": [
    "x = int(input(\"insert integer: \"))\n",
    "y = float( input(\"a rational number? \"))\n",
    "\n",
    "if x > y:\n",
    "    print(\"x: {0} > y:{1}\".format(x,y)  )\n",
    "else: \n",
    "    print(\"y: {1} > x:{0}\".format(x,y) )\n",
    "\n"
   ]
  },
  {
   "cell_type": "markdown",
   "metadata": {},
   "source": [
    "# built-in types\n",
    "\n",
    "Commonly used numerical and string types are\n",
    "\n",
    "type | Description |\n",
    ":----|:-----------\n",
    " str | similar to C++ string \n",
    " float | C double precision \n",
    " complex | complex number with real parts x + yj\n",
    " int | integer \n",
    " bool | boolean variable. special integer with just 1 bit\n",
    "\n",
    "you have to explicitly convert `input()` to desired type for use.\n"
   ]
  },
  {
   "cell_type": "code",
   "execution_count": 5,
   "metadata": {},
   "outputs": [
    {
     "name": "stdout",
     "output_type": "stream",
     "text": [
      "insert an integer: 2\n",
      "2\n"
     ]
    }
   ],
   "source": [
    "anint = int( input(\"insert an integer: \"))\n",
    "print(anint)"
   ]
  },
  {
   "cell_type": "markdown",
   "metadata": {},
   "source": [
    "by putting the explicit cast, you will have an error if a floating point number is provided in input.\n",
    "There is no automatic conversion!"
   ]
  },
  {
   "cell_type": "code",
   "execution_count": 6,
   "metadata": {},
   "outputs": [
    {
     "name": "stdout",
     "output_type": "stream",
     "text": [
      "insert a float: 0.97889\n",
      "0.97889\n"
     ]
    }
   ],
   "source": [
    "afloat = float( input(\"insert a float: \"))\n",
    "print(afloat)"
   ]
  },
  {
   "cell_type": "markdown",
   "metadata": {},
   "source": [
    "However an integer literal can be used as float:"
   ]
  },
  {
   "cell_type": "code",
   "execution_count": 7,
   "metadata": {},
   "outputs": [
    {
     "name": "stdout",
     "output_type": "stream",
     "text": [
      "insert a float: 123\n",
      "123.0\n"
     ]
    }
   ],
   "source": [
    "afloat = float( input(\"insert a float: \"))\n",
    "print(afloat)"
   ]
  },
  {
   "cell_type": "code",
   "execution_count": 8,
   "metadata": {},
   "outputs": [
    {
     "name": "stdout",
     "output_type": "stream",
     "text": [
      "insert a complex number: -0.89+3.4j\n",
      "(-0.89+3.4j)\n"
     ]
    }
   ],
   "source": [
    "acomplex = complex( input(\"insert a complex number: \"))\n",
    "print(acomplex)"
   ]
  },
  {
   "cell_type": "markdown",
   "metadata": {},
   "source": [
    "## bool type\n",
    "same as bool in C++. used for logical operation and uses just one bit to store the info"
   ]
  },
  {
   "cell_type": "code",
   "execution_count": 19,
   "metadata": {},
   "outputs": [
    {
     "name": "stdout",
     "output_type": "stream",
     "text": [
      "True <class 'bool'> 1\n",
      "False 0\n",
      "True 1\n",
      "True 1\n",
      "<class 'float'> <class 'bool'> <class 'str'>\n"
     ]
    }
   ],
   "source": [
    "c = 2.3 < 3\n",
    "print(c,type(c),c.bit_length())\n",
    "\n",
    "c = bool(0)\n",
    "print(c,c.bit_length())\n",
    "\n",
    "c = bool(-3)\n",
    "print(c,c.bit_length())\n",
    "\n",
    "d = True\n",
    "print(d, int(d))\n",
    "\n",
    "print(type(2.3), type(True), type(\"hello\"))"
   ]
  },
  {
   "cell_type": "markdown",
   "metadata": {},
   "source": [
    "## integers in python\n",
    "Unlike in C/C++, you can have arbitrarily large integers in python"
   ]
  },
  {
   "cell_type": "code",
   "execution_count": 47,
   "metadata": {},
   "outputs": [
    {
     "name": "stdout",
     "output_type": "stream",
     "text": [
      "2282964069396179429161277601795098342183689069116233595351030111107374894317918598839132436948135567673806054712849856030005501307907699595360638611572383720569\n",
      "<class 'int'>\n",
      "18334\n"
     ]
    }
   ],
   "source": [
    "j = 3**334\n",
    "print(j)\n",
    "print(type(j))\n",
    "print( (3**11567).bit_length())"
   ]
  },
  {
   "cell_type": "markdown",
   "metadata": {},
   "source": [
    "## Integer in arbitrary base\n",
    "\n",
    "A neat feature of integers in python is easy conversion to an arbitrary base"
   ]
  },
  {
   "cell_type": "code",
   "execution_count": 48,
   "metadata": {},
   "outputs": [
    {
     "data": {
      "text/plain": [
       "5"
      ]
     },
     "execution_count": 48,
     "metadata": {},
     "output_type": "execute_result"
    }
   ],
   "source": [
    "int('101',base=2)"
   ]
  },
  {
   "cell_type": "code",
   "execution_count": 10,
   "metadata": {},
   "outputs": [
    {
     "data": {
      "text/plain": [
       "10"
      ]
     },
     "execution_count": 10,
     "metadata": {},
     "output_type": "execute_result"
    }
   ],
   "source": [
    "int('101', base=3)"
   ]
  },
  {
   "cell_type": "code",
   "execution_count": 11,
   "metadata": {},
   "outputs": [
    {
     "data": {
      "text/plain": [
       "26"
      ]
     },
     "execution_count": 11,
     "metadata": {},
     "output_type": "execute_result"
    }
   ],
   "source": [
    "int('101', base=5)"
   ]
  },
  {
   "cell_type": "code",
   "execution_count": 12,
   "metadata": {},
   "outputs": [
    {
     "data": {
      "text/plain": [
       "50"
      ]
     },
     "execution_count": 12,
     "metadata": {},
     "output_type": "execute_result"
    }
   ],
   "source": [
    "int('101', base=7)"
   ]
  },
  {
   "cell_type": "code",
   "execution_count": 13,
   "metadata": {},
   "outputs": [
    {
     "data": {
      "text/plain": [
       "65"
      ]
     },
     "execution_count": 13,
     "metadata": {},
     "output_type": "execute_result"
    }
   ],
   "source": [
    "int('101', base=8)"
   ]
  },
  {
   "cell_type": "code",
   "execution_count": 14,
   "metadata": {},
   "outputs": [
    {
     "data": {
      "text/plain": [
       "257"
      ]
     },
     "execution_count": 14,
     "metadata": {},
     "output_type": "execute_result"
    }
   ],
   "source": [
    "int('101', base=16)"
   ]
  },
  {
   "cell_type": "code",
   "execution_count": 21,
   "metadata": {},
   "outputs": [
    {
     "data": {
      "text/plain": [
       "31"
      ]
     },
     "execution_count": 21,
     "metadata": {},
     "output_type": "execute_result"
    }
   ],
   "source": [
    "int('1F',base=16)"
   ]
  },
  {
   "cell_type": "code",
   "execution_count": 22,
   "metadata": {},
   "outputs": [
    {
     "data": {
      "text/plain": [
       "65394"
      ]
     },
     "execution_count": 22,
     "metadata": {},
     "output_type": "execute_result"
    }
   ],
   "source": [
    "int('FF01',base=16)+int('1110001',base=2)"
   ]
  },
  {
   "cell_type": "markdown",
   "metadata": {},
   "source": [
    "# Inline help and inspection\n",
    "In addition to `?` in jupyter, you can use the inline help facility in the interactive python session:"
   ]
  },
  {
   "cell_type": "code",
   "execution_count": 23,
   "metadata": {},
   "outputs": [
    {
     "name": "stdout",
     "output_type": "stream",
     "text": [
      "Help on class int in module builtins:\n",
      "\n",
      "class int(object)\n",
      " |  int([x]) -> integer\n",
      " |  int(x, base=10) -> integer\n",
      " |  \n",
      " |  Convert a number or string to an integer, or return 0 if no arguments\n",
      " |  are given.  If x is a number, return x.__int__().  For floating point\n",
      " |  numbers, this truncates towards zero.\n",
      " |  \n",
      " |  If x is not a number or if base is given, then x must be a string,\n",
      " |  bytes, or bytearray instance representing an integer literal in the\n",
      " |  given base.  The literal can be preceded by '+' or '-' and be surrounded\n",
      " |  by whitespace.  The base defaults to 10.  Valid bases are 0 and 2-36.\n",
      " |  Base 0 means to interpret the base from the string as an integer literal.\n",
      " |  >>> int('0b100', base=0)\n",
      " |  4\n",
      " |  \n",
      " |  Methods defined here:\n",
      " |  \n",
      " |  __abs__(self, /)\n",
      " |      abs(self)\n",
      " |  \n",
      " |  __add__(self, value, /)\n",
      " |      Return self+value.\n",
      " |  \n",
      " |  __and__(self, value, /)\n",
      " |      Return self&value.\n",
      " |  \n",
      " |  __bool__(self, /)\n",
      " |      self != 0\n",
      " |  \n",
      " |  __ceil__(...)\n",
      " |      Ceiling of an Integral returns itself.\n",
      " |  \n",
      " |  __divmod__(self, value, /)\n",
      " |      Return divmod(self, value).\n",
      " |  \n",
      " |  __eq__(self, value, /)\n",
      " |      Return self==value.\n",
      " |  \n",
      " |  __float__(self, /)\n",
      " |      float(self)\n",
      " |  \n",
      " |  __floor__(...)\n",
      " |      Flooring an Integral returns itself.\n",
      " |  \n",
      " |  __floordiv__(self, value, /)\n",
      " |      Return self//value.\n",
      " |  \n",
      " |  __format__(self, format_spec, /)\n",
      " |      Default object formatter.\n",
      " |  \n",
      " |  __ge__(self, value, /)\n",
      " |      Return self>=value.\n",
      " |  \n",
      " |  __getattribute__(self, name, /)\n",
      " |      Return getattr(self, name).\n",
      " |  \n",
      " |  __getnewargs__(self, /)\n",
      " |  \n",
      " |  __gt__(self, value, /)\n",
      " |      Return self>value.\n",
      " |  \n",
      " |  __hash__(self, /)\n",
      " |      Return hash(self).\n",
      " |  \n",
      " |  __index__(self, /)\n",
      " |      Return self converted to an integer, if self is suitable for use as an index into a list.\n",
      " |  \n",
      " |  __int__(self, /)\n",
      " |      int(self)\n",
      " |  \n",
      " |  __invert__(self, /)\n",
      " |      ~self\n",
      " |  \n",
      " |  __le__(self, value, /)\n",
      " |      Return self<=value.\n",
      " |  \n",
      " |  __lshift__(self, value, /)\n",
      " |      Return self<<value.\n",
      " |  \n",
      " |  __lt__(self, value, /)\n",
      " |      Return self<value.\n",
      " |  \n",
      " |  __mod__(self, value, /)\n",
      " |      Return self%value.\n",
      " |  \n",
      " |  __mul__(self, value, /)\n",
      " |      Return self*value.\n",
      " |  \n",
      " |  __ne__(self, value, /)\n",
      " |      Return self!=value.\n",
      " |  \n",
      " |  __neg__(self, /)\n",
      " |      -self\n",
      " |  \n",
      " |  __or__(self, value, /)\n",
      " |      Return self|value.\n",
      " |  \n",
      " |  __pos__(self, /)\n",
      " |      +self\n",
      " |  \n",
      " |  __pow__(self, value, mod=None, /)\n",
      " |      Return pow(self, value, mod).\n",
      " |  \n",
      " |  __radd__(self, value, /)\n",
      " |      Return value+self.\n",
      " |  \n",
      " |  __rand__(self, value, /)\n",
      " |      Return value&self.\n",
      " |  \n",
      " |  __rdivmod__(self, value, /)\n",
      " |      Return divmod(value, self).\n",
      " |  \n",
      " |  __repr__(self, /)\n",
      " |      Return repr(self).\n",
      " |  \n",
      " |  __rfloordiv__(self, value, /)\n",
      " |      Return value//self.\n",
      " |  \n",
      " |  __rlshift__(self, value, /)\n",
      " |      Return value<<self.\n",
      " |  \n",
      " |  __rmod__(self, value, /)\n",
      " |      Return value%self.\n",
      " |  \n",
      " |  __rmul__(self, value, /)\n",
      " |      Return value*self.\n",
      " |  \n",
      " |  __ror__(self, value, /)\n",
      " |      Return value|self.\n",
      " |  \n",
      " |  __round__(...)\n",
      " |      Rounding an Integral returns itself.\n",
      " |      Rounding with an ndigits argument also returns an integer.\n",
      " |  \n",
      " |  __rpow__(self, value, mod=None, /)\n",
      " |      Return pow(value, self, mod).\n",
      " |  \n",
      " |  __rrshift__(self, value, /)\n",
      " |      Return value>>self.\n",
      " |  \n",
      " |  __rshift__(self, value, /)\n",
      " |      Return self>>value.\n",
      " |  \n",
      " |  __rsub__(self, value, /)\n",
      " |      Return value-self.\n",
      " |  \n",
      " |  __rtruediv__(self, value, /)\n",
      " |      Return value/self.\n",
      " |  \n",
      " |  __rxor__(self, value, /)\n",
      " |      Return value^self.\n",
      " |  \n",
      " |  __sizeof__(self, /)\n",
      " |      Returns size in memory, in bytes.\n",
      " |  \n",
      " |  __str__(self, /)\n",
      " |      Return str(self).\n",
      " |  \n",
      " |  __sub__(self, value, /)\n",
      " |      Return self-value.\n",
      " |  \n",
      " |  __truediv__(self, value, /)\n",
      " |      Return self/value.\n",
      " |  \n",
      " |  __trunc__(...)\n",
      " |      Truncating an Integral returns itself.\n",
      " |  \n",
      " |  __xor__(self, value, /)\n",
      " |      Return self^value.\n",
      " |  \n",
      " |  bit_length(self, /)\n",
      " |      Number of bits necessary to represent self in binary.\n",
      " |      \n",
      " |      >>> bin(37)\n",
      " |      '0b100101'\n",
      " |      >>> (37).bit_length()\n",
      " |      6\n",
      " |  \n",
      " |  conjugate(...)\n",
      " |      Returns self, the complex conjugate of any int.\n",
      " |  \n",
      " |  to_bytes(self, /, length, byteorder, *, signed=False)\n",
      " |      Return an array of bytes representing an integer.\n",
      " |      \n",
      " |      length\n",
      " |        Length of bytes object to use.  An OverflowError is raised if the\n",
      " |        integer is not representable with the given number of bytes.\n",
      " |      byteorder\n",
      " |        The byte order used to represent the integer.  If byteorder is 'big',\n",
      " |        the most significant byte is at the beginning of the byte array.  If\n",
      " |        byteorder is 'little', the most significant byte is at the end of the\n",
      " |        byte array.  To request the native byte order of the host system, use\n",
      " |        `sys.byteorder' as the byte order value.\n",
      " |      signed\n",
      " |        Determines whether two's complement is used to represent the integer.\n",
      " |        If signed is False and a negative integer is given, an OverflowError\n",
      " |        is raised.\n",
      " |  \n",
      " |  ----------------------------------------------------------------------\n",
      " |  Class methods defined here:\n",
      " |  \n",
      " |  from_bytes(bytes, byteorder, *, signed=False) from builtins.type\n",
      " |      Return the integer represented by the given array of bytes.\n",
      " |      \n",
      " |      bytes\n",
      " |        Holds the array of bytes to convert.  The argument must either\n",
      " |        support the buffer protocol or be an iterable object producing bytes.\n",
      " |        Bytes and bytearray are examples of built-in objects that support the\n",
      " |        buffer protocol.\n",
      " |      byteorder\n",
      " |        The byte order used to represent the integer.  If byteorder is 'big',\n",
      " |        the most significant byte is at the beginning of the byte array.  If\n",
      " |        byteorder is 'little', the most significant byte is at the end of the\n",
      " |        byte array.  To request the native byte order of the host system, use\n",
      " |        `sys.byteorder' as the byte order value.\n",
      " |      signed\n",
      " |        Indicates whether two's complement is used to represent the integer.\n",
      " |  \n",
      " |  ----------------------------------------------------------------------\n",
      " |  Static methods defined here:\n",
      " |  \n",
      " |  __new__(*args, **kwargs) from builtins.type\n",
      " |      Create and return a new object.  See help(type) for accurate signature.\n",
      " |  \n",
      " |  ----------------------------------------------------------------------\n",
      " |  Data descriptors defined here:\n",
      " |  \n",
      " |  denominator\n",
      " |      the denominator of a rational number in lowest terms\n",
      " |  \n",
      " |  imag\n",
      " |      the imaginary part of a complex number\n",
      " |  \n",
      " |  numerator\n",
      " |      the numerator of a rational number in lowest terms\n",
      " |  \n",
      " |  real\n",
      " |      the real part of a complex number\n",
      "\n"
     ]
    }
   ],
   "source": [
    "help(int)"
   ]
  },
  {
   "cell_type": "markdown",
   "metadata": {},
   "source": [
    "and since everything is an object in python, you can list the attributes, data and functions which are all objects, within any object."
   ]
  },
  {
   "cell_type": "code",
   "execution_count": 19,
   "metadata": {},
   "outputs": [
    {
     "data": {
      "text/plain": [
       "['__abs__',\n",
       " '__add__',\n",
       " '__and__',\n",
       " '__bool__',\n",
       " '__ceil__',\n",
       " '__class__',\n",
       " '__delattr__',\n",
       " '__dir__',\n",
       " '__divmod__',\n",
       " '__doc__',\n",
       " '__eq__',\n",
       " '__float__',\n",
       " '__floor__',\n",
       " '__floordiv__',\n",
       " '__format__',\n",
       " '__ge__',\n",
       " '__getattribute__',\n",
       " '__getnewargs__',\n",
       " '__gt__',\n",
       " '__hash__',\n",
       " '__index__',\n",
       " '__init__',\n",
       " '__init_subclass__',\n",
       " '__int__',\n",
       " '__invert__',\n",
       " '__le__',\n",
       " '__lshift__',\n",
       " '__lt__',\n",
       " '__mod__',\n",
       " '__mul__',\n",
       " '__ne__',\n",
       " '__neg__',\n",
       " '__new__',\n",
       " '__or__',\n",
       " '__pos__',\n",
       " '__pow__',\n",
       " '__radd__',\n",
       " '__rand__',\n",
       " '__rdivmod__',\n",
       " '__reduce__',\n",
       " '__reduce_ex__',\n",
       " '__repr__',\n",
       " '__rfloordiv__',\n",
       " '__rlshift__',\n",
       " '__rmod__',\n",
       " '__rmul__',\n",
       " '__ror__',\n",
       " '__round__',\n",
       " '__rpow__',\n",
       " '__rrshift__',\n",
       " '__rshift__',\n",
       " '__rsub__',\n",
       " '__rtruediv__',\n",
       " '__rxor__',\n",
       " '__setattr__',\n",
       " '__sizeof__',\n",
       " '__str__',\n",
       " '__sub__',\n",
       " '__subclasshook__',\n",
       " '__truediv__',\n",
       " '__trunc__',\n",
       " '__xor__',\n",
       " 'bit_length',\n",
       " 'conjugate',\n",
       " 'denominator',\n",
       " 'from_bytes',\n",
       " 'imag',\n",
       " 'numerator',\n",
       " 'real',\n",
       " 'to_bytes']"
      ]
     },
     "execution_count": 19,
     "metadata": {},
     "output_type": "execute_result"
    }
   ],
   "source": [
    "dir(int)"
   ]
  },
  {
   "cell_type": "code",
   "execution_count": 20,
   "metadata": {},
   "outputs": [
    {
     "name": "stdout",
     "output_type": "stream",
     "text": [
      "Help on method_descriptor:\n",
      "\n",
      "bit_length(self, /)\n",
      "    Number of bits necessary to represent self in binary.\n",
      "    \n",
      "    >>> bin(37)\n",
      "    '0b100101'\n",
      "    >>> (37).bit_length()\n",
      "    6\n",
      "\n"
     ]
    }
   ],
   "source": [
    "help(int.bit_length)"
   ]
  },
  {
   "cell_type": "code",
   "execution_count": 25,
   "metadata": {},
   "outputs": [
    {
     "name": "stdout",
     "output_type": "stream",
     "text": [
      "Help on built-in function bin in module builtins:\n",
      "\n",
      "bin(number, /)\n",
      "    Return the binary representation of an integer.\n",
      "    \n",
      "    >>> bin(2796202)\n",
      "    '0b1010101010101010101010'\n",
      "\n"
     ]
    }
   ],
   "source": [
    "help(bin)"
   ]
  },
  {
   "cell_type": "markdown",
   "metadata": {},
   "source": [
    "There are actually built-in functions for easy base conversion"
   ]
  },
  {
   "cell_type": "code",
   "execution_count": 25,
   "metadata": {},
   "outputs": [
    {
     "name": "stdout",
     "output_type": "stream",
     "text": [
      "0b10111 0o27 0x17\n"
     ]
    },
    {
     "data": {
      "text/plain": [
       "41"
      ]
     },
     "execution_count": 25,
     "metadata": {},
     "output_type": "execute_result"
    }
   ],
   "source": [
    "c = 23\n",
    "print( bin(c), oct(c), hex(c))\n",
    "\n",
    "0x1F + 3 +0b111"
   ]
  },
  {
   "cell_type": "markdown",
   "metadata": {},
   "source": [
    "So finally you can quickly exercise your ability to convert between hexadecimal and binary bases."
   ]
  },
  {
   "cell_type": "code",
   "execution_count": 26,
   "metadata": {},
   "outputs": [
    {
     "name": "stdout",
     "output_type": "stream",
     "text": [
      "0x18\n"
     ]
    }
   ],
   "source": [
    "print( hex(0b00011000))"
   ]
  },
  {
   "cell_type": "markdown",
   "metadata": {},
   "source": [
    "# Flow control in python\n",
    "The main difference with respect to C++ is the lack of `}` and `;` and use of `:` and indentation for logical structure\n",
    "\n",
    "## If/elif/else "
   ]
  },
  {
   "cell_type": "code",
   "execution_count": 50,
   "metadata": {},
   "outputs": [
    {
     "name": "stdout",
     "output_type": "stream",
     "text": [
      "insert a number: 3\n",
      "x > 1\n"
     ]
    }
   ],
   "source": [
    "x = float(input(\"insert a number: \"))\n",
    "if x < 0 :\n",
    "    pass\n",
    "elif x < 1:\n",
    "    print(\"0 < x < 1\")\n",
    "else:\n",
    "    print(\"x > 1\")\n",
    "    "
   ]
  },
  {
   "cell_type": "markdown",
   "metadata": {},
   "source": [
    "The new keyword `pass` is needed for an empty scope. It does not skip anything. It only tells the interpreter that in this scope there is nothing to do. It is equivalent to `{}` in C++."
   ]
  },
  {
   "cell_type": "markdown",
   "metadata": {},
   "source": [
    "## while loop"
   ]
  },
  {
   "cell_type": "code",
   "execution_count": 51,
   "metadata": {},
   "outputs": [
    {
     "name": "stdout",
     "output_type": "stream",
     "text": [
      "insert x in [0,1]: -0.4\n",
      "insert x in [0,1]: 4\n",
      "insert x in [0,1]: 0.99\n"
     ]
    }
   ],
   "source": [
    "w = -2\n",
    "while w<0 or w>1:\n",
    "    w = float(input(\"insert x in [0,1]: \"))"
   ]
  },
  {
   "cell_type": "markdown",
   "metadata": {},
   "source": [
    "You can now easily create a user interface for input with control over user input"
   ]
  },
  {
   "cell_type": "code",
   "execution_count": 52,
   "metadata": {},
   "outputs": [
    {
     "name": "stdout",
     "output_type": "stream",
     "text": [
      "insert x in [0,1]: -0.8\n",
      "insert x in [0,1]: 0.5\n"
     ]
    }
   ],
   "source": [
    "while True:\n",
    "    w = float(input(\"insert x in [0,1]: \"))\n",
    "    if w>=0 and w<=1: break"
   ]
  },
  {
   "cell_type": "markdown",
   "metadata": {},
   "source": [
    "## for loop\n",
    "we have already seen the use of a for loop that requires a sequence of objects to iterate over\n"
   ]
  },
  {
   "cell_type": "code",
   "execution_count": 55,
   "metadata": {},
   "outputs": [
    {
     "name": "stdout",
     "output_type": "stream",
     "text": [
      "i: 1  \t i^2: 1\n",
      "i: 1\t i^2: 1\n",
      "i: 3  \t i^2: 9\n",
      "i: 3\t i^2: 9\n",
      "i: 5  \t i^2: 25\n",
      "i: 5\t i^2: 25\n",
      "i: 7  \t i^2: 49\n",
      "i: 7\t i^2: 49\n",
      "i: 9  \t i^2: 81\n",
      "i: 9\t i^2: 81\n"
     ]
    }
   ],
   "source": [
    "for i in range(1,11,2):\n",
    "    print(\"i: %-3d\\t i^2: %d\"%(i, i**2))\n",
    "    print(\"i: {0}\\t i^2: {1}\".format(i,i**2))"
   ]
  },
  {
   "cell_type": "markdown",
   "metadata": {},
   "source": [
    "In this example you can also use the C-style `fprintf` formatting for displaying information."
   ]
  },
  {
   "cell_type": "markdown",
   "metadata": {},
   "source": [
    "# Functions\n",
    "\n",
    "as in other languages  function is defined by its name and its argguments. But there is no return type nor you need to specify the type of arguments. Any object can be the input to any function.\n",
    "\n",
    "The generic structure of a function is\n",
    "```python\n",
    "def function(arg1, arg2, arg3=val):\n",
    "    statements\n",
    "    return value\n",
    "```\n",
    "\n",
    "If a function does not return a value, a `None` value is returned automatically"
   ]
  },
  {
   "cell_type": "code",
   "execution_count": 2,
   "metadata": {},
   "outputs": [
    {
     "name": "stdout",
     "output_type": "stream",
     "text": [
      "three body decay\n",
      "decay to 4 or more bodies\n",
      "two body decay\n",
      "<class 'NoneType'>\n",
      "x = 0.9123\n",
      "decay to 4 or more bodies\n"
     ]
    }
   ],
   "source": [
    "def decay(x, a=0.3, b=0.7):\n",
    "    if x < a:\n",
    "        print(\"two body decay\")\n",
    "    elif x<b:\n",
    "        print(\"three body decay\")\n",
    "    else:\n",
    "        print(\"decay to 4 or more bodies\")\n",
    "    \n",
    "decay(0.4)\n",
    "decay(0.9, b=0.6)\n",
    "# also decay() has a return type\n",
    "v = decay(0.003)\n",
    "print( type(v))\n",
    "\n",
    "# import NumPy module\n",
    "import numpy as np\n",
    "x = np.random.random()\n",
    "print(\"x = %.4f\"%x)\n",
    "decay(x)\n"
   ]
  },
  {
   "cell_type": "markdown",
   "metadata": {},
   "source": [
    "# python application and modules\n",
    "An important difference with respect to C++ is the lack of an entry point.\n",
    "\n",
    "A typical C/C++ application `app.cc` is\n",
    "```c++\n",
    "#include <stdio>\n",
    "#include<math>\n",
    "\n",
    "double uniform(double,double);\n",
    "\n",
    "int main() {\n",
    "  /*   code goes here */\n",
    "  return 0;\n",
    "}\n",
    "\n",
    "double uniform(double a,double b) {\n",
    "  /* implement uniform */\n",
    "  return something\n",
    "}\n",
    "```\n",
    "you compile and link the application using the math library as\n",
    "```\n",
    "g++ -o /tmp/app.exe -lm app.cc\n",
    "```\n",
    "and finally run the executable\n",
    "```\n",
    "/tmp/app.exe\n",
    "```\n",
    "\n",
    "Running the executable means that the oeprating system calls the `main()` function in `app.exe`.\n",
    "\n",
    "**In python however there is no such thing!**\n",
    "\n",
    "A program is any file containing python statements. Being an interpreted language, all statements are executed as they appear in the file.\n",
    "\n",
    "Our first program is [example1.py](examples/example1.py)"
   ]
  },
  {
   "cell_type": "code",
   "execution_count": 3,
   "metadata": {},
   "outputs": [
    {
     "name": "stdout",
     "output_type": "stream",
     "text": [
      "a = 2.3, b = 4.5, c = 0.5111111111111111\n",
      "x: 2.0, m: 1.0, q: 2.3\n",
      "4.3\n",
      "x: 0.0, m: 1.0, q: -1.3\n",
      "-1.3\n"
     ]
    }
   ],
   "source": [
    "a = 2.3\n",
    "b = 4.5\n",
    "c = a/b\n",
    "\n",
    "\n",
    "#print using ''\n",
    "print('a = {0}, b = {1}, c = {2}'.format( a, b, c) )\n",
    "\n",
    "\n",
    "def line(x, m=1., q=0.):\n",
    "  print(\"x: {2}, m: {0}, q: {1}\".format(m,q,x))\n",
    "  return m*x+q\n",
    "\n",
    "\n",
    "print( line(2., q=2.3) )\n",
    "print( line(0., q=-1.3) )"
   ]
  },
  {
   "cell_type": "markdown",
   "metadata": {},
   "source": [
    "__Reminder__: you can execute the program from the command line with \n",
    "```\n",
    "python example1.py\n",
    "```\n",
    "In jupyter you can run a local file (with path relative to directory where you started the notebook session) by using the magic `%run` command.\n",
    "\n",
    "In this case I am already in  \n",
    "```\n",
    "$ pwd\n",
    "/Users/rahatlou/Didattica/Computing Methods in Physics/lec22\n",
    "```"
   ]
  },
  {
   "cell_type": "code",
   "execution_count": 4,
   "metadata": {},
   "outputs": [
    {
     "name": "stdout",
     "output_type": "stream",
     "text": [
      "a = 2.3, b = 4.5, c = 0.5111111111111111\n",
      "x: 2.0, m: 1.0, q: 2.3\n",
      "4.3\n",
      "x: 0.0, m: 1.0, q: -1.3\n",
      "-1.3\n"
     ]
    }
   ],
   "source": [
    "%run examples/example1.py"
   ]
  },
  {
   "cell_type": "markdown",
   "metadata": {},
   "source": [
    "## First module\n",
    "We now want to use the `line()` function in this examples in other programs. Rather than copying the code by hand we want to use a library model, or what is called a __module__ in python. \n",
    "\n",
    "Unlike C there is  no special setup to create a module.\n",
    "\n",
    "We write a second program [example2.py](examples/example2.py)\n",
    "```python\n",
    "import example1\n",
    "\n",
    "x = float(input(\"insert x:\"))\n",
    "y = example1.line(x)\n",
    "print( y )\n",
    "\n",
    "# a much shorter way\n",
    "print( example1.line( float( input(\"insert x:\")  )  )  )\n",
    "```"
   ]
  },
  {
   "cell_type": "code",
   "execution_count": 5,
   "metadata": {},
   "outputs": [
    {
     "name": "stdout",
     "output_type": "stream",
     "text": [
      "a = 2.3, b = 4.5, c = 0.5111111111111111\n",
      "x: 2.0, m: 1.0, q: 2.3\n",
      "4.3\n",
      "x: 0.0, m: 1.0, q: -1.3\n",
      "-1.3\n",
      "insert x:\n"
     ]
    },
    {
     "ename": "ValueError",
     "evalue": "could not convert string to float: ",
     "output_type": "error",
     "traceback": [
      "\u001b[0;31m---------------------------------------------------------------------------\u001b[0m",
      "\u001b[0;31mValueError\u001b[0m                                Traceback (most recent call last)",
      "\u001b[0;32m~/Google Drive/Didattica/Computing Methods in Physics/lec22/examples/example2.py\u001b[0m in \u001b[0;36m<module>\u001b[0;34m\u001b[0m\n\u001b[1;32m      1\u001b[0m \u001b[0;32mimport\u001b[0m \u001b[0mexample1\u001b[0m\u001b[0;34m\u001b[0m\u001b[0m\n\u001b[1;32m      2\u001b[0m \u001b[0;34m\u001b[0m\u001b[0m\n\u001b[0;32m----> 3\u001b[0;31m \u001b[0mx\u001b[0m \u001b[0;34m=\u001b[0m \u001b[0mfloat\u001b[0m\u001b[0;34m(\u001b[0m\u001b[0minput\u001b[0m\u001b[0;34m(\u001b[0m\u001b[0;34m\"insert x:\"\u001b[0m\u001b[0;34m)\u001b[0m\u001b[0;34m)\u001b[0m\u001b[0;34m\u001b[0m\u001b[0m\n\u001b[0m\u001b[1;32m      4\u001b[0m \u001b[0my\u001b[0m \u001b[0;34m=\u001b[0m \u001b[0mexample1\u001b[0m\u001b[0;34m.\u001b[0m\u001b[0mline\u001b[0m\u001b[0;34m(\u001b[0m\u001b[0mx\u001b[0m\u001b[0;34m)\u001b[0m\u001b[0;34m\u001b[0m\u001b[0m\n\u001b[1;32m      5\u001b[0m \u001b[0mprint\u001b[0m\u001b[0;34m(\u001b[0m \u001b[0my\u001b[0m \u001b[0;34m)\u001b[0m\u001b[0;34m\u001b[0m\u001b[0m\n",
      "\u001b[0;31mValueError\u001b[0m: could not convert string to float: "
     ]
    }
   ],
   "source": [
    "%run examples/example2.py"
   ]
  },
  {
   "cell_type": "markdown",
   "metadata": {},
   "source": [
    "There are 2 important aspects to note\n",
    "  1. the function `line()` belongs to the `example1` namespace. So you __must__ use `example1.line` to call the functions\n",
    "  2. by importing `example1` in addition to the function `line` you also execute the rest of the python program\n",
    "  This is expected because __python is an interpreted language__ \n",
    "  \n",
    "let's address these 2 issues\n",
    "\n",
    "### importing pieces from a module\n",
    "To address the first issue we can do the following in [example3.py](examples/example3.py)\n",
    "```python\n",
    "from  example1 import line\n",
    "\n",
    "print(\"++++ executing \"+ __file__)\n",
    "\n",
    "print( line( -3.4, q=0.5 )  )\n",
    "```\n",
    "Now when we run the program:\n",
    "```\n",
    "$ python example3.py\n",
    "a = 2.3, b = 4.5, c = 0.511111111111\n",
    "x: 2.0, m: 1.0, q: 2.3\n",
    "4.3\n",
    "x: 0.0, m: 1.0, q: -1.3\n",
    "-1.3\n",
    "++++ executing example3.py\n",
    "x: -3.4, m: 1.0, q: 0.5\n",
    "-2.9\n",
    "```\n",
    "\n",
    "### importing pieces from a module with a new name\n",
    "We can also do something slightly different ([example4.py](examples/example4.py)) and use line with a different name in our program!\n",
    "```python\n",
    "from  example1 import line as p1\n",
    "\n",
    "print(\"++++ executing \"+ __file__)\n",
    "\n",
    "print( p1( -3.4, q=0.5 )  )\n",
    "```\n",
    "\n",
    "Also note that in addition to function `line` and executing the other statements you  also import the other objects in [example1.py](examples/example1.py). This is shown in [example5.py](examples/example5.py)\n",
    "```python \n",
    "import example1\n",
    "\n",
    "print(\"++++ executing \"+ __file__)\n",
    "\n",
    "print( example1.line( 2.34, q=0.5 )  )\n",
    "\n",
    "print( \"example1.a: %f\"%example1.a )\n",
    "```\n",
    "and when running in the terminal\n",
    "```\n",
    "$ python example5.py\n",
    "a = 2.3, b = 4.5, c = 0.511111111111\n",
    "x: 2.0, m: 1.0, q: 2.3\n",
    "4.3\n",
    "x: 0.0, m: 1.0, q: -1.3\n",
    "-1.3\n",
    "++++ executing example5.py\n",
    "x: 2.34, m: 1.0, q: 0.5\n",
    "2.84\n",
    "example1.a: 2.300000\n",
    "```"
   ]
  },
  {
   "cell_type": "code",
   "execution_count": 6,
   "metadata": {},
   "outputs": [
    {
     "name": "stdout",
     "output_type": "stream",
     "text": [
      "++++ executing /Users/rahatlou/Google Drive/Didattica/Computing Methods in Physics/lec22/examples/example5.py\n",
      "x: 2.34, m: 1.0, q: 0.5\n",
      "2.84\n",
      "example1.a: 2.300000\n"
     ]
    }
   ],
   "source": [
    "%run examples/example5.py"
   ]
  },
  {
   "cell_type": "markdown",
   "metadata": {},
   "source": [
    "### importing only objects without executing statements\n",
    "We now solve our secnd problem which is how to avoid running the statements in example1 when importing it as a module.\n",
    "\n",
    "This can be done with a more advanced feature of python which we will discuss ina later lecture. The solution is indeed trivial. A modified version of [example1.py](examples/example1.py) is [mymodule.py](examples/mymodule.py)\n",
    "```python\n",
    "a = 2.3\n",
    "b = 4.5\n",
    "c = a/b\n",
    "\n",
    "def line(x, m=1., q=0.):\n",
    "  print(\"x: {2}, m: {0}, q: {1}\".format(m,q,x))\n",
    "  return m*x+q\n",
    "\n",
    "if __name__ == \"__main__\":\n",
    "  print(\"executing \"+  __name__ + \" in \" + __file__)\n",
    "\n",
    "  #print using ''\n",
    "  print('a = {0}, b = {1}, c = {2}'.format( a, b, c) )\n",
    "  print( line(2., q=2.3) )\n",
    "  print( line(0., q=-1.3) )\n",
    "\n",
    "  def p1(x, m=1., q=0.):\n",
    "     print(\"x: {2}, m: {0}, q: {1}\".format(m,q,x))\n",
    "     return m*x+q\n",
    "```\n",
    "which has this behavior\n",
    "```\n",
    "$ python mymodule.py\n",
    "namespace: __main__ in mymodule.py\n",
    "executing __main__ in mymodule.py\n",
    "a = 2.3, b = 4.5, c = 0.511111111111\n",
    "x: 2.0, m: 1.0, q: 2.3\n",
    "4.3\n",
    "x: 0.0, m: 1.0, q: -1.3\n",
    "-1.3\n",
    "```"
   ]
  },
  {
   "cell_type": "markdown",
   "metadata": {},
   "source": [
    "Now in [example6.py](examples/example6.py)\n",
    "```python\n",
    "import mymodule\n",
    "\n",
    "print(\"++++ executing \" +  __file__ + \" with name space \" + __name__)\n",
    "\n",
    "print( mymodule.line( 2.34, q=0.5 )  )\n",
    "\n",
    "print( \"mymodule.a: %f\"%mymodule.a )\n",
    "\n",
    "```\n",
    "which when executed produces\n",
    "```\n",
    "$ python example6.py\n",
    "namespace: mymodule in /Users/rahatlou/Google Drive/Didattica/Computing Methods in Physics/lec22/examples/mymodule.pyc\n",
    "++++ executing example6.py with name space __main__\n",
    "x: 2.34, m: 1.0, q: 0.5\n",
    "2.84\n",
    "mymodule.a: 2.300000\n",
    "```"
   ]
  },
  {
   "cell_type": "markdown",
   "metadata": {},
   "source": [
    "When `mymodule` is imported it has its own namespace which is not `__main__`. Therefore at anytime only the python program being executed has the `__main__` namespace as desired."
   ]
  },
  {
   "cell_type": "code",
   "execution_count": null,
   "metadata": {},
   "outputs": [],
   "source": []
  }
 ],
 "metadata": {
  "kernelspec": {
   "display_name": "Python 3",
   "language": "python",
   "name": "python3"
  },
  "language_info": {
   "codemirror_mode": {
    "name": "ipython",
    "version": 3
   },
   "file_extension": ".py",
   "mimetype": "text/x-python",
   "name": "python",
   "nbconvert_exporter": "python",
   "pygments_lexer": "ipython3",
   "version": "3.7.0"
  }
 },
 "nbformat": 4,
 "nbformat_minor": 2
}
