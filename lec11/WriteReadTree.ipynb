{
 "cells": [
  {
   "cell_type": "markdown",
   "metadata": {},
   "source": [
    "# Writing and reading TTree with variable-size branches\n",
    "\n",
    "The goal of this notebook is to learn to write a TTree with variable-size branches and reading it back for making plots and doing data analysis.\n",
    "\n",
    "This is an interactive version of [01-writeObjects.cc](examples/01-writeObjects.cc) and  [02-readTree.cc](examples/02-readTree.cc) using a jupyter notebook. \n",
    "\n",
    "In a jupyter notebook you do not need to have a `main()` funtion. What you see in the notebook is the content of the `main()`.\n",
    "\n",
    "## Writing TTree in a TFile\n",
    "\n",
    "### generation parameters\n",
    "We want to generate pseudo measurements of a variable `x` in the range `[x1,x2]`. The uncertainty for a given measurment `x0` is to be extracted from a Gaussian of width 5% and centered around `x0`."
   ]
  },
  {
   "cell_type": "code",
   "execution_count": 1,
   "metadata": {},
   "outputs": [],
   "source": [
    "  // generate random measurements in the range [x1,x2]\n",
    "  // and uncertainties from a guassion with 5% resolution\n",
    "\n",
    "  double x1=0.9, x2=1.1;\n",
    "  double resol = 0.05;"
   ]
  },
  {
   "cell_type": "markdown",
   "metadata": {},
   "source": [
    "Open a new TFile to store the output"
   ]
  },
  {
   "cell_type": "code",
   "execution_count": 2,
   "metadata": {},
   "outputs": [
    {
     "name": "stdout",
     "output_type": "stream",
     "text": [
      "storing output in root file /tmp/dati.root\n"
     ]
    }
   ],
   "source": [
    "  TString rootfname(\"/tmp/dati.root\");\n",
    "  TFile* orootfile = new TFile( rootfname, \"RECREATE\");\n",
    "  if( !orootfile->IsOpen() ) {\n",
    "    std::cout << \"problems creating root file. existing... \" << std::endl;\n",
    "    exit(-1);\n",
    "  }\n",
    "  std::cout << \"storing output in root file \" << rootfname << std::endl;"
   ]
  },
  {
   "cell_type": "markdown",
   "metadata": {},
   "source": [
    "1. Define the static C arrays to be stored as Branches in the TTree\n",
    "2. Create a new TTree to be stored in the output file\n",
    "3. Add Branches to the Tree"
   ]
  },
  {
   "cell_type": "code",
   "execution_count": 3,
   "metadata": {},
   "outputs": [],
   "source": [
    "  // variables to be stored in the tree\n",
    "  const int nMeasMax=200; // maxim size of static array\n",
    "  double x[nMeasMax], dx[nMeasMax];\n",
    "  int nmeas;\n",
    "\n",
    "  // create the tree\n",
    "  TTree* tree = new TTree(\"datatree\",\"tree containg our data\");\n",
    "\n",
    "  // now set the info for each branch of the tree to correspond to our data\n",
    "  tree->Branch(\"nmeas\", &nmeas, \"nmeas/I\");\n",
    "  tree->Branch(\"value\", x,  \"value[nmeas]/D\"); // nmeas is the index of value[]\n",
    "  tree->Branch(\"error\", dx, \"error[nmeas]/D\"); // and error[] in the tree"
   ]
  },
  {
   "cell_type": "markdown",
   "metadata": {},
   "source": [
    "* create and configure a new random generator\n",
    "* Generate `nexp` set of measurements (called experiments) \n",
    "* Each set has a variable number of measurements `nmeas`\n",
    "  * `nmeas` ies extracted from a Poisson distribution with mean `nMeasAvg = 10`"
   ]
  },
  {
   "cell_type": "code",
   "execution_count": 4,
   "metadata": {},
   "outputs": [],
   "source": [
    "  //new random generator\n",
    "  TRandom1*  gen = new TRandom1();\n",
    "  gen->SetSeed(0); //use machine clock\n",
    "\n",
    "  // # of experiments and average # of measurements \n",
    "  int nMeasAvg=10;\n",
    "  int nexp = 100;"
   ]
  },
  {
   "cell_type": "markdown",
   "metadata": {},
   "source": [
    "This is now the central part of the program\n",
    "1. loop over experiemnts\n",
    "  1. for each experiment generate `nmeas` values and errors\n",
    "  2. fill the static arrays\n",
    "2. At the end of the loop fill the tree so data are transfered from C arrays to TTree branches"
   ]
  },
  {
   "cell_type": "code",
   "execution_count": 5,
   "metadata": {},
   "outputs": [],
   "source": [
    "  for(int iexp=0; iexp<nexp; iexp++) {\n",
    "\n",
    "    // each experiment has a different # of measurements\n",
    "    nmeas = gen->Poisson(nMeasAvg);\n",
    "\n",
    "    if( nmeas > nMeasMax ) {\n",
    "      std::cout << \"WARNING: nmeas > \" << nMeasMax << \" your TTRee will be corrupted\" << std::endl;\n",
    "    }\n",
    "\n",
    "    for(int i=0; i< nmeas; ++i) {\n",
    "      // genarate value\n",
    "      x[i] = x1 + gen->Uniform(x2-x1);\n",
    "\n",
    "      //generate uncertainty based on the value\n",
    "      dx[i] = gen->Gaus(x[i], x[i]*resol);\n",
    "    }\n",
    "    tree->Fill(); // write the data from memory to file at end of each experiment\n",
    "  } // end of experiments"
   ]
  },
  {
   "cell_type": "markdown",
   "metadata": {},
   "source": [
    "Now we are done generating the pseudo experiments. We need to \n",
    "1. write the tree to file\n",
    "2. close the output file"
   ]
  },
  {
   "cell_type": "code",
   "execution_count": 6,
   "metadata": {},
   "outputs": [],
   "source": [
    "  tree->Write();\n",
    "\n",
    "  // critical to close the file!\n",
    "  orootfile->Close();"
   ]
  },
  {
   "cell_type": "markdown",
   "metadata": {},
   "source": [
    "## Reading TTree from file\n",
    "\n",
    "We now want to analyse the data stored on disk and fill some histograms\n",
    "\n",
    "First we book some 1D and 2D histograms and print out the bin width"
   ]
  },
  {
   "cell_type": "code",
   "execution_count": 7,
   "metadata": {},
   "outputs": [
    {
     "name": "stdout",
     "output_type": "stream",
     "text": [
      "# bins: 50\t bin width: 0.004\n"
     ]
    }
   ],
   "source": [
    "    // create histograms\n",
    "  int nbins = 50;\n",
    "  TH1F hdx1(\"hdx1\", \"distribution of dx values\",\n",
    "             nbins, x1, x2 );\n",
    "\n",
    "  TH1F hdxRMS(\"hdxRMS\", \"distribution of dx RMS in all experiments\",\n",
    "            nbins, 0.03, 0.08);\n",
    "  hdxRMS.GetXaxis()->SetTitle(\"Distribution of RMS of uncertainty dx\");\n",
    "\n",
    "\n",
    "  TH1I hnmeas(\"hnmeas\",\"Number of measurements per experiment\", 21, -0.5, 20.5);\n",
    "  hnmeas.GetXaxis()->SetTitle(\"Number of measurements\");\n",
    "\n",
    "  TH2F h2RMS(\"h2RMS\", \"Distribution of dx RMS vs numb. measurements\",\n",
    "             21, -0.5, 20.5,\n",
    "             nbins, 0.03, 0.08 );\n",
    "  h2RMS.GetXaxis()->SetTitle(\"Number of measurements\");\n",
    "  h2RMS.GetYaxis()->SetTitle(\"dx RMS\");\n",
    "\n",
    "  double binwidth = (x2-x1) / nbins;\n",
    "  std::cout << \"# bins: \" << nbins << \"\\t bin width: \" << binwidth << std::endl;"
   ]
  },
  {
   "cell_type": "markdown",
   "metadata": {},
   "source": [
    "Open the TFile and make sure the file opening is successful before proceeeding. "
   ]
  },
  {
   "cell_type": "code",
   "execution_count": 8,
   "metadata": {},
   "outputs": [
    {
     "name": "stdout",
     "output_type": "stream",
     "text": [
      "Reading data from root file /tmp/dati.root\n"
     ]
    }
   ],
   "source": [
    "  // ==== Read data from file \n",
    "  TString infname(\"/tmp/dati.root\");\n",
    "  TFile* inrootfile = new TFile( infname );\n",
    "  if( !inrootfile->IsOpen() ) {\n",
    "    std::cout << \"problems opdening root file. existing... \" << std::endl;\n",
    "    exit(-1);\n",
    "  }\n",
    "  std::cout << \"Reading data from root file \" << infname << std::endl;"
   ]
  },
  {
   "cell_type": "markdown",
   "metadata": {},
   "source": [
    "Get a pointer to the tree store on disk. Again check that we have a valid pointer before going any further."
   ]
  },
  {
   "cell_type": "code",
   "execution_count": 9,
   "metadata": {},
   "outputs": [],
   "source": [
    "  // get pointer to tree object stored in the file\n",
    "  TTree* intree = (TTree*) inrootfile->Get(\"datatree\");\n",
    "  if(!intree) {\n",
    "    std::cout << \"null pointer for TTree! exiting...\" << std::endl;\n",
    "    exit(-1);\n",
    "  }"
   ]
  },
  {
   "cell_type": "markdown",
   "metadata": {},
   "source": [
    "Now you need to define the variables in your program that will be used to read the tree branches from file. \n",
    "\n",
    "Note that we use the ugly static C arrays so you need to put a large max size of the array.\n",
    "\n",
    "In general you can inspect the file with TBrwoser or from the command line to check the max size. \n",
    "\n",
    "In this case we already have defined the maximum size."
   ]
  },
  {
   "cell_type": "code",
   "execution_count": 10,
   "metadata": {},
   "outputs": [],
   "source": [
    "  double y[nMeasMax], dy[nMeasMax];\n",
    "  int Nm;\n",
    "\n",
    "  // now set the info for each branch of the tree to correspond to our data\n",
    "  intree->SetBranchAddress(\"value\", y);\n",
    "  intree->SetBranchAddress(\"error\", dy);\n",
    "  intree->SetBranchAddress(\"nmeas\", &Nm);"
   ]
  },
  {
   "cell_type": "markdown",
   "metadata": {},
   "source": [
    "get the number of entries in the tree, which correspond to out pseudo experiments, and loop \n",
    "over the entries to analyse the data for each experiment"
   ]
  },
  {
   "cell_type": "code",
   "execution_count": 11,
   "metadata": {},
   "outputs": [],
   "source": [
    "  int nentries = intree->GetEntries();\n",
    "  for (int iexp=0; iexp<nentries; ++iexp) {\n",
    "\n",
    "    intree->GetEntry(iexp); // read data from file to memory\n",
    "\n",
    "    // plot of # measurements\n",
    "    hnmeas.Fill(Nm);\n",
    "    hdxRMS.Clear();\n",
    "\n",
    "    // for each experiment read the measurements\n",
    "    for(int i = 0; i< Nm; ++i) {\n",
    "      // fill histogram\n",
    "      hdx1.Fill( dy[i] );\n",
    "\n",
    "    } // loop on mesurements\n",
    "\n",
    "    // compute RMS for measurements in each experiment\n",
    "    // and fill a histogram\n",
    "    hdxRMS.Fill( hdx1.GetRMS() );\n",
    "    h2RMS.Fill(Nm, hdx1.GetRMS() );\n",
    "\n",
    "  } // end of experiments"
   ]
  },
  {
   "cell_type": "markdown",
   "metadata": {},
   "source": [
    "#### Making plots\n",
    "\n",
    "now in the final part of our program we want to make some pretty plots.\n",
    "\n",
    "First create a canvas"
   ]
  },
  {
   "cell_type": "code",
   "execution_count": 12,
   "metadata": {},
   "outputs": [],
   "source": [
    "  // create canvas\n",
    "  TCanvas canv(\"canv\", \"canvas for plotting\", 1280, 1024);"
   ]
  },
  {
   "cell_type": "markdown",
   "metadata": {},
   "source": [
    "We want to show also underflows and overflows in the histograms. This can be done via a statis TStyle object in ROOT"
   ]
  },
  {
   "cell_type": "code",
   "execution_count": 13,
   "metadata": {},
   "outputs": [],
   "source": [
    "  gStyle->SetOptStat(111111); // show over and underflow"
   ]
  },
  {
   "cell_type": "markdown",
   "metadata": {},
   "source": [
    "and plot our first histogram"
   ]
  },
  {
   "cell_type": "code",
   "execution_count": 14,
   "metadata": {},
   "outputs": [],
   "source": [
    "  canv.Clear();\n",
    "  canv.Divide(0);\n",
    "  h2RMS.Draw(\"box\");"
   ]
  },
  {
   "cell_type": "markdown",
   "metadata": {},
   "source": [
    "in order to see the plot interactively we draw the canvas"
   ]
  },
  {
   "cell_type": "code",
   "execution_count": 15,
   "metadata": {},
   "outputs": [
    {
     "data": {
      "image/png": "[encoded data removed]",
      "text/plain": [
       "<IPython.core.display.Image object>"
      ]
     },
     "metadata": {},
     "output_type": "display_data"
    }
   ],
   "source": [
    "canv.Draw()"
   ]
  },
  {
   "cell_type": "markdown",
   "metadata": {},
   "source": [
    "As usual we can also store the canvas to a pdf file foir future use"
   ]
  },
  {
   "cell_type": "code",
   "execution_count": 16,
   "metadata": {},
   "outputs": [
    {
     "name": "stderr",
     "output_type": "stream",
     "text": [
      "Info in <TCanvas::Print>: pdf file /tmp/2dRMS.pdf has been created\n"
     ]
    }
   ],
   "source": [
    "canv.SaveAs(\"/tmp/2dRMS.pdf\");"
   ]
  },
  {
   "cell_type": "markdown",
   "metadata": {},
   "source": [
    "Now we clear the canvas and divide it to show two histograms side by side"
   ]
  },
  {
   "cell_type": "code",
   "execution_count": 17,
   "metadata": {},
   "outputs": [],
   "source": [
    "  canv.Clear();\n",
    "  canv.Divide(1,2);"
   ]
  },
  {
   "cell_type": "markdown",
   "metadata": {},
   "source": [
    "In the first pad we plot the distribution of # of measurements which was exracted from a Poisson distribution"
   ]
  },
  {
   "cell_type": "code",
   "execution_count": 18,
   "metadata": {},
   "outputs": [],
   "source": [
    "  canv.cd(1);\n",
    "  hnmeas.Draw(\"\");"
   ]
  },
  {
   "cell_type": "markdown",
   "metadata": {},
   "source": [
    "In the second pad we have the distribution of RMS from the experiments"
   ]
  },
  {
   "cell_type": "code",
   "execution_count": 19,
   "metadata": {},
   "outputs": [],
   "source": [
    "  canv.cd(2);\n",
    "  hdxRMS.Draw(\"pe\");"
   ]
  },
  {
   "cell_type": "markdown",
   "metadata": {},
   "source": [
    "Now we draw the canvas for interactive view and save also to file"
   ]
  },
  {
   "cell_type": "code",
   "execution_count": 20,
   "metadata": {},
   "outputs": [
    {
     "data": {
      "image/png": "[encoded data removed]",
      "text/plain": [
       "<IPython.core.display.Image object>"
      ]
     },
     "metadata": {},
     "output_type": "display_data"
    },
    {
     "name": "stderr",
     "output_type": "stream",
     "text": [
      "Info in <TCanvas::Print>: pdf file /tmp/expplots.pdf has been created\n"
     ]
    }
   ],
   "source": [
    "  canv.Draw();\n",
    "  canv.SaveAs(\"/tmp/expplots.pdf\");"
   ]
  },
  {
   "cell_type": "markdown",
   "metadata": {},
   "source": [
    "At the end it's always important to close the file properly to avoid data corruption"
   ]
  },
  {
   "cell_type": "code",
   "execution_count": 21,
   "metadata": {},
   "outputs": [],
   "source": [
    "  // critical to close the file!\n",
    "  orootfile->Close();"
   ]
  },
  {
   "cell_type": "code",
   "execution_count": null,
   "metadata": {},
   "outputs": [],
   "source": []
  }
 ],
 "metadata": {
  "kernelspec": {
   "display_name": "ROOT C++",
   "language": "c++",
   "name": "root"
  },
  "language_info": {
   "codemirror_mode": "text/x-c++src",
   "file_extension": ".C",
   "mimetype": " text/x-c++src",
   "name": "c++"
  }
 },
 "nbformat": 4,
 "nbformat_minor": 2
}
