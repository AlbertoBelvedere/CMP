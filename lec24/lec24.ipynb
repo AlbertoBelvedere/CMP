{
 "cells": [
  {
   "cell_type": "markdown",
   "metadata": {},
   "source": [
    "## Dictionaries\n",
    "dictionaries are very similar to the associative container `map<T,K>` discussed in C++. They are also known as __hash tables__ in other languages, e.g. `perl`. The `{}` operator is used to create a `dict` object"
   ]
  },
  {
   "cell_type": "code",
   "execution_count": 3,
   "metadata": {},
   "outputs": [
    {
     "name": "stdout",
     "output_type": "stream",
     "text": [
      "['january', 'february', 'march', 'april', 'may', 'june', 'july', 'august', 'september', 'october', 'november', 'december']\n",
      "# of days in january: 31\n",
      "# of days in february: 28\n",
      "# of days in march: 31\n",
      "# of days in april: 30\n",
      "# of days in may: 31\n",
      "# of days in june: 30\n",
      "# of days in july: 31\n",
      "# of days in august: 31\n",
      "# of days in september: 30\n",
      "# of days in october: 31\n",
      "# of days in november: 30\n",
      "# of days in december: 31\n",
      "{'january': 31, 'february': 28, 'march': 31, 'april': 30, 'may': 31, 'june': 30, 'july': 31, 'august': 31, 'september': 30, 'october': 31, 'november': 30, 'december': 31}\n"
     ]
    }
   ],
   "source": [
    "months = ['january', 'february', 'march', 'april', 'may', 'june', 'july', 'august', 'september', 'october', 'november', 'december']\n",
    "print(months)\n",
    "days = {}\n",
    "for m in months:\n",
    "    days[m] = int(input(\"# of days in {0}: \".format(m)))\n",
    "print(days)"
   ]
  },
  {
   "cell_type": "markdown",
   "metadata": {},
   "source": [
    "You can also create a dictionary by hand"
   ]
  },
  {
   "cell_type": "code",
   "execution_count": 4,
   "metadata": {},
   "outputs": [
    {
     "name": "stdout",
     "output_type": "stream",
     "text": [
      "{'a': 1, 'b': (1, 2, 3), 'c': ['one', 'two'], 'd': 'example'}\n"
     ]
    }
   ],
   "source": [
    "dict1 = { 'a' : 1, 'b' : (1,2,3), 'c' : ['one','two'], 'd' : 'example', }\n",
    "print(dict1)"
   ]
  },
  {
   "cell_type": "code",
   "execution_count": 5,
   "metadata": {},
   "outputs": [
    {
     "name": "stdout",
     "output_type": "stream",
     "text": [
      "{'rio': {'name': 'john', 'age': 23, 'id': 123456}, 'nairobi': {'name': 'susan', 'id': 123123, 'age': 21}, 'tokyo': {'name': 'maria', 'id': 123651, 'age': 24}}\n"
     ]
    }
   ],
   "source": [
    "students = { 'rio': {'name':'john', 'age':23, 'id':123456}, 'nairobi':{'name':'susan', 'id':123123, 'age':21},  'tokyo':{'name':'maria', 'id':123651, 'age':24}, }\n",
    "print(students)"
   ]
  },
  {
   "cell_type": "markdown",
   "metadata": {},
   "source": [
    "you can add a new value for a key"
   ]
  },
  {
   "cell_type": "code",
   "execution_count": 6,
   "metadata": {},
   "outputs": [
    {
     "name": "stdout",
     "output_type": "stream",
     "text": [
      "{'rio': {'name': 'john', 'age': 23, 'id': 123456}, 'nairobi': {'name': 'susan', 'id': 123123, 'age': 21}, 'tokyo': {'name': 'maria', 'id': 123651, 'age': 24}, 'oslo': {'name': '', 'age': 30, 'id': 111111}}\n"
     ]
    }
   ],
   "source": [
    "students['oslo'] = {'name':'', 'age':30, 'id':111111} \n",
    "print(students)"
   ]
  },
  {
   "cell_type": "markdown",
   "metadata": {},
   "source": [
    "If the key already is used, its value will be updated. This is similar to modifying elements of a list"
   ]
  },
  {
   "cell_type": "code",
   "execution_count": 7,
   "metadata": {},
   "outputs": [
    {
     "name": "stdout",
     "output_type": "stream",
     "text": [
      "{'rio': {'name': 'john', 'age': 23, 'id': 123456}, 'nairobi': {'name': 'susan', 'id': 123123, 'age': 21}, 'tokyo': {'name': 'maria', 'id': 123651, 'age': 24}, 'oslo': {'name': 'sergey', 'age': 22}}\n"
     ]
    }
   ],
   "source": [
    "students['oslo'] = {'name':'sergey', 'age':22} \n",
    "print(students)"
   ]
  },
  {
   "cell_type": "markdown",
   "metadata": {},
   "source": [
    "You can check if the dictionary contains a key"
   ]
  },
  {
   "cell_type": "code",
   "execution_count": 8,
   "metadata": {},
   "outputs": [
    {
     "name": "stdout",
     "output_type": "stream",
     "text": [
      "name (press return to end): sha\n",
      "sha not in the list. sorry.\n",
      "name (press return to end): john\n",
      "john not in the list. sorry.\n",
      "name (press return to end): rio\n",
      "name: john\t age: 23\t id: 123456\n",
      "name (press return to end): \n"
     ]
    }
   ],
   "source": [
    "while True:\n",
    "    name = input(\"name (press return to end): \")  \n",
    "    if(name==''): break\n",
    "    if name not in students:\n",
    "        print(\"{0} not in the list. sorry.\".format(name))\n",
    "    else: \n",
    "        print(\"name: {0}\\t age: {1}\\t id: {2}\".format(students[name]['name'], students[name]['age'], students[name]['id']))\n",
    "    "
   ]
  },
  {
   "cell_type": "markdown",
   "metadata": {},
   "source": [
    "This if-else structure is very common with dictionaries. so in pythion there is a dedicated method\n",
    "```python\n",
    "value = some_dict.get(key, default_value)\n",
    "```"
   ]
  },
  {
   "cell_type": "code",
   "execution_count": 9,
   "metadata": {},
   "outputs": [
    {
     "name": "stdout",
     "output_type": "stream",
     "text": [
      "name (press return to end): susan\n",
      "not found\n",
      "name (press return to end): oslo\n",
      "{'name': 'sergey', 'age': 22}\n",
      "name (press return to end): \n"
     ]
    }
   ],
   "source": [
    "while True:\n",
    "    name = input(\"name (press return to end): \")  \n",
    "    if(name==''): break\n",
    "    val = students.get(name, \"not found\")\n",
    "    print(val)"
   ]
  },
  {
   "cell_type": "code",
   "execution_count": null,
   "metadata": {},
   "outputs": [],
   "source": []
  }
 ],
 "metadata": {
  "kernelspec": {
   "display_name": "Python 3",
   "language": "python",
   "name": "python3"
  },
  "language_info": {
   "codemirror_mode": {
    "name": "ipython",
    "version": 3
   },
   "file_extension": ".py",
   "mimetype": "text/x-python",
   "name": "python",
   "nbconvert_exporter": "python",
   "pygments_lexer": "ipython3",
   "version": "3.7.0"
  }
 },
 "nbformat": 4,
 "nbformat_minor": 2
}
