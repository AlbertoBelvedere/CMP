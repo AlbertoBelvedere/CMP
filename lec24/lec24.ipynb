{
 "cells": [
  {
   "cell_type": "markdown",
   "metadata": {},
   "source": [
    "## Dictionaries\n",
    "dictionaries are very similar to the associative container `map<T,K>` discussed in C++. They are also known as __hash tables__ in other languages, e.g. `perl`. The `{}` operator is used to create a `dict` object"
   ]
  },
  {
   "cell_type": "code",
   "execution_count": 3,
   "metadata": {},
   "outputs": [
    {
     "name": "stdout",
     "output_type": "stream",
     "text": [
      "['january', 'february', 'march', 'april', 'may', 'june', 'july', 'august', 'september', 'october', 'november', 'december']\n",
      "# of days in january: 31\n",
      "# of days in february: 28\n",
      "# of days in march: 31\n",
      "# of days in april: 30\n",
      "# of days in may: 31\n",
      "# of days in june: 30\n",
      "# of days in july: 31\n",
      "# of days in august: 31\n",
      "# of days in september: 30\n",
      "# of days in october: 31\n",
      "# of days in november: 30\n",
      "# of days in december: 31\n",
      "{'january': 31, 'february': 28, 'march': 31, 'april': 30, 'may': 31, 'june': 30, 'july': 31, 'august': 31, 'september': 30, 'october': 31, 'november': 30, 'december': 31}\n"
     ]
    }
   ],
   "source": [
    "months = ['january', 'february', 'march', 'april', 'may', 'june', 'july', 'august', 'september', 'october', 'november', 'december']\n",
    "print(months)\n",
    "days = {}\n",
    "for m in months:\n",
    "    days[m] = int(input(\"# of days in {0}: \".format(m)))\n",
    "print(days)"
   ]
  },
  {
   "cell_type": "markdown",
   "metadata": {},
   "source": [
    "You can also create a dictionary by hand"
   ]
  },
  {
   "cell_type": "code",
   "execution_count": 4,
   "metadata": {},
   "outputs": [
    {
     "name": "stdout",
     "output_type": "stream",
     "text": [
      "{'a': 1, 'b': (1, 2, 3), 'c': ['one', 'two'], 'd': 'example'}\n"
     ]
    }
   ],
   "source": [
    "dict1 = { 'a' : 1, 'b' : (1,2,3), 'c' : ['one','two'], 'd' : 'example', }\n",
    "print(dict1)"
   ]
  },
  {
   "cell_type": "code",
   "execution_count": 5,
   "metadata": {},
   "outputs": [
    {
     "name": "stdout",
     "output_type": "stream",
     "text": [
      "{'rio': {'name': 'john', 'age': 23, 'id': 123456}, 'nairobi': {'name': 'susan', 'id': 123123, 'age': 21}, 'tokyo': {'name': 'maria', 'id': 123651, 'age': 24}}\n"
     ]
    }
   ],
   "source": [
    "students = { 'rio': {'name':'john', 'age':23, 'id':123456}, 'nairobi':{'name':'susan', 'id':123123, 'age':21},  'tokyo':{'name':'maria', 'id':123651, 'age':24}, }\n",
    "print(students)"
   ]
  },
  {
   "cell_type": "markdown",
   "metadata": {},
   "source": [
    "you can add a new value for a key"
   ]
  },
  {
   "cell_type": "code",
   "execution_count": 6,
   "metadata": {},
   "outputs": [
    {
     "name": "stdout",
     "output_type": "stream",
     "text": [
      "{'rio': {'name': 'john', 'age': 23, 'id': 123456}, 'nairobi': {'name': 'susan', 'id': 123123, 'age': 21}, 'tokyo': {'name': 'maria', 'id': 123651, 'age': 24}, 'oslo': {'name': '', 'age': 30, 'id': 111111}}\n"
     ]
    }
   ],
   "source": [
    "students['oslo'] = {'name':'', 'age':30, 'id':111111} \n",
    "print(students)"
   ]
  },
  {
   "cell_type": "markdown",
   "metadata": {},
   "source": [
    "If the key already is used, its value will be updated. This is similar to modifying elements of a list"
   ]
  },
  {
   "cell_type": "code",
   "execution_count": 7,
   "metadata": {},
   "outputs": [
    {
     "name": "stdout",
     "output_type": "stream",
     "text": [
      "{'rio': {'name': 'john', 'age': 23, 'id': 123456}, 'nairobi': {'name': 'susan', 'id': 123123, 'age': 21}, 'tokyo': {'name': 'maria', 'id': 123651, 'age': 24}, 'oslo': {'name': 'sergey', 'age': 22}}\n"
     ]
    }
   ],
   "source": [
    "students['oslo'] = {'name':'sergey', 'age':22} \n",
    "print(students)"
   ]
  },
  {
   "cell_type": "markdown",
   "metadata": {},
   "source": [
    "You can check if the dictionary contains a key"
   ]
  },
  {
   "cell_type": "code",
   "execution_count": 8,
   "metadata": {},
   "outputs": [
    {
     "name": "stdout",
     "output_type": "stream",
     "text": [
      "name (press return to end): joe\n",
      "joe not in the list. sorry.\n",
      "name (press return to end): rio\n",
      "name: john\t age: 23\t id: 123456\n",
      "name (press return to end): \n"
     ]
    }
   ],
   "source": [
    "while True:\n",
    "    name = input(\"name (press return to end): \")  \n",
    "    if(name==''): break\n",
    "    if name not in students:\n",
    "        print(\"{0} not in the list. sorry.\".format(name))\n",
    "    else: \n",
    "        print(\"name: {0}\\t age: {1}\\t id: {2}\".format(students[name]['name'], students[name]['age'], students[name]['id']))\n",
    "    "
   ]
  },
  {
   "cell_type": "markdown",
   "metadata": {},
   "source": [
    "This if-else structure is very common with dictionaries. so in pythion there is a dedicated method\n",
    "```python\n",
    "value = some_dict.get(key, default_value)\n",
    "```"
   ]
  },
  {
   "cell_type": "code",
   "execution_count": 9,
   "metadata": {},
   "outputs": [
    {
     "name": "stdout",
     "output_type": "stream",
     "text": [
      "name (press return to end): joe\n",
      "not found\n",
      "name (press return to end): yuo\n",
      "not found\n",
      "name (press return to end): \n"
     ]
    }
   ],
   "source": [
    "while True:\n",
    "    name = input(\"name (press return to end): \")  \n",
    "    if(name==''): break\n",
    "    val = students.get(name, \"not found\")\n",
    "    print(val)"
   ]
  },
  {
   "cell_type": "markdown",
   "metadata": {},
   "source": [
    "### Keys are unique\n",
    "- there can be only one value for a given key in a dict made of `key:value`\n",
    "- if you need more values for a key, then what you want is a dictionary of `key:[value]` "
   ]
  },
  {
   "cell_type": "code",
   "execution_count": 10,
   "metadata": {},
   "outputs": [
    {
     "data": {
      "text/plain": [
       "{'boson': ['Z', 'gluon', 'W', 'photon'],\n",
       " 'meson': ['pion', 'kaon'],\n",
       " 'quark': ['u', 'd', 's'],\n",
       " 'lepton': ['electron', 'muon']}"
      ]
     },
     "execution_count": 10,
     "metadata": {},
     "output_type": "execute_result"
    }
   ],
   "source": [
    "particles = { 'boson':['Z', 'gluon', 'W', 'photon'], 'meson':['pion', 'kaon'], 'quark':['u','d','s'], 'lepton':['electron', 'muon']}\n",
    "particles"
   ]
  },
  {
   "cell_type": "code",
   "execution_count": 11,
   "metadata": {},
   "outputs": [
    {
     "data": {
      "text/plain": [
       "{'boson': ['Z', 'gluon', 'W', 'photon'],\n",
       " 'meson': ['pion', 'kaon'],\n",
       " 'quark': ['u', 'd', 's'],\n",
       " 'lepton': ['electron', 'muon', 'tau']}"
      ]
     },
     "execution_count": 11,
     "metadata": {},
     "output_type": "execute_result"
    }
   ],
   "source": [
    "particles['lepton'].append('tau')\n",
    "particles"
   ]
  },
  {
   "cell_type": "code",
   "execution_count": 12,
   "metadata": {},
   "outputs": [
    {
     "data": {
      "text/plain": [
       "dict_keys(['boson', 'meson', 'quark', 'lepton'])"
      ]
     },
     "execution_count": 12,
     "metadata": {},
     "output_type": "execute_result"
    }
   ],
   "source": [
    "particles.keys()"
   ]
  },
  {
   "cell_type": "code",
   "execution_count": 14,
   "metadata": {},
   "outputs": [
    {
     "data": {
      "text/plain": [
       "['pion', 'kaon']"
      ]
     },
     "execution_count": 14,
     "metadata": {},
     "output_type": "execute_result"
    }
   ],
   "source": [
    "particles['meson']"
   ]
  },
  {
   "cell_type": "markdown",
   "metadata": {},
   "source": [
    "### iterating over dict \n",
    "by default the iterator gives you the keys"
   ]
  },
  {
   "cell_type": "code",
   "execution_count": 8,
   "metadata": {},
   "outputs": [
    {
     "name": "stdout",
     "output_type": "stream",
     "text": [
      "boson\n",
      "meson\n",
      "quark\n",
      "lepton\n"
     ]
    }
   ],
   "source": [
    "for p in particles:\n",
    "    print(p)"
   ]
  },
  {
   "cell_type": "markdown",
   "metadata": {},
   "source": [
    "You can also explicitly loop over keys"
   ]
  },
  {
   "cell_type": "code",
   "execution_count": 9,
   "metadata": {},
   "outputs": [
    {
     "name": "stdout",
     "output_type": "stream",
     "text": [
      "boson\n",
      "meson\n",
      "quark\n",
      "lepton\n"
     ]
    }
   ],
   "source": [
    "for k in particles.keys():\n",
    "    print(k)"
   ]
  },
  {
   "cell_type": "code",
   "execution_count": 10,
   "metadata": {},
   "outputs": [
    {
     "name": "stdout",
     "output_type": "stream",
     "text": [
      "['Z', 'gluon', 'W', 'photon']\n",
      "['pion', 'kaon']\n",
      "['u', 'd', 's']\n",
      "['electron', 'muon', 'tau']\n"
     ]
    }
   ],
   "source": [
    "for k in particles:\n",
    "    print(particles[k])"
   ]
  },
  {
   "cell_type": "markdown",
   "metadata": {},
   "source": [
    "### acccessing values without keys\n",
    "If you do not care about the kets but need all the values python provides with `values` function.\n",
    "\n",
    "This operation is also called __flattening__."
   ]
  },
  {
   "cell_type": "code",
   "execution_count": 13,
   "metadata": {
    "scrolled": true
   },
   "outputs": [
    {
     "name": "stdout",
     "output_type": "stream",
     "text": [
      "['Z', 'gluon', 'W', 'photon']\n",
      "['pion', 'kaon']\n",
      "['u', 'd', 's']\n",
      "['electron', 'muon', 'tau']\n",
      "['Z', 'gluon', 'W', 'photon', 'pion', 'kaon', 'u', 'd', 's', 'electron', 'muon', 'tau']\n"
     ]
    }
   ],
   "source": [
    "all_vals=[]\n",
    "for v in particles.values():\n",
    "    print(v)\n",
    "    all_vals.extend(v)\n",
    "print(all_vals)"
   ]
  },
  {
   "cell_type": "code",
   "execution_count": 20,
   "metadata": {},
   "outputs": [
    {
     "name": "stdout",
     "output_type": "stream",
     "text": [
      "{123: (1, 2, 3), 'one': [1.2, 2.3], (1, 2): 'tuple'}\n",
      "<class 'int'> <class 'tuple'>\n",
      "<class 'str'> <class 'list'>\n",
      "<class 'tuple'> <class 'str'>\n"
     ]
    }
   ],
   "source": [
    "dic2 = { 123: (1,2,3), 'one': [1.2, 2.3] , (1,2): 'tuple'}\n",
    "print(dic2)\n",
    "for i in dic2:\n",
    "    print( type(i), type(dic2[i]) )"
   ]
  },
  {
   "cell_type": "markdown",
   "metadata": {},
   "source": [
    "Same behavior can be obtained with a double loop"
   ]
  },
  {
   "cell_type": "code",
   "execution_count": 21,
   "metadata": {},
   "outputs": [
    {
     "name": "stdout",
     "output_type": "stream",
     "text": [
      "['Z', 'gluon', 'W', 'photon', 'pion', 'kaon', 'u', 'd', 's', 'electron', 'muon', 'tau']\n"
     ]
    }
   ],
   "source": [
    "flat=[]\n",
    "for v in particles.values():\n",
    "    for i in v:\n",
    "        flat.append(i)\n",
    "print(flat)"
   ]
  },
  {
   "cell_type": "markdown",
   "metadata": {},
   "source": [
    "### Valid key types\n",
    "- Keys must be hashable\n",
    "    - immutable scalar type like int, float, string\n",
    "    - tuples\n",
    "- This means a unique identifier can be created based on your key.\n",
    "- youn can check if a variable is hashable or not in python"
   ]
  },
  {
   "cell_type": "code",
   "execution_count": 33,
   "metadata": {},
   "outputs": [
    {
     "data": {
      "text/plain": [
       "5680941550141782090"
      ]
     },
     "execution_count": 33,
     "metadata": {},
     "output_type": "execute_result"
    }
   ],
   "source": [
    "hash('boson')"
   ]
  },
  {
   "cell_type": "code",
   "execution_count": 81,
   "metadata": {},
   "outputs": [
    {
     "data": {
      "text/plain": [
       "-8536403370352787292"
      ]
     },
     "execution_count": 81,
     "metadata": {},
     "output_type": "execute_result"
    }
   ],
   "source": [
    "hash((2,3,2.4))"
   ]
  },
  {
   "cell_type": "code",
   "execution_count": 82,
   "metadata": {},
   "outputs": [
    {
     "data": {
      "text/plain": [
       "284615736650468355"
      ]
     },
     "execution_count": 82,
     "metadata": {},
     "output_type": "execute_result"
    }
   ],
   "source": [
    "hash(3.1234324)"
   ]
  },
  {
   "cell_type": "code",
   "execution_count": 42,
   "metadata": {},
   "outputs": [
    {
     "name": "stdout",
     "output_type": "stream",
     "text": [
      "{2.9: 'value of c', 5.9: 'value of something'}\n",
      "{2.9: 'value of c', 5.9: 'value of something', 5.4: 'new'}\n",
      "{2.9: 'value of c', 5.9: 'value of something', 5.4: 'new', -3.4: 'new val'}\n"
     ]
    }
   ],
   "source": [
    "c = 2.9\n",
    "hash(c)\n",
    "dict3 = { c:'value of c', 5.9:'value of something'}\n",
    "print(dict3)\n",
    "\n",
    "c = 5.4\n",
    "dict3[c] = 'new'\n",
    "print(dict3)\n",
    "\n",
    "c = 5.6\n",
    "dict3[-3.4] = 'new val'\n",
    "print(dict3)"
   ]
  },
  {
   "cell_type": "code",
   "execution_count": 83,
   "metadata": {},
   "outputs": [
    {
     "ename": "TypeError",
     "evalue": "unhashable type: 'list'",
     "output_type": "error",
     "traceback": [
      "\u001b[0;31m---------------------------------------------------------------------------\u001b[0m",
      "\u001b[0;31mTypeError\u001b[0m                                 Traceback (most recent call last)",
      "\u001b[0;32m<ipython-input-83-6c6d0fb6a860>\u001b[0m in \u001b[0;36m<module>\u001b[0;34m\u001b[0m\n\u001b[0;32m----> 1\u001b[0;31m \u001b[0mhash\u001b[0m\u001b[0;34m(\u001b[0m\u001b[0;34m[\u001b[0m\u001b[0;36m1\u001b[0m\u001b[0;34m,\u001b[0m\u001b[0;36m2.3\u001b[0m\u001b[0;34m]\u001b[0m\u001b[0;34m)\u001b[0m\u001b[0;34m\u001b[0m\u001b[0m\n\u001b[0m",
      "\u001b[0;31mTypeError\u001b[0m: unhashable type: 'list'"
     ]
    }
   ],
   "source": [
    "hash([1,2.3])"
   ]
  },
  {
   "cell_type": "code",
   "execution_count": 40,
   "metadata": {},
   "outputs": [
    {
     "ename": "TypeError",
     "evalue": "unhashable type: 'list'",
     "output_type": "error",
     "traceback": [
      "\u001b[0;31m---------------------------------------------------------------------------\u001b[0m",
      "\u001b[0;31mTypeError\u001b[0m                                 Traceback (most recent call last)",
      "\u001b[0;32m<ipython-input-40-a92ddf4a44e5>\u001b[0m in \u001b[0;36m<module>\u001b[0;34m\u001b[0m\n\u001b[1;32m      1\u001b[0m \u001b[0md\u001b[0m \u001b[0;34m=\u001b[0m \u001b[0;34m[\u001b[0m\u001b[0;36m1\u001b[0m\u001b[0;34m,\u001b[0m\u001b[0;36m2\u001b[0m\u001b[0;34m,\u001b[0m\u001b[0;36m3\u001b[0m\u001b[0;34m]\u001b[0m\u001b[0;34m\u001b[0m\u001b[0m\n\u001b[0;32m----> 2\u001b[0;31m \u001b[0mhash\u001b[0m\u001b[0;34m(\u001b[0m\u001b[0md\u001b[0m\u001b[0;34m)\u001b[0m\u001b[0;34m\u001b[0m\u001b[0m\n\u001b[0m",
      "\u001b[0;31mTypeError\u001b[0m: unhashable type: 'list'"
     ]
    }
   ],
   "source": [
    "d = [1,2,3]\n",
    "hash(d)"
   ]
  },
  {
   "cell_type": "markdown",
   "metadata": {},
   "source": [
    "## Set\n",
    "- an unordered collection of __unique__ elements\n",
    "- the natural example is the collection of the keys of a dictionary\n",
    "- a set is created with `{}` or with the `set` function\n",
    "\n",
    "consider our days dictionary that stores the days for each month"
   ]
  },
  {
   "cell_type": "code",
   "execution_count": 37,
   "metadata": {},
   "outputs": [
    {
     "data": {
      "text/plain": [
       "dict_values([31, 28, 31, 30, 31, 30, 31, 31, 30, 31, 30, 31])"
      ]
     },
     "execution_count": 37,
     "metadata": {},
     "output_type": "execute_result"
    }
   ],
   "source": [
    "day_len = days.values()\n",
    "day_len"
   ]
  },
  {
   "cell_type": "markdown",
   "metadata": {},
   "source": [
    "we can create a set from this list"
   ]
  },
  {
   "cell_type": "code",
   "execution_count": 39,
   "metadata": {},
   "outputs": [
    {
     "name": "stdout",
     "output_type": "stream",
     "text": [
      "{28, 30, 31}\n",
      "{1, 2, 3, 4, 34}\n"
     ]
    }
   ],
   "source": [
    "days_set = set( day_len)\n",
    "days_set\n",
    "print(days_set)\n",
    "new_set = {1,2,3,4,1, 34, 3, 2, 34}\n",
    "print(new_set)"
   ]
  },
  {
   "cell_type": "markdown",
   "metadata": {},
   "source": [
    "### Sets and dictionaries for data analysis"
   ]
  },
  {
   "cell_type": "code",
   "execution_count": 44,
   "metadata": {},
   "outputs": [
    {
     "name": "stdout",
     "output_type": "stream",
     "text": [
      "[23, 23, 23, 25, 18, 21, 27, 20, 30, 21, 30, 24, 18, 24, 22, 25, 26, 27, 29, 30, 18, 24, 30, 29, 23, 29, 24, 19, 30, 21, 27, 27, 25, 25, 28, 27, 20, 26, 20, 26, 25, 26, 29, 24, 22, 19, 25, 29, 25, 18, 26, 18, 24, 26, 29, 27, 21, 20, 23, 25, 20, 21, 21]\n"
     ]
    }
   ],
   "source": [
    "import numpy as np\n",
    "\n",
    "grades = np.random.randint(18,31, 63).tolist()\n",
    "print(grades)"
   ]
  },
  {
   "cell_type": "code",
   "execution_count": 45,
   "metadata": {},
   "outputs": [
    {
     "data": {
      "text/plain": [
       "list"
      ]
     },
     "execution_count": 45,
     "metadata": {},
     "output_type": "execute_result"
    }
   ],
   "source": [
    "type(grades)"
   ]
  },
  {
   "cell_type": "code",
   "execution_count": 46,
   "metadata": {},
   "outputs": [
    {
     "name": "stdout",
     "output_type": "stream",
     "text": [
      "{18, 19, 20, 21, 22, 23, 24, 25, 26, 27, 28, 29, 30}\n"
     ]
    },
    {
     "data": {
      "text/plain": [
       "5"
      ]
     },
     "execution_count": 46,
     "metadata": {},
     "output_type": "execute_result"
    }
   ],
   "source": [
    "vals = set(grades)\n",
    "print(vals)\n",
    "grades.count(18)"
   ]
  },
  {
   "cell_type": "code",
   "execution_count": 47,
   "metadata": {},
   "outputs": [
    {
     "name": "stdout",
     "output_type": "stream",
     "text": [
      "grade: 18  frequency: 5\n",
      "grade: 19  frequency: 2\n",
      "grade: 20  frequency: 5\n",
      "grade: 21  frequency: 6\n",
      "grade: 22  frequency: 2\n",
      "grade: 23  frequency: 5\n",
      "grade: 24  frequency: 6\n",
      "grade: 25  frequency: 8\n",
      "grade: 26  frequency: 6\n",
      "grade: 27  frequency: 6\n",
      "grade: 28  frequency: 1\n",
      "grade: 29  frequency: 6\n",
      "grade: 30  frequency: 5\n"
     ]
    }
   ],
   "source": [
    "data = {}\n",
    "for v in vals:\n",
    "    data[v] = grades.count(v)\n",
    "    print(\"grade: {0}  frequency: {1}\".format(v,data[v]))"
   ]
  },
  {
   "cell_type": "code",
   "execution_count": 60,
   "metadata": {},
   "outputs": [
    {
     "data": {
      "application/javascript": [
       "/* Put everything inside the global mpl namespace */\n",
       "window.mpl = {};\n",
       "\n",
       "\n",
       "mpl.get_websocket_type = function() {\n",
       "    if (typeof(WebSocket) !== 'undefined') {\n",
       "        return WebSocket;\n",
       "    } else if (typeof(MozWebSocket) !== 'undefined') {\n",
       "        return MozWebSocket;\n",
       "    } else {\n",
       "        alert('Your browser does not have WebSocket support.' +\n",
       "              'Please try Chrome, Safari or Firefox ≥ 6. ' +\n",
       "              'Firefox 4 and 5 are also supported but you ' +\n",
       "              'have to enable WebSockets in about:config.');\n",
       "    };\n",
       "}\n",
       "\n",
       "mpl.figure = function(figure_id, websocket, ondownload, parent_element) {\n",
       "    this.id = figure_id;\n",
       "\n",
       "    this.ws = websocket;\n",
       "\n",
       "    this.supports_binary = (this.ws.binaryType != undefined);\n",
       "\n",
       "    if (!this.supports_binary) {\n",
       "        var warnings = document.getElementById(\"mpl-warnings\");\n",
       "        if (warnings) {\n",
       "            warnings.style.display = 'block';\n",
       "            warnings.textContent = (\n",
       "                \"This browser does not support binary websocket messages. \" +\n",
       "                    \"Performance may be slow.\");\n",
       "        }\n",
       "    }\n",
       "\n",
       "    this.imageObj = new Image();\n",
       "\n",
       "    this.context = undefined;\n",
       "    this.message = undefined;\n",
       "    this.canvas = undefined;\n",
       "    this.rubberband_canvas = undefined;\n",
       "    this.rubberband_context = undefined;\n",
       "    this.format_dropdown = undefined;\n",
       "\n",
       "    this.image_mode = 'full';\n",
       "\n",
       "    this.root = $('<div/>');\n",
       "    this._root_extra_style(this.root)\n",
       "    this.root.attr('style', 'display: inline-block');\n",
       "\n",
       "    $(parent_element).append(this.root);\n",
       "\n",
       "    this._init_header(this);\n",
       "    this._init_canvas(this);\n",
       "    this._init_toolbar(this);\n",
       "\n",
       "    var fig = this;\n",
       "\n",
       "    this.waiting = false;\n",
       "\n",
       "    this.ws.onopen =  function () {\n",
       "            fig.send_message(\"supports_binary\", {value: fig.supports_binary});\n",
       "            fig.send_message(\"send_image_mode\", {});\n",
       "            if (mpl.ratio != 1) {\n",
       "                fig.send_message(\"set_dpi_ratio\", {'dpi_ratio': mpl.ratio});\n",
       "            }\n",
       "            fig.send_message(\"refresh\", {});\n",
       "        }\n",
       "\n",
       "    this.imageObj.onload = function() {\n",
       "            if (fig.image_mode == 'full') {\n",
       "                // Full images could contain transparency (where diff images\n",
       "                // almost always do), so we need to clear the canvas so that\n",
       "                // there is no ghosting.\n",
       "                fig.context.clearRect(0, 0, fig.canvas.width, fig.canvas.height);\n",
       "            }\n",
       "            fig.context.drawImage(fig.imageObj, 0, 0);\n",
       "        };\n",
       "\n",
       "    this.imageObj.onunload = function() {\n",
       "        fig.ws.close();\n",
       "    }\n",
       "\n",
       "    this.ws.onmessage = this._make_on_message_function(this);\n",
       "\n",
       "    this.ondownload = ondownload;\n",
       "}\n",
       "\n",
       "mpl.figure.prototype._init_header = function() {\n",
       "    var titlebar = $(\n",
       "        '<div class=\"ui-dialog-titlebar ui-widget-header ui-corner-all ' +\n",
       "        'ui-helper-clearfix\"/>');\n",
       "    var titletext = $(\n",
       "        '<div class=\"ui-dialog-title\" style=\"width: 100%; ' +\n",
       "        'text-align: center; padding: 3px;\"/>');\n",
       "    titlebar.append(titletext)\n",
       "    this.root.append(titlebar);\n",
       "    this.header = titletext[0];\n",
       "}\n",
       "\n",
       "\n",
       "\n",
       "mpl.figure.prototype._canvas_extra_style = function(canvas_div) {\n",
       "\n",
       "}\n",
       "\n",
       "\n",
       "mpl.figure.prototype._root_extra_style = function(canvas_div) {\n",
       "\n",
       "}\n",
       "\n",
       "mpl.figure.prototype._init_canvas = function() {\n",
       "    var fig = this;\n",
       "\n",
       "    var canvas_div = $('<div/>');\n",
       "\n",
       "    canvas_div.attr('style', 'position: relative; clear: both; outline: 0');\n",
       "\n",
       "    function canvas_keyboard_event(event) {\n",
       "        return fig.key_event(event, event['data']);\n",
       "    }\n",
       "\n",
       "    canvas_div.keydown('key_press', canvas_keyboard_event);\n",
       "    canvas_div.keyup('key_release', canvas_keyboard_event);\n",
       "    this.canvas_div = canvas_div\n",
       "    this._canvas_extra_style(canvas_div)\n",
       "    this.root.append(canvas_div);\n",
       "\n",
       "    var canvas = $('<canvas/>');\n",
       "    canvas.addClass('mpl-canvas');\n",
       "    canvas.attr('style', \"left: 0; top: 0; z-index: 0; outline: 0\")\n",
       "\n",
       "    this.canvas = canvas[0];\n",
       "    this.context = canvas[0].getContext(\"2d\");\n",
       "\n",
       "    var backingStore = this.context.backingStorePixelRatio ||\n",
       "\tthis.context.webkitBackingStorePixelRatio ||\n",
       "\tthis.context.mozBackingStorePixelRatio ||\n",
       "\tthis.context.msBackingStorePixelRatio ||\n",
       "\tthis.context.oBackingStorePixelRatio ||\n",
       "\tthis.context.backingStorePixelRatio || 1;\n",
       "\n",
       "    mpl.ratio = (window.devicePixelRatio || 1) / backingStore;\n",
       "\n",
       "    var rubberband = $('<canvas/>');\n",
       "    rubberband.attr('style', \"position: absolute; left: 0; top: 0; z-index: 1;\")\n",
       "\n",
       "    var pass_mouse_events = true;\n",
       "\n",
       "    canvas_div.resizable({\n",
       "        start: function(event, ui) {\n",
       "            pass_mouse_events = false;\n",
       "        },\n",
       "        resize: function(event, ui) {\n",
       "            fig.request_resize(ui.size.width, ui.size.height);\n",
       "        },\n",
       "        stop: function(event, ui) {\n",
       "            pass_mouse_events = true;\n",
       "            fig.request_resize(ui.size.width, ui.size.height);\n",
       "        },\n",
       "    });\n",
       "\n",
       "    function mouse_event_fn(event) {\n",
       "        if (pass_mouse_events)\n",
       "            return fig.mouse_event(event, event['data']);\n",
       "    }\n",
       "\n",
       "    rubberband.mousedown('button_press', mouse_event_fn);\n",
       "    rubberband.mouseup('button_release', mouse_event_fn);\n",
       "    // Throttle sequential mouse events to 1 every 20ms.\n",
       "    rubberband.mousemove('motion_notify', mouse_event_fn);\n",
       "\n",
       "    rubberband.mouseenter('figure_enter', mouse_event_fn);\n",
       "    rubberband.mouseleave('figure_leave', mouse_event_fn);\n",
       "\n",
       "    canvas_div.on(\"wheel\", function (event) {\n",
       "        event = event.originalEvent;\n",
       "        event['data'] = 'scroll'\n",
       "        if (event.deltaY < 0) {\n",
       "            event.step = 1;\n",
       "        } else {\n",
       "            event.step = -1;\n",
       "        }\n",
       "        mouse_event_fn(event);\n",
       "    });\n",
       "\n",
       "    canvas_div.append(canvas);\n",
       "    canvas_div.append(rubberband);\n",
       "\n",
       "    this.rubberband = rubberband;\n",
       "    this.rubberband_canvas = rubberband[0];\n",
       "    this.rubberband_context = rubberband[0].getContext(\"2d\");\n",
       "    this.rubberband_context.strokeStyle = \"#000000\";\n",
       "\n",
       "    this._resize_canvas = function(width, height) {\n",
       "        // Keep the size of the canvas, canvas container, and rubber band\n",
       "        // canvas in synch.\n",
       "        canvas_div.css('width', width)\n",
       "        canvas_div.css('height', height)\n",
       "\n",
       "        canvas.attr('width', width * mpl.ratio);\n",
       "        canvas.attr('height', height * mpl.ratio);\n",
       "        canvas.attr('style', 'width: ' + width + 'px; height: ' + height + 'px;');\n",
       "\n",
       "        rubberband.attr('width', width);\n",
       "        rubberband.attr('height', height);\n",
       "    }\n",
       "\n",
       "    // Set the figure to an initial 600x600px, this will subsequently be updated\n",
       "    // upon first draw.\n",
       "    this._resize_canvas(600, 600);\n",
       "\n",
       "    // Disable right mouse context menu.\n",
       "    $(this.rubberband_canvas).bind(\"contextmenu\",function(e){\n",
       "        return false;\n",
       "    });\n",
       "\n",
       "    function set_focus () {\n",
       "        canvas.focus();\n",
       "        canvas_div.focus();\n",
       "    }\n",
       "\n",
       "    window.setTimeout(set_focus, 100);\n",
       "}\n",
       "\n",
       "mpl.figure.prototype._init_toolbar = function() {\n",
       "    var fig = this;\n",
       "\n",
       "    var nav_element = $('<div/>')\n",
       "    nav_element.attr('style', 'width: 100%');\n",
       "    this.root.append(nav_element);\n",
       "\n",
       "    // Define a callback function for later on.\n",
       "    function toolbar_event(event) {\n",
       "        return fig.toolbar_button_onclick(event['data']);\n",
       "    }\n",
       "    function toolbar_mouse_event(event) {\n",
       "        return fig.toolbar_button_onmouseover(event['data']);\n",
       "    }\n",
       "\n",
       "    for(var toolbar_ind in mpl.toolbar_items) {\n",
       "        var name = mpl.toolbar_items[toolbar_ind][0];\n",
       "        var tooltip = mpl.toolbar_items[toolbar_ind][1];\n",
       "        var image = mpl.toolbar_items[toolbar_ind][2];\n",
       "        var method_name = mpl.toolbar_items[toolbar_ind][3];\n",
       "\n",
       "        if (!name) {\n",
       "            // put a spacer in here.\n",
       "            continue;\n",
       "        }\n",
       "        var button = $('<button/>');\n",
       "        button.addClass('ui-button ui-widget ui-state-default ui-corner-all ' +\n",
       "                        'ui-button-icon-only');\n",
       "        button.attr('role', 'button');\n",
       "        button.attr('aria-disabled', 'false');\n",
       "        button.click(method_name, toolbar_event);\n",
       "        button.mouseover(tooltip, toolbar_mouse_event);\n",
       "\n",
       "        var icon_img = $('<span/>');\n",
       "        icon_img.addClass('ui-button-icon-primary ui-icon');\n",
       "        icon_img.addClass(image);\n",
       "        icon_img.addClass('ui-corner-all');\n",
       "\n",
       "        var tooltip_span = $('<span/>');\n",
       "        tooltip_span.addClass('ui-button-text');\n",
       "        tooltip_span.html(tooltip);\n",
       "\n",
       "        button.append(icon_img);\n",
       "        button.append(tooltip_span);\n",
       "\n",
       "        nav_element.append(button);\n",
       "    }\n",
       "\n",
       "    var fmt_picker_span = $('<span/>');\n",
       "\n",
       "    var fmt_picker = $('<select/>');\n",
       "    fmt_picker.addClass('mpl-toolbar-option ui-widget ui-widget-content');\n",
       "    fmt_picker_span.append(fmt_picker);\n",
       "    nav_element.append(fmt_picker_span);\n",
       "    this.format_dropdown = fmt_picker[0];\n",
       "\n",
       "    for (var ind in mpl.extensions) {\n",
       "        var fmt = mpl.extensions[ind];\n",
       "        var option = $(\n",
       "            '<option/>', {selected: fmt === mpl.default_extension}).html(fmt);\n",
       "        fmt_picker.append(option)\n",
       "    }\n",
       "\n",
       "    // Add hover states to the ui-buttons\n",
       "    $( \".ui-button\" ).hover(\n",
       "        function() { $(this).addClass(\"ui-state-hover\");},\n",
       "        function() { $(this).removeClass(\"ui-state-hover\");}\n",
       "    );\n",
       "\n",
       "    var status_bar = $('<span class=\"mpl-message\"/>');\n",
       "    nav_element.append(status_bar);\n",
       "    this.message = status_bar[0];\n",
       "}\n",
       "\n",
       "mpl.figure.prototype.request_resize = function(x_pixels, y_pixels) {\n",
       "    // Request matplotlib to resize the figure. Matplotlib will then trigger a resize in the client,\n",
       "    // which will in turn request a refresh of the image.\n",
       "    this.send_message('resize', {'width': x_pixels, 'height': y_pixels});\n",
       "}\n",
       "\n",
       "mpl.figure.prototype.send_message = function(type, properties) {\n",
       "    properties['type'] = type;\n",
       "    properties['figure_id'] = this.id;\n",
       "    this.ws.send(JSON.stringify(properties));\n",
       "}\n",
       "\n",
       "mpl.figure.prototype.send_draw_message = function() {\n",
       "    if (!this.waiting) {\n",
       "        this.waiting = true;\n",
       "        this.ws.send(JSON.stringify({type: \"draw\", figure_id: this.id}));\n",
       "    }\n",
       "}\n",
       "\n",
       "\n",
       "mpl.figure.prototype.handle_save = function(fig, msg) {\n",
       "    var format_dropdown = fig.format_dropdown;\n",
       "    var format = format_dropdown.options[format_dropdown.selectedIndex].value;\n",
       "    fig.ondownload(fig, format);\n",
       "}\n",
       "\n",
       "\n",
       "mpl.figure.prototype.handle_resize = function(fig, msg) {\n",
       "    var size = msg['size'];\n",
       "    if (size[0] != fig.canvas.width || size[1] != fig.canvas.height) {\n",
       "        fig._resize_canvas(size[0], size[1]);\n",
       "        fig.send_message(\"refresh\", {});\n",
       "    };\n",
       "}\n",
       "\n",
       "mpl.figure.prototype.handle_rubberband = function(fig, msg) {\n",
       "    var x0 = msg['x0'] / mpl.ratio;\n",
       "    var y0 = (fig.canvas.height - msg['y0']) / mpl.ratio;\n",
       "    var x1 = msg['x1'] / mpl.ratio;\n",
       "    var y1 = (fig.canvas.height - msg['y1']) / mpl.ratio;\n",
       "    x0 = Math.floor(x0) + 0.5;\n",
       "    y0 = Math.floor(y0) + 0.5;\n",
       "    x1 = Math.floor(x1) + 0.5;\n",
       "    y1 = Math.floor(y1) + 0.5;\n",
       "    var min_x = Math.min(x0, x1);\n",
       "    var min_y = Math.min(y0, y1);\n",
       "    var width = Math.abs(x1 - x0);\n",
       "    var height = Math.abs(y1 - y0);\n",
       "\n",
       "    fig.rubberband_context.clearRect(\n",
       "        0, 0, fig.canvas.width, fig.canvas.height);\n",
       "\n",
       "    fig.rubberband_context.strokeRect(min_x, min_y, width, height);\n",
       "}\n",
       "\n",
       "mpl.figure.prototype.handle_figure_label = function(fig, msg) {\n",
       "    // Updates the figure title.\n",
       "    fig.header.textContent = msg['label'];\n",
       "}\n",
       "\n",
       "mpl.figure.prototype.handle_cursor = function(fig, msg) {\n",
       "    var cursor = msg['cursor'];\n",
       "    switch(cursor)\n",
       "    {\n",
       "    case 0:\n",
       "        cursor = 'pointer';\n",
       "        break;\n",
       "    case 1:\n",
       "        cursor = 'default';\n",
       "        break;\n",
       "    case 2:\n",
       "        cursor = 'crosshair';\n",
       "        break;\n",
       "    case 3:\n",
       "        cursor = 'move';\n",
       "        break;\n",
       "    }\n",
       "    fig.rubberband_canvas.style.cursor = cursor;\n",
       "}\n",
       "\n",
       "mpl.figure.prototype.handle_message = function(fig, msg) {\n",
       "    fig.message.textContent = msg['message'];\n",
       "}\n",
       "\n",
       "mpl.figure.prototype.handle_draw = function(fig, msg) {\n",
       "    // Request the server to send over a new figure.\n",
       "    fig.send_draw_message();\n",
       "}\n",
       "\n",
       "mpl.figure.prototype.handle_image_mode = function(fig, msg) {\n",
       "    fig.image_mode = msg['mode'];\n",
       "}\n",
       "\n",
       "mpl.figure.prototype.updated_canvas_event = function() {\n",
       "    // Called whenever the canvas gets updated.\n",
       "    this.send_message(\"ack\", {});\n",
       "}\n",
       "\n",
       "// A function to construct a web socket function for onmessage handling.\n",
       "// Called in the figure constructor.\n",
       "mpl.figure.prototype._make_on_message_function = function(fig) {\n",
       "    return function socket_on_message(evt) {\n",
       "        if (evt.data instanceof Blob) {\n",
       "            /* FIXME: We get \"Resource interpreted as Image but\n",
       "             * transferred with MIME type text/plain:\" errors on\n",
       "             * Chrome.  But how to set the MIME type?  It doesn't seem\n",
       "             * to be part of the websocket stream */\n",
       "            evt.data.type = \"image/png\";\n",
       "\n",
       "            /* Free the memory for the previous frames */\n",
       "            if (fig.imageObj.src) {\n",
       "                (window.URL || window.webkitURL).revokeObjectURL(\n",
       "                    fig.imageObj.src);\n",
       "            }\n",
       "\n",
       "            fig.imageObj.src = (window.URL || window.webkitURL).createObjectURL(\n",
       "                evt.data);\n",
       "            fig.updated_canvas_event();\n",
       "            fig.waiting = false;\n",
       "            return;\n",
       "        }\n",
       "        else if (typeof evt.data === 'string' && evt.data.slice(0, 21) == \"data:image/png;base64\") {\n",
       "            fig.imageObj.src = evt.data;\n",
       "            fig.updated_canvas_event();\n",
       "            fig.waiting = false;\n",
       "            return;\n",
       "        }\n",
       "\n",
       "        var msg = JSON.parse(evt.data);\n",
       "        var msg_type = msg['type'];\n",
       "\n",
       "        // Call the  \"handle_{type}\" callback, which takes\n",
       "        // the figure and JSON message as its only arguments.\n",
       "        try {\n",
       "            var callback = fig[\"handle_\" + msg_type];\n",
       "        } catch (e) {\n",
       "            console.log(\"No handler for the '\" + msg_type + \"' message type: \", msg);\n",
       "            return;\n",
       "        }\n",
       "\n",
       "        if (callback) {\n",
       "            try {\n",
       "                // console.log(\"Handling '\" + msg_type + \"' message: \", msg);\n",
       "                callback(fig, msg);\n",
       "            } catch (e) {\n",
       "                console.log(\"Exception inside the 'handler_\" + msg_type + \"' callback:\", e, e.stack, msg);\n",
       "            }\n",
       "        }\n",
       "    };\n",
       "}\n",
       "\n",
       "// from http://stackoverflow.com/questions/1114465/getting-mouse-location-in-canvas\n",
       "mpl.findpos = function(e) {\n",
       "    //this section is from http://www.quirksmode.org/js/events_properties.html\n",
       "    var targ;\n",
       "    if (!e)\n",
       "        e = window.event;\n",
       "    if (e.target)\n",
       "        targ = e.target;\n",
       "    else if (e.srcElement)\n",
       "        targ = e.srcElement;\n",
       "    if (targ.nodeType == 3) // defeat Safari bug\n",
       "        targ = targ.parentNode;\n",
       "\n",
       "    // jQuery normalizes the pageX and pageY\n",
       "    // pageX,Y are the mouse positions relative to the document\n",
       "    // offset() returns the position of the element relative to the document\n",
       "    var x = e.pageX - $(targ).offset().left;\n",
       "    var y = e.pageY - $(targ).offset().top;\n",
       "\n",
       "    return {\"x\": x, \"y\": y};\n",
       "};\n",
       "\n",
       "/*\n",
       " * return a copy of an object with only non-object keys\n",
       " * we need this to avoid circular references\n",
       " * http://stackoverflow.com/a/24161582/3208463\n",
       " */\n",
       "function simpleKeys (original) {\n",
       "  return Object.keys(original).reduce(function (obj, key) {\n",
       "    if (typeof original[key] !== 'object')\n",
       "        obj[key] = original[key]\n",
       "    return obj;\n",
       "  }, {});\n",
       "}\n",
       "\n",
       "mpl.figure.prototype.mouse_event = function(event, name) {\n",
       "    var canvas_pos = mpl.findpos(event)\n",
       "\n",
       "    if (name === 'button_press')\n",
       "    {\n",
       "        this.canvas.focus();\n",
       "        this.canvas_div.focus();\n",
       "    }\n",
       "\n",
       "    var x = canvas_pos.x * mpl.ratio;\n",
       "    var y = canvas_pos.y * mpl.ratio;\n",
       "\n",
       "    this.send_message(name, {x: x, y: y, button: event.button,\n",
       "                             step: event.step,\n",
       "                             guiEvent: simpleKeys(event)});\n",
       "\n",
       "    /* This prevents the web browser from automatically changing to\n",
       "     * the text insertion cursor when the button is pressed.  We want\n",
       "     * to control all of the cursor setting manually through the\n",
       "     * 'cursor' event from matplotlib */\n",
       "    event.preventDefault();\n",
       "    return false;\n",
       "}\n",
       "\n",
       "mpl.figure.prototype._key_event_extra = function(event, name) {\n",
       "    // Handle any extra behaviour associated with a key event\n",
       "}\n",
       "\n",
       "mpl.figure.prototype.key_event = function(event, name) {\n",
       "\n",
       "    // Prevent repeat events\n",
       "    if (name == 'key_press')\n",
       "    {\n",
       "        if (event.which === this._key)\n",
       "            return;\n",
       "        else\n",
       "            this._key = event.which;\n",
       "    }\n",
       "    if (name == 'key_release')\n",
       "        this._key = null;\n",
       "\n",
       "    var value = '';\n",
       "    if (event.ctrlKey && event.which != 17)\n",
       "        value += \"ctrl+\";\n",
       "    if (event.altKey && event.which != 18)\n",
       "        value += \"alt+\";\n",
       "    if (event.shiftKey && event.which != 16)\n",
       "        value += \"shift+\";\n",
       "\n",
       "    value += 'k';\n",
       "    value += event.which.toString();\n",
       "\n",
       "    this._key_event_extra(event, name);\n",
       "\n",
       "    this.send_message(name, {key: value,\n",
       "                             guiEvent: simpleKeys(event)});\n",
       "    return false;\n",
       "}\n",
       "\n",
       "mpl.figure.prototype.toolbar_button_onclick = function(name) {\n",
       "    if (name == 'download') {\n",
       "        this.handle_save(this, null);\n",
       "    } else {\n",
       "        this.send_message(\"toolbar_button\", {name: name});\n",
       "    }\n",
       "};\n",
       "\n",
       "mpl.figure.prototype.toolbar_button_onmouseover = function(tooltip) {\n",
       "    this.message.textContent = tooltip;\n",
       "};\n",
       "mpl.toolbar_items = [[\"Home\", \"Reset original view\", \"fa fa-home icon-home\", \"home\"], [\"Back\", \"Back to previous view\", \"fa fa-arrow-left icon-arrow-left\", \"back\"], [\"Forward\", \"Forward to next view\", \"fa fa-arrow-right icon-arrow-right\", \"forward\"], [\"\", \"\", \"\", \"\"], [\"Pan\", \"Pan axes with left mouse, zoom with right\", \"fa fa-arrows icon-move\", \"pan\"], [\"Zoom\", \"Zoom to rectangle\", \"fa fa-square-o icon-check-empty\", \"zoom\"], [\"\", \"\", \"\", \"\"], [\"Download\", \"Download plot\", \"fa fa-floppy-o icon-save\", \"download\"]];\n",
       "\n",
       "mpl.extensions = [\"eps\", \"pdf\", \"png\", \"ps\", \"raw\", \"svg\"];\n",
       "\n",
       "mpl.default_extension = \"png\";var comm_websocket_adapter = function(comm) {\n",
       "    // Create a \"websocket\"-like object which calls the given IPython comm\n",
       "    // object with the appropriate methods. Currently this is a non binary\n",
       "    // socket, so there is still some room for performance tuning.\n",
       "    var ws = {};\n",
       "\n",
       "    ws.close = function() {\n",
       "        comm.close()\n",
       "    };\n",
       "    ws.send = function(m) {\n",
       "        //console.log('sending', m);\n",
       "        comm.send(m);\n",
       "    };\n",
       "    // Register the callback with on_msg.\n",
       "    comm.on_msg(function(msg) {\n",
       "        //console.log('receiving', msg['content']['data'], msg);\n",
       "        // Pass the mpl event to the overridden (by mpl) onmessage function.\n",
       "        ws.onmessage(msg['content']['data'])\n",
       "    });\n",
       "    return ws;\n",
       "}\n",
       "\n",
       "mpl.mpl_figure_comm = function(comm, msg) {\n",
       "    // This is the function which gets called when the mpl process\n",
       "    // starts-up an IPython Comm through the \"matplotlib\" channel.\n",
       "\n",
       "    var id = msg.content.data.id;\n",
       "    // Get hold of the div created by the display call when the Comm\n",
       "    // socket was opened in Python.\n",
       "    var element = $(\"#\" + id);\n",
       "    var ws_proxy = comm_websocket_adapter(comm)\n",
       "\n",
       "    function ondownload(figure, format) {\n",
       "        window.open(figure.imageObj.src);\n",
       "    }\n",
       "\n",
       "    var fig = new mpl.figure(id, ws_proxy,\n",
       "                           ondownload,\n",
       "                           element.get(0));\n",
       "\n",
       "    // Call onopen now - mpl needs it, as it is assuming we've passed it a real\n",
       "    // web socket which is closed, not our websocket->open comm proxy.\n",
       "    ws_proxy.onopen();\n",
       "\n",
       "    fig.parent_element = element.get(0);\n",
       "    fig.cell_info = mpl.find_output_cell(\"<div id='\" + id + \"'></div>\");\n",
       "    if (!fig.cell_info) {\n",
       "        console.error(\"Failed to find cell for figure\", id, fig);\n",
       "        return;\n",
       "    }\n",
       "\n",
       "    var output_index = fig.cell_info[2]\n",
       "    var cell = fig.cell_info[0];\n",
       "\n",
       "};\n",
       "\n",
       "mpl.figure.prototype.handle_close = function(fig, msg) {\n",
       "    var width = fig.canvas.width/mpl.ratio\n",
       "    fig.root.unbind('remove')\n",
       "\n",
       "    // Update the output cell to use the data from the current canvas.\n",
       "    fig.push_to_output();\n",
       "    var dataURL = fig.canvas.toDataURL();\n",
       "    // Re-enable the keyboard manager in IPython - without this line, in FF,\n",
       "    // the notebook keyboard shortcuts fail.\n",
       "    IPython.keyboard_manager.enable()\n",
       "    $(fig.parent_element).html('<img src=\"' + dataURL + '\" width=\"' + width + '\">');\n",
       "    fig.close_ws(fig, msg);\n",
       "}\n",
       "\n",
       "mpl.figure.prototype.close_ws = function(fig, msg){\n",
       "    fig.send_message('closing', msg);\n",
       "    // fig.ws.close()\n",
       "}\n",
       "\n",
       "mpl.figure.prototype.push_to_output = function(remove_interactive) {\n",
       "    // Turn the data on the canvas into data in the output cell.\n",
       "    var width = this.canvas.width/mpl.ratio\n",
       "    var dataURL = this.canvas.toDataURL();\n",
       "    this.cell_info[1]['text/html'] = '<img src=\"' + dataURL + '\" width=\"' + width + '\">';\n",
       "}\n",
       "\n",
       "mpl.figure.prototype.updated_canvas_event = function() {\n",
       "    // Tell IPython that the notebook contents must change.\n",
       "    IPython.notebook.set_dirty(true);\n",
       "    this.send_message(\"ack\", {});\n",
       "    var fig = this;\n",
       "    // Wait a second, then push the new image to the DOM so\n",
       "    // that it is saved nicely (might be nice to debounce this).\n",
       "    setTimeout(function () { fig.push_to_output() }, 1000);\n",
       "}\n",
       "\n",
       "mpl.figure.prototype._init_toolbar = function() {\n",
       "    var fig = this;\n",
       "\n",
       "    var nav_element = $('<div/>')\n",
       "    nav_element.attr('style', 'width: 100%');\n",
       "    this.root.append(nav_element);\n",
       "\n",
       "    // Define a callback function for later on.\n",
       "    function toolbar_event(event) {\n",
       "        return fig.toolbar_button_onclick(event['data']);\n",
       "    }\n",
       "    function toolbar_mouse_event(event) {\n",
       "        return fig.toolbar_button_onmouseover(event['data']);\n",
       "    }\n",
       "\n",
       "    for(var toolbar_ind in mpl.toolbar_items){\n",
       "        var name = mpl.toolbar_items[toolbar_ind][0];\n",
       "        var tooltip = mpl.toolbar_items[toolbar_ind][1];\n",
       "        var image = mpl.toolbar_items[toolbar_ind][2];\n",
       "        var method_name = mpl.toolbar_items[toolbar_ind][3];\n",
       "\n",
       "        if (!name) { continue; };\n",
       "\n",
       "        var button = $('<button class=\"btn btn-default\" href=\"#\" title=\"' + name + '\"><i class=\"fa ' + image + ' fa-lg\"></i></button>');\n",
       "        button.click(method_name, toolbar_event);\n",
       "        button.mouseover(tooltip, toolbar_mouse_event);\n",
       "        nav_element.append(button);\n",
       "    }\n",
       "\n",
       "    // Add the status bar.\n",
       "    var status_bar = $('<span class=\"mpl-message\" style=\"text-align:right; float: right;\"/>');\n",
       "    nav_element.append(status_bar);\n",
       "    this.message = status_bar[0];\n",
       "\n",
       "    // Add the close button to the window.\n",
       "    var buttongrp = $('<div class=\"btn-group inline pull-right\"></div>');\n",
       "    var button = $('<button class=\"btn btn-mini btn-primary\" href=\"#\" title=\"Stop Interaction\"><i class=\"fa fa-power-off icon-remove icon-large\"></i></button>');\n",
       "    button.click(function (evt) { fig.handle_close(fig, {}); } );\n",
       "    button.mouseover('Stop Interaction', toolbar_mouse_event);\n",
       "    buttongrp.append(button);\n",
       "    var titlebar = this.root.find($('.ui-dialog-titlebar'));\n",
       "    titlebar.prepend(buttongrp);\n",
       "}\n",
       "\n",
       "mpl.figure.prototype._root_extra_style = function(el){\n",
       "    var fig = this\n",
       "    el.on(\"remove\", function(){\n",
       "\tfig.close_ws(fig, {});\n",
       "    });\n",
       "}\n",
       "\n",
       "mpl.figure.prototype._canvas_extra_style = function(el){\n",
       "    // this is important to make the div 'focusable\n",
       "    el.attr('tabindex', 0)\n",
       "    // reach out to IPython and tell the keyboard manager to turn it's self\n",
       "    // off when our div gets focus\n",
       "\n",
       "    // location in version 3\n",
       "    if (IPython.notebook.keyboard_manager) {\n",
       "        IPython.notebook.keyboard_manager.register_events(el);\n",
       "    }\n",
       "    else {\n",
       "        // location in version 2\n",
       "        IPython.keyboard_manager.register_events(el);\n",
       "    }\n",
       "\n",
       "}\n",
       "\n",
       "mpl.figure.prototype._key_event_extra = function(event, name) {\n",
       "    var manager = IPython.notebook.keyboard_manager;\n",
       "    if (!manager)\n",
       "        manager = IPython.keyboard_manager;\n",
       "\n",
       "    // Check for shift+enter\n",
       "    if (event.shiftKey && event.which == 13) {\n",
       "        this.canvas_div.blur();\n",
       "        event.shiftKey = false;\n",
       "        // Send a \"J\" for go to next cell\n",
       "        event.which = 74;\n",
       "        event.keyCode = 74;\n",
       "        manager.command_mode();\n",
       "        manager.handle_keydown(event);\n",
       "    }\n",
       "}\n",
       "\n",
       "mpl.figure.prototype.handle_save = function(fig, msg) {\n",
       "    fig.ondownload(fig, null);\n",
       "}\n",
       "\n",
       "\n",
       "mpl.find_output_cell = function(html_output) {\n",
       "    // Return the cell and output element which can be found *uniquely* in the notebook.\n",
       "    // Note - this is a bit hacky, but it is done because the \"notebook_saving.Notebook\"\n",
       "    // IPython event is triggered only after the cells have been serialised, which for\n",
       "    // our purposes (turning an active figure into a static one), is too late.\n",
       "    var cells = IPython.notebook.get_cells();\n",
       "    var ncells = cells.length;\n",
       "    for (var i=0; i<ncells; i++) {\n",
       "        var cell = cells[i];\n",
       "        if (cell.cell_type === 'code'){\n",
       "            for (var j=0; j<cell.output_area.outputs.length; j++) {\n",
       "                var data = cell.output_area.outputs[j];\n",
       "                if (data.data) {\n",
       "                    // IPython >= 3 moved mimebundle to data attribute of output\n",
       "                    data = data.data;\n",
       "                }\n",
       "                if (data['text/html'] == html_output) {\n",
       "                    return [cell, data, j];\n",
       "                }\n",
       "            }\n",
       "        }\n",
       "    }\n",
       "}\n",
       "\n",
       "// Register the function which deals with the matplotlib target/channel.\n",
       "// The kernel may be null if the page has been refreshed.\n",
       "if (IPython.notebook.kernel != null) {\n",
       "    IPython.notebook.kernel.comm_manager.register_target('matplotlib', mpl.mpl_figure_comm);\n",
       "}\n"
      ],
      "text/plain": [
       "<IPython.core.display.Javascript object>"
      ]
     },
     "metadata": {},
     "output_type": "display_data"
    },
    {
     "data": {
      "text/html": [
       "<img src=\"data:image/png;base64,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\" width=\"640\">"
      ],
      "text/plain": [
       "<IPython.core.display.HTML object>"
      ]
     },
     "metadata": {},
     "output_type": "display_data"
    },
    {
     "data": {
      "text/plain": [
       "Text(0, 0.5, 'frequency')"
      ]
     },
     "execution_count": 60,
     "metadata": {},
     "output_type": "execute_result"
    }
   ],
   "source": [
    "%matplotlib notebook\n",
    "import matplotlib.pyplot as plt\n",
    "\n",
    "plt.bar(list(data.keys()), list(data.values()), color='blue')\n",
    "plt.title(\"distribution of grades in midterm\")\n",
    "plt.xlabel('grade')\n",
    "plt.ylabel('frequency')"
   ]
  },
  {
   "cell_type": "markdown",
   "metadata": {},
   "source": [
    "You could also create a histogram using the `matplotlib.pyplot.histogram`"
   ]
  },
  {
   "cell_type": "code",
   "execution_count": 172,
   "metadata": {},
   "outputs": [
    {
     "data": {
      "application/javascript": [
       "/* Put everything inside the global mpl namespace */\n",
       "window.mpl = {};\n",
       "\n",
       "\n",
       "mpl.get_websocket_type = function() {\n",
       "    if (typeof(WebSocket) !== 'undefined') {\n",
       "        return WebSocket;\n",
       "    } else if (typeof(MozWebSocket) !== 'undefined') {\n",
       "        return MozWebSocket;\n",
       "    } else {\n",
       "        alert('Your browser does not have WebSocket support.' +\n",
       "              'Please try Chrome, Safari or Firefox ≥ 6. ' +\n",
       "              'Firefox 4 and 5 are also supported but you ' +\n",
       "              'have to enable WebSockets in about:config.');\n",
       "    };\n",
       "}\n",
       "\n",
       "mpl.figure = function(figure_id, websocket, ondownload, parent_element) {\n",
       "    this.id = figure_id;\n",
       "\n",
       "    this.ws = websocket;\n",
       "\n",
       "    this.supports_binary = (this.ws.binaryType != undefined);\n",
       "\n",
       "    if (!this.supports_binary) {\n",
       "        var warnings = document.getElementById(\"mpl-warnings\");\n",
       "        if (warnings) {\n",
       "            warnings.style.display = 'block';\n",
       "            warnings.textContent = (\n",
       "                \"This browser does not support binary websocket messages. \" +\n",
       "                    \"Performance may be slow.\");\n",
       "        }\n",
       "    }\n",
       "\n",
       "    this.imageObj = new Image();\n",
       "\n",
       "    this.context = undefined;\n",
       "    this.message = undefined;\n",
       "    this.canvas = undefined;\n",
       "    this.rubberband_canvas = undefined;\n",
       "    this.rubberband_context = undefined;\n",
       "    this.format_dropdown = undefined;\n",
       "\n",
       "    this.image_mode = 'full';\n",
       "\n",
       "    this.root = $('<div/>');\n",
       "    this._root_extra_style(this.root)\n",
       "    this.root.attr('style', 'display: inline-block');\n",
       "\n",
       "    $(parent_element).append(this.root);\n",
       "\n",
       "    this._init_header(this);\n",
       "    this._init_canvas(this);\n",
       "    this._init_toolbar(this);\n",
       "\n",
       "    var fig = this;\n",
       "\n",
       "    this.waiting = false;\n",
       "\n",
       "    this.ws.onopen =  function () {\n",
       "            fig.send_message(\"supports_binary\", {value: fig.supports_binary});\n",
       "            fig.send_message(\"send_image_mode\", {});\n",
       "            if (mpl.ratio != 1) {\n",
       "                fig.send_message(\"set_dpi_ratio\", {'dpi_ratio': mpl.ratio});\n",
       "            }\n",
       "            fig.send_message(\"refresh\", {});\n",
       "        }\n",
       "\n",
       "    this.imageObj.onload = function() {\n",
       "            if (fig.image_mode == 'full') {\n",
       "                // Full images could contain transparency (where diff images\n",
       "                // almost always do), so we need to clear the canvas so that\n",
       "                // there is no ghosting.\n",
       "                fig.context.clearRect(0, 0, fig.canvas.width, fig.canvas.height);\n",
       "            }\n",
       "            fig.context.drawImage(fig.imageObj, 0, 0);\n",
       "        };\n",
       "\n",
       "    this.imageObj.onunload = function() {\n",
       "        fig.ws.close();\n",
       "    }\n",
       "\n",
       "    this.ws.onmessage = this._make_on_message_function(this);\n",
       "\n",
       "    this.ondownload = ondownload;\n",
       "}\n",
       "\n",
       "mpl.figure.prototype._init_header = function() {\n",
       "    var titlebar = $(\n",
       "        '<div class=\"ui-dialog-titlebar ui-widget-header ui-corner-all ' +\n",
       "        'ui-helper-clearfix\"/>');\n",
       "    var titletext = $(\n",
       "        '<div class=\"ui-dialog-title\" style=\"width: 100%; ' +\n",
       "        'text-align: center; padding: 3px;\"/>');\n",
       "    titlebar.append(titletext)\n",
       "    this.root.append(titlebar);\n",
       "    this.header = titletext[0];\n",
       "}\n",
       "\n",
       "\n",
       "\n",
       "mpl.figure.prototype._canvas_extra_style = function(canvas_div) {\n",
       "\n",
       "}\n",
       "\n",
       "\n",
       "mpl.figure.prototype._root_extra_style = function(canvas_div) {\n",
       "\n",
       "}\n",
       "\n",
       "mpl.figure.prototype._init_canvas = function() {\n",
       "    var fig = this;\n",
       "\n",
       "    var canvas_div = $('<div/>');\n",
       "\n",
       "    canvas_div.attr('style', 'position: relative; clear: both; outline: 0');\n",
       "\n",
       "    function canvas_keyboard_event(event) {\n",
       "        return fig.key_event(event, event['data']);\n",
       "    }\n",
       "\n",
       "    canvas_div.keydown('key_press', canvas_keyboard_event);\n",
       "    canvas_div.keyup('key_release', canvas_keyboard_event);\n",
       "    this.canvas_div = canvas_div\n",
       "    this._canvas_extra_style(canvas_div)\n",
       "    this.root.append(canvas_div);\n",
       "\n",
       "    var canvas = $('<canvas/>');\n",
       "    canvas.addClass('mpl-canvas');\n",
       "    canvas.attr('style', \"left: 0; top: 0; z-index: 0; outline: 0\")\n",
       "\n",
       "    this.canvas = canvas[0];\n",
       "    this.context = canvas[0].getContext(\"2d\");\n",
       "\n",
       "    var backingStore = this.context.backingStorePixelRatio ||\n",
       "\tthis.context.webkitBackingStorePixelRatio ||\n",
       "\tthis.context.mozBackingStorePixelRatio ||\n",
       "\tthis.context.msBackingStorePixelRatio ||\n",
       "\tthis.context.oBackingStorePixelRatio ||\n",
       "\tthis.context.backingStorePixelRatio || 1;\n",
       "\n",
       "    mpl.ratio = (window.devicePixelRatio || 1) / backingStore;\n",
       "\n",
       "    var rubberband = $('<canvas/>');\n",
       "    rubberband.attr('style', \"position: absolute; left: 0; top: 0; z-index: 1;\")\n",
       "\n",
       "    var pass_mouse_events = true;\n",
       "\n",
       "    canvas_div.resizable({\n",
       "        start: function(event, ui) {\n",
       "            pass_mouse_events = false;\n",
       "        },\n",
       "        resize: function(event, ui) {\n",
       "            fig.request_resize(ui.size.width, ui.size.height);\n",
       "        },\n",
       "        stop: function(event, ui) {\n",
       "            pass_mouse_events = true;\n",
       "            fig.request_resize(ui.size.width, ui.size.height);\n",
       "        },\n",
       "    });\n",
       "\n",
       "    function mouse_event_fn(event) {\n",
       "        if (pass_mouse_events)\n",
       "            return fig.mouse_event(event, event['data']);\n",
       "    }\n",
       "\n",
       "    rubberband.mousedown('button_press', mouse_event_fn);\n",
       "    rubberband.mouseup('button_release', mouse_event_fn);\n",
       "    // Throttle sequential mouse events to 1 every 20ms.\n",
       "    rubberband.mousemove('motion_notify', mouse_event_fn);\n",
       "\n",
       "    rubberband.mouseenter('figure_enter', mouse_event_fn);\n",
       "    rubberband.mouseleave('figure_leave', mouse_event_fn);\n",
       "\n",
       "    canvas_div.on(\"wheel\", function (event) {\n",
       "        event = event.originalEvent;\n",
       "        event['data'] = 'scroll'\n",
       "        if (event.deltaY < 0) {\n",
       "            event.step = 1;\n",
       "        } else {\n",
       "            event.step = -1;\n",
       "        }\n",
       "        mouse_event_fn(event);\n",
       "    });\n",
       "\n",
       "    canvas_div.append(canvas);\n",
       "    canvas_div.append(rubberband);\n",
       "\n",
       "    this.rubberband = rubberband;\n",
       "    this.rubberband_canvas = rubberband[0];\n",
       "    this.rubberband_context = rubberband[0].getContext(\"2d\");\n",
       "    this.rubberband_context.strokeStyle = \"#000000\";\n",
       "\n",
       "    this._resize_canvas = function(width, height) {\n",
       "        // Keep the size of the canvas, canvas container, and rubber band\n",
       "        // canvas in synch.\n",
       "        canvas_div.css('width', width)\n",
       "        canvas_div.css('height', height)\n",
       "\n",
       "        canvas.attr('width', width * mpl.ratio);\n",
       "        canvas.attr('height', height * mpl.ratio);\n",
       "        canvas.attr('style', 'width: ' + width + 'px; height: ' + height + 'px;');\n",
       "\n",
       "        rubberband.attr('width', width);\n",
       "        rubberband.attr('height', height);\n",
       "    }\n",
       "\n",
       "    // Set the figure to an initial 600x600px, this will subsequently be updated\n",
       "    // upon first draw.\n",
       "    this._resize_canvas(600, 600);\n",
       "\n",
       "    // Disable right mouse context menu.\n",
       "    $(this.rubberband_canvas).bind(\"contextmenu\",function(e){\n",
       "        return false;\n",
       "    });\n",
       "\n",
       "    function set_focus () {\n",
       "        canvas.focus();\n",
       "        canvas_div.focus();\n",
       "    }\n",
       "\n",
       "    window.setTimeout(set_focus, 100);\n",
       "}\n",
       "\n",
       "mpl.figure.prototype._init_toolbar = function() {\n",
       "    var fig = this;\n",
       "\n",
       "    var nav_element = $('<div/>')\n",
       "    nav_element.attr('style', 'width: 100%');\n",
       "    this.root.append(nav_element);\n",
       "\n",
       "    // Define a callback function for later on.\n",
       "    function toolbar_event(event) {\n",
       "        return fig.toolbar_button_onclick(event['data']);\n",
       "    }\n",
       "    function toolbar_mouse_event(event) {\n",
       "        return fig.toolbar_button_onmouseover(event['data']);\n",
       "    }\n",
       "\n",
       "    for(var toolbar_ind in mpl.toolbar_items) {\n",
       "        var name = mpl.toolbar_items[toolbar_ind][0];\n",
       "        var tooltip = mpl.toolbar_items[toolbar_ind][1];\n",
       "        var image = mpl.toolbar_items[toolbar_ind][2];\n",
       "        var method_name = mpl.toolbar_items[toolbar_ind][3];\n",
       "\n",
       "        if (!name) {\n",
       "            // put a spacer in here.\n",
       "            continue;\n",
       "        }\n",
       "        var button = $('<button/>');\n",
       "        button.addClass('ui-button ui-widget ui-state-default ui-corner-all ' +\n",
       "                        'ui-button-icon-only');\n",
       "        button.attr('role', 'button');\n",
       "        button.attr('aria-disabled', 'false');\n",
       "        button.click(method_name, toolbar_event);\n",
       "        button.mouseover(tooltip, toolbar_mouse_event);\n",
       "\n",
       "        var icon_img = $('<span/>');\n",
       "        icon_img.addClass('ui-button-icon-primary ui-icon');\n",
       "        icon_img.addClass(image);\n",
       "        icon_img.addClass('ui-corner-all');\n",
       "\n",
       "        var tooltip_span = $('<span/>');\n",
       "        tooltip_span.addClass('ui-button-text');\n",
       "        tooltip_span.html(tooltip);\n",
       "\n",
       "        button.append(icon_img);\n",
       "        button.append(tooltip_span);\n",
       "\n",
       "        nav_element.append(button);\n",
       "    }\n",
       "\n",
       "    var fmt_picker_span = $('<span/>');\n",
       "\n",
       "    var fmt_picker = $('<select/>');\n",
       "    fmt_picker.addClass('mpl-toolbar-option ui-widget ui-widget-content');\n",
       "    fmt_picker_span.append(fmt_picker);\n",
       "    nav_element.append(fmt_picker_span);\n",
       "    this.format_dropdown = fmt_picker[0];\n",
       "\n",
       "    for (var ind in mpl.extensions) {\n",
       "        var fmt = mpl.extensions[ind];\n",
       "        var option = $(\n",
       "            '<option/>', {selected: fmt === mpl.default_extension}).html(fmt);\n",
       "        fmt_picker.append(option)\n",
       "    }\n",
       "\n",
       "    // Add hover states to the ui-buttons\n",
       "    $( \".ui-button\" ).hover(\n",
       "        function() { $(this).addClass(\"ui-state-hover\");},\n",
       "        function() { $(this).removeClass(\"ui-state-hover\");}\n",
       "    );\n",
       "\n",
       "    var status_bar = $('<span class=\"mpl-message\"/>');\n",
       "    nav_element.append(status_bar);\n",
       "    this.message = status_bar[0];\n",
       "}\n",
       "\n",
       "mpl.figure.prototype.request_resize = function(x_pixels, y_pixels) {\n",
       "    // Request matplotlib to resize the figure. Matplotlib will then trigger a resize in the client,\n",
       "    // which will in turn request a refresh of the image.\n",
       "    this.send_message('resize', {'width': x_pixels, 'height': y_pixels});\n",
       "}\n",
       "\n",
       "mpl.figure.prototype.send_message = function(type, properties) {\n",
       "    properties['type'] = type;\n",
       "    properties['figure_id'] = this.id;\n",
       "    this.ws.send(JSON.stringify(properties));\n",
       "}\n",
       "\n",
       "mpl.figure.prototype.send_draw_message = function() {\n",
       "    if (!this.waiting) {\n",
       "        this.waiting = true;\n",
       "        this.ws.send(JSON.stringify({type: \"draw\", figure_id: this.id}));\n",
       "    }\n",
       "}\n",
       "\n",
       "\n",
       "mpl.figure.prototype.handle_save = function(fig, msg) {\n",
       "    var format_dropdown = fig.format_dropdown;\n",
       "    var format = format_dropdown.options[format_dropdown.selectedIndex].value;\n",
       "    fig.ondownload(fig, format);\n",
       "}\n",
       "\n",
       "\n",
       "mpl.figure.prototype.handle_resize = function(fig, msg) {\n",
       "    var size = msg['size'];\n",
       "    if (size[0] != fig.canvas.width || size[1] != fig.canvas.height) {\n",
       "        fig._resize_canvas(size[0], size[1]);\n",
       "        fig.send_message(\"refresh\", {});\n",
       "    };\n",
       "}\n",
       "\n",
       "mpl.figure.prototype.handle_rubberband = function(fig, msg) {\n",
       "    var x0 = msg['x0'] / mpl.ratio;\n",
       "    var y0 = (fig.canvas.height - msg['y0']) / mpl.ratio;\n",
       "    var x1 = msg['x1'] / mpl.ratio;\n",
       "    var y1 = (fig.canvas.height - msg['y1']) / mpl.ratio;\n",
       "    x0 = Math.floor(x0) + 0.5;\n",
       "    y0 = Math.floor(y0) + 0.5;\n",
       "    x1 = Math.floor(x1) + 0.5;\n",
       "    y1 = Math.floor(y1) + 0.5;\n",
       "    var min_x = Math.min(x0, x1);\n",
       "    var min_y = Math.min(y0, y1);\n",
       "    var width = Math.abs(x1 - x0);\n",
       "    var height = Math.abs(y1 - y0);\n",
       "\n",
       "    fig.rubberband_context.clearRect(\n",
       "        0, 0, fig.canvas.width, fig.canvas.height);\n",
       "\n",
       "    fig.rubberband_context.strokeRect(min_x, min_y, width, height);\n",
       "}\n",
       "\n",
       "mpl.figure.prototype.handle_figure_label = function(fig, msg) {\n",
       "    // Updates the figure title.\n",
       "    fig.header.textContent = msg['label'];\n",
       "}\n",
       "\n",
       "mpl.figure.prototype.handle_cursor = function(fig, msg) {\n",
       "    var cursor = msg['cursor'];\n",
       "    switch(cursor)\n",
       "    {\n",
       "    case 0:\n",
       "        cursor = 'pointer';\n",
       "        break;\n",
       "    case 1:\n",
       "        cursor = 'default';\n",
       "        break;\n",
       "    case 2:\n",
       "        cursor = 'crosshair';\n",
       "        break;\n",
       "    case 3:\n",
       "        cursor = 'move';\n",
       "        break;\n",
       "    }\n",
       "    fig.rubberband_canvas.style.cursor = cursor;\n",
       "}\n",
       "\n",
       "mpl.figure.prototype.handle_message = function(fig, msg) {\n",
       "    fig.message.textContent = msg['message'];\n",
       "}\n",
       "\n",
       "mpl.figure.prototype.handle_draw = function(fig, msg) {\n",
       "    // Request the server to send over a new figure.\n",
       "    fig.send_draw_message();\n",
       "}\n",
       "\n",
       "mpl.figure.prototype.handle_image_mode = function(fig, msg) {\n",
       "    fig.image_mode = msg['mode'];\n",
       "}\n",
       "\n",
       "mpl.figure.prototype.updated_canvas_event = function() {\n",
       "    // Called whenever the canvas gets updated.\n",
       "    this.send_message(\"ack\", {});\n",
       "}\n",
       "\n",
       "// A function to construct a web socket function for onmessage handling.\n",
       "// Called in the figure constructor.\n",
       "mpl.figure.prototype._make_on_message_function = function(fig) {\n",
       "    return function socket_on_message(evt) {\n",
       "        if (evt.data instanceof Blob) {\n",
       "            /* FIXME: We get \"Resource interpreted as Image but\n",
       "             * transferred with MIME type text/plain:\" errors on\n",
       "             * Chrome.  But how to set the MIME type?  It doesn't seem\n",
       "             * to be part of the websocket stream */\n",
       "            evt.data.type = \"image/png\";\n",
       "\n",
       "            /* Free the memory for the previous frames */\n",
       "            if (fig.imageObj.src) {\n",
       "                (window.URL || window.webkitURL).revokeObjectURL(\n",
       "                    fig.imageObj.src);\n",
       "            }\n",
       "\n",
       "            fig.imageObj.src = (window.URL || window.webkitURL).createObjectURL(\n",
       "                evt.data);\n",
       "            fig.updated_canvas_event();\n",
       "            fig.waiting = false;\n",
       "            return;\n",
       "        }\n",
       "        else if (typeof evt.data === 'string' && evt.data.slice(0, 21) == \"data:image/png;base64\") {\n",
       "            fig.imageObj.src = evt.data;\n",
       "            fig.updated_canvas_event();\n",
       "            fig.waiting = false;\n",
       "            return;\n",
       "        }\n",
       "\n",
       "        var msg = JSON.parse(evt.data);\n",
       "        var msg_type = msg['type'];\n",
       "\n",
       "        // Call the  \"handle_{type}\" callback, which takes\n",
       "        // the figure and JSON message as its only arguments.\n",
       "        try {\n",
       "            var callback = fig[\"handle_\" + msg_type];\n",
       "        } catch (e) {\n",
       "            console.log(\"No handler for the '\" + msg_type + \"' message type: \", msg);\n",
       "            return;\n",
       "        }\n",
       "\n",
       "        if (callback) {\n",
       "            try {\n",
       "                // console.log(\"Handling '\" + msg_type + \"' message: \", msg);\n",
       "                callback(fig, msg);\n",
       "            } catch (e) {\n",
       "                console.log(\"Exception inside the 'handler_\" + msg_type + \"' callback:\", e, e.stack, msg);\n",
       "            }\n",
       "        }\n",
       "    };\n",
       "}\n",
       "\n",
       "// from http://stackoverflow.com/questions/1114465/getting-mouse-location-in-canvas\n",
       "mpl.findpos = function(e) {\n",
       "    //this section is from http://www.quirksmode.org/js/events_properties.html\n",
       "    var targ;\n",
       "    if (!e)\n",
       "        e = window.event;\n",
       "    if (e.target)\n",
       "        targ = e.target;\n",
       "    else if (e.srcElement)\n",
       "        targ = e.srcElement;\n",
       "    if (targ.nodeType == 3) // defeat Safari bug\n",
       "        targ = targ.parentNode;\n",
       "\n",
       "    // jQuery normalizes the pageX and pageY\n",
       "    // pageX,Y are the mouse positions relative to the document\n",
       "    // offset() returns the position of the element relative to the document\n",
       "    var x = e.pageX - $(targ).offset().left;\n",
       "    var y = e.pageY - $(targ).offset().top;\n",
       "\n",
       "    return {\"x\": x, \"y\": y};\n",
       "};\n",
       "\n",
       "/*\n",
       " * return a copy of an object with only non-object keys\n",
       " * we need this to avoid circular references\n",
       " * http://stackoverflow.com/a/24161582/3208463\n",
       " */\n",
       "function simpleKeys (original) {\n",
       "  return Object.keys(original).reduce(function (obj, key) {\n",
       "    if (typeof original[key] !== 'object')\n",
       "        obj[key] = original[key]\n",
       "    return obj;\n",
       "  }, {});\n",
       "}\n",
       "\n",
       "mpl.figure.prototype.mouse_event = function(event, name) {\n",
       "    var canvas_pos = mpl.findpos(event)\n",
       "\n",
       "    if (name === 'button_press')\n",
       "    {\n",
       "        this.canvas.focus();\n",
       "        this.canvas_div.focus();\n",
       "    }\n",
       "\n",
       "    var x = canvas_pos.x * mpl.ratio;\n",
       "    var y = canvas_pos.y * mpl.ratio;\n",
       "\n",
       "    this.send_message(name, {x: x, y: y, button: event.button,\n",
       "                             step: event.step,\n",
       "                             guiEvent: simpleKeys(event)});\n",
       "\n",
       "    /* This prevents the web browser from automatically changing to\n",
       "     * the text insertion cursor when the button is pressed.  We want\n",
       "     * to control all of the cursor setting manually through the\n",
       "     * 'cursor' event from matplotlib */\n",
       "    event.preventDefault();\n",
       "    return false;\n",
       "}\n",
       "\n",
       "mpl.figure.prototype._key_event_extra = function(event, name) {\n",
       "    // Handle any extra behaviour associated with a key event\n",
       "}\n",
       "\n",
       "mpl.figure.prototype.key_event = function(event, name) {\n",
       "\n",
       "    // Prevent repeat events\n",
       "    if (name == 'key_press')\n",
       "    {\n",
       "        if (event.which === this._key)\n",
       "            return;\n",
       "        else\n",
       "            this._key = event.which;\n",
       "    }\n",
       "    if (name == 'key_release')\n",
       "        this._key = null;\n",
       "\n",
       "    var value = '';\n",
       "    if (event.ctrlKey && event.which != 17)\n",
       "        value += \"ctrl+\";\n",
       "    if (event.altKey && event.which != 18)\n",
       "        value += \"alt+\";\n",
       "    if (event.shiftKey && event.which != 16)\n",
       "        value += \"shift+\";\n",
       "\n",
       "    value += 'k';\n",
       "    value += event.which.toString();\n",
       "\n",
       "    this._key_event_extra(event, name);\n",
       "\n",
       "    this.send_message(name, {key: value,\n",
       "                             guiEvent: simpleKeys(event)});\n",
       "    return false;\n",
       "}\n",
       "\n",
       "mpl.figure.prototype.toolbar_button_onclick = function(name) {\n",
       "    if (name == 'download') {\n",
       "        this.handle_save(this, null);\n",
       "    } else {\n",
       "        this.send_message(\"toolbar_button\", {name: name});\n",
       "    }\n",
       "};\n",
       "\n",
       "mpl.figure.prototype.toolbar_button_onmouseover = function(tooltip) {\n",
       "    this.message.textContent = tooltip;\n",
       "};\n",
       "mpl.toolbar_items = [[\"Home\", \"Reset original view\", \"fa fa-home icon-home\", \"home\"], [\"Back\", \"Back to previous view\", \"fa fa-arrow-left icon-arrow-left\", \"back\"], [\"Forward\", \"Forward to next view\", \"fa fa-arrow-right icon-arrow-right\", \"forward\"], [\"\", \"\", \"\", \"\"], [\"Pan\", \"Pan axes with left mouse, zoom with right\", \"fa fa-arrows icon-move\", \"pan\"], [\"Zoom\", \"Zoom to rectangle\", \"fa fa-square-o icon-check-empty\", \"zoom\"], [\"\", \"\", \"\", \"\"], [\"Download\", \"Download plot\", \"fa fa-floppy-o icon-save\", \"download\"]];\n",
       "\n",
       "mpl.extensions = [\"eps\", \"pdf\", \"png\", \"ps\", \"raw\", \"svg\"];\n",
       "\n",
       "mpl.default_extension = \"png\";var comm_websocket_adapter = function(comm) {\n",
       "    // Create a \"websocket\"-like object which calls the given IPython comm\n",
       "    // object with the appropriate methods. Currently this is a non binary\n",
       "    // socket, so there is still some room for performance tuning.\n",
       "    var ws = {};\n",
       "\n",
       "    ws.close = function() {\n",
       "        comm.close()\n",
       "    };\n",
       "    ws.send = function(m) {\n",
       "        //console.log('sending', m);\n",
       "        comm.send(m);\n",
       "    };\n",
       "    // Register the callback with on_msg.\n",
       "    comm.on_msg(function(msg) {\n",
       "        //console.log('receiving', msg['content']['data'], msg);\n",
       "        // Pass the mpl event to the overridden (by mpl) onmessage function.\n",
       "        ws.onmessage(msg['content']['data'])\n",
       "    });\n",
       "    return ws;\n",
       "}\n",
       "\n",
       "mpl.mpl_figure_comm = function(comm, msg) {\n",
       "    // This is the function which gets called when the mpl process\n",
       "    // starts-up an IPython Comm through the \"matplotlib\" channel.\n",
       "\n",
       "    var id = msg.content.data.id;\n",
       "    // Get hold of the div created by the display call when the Comm\n",
       "    // socket was opened in Python.\n",
       "    var element = $(\"#\" + id);\n",
       "    var ws_proxy = comm_websocket_adapter(comm)\n",
       "\n",
       "    function ondownload(figure, format) {\n",
       "        window.open(figure.imageObj.src);\n",
       "    }\n",
       "\n",
       "    var fig = new mpl.figure(id, ws_proxy,\n",
       "                           ondownload,\n",
       "                           element.get(0));\n",
       "\n",
       "    // Call onopen now - mpl needs it, as it is assuming we've passed it a real\n",
       "    // web socket which is closed, not our websocket->open comm proxy.\n",
       "    ws_proxy.onopen();\n",
       "\n",
       "    fig.parent_element = element.get(0);\n",
       "    fig.cell_info = mpl.find_output_cell(\"<div id='\" + id + \"'></div>\");\n",
       "    if (!fig.cell_info) {\n",
       "        console.error(\"Failed to find cell for figure\", id, fig);\n",
       "        return;\n",
       "    }\n",
       "\n",
       "    var output_index = fig.cell_info[2]\n",
       "    var cell = fig.cell_info[0];\n",
       "\n",
       "};\n",
       "\n",
       "mpl.figure.prototype.handle_close = function(fig, msg) {\n",
       "    var width = fig.canvas.width/mpl.ratio\n",
       "    fig.root.unbind('remove')\n",
       "\n",
       "    // Update the output cell to use the data from the current canvas.\n",
       "    fig.push_to_output();\n",
       "    var dataURL = fig.canvas.toDataURL();\n",
       "    // Re-enable the keyboard manager in IPython - without this line, in FF,\n",
       "    // the notebook keyboard shortcuts fail.\n",
       "    IPython.keyboard_manager.enable()\n",
       "    $(fig.parent_element).html('<img src=\"' + dataURL + '\" width=\"' + width + '\">');\n",
       "    fig.close_ws(fig, msg);\n",
       "}\n",
       "\n",
       "mpl.figure.prototype.close_ws = function(fig, msg){\n",
       "    fig.send_message('closing', msg);\n",
       "    // fig.ws.close()\n",
       "}\n",
       "\n",
       "mpl.figure.prototype.push_to_output = function(remove_interactive) {\n",
       "    // Turn the data on the canvas into data in the output cell.\n",
       "    var width = this.canvas.width/mpl.ratio\n",
       "    var dataURL = this.canvas.toDataURL();\n",
       "    this.cell_info[1]['text/html'] = '<img src=\"' + dataURL + '\" width=\"' + width + '\">';\n",
       "}\n",
       "\n",
       "mpl.figure.prototype.updated_canvas_event = function() {\n",
       "    // Tell IPython that the notebook contents must change.\n",
       "    IPython.notebook.set_dirty(true);\n",
       "    this.send_message(\"ack\", {});\n",
       "    var fig = this;\n",
       "    // Wait a second, then push the new image to the DOM so\n",
       "    // that it is saved nicely (might be nice to debounce this).\n",
       "    setTimeout(function () { fig.push_to_output() }, 1000);\n",
       "}\n",
       "\n",
       "mpl.figure.prototype._init_toolbar = function() {\n",
       "    var fig = this;\n",
       "\n",
       "    var nav_element = $('<div/>')\n",
       "    nav_element.attr('style', 'width: 100%');\n",
       "    this.root.append(nav_element);\n",
       "\n",
       "    // Define a callback function for later on.\n",
       "    function toolbar_event(event) {\n",
       "        return fig.toolbar_button_onclick(event['data']);\n",
       "    }\n",
       "    function toolbar_mouse_event(event) {\n",
       "        return fig.toolbar_button_onmouseover(event['data']);\n",
       "    }\n",
       "\n",
       "    for(var toolbar_ind in mpl.toolbar_items){\n",
       "        var name = mpl.toolbar_items[toolbar_ind][0];\n",
       "        var tooltip = mpl.toolbar_items[toolbar_ind][1];\n",
       "        var image = mpl.toolbar_items[toolbar_ind][2];\n",
       "        var method_name = mpl.toolbar_items[toolbar_ind][3];\n",
       "\n",
       "        if (!name) { continue; };\n",
       "\n",
       "        var button = $('<button class=\"btn btn-default\" href=\"#\" title=\"' + name + '\"><i class=\"fa ' + image + ' fa-lg\"></i></button>');\n",
       "        button.click(method_name, toolbar_event);\n",
       "        button.mouseover(tooltip, toolbar_mouse_event);\n",
       "        nav_element.append(button);\n",
       "    }\n",
       "\n",
       "    // Add the status bar.\n",
       "    var status_bar = $('<span class=\"mpl-message\" style=\"text-align:right; float: right;\"/>');\n",
       "    nav_element.append(status_bar);\n",
       "    this.message = status_bar[0];\n",
       "\n",
       "    // Add the close button to the window.\n",
       "    var buttongrp = $('<div class=\"btn-group inline pull-right\"></div>');\n",
       "    var button = $('<button class=\"btn btn-mini btn-primary\" href=\"#\" title=\"Stop Interaction\"><i class=\"fa fa-power-off icon-remove icon-large\"></i></button>');\n",
       "    button.click(function (evt) { fig.handle_close(fig, {}); } );\n",
       "    button.mouseover('Stop Interaction', toolbar_mouse_event);\n",
       "    buttongrp.append(button);\n",
       "    var titlebar = this.root.find($('.ui-dialog-titlebar'));\n",
       "    titlebar.prepend(buttongrp);\n",
       "}\n",
       "\n",
       "mpl.figure.prototype._root_extra_style = function(el){\n",
       "    var fig = this\n",
       "    el.on(\"remove\", function(){\n",
       "\tfig.close_ws(fig, {});\n",
       "    });\n",
       "}\n",
       "\n",
       "mpl.figure.prototype._canvas_extra_style = function(el){\n",
       "    // this is important to make the div 'focusable\n",
       "    el.attr('tabindex', 0)\n",
       "    // reach out to IPython and tell the keyboard manager to turn it's self\n",
       "    // off when our div gets focus\n",
       "\n",
       "    // location in version 3\n",
       "    if (IPython.notebook.keyboard_manager) {\n",
       "        IPython.notebook.keyboard_manager.register_events(el);\n",
       "    }\n",
       "    else {\n",
       "        // location in version 2\n",
       "        IPython.keyboard_manager.register_events(el);\n",
       "    }\n",
       "\n",
       "}\n",
       "\n",
       "mpl.figure.prototype._key_event_extra = function(event, name) {\n",
       "    var manager = IPython.notebook.keyboard_manager;\n",
       "    if (!manager)\n",
       "        manager = IPython.keyboard_manager;\n",
       "\n",
       "    // Check for shift+enter\n",
       "    if (event.shiftKey && event.which == 13) {\n",
       "        this.canvas_div.blur();\n",
       "        event.shiftKey = false;\n",
       "        // Send a \"J\" for go to next cell\n",
       "        event.which = 74;\n",
       "        event.keyCode = 74;\n",
       "        manager.command_mode();\n",
       "        manager.handle_keydown(event);\n",
       "    }\n",
       "}\n",
       "\n",
       "mpl.figure.prototype.handle_save = function(fig, msg) {\n",
       "    fig.ondownload(fig, null);\n",
       "}\n",
       "\n",
       "\n",
       "mpl.find_output_cell = function(html_output) {\n",
       "    // Return the cell and output element which can be found *uniquely* in the notebook.\n",
       "    // Note - this is a bit hacky, but it is done because the \"notebook_saving.Notebook\"\n",
       "    // IPython event is triggered only after the cells have been serialised, which for\n",
       "    // our purposes (turning an active figure into a static one), is too late.\n",
       "    var cells = IPython.notebook.get_cells();\n",
       "    var ncells = cells.length;\n",
       "    for (var i=0; i<ncells; i++) {\n",
       "        var cell = cells[i];\n",
       "        if (cell.cell_type === 'code'){\n",
       "            for (var j=0; j<cell.output_area.outputs.length; j++) {\n",
       "                var data = cell.output_area.outputs[j];\n",
       "                if (data.data) {\n",
       "                    // IPython >= 3 moved mimebundle to data attribute of output\n",
       "                    data = data.data;\n",
       "                }\n",
       "                if (data['text/html'] == html_output) {\n",
       "                    return [cell, data, j];\n",
       "                }\n",
       "            }\n",
       "        }\n",
       "    }\n",
       "}\n",
       "\n",
       "// Register the function which deals with the matplotlib target/channel.\n",
       "// The kernel may be null if the page has been refreshed.\n",
       "if (IPython.notebook.kernel != null) {\n",
       "    IPython.notebook.kernel.comm_manager.register_target('matplotlib', mpl.mpl_figure_comm);\n",
       "}\n"
      ],
      "text/plain": [
       "<IPython.core.display.Javascript object>"
      ]
     },
     "metadata": {},
     "output_type": "display_data"
    },
    {
     "data": {
      "text/html": [
       "<img src=\"data:image/png;base64,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\" width=\"640\">"
      ],
      "text/plain": [
       "<IPython.core.display.HTML object>"
      ]
     },
     "metadata": {},
     "output_type": "display_data"
    },
    {
     "name": "stdout",
     "output_type": "stream",
     "text": [
      "[4. 3. 7. 7. 1. 8. 7. 3. 1. 6. 7. 6. 3.]\n",
      "[18.         18.92307692 19.84615385 20.76923077 21.69230769 22.61538462\n",
      " 23.53846154 24.46153846 25.38461538 26.30769231 27.23076923 28.15384615\n",
      " 29.07692308 30.        ]\n"
     ]
    }
   ],
   "source": [
    "%matplotlib notebook\n",
    "n, bins, patches = plt.hist(grades, bins=len(set(grades)),facecolor='green')\n",
    "print(n)\n",
    "print(bins)"
   ]
  },
  {
   "cell_type": "markdown",
   "metadata": {},
   "source": [
    "## Set operations\n",
    "sets in python  support all mathematical operations for a mathematical set\n",
    "try `help(set)` for all functionalities"
   ]
  },
  {
   "cell_type": "code",
   "execution_count": 173,
   "metadata": {},
   "outputs": [],
   "source": [
    "a = {0,1,2,3,4,5,6,7,8,9}\n",
    "even = {0,2,4,6,8}\n",
    "odd = {1,3,5,7,9}\n",
    "prime = {1,2,3,5,7,11,13,17,19}"
   ]
  },
  {
   "cell_type": "code",
   "execution_count": 174,
   "metadata": {},
   "outputs": [
    {
     "data": {
      "text/plain": [
       "{0, 2, 4, 6, 8}"
      ]
     },
     "execution_count": 174,
     "metadata": {},
     "output_type": "execute_result"
    }
   ],
   "source": [
    "a & even"
   ]
  },
  {
   "cell_type": "code",
   "execution_count": 175,
   "metadata": {},
   "outputs": [
    {
     "data": {
      "text/plain": [
       "{2}"
      ]
     },
     "execution_count": 175,
     "metadata": {},
     "output_type": "execute_result"
    }
   ],
   "source": [
    "even.intersection(prime)"
   ]
  },
  {
   "cell_type": "code",
   "execution_count": 176,
   "metadata": {},
   "outputs": [
    {
     "data": {
      "text/plain": [
       "{0, 1, 2, 3, 4, 5, 6, 7, 8, 9, 11, 13, 17, 19}"
      ]
     },
     "execution_count": 176,
     "metadata": {},
     "output_type": "execute_result"
    }
   ],
   "source": [
    "a | prime"
   ]
  },
  {
   "cell_type": "code",
   "execution_count": 177,
   "metadata": {},
   "outputs": [
    {
     "data": {
      "text/plain": [
       "{0, 1, 2, 3, 4, 5, 6, 7, 8, 11, 13, 17, 19}"
      ]
     },
     "execution_count": 177,
     "metadata": {},
     "output_type": "execute_result"
    }
   ],
   "source": [
    "even.union(prime)"
   ]
  },
  {
   "cell_type": "code",
   "execution_count": 178,
   "metadata": {},
   "outputs": [
    {
     "data": {
      "text/plain": [
       "{9}"
      ]
     },
     "execution_count": 178,
     "metadata": {},
     "output_type": "execute_result"
    }
   ],
   "source": [
    "odd.difference(prime)"
   ]
  },
  {
   "cell_type": "markdown",
   "metadata": {},
   "source": [
    "# Comprehensions for List, Set, Dict\n",
    "- One of the lost-loved features of python\n",
    "- allows concise operation on collections without too many loops\n",
    "- output of the operation is a new collection\n",
    "\n",
    "## List comprehension\n",
    "the basic expression is\n",
    "```python\n",
    "[ expression for val in collection if some_condition ]\n",
    "```\n",
    "Let's consider this example where we want to analyse the results of the midterm test"
   ]
  },
  {
   "cell_type": "code",
   "execution_count": 50,
   "metadata": {},
   "outputs": [
    {
     "name": "stdout",
     "output_type": "stream",
     "text": [
      "[21, 15, 13, 27, 19, 22, 27, 14, 28, 20, 24, 13, 14, 18, 17, 23, 21, 24, 14, 27, 12, 10, 29, 12, 21, 24, 17, 17, 25, 12, 18, 10, 11, 24, 20, 28, 27, 15, 29, 23, 15, 22, 15, 20, 15, 19, 23, 26, 20, 20, 26, 21, 14, 26, 13, 27, 21, 14, 25, 23, 21, 23, 18, 25, 30, 27, 25, 29, 29, 15, 12, 18, 29, 27, 30, 30, 27, 30, 17, 24, 27, 27, 25, 29, 15, 20, 10, 24, 26, 16, 13, 17, 20, 25, 24, 19, 30, 18, 18, 25]\n"
     ]
    }
   ],
   "source": [
    "import numpy as np\n",
    "voti = np.random.randint(10,31, 100).tolist()\n",
    "print(voti)"
   ]
  },
  {
   "cell_type": "markdown",
   "metadata": {},
   "source": [
    "The most basic question is how many people failed the exam.\n",
    "\n",
    "you could  do simple counting"
   ]
  },
  {
   "cell_type": "code",
   "execution_count": 51,
   "metadata": {},
   "outputs": [
    {
     "name": "stdout",
     "output_type": "stream",
     "text": [
      "# grades <18:  30\n"
     ]
    }
   ],
   "source": [
    "nfail = 0\n",
    "for v in voti:\n",
    "    if v <18:\n",
    "        nfail+=1\n",
    "print(\"# grades <18:  %2d\"%(nfail))"
   ]
  },
  {
   "cell_type": "markdown",
   "metadata": {},
   "source": [
    "but in general having a list of information is more flexible for future analysis"
   ]
  },
  {
   "cell_type": "code",
   "execution_count": 52,
   "metadata": {},
   "outputs": [
    {
     "name": "stdout",
     "output_type": "stream",
     "text": [
      "# grades <18:  30\n"
     ]
    }
   ],
   "source": [
    "failed = []\n",
    "for v in voti:\n",
    "    if v <18:\n",
    "        failed.append(v)\n",
    "print(\"# grades <18:  {0}\".format(len(failed)))"
   ]
  },
  {
   "cell_type": "markdown",
   "metadata": {},
   "source": [
    "You note that you did the following sequence of operations\n",
    "  - create a new empty list\n",
    "  - iterate over existing objects\n",
    "  - check some_condition on each object\n",
    "  - if positive then add object to new list\n",
    "\n",
    "In python this can be written concisely and in a natural language with what is called a __comprehension__."
   ]
  },
  {
   "cell_type": "code",
   "execution_count": 54,
   "metadata": {},
   "outputs": [
    {
     "name": "stdout",
     "output_type": "stream",
     "text": [
      "30 70\n"
     ]
    }
   ],
   "source": [
    "new_failed  = [ v for v in voti if v<18 ]\n",
    "good_grades = [ v for v in voti if v>=18 ]\n",
    "print(len(new_failed),len(good_grades))"
   ]
  },
  {
   "cell_type": "markdown",
   "metadata": {},
   "source": [
    "you can also also apply any function to each item \n"
   ]
  },
  {
   "cell_type": "code",
   "execution_count": 55,
   "metadata": {},
   "outputs": [
    {
     "name": "stdout",
     "output_type": "stream",
     "text": [
      "54\n",
      "46\n",
      "[4.58257569495584, 3.872983346207417, 3.605551275463989, 5.196152422706632, 4.358898943540674, 4.69041575982343, 5.196152422706632, 3.7416573867739413, 5.291502622129181, 4.47213595499958]\n"
     ]
    }
   ],
   "source": [
    "def isodd(x):\n",
    "    if x%2 != 0:\n",
    "        return True\n",
    "odds  = [ v for v in voti if isodd(v) ]\n",
    "evens  = [ v for v in voti if not isodd(v) ]\n",
    "print(len(odds))\n",
    "print(len(evens))\n",
    "\n",
    "import math\n",
    "sqrts = [ math.sqrt(v) for v in voti]\n",
    "print(sqrts[:10])"
   ]
  },
  {
   "cell_type": "markdown",
   "metadata": {},
   "source": [
    "Manipulation with strings is also very easy"
   ]
  },
  {
   "cell_type": "code",
   "execution_count": 56,
   "metadata": {
    "scrolled": true
   },
   "outputs": [
    {
     "data": {
      "text/plain": [
       "['january',\n",
       " 'february',\n",
       " 'march',\n",
       " 'april',\n",
       " 'may',\n",
       " 'june',\n",
       " 'july',\n",
       " 'august',\n",
       " 'september',\n",
       " 'october',\n",
       " 'november',\n",
       " 'december']"
      ]
     },
     "execution_count": 56,
     "metadata": {},
     "output_type": "execute_result"
    }
   ],
   "source": [
    "months"
   ]
  },
  {
   "cell_type": "code",
   "execution_count": 117,
   "metadata": {},
   "outputs": [
    {
     "data": {
      "text/plain": [
       "['JAN',\n",
       " 'FEB',\n",
       " 'MAR',\n",
       " 'APR',\n",
       " 'MAY',\n",
       " 'JUN',\n",
       " 'JUL',\n",
       " 'AUG',\n",
       " 'SEP',\n",
       " 'OCT',\n",
       " 'NOV',\n",
       " 'DEC']"
      ]
     },
     "execution_count": 117,
     "metadata": {},
     "output_type": "execute_result"
    }
   ],
   "source": [
    "monthkeys = [ m[:3].upper() for m in months ]\n",
    "monthkeys"
   ]
  },
  {
   "cell_type": "markdown",
   "metadata": {},
   "source": [
    "## Another example with comprehensions: motion of a body under gravity\n",
    "we now revisit our program from last lecture to use comprehensions.\n",
    "\n",
    "The orignal example [gravity1](../lec23/examples/gravity1.py) is reported here again"
   ]
  },
  {
   "cell_type": "code",
   "execution_count": null,
   "metadata": {},
   "outputs": [],
   "source": [
    "# initial conditions\n",
    "g = 9.8\n",
    "h = 0.\n",
    "theta = (45./180.)*math.pi\n",
    "v0 = 10.\n",
    "dt=0.01\n",
    "\n",
    "#compute velocity components\n",
    "v0x = v0*math.cos(theta)\n",
    "v0y = v0*math.sin(theta)\n",
    "print(\"v0_x: %.3f m/s \\t v0_y: %.3f m/s\"%(v0x,v0y))\n",
    "\n",
    "t=0.\n",
    "x=[]\n",
    "y=[]\n",
    "xi=0\n",
    "yi=h\n",
    "\n",
    "while yi>=0:\n",
    "    x.append(xi)\n",
    "    y.append(yi)\n",
    "    t+=dt\n",
    "    xi=v0x*t\n",
    "    yi=h+v0y*t-0.5*g*t*t"
   ]
  },
  {
   "cell_type": "markdown",
   "metadata": {},
   "source": [
    "We can rewrite the computational part with comprehensions. Rather than computing the time at eah step, we first create a list of times to iterate over."
   ]
  },
  {
   "cell_type": "code",
   "execution_count": 144,
   "metadata": {},
   "outputs": [
    {
     "name": "stdout",
     "output_type": "stream",
     "text": [
      "v0_x: 7.071 m/s \t v0_y: 7.071 m/s\n",
      "[0.0, 0.01, 0.02, 0.03, 0.04, 0.05, 0.06, 0.07, 0.08, 0.09]\n",
      "total steps:\t 145 \n",
      "last x:\t\t 10.18\n",
      "last y:\t\t 0.022\n"
     ]
    }
   ],
   "source": [
    "import numpy as np\n",
    "import math\n",
    "\n",
    "# initial conditions\n",
    "g = 9.8\n",
    "h = 0.\n",
    "theta = (45./180.)*math.pi\n",
    "v0 = 10.\n",
    "dt=0.01\n",
    "\n",
    "#compute velocity components\n",
    "v0x = v0*math.cos(theta)\n",
    "v0y = v0*math.sin(theta)\n",
    "print(\"v0_x: %.3f m/s \\t v0_y: %.3f m/s\"%(v0x,v0y))\n",
    "\n",
    "x0 = 0\n",
    "y0 = h\n",
    "\n",
    "def x(t):\n",
    "    return x0+v0x*t\n",
    "\n",
    "def y(t):\n",
    "    return y0+v0y*t-0.5*g*t*t\n",
    "\n",
    "\n",
    "# generate list of times for sampling\n",
    "times = np.arange(0., 1000., 0.01).tolist() \n",
    "\n",
    "#print first 10 elements\n",
    "print(times[:10])\n",
    "\n",
    "# compute x(t_i)\n",
    "xi = [ x(t) for t in times if y(t)>=0.]\n",
    "\n",
    "# compute y(t_i)\n",
    "yi = [ y(t) for t in times if y(t)>=0. ]\n",
    "\n",
    "print( \"total steps:\\t %-4d\"%len(xi))\n",
    "print( \"last x:\\t\\t %.2f\"%xi[-1])\n",
    "print( \"last y:\\t\\t %.3f\"%yi[-1])"
   ]
  },
  {
   "cell_type": "markdown",
   "metadata": {},
   "source": [
    "### Comprehension with dictionary\n",
    "We now use a comprehension to invert our dict of months and days"
   ]
  },
  {
   "cell_type": "code",
   "execution_count": 57,
   "metadata": {
    "scrolled": true
   },
   "outputs": [
    {
     "data": {
      "text/plain": [
       "{'january': 31,\n",
       " 'february': 28,\n",
       " 'march': 31,\n",
       " 'april': 30,\n",
       " 'may': 31,\n",
       " 'june': 30,\n",
       " 'july': 31,\n",
       " 'august': 31,\n",
       " 'september': 30,\n",
       " 'october': 31,\n",
       " 'november': 30,\n",
       " 'december': 31}"
      ]
     },
     "execution_count": 57,
     "metadata": {},
     "output_type": "execute_result"
    }
   ],
   "source": [
    "days"
   ]
  },
  {
   "cell_type": "code",
   "execution_count": 59,
   "metadata": {},
   "outputs": [
    {
     "name": "stdout",
     "output_type": "stream",
     "text": [
      "{28: [], 30: [], 31: []}\n",
      "{28: ['february'], 30: ['april', 'june', 'september', 'november'], 31: ['january', 'march', 'may', 'july', 'august', 'october', 'december']}\n"
     ]
    }
   ],
   "source": [
    "inv_map = { i: [] for i in set(days.values()) }\n",
    "print(inv_map)\n",
    "\n",
    "for i in days:\n",
    "    inv_map[days[i]].append(i)\n",
    "print(inv_map)"
   ]
  }
 ],
 "metadata": {
  "kernelspec": {
   "display_name": "Python 3",
   "language": "python",
   "name": "python3"
  },
  "language_info": {
   "codemirror_mode": {
    "name": "ipython",
    "version": 3
   },
   "file_extension": ".py",
   "mimetype": "text/x-python",
   "name": "python",
   "nbconvert_exporter": "python",
   "pygments_lexer": "ipython3",
   "version": "3.7.0"
  }
 },
 "nbformat": 4,
 "nbformat_minor": 2
}
