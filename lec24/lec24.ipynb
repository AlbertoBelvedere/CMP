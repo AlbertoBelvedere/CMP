{
 "cells": [
  {
   "cell_type": "markdown",
   "metadata": {},
   "source": [
    "## Dictionaries\n",
    "dictionaries are very similar to the associative container `map<T,K>` discussed in C++. They are also known as __hash tables__ in other languages, e.g. `perl`. The `{}` operator is used to create a `dict` object"
   ]
  },
  {
   "cell_type": "code",
   "execution_count": 21,
   "metadata": {},
   "outputs": [
    {
     "name": "stdout",
     "output_type": "stream",
     "text": [
      "['january', 'february', 'march', 'april', 'may', 'june', 'july', 'august', 'september', 'october', 'november', 'december']\n",
      "# of days in january: 31\n",
      "# of days in february: 28\n",
      "# of days in march: 31\n",
      "# of days in april: 30\n",
      "# of days in may: 31\n",
      "# of days in june: 30\n",
      "# of days in july: 31\n",
      "# of days in august: 31\n",
      "# of days in september: 30\n",
      "# of days in october: 31\n",
      "# of days in november: 30\n",
      "# of days in december: 31\n",
      "{'january': 31, 'february': 28, 'march': 31, 'april': 30, 'may': 31, 'june': 30, 'july': 31, 'august': 31, 'september': 30, 'october': 31, 'november': 30, 'december': 31}\n"
     ]
    }
   ],
   "source": [
    "months = ['january', 'february', 'march', 'april', 'may', 'june', 'july', 'august', 'september', 'october', 'november', 'december']\n",
    "print(months)\n",
    "days = {}\n",
    "for m in months:\n",
    "    days[m] = int(input(\"# of days in {0}: \".format(m)))\n",
    "print(days)"
   ]
  },
  {
   "cell_type": "markdown",
   "metadata": {},
   "source": [
    "You can also create a dictionary by hand"
   ]
  },
  {
   "cell_type": "code",
   "execution_count": 20,
   "metadata": {},
   "outputs": [
    {
     "name": "stdout",
     "output_type": "stream",
     "text": [
      "{'a': 1, 'b': (1, 2, 3), 'c': ['one', 'two'], 'd': 'example'}\n"
     ]
    }
   ],
   "source": [
    "dict1 = { 'a' : 1, 'b' : (1,2,3), 'c' : ['one','two'], 'd' : 'example', }\n",
    "print(dict1)"
   ]
  },
  {
   "cell_type": "code",
   "execution_count": 5,
   "metadata": {},
   "outputs": [
    {
     "name": "stdout",
     "output_type": "stream",
     "text": [
      "{'rio': {'name': 'john', 'age': 23, 'id': 123456}, 'nairobi': {'name': 'susan', 'id': 123123, 'age': 21}, 'tokyo': {'name': 'maria', 'id': 123651, 'age': 24}}\n"
     ]
    }
   ],
   "source": [
    "students = { 'rio': {'name':'john', 'age':23, 'id':123456}, 'nairobi':{'name':'susan', 'id':123123, 'age':21},  'tokyo':{'name':'maria', 'id':123651, 'age':24}, }\n",
    "print(students)"
   ]
  },
  {
   "cell_type": "markdown",
   "metadata": {},
   "source": [
    "you can add a new value for a key"
   ]
  },
  {
   "cell_type": "code",
   "execution_count": 6,
   "metadata": {},
   "outputs": [
    {
     "name": "stdout",
     "output_type": "stream",
     "text": [
      "{'rio': {'name': 'john', 'age': 23, 'id': 123456}, 'nairobi': {'name': 'susan', 'id': 123123, 'age': 21}, 'tokyo': {'name': 'maria', 'id': 123651, 'age': 24}, 'oslo': {'name': '', 'age': 30, 'id': 111111}}\n"
     ]
    }
   ],
   "source": [
    "students['oslo'] = {'name':'', 'age':30, 'id':111111} \n",
    "print(students)"
   ]
  },
  {
   "cell_type": "markdown",
   "metadata": {},
   "source": [
    "If the key already is used, its value will be updated. This is similar to modifying elements of a list"
   ]
  },
  {
   "cell_type": "code",
   "execution_count": 7,
   "metadata": {},
   "outputs": [
    {
     "name": "stdout",
     "output_type": "stream",
     "text": [
      "{'rio': {'name': 'john', 'age': 23, 'id': 123456}, 'nairobi': {'name': 'susan', 'id': 123123, 'age': 21}, 'tokyo': {'name': 'maria', 'id': 123651, 'age': 24}, 'oslo': {'name': 'sergey', 'age': 22}}\n"
     ]
    }
   ],
   "source": [
    "students['oslo'] = {'name':'sergey', 'age':22} \n",
    "print(students)"
   ]
  },
  {
   "cell_type": "markdown",
   "metadata": {},
   "source": [
    "You can check if the dictionary contains a key"
   ]
  },
  {
   "cell_type": "code",
   "execution_count": 8,
   "metadata": {},
   "outputs": [
    {
     "name": "stdout",
     "output_type": "stream",
     "text": [
      "name (press return to end): sha\n",
      "sha not in the list. sorry.\n",
      "name (press return to end): john\n",
      "john not in the list. sorry.\n",
      "name (press return to end): rio\n",
      "name: john\t age: 23\t id: 123456\n",
      "name (press return to end): \n"
     ]
    }
   ],
   "source": [
    "while True:\n",
    "    name = input(\"name (press return to end): \")  \n",
    "    if(name==''): break\n",
    "    if name not in students:\n",
    "        print(\"{0} not in the list. sorry.\".format(name))\n",
    "    else: \n",
    "        print(\"name: {0}\\t age: {1}\\t id: {2}\".format(students[name]['name'], students[name]['age'], students[name]['id']))\n",
    "    "
   ]
  },
  {
   "cell_type": "markdown",
   "metadata": {},
   "source": [
    "This if-else structure is very common with dictionaries. so in pythion there is a dedicated method\n",
    "```python\n",
    "value = some_dict.get(key, default_value)\n",
    "```"
   ]
  },
  {
   "cell_type": "code",
   "execution_count": 9,
   "metadata": {},
   "outputs": [
    {
     "name": "stdout",
     "output_type": "stream",
     "text": [
      "name (press return to end): susan\n",
      "not found\n",
      "name (press return to end): oslo\n",
      "{'name': 'sergey', 'age': 22}\n",
      "name (press return to end): \n"
     ]
    }
   ],
   "source": [
    "while True:\n",
    "    name = input(\"name (press return to end): \")  \n",
    "    if(name==''): break\n",
    "    val = students.get(name, \"not found\")\n",
    "    print(val)"
   ]
  },
  {
   "cell_type": "markdown",
   "metadata": {},
   "source": [
    "### Keys are unique\n",
    "- there can be only one value for a given key in a dict made of `key:value`\n",
    "- if you need more values for a key, then what you want is a dictionary of `key:[value]` "
   ]
  },
  {
   "cell_type": "code",
   "execution_count": 4,
   "metadata": {},
   "outputs": [
    {
     "data": {
      "text/plain": [
       "{'boson': ['Z', 'gluon', 'W', 'photon'],\n",
       " 'meson': ['pion', 'kaon'],\n",
       " 'quark': ['u', 'd', 's'],\n",
       " 'lepton': ['electron', 'muon']}"
      ]
     },
     "execution_count": 4,
     "metadata": {},
     "output_type": "execute_result"
    }
   ],
   "source": [
    "particles = { 'boson':['Z', 'gluon', 'W', 'photon'], 'meson':['pion', 'kaon'], 'quark':['u','d','s'], 'lepton':['electron', 'muon']}\n",
    "particles"
   ]
  },
  {
   "cell_type": "code",
   "execution_count": 6,
   "metadata": {},
   "outputs": [
    {
     "data": {
      "text/plain": [
       "{'boson': ['Z', 'gluon', 'W', 'photon'],\n",
       " 'meson': ['pion', 'kaon'],\n",
       " 'quark': ['u', 'd', 's'],\n",
       " 'lepton': ['electron', 'muon', 'tau']}"
      ]
     },
     "execution_count": 6,
     "metadata": {},
     "output_type": "execute_result"
    }
   ],
   "source": [
    "particles['lepton'].append('tau')\n",
    "particles"
   ]
  },
  {
   "cell_type": "code",
   "execution_count": 7,
   "metadata": {},
   "outputs": [
    {
     "data": {
      "text/plain": [
       "dict_keys(['boson', 'meson', 'quark', 'lepton'])"
      ]
     },
     "execution_count": 7,
     "metadata": {},
     "output_type": "execute_result"
    }
   ],
   "source": [
    "particles.keys()"
   ]
  },
  {
   "cell_type": "markdown",
   "metadata": {},
   "source": [
    "### iterating over dict \n",
    "by default the iterator gives you the keys"
   ]
  },
  {
   "cell_type": "code",
   "execution_count": 8,
   "metadata": {},
   "outputs": [
    {
     "name": "stdout",
     "output_type": "stream",
     "text": [
      "boson\n",
      "meson\n",
      "quark\n",
      "lepton\n"
     ]
    }
   ],
   "source": [
    "for p in particles:\n",
    "    print(p)"
   ]
  },
  {
   "cell_type": "markdown",
   "metadata": {},
   "source": [
    "You can also explicitly loop over keys"
   ]
  },
  {
   "cell_type": "code",
   "execution_count": 9,
   "metadata": {},
   "outputs": [
    {
     "name": "stdout",
     "output_type": "stream",
     "text": [
      "boson\n",
      "meson\n",
      "quark\n",
      "lepton\n"
     ]
    }
   ],
   "source": [
    "for k in particles.keys():\n",
    "    print(k)"
   ]
  },
  {
   "cell_type": "code",
   "execution_count": 10,
   "metadata": {},
   "outputs": [
    {
     "name": "stdout",
     "output_type": "stream",
     "text": [
      "['Z', 'gluon', 'W', 'photon']\n",
      "['pion', 'kaon']\n",
      "['u', 'd', 's']\n",
      "['electron', 'muon', 'tau']\n"
     ]
    }
   ],
   "source": [
    "for k in particles:\n",
    "    print(particles[k])"
   ]
  },
  {
   "cell_type": "markdown",
   "metadata": {},
   "source": [
    "### acccessing values without keys\n",
    "If you do not care about the kets but need all the values python provides with `values` function.\n",
    "\n",
    "This operation is also called __flattening__."
   ]
  },
  {
   "cell_type": "code",
   "execution_count": 13,
   "metadata": {},
   "outputs": [
    {
     "name": "stdout",
     "output_type": "stream",
     "text": [
      "['Z', 'gluon', 'W', 'photon']\n",
      "['pion', 'kaon']\n",
      "['u', 'd', 's']\n",
      "['electron', 'muon', 'tau']\n",
      "['Z', 'gluon', 'W', 'photon', 'pion', 'kaon', 'u', 'd', 's', 'electron', 'muon', 'tau']\n"
     ]
    }
   ],
   "source": [
    "all_vals=[]\n",
    "for v in particles.values():\n",
    "    print(v)\n",
    "    all_vals.extend(v)\n",
    "print(all_vals)"
   ]
  },
  {
   "cell_type": "markdown",
   "metadata": {},
   "source": [
    "Same behavior can be obtained with a double loop"
   ]
  },
  {
   "cell_type": "code",
   "execution_count": 19,
   "metadata": {},
   "outputs": [
    {
     "name": "stdout",
     "output_type": "stream",
     "text": [
      "['Z', 'gluon', 'W', 'photon', 'pion', 'kaon', 'u', 'd', 's', 'electron', 'muon', 'tau']\n"
     ]
    }
   ],
   "source": [
    "flat=[]\n",
    "for v in particles.values():\n",
    "    for i in v:\n",
    "        flat.append(i)\n",
    "print(flat)"
   ]
  },
  {
   "cell_type": "markdown",
   "metadata": {},
   "source": [
    "### Valid key types\n",
    "- Keys must be hashable\n",
    "    - immutable scalar type like int, float, string\n",
    "    - tuples\n",
    "- This means a unique identifier can be created based on your key.\n",
    "- youn can check if a variable is hashable or not in python"
   ]
  },
  {
   "cell_type": "code",
   "execution_count": 80,
   "metadata": {},
   "outputs": [
    {
     "data": {
      "text/plain": [
       "886233436949434828"
      ]
     },
     "execution_count": 80,
     "metadata": {},
     "output_type": "execute_result"
    }
   ],
   "source": [
    "hash('boson')"
   ]
  },
  {
   "cell_type": "code",
   "execution_count": 81,
   "metadata": {},
   "outputs": [
    {
     "data": {
      "text/plain": [
       "-8536403370352787292"
      ]
     },
     "execution_count": 81,
     "metadata": {},
     "output_type": "execute_result"
    }
   ],
   "source": [
    "hash((2,3,2.4))"
   ]
  },
  {
   "cell_type": "code",
   "execution_count": 82,
   "metadata": {},
   "outputs": [
    {
     "data": {
      "text/plain": [
       "284615736650468355"
      ]
     },
     "execution_count": 82,
     "metadata": {},
     "output_type": "execute_result"
    }
   ],
   "source": [
    "hash(3.1234324)"
   ]
  },
  {
   "cell_type": "code",
   "execution_count": 83,
   "metadata": {},
   "outputs": [
    {
     "ename": "TypeError",
     "evalue": "unhashable type: 'list'",
     "output_type": "error",
     "traceback": [
      "\u001b[0;31m---------------------------------------------------------------------------\u001b[0m",
      "\u001b[0;31mTypeError\u001b[0m                                 Traceback (most recent call last)",
      "\u001b[0;32m<ipython-input-83-6c6d0fb6a860>\u001b[0m in \u001b[0;36m<module>\u001b[0;34m\u001b[0m\n\u001b[0;32m----> 1\u001b[0;31m \u001b[0mhash\u001b[0m\u001b[0;34m(\u001b[0m\u001b[0;34m[\u001b[0m\u001b[0;36m1\u001b[0m\u001b[0;34m,\u001b[0m\u001b[0;36m2.3\u001b[0m\u001b[0;34m]\u001b[0m\u001b[0;34m)\u001b[0m\u001b[0;34m\u001b[0m\u001b[0m\n\u001b[0m",
      "\u001b[0;31mTypeError\u001b[0m: unhashable type: 'list'"
     ]
    }
   ],
   "source": [
    "hash([1,2.3])"
   ]
  },
  {
   "cell_type": "markdown",
   "metadata": {},
   "source": [
    "## Set\n",
    "- an unordered collection of __unique__ elements\n",
    "- the natural example is the collection of the keys of a dictionary\n",
    "- a set is created with `{}` or with the `set` function\n",
    "\n",
    "consider our days dictionary that stores the days for each month"
   ]
  },
  {
   "cell_type": "code",
   "execution_count": 23,
   "metadata": {},
   "outputs": [
    {
     "data": {
      "text/plain": [
       "dict_values([31, 28, 31, 30, 31, 30, 31, 31, 30, 31, 30, 31])"
      ]
     },
     "execution_count": 23,
     "metadata": {},
     "output_type": "execute_result"
    }
   ],
   "source": [
    "day_len = days.values()\n",
    "day_len"
   ]
  },
  {
   "cell_type": "markdown",
   "metadata": {},
   "source": [
    "we can create a set from this list"
   ]
  },
  {
   "cell_type": "code",
   "execution_count": 26,
   "metadata": {},
   "outputs": [
    {
     "data": {
      "text/plain": [
       "{28, 30, 31}"
      ]
     },
     "execution_count": 26,
     "metadata": {},
     "output_type": "execute_result"
    }
   ],
   "source": [
    "days_set = set( day_len)\n",
    "days_set"
   ]
  },
  {
   "cell_type": "markdown",
   "metadata": {},
   "source": [
    "### Sets and dictionaries for data analysis"
   ]
  },
  {
   "cell_type": "code",
   "execution_count": 167,
   "metadata": {},
   "outputs": [
    {
     "name": "stdout",
     "output_type": "stream",
     "text": [
      "[18, 21, 18, 27, 23, 27, 25, 28, 20, 25, 28, 18, 20, 29, 21, 19, 20, 19, 29, 28, 21, 26, 28, 24, 24, 23, 27, 28, 24, 21, 21, 25, 20, 23, 22, 27, 28, 29, 24, 23, 20, 27, 23, 24, 20, 21, 18, 19, 23, 28, 20, 24, 30, 29, 27, 24, 30, 23, 21, 23, 30, 29, 29]\n"
     ]
    }
   ],
   "source": [
    "import numpy as np\n",
    "\n",
    "grades = np.random.randint(18,31, 63).tolist()\n",
    "print(grades)"
   ]
  },
  {
   "cell_type": "code",
   "execution_count": 168,
   "metadata": {},
   "outputs": [
    {
     "data": {
      "text/plain": [
       "list"
      ]
     },
     "execution_count": 168,
     "metadata": {},
     "output_type": "execute_result"
    }
   ],
   "source": [
    "type(grades)"
   ]
  },
  {
   "cell_type": "code",
   "execution_count": 169,
   "metadata": {},
   "outputs": [
    {
     "data": {
      "text/plain": [
       "4"
      ]
     },
     "execution_count": 169,
     "metadata": {},
     "output_type": "execute_result"
    }
   ],
   "source": [
    "vals = set(grades)\n",
    "vals\n",
    "grades.count(18)"
   ]
  },
  {
   "cell_type": "code",
   "execution_count": 170,
   "metadata": {},
   "outputs": [
    {
     "name": "stdout",
     "output_type": "stream",
     "text": [
      "grade: 18  frequency: 4\n",
      "grade: 19  frequency: 3\n",
      "grade: 20  frequency: 7\n",
      "grade: 21  frequency: 7\n",
      "grade: 22  frequency: 1\n",
      "grade: 23  frequency: 8\n",
      "grade: 24  frequency: 7\n",
      "grade: 25  frequency: 3\n",
      "grade: 26  frequency: 1\n",
      "grade: 27  frequency: 6\n",
      "grade: 28  frequency: 7\n",
      "grade: 29  frequency: 6\n",
      "grade: 30  frequency: 3\n"
     ]
    }
   ],
   "source": [
    "data = {}\n",
    "for v in vals:\n",
    "    data[v] = grades.count(v)\n",
    "    print(\"grade: {0}  frequency: {1}\".format(v,data[v]))"
   ]
  },
  {
   "cell_type": "code",
   "execution_count": 171,
   "metadata": {},
   "outputs": [
    {
     "data": {
      "application/javascript": [
       "/* Put everything inside the global mpl namespace */\n",
       "window.mpl = {};\n",
       "\n",
       "\n",
       "mpl.get_websocket_type = function() {\n",
       "    if (typeof(WebSocket) !== 'undefined') {\n",
       "        return WebSocket;\n",
       "    } else if (typeof(MozWebSocket) !== 'undefined') {\n",
       "        return MozWebSocket;\n",
       "    } else {\n",
       "        alert('Your browser does not have WebSocket support.' +\n",
       "              'Please try Chrome, Safari or Firefox ≥ 6. ' +\n",
       "              'Firefox 4 and 5 are also supported but you ' +\n",
       "              'have to enable WebSockets in about:config.');\n",
       "    };\n",
       "}\n",
       "\n",
       "mpl.figure = function(figure_id, websocket, ondownload, parent_element) {\n",
       "    this.id = figure_id;\n",
       "\n",
       "    this.ws = websocket;\n",
       "\n",
       "    this.supports_binary = (this.ws.binaryType != undefined);\n",
       "\n",
       "    if (!this.supports_binary) {\n",
       "        var warnings = document.getElementById(\"mpl-warnings\");\n",
       "        if (warnings) {\n",
       "            warnings.style.display = 'block';\n",
       "            warnings.textContent = (\n",
       "                \"This browser does not support binary websocket messages. \" +\n",
       "                    \"Performance may be slow.\");\n",
       "        }\n",
       "    }\n",
       "\n",
       "    this.imageObj = new Image();\n",
       "\n",
       "    this.context = undefined;\n",
       "    this.message = undefined;\n",
       "    this.canvas = undefined;\n",
       "    this.rubberband_canvas = undefined;\n",
       "    this.rubberband_context = undefined;\n",
       "    this.format_dropdown = undefined;\n",
       "\n",
       "    this.image_mode = 'full';\n",
       "\n",
       "    this.root = $('<div/>');\n",
       "    this._root_extra_style(this.root)\n",
       "    this.root.attr('style', 'display: inline-block');\n",
       "\n",
       "    $(parent_element).append(this.root);\n",
       "\n",
       "    this._init_header(this);\n",
       "    this._init_canvas(this);\n",
       "    this._init_toolbar(this);\n",
       "\n",
       "    var fig = this;\n",
       "\n",
       "    this.waiting = false;\n",
       "\n",
       "    this.ws.onopen =  function () {\n",
       "            fig.send_message(\"supports_binary\", {value: fig.supports_binary});\n",
       "            fig.send_message(\"send_image_mode\", {});\n",
       "            if (mpl.ratio != 1) {\n",
       "                fig.send_message(\"set_dpi_ratio\", {'dpi_ratio': mpl.ratio});\n",
       "            }\n",
       "            fig.send_message(\"refresh\", {});\n",
       "        }\n",
       "\n",
       "    this.imageObj.onload = function() {\n",
       "            if (fig.image_mode == 'full') {\n",
       "                // Full images could contain transparency (where diff images\n",
       "                // almost always do), so we need to clear the canvas so that\n",
       "                // there is no ghosting.\n",
       "                fig.context.clearRect(0, 0, fig.canvas.width, fig.canvas.height);\n",
       "            }\n",
       "            fig.context.drawImage(fig.imageObj, 0, 0);\n",
       "        };\n",
       "\n",
       "    this.imageObj.onunload = function() {\n",
       "        fig.ws.close();\n",
       "    }\n",
       "\n",
       "    this.ws.onmessage = this._make_on_message_function(this);\n",
       "\n",
       "    this.ondownload = ondownload;\n",
       "}\n",
       "\n",
       "mpl.figure.prototype._init_header = function() {\n",
       "    var titlebar = $(\n",
       "        '<div class=\"ui-dialog-titlebar ui-widget-header ui-corner-all ' +\n",
       "        'ui-helper-clearfix\"/>');\n",
       "    var titletext = $(\n",
       "        '<div class=\"ui-dialog-title\" style=\"width: 100%; ' +\n",
       "        'text-align: center; padding: 3px;\"/>');\n",
       "    titlebar.append(titletext)\n",
       "    this.root.append(titlebar);\n",
       "    this.header = titletext[0];\n",
       "}\n",
       "\n",
       "\n",
       "\n",
       "mpl.figure.prototype._canvas_extra_style = function(canvas_div) {\n",
       "\n",
       "}\n",
       "\n",
       "\n",
       "mpl.figure.prototype._root_extra_style = function(canvas_div) {\n",
       "\n",
       "}\n",
       "\n",
       "mpl.figure.prototype._init_canvas = function() {\n",
       "    var fig = this;\n",
       "\n",
       "    var canvas_div = $('<div/>');\n",
       "\n",
       "    canvas_div.attr('style', 'position: relative; clear: both; outline: 0');\n",
       "\n",
       "    function canvas_keyboard_event(event) {\n",
       "        return fig.key_event(event, event['data']);\n",
       "    }\n",
       "\n",
       "    canvas_div.keydown('key_press', canvas_keyboard_event);\n",
       "    canvas_div.keyup('key_release', canvas_keyboard_event);\n",
       "    this.canvas_div = canvas_div\n",
       "    this._canvas_extra_style(canvas_div)\n",
       "    this.root.append(canvas_div);\n",
       "\n",
       "    var canvas = $('<canvas/>');\n",
       "    canvas.addClass('mpl-canvas');\n",
       "    canvas.attr('style', \"left: 0; top: 0; z-index: 0; outline: 0\")\n",
       "\n",
       "    this.canvas = canvas[0];\n",
       "    this.context = canvas[0].getContext(\"2d\");\n",
       "\n",
       "    var backingStore = this.context.backingStorePixelRatio ||\n",
       "\tthis.context.webkitBackingStorePixelRatio ||\n",
       "\tthis.context.mozBackingStorePixelRatio ||\n",
       "\tthis.context.msBackingStorePixelRatio ||\n",
       "\tthis.context.oBackingStorePixelRatio ||\n",
       "\tthis.context.backingStorePixelRatio || 1;\n",
       "\n",
       "    mpl.ratio = (window.devicePixelRatio || 1) / backingStore;\n",
       "\n",
       "    var rubberband = $('<canvas/>');\n",
       "    rubberband.attr('style', \"position: absolute; left: 0; top: 0; z-index: 1;\")\n",
       "\n",
       "    var pass_mouse_events = true;\n",
       "\n",
       "    canvas_div.resizable({\n",
       "        start: function(event, ui) {\n",
       "            pass_mouse_events = false;\n",
       "        },\n",
       "        resize: function(event, ui) {\n",
       "            fig.request_resize(ui.size.width, ui.size.height);\n",
       "        },\n",
       "        stop: function(event, ui) {\n",
       "            pass_mouse_events = true;\n",
       "            fig.request_resize(ui.size.width, ui.size.height);\n",
       "        },\n",
       "    });\n",
       "\n",
       "    function mouse_event_fn(event) {\n",
       "        if (pass_mouse_events)\n",
       "            return fig.mouse_event(event, event['data']);\n",
       "    }\n",
       "\n",
       "    rubberband.mousedown('button_press', mouse_event_fn);\n",
       "    rubberband.mouseup('button_release', mouse_event_fn);\n",
       "    // Throttle sequential mouse events to 1 every 20ms.\n",
       "    rubberband.mousemove('motion_notify', mouse_event_fn);\n",
       "\n",
       "    rubberband.mouseenter('figure_enter', mouse_event_fn);\n",
       "    rubberband.mouseleave('figure_leave', mouse_event_fn);\n",
       "\n",
       "    canvas_div.on(\"wheel\", function (event) {\n",
       "        event = event.originalEvent;\n",
       "        event['data'] = 'scroll'\n",
       "        if (event.deltaY < 0) {\n",
       "            event.step = 1;\n",
       "        } else {\n",
       "            event.step = -1;\n",
       "        }\n",
       "        mouse_event_fn(event);\n",
       "    });\n",
       "\n",
       "    canvas_div.append(canvas);\n",
       "    canvas_div.append(rubberband);\n",
       "\n",
       "    this.rubberband = rubberband;\n",
       "    this.rubberband_canvas = rubberband[0];\n",
       "    this.rubberband_context = rubberband[0].getContext(\"2d\");\n",
       "    this.rubberband_context.strokeStyle = \"#000000\";\n",
       "\n",
       "    this._resize_canvas = function(width, height) {\n",
       "        // Keep the size of the canvas, canvas container, and rubber band\n",
       "        // canvas in synch.\n",
       "        canvas_div.css('width', width)\n",
       "        canvas_div.css('height', height)\n",
       "\n",
       "        canvas.attr('width', width * mpl.ratio);\n",
       "        canvas.attr('height', height * mpl.ratio);\n",
       "        canvas.attr('style', 'width: ' + width + 'px; height: ' + height + 'px;');\n",
       "\n",
       "        rubberband.attr('width', width);\n",
       "        rubberband.attr('height', height);\n",
       "    }\n",
       "\n",
       "    // Set the figure to an initial 600x600px, this will subsequently be updated\n",
       "    // upon first draw.\n",
       "    this._resize_canvas(600, 600);\n",
       "\n",
       "    // Disable right mouse context menu.\n",
       "    $(this.rubberband_canvas).bind(\"contextmenu\",function(e){\n",
       "        return false;\n",
       "    });\n",
       "\n",
       "    function set_focus () {\n",
       "        canvas.focus();\n",
       "        canvas_div.focus();\n",
       "    }\n",
       "\n",
       "    window.setTimeout(set_focus, 100);\n",
       "}\n",
       "\n",
       "mpl.figure.prototype._init_toolbar = function() {\n",
       "    var fig = this;\n",
       "\n",
       "    var nav_element = $('<div/>')\n",
       "    nav_element.attr('style', 'width: 100%');\n",
       "    this.root.append(nav_element);\n",
       "\n",
       "    // Define a callback function for later on.\n",
       "    function toolbar_event(event) {\n",
       "        return fig.toolbar_button_onclick(event['data']);\n",
       "    }\n",
       "    function toolbar_mouse_event(event) {\n",
       "        return fig.toolbar_button_onmouseover(event['data']);\n",
       "    }\n",
       "\n",
       "    for(var toolbar_ind in mpl.toolbar_items) {\n",
       "        var name = mpl.toolbar_items[toolbar_ind][0];\n",
       "        var tooltip = mpl.toolbar_items[toolbar_ind][1];\n",
       "        var image = mpl.toolbar_items[toolbar_ind][2];\n",
       "        var method_name = mpl.toolbar_items[toolbar_ind][3];\n",
       "\n",
       "        if (!name) {\n",
       "            // put a spacer in here.\n",
       "            continue;\n",
       "        }\n",
       "        var button = $('<button/>');\n",
       "        button.addClass('ui-button ui-widget ui-state-default ui-corner-all ' +\n",
       "                        'ui-button-icon-only');\n",
       "        button.attr('role', 'button');\n",
       "        button.attr('aria-disabled', 'false');\n",
       "        button.click(method_name, toolbar_event);\n",
       "        button.mouseover(tooltip, toolbar_mouse_event);\n",
       "\n",
       "        var icon_img = $('<span/>');\n",
       "        icon_img.addClass('ui-button-icon-primary ui-icon');\n",
       "        icon_img.addClass(image);\n",
       "        icon_img.addClass('ui-corner-all');\n",
       "\n",
       "        var tooltip_span = $('<span/>');\n",
       "        tooltip_span.addClass('ui-button-text');\n",
       "        tooltip_span.html(tooltip);\n",
       "\n",
       "        button.append(icon_img);\n",
       "        button.append(tooltip_span);\n",
       "\n",
       "        nav_element.append(button);\n",
       "    }\n",
       "\n",
       "    var fmt_picker_span = $('<span/>');\n",
       "\n",
       "    var fmt_picker = $('<select/>');\n",
       "    fmt_picker.addClass('mpl-toolbar-option ui-widget ui-widget-content');\n",
       "    fmt_picker_span.append(fmt_picker);\n",
       "    nav_element.append(fmt_picker_span);\n",
       "    this.format_dropdown = fmt_picker[0];\n",
       "\n",
       "    for (var ind in mpl.extensions) {\n",
       "        var fmt = mpl.extensions[ind];\n",
       "        var option = $(\n",
       "            '<option/>', {selected: fmt === mpl.default_extension}).html(fmt);\n",
       "        fmt_picker.append(option)\n",
       "    }\n",
       "\n",
       "    // Add hover states to the ui-buttons\n",
       "    $( \".ui-button\" ).hover(\n",
       "        function() { $(this).addClass(\"ui-state-hover\");},\n",
       "        function() { $(this).removeClass(\"ui-state-hover\");}\n",
       "    );\n",
       "\n",
       "    var status_bar = $('<span class=\"mpl-message\"/>');\n",
       "    nav_element.append(status_bar);\n",
       "    this.message = status_bar[0];\n",
       "}\n",
       "\n",
       "mpl.figure.prototype.request_resize = function(x_pixels, y_pixels) {\n",
       "    // Request matplotlib to resize the figure. Matplotlib will then trigger a resize in the client,\n",
       "    // which will in turn request a refresh of the image.\n",
       "    this.send_message('resize', {'width': x_pixels, 'height': y_pixels});\n",
       "}\n",
       "\n",
       "mpl.figure.prototype.send_message = function(type, properties) {\n",
       "    properties['type'] = type;\n",
       "    properties['figure_id'] = this.id;\n",
       "    this.ws.send(JSON.stringify(properties));\n",
       "}\n",
       "\n",
       "mpl.figure.prototype.send_draw_message = function() {\n",
       "    if (!this.waiting) {\n",
       "        this.waiting = true;\n",
       "        this.ws.send(JSON.stringify({type: \"draw\", figure_id: this.id}));\n",
       "    }\n",
       "}\n",
       "\n",
       "\n",
       "mpl.figure.prototype.handle_save = function(fig, msg) {\n",
       "    var format_dropdown = fig.format_dropdown;\n",
       "    var format = format_dropdown.options[format_dropdown.selectedIndex].value;\n",
       "    fig.ondownload(fig, format);\n",
       "}\n",
       "\n",
       "\n",
       "mpl.figure.prototype.handle_resize = function(fig, msg) {\n",
       "    var size = msg['size'];\n",
       "    if (size[0] != fig.canvas.width || size[1] != fig.canvas.height) {\n",
       "        fig._resize_canvas(size[0], size[1]);\n",
       "        fig.send_message(\"refresh\", {});\n",
       "    };\n",
       "}\n",
       "\n",
       "mpl.figure.prototype.handle_rubberband = function(fig, msg) {\n",
       "    var x0 = msg['x0'] / mpl.ratio;\n",
       "    var y0 = (fig.canvas.height - msg['y0']) / mpl.ratio;\n",
       "    var x1 = msg['x1'] / mpl.ratio;\n",
       "    var y1 = (fig.canvas.height - msg['y1']) / mpl.ratio;\n",
       "    x0 = Math.floor(x0) + 0.5;\n",
       "    y0 = Math.floor(y0) + 0.5;\n",
       "    x1 = Math.floor(x1) + 0.5;\n",
       "    y1 = Math.floor(y1) + 0.5;\n",
       "    var min_x = Math.min(x0, x1);\n",
       "    var min_y = Math.min(y0, y1);\n",
       "    var width = Math.abs(x1 - x0);\n",
       "    var height = Math.abs(y1 - y0);\n",
       "\n",
       "    fig.rubberband_context.clearRect(\n",
       "        0, 0, fig.canvas.width, fig.canvas.height);\n",
       "\n",
       "    fig.rubberband_context.strokeRect(min_x, min_y, width, height);\n",
       "}\n",
       "\n",
       "mpl.figure.prototype.handle_figure_label = function(fig, msg) {\n",
       "    // Updates the figure title.\n",
       "    fig.header.textContent = msg['label'];\n",
       "}\n",
       "\n",
       "mpl.figure.prototype.handle_cursor = function(fig, msg) {\n",
       "    var cursor = msg['cursor'];\n",
       "    switch(cursor)\n",
       "    {\n",
       "    case 0:\n",
       "        cursor = 'pointer';\n",
       "        break;\n",
       "    case 1:\n",
       "        cursor = 'default';\n",
       "        break;\n",
       "    case 2:\n",
       "        cursor = 'crosshair';\n",
       "        break;\n",
       "    case 3:\n",
       "        cursor = 'move';\n",
       "        break;\n",
       "    }\n",
       "    fig.rubberband_canvas.style.cursor = cursor;\n",
       "}\n",
       "\n",
       "mpl.figure.prototype.handle_message = function(fig, msg) {\n",
       "    fig.message.textContent = msg['message'];\n",
       "}\n",
       "\n",
       "mpl.figure.prototype.handle_draw = function(fig, msg) {\n",
       "    // Request the server to send over a new figure.\n",
       "    fig.send_draw_message();\n",
       "}\n",
       "\n",
       "mpl.figure.prototype.handle_image_mode = function(fig, msg) {\n",
       "    fig.image_mode = msg['mode'];\n",
       "}\n",
       "\n",
       "mpl.figure.prototype.updated_canvas_event = function() {\n",
       "    // Called whenever the canvas gets updated.\n",
       "    this.send_message(\"ack\", {});\n",
       "}\n",
       "\n",
       "// A function to construct a web socket function for onmessage handling.\n",
       "// Called in the figure constructor.\n",
       "mpl.figure.prototype._make_on_message_function = function(fig) {\n",
       "    return function socket_on_message(evt) {\n",
       "        if (evt.data instanceof Blob) {\n",
       "            /* FIXME: We get \"Resource interpreted as Image but\n",
       "             * transferred with MIME type text/plain:\" errors on\n",
       "             * Chrome.  But how to set the MIME type?  It doesn't seem\n",
       "             * to be part of the websocket stream */\n",
       "            evt.data.type = \"image/png\";\n",
       "\n",
       "            /* Free the memory for the previous frames */\n",
       "            if (fig.imageObj.src) {\n",
       "                (window.URL || window.webkitURL).revokeObjectURL(\n",
       "                    fig.imageObj.src);\n",
       "            }\n",
       "\n",
       "            fig.imageObj.src = (window.URL || window.webkitURL).createObjectURL(\n",
       "                evt.data);\n",
       "            fig.updated_canvas_event();\n",
       "            fig.waiting = false;\n",
       "            return;\n",
       "        }\n",
       "        else if (typeof evt.data === 'string' && evt.data.slice(0, 21) == \"data:image/png;base64\") {\n",
       "            fig.imageObj.src = evt.data;\n",
       "            fig.updated_canvas_event();\n",
       "            fig.waiting = false;\n",
       "            return;\n",
       "        }\n",
       "\n",
       "        var msg = JSON.parse(evt.data);\n",
       "        var msg_type = msg['type'];\n",
       "\n",
       "        // Call the  \"handle_{type}\" callback, which takes\n",
       "        // the figure and JSON message as its only arguments.\n",
       "        try {\n",
       "            var callback = fig[\"handle_\" + msg_type];\n",
       "        } catch (e) {\n",
       "            console.log(\"No handler for the '\" + msg_type + \"' message type: \", msg);\n",
       "            return;\n",
       "        }\n",
       "\n",
       "        if (callback) {\n",
       "            try {\n",
       "                // console.log(\"Handling '\" + msg_type + \"' message: \", msg);\n",
       "                callback(fig, msg);\n",
       "            } catch (e) {\n",
       "                console.log(\"Exception inside the 'handler_\" + msg_type + \"' callback:\", e, e.stack, msg);\n",
       "            }\n",
       "        }\n",
       "    };\n",
       "}\n",
       "\n",
       "// from http://stackoverflow.com/questions/1114465/getting-mouse-location-in-canvas\n",
       "mpl.findpos = function(e) {\n",
       "    //this section is from http://www.quirksmode.org/js/events_properties.html\n",
       "    var targ;\n",
       "    if (!e)\n",
       "        e = window.event;\n",
       "    if (e.target)\n",
       "        targ = e.target;\n",
       "    else if (e.srcElement)\n",
       "        targ = e.srcElement;\n",
       "    if (targ.nodeType == 3) // defeat Safari bug\n",
       "        targ = targ.parentNode;\n",
       "\n",
       "    // jQuery normalizes the pageX and pageY\n",
       "    // pageX,Y are the mouse positions relative to the document\n",
       "    // offset() returns the position of the element relative to the document\n",
       "    var x = e.pageX - $(targ).offset().left;\n",
       "    var y = e.pageY - $(targ).offset().top;\n",
       "\n",
       "    return {\"x\": x, \"y\": y};\n",
       "};\n",
       "\n",
       "/*\n",
       " * return a copy of an object with only non-object keys\n",
       " * we need this to avoid circular references\n",
       " * http://stackoverflow.com/a/24161582/3208463\n",
       " */\n",
       "function simpleKeys (original) {\n",
       "  return Object.keys(original).reduce(function (obj, key) {\n",
       "    if (typeof original[key] !== 'object')\n",
       "        obj[key] = original[key]\n",
       "    return obj;\n",
       "  }, {});\n",
       "}\n",
       "\n",
       "mpl.figure.prototype.mouse_event = function(event, name) {\n",
       "    var canvas_pos = mpl.findpos(event)\n",
       "\n",
       "    if (name === 'button_press')\n",
       "    {\n",
       "        this.canvas.focus();\n",
       "        this.canvas_div.focus();\n",
       "    }\n",
       "\n",
       "    var x = canvas_pos.x * mpl.ratio;\n",
       "    var y = canvas_pos.y * mpl.ratio;\n",
       "\n",
       "    this.send_message(name, {x: x, y: y, button: event.button,\n",
       "                             step: event.step,\n",
       "                             guiEvent: simpleKeys(event)});\n",
       "\n",
       "    /* This prevents the web browser from automatically changing to\n",
       "     * the text insertion cursor when the button is pressed.  We want\n",
       "     * to control all of the cursor setting manually through the\n",
       "     * 'cursor' event from matplotlib */\n",
       "    event.preventDefault();\n",
       "    return false;\n",
       "}\n",
       "\n",
       "mpl.figure.prototype._key_event_extra = function(event, name) {\n",
       "    // Handle any extra behaviour associated with a key event\n",
       "}\n",
       "\n",
       "mpl.figure.prototype.key_event = function(event, name) {\n",
       "\n",
       "    // Prevent repeat events\n",
       "    if (name == 'key_press')\n",
       "    {\n",
       "        if (event.which === this._key)\n",
       "            return;\n",
       "        else\n",
       "            this._key = event.which;\n",
       "    }\n",
       "    if (name == 'key_release')\n",
       "        this._key = null;\n",
       "\n",
       "    var value = '';\n",
       "    if (event.ctrlKey && event.which != 17)\n",
       "        value += \"ctrl+\";\n",
       "    if (event.altKey && event.which != 18)\n",
       "        value += \"alt+\";\n",
       "    if (event.shiftKey && event.which != 16)\n",
       "        value += \"shift+\";\n",
       "\n",
       "    value += 'k';\n",
       "    value += event.which.toString();\n",
       "\n",
       "    this._key_event_extra(event, name);\n",
       "\n",
       "    this.send_message(name, {key: value,\n",
       "                             guiEvent: simpleKeys(event)});\n",
       "    return false;\n",
       "}\n",
       "\n",
       "mpl.figure.prototype.toolbar_button_onclick = function(name) {\n",
       "    if (name == 'download') {\n",
       "        this.handle_save(this, null);\n",
       "    } else {\n",
       "        this.send_message(\"toolbar_button\", {name: name});\n",
       "    }\n",
       "};\n",
       "\n",
       "mpl.figure.prototype.toolbar_button_onmouseover = function(tooltip) {\n",
       "    this.message.textContent = tooltip;\n",
       "};\n",
       "mpl.toolbar_items = [[\"Home\", \"Reset original view\", \"fa fa-home icon-home\", \"home\"], [\"Back\", \"Back to previous view\", \"fa fa-arrow-left icon-arrow-left\", \"back\"], [\"Forward\", \"Forward to next view\", \"fa fa-arrow-right icon-arrow-right\", \"forward\"], [\"\", \"\", \"\", \"\"], [\"Pan\", \"Pan axes with left mouse, zoom with right\", \"fa fa-arrows icon-move\", \"pan\"], [\"Zoom\", \"Zoom to rectangle\", \"fa fa-square-o icon-check-empty\", \"zoom\"], [\"\", \"\", \"\", \"\"], [\"Download\", \"Download plot\", \"fa fa-floppy-o icon-save\", \"download\"]];\n",
       "\n",
       "mpl.extensions = [\"eps\", \"pdf\", \"png\", \"ps\", \"raw\", \"svg\"];\n",
       "\n",
       "mpl.default_extension = \"png\";var comm_websocket_adapter = function(comm) {\n",
       "    // Create a \"websocket\"-like object which calls the given IPython comm\n",
       "    // object with the appropriate methods. Currently this is a non binary\n",
       "    // socket, so there is still some room for performance tuning.\n",
       "    var ws = {};\n",
       "\n",
       "    ws.close = function() {\n",
       "        comm.close()\n",
       "    };\n",
       "    ws.send = function(m) {\n",
       "        //console.log('sending', m);\n",
       "        comm.send(m);\n",
       "    };\n",
       "    // Register the callback with on_msg.\n",
       "    comm.on_msg(function(msg) {\n",
       "        //console.log('receiving', msg['content']['data'], msg);\n",
       "        // Pass the mpl event to the overridden (by mpl) onmessage function.\n",
       "        ws.onmessage(msg['content']['data'])\n",
       "    });\n",
       "    return ws;\n",
       "}\n",
       "\n",
       "mpl.mpl_figure_comm = function(comm, msg) {\n",
       "    // This is the function which gets called when the mpl process\n",
       "    // starts-up an IPython Comm through the \"matplotlib\" channel.\n",
       "\n",
       "    var id = msg.content.data.id;\n",
       "    // Get hold of the div created by the display call when the Comm\n",
       "    // socket was opened in Python.\n",
       "    var element = $(\"#\" + id);\n",
       "    var ws_proxy = comm_websocket_adapter(comm)\n",
       "\n",
       "    function ondownload(figure, format) {\n",
       "        window.open(figure.imageObj.src);\n",
       "    }\n",
       "\n",
       "    var fig = new mpl.figure(id, ws_proxy,\n",
       "                           ondownload,\n",
       "                           element.get(0));\n",
       "\n",
       "    // Call onopen now - mpl needs it, as it is assuming we've passed it a real\n",
       "    // web socket which is closed, not our websocket->open comm proxy.\n",
       "    ws_proxy.onopen();\n",
       "\n",
       "    fig.parent_element = element.get(0);\n",
       "    fig.cell_info = mpl.find_output_cell(\"<div id='\" + id + \"'></div>\");\n",
       "    if (!fig.cell_info) {\n",
       "        console.error(\"Failed to find cell for figure\", id, fig);\n",
       "        return;\n",
       "    }\n",
       "\n",
       "    var output_index = fig.cell_info[2]\n",
       "    var cell = fig.cell_info[0];\n",
       "\n",
       "};\n",
       "\n",
       "mpl.figure.prototype.handle_close = function(fig, msg) {\n",
       "    var width = fig.canvas.width/mpl.ratio\n",
       "    fig.root.unbind('remove')\n",
       "\n",
       "    // Update the output cell to use the data from the current canvas.\n",
       "    fig.push_to_output();\n",
       "    var dataURL = fig.canvas.toDataURL();\n",
       "    // Re-enable the keyboard manager in IPython - without this line, in FF,\n",
       "    // the notebook keyboard shortcuts fail.\n",
       "    IPython.keyboard_manager.enable()\n",
       "    $(fig.parent_element).html('<img src=\"' + dataURL + '\" width=\"' + width + '\">');\n",
       "    fig.close_ws(fig, msg);\n",
       "}\n",
       "\n",
       "mpl.figure.prototype.close_ws = function(fig, msg){\n",
       "    fig.send_message('closing', msg);\n",
       "    // fig.ws.close()\n",
       "}\n",
       "\n",
       "mpl.figure.prototype.push_to_output = function(remove_interactive) {\n",
       "    // Turn the data on the canvas into data in the output cell.\n",
       "    var width = this.canvas.width/mpl.ratio\n",
       "    var dataURL = this.canvas.toDataURL();\n",
       "    this.cell_info[1]['text/html'] = '<img src=\"' + dataURL + '\" width=\"' + width + '\">';\n",
       "}\n",
       "\n",
       "mpl.figure.prototype.updated_canvas_event = function() {\n",
       "    // Tell IPython that the notebook contents must change.\n",
       "    IPython.notebook.set_dirty(true);\n",
       "    this.send_message(\"ack\", {});\n",
       "    var fig = this;\n",
       "    // Wait a second, then push the new image to the DOM so\n",
       "    // that it is saved nicely (might be nice to debounce this).\n",
       "    setTimeout(function () { fig.push_to_output() }, 1000);\n",
       "}\n",
       "\n",
       "mpl.figure.prototype._init_toolbar = function() {\n",
       "    var fig = this;\n",
       "\n",
       "    var nav_element = $('<div/>')\n",
       "    nav_element.attr('style', 'width: 100%');\n",
       "    this.root.append(nav_element);\n",
       "\n",
       "    // Define a callback function for later on.\n",
       "    function toolbar_event(event) {\n",
       "        return fig.toolbar_button_onclick(event['data']);\n",
       "    }\n",
       "    function toolbar_mouse_event(event) {\n",
       "        return fig.toolbar_button_onmouseover(event['data']);\n",
       "    }\n",
       "\n",
       "    for(var toolbar_ind in mpl.toolbar_items){\n",
       "        var name = mpl.toolbar_items[toolbar_ind][0];\n",
       "        var tooltip = mpl.toolbar_items[toolbar_ind][1];\n",
       "        var image = mpl.toolbar_items[toolbar_ind][2];\n",
       "        var method_name = mpl.toolbar_items[toolbar_ind][3];\n",
       "\n",
       "        if (!name) { continue; };\n",
       "\n",
       "        var button = $('<button class=\"btn btn-default\" href=\"#\" title=\"' + name + '\"><i class=\"fa ' + image + ' fa-lg\"></i></button>');\n",
       "        button.click(method_name, toolbar_event);\n",
       "        button.mouseover(tooltip, toolbar_mouse_event);\n",
       "        nav_element.append(button);\n",
       "    }\n",
       "\n",
       "    // Add the status bar.\n",
       "    var status_bar = $('<span class=\"mpl-message\" style=\"text-align:right; float: right;\"/>');\n",
       "    nav_element.append(status_bar);\n",
       "    this.message = status_bar[0];\n",
       "\n",
       "    // Add the close button to the window.\n",
       "    var buttongrp = $('<div class=\"btn-group inline pull-right\"></div>');\n",
       "    var button = $('<button class=\"btn btn-mini btn-primary\" href=\"#\" title=\"Stop Interaction\"><i class=\"fa fa-power-off icon-remove icon-large\"></i></button>');\n",
       "    button.click(function (evt) { fig.handle_close(fig, {}); } );\n",
       "    button.mouseover('Stop Interaction', toolbar_mouse_event);\n",
       "    buttongrp.append(button);\n",
       "    var titlebar = this.root.find($('.ui-dialog-titlebar'));\n",
       "    titlebar.prepend(buttongrp);\n",
       "}\n",
       "\n",
       "mpl.figure.prototype._root_extra_style = function(el){\n",
       "    var fig = this\n",
       "    el.on(\"remove\", function(){\n",
       "\tfig.close_ws(fig, {});\n",
       "    });\n",
       "}\n",
       "\n",
       "mpl.figure.prototype._canvas_extra_style = function(el){\n",
       "    // this is important to make the div 'focusable\n",
       "    el.attr('tabindex', 0)\n",
       "    // reach out to IPython and tell the keyboard manager to turn it's self\n",
       "    // off when our div gets focus\n",
       "\n",
       "    // location in version 3\n",
       "    if (IPython.notebook.keyboard_manager) {\n",
       "        IPython.notebook.keyboard_manager.register_events(el);\n",
       "    }\n",
       "    else {\n",
       "        // location in version 2\n",
       "        IPython.keyboard_manager.register_events(el);\n",
       "    }\n",
       "\n",
       "}\n",
       "\n",
       "mpl.figure.prototype._key_event_extra = function(event, name) {\n",
       "    var manager = IPython.notebook.keyboard_manager;\n",
       "    if (!manager)\n",
       "        manager = IPython.keyboard_manager;\n",
       "\n",
       "    // Check for shift+enter\n",
       "    if (event.shiftKey && event.which == 13) {\n",
       "        this.canvas_div.blur();\n",
       "        event.shiftKey = false;\n",
       "        // Send a \"J\" for go to next cell\n",
       "        event.which = 74;\n",
       "        event.keyCode = 74;\n",
       "        manager.command_mode();\n",
       "        manager.handle_keydown(event);\n",
       "    }\n",
       "}\n",
       "\n",
       "mpl.figure.prototype.handle_save = function(fig, msg) {\n",
       "    fig.ondownload(fig, null);\n",
       "}\n",
       "\n",
       "\n",
       "mpl.find_output_cell = function(html_output) {\n",
       "    // Return the cell and output element which can be found *uniquely* in the notebook.\n",
       "    // Note - this is a bit hacky, but it is done because the \"notebook_saving.Notebook\"\n",
       "    // IPython event is triggered only after the cells have been serialised, which for\n",
       "    // our purposes (turning an active figure into a static one), is too late.\n",
       "    var cells = IPython.notebook.get_cells();\n",
       "    var ncells = cells.length;\n",
       "    for (var i=0; i<ncells; i++) {\n",
       "        var cell = cells[i];\n",
       "        if (cell.cell_type === 'code'){\n",
       "            for (var j=0; j<cell.output_area.outputs.length; j++) {\n",
       "                var data = cell.output_area.outputs[j];\n",
       "                if (data.data) {\n",
       "                    // IPython >= 3 moved mimebundle to data attribute of output\n",
       "                    data = data.data;\n",
       "                }\n",
       "                if (data['text/html'] == html_output) {\n",
       "                    return [cell, data, j];\n",
       "                }\n",
       "            }\n",
       "        }\n",
       "    }\n",
       "}\n",
       "\n",
       "// Register the function which deals with the matplotlib target/channel.\n",
       "// The kernel may be null if the page has been refreshed.\n",
       "if (IPython.notebook.kernel != null) {\n",
       "    IPython.notebook.kernel.comm_manager.register_target('matplotlib', mpl.mpl_figure_comm);\n",
       "}\n"
      ],
      "text/plain": [
       "<IPython.core.display.Javascript object>"
      ]
     },
     "metadata": {},
     "output_type": "display_data"
    },
    {
     "data": {
      "text/html": [
       "<img src=\"data:image/png;base64,iVBORw0KGgoAAAANSUhEUgAABQAAAAPACAYAAABq3NR5AAAAAXNSR0IArs4c6QAAQABJREFUeAHs3QvcZVP9OP41TBRDhIRRco2o0IiiJtfEly5KVETUF1+pfkq66CL1rSilr1JEhkoq9xQJuYdUIlHEDEPuilzn/Pdn/7/7fPecOec8+3nmnOc5+8x7vV7PnHP2Xnvttd9r7/3M+Txr7TWpkaUkESBAgAABAgQIECBAgAABAgQIECAwlAILDeVROSgCBAgQIECAAAECBAgQIECAAAECBHIBAUAnAgECBAgQIECAAAECBAgQIECAAIEhFhAAHOLGdWgECBAgQIAAAQIECBAgQIAAAQIEBACdAwQIECBAgAABAgQIECBAgAABAgSGWEAAcIgb16ERIECAAAECBAgQIECAAAECBAgQEAB0DhAgQIAAAQIECBAgQIAAAQIECBAYYgEBwCFuXIdGgAABAgQIECBAgAABAgQIECBAQADQOUCAAAECBAgQIECAAAECBAgQIEBgiAUEAIe4cR0aAQIECBAgQIAAAQIECBAgQIAAAQFA5wABAgQIECBAgAABAgQIECBAgACBIRYQABzixnVoBAgQIECAAAECBAgQIECAAAECBAQAnQMECBAgQIAAAQIECBAgQIAAAQIEhlhAAHCIG9ehESBAgAABAgQIECBAgAABAgQIEBAAdA4QIECAAAECBAgQIECAAAECBAgQGGIBAcAhblyHRoAAAQIECBAgQIAAAQIECBAgQEAA0DlAgAABAgQIECBAgAABAgQIECBAYIgFBACHuHEdGgECBAgQIECAAAECBAgQIECAAAEBQOcAAQIECBAgQIAAAQIECBAgQIAAgSEWEAAc4sZ1aAQIECBAgAABAgQIECBAgAABAgQEAJ0DBAgQIECAAAECBAgQIECAAAECBIZYQABwiBvXoREgQIAAAQIECBAgQIAAAQIECBAQAHQOECBAgAABAgQIECBAgAABAgQIEBhiAQHAIW5ch0aAAAECBAgQIECAAAECBAgQIEBAANA5QIAAAQIECBAgQIAAAQIECBAgQGCIBQQAh7hxHRoBAgQIECBAgAABAgQIECBAgAABAUDnAAECBAgQIECAAAECBAgQIECAAIEhFhAAHOLGdWgECBAgQIAAAQIECBAgQIAAAQIEBACdAwQIECBAgAABAgQIECBAgAABAgSGWEAAcIgb16ERIECAAAECBAgQIECAAAECBAgQEAB0DhAgQIAAAQIECBAgQIAAAQIECBAYYgEBwCFuXIdGgAABAgQIECBAgAABAgQIECBAQADQOUCAAAECBAgQIECAAAECBAgQIEBgiAUEAIe4cR0aAQIECBAgQIAAAQIECBAgQIAAAQFA5wABAgQIECBAgAABAgQIECBAgACBIRYQABzixnVoBAgQIECAAAECBAgQIECAAAECBAQAnQMECBAgQIAAAQIECBAgQIAAAQIEhlhAAHCIG9ehESBAgAABAgQIECBAgAABAgQIEBAAdA4QIECAAAECBAgQIECAAAECBAgQGGIBAcAhblyHRoAAAQIECBAgQIAAAQIECBAgQEAA0DlAgAABAgQIECBAgAABAgQIECBAYIgFBACHuHEdGgECBAgQIECAAAECBAgQIECAAAEBQOcAAQIECBAgQIAAAQIECBAgQIAAgSEWEAAc4sZ1aAQIECBAgAABAgQIECBAgAABAgQEAJ0DBAgQIECAAAECBAgQIECAAAECBIZYQABwiBvXoREgQIAAAQIECBAgQIAAAQIECBAQAHQOECBAgAABAgQIECBAgAABAgQIEBhiAQHAIW5ch0aAAAECBAgQIECAAAECBAgQIEBAANA5QIAAAQIECBAgQIAAAQIECBAgQGCIBQQAh7hxHRoBAgQIECBAgAABAgQIECBAgAABAUDnAAECBAgQIECAAAECBAgQIECAAIEhFhAAHOLGdWgECBAgQIAAAQIECBAgQIAAAQIEBACdAwQIECBAgAABAgQIECBAgAABAgSGWEAAcIgb16ERIECAAAECBAgQIECAAAECBAgQEAB0DhAgQIAAAQIECBAgQIAAAQIECBAYYgEBwCFuXIdGgAABAgQIECBAgAABAgQIECBAQADQOUCAAAECBAgQIECAAAECBAgQIEBgiAUEAIe4cR0aAQIECBAgQIAAAQIECBAgQIAAAQFA5wABAgQIECBAgAABAgQIECBAgACBIRYQABzixnVoBAgQIECAAAECBAgQIECAAAECBAQAnQMECBAgQIAAAQIECBAgQIAAAQIEhlhAAHCIG9ehESBAgAABAgQIECBAgAABAgQIEBAAdA4QIECAAAECBAgQIECAAAECBAgQGGIBAcAhblyHRoAAAQIECBAgQIAAAQIECBAgQEAA0DlAgAABAgQIECBAgAABAgQIECBAYIgFBACHuHEdGgECBAgQIECAAAECBAgQIECAAAEBQOcAAQIECBAgQIAAAQIECBAgQIAAgSEWEAAc4sZ1aAQIECBAgAABAgQIECBAgAABAgQEAJ0DBAgQIECAAAECBAgQIECAAAECBIZYQABwiBvXoREgQIAAAQIECBAgQIAAAQIECBAQAHQOECBAgAABAgQIECBAgAABAgQIEBhiAQHAIW5ch0aAAAECBAgQIECAAAECBAgQIEBAANA5QIAAAQIECBAgQIAAAQIECBAgQGCIBQQAh7hxHRoBAgR6JTB9+vQ0adKk/Oeiiy5qW+x73vOeZp4TTjihbZ66LYxjLY47DNqlv//97808q6yySrsstV42jO06kQ3y9NNPp+9+97tpq622Sssvv3xaZJFFmudPWEvzJ1DlXjV/e5j4rYf9ntMr4c985jPNayve9yKx74WiMggQIEBgogQmT9SO7ZcAAQIECBAgsCAJPPHEE+kNb3hD6hREX5AsHCsBAgQIECBAgMD4CggAjq+3vREgQIBADwSiV16RGo1G8dbrCALRw+z73/9+nuv4449PepyNANbj1Ycffvhcwb/Xve51afXVV0/Pfvaz8z1tvPHGPd6j4ggQmAgBv6MmQt0+CRAgQGAkAQHAkYSsJ0CAAAECBAj0QGDGjBnNUiIQu9tuuzU/e0OAAAECBAgQIECgnwICgP3UVTYBAgQWIIF47t+wPPuvaLZ4ntiC3sNwGNu1aN/xfH3sscfSX/7yl3yX8dy/d73rXeO5e/saIoF41uiCfl+q0pzx3L9ePfuvyv7kIUCAAAECgy5gEpBBbyH1I0CAAAECBGov8OCDDzaPISb/WGgh/wVrgnhDgAABAgQIECDQdwH/++w7sR0QIECAAAECC7rAU0891SQQ/GtSeEOAAAECBAgQIDBOAgKA4wRtNwQIEBhEgTlz5uSTQmy11VbpBS94QT4ZQQwv23HHHdPpp58+qirHhBLx4PP46TYUOIauRdm77rprWmuttdKSSy6ZFl544bT44oun2Pfmm2+eDjrooHThhRemqF+RYubUovxiWbwWy1pf//73vzezxftifeyjSJdeemnaa6+90kte8pL03Oc+N8/zwQ9+sFidT9hQbBfDgUeTLrjggrTLLruk1VZbLT3nOc9Jyy23XNpss83SN7/5zRSzwY6Uiv3Ga5UU9Su2CatyimOOdcUEILFujz32aOYvtovX1iFzVdu12N+//vWv9I1vfCNts802aerUqfk5tfTSS6d11103/dd//Ve66qqriqxdX8t1KjLGENpon7XXXjtNmTIlP3de/vKXp4MPPjjdd999Rbaevsb5euqppzbbMvYbP9GucQ7/5Cc/6TocsziOF7/4xc163X777fPYRxvNb5o1a1b62Mc+ltZbb73cJq6tl770pelDH/pQuummm/LiO10L5X13yjPS9RJlxDV7ySWXpEMOOSRtvfXW6YUvfGFabLHF0qKLLppWWGGF/Po+7LDDRt1evbxXlY81ArPxbMa3v/3tadVVV01LLLFEfi+K9orr97TTTuvavuWyrr766vwc32CDDVKc85MnT86v/TjumOBln332ST/+8Y/To48+Wt5s1O87tU9rQcW5F69FGq9rqHy/Lt87zz777PSWt7wlxfkek98ss8wyadttt00///nPiyo2X6PNzzjjjLT99tunaI/IH5Zve9vb0pVXXtnM1+lN3MsKg9b7WrttZs+enT7xiU+kl73sZfNcP8Xw/XbbFcvKx1wsi9eiDq2v0Y6d0syZM9Ohhx6a/85YccUV8+vnec97Xlp//fXTgQcemG6++eZOmzaXt7t3P/TQQ+nrX/96eu1rX5tWWmml/ByNesXyIkXbFHUt6vjXv/41feQjH8nv4/G7Mn6nxb33C1/4QorHG7Sm8Ir7fXEvWmqppfJr4H/+53/SM88805rdZwIECBAYL4HsP7YSAQIECCyAAtmXncarXvWqmEK348+b3/zmxiOPPNLIZitt5skCc221dt9992aebIbZtnnuvvvuxiabbNLM123fse78889vlhP7HSl/ef1tt93W3DbeF+te9KIXNbIAXOP9739/c1mxLl4POOCA5nblfYZBu9Ra9pNPPtl43/ve17bsYj9ZAKuRfUFqV1xzWZE3Xqukbm0Ux1wur9v7T3/603Ptrkq7FhucddZZjSyQPOK+ssBZIwuCFJu1fS3XMTJ861vfamRBpI5lZ4GERhaAaVvWWBdmX7Ib2Rfujvss6rjhhhs2/va3v7XdTZFnpNdoo/lJP/zhDxtZ8KpjXcPuu9/9bqP1fG23z9Y8Va+XOPezoELHOpQNsoB/Iwu8tdv9PMt6fa8qdhDXdxbIHbG+WfCukQVXi83mec2CiCNe8+Vjz4JM85QxmgWt7dNp2/I+I894XkOt98643t/xjnd0tS7fe/7xj380Xv3qV3fMnwWoGkcddVSnQ8+XR3mFQbnsdhv97Gc/a2RBqmb+Yrvitcr1Uz7mYrtur9GOrSkLjjU+9alPNbJgZ8e6RJlZcLnx8Y9/vJEFSVuLaH5uvXdnAfzGyiuv3Lbc7BEFze3Kvy+ijnGdZkH8tttFXeIe+cADDzS3zwKXjayXc8f8WUB4xPt/szBvCBAgQKCnAiYByX5zSQQIEFjQBOKv/dHT7s9//nPz0KOHRRacy3sa3HDDDem3v/1t3vulV8MV46/+2223Xbr22mub+4xeYfETvQMef/zxlAUI0x/+8IcUPTFaU/RW2G+//fLF0YugSMWy4nPxGr2fOqXoEXXMMcfkq6OHQvRkeNaznpX3qpjf443ei9/5znfysqMnySte8Yq8B1Ec94033pgvD/fwv+KKK1L2haxTNXu2PPsimO6///4UvRKLnmBbbLFF3vOxdScbbbRR66JKn0855ZT0zne+s9m7I3p1brrppmn11VdP0SsweoXdddddeVk/+MEPUvbFMv3617/Oe/WMtIPoURq9pyJFr9FXvvKVeQ+UOJbLLrss943j22GHHfJzOnqozG+KNsqCqunee+9tFhXnSrRn9I657rrr0vXXX5+vi7bNghXpN7/5TVpzzTWb+eNNcX7+85//TCeeeGK+LnqZtc4AHD2hxpqil1pMKlL0rAn717zmNWmNNdbI7cMoegfuvffeKQuajHo3Va+X2P+dd96Zlx+9JKP3YfSqi2sxetpFHaLnVvZHhbwX3Lvf/e78utt555071qlf96ro1RnnazE0O3o0RS+96P0U94DoYRXX59NPP53XOe6N0cMvnt/YmqJnVHHNx7q4V8V1FL1+oxdbnJtx7VfpRdZadq8+T8Q1VK77e9/73vSjH/0o73EW52bcF6LnWNwD7rnnnjzrZz/72fz6ftOb3pT3Hv3973+f3x+it1r0JI1zIe5h8TzN7NtQ+sAHPpCy4Hv+e6u8r9G+P+ecc/IeoNHWkaL9o45xLce9K67r+J0U10/0bu6U5vd3VFw/cS389Kc/be6ifC5FXaIHdfbHhvy8jN53cX8qn3vNDVveRA++6D398MMP571cwzR6FoZlHF+ndO655+Y9+eI8jvtJnNfRE/OPf/xjfj3EdnEvzIK76Ze//GX64he/mLIAZl5c/P6L363REzb+PxH/r4gUPSU//OEPp29/+9v5Z/8QIECAwDgK9DScqDACBAgQqIXAnnvu2fzrfDYjaeO4446bp97ZF41G0RMg8mS/mvKf6OXQLrX2NmjNkw37bZaRDeNqZIGA1izNz3/6058aWSCtEXVol4q6xGuVFL0Yim2y4Ej+PnpCZF985tk8C0Q2l5V7dFTpAZgFEfOyozda9mWoWU7x5swzz2xkwZBmXbJhssWqeV6L+lY9xm49AIvCR2qjIl/5tco22ZfLRhbwaR5X9iWxccstt5SLaWRfbhtHHHHEXD1D9t9//7nylD+Ujz9632TBlEb2ZbScJX9/8cUXz2WaBRHmyTPaBdHjLfvi2jye5z//+XP1Ri3KizZedtllm/myoZ+N6AXXLpXPwbiuepWip1Scb4VX9MaJnovlFL2EssBFI879ci/KTvUo13U010u4ZUPLG3HddHKI6+vLX/5y3oMp6hy9rrLgaLm6c73vx70q7i9ZwC83i55k2ZDKRrkHVFGB6NWZBbGbttlQ1WJV8zUbet48lrDKAm0de2VlAfC8HY499tjm9mN5U26fTm0Y5RbnRLyO9zVUvncW51z06GvtKZsFARvZkN5mXbMgUyPuC1Hn6IGeBQfnIoqeZlnwqpn/9a9//Vzryx+q9ACM9ovru7DKgvyNLFhbLia/d33pS19qxLlS/l1Y1X6uwrp8iJ5/RT2iJ3UWCGx7LmXDyBvZHzmaebM/vrQttXzvjh6DUXb2B4l5rre4VuP+XKQ4rqIe0XbRszgLmBerm69ZQDe/pxR5v/a1r+Wfs8BiIwvyNfMVb+L+X+TNgqyNOI8lAgQIEBhfgWrfnMa3TvZGgAABAn0UiKGn8UWm+I94fGHtlCJv69Cf+GLXLpW/bLQbAvz//t//a+4zhiLOTyrqHq9VUvkLc2wTxzTSENwot/wltkoAMMqOLzZZj6uO1YphzeX6Zz1a2uYt52mboWXhRAYAs95szWPKevY0sp46LbX7v49f/epXm3nD6tZbb/2/laV35eOPL6FZz9DS2rnfZs9VbJaZPc9x7pVj+PS9732vWV4EdX/3u991LCXr2dIMAEWds+csts1bPge7BQ7abtxlYQTKC6v44h0BjU6pbB/bdKpHua6Rr+r10mm/7Zb/93//d7PeRx99dLss+TXaj3tV1vu2ue8w6ZayXleNddZZp5m/9Q8XMey98M96FHYrqmfryu3TqQ1jZ0W94nW8r6HyvTP2n/XcbYRluxSPmciebzdXfaONykGp8nbZc+magac4P2KIeLtUJQAYw2gLp6x35zwBx3K5n//855t5Y5uq9uUyOr2PNi2C7WERf1TplrKek826xCMl2g0FLv9Ojvpmz7vtVmRzXRxXYRK+5UdxNDP975sos8gbrxFYbw2glrfZcsstm/kjqCoRIECAwPgKLJTdrCUCBAgQWIAEst5+ETXLjziG82RfEjoefQyBKk+K0TFjhRUx7K9IMTRuIlM8nLx1qGav6hPDCmM4aKeUfQHKH4JfrM+CocXbWr7GsLwY/lukrHdXPqFK8bn1NXvGYj40NJbHsLIqw9eyZyrmD+ZvLav4HMNpY5hZpBhmWT7XijyjeS2Gh8c2MfQ4HrzfKU2bNi0fGlisz56zVrzt+2v4ZcH25n5iooNuQ4ljyGQMvRxt6sf1EpPQFOlXv/pV8Xau137cq+IRAzHsNFK060j3t5icqBjSGNucfPLJ8dJM5XNtou9rzUq1eTPe11BrFbKAbz65Suvy+BxD4uPxEOWUBWbzobjlZcX7LEDVvMfG77JrrrmmWDWq19g2C/Y3t4mJa7LegM3PrW8++tGPpth3P1JMzBFDgCNFPWKSoW4p6/mYT7QUeeJxBTEMt1uKYbtxbx5tiscqxO+sTikmyimn7Nm6+SRN5WXl9+X8MSxYIkCAAIHxFRAAHF9veyNAgMCEC2Q9M5p1iGdwjZS6BQhH2ra8vvysuwh6FV92ynnG6308r6hfqfXZbu32UzYtt0e7vIO+7PLLL2/OapwNh03/8R//0bXK8XytbFhnM0+V449ZP7ulCCAUX5jjS33MsjvWFM/qKwcUynXtVGbMJF2keE7c/M7yWpQ10mt88c+GAOfZIgDa7Vl6kSnrYZTPbDtSua3rx3K9RHAyLOJaz3pi5TMRRyCx+Pnc5z7X3E08661dKp8bvbpXlWebjWBE1sOp3a7nWpb1Rmt+jpmQy6l8X8smkmi2RznPILwfz2uo9Xjj+YqtAb7WPPF8zSJFkDqeHdctxbNji5T1nivejuo1rp947mykuH5iVu9uKZ4TO1Kebtt3W1c+L6vuo9t52bqvmJE7ZqYebdppp526blJut8g4Uv5etFvXCllJgAABAl0FJnddayUBAgQIDJVABEeiB0yR4sH2I6XoKZcNSUrZs5dGytp1fXwxiB5KERiIh67HF4EIrmTP1cp7hFX5It51BxVXxpe41i8tFTcdMVscQzaz8oj5yu7xAPx4wHz2XMQRtxvEDOWeJ9GjtOiJ162u8YD9IsX2cV52a/8q7VXu+VbulVXsp+prPNy+CE7HRBbxIPuRUkwMEj3FIvAX28Y11q0X6EjlVV1fDpxlwwDzyTZG2rbK+VkuY7TXS0ykEBMlZM8Dyyf9KJfV6X02bHmeVf26V8XEHkWKAGOVYHHUpUgzZ84s3uavMXFIBAFj+R133JHfy6J3YwTCwzp7Ztxc+Sfqw3heQ63HGL9D4jzqlsrBqZg8ZqQUv5OKNNbrvXzvyh4dkE9GVZTZ6bV87+6UZ7TLY5KYmHQmUpwvMRlKlVRMKhV5W8/L1u1jspSxpHLArt325XaL9SO1XS/arV09LCNAgACBagICgNWc5CJAgMBQCMQMgNkDv5vHEjMrVkmRb34DgBGgiCFIMWNmfKGOGVxjSFX8xJeICJhkz7FLO+64Y9+G58axxr6qBKmquLTmibKjN9pIKYYKxpCsmPk4UszkWNcAYHmW3KrD42Km1SLF+Ri97rrN2lxlVt9ygKGY2bXYx2hey8cTgZ1ugcmi3OjVGHmLGZbbBbSKvL18ba1rlbKnTp1aJVszz2iul2wSkHwm5vPOO6+5fZU30f6tqV/3qmIm6thfzHA62hSzppZTnHczZsxI22+/fT5jbLT9V77ylfwnrvGYsTpmXH3jG9+Y3+OqnE/l8nv1fjyvodY6V9l3+Z482vxjvd7L189ofhe2Ht/8fi7Peh/3w/Is91XLbj0vW7cb6/D0kdqi3G6xz9HkH2u7tR6bzwQIECBQXcAQ4OpWchIgQKD2AtlD2Oc6huzh/nN97vQhejf1ImUTgaTodbPFFlvMFViJLy/RKzCCgdnD4vNnDl1//fW92OU8ZcRwtH6lqp6x/7JpuwBIv+rY63LL51T5mLrtpzXfSMc/nkGTsRxPHGv5mEY6nm42o1lXrmvVcy96NY4mjeZ6iZ5LRfAv2iyGJGczlubPKCsCehH8L36KepR72BXLyscWy6oeX7kdirLKr1GP+UlF79ByGfGHi+j1GcP/y14R4I8hw1/4whdSNptwil5m2Wzo5U3H7f14XkOtBzXafY82f+v+qn4un2O9Or+q7rucb37PySgret52S+Xzslu+1nWjbYvR5m/dn88ECBAg0F8BAcD++iqdAAECAyXQ+uX/scceq1S/Xj7TLL4sx0P/o9dDTB4RExNssMEGcz3wPZsZNx8+l82mW6l+g5KpqmfUt2xapdfgSMcYQ6snIpXPqfIxdatLa75eHH+3/Y1m3ViOJ8ovH9N4HU+5rlXPvXI9R+MyUt7o/XfUUUc1s51wwgnpRz/6UYpnz0XgK3p4lntpjhQkLR9bFNqr4ysHCOOZfUUwcjSvzYMsvVl11VVTNgN03pv3F7/4RfrkJz+ZYqKGcuAlhnm++c1vTjHBhTTxAuVzrFfn11iOqnxOxnUymnOxyBvXm0SAAAECBEYSEAAcSch6AgQIDJFADM8pP5MqnllVJY30fKEqZbTmWX755dPb3/72FLMfXnvttfnD2I888sjmLKb//ve/U8woWKcUPRnLvUo61T2GCRbDfyNPTJ7RmspDq0bq3RHb9qIXSWsdqnwuDy2rej79/e9/bxYd5+N4BcyaO+3ypnw8s2bNyr+Md8mer4rga/kaadeeI5UxlvXl/URdq6Sq+aqUVc4TM3oW5348B2ykyXBGevZev+5Vcd8pUjEBRPG5F68RzNlmm23SoYcems82HM93O/XUU+d67ujBBx+c7rzzzl7sThnzIVC+1qveu8rX+Xzseq5Ny+dkPM+wajByrkJ8IECAAAECFQQEACsgyUKAAIFhEYjhOeXZFa+88soRD+2WW25J8SW23ym+jB1wwAHpjDPOaO7qhhtuSLfeemvz86C/id4YV1111YjVLE9EEF/+VlxxxXm2KT8TbyT/eG5U8RD5eQoqLejH8Kz111+/uYcIArUbItnM8L9vYubgIsX2/ahXUf5oX2PSj5gtN1L0UqsyFD2GfxY962Lb8jU22v2PJn9MPlKkmNF0pF51kTfaqB+p/Gy9KhNO/OY3v+lajX7dq8qToIxHD+PoARgTIF100UWpCPTE9frLX/6y6/Fb2X+B8r0rnt9Z5Y8o5Xt3r2oYz38tzyZdvj/2ah/KIUCAAAECISAA6DwgQIDAAiYQw9KKdNJJJxVvO76eeOKJHdf1Y0XMEFueKTBmyW1N8XD9Ig3ag8RjQoCRUtm03B7l7coTZZRney3nKd6feeaZc/UoLJa3vvbDLSZvWXTRRfNdxUP141mO3VL0ljv++OObWTbffPPm+0F4E70RY+KGIlUZWnfccccV2VPMhFwe0tdc0Yc366yzTnr+85+flxzXQTxvr1sK+x/+8Ifdsox5XUyEUqSRejBFPb7zne8U2Tu+lq+NXt2rYrKOIsUQ4Hb3l2J9L1/jnlae/Xq89tvLYxi2smJo+gte8IL8sKKX9UjXRpU8hdFo77Xl8/Loo48uivFKgAABAgR6KvB//1vrabEKI0CAAIFBFXjve9/brFr0AOz2xfqvf/1r+trXvtbMPz9vqs6M+tBDDzWHEsb+igBHed/LLLNM8+OgDaULz269AGMSlJ/+9KfN+u+1117N9+U35Z5K3YJQMWTsYx/7WHnTju/74bbUUkvlkz0UO41Znrv1RPvmN7/Z7FUXQaP3ve99xaYD81oeeh4zcv7xj3/sWLcYvn7MMcc01//nf/5n832/34Tf7rvv3tzNZz7zma6zdYd9lZ6izQJH8SaegVekiy++uGtvqpglN3pNjpT6ca+KAO306dPzXcdjBt797nfPNTN6tzpFz73W2VZH6p1bLq88fLTdfa2c1/v+C8T1s+eeezZ3FJPYlGcGbq743zeHH354uu2221oXt/082nttTJBV9Dw+7bTTUrd7fusO+zGUvXUfPhMgQIDAcAgIAA5HOzoKAgQIVBZYc80103ve855m/ghAxcPrW9M111yTttpqq3xoY/m5ga35qn6O5/1FL4ef/OQnHZ9xFMG8XXfdtfmFPOq62mqrzbOLddddt7ksnq81KCkmOYghsHGcMdFJa4recTEJQAwVjhS+MSNyuxQORYrJFCJ405pi2Fr0oPvb3/7W7IXXmqf8uewWQ60joNGLdMghh6TigfoRYIpnoLUO3Y5eX/G8xw9/+MPNXe63336p3NOxuWKC37zzne9sDuMNozieCNy2pmjjbbfdtjkDZ0xms8suu7Rm6+vnCBwUPWbj+X5R1wjcl1Ocb9GrKOyL3prl9b14H8MpV1pppbyoGEoZk3+UhwXHipgoJM6VCFhX6SXZr3tVTFZSnK/nn39+eu1rX9s1aB/ndDzTL87V1mHDUVYMxf7Wt76VP8e0nWU8G/ETn/hEuvrqq/PVEejZeuut22W1bJwFPvShDzWfwRqBtLgnx321nOLedcQRR+RtWPV3YfleW+V3VPyei4ljihSByQMPPDB1+sNZ9EaMGbcjgF0eylxs75UAAQIECLQTmNxuoWUECBAgMNwCMQtlPMvoL3/5S/6lPAKCn/vc59Imm2ySBwji2XvxrLAIHLzlLW/JnwEYvXrmJ8WXqAiAxU98iYqJAuILfjzsP3qMxUPYo06RL1J8SY6AUbv01re+tfkMrYMOOiide+65eXnl4EZ84V566aXbbd63ZfEsvwjwxWQm8UUyngUXwYFwjJ5i4VqkeO7Td7/73eLjPK+bbrpp2m677ZpDavfff/8UvdE23njj/Jl50XbRgzO8ov2iZ8pIbRTBqngmWfR8imHFa6+9dt4bKnrxFc/hi8DEaIMT8eX12GOPTRE4iwBotONaa62VNttsszyAGwGQSy65ZK6JD+I4vvzlL89z3IOwIM7PGA4YM1ZHj6AIDESgtWjPqGP4lXuxRY+u2KY80+14HEs8Vy56IO688875uRCB+xjaGParr756HsC/9NJLm5OUxLkZ51Kk8rDd+a1rlBVBsqJHVQTW4vqOIeIvetGL8ntIPAev6EEXQ4DjfBkp9eNeFcGZaKswi+HK0WM3zsc4jyOIGwHVmKTnH//4R977c6RexnEe7LvvvikC2lFGlB8TtMSw7JjtPJ7pVkyQEscbAdDyM99GMrC+fwLRTjGEP37Pxb0r2jJ+N8X9N87faLd4XmURzI7eq/Gs2pHSWH5HffrTn04xQVL8QS5+Z0TQMQLM8UiCOK8WW2yxFD2+I0/0Si6eO1rubThSvawnQIAAgQVcIPsFIxEgQIDAAiiQfaltZF8soitax58ddtihkX3haGSBkGaerCdUW61sKGIzT/aMt3nyZL3imuu77TPWZcGUxumnnz5PGcWCrFdWI+u107W8LCBWZG/E+2KfWTCiuXykN3GsxXZh0C61lh11y4YuNrcrti+/ZsGxRjZpQ7vi5lqWDS8csY1iX1mwolIbReFZT6VGFuzrWL/sS+hcdRipXcuZzzrrrEYWkOpYdmGQ9ZJrZF9ey5vO877IG69VUpVztEo55TxZkLWR9a4Z8XiyoFEj63VX3nSe963nyTwZ5nPBySef3Mh6tXWsaxYcb2RBt0bWm62ZJwtott3r/NT14x//eLP8chsW77NnozW+/e1v5/stlo3Uxr2+VxUHnQVxGxtuuGHX+pbrmPUAbFx33XXF5vlrNiy08vZZYLmRDTOda/uxfKjaPuW6V9lPL6+hKvfOcp3id0ZR37jnjJTiPlXkb71nFdtWyVPkzXrpNbI/RjXLLMouXuP6yQLtjar2o/0dVdQjXr/xjW80sj9edaxLUad4jXt5/J5ul0Zz7y5vH78ji33E8Y6UirzxOlKq6jdSOdYTIECAwNgE9ADMfltJBAgQWBAForda9CCLCSmy4EHeoyCG7kWPoujplH15SNGLoegZNr9GMVFF9uU5XXDBBXmPm5i1NIYsRi+G6LkXswDHDKxvfOMb82HA5VlwW/cdvaxi+GX03Ijn6f3pT3/Kn30WwzUnOkXdojdcDIGM+sWwv+gFFEMeo8dd9DqK596Veyt2qnP0RIreQ1Fe9FiKHoTRIyV6D06bNi0vJ3oajibFM+piltboNRY9n6J3U/SCyv4bMZpi2uaNoc8x/PR73/teOvvss/P6xhC26HUY51tM6rDbbrul8vMN2xY0IAujB1D0qIth63GeRa/Y6BUWKXr8xXHEDK+9vE7GeugxZDx6/UWPoehlGz1q49qdOnVq3qMz2j16BpafTxk9P3udDjvssHxYdAxZj56H0YMyJlaJerzhDW9I8Vy/NdZYY1S77de9Ku5z0b4xlDL7g0M+vDd6esVzSIt7UvRkjXaOodXRQ7r1fhhDsKP9o8djXKsxa3T00IqeWtErMozjuo8epHHuR29IafAE4jqO3qpx/WR/yEi333578/rZcsst0z777JO3Y7RtlTQ/v6Oih2706o4JpeK8il6JcR1Fr9TiWopeitOzZ1nG70u9Sau0iDwECBAgEAKTIm6IggABAgQIECBAYPgFYth5MfFKBAXj2XUSAQIECBAgQIDA8AuYBGT429gREiBAgAABAgRygVNOOaUpEb1IJQIECBAgQIAAgQVDQA/ABaOdHSUBAgQIECCwgAv87Gc/y4erBkP2LL58YoPxnihnAW8Ch0+AAAECBAgQmDABPQAnjN6OCRAgQIAAAQLzLxDPntt7773zmYnblfbEE0/kM1Nnk680V8cwYMG/Joc3BAgQIECAAIGhF9ADcOib2AESIECAAAECwyxw0UUX5ROsxDHGhACveMUr8sl84jHPMcnLFVdckWKCnyKts846+YQmMTGNRIAAAQIECBAgsGAImAV4wWhnR0mAAAECBAgsAAIzZ85M8dMpxWy2P/jBD/JZqTvlsZwAAQIECBAgQGD4BPQAHL42dUQECBAgQIDAAiQwZ86cdPHFF6ef//zn6eqrr06zZ89O9913X3rkkUfSkksumVZcccW06aabpne84x3pda973QIk41AJECBAgAABAgQKAQHAQsIrAQIECBAgQIAAAQIECBAgQIAAgSEUMAnIEDaqQyJAgAABAgQIECBAgAABAgQIECBQCAgAFhJeCRAgQIAAAQIECBAgQIAAAQIECAyhgADgEDaqQyJAgAABAgQIECBAgAABAgQIECBQCAgAFhJeCRAgQIAAAQIECBAgQIAAAQIECAyhgADgEDaqQyJAgAABAgQIECBAgAABAgQIECBQCAgAFhJeCRAgQIAAAQIECBAgQIAAAQIECAyhwOQhPCaHVAOBxx9/PF1//fV5TZdbbrk0ebJTsQbNpooECBAgQIAAAQIECBAgUDOBp59+Ot177715rddbb7307Gc/u2ZHoLq9EBB16YWiMkYtEMG/jTbaaNTb2YAAAQIECBAgQIAAAQIECBAYm8Bvf/vbNG3atLFtbKtaCxgCXOvmU3kCBAgQIECAAAECBAgQIECAAAEC3QX0AOzuY22fBGLYb5HiLxArrLBC8dErAQIECBAgQIAAAQIECBAg0COB2bNnN0fglb+L96h4xdREQACwJg01bNUsP/Mvgn9Tp04dtkN0PAQIECBAgAABAgQIECBAYKAEyt/FB6piKtN3AUOA+05sBwQIECBAgAABAgQIECBAgAABAgQmTkAAcOLs7ZkAAQIECBAgQIAAAQIECBAgQIBA3wUEAPtObAcECBAgQIAAAQIECBAgQIAAAQIEJk5AAHDi7O2ZAAECBAgQIECAAAECBAgQIECAQN8FBAD7TmwHBAgQIECAAAECBAgQIECAAAECBCZOQABw4uztmQABAgQIECBAgAABAgQIECBAgEDfBQQA+05sBwQIECBAgAABAgQIECBAgAABAgQmTkAAcOLs7ZkAAQIECBAgQIAAAQIECBAgQIBA3wUEAPtObAcECBAgQIAAAQIECBAgQIAAAQIEJk5AAHDi7O2ZAAECBAgQIECAAAECBAgQIECAQN8FBAD7TmwHBAgQIECAAAECBAgQIECAAAECBCZOQABw4uztmQABAgQIECBAgAABAgQIECBAgEDfBQQA+05sBwQIECBAgAABAgQIECBAgAABAgQmTkAAcOLs7ZkAAQIECBAgQIAAAQIECBAgQIBA3wUEAPtObAcECBAgQIAAAQIECBAgQIAAAQIEJk5AAHDi7O2ZAAECBAgQIECAAAECBAgQIECAQN8FBAD7TmwHBAgQIECAAAECBAgQIECAAAECBCZOQABw4uztmQABAgQIECBAgAABAgQIECBAgEDfBQQA+05sBwQIECBAgAABAgQIECBAgAABAgQmTkAAcOLs7ZkAAQIECBAgQIAAAQIECBAgQIBA3wUEAPtObAcECBAgQIAAAQIECBAgQIAAAQIEJk5AAHDi7O2ZAAECBAgQIECAAAECBAgQIECAQN8FBAD7TjzYO3jyySfTsccem7bZZpu0wgorpEUXXTRNmTIlrbXWWmmPPfZIl19++WAfgNoRIECAAAECBAgQIECAAAECBAh0FZjcda2VQy1w++23p+222y7dcMMNcx1nBAVvvvnm/OeEE05I+++/f/r617+eJk2aNFc+HwgQIECAAAECBAgQIECAAAECBAZfQA/AwW+jvtTwqaeemiv497KXvSxFsO+KK65I5513XjrkkEPS4osvnu/7qKOOSl/60pf6Ug+FEiBAgAABAgQIECBAgAABAgQI9FdgUiNL/d2F0gdR4Cc/+Ul629velldtk002SZdccklaeOGF56rqtddem2JdBAuXWmqpdO+996bJk3vTaXTWrFlp5ZVXzvc3c+bMNHXq1Ln27QMBAgQIECBAgAABAgQIECAw/wK+f8+/4TCUoAfgMLTiGI6h/Gy/gw8+eJ7gXxS54YYbpu233z4v/aGHHkp//vOfx7AnmxAgQIAAAQIECBAgQIAAAQIECEykgADgROpP4L7jOX9FWnXVVYu387yuttpqzWXlbZoLvSFAgAABAgQIECBAgAABAgQIEBhoAQHAgW6e/lUuZvkt0q233lq8nef1b3/7W74sJgBZY4015llvAQECBAgQIECAAAECBAgQIECAwGALCAAOdvv0rXa77LJLWnLJJfPyY4KPZ555Zp59XXfddemcc87Jl++6667N/PNktIAAAQIECBAgQIAAAQIECBAgQGBgBXozo8PAHp6KdRJYdtll04wZM1IEAi+77LI0bdq09MEPfjCtueaa6V//+le+7Igjjkgx7HeDDTZI8X40KR4y2i3Nnj2722rrCBAgQIAAAQIECBAgQIAAAQIEeiRgFuAeQda1mJtuuikP7h133HGpdULo5ZdfPsUEIXvvvXdabLHFRnWIMWS4ajILcFUp+QgQIECAAAECBAgQIECAwOgEzAI8Oq9hzW0I8LC2bIXjit59J554YjrjjDPmCf7F5vfcc0866aST0q9+9asKpclCgAABAgT6KxB/Wxr2n/4KKp0AAQIECBAgQGBBFRAAXEBb/tFHH01bbrll+uIXv5geeOCB9NGPfjT9+c9/Tk888UR6+OGH03nnnZc23XTTdM0116Q3velN6atf/eqopKJXX7ef3/72t6MqT2YCBAgQIECAAAECBAgQIECAAIGxCRgCPDa32m/1kY98JB1++OH5cZxwwglp9913n+eYnn766bT11lunCy+8MC200ELpd7/7XXr5y18+T76xLNAFeSxqtiFAgMCCLTCKp0vUFqrRqG3VVZwAAQIECBAYUAHfvwe0Yca5WnoAjjP4IOwunvX3ve99L69KTPrRLvgXKydPnpwOPfTQPN+cOXNSBAolAgQIECBAgAABAgQIECBAgACBegkIANarvXpS23i2Xwz7jbT++ut3LXPDDTdsro8JQyQCBAgQIECAAAECBAgQIECAAIF6CQgA1qu9elLb6NlXpBjm2y099dRTzdXl7ZoLvSFAgAABAgQIECBAgAABAgQIEBhoAQHAgW6e/lTuec97XlpyySXzwq+44orULQh48cUXNyvx4he/uPneGwIECBAgQIAAAQIECBAgQIAAgXoICADWo516WsuY0GO77bbLy7zrrrvSYYcd1rb8Bx98MB100EHNddtvv33zvTcECBAgQIAAAQIECBAgQIAAAQL1EPi/saD1qK9a9kjgkEMOSWeccUZ67LHH0mc+85l07bXX5pOBrLrqqunxxx9PV155ZTryyCPTHXfcke9xiy22yGcE7tHuFUOAAAECBAgQIECAAAECBAgQIDBOAgKA4wQ9aLt5yUtekgcAd9lll3Tfffels846K/9pV8/NN988nXrqqe1WWUaAAAECBAgQIECAAAECBAgQIDDgAgKAA95A/azelltumWJm3+OOOy6de+656YYbbkgPPfRQisk+XvCCF6Rp06alXXfdNe2www5p0qRJ/ayKsgkQIECAAAECBAgQIECAAAECBPokMKmRpT6VrVgCHQVmzZqVVl555Xz9zJkz09SpUzvmtYIAAQIECITAgvC3KP8rc64TIECAAAECvRbw/bvXovUszyQg9Ww3tSZAgAABAgQIECBAgAABAgQIECBQSUAAsBKTTAQIECBAgAABAgQIECBAgAABAgTqKSAAWM92U2sCBAgQIECAAAECBAgQIECAAAEClQQEACsxyUSAAAECBAgQIECAAAECBAgQIECgngICgPVsN7UmQIAAAQIECBAgQIAAAQIECBAgUElAALASk0wECBAgQIAAAQIECBAgQIAAAQIE6ikgAFjPdlNrAgQIECBAgAABAgQIECBAgAABApUEBAArMclEgAABAgQIECBAgAABAgQIECBAoJ4CAoD1bDe1JkCAAAECBAgQIECAAAECBAgQIFBJQACwEpNMBAgQIECAAAECBAgQIECAAAECBOopIABYz3ZTawIECBAgQIAAAQIECBAgQIAAAQKVBAQAKzHJRIAAAQIECBAgQIAAAQIECBAgQKCeAgKA9Ww3tSZAgAABAgQIECBAgAABAgQIECBQSUAAsBKTTAQIECBAgAABAgQIECBAgAABAgTqKSAAWM92U2sCBAgQIECAAAECBAgQIECAAAEClQQEACsxyUSAAAECBAgQIECAAAECBAgQIECgngICgPVsN7UmQIAAAQIECBAgQIAAAQIECBAgUElAALASk0wECBAgQIAAAQIECBAgQIAAAQIE6ikgAFjPdlNrAgQIECBAgAABAgQIECBAgAABApUEBAArMclEgAABAgQIECBAgAABAgQIECBAoJ4CAoD1bDe1JkCAAAECBAgQIECAAAECBAgQIFBJQACwEpNMBAgQIECAAAECBAgQIECAAAECBOopIABYz3ZTawIECBAgQIAAAQIECBAgQIAAAQKVBAQAKzHJRIAAAQIECBAgQIAAAQIECBAgQKCeAgKA9Ww3tSZAgAABAgQIECBAgAABAgQIECBQSUAAsBKTTAQIECBAgAABAgQIECBAgAABAgTqKSAAWM92U2sCBAgQIECAAAECBAgQIECAAAEClQQEACsxyUSAAAECBAgQIECAAAECBAgQIECgngICgPVsN7UmQIAAAQIECBAgQIAAAQIECBAgUElAALASk0wECBAgQIAAAQIECBAgQIAAAQIE6ikgAFjPdlNrAgQIECBAgAABAgQIECBAgAABApUEBAArMclEgAABAgQIECBAgAABAgQIECBAoJ4CAoD1bDe1JkCAAAECBAgQIECAAAECBAgQIFBJQACwEpNMBAgQIECAAAECBAgQIECAAAECBOopIABYz3ZTawIECBAgQIAAAQIECBAgQIAAAQKVBAQAKzHJRIAAAQIECBAgQIAAAQIECBAgQKCeAgKA9Ww3tSZAgAABAgQIECBAgAABAgQIECBQSUAAsBKTTAQIECBAgAABAgQIECBAgAABAgTqKSAAWM92U2sCBAgQIECAAAECBAgQIECAAAEClQQEACsxyUSAAAECBAgQIECAAAECBAgQIECgngICgPVsN7UmQIAAAQIECBAgQIAAAQIECBAgUElAALASk0wECBAgQIAAAQIECBAgQIAAAQIE6ikgAFjPdlNrAgQIECBAgAABAgQIECBAgAABApUEBAArMclEgAABAgQIECBAgAABAgQIECBAoJ4CAoD1bDe1JkCAAAECBAgQIECAAAECBAgQIFBJQACwEpNMBAgQIECAAAECBAgQIECAAAECBOopIABYz3ZTawIECBAgQIAAAQIECBAgQIAAAQKVBAQAKzHJRIAAAQIECBAgQIAAAQIECBAgQKCeAgKA9Ww3tSZAgAABAgQIECBAgAABAgQIECBQSUAAsBKTTAQIECBAgAABAgQIECBAgAABAgTqKSAAWM92U2sCBAgQIECAAAECBAgQIECAAAEClQQEACsxyUSAAAECBAgQIECAAAECBAgQIECgngICgPVsN7UmQIAAAQIECBAgQIAAAQIECBAgUElAALASk0wECBAgQIAAAQIECBAgQIAAAQIE6ikgAFjPdlNrAgQIECBAgAABAgQIECBAgAABApUEBAArMclEgAABAgQIECBAgAABAgQIECBAoJ4CAoD1bDe1JkCAAAECBAgQIECAAAECBAgQIFBJQACwEpNMBAgQIECAAAECBAgQIECAAAECBOopIABYz3ZTawIECBAgQIAAAQIECBAgQIAAAQKVBAQAKzHJRIAAAQIECBAgQIAAAQIECBAgQKCeAgKA9Ww3tSZAgAABAgQIECBAgAABAgQIECBQSUAAsBKTTAQIECBAgAABAgQIECBAgAABAgTqKSAAWM92U2sCBAgQIECAAAECBAgQIECAAAEClQQEACsxyUSAAAECBAgQIECAAAECBAgQIECgngICgPVsN7UmQIAAAQIECBAgQIAAAQIECBAgUElAALASk0wECBAgQIAAAQIECBAgQIAAAQIE6ikgAFjPdpuvWk+fPj1NmjRpVD8XXXTRfO3TxgQIECBAgAABAgQIECBAgAABAhMjIAA4Me612utCCy2U1lhjjVrVWWUJECBAgAABAgQIECBAgAABAgT+f4HJIBY8geOPPz49+uijXQ/8xhtvTDvvvHOeZ4sttkgrrbRS1/xWEiBAgAABAgQIECBAgAABAgQIDKaAAOBgtktfa/XiF794xPJnzJjRzLPbbrs133tDgAABAgQIECBAgAABAgQIECBQLwFDgOvVXuNS2zlz5qSTTz4539eUKVPSW97ylnHZr50QIECAAAECBAgQIECAAAECBAj0XkAAsPemtS/xggsuSHfeeWd+HDvttFNabLHFan9MDoAAAQIECBAgQIAAAQIECBAgsKAKCAAuqC3f5bhPPPHE5lrDf5sU3hAgQIAAAQIECBAgQIAAAQIEaikgAFjLZutfpf/1r3+l0047Ld/Bi170ojR9+vT+7UzJBAgQIECAAAECBAgQIECAAAECfRcwCUjfieu1g5/+9KfNGYLf9a53pUmTJo3pAGbNmtV1u9mzZ3ddbyUBAgQIECBAgAABAgQIECBAgEBvBAQAe+M4NKX0avjvyiuvPDQmDoQAAQIECBAgQIAAAQIECBAgUGcBAcA6t16P6x699i666KK81I033jitueaaPd6D4ggsmAJj7EhbG6xGY2xVHXaXUBmrzdhEbbUgCwz79eRaWpDPbsc+KALuM4PSEupBgACBsQkIAI7NbSi3Oumkk9KcOXPyY9t9993n6xhnzpzZdfsYArzRRht1zWMlAQIECBAgQIAAAQIECBAgQIDA/AsIAM6/4dCUMGPGjPxYFl100bTzzjvP13FNnTp1vra3MQECBAgQIECAAAECBAgQIECAQG8EzALcG8fal3LNNdekG2+8MT+O7bffPi299NK1PyYHQIAAAQIECBAgQIAAAQIECBAgkJIAoLMgFyhP/jG/w3+REiBAgAABAgQIECBAgAABAgQIDI6AAODgtMWE1eSpp55KP/rRj/L9L7fccmnbbbedsLrYMQECBAgQIECAAAECBAgQIECAQG8FBAB761nL0s4999x077335nXfdddd0+TJHg1Zy4ZUaQIECBAgQIAAAQIECBAgQIBAGwEBwDYoC9qi8vDf3XbbbUE7fMdLgAABAgQIECBAgAABAgQIEBhqAQHAoW7ekQ/uwQcfTGeffXaecd11100bbLDByBvJQYAAAQIECBAgQIAAAQIECBAgUBsBAcDaNFV/KnrKKaekJ554Ii9c77/+GCuVAAECBAgQIECAAAECBAgQIDCRAgKAE6k/APueMWNGXouFF144vfOd7xyAGqkCAQIECBAgQIAAAQIECBAgQIBALwXM9tBLzRqWddlll9Ww1qpMgAABAgQIECBAgAABAgQIECBQVUAPwKpS8hEgQIAAAQIECBAgQIAAAQIECBCooYAAYA0bTZUJECBAgAABAgQIECBAgAABAgQIVBUQAKwqJR8BAgQIEN1gWEIAAEAASURBVCBAgAABAgQIECBAgACBGgoIANaw0VSZAAECBAgQIECAAAECBAgQIECAQFUBAcCqUvIRIECAAAECBAgQIECAAAECBAgQqKGAAGANG02VCRAgQIAAAQIECBAgQIAAAQIECFQVEACsKiUfAQIECBAgQIAAAQIECBAgQIAAgRoKCADWsNFUmQABAgQIECBAgAABAgQIECBAgEBVAQHAqlLyESBAgAABAgQIECBAgAABAgQIEKihgABgDRtNlQkQIECAAAECBAgQIECAAAECBAhUFRAArColHwECBAgQIECAAAECBAgQIECAAIEaCggA1rDRVJkAAQIECBAgQIAAAQIECBAgQIBAVQEBwKpS8hEgQIAAAQIECBAgQIAAAQIECBCooYAAYA0bTZUJECBAgAABAgQIECBAgAABAgQIVBUQAKwqJR8BAgQIECBAgAABAgQIECBAgACBGgoIANaw0VSZAAECBAgQIECAAAECBAgQIECAQFUBAcCqUvIRIECAAAECBAgQIECAAAECBAgQqKGAAGANG02VCRAgQIAAAQIECBAgQIAAAQIECFQVEACsKiUfAQIECBAgQIAAAQIECBAgQIAAgRoKCADWsNFUmQABAgQIECBAgAABAgQIECBAgEBVAQHAqlLyESBAgAABAgQIECBAgAABAgQIEKihgABgDRtNlQkQIECAAAECBAgQIECAAAECBAhUFRAArColHwECBAgQIECAAAECBAgQIECAAIEaCggA1rDRVJkAAQIECBAgQIAAAQIECBAgQIBAVQEBwKpS8hEgQIAAAQIECBAgQIAAAQIECBCooYAAYA0bTZUJECBAgAABAgQIECBAgAABAgQIVBUQAKwqJR8BAgQIECBAgAABAgQIECBAgACBGgoIANaw0VSZAAECBAgQIECAAAECBAgQIECAQFUBAcCqUvIRIECAAAECBAgQIECAAAECBAgQqKGAAGANG02VCRAgQIAAAQIECBAgQIAAAQIECFQVEACsKiUfAQIECBAgQIAAAQIECBAgQIAAgRoKCADWsNFUmQABAgQIECBAgAABAgQIECBAgEBVAQHAqlLyESBAgAABAgQIECBAgAABAgQIEKihgABgDRtNlQkQIECAAAECBAgQIECAAAECBAhUFRAArColHwECBAgQIECAAAECBAgQIECAAIEaCggA1rDRVJkAAQIECBAgQIAAAQIECBAgQIBAVQEBwKpS8hEgQIAAAQIECBAgQIAAAQIECBCooYAAYA0bTZUJECBAgAABAgQIECBAgAABAgQIVBUQAKwqJR8BAgQIECBAgAABAgQIECBAgACBGgoIANaw0VSZAAECBAgQIECAAAECBAgQIECAQFUBAcCqUvIRIECAAAECBAgQIECAAAECBAgQqKGAAGANG02VCRAgQIAAAQIECBAgQIAAAQIECFQVEACsKiUfAQIECBAgQIAAAQIECBAgQIAAgRoKCADWsNFUmQABAgQIECBAgAABAgQIECBAgEBVAQHAqlLyESBAgAABAgQIECBAgAABAgQIEKihgABgDRtNlQkQIECAAAECBAgQIECAAAECBAhUFRAArColHwECBAgQIECAAAECBAgQIECAAIEaCggA1rDRVJkAAQIECBAgQIAAAQIECBAgQIBAVQEBwKpS8hEgQIAAAQIECBAgQIAAAQIECBCooYAAYA0bTZUJECBAgAABAgQIECBAgAABAgQIVBUQAKwqJR8BAgQIECBAgAABAgQIECBAgACBGgoIANaw0VSZAAECBAgQIECAAAECBAgQIECAQFUBAcCqUvIRIECAAAECBAgQIECAAAECBAgQqKGAAGANG02VCRAgQIAAAQIECBAgQIAAAQIECFQVEACsKiUfAQIECBAgQIAAAQIECBAgQIAAgRoKCADWsNFUmQABAgQIECBAgAABAgQIECBAgEBVAQHAqlLyESBAgAABAgQIECBAgAABAgQIEKihgABgDRtNlQkQIECAAAECBAgQIECAAAECBAhUFRAArColHwECBAgQIECAAAECBAgQIECAAIEaCggA1rDRVJkAAQIECBAgQIAAAQIECBAgQIBAVQEBwKpS8hEgQIAAAQIECBAgQIAAAQIECBCooYAAYA0bTZUJECBAgAABAgQIECBAgAABAgQIVBUQAKwqJR8BAgQIECBAgAABAgQIECBAgACBGgoIANaw0VSZAAECBAgQIECAAAECBAgQIECAQFUBAcCqUvIRIECAAAECBAgQIECAAAECBAgQqKGAAGANG02VCRAgQIAAAQIECBAgQIAAAQIECFQVmFw1o3zDLXDHHXek4447Lp1zzjnp9ttvT//85z/Tcsstl1ZZZZX0+te/Pr397W9P66677nAjODoCBAgQIECAAAECBAgQIECAwBAKCAAOYaOO9pCOOuqodPDBB6dHH310rk1nzZqV4ufSSy9NjzzySDryyCPnWu8DAQIECBAgQIAAAQIECBAgQIDA4AsIAA5+G/W1hp///OfTpz71qXwfa665Ztp7773TtGnT0nOf+9x0//33p+uuuy6ddtppaaGFjBbva0MonAABAgQIECBAgAABAgQIECDQJwEBwD7B1qHYCy64oBn822233dKxxx6bnvWsZ81V9S222CIdeOCB6cknn5xruQ8ECBAgQIAAAQIECBAgQIAAAQL1EBAArEc79byWc+bMSfvss09e7stf/vL8+X+TJ3c+HRZZZJGe10GBBAgQIECAAAECBAgQIECAAAEC/RcwrrP/xgO5h/POOy/dcssted0OOuig1C34N5AHoFIECBAgQIAAAQIECBAgQIAAAQKVBAQAKzENX6ZTTz01P6hJkyal7bffvnmADzzwQB4YjFeJAAECBAgQIECAAAECBAgQIECg/gICgPVvwzEdwZVXXplvt8oqq6Qlllgi/eAHP0jrrbdeWmaZZVJMBhKva621Vjr88MPTE088MaZ92IgAAQIECBAgQIAAAQIECBAgQGDiBTo/9G3i66YGfRKI5//ddNNNeenLLrtsOuCAA9I3vvGNefZ28803p4985CP5LMDnnHNOWmqppebJ02nBrFmzOq3Kl8+ePbvreisJECBAgAABAgQIECBAgAABAgR6IyAA2BvHWpXy8MMPpwgCRrr++uvT1VdfnVZYYYX0la98Jb3xjW9Mz372s/Nl8WzA6Cl4+eWXpz333DP97Gc/q3ycK6+8cuW8MhIgQIAAAQIECBAgQIAAAQIECPRPQACwf7YDW/Kjjz7arNvjjz+eFltssXThhRfmQ36LFa997WvTr3/967TJJpukP/zhD3kvwKuuuiq96lWvKrJ4JUCAAAECBAgQIDBUAtnjsYc+NRpDf4jjeoDDfs44X8b1dLIzAn0VEADsK+9gFh49/Mppr732miv4V6x7znOekw477LDmJCGnnHJK5QDgzJkzi2LavsYQ4I022qjtOgsJECBAgAABAgQIECBAgAABAgR6JyAA2DvL2pQUk36U09Zbb13+ONf7LbbYIk2ePDk9/fTT+bDguVZ2+TB16tQua60iQIAAAQIECBAgQIAAAQIECBAYLwGzAI+X9ADtZ9FFF03LLbdcs0bdntcXvQVjopBI9957b3MbbwgQIECAAAECBAgQIECAAAECBOohIABYj3bqeS1f+tKXNst85plnmu/bvSnWR09AiQABAgQIECBAgAABAgQIECBAoF4CAoD1aq+e1TYm+SjSrbfeWryd5/WRRx5J9913X758pZVWmme9BQQIECBAgAABAgQIECBAgAABAoMtIAA42O3Tt9q99a1vbZZ92mmnNd+3vol1jf+d+mmzzTZrXe0zAQIECBAgQIAAAQIECBAgQIDAgAsIAA54A/Wrei972cvStttumxf/wx/+MF1wwQXz7Oruu+9On/zkJ/PliyyySNpjjz3myWMBAQIECBAgQIAAAQIECBAgQIDAYAsIAA52+/S1dkceeWRaaqml0pw5c9L222+fDj744HTJJZeka665Jh199NFp2rRpadasWXkdDj300GQIcF+bQ+EECBAgQIAAAQIECBAgQIAAgb4ITMqGdzb6UrJCayFw6aWXpp122indc889bes7adKk9IlPfCJFALCXKQKLxezDM2fOTFOnTu1l8coiMFAC2WU01Gmsv0WG3SUafaw2Q33CzMfBOWc64w27jWupc9tb01uBYb+WQmus19Ow23Bpfy2N1aV9aZZOlIDv3xMlP1j7Na3rYLXHuNdm0003TTfccEM66qij0umnn55uu+229OSTT6YVVlghTZ8+Pe2///5p/fXXH/d62SEBAgQIECBAgAABAgQIECBAgEBvBPQA7I2jUkYp4C8QowSTvdYC/mLevvmG3SWO2l/N27f9WJc6ZzrLDbuNa6lz21vTW4Fhv5ZCa6zX07DbcGl/LY3VpX1plk6UgO/fEyU/WPv1DMDBag+1IUCAAAECBAgQIECAAAECBAgQINBTAQHAnnIqjAABAgQIECBAgAABAgQIECBAgMBgCQgADlZ7qA0BAgQIECBAgAABAgQIECBAgACBngoIAPaUU2EECBAgQIAAAQIECBAgQIAAAQIEBktAAHCw2kNtCBAgQIAAAQIECBAgQIAAAQIECPRUQACwp5wKI0CAAAECBAgQIECAAAECBAgQIDBYAgKAg9UeakOAAAECBAgQIECAAAECBAgQIECgpwICgD3lVBgBAgQIECBAgAABAgQIECBAgACBwRIQABys9lAbAgQIECBAgAABAgQIECBAgAABAj0VEADsKafCCBAgQIAAAQIECBAgQIAAAQIECAyWgADgYLWH2hAgQIAAAQIECBAgQIAAAQIECBDoqYAAYE85FUaAAAECBAgQIECAAAECBAgQIEBgsAQEAAerPdSGAAECBAgQIECAAAECBAgQIECAQE8FBAB7yqkwAgQIECBAgAABAgQIECBAgAABAoMlIAA4WO2hNgQIECBAgAABAgQIECBAgAABAgR6KiAA2FNOhREgQIAAAQIECBAgQIAAAQIECBAYLAEBwMFqD7UhQIAAAQIECBAgQIAAAQIECBAg0FMBAcCeciqMAAECBAgQIECAAAECBAgQIECAwGAJCAAOVnuoDQECBAgQIECAAAECBAgQIECAAIGeCggA9pRTYQQIECBAgAABAgQIECBAgAABAgQGS0AAcLDaQ20IECBAgAABAgQIECBAgAABAgQI9FRAALCnnAojQIAAAQIECBAgQIAAAQIECBAgMFgCAoCD1R5qQ4AAAQIECBAgQIAAAQIECBAgQKCnAgKAPeVUGAECBAgQIECAAAECBAgQIECAAIHBEhAAHKz2UBsCBAgQIECAAAECBAgQIECAAAECPRUQAOwpp8IIECBAgAABAgQIECBAgAABAgQIDJaAAOBgtYfaECBAgAABAgQIECBAgAABAgQIEOipgABgTzkVRoAAAQIECBAgQIAAAQIECBAgQGCwBAQAB6s91IYAAQIECBAgQIAAAQIECBAgQIBATwUEAHvKqTACBAgQIECAAAECBAgQIECAAAECgyUgADhY7aE2BAgQIECAAAECBAgQIECAAAECBHoqIADYU06FESBAgAABAgQIECBAgAABAgQIEBgsAQHAwWoPtSFAgAABAgQIECBAgAABAgQIECDQUwEBwJ5yKowAAQIECBAgQIAAAQIECBAgQIDAYAkIAA5We6gNAQIECBAgQIAAAQIECBAgQIAAgZ4KCAD2lFNhBAgQIECAAAECBAgQIECAAAECBAZLQABwsNpDbQgQIECAAAECBAgQIECAAAECBAj0VEAAsKecCiNAgAABAgQIECBAgAABAgQIECAwWAICgIPVHmpDgAABAgQIECBAgAABAgQIECBAoKcCAoA95VQYAQIECBAgQIAAAQIECBAgQIAAgcESEAAcrPZQGwIECBAgQIAAAQIECBAgQIAAAQI9FRAA7CmnwggQIECAAAECBAgQIECAAAECBAgMloAA4GC1h9oQIECAAAECBAgQIECAAAECBAgQ6KmAAGBPORVGgAABAgQIECBAgAABAgQIECBAYLAEBAAHqz3UhgABAgQIECBAgAABAgQIECBAgEBPBQQAe8qpMAIECBAgQIAAAQIECBAgQIAAAQKDJSAAOFjtoTYECBAgQIAAAQIECBAgQIAAAQIEeiogANhTToURIECAAAECBAgQIECAAAECBAgQGCwBAcDBag+1IUCAAAECBAgQIECAAAECBAgQINBTAQHAnnIqjAABAgQIECBAgAABAgQIECBAgMBgCQgADlZ7qA0BAgQIECBAgAABAgQIECBAgACBngoIAPaUU2EECBAgQIAAAQIECBAgQIAAAQIEBktAAHCw2kNtCBAgQIAAAQIECBAgQIAAAQIECPRUQACwp5wKI0CAAAECBAgQIECAAAECBAgQIDBYAgKAg9UeakOAAAECBAgQIECAAAECBAgQIECgpwICgD3lVBgBAgQIECBAgAABAgQIECBAgACBwRIQABys9lAbAgQIECBAgAABAgQIECBAgAABAj0VEADsKafCCBAgQIAAAQIECBAgQIAAAQIECAyWgADgYLWH2hAgQIAAAQIECBAgQIAAAQIECBDoqYAAYE85FUaAAAECBAgQIECAAAECBAgQIEBgsAQEAAerPdSGAAECBAgQIECAAAECBAgQIECAQE8FBAB7yqkwAgQIECBAgAABAgQIECBAgAABAoMlIAA4WO2hNgQIECBAgAABAgQIECBAgAABAgR6KiAA2FNOhREgQIAAAQIECBAgQIAAAQIECBAYLAEBwMFqD7UhQIAAAQIECBAgQIAAAQIECBAg0FMBAcCeciqMAAECBAgQIECAAAECBAgQIECAwGAJCAAOVnuMW20mTZqUqvxMnz593OpkRwQIECBAgAABAgQIECBAgAABAr0XEADsvakSCRAgQIAAAQIECBAgQIAAAQIECAyMwOSBqYmKTIjAPvvsk/bdd9+O+1588cU7rrOCAAECBAgQIECAAAECBAgQIEBg8AUEAAe/jfpaw+c///lp3XXX7es+FE6AAAECBAgQIECAAAECBAgQIDBxAoYAT5y9PRMgQIAAAQIECBAgQIAAAQIECBDou4AAYN+J7YAAAQIECBAgQIAAAQIECBAgQIDAxAkIAE6cvT0TIECAAAECBAgQIECAAAECBAgQ6LuAAGDfiQd7B6eeempaZ5110mKLLZaWWGKJtMYaa6Tdd989XXjhhYNdcbUjQIAAAQIECBAgQIAAAQIECBCoJGASkEpMw5vpxhtvnOvg/vrXv6b4OfHEE9Ob3vSmdMIJJ6TnPve5c+Wp8mHWrFlds82ePbvreisJECBAgAABAgQIECBAgAABAgR6IyAA2BvH2pUSPf522GGHtMUWW6SXvOQlacqUKenee+9NF198cfr2t7+d7r///nT66aenHXfcMZ1//vnpWc961qiOceWVVx5VfpkJECBAgAABAgQIECBAgAABAgT6IzCpkaX+FK3UQRZ46KGH0lJLLdW2ivfcc0/adttt03XXXZev//rXv54+8IEPtM3baeGkSZM6rZpn+cyZM9PUqVPnWW4BgWERGMXlUMtDHutvkWF3icYcq00tT4RxqLRzpjPysNu4ljq3vTW9FRj2aym0xno9DbsNl/bX0lhd2pdm6UQJxAi9opOO798T1QoTv18BwIlvg4Gswa233pr3DHzqqafS6quvnm655ZZR1bPKEOCNNtooL9MNaFS0MtdQwH+Y2zfasLvEUftPc/u2H+tS50xnuWG3cS11bntreisw7NdSaI31ehp2Gy7tr6WxurQvzdKJEhAAnCj5wdqvIcCD1R4DU5tVV101bbXVVunnP/95/kzAu+66K6244oqV66dHX2UqGQkQIECAAAECBAgQIECAAAECfRUwC3BfeetdeMwOXKQ777yzeOuVAAECBAgQIECAAAECBAgQIECgRgICgOPQWOuuu2762te+lk+yMQ6769kuRvMcv57tVEEECBAgQIAAAQIECBAgQIAAAQI9FRAA7Cln+8JuvPHGdOCBB+YTXbz1rW9NZ599dpozZ077zAO0NOpdpNEM/y228UqAAAECBAgQIECAAAECBAgQIDDxAgKA49AG66+/fvaw3UaKCTVOP/30tOOOO+Yz8Bx88MHp5ptvHocajH4Xt912Wzr//PPzDVdbbbW00korjb4QWxAgQIAAAQIECBAgQIAAAQIECEy4gADgODTBtddem/7whz+kAw44IC2zzDJ5MHD27Nnpy1/+clp77bXTpptumo4//vj06KOPjkNtUjrrrLPS008/3XFf99xzT4qeik8++WSeZ9999+2Y1woCBAgQIECAAAECBAgQIECAAIHBFpiU9UxrDHYVh6t2EXiLAFwE/H7xi1/kgbjiWXuLL754etvb3pb22GOPPCjYryNfZZVV8t6IEeTbZJNNUnx+znOek+6777500UUXpWOOOSZ/H/uP4OSvfvWrtOiii/a0OqYh7ymnwgZcYNKkAa/gfFZvrL9Fht0lWMdqM59NMrSbO2c6N+2w27iWOre9Nb0VGPZrKbTGej0Nuw2X9tfSWF3al2bpRAn4/j1R8oO1XwHACWyP6Gn3/e9/P51wwgnppptuymtSBANXX331tOeee6bddtstrbDCCj2t5SpZwO/2228fscwIEB577LFpqaWWGjHvaDO4AY1WTP46C/gPc/vWG3aXOGr/aW7f9mNd6pzpLDfsNq6lzm1vTW8Fhv1aCq2xXk/DbsOl/bU0Vpf2pVk6UQK+f0+U/GDtVwBwQNrjqquuSscdd1z68Y9/nB555JG8VhEMXHjhhdM222yT3vve96YddtghLbTQ/I/avvjii1P8XHHFFenWW2/Ne/vFPqdMmZI/m/DVr3512n333fPegf3icQPql6xyB1HAf5jbt8qwu8RR+09z+7Yf61LnTGe5YbdxLXVue2t6KzDs11JojfV6GnYbLu2vpbG6tC/N0okS8P17ouQHa78CgIPVHumcc85Je++9d4regZFihHbRKzB6An70ox9N++23Xx4YHLCqj6o6bkCj4pK55gL+w9y+AYfdJY7af5rbt/1YlzpnOssNu41rqXPbW9NbgWG/lkJrrNfTsNtwaX8tjdWlfWmWTpSA798TJT9Y+53/7mSDdTy1rM0dd9yRPve5z6WYbTd6+UXwLwJ/0dtv6623zmfgjc933XVX+tCHPpQ23njj9OCDD9byWFWaAAECBAgQIECAAAECBAgQIEBgfAUEAMfXu7m3xx9/PJ188slpyy23TKuuumr67Gc/m2677bY88BefDzvssBSBwZgoJJ7Xd+6556bp06fn63/3u9/l+ZuFeUOAAAECBAgQIECAAAECBAgQIECgg4AAYAeYfi2+8sor0/vf//58Yo+Y4OPCCy9Mc+bMSYssskjaZZdd0gUXXJBuueWWdPDBBzcn/4ghwPEcwF//+tdp3333zYOAZ555Zr+qqFwCBAgQIECAAAECBAgQIECAAIEhEpg8RMcysIcye/bsNGPGjHy237/85S95PWNIb6T11lsv7bXXXuld73pXWnrppfNl3f6JyUCOPvroNHPmzG7ZrCNAgAABAgQIECBAgAABAgQIECCQCwgAjsOJ8MIXvjDv5VcE/ZZYYon0jne8Iw/8TZs2bVQ1WHLJJfP80WtQIkCAAAECBAgQIECAAAECBAgQIDCSgADgSEI9WP/MM8/kpWyyySZ50G/nnXdOiy222JhKXn755dPxxx8/pm1tRIAAAQIECBAgQIAAAQIECBAgsOAJCACOQ5vHzL0xzHfttdee771NmTIl7b777vNdjgIIECBAgAABAgQIECBAgAABAgQWDAEBwHFo5yOOOGIc9mIXBAgQIECAAAECBAgQIECAAAECBOYVMAvwvCaWECBAgAABAgQIECBAgAABAgQIEBgaAQHAcWjKu+++O+255575z5133jniHiNP5I8Zfx944IER88tAgAABAgQIECBAgAABAgQIECBAoJOAAGAnmR4unzFjRjrhhBPS73//+7TSSiuNWHLkibyxzUknnTRifhkIECBAgAABAgQIECBAgAABAgQIdBIQAOwk08Pl5513Xpo0aVLaaaedKpcaMwU3Go107rnnVt5GRgIECBAgQIAAAQIECBAgQIAAAQKtAgKArSJ9+PynP/0pL3WjjTaqXPorX/nKPO8f//jHytvISIAAAQIECBAgQIAAAQIECBAgQKBVQACwVaQPn++///681OWWW65y6csuu2yet9i28oYyEiBAgAABAgQIECBAgAABAgQIECgJCACWMPr1dsqUKXnRDz/8cOVdPPLII3neRRZZpPI2MhIgQIAAAQIECBAgQIAAAQIECBBoFRAAbBXpw+epU6fmpV5xxRWVS7/sssvyvFUmDalcqIwECBAgQIAAAQIECBAgQIAAAQILnIAA4Dg0+fTp0/MJPY466qhU9OzrttvI881vfjOfOCS2lQgQIECAAAECBAgQIECAAAECBAiMVUAAcKxyo9ju/e9/fx7Mmz17dtpuu+3SPffc03Hru+++O89z11135dvEthIBAgQIECBAgAABAgQIECBAgACBsQpMHuuGtqsu8NKXvjQdcMAB6cgjj0yXX355Wn311dPOO++cNttss7TCCivkBUVw8De/+U368Y9/nB577LE8+LfffvulV7ziFdV3JCcBAgQIECBAgAABAgQIECBAgACBFoFJjSy1LPOxDwJz5sxJe++9dzr++OPz0idNmtR2L0Vz7LXXXumYY47JA4FtM9Z84axZs9LKK6+cH8XMmTNT8ZzEmh+W6hNoK9Dhcm+bt44Lx/pbZNhdoi3HalPH82A86uyc6aw87Daupc5tb01vBYb9WgqtsV5Pw27Dpf21NFaX9qVZOlECvn9PlPxg7dcQ4HFqj4UWWigdd9xx6fTTT0+bbLJJvtcI9pV/YuFrXvOadOaZZ6bvfOc7Qxv8GydyuyFAgAABAgQIECBAgAABAgQIEMgEDAEe59Nghx12SPHzwAMPpN///vfpvvvuy2uw7LLLpvXXXz8tvfTS41wjuyNAgAABAgQIECBAgAABAgQIEBhmAQHACWrd5z3veWnzzTefoL3bLQECBAgQIECAAAECBAgQIECAwIIiYAjwgtLSjpMAAQIECBAgQIAAAQIECBAgQGCBFBAAXCCb3UETIECAAAECBAgQIECAAAECBAgsKAKGAI9jSz/99NPpnHPOSZdcckm69dZb0z//+c/0zDPPdK1BzBZ8wQUXdM1jJQECBAgQIECAAAECBAgQIECAAIFOAgKAnWR6vPzSSy9N7373u9Mdd9zRLDlmAO6UIvAX6+NVIkCAAAECBAgQIECAAAECBAgQIDBWAQHAscqNYrubbropveENb0j//ve/86DeIossktZYY40UE4EstJBR2KOglJUAAQIECBAgQIAAAQIECBAgQGCUAgKAowQbS/YvfOEL6bHHHksLL7xw+uxnP5s+8IEPpClTpoylKNsQIECAAIH/j707gZOjqhMH/iYXhIQzAQRzcYVjQUBMFgyHgAS5LwHRSBKD6C64UVFAUE5FPLgWFQkgAZVFLpFL5MYkouFeEJQbEgiBcEMCIcn8+9X+u+1kume6Z7pnurq+9flMUl316tV739+bnp7fVNUjQIAAAQIECBAgQIAAgaoEJACr4upc4TvuuCO5lXfy5MnhuOOO61wljiJAgAABAgQIECBAgAABAgQIECDQCQH3n3YCrdpD5s2blxyy3377VXuo8gQIECBAgAABAgQIECBAgAABAgS6JCAB2CW+yg5effXVk4L9+/ev7AClCBAgQIAAAQIECBAgQIAAAQIECNRIQAKwRpDtVbPtttsmux999NH2itlHgAABAgQIECBAgAABAgQIECBAoOYCEoA1J21b4Te/+c1kApBzzjknLFq0qG0BWwgQIECAAAECBAgQIECAAAECBAjUSUACsE6wxdWOGjUqnH322eHhhx8O+++/f8g/E7C4jHUCBAgQIECAAAECBAgQIECAAAEC9RAwC3A9VJep85RTTkm2jB49Otxwww1h+PDhYZdddgkbbbRRWGGFFZYp3fblCSec0HajLQQIECBAgAABAgQIECBAgAABAgQqEGhpzS0VlFOkCwK9evUKLS0thRoiefHrwo4yK4sXLy6zJ72bZ8+eHYYOHZp0YNasWWHIkCHp7YyWE+hAoOjbv4OS6dzd2Z8ize4So9lZm3SOhPq32pgpb9zsNr6XysfentoKNPv3UtTq7PdTs9twKf291FmX0rXZ2lMCfv/uKfnGOq8rALspHsvmWZd93U3NcBoCBAgQIECAAAECBAgQIECAAIGMCUgAdkPAlyxZ0g1ncQoCBAgQIECAAAECBAgQIECAAAECbQVMAtLWxBYCBAgQIECAAAECBAgQIECAAAECTSMgAdg0odQRAgQIECBAgAABAgQIECBAgAABAm0FJADbmthCgAABAgQIECBAgAABAgQIECBAoGkEJAC7OZS33357+OIXvxjWX3/9MHDgwNCnT5/w2GOPLdWKP//5z+EXv/hF+M1vfrPUdi8IECBAgAABAgQIECBAgAABAgQIVCtgEpBqxTpZfv78+WH8+PHhmmuuSWrIzwLc0tLSpsbevXuHI488MsR9//7v/x422GCDNmVsIECAAAECBAgQIECAAAECBAgQIFCJgCsAK1GqQZmDDjooSf7FxN+oUaPCt771rbK1jhkzJmy66abJ/quvvrpsOTsIECBAgAABAgQIECBAgAABAgQIdCQgAdiRUA32xyTeTTfdlNQ0ZcqU8Ne//jX8+Mc/brfm/fffP8Rk4d13391uOTsJECBAgAABAgQIECBAgAABAgQItCcgAdieTo32XXLJJUlN48aNC4cddlhFtW611VZJuccff7yi8goRIECAAAECBAgQIECAAAECBAgQKCUgAVhKpcbb7rvvvuR5fgcffHDFNa+11lpJ2VdffbXiYxQkQIAAAQIECBAgQIAAAQIECBAgsKyABOCyInV4/dprryW1rr322hXX3qvX/4VmyZIlFR+jIAECBAgQIECAAAECBAgQIECAAIFlBSQAlxWpw+uVV145qfWll16quPZnn302KTt48OCKj1GQAAECBAgQIECAAAECBAgQIECAwLICEoDLitTh9ciRI5NaH3744Yprv/baa5OyW265ZcXHKEiAAAECBAgQIECAAAECBAgQIEBgWQEJwGVF6vB6jz32SGb0Pffcc8P777/f4RmmTZsWLr/88uS5gXvttVeH5RUgQIAAAQIECBAgQIAAAQIECBAgUE5AArCcTA23H3HEEWG11VYLc+fODZ/97GfD66+/XrL2RYsWhQsuuCDsueeeIT77b+jQoWHChAkly9pIgAABAgQIECBAgAABAgQIECBAoBKBPpUUUqZrAiuttFL43e9+F3bffffwxz/+MUns7bDDDoVKjz766LBw4cIQZwt+6623kqsFl19++XDFFVeEvn37FspZIUCAAAECBAgQIECAAAECBAgQIFCtgCsAqxXrZPmdd9453HHHHWHYsGFhwYIF4eabb05u8Y3VxaTg7bffHt58880k+Rev/LvzzjvD6NGjO3k2hxEgQIAAAQIECBAgQIAAAQIECBD4PwFXAHbjSBgzZkx48sknk+f7XXfddckVf6+88kpYvHhxGDRoUIgTfuy9995h/PjxoV+/ft3YMqciQIAAAQIECBAgQIAAAQIECBBoVgEJwG6ObJ8+fcK4ceOSr24+tdMRIECAAAECBAgQIECAAAECBAhkUMAtwBkMui4TIECAAAECBAgQIECAAAECBAhkR0ACMDux1lMCBAgQIECAAAECBAgQIECAAIEMCkgAZjDoukyAAAECBAgQIECAAAECBAgQIJAdAc8A7IZY9+7du9NnaWlpCYsWLer08Q4kQIAAAQIECBAgQIAAAQIECBDItoAEYDfEv7W1tRvO4hQECBAgQIAAAQIECBAgQIAAAQIE2gpIALY1qfmWE088scM633vvvfDEE0+EW2+9Nbz//vth6623DmPHju3wOAUIECBAgAABAgQIECBAgAABAgQItCcgAdieTo32VZIAzJ/qtddeC5MmTQo33HBD+PznPx+OOOKI/C7/EyBAgAABAgQIECBAgAABAgQIEKhawCQgVZPV94BBgwaFq666Kmy++ebhG9/4Rvjb3/5W3xOqnQABAgQIECBAgAABAgQIECBAoKkFJAAbMLx9+vQJ//Vf/5VM/nHmmWc2YAs1iQABAgQIECBAgAABAgQIECBAIC0CEoANGqlNN900admMGTO6tYXHHHNMiDMP57/uuuuubj2/kxEgQIAAAQIECBAgQIAAAQIECNRWQAKwtp41qy1OBBKXefPm1azOjip66KGHgisOO1KynwABAgQIECBAgAABAgQIECCQLgEJwAaN1zXXXJO0bPXVV++WFi5ZsiQcfvjhyW3Ha6yxRrec00kIECBAgAABAgQIECBAgAABAgTqLyABWH/jqs7w3nvvhdNPPz2cc845yW24O++8c1XHd7bwf//3f4d77703bLTRRsksxJ2tx3EECBAgQIAAAQIECBAgQIAAAQKNJdCnsZrTnK3ZaaedOuxYvALvjTfeCE888URYuHBhaG1tDQMHDgzHH398h8d2tcALL7wQvve97yXV/PKXvwx33nlnV6t0PAECBAgQIECAAAECBAgQIECAQIMISAB2QyDiRBpxUo2Y1Kt0GT58ePjNb34TNthgg0oP6XS5I444Irz77rth/PjxYYcddpAA7LSkAwkQIECAAAECBAgQIECAAAECjScgAdgNMdl+++2TBGB7p+rVq1dYccUVwzrrrJMk4fbYY4/Qt2/f9g6pyb4rrrgi3HDDDWG11VYLP/3pT2tSp0oIECBAgAABAgQIECBAgAABAgQaR0ACsBtiEa8AbMTlzTffDJMnT06a9qMf/SgMHjy4EZupTQQIECBAgAABAgQIECBAgAABAl0QkADsAl7aDz366KPDyy+/HMaMGVPziT9mz57dLs+cOXPa3W8nAQIECBAgQIAAAQIECBAgQIBAbQQkAGvjmLpapk2bFi688MLQp0+fECf+iM8orOUydOjQWlanLgIECBAgQIAAAQIECBAgQIAAgU4KSAB2Ei7Nh8VZhg8//PBkUpJvfOMbYdNNN01zd7q97TXOlXZ7+zs6YRVz1XRUlf0ECBAgQIAAAQIECBAgQIBAAwhIAHZDEC699NK6nOXQQw/tVL2nnXZa+Mc//hGGDRsWTjzxxE7V0dFBs2bNardIvAV49OjR7ZaxkwABAgQIECBAgAABAgQIECBAoOsCEoBdN+ywhgkTJtT8Ftt4y25nEoAx8ffDH/4wafO5554bBgwY0GH7O1NgyJAhnTnMMQQIECBAgAABAgQIECBAgAABAjUWkACsMWi56lob5L7Ks846K8RbgNddd90wf/78cPnll7dp8qOPPlrYdscddyQThcQNe+21V90ShoUTWiFAgAABAgQIECBAgAABAgQIEKipgARgTTlLV/bss8+GN954I3zlK18J9957b/LMvfHjxye3wK655prJQXPnzk32XXLJJeGRRx4Jo0aNCueff35YddVVS1faya0ffPBBcuQzzzwTDjnkkA5rOfXUUwtlYj/qdcVg4SRWCBAgQIAAAQIECBAgQIAAAQIEaiogAVhTztKVrbXWWuGAAw4IDz74YDjllFPC8ccf3+aW4JEjR4btttsuxEk54jP6vve974Uvf/nLYcaMGaFfv36lK7aVAAECBAgQIECAAAECBAgQIECAQAcCvTrYb3cNBOKz9h544IFw4IEHhu9+97ttkn/Fp4jP9osJwoMOOig55pxzzine3eX1qVOnJrP/xluSy30VTwxy5513FsqNGDGiy+dXAQECBAgQIECAAAECBAgQIECAQPcKSAB2g/dll12WJP3iZCCVLhMnTkwSb6We0VdpHcoRIECAAAECBAgQIECAAAECBAgQkADshjHw9NNPJ2fJP++vklOuscYaSbH8sZUcowwBAgQIECBAgAABAgQIECBAgACBZQUkAJcVqcPr/AzATz75ZMW158vmj634QAUJECBAgAABAgQIECBAgAABAgQIFAlIABZh1Gt14403Tqo+++yzw5IlSzo8TSxz1llnJeXyx3Z4kAIECBAgQIAAAQIECBAgQIAAAQIESghIAJZAqfWmQw89NHme39/+9rew7777hpdffrnsKebOnRv233//EMvGCUHisd29nHTSSYWJPz71qU919+mdjwABAgQIECBAgAABAgQIECBAoIYCLblbTFtrWJ+qSgjEK/piIm369OlJUm+55ZYLY8eODaNGjQrxWX8x0RcTf/fee2+45ZZbwgcffJAk4Lbddttw1113hV69mi9PO3v27DB06NBEa9asWWHIkCEl5BpzUy5cTb14R6h9eI2Z0qbN7hJ77fupdOw7u9WYKS/X7Da+l8rH3p7aCjT791LU6uz3U7PbcCn9vdRZl9K12dpTAmn+/bunzJrxvH2asVON1qeYwPvjH/8YvvCFL4TrrrsuvP/+++H6669PvpZtaz4fu9dee4Xf/va3TZn8W7bPXhMgQIAAAQIECBAgQIAAAQIECNRPoPkuLaufVZdqHjBgQLj22muTpN/uu+8e+vfvX7jNNib94tfyyy8fdttttyRJ+Ic//CEMHDiwS+d0MAECBAgQIECAAAECBAgQIECAAAFXAHbzGNhjjz1C/Iq3BT/99NPh9ddfT1qw6qqrhvXWWy/07t27m1vkdAQIECBAgAABAgQIECBAgAABAs0sIAHYQ9GNtwVvsMEGPXR2pyVAgAABAgQIECBAgAABAgQIEMiKgFuAsxJp/SRAgAABAgQIECBAgAABAgQIEMikgCsAuznsb731VrjqqqvCPffcE15++eUwf/78cPHFF4fhw4cXWvLSSy+FN998M3km4LrrrlvYboUAAQIECBAgQIAAAQIECBAgQIBAtQISgNWKdaH8z372s3D88ceHd999N6klTvzR0tIS3nvvvaVqveuuu8K4ceOSBGCcrnu11VZbar8XBAgQIECAAAECBAgQIECAAAECBCoVcAtwpVJdLHfiiSeGyZMnh3feeSf069cvbLXVVmVr/NznPhc+8pGPhA8++CBcffXVZcvZQYAAAQIECBAgQIAAAQIECBAgQKAjAQnAjoRqsP/+++8P3//+95Oa4pV98dbfmTNnlq05ThBy4IEHhniF4K233lq2nB0ECBAgQIAAAQIECBAgQIAAAQIEOhKQAOxIqAb7462/MZm3zTbbhEsvvTSsvPLKHdYay8blkUce6bCsAgQIECBAgAABAgQIECBAgAABAgTKCUgAlpOp4fY///nPybP+jjzyyIprHTFiRFL2xRdfrPgYBQkQIECAAAECBAgQIECAAAECBAgsKyABuKxIHV7PmTMnqXXDDTesuPbll18+KRufA2ghQIAAAQIECBAgQIAAAQIECBAg0FkBCcDOylVxXJz0Iy5vvvlmxUfNnTs3KbvKKqtUfIyCBAgQIECAAAECBAgQIECAAAECBJYVkABcVqQOr4cNG5bU+uSTT1Zc+x133JGUreaqwYorV5AAAQIECBAgQIAAAQIECBAgQCAzAhKA3RDqnXfeOZkE5Je//GVFZ4vP/ZsyZUry3MCxY8dWdIxCBAgQIECAAAECBAgQIECAAAECBEoJSACWUqnxtjj5R9++fcPDDz8cTj311HZr/+c//xk+85nPhLfeeiussMIK4Stf+Uq75e0kQIAAAQIECBAgQIAAAQIECBAg0J5An/Z22lcbgfXWWy/84Ac/CEcffXQ46aSTwo033hj233//QuVXXnllkiCcMWNGuOWWW8KSJUuSq//OPvvssPrqqxfKWSFAgAABAgQIECBAgAABAgQIECBQrYAEYLVinSz/rW99K7kN+Lvf/W6YOXNmuPfee5MkX6zulFNOKdTa2toaevfuHX7605+GSZMmFbZbIUCAAAECBAgQIECAAAECBAgQINAZAbcAd0atk8d8+9vfDg899FCYOHFiGDx4cJIQjAm//NdKK60UDjnkkPDggw+GyZMnd/IsDiNAgAABAgQIECBAgAABAgQIECDwLwFXAP7LolvWNt5443DRRRcl53rhhRfCK6+8EhYvXhwGDRoU1l133dCrl5xstwTCSQgQIECAAAECBAgQIECAAAECGRGQAOyGQMdEX1wGDhwYVltttcIZhw0bFuKXhQABAgQIECBAgAABAgQIECBAgEC9BFxuVi/ZonpHjBgR1llnnXD55ZcXbbVKgAABAgQIECBAgAABAgQIECBAoP4CEoD1Nw79+/dPzjJq1KhuOJtTECBAgAABAgQIECBAgAABAgQIEPiXgATgvyzqtvbRj340qTs+689CgAABAgQIECBAgAABAgQIECBAoDsFJAC7QXvs2LHJWaZPn94NZ3MKAgQIECBAgAABAgQIECBAgAABAv8SkAD8l0Xd1iZPnpzcBvzTn/40vPjii3U7j4oJECBAgAABAgQIECBAgAABAgQILCsgAbisSB1eb7DBBuGyyy4L8+fPD1tvvXWyvnDhwjqcSZUECBAgQIAAAQIECBAgQIAAAQIElhbos/RLr+ohsNNOOyXVrr766uHZZ58NX/ziF8OkSZNCTAyuuuqqoXfv3mVP29LSEm6//fay++0gQIAAAQIECBAgQIAAAQIECBAg0J6ABGB7OjXad9ddd4WYyMsvra2t4YMPPgiPPvpoflOb/2P5WK74uDaFbCBAgAABAgQIECBAgAABAgQIECDQgYAEYAdAtdi9/fbbS+TVAlIdBAgQIECAAAECBAgQIECAAAECVQtIAFZNVv6A6667Ltm58847hwEDBhQKxisALQQIECBAgAABAgQIECBAgAABAgR6QsAkIDVU33fffcP+++8fnn/++aVq/dKXvpQ882/OnDlLbfeCAAECBAgQIECAAAECBAgQIECAQL0FJABrLByf27fsMnXq1BC/3njjjWV3eU2AAAECBAgQIECAAAECBAgQIECgrgISgDXkXW655ZLa3n333RrWqioCBAgQIECAAAECBAgQIECAAAECnReQAOy8XZsjP/rRjybbpk2b1mafDQQIECBAgAABAgQIECBAgAABAgR6QsAkIDVUj5N/XHDBBeG4444LM2fODCNHjgx9+/YtnOEXv/hFWGONNQqvK1054YQTKi2qHAECBAgQIECAAAECBAgQIECAAIGlBFpyz6xr+9C6pYp4UanArFmzwsc//vHw2muvhZaWlsJheeLibYWdFawsXry4glLpKjJ79uwwdOjQpNHRbciQIanpQFFoU9PmahrqHaEarcrKGjOlnZrdJfba91Pp2Hd2qzFTXq7ZbXwvlY+9PbUVaPbvpajV2e+nZrfhUvp7qbMupWuztacE0vz7d0+ZNeN53QJcw6jGhNYDDzwQDjvssDBixIjk6r+Y/Msn/uJ6Z75q2ERVESBAgAABAgQIECBAgAABAgQIZEzALcA1DnhMAk6ZMmWpWnv16pUkAR955JGwySabLLXPCwIECBAgQIAAAQIECBAgQIAAAQL1FHAFYD111U2AAAECBAgQIECAAAECBAgQIECghwVcAdgNAbj44ouTs6TpOXfdwOIUBAgQIECAAAECBAgQIECAAAEC3SAgAdgNyOPHj++GszgFAQIECBAgQIAAAQIECBAgQIAAgbYCbgFua2ILAQIECBAgQIAAAQIECBAgQIAAgaYRkABsmlDqCAECBAgQIECAAAECBAgQIECAAIG2AhKAbU1sIUCAAAECBAgQIECAAAECBAgQINA0AhKATRNKHSFAgAABAgQIECBAgAABAgQIECDQVkACsK2JLQQIECBAgAABAgQIECBAgAABAgSaRkACsGlCqSMECBAgQIAAAQIECBAgQIAAAQIE2gpIALY1sYUAAQIECBAgQIAAAQIECBAgQIBA0whIADZNKHWEAAECBAgQIECAAAECBAgQIECAQFsBCcC2JrYQIECAAAECBAgQIECAAAECBAgQaBoBCcCmCaWOECBAgAABAgQIECBAgAABAgQIEGgrIAHY1sQWAgQIECBAgAABAgQIECBAgAABAk0jIAHYNKHUEQIECBAgQIAAAQIECBAgQIAAAQJtBSQA25rYQoAAAQIECBAgQIAAAQIECBAgQKBpBCQAmyaUOkKAAAECBAgQIECAAAECBAgQIECgrYAEYFsTWwgQIECAAAECBAgQIECAAAECBAg0jYAEYNOEUkcIECBAgAABAgQIECBAgAABAgQItBWQAGxrYgsBAgQIECBAgAABAgQIECBAgACBphGQAGyaUOoIAQIECBAgQIAAAQIECBAgQIAAgbYCEoBtTWwhQIAAAQIECBAgQIAAAQIECBAg0DQCEoBNE0odIUCAAAECBAgQIECAAAECBAgQINBWQAKwrYktBAgQIECAAAECBAgQIECAAAECBJpGQAKwaUKpIwQIECBAgAABAgQIECBAgAABAgTaCkgAtjWxhQABAgQIECBAgAABAgQIECBAgEDTCPRpmp7oSMUCb7/9drjpppvCvffeG+67777w4osvhldffTUsWLAgrLLKKmGTTTYJu+++e5g0aVIYNGhQxfUqSIAAAQIECBAgQIAAAQIECBAg0HgCLa25pfGapUX1FLjtttvCLrvs0uEpBg8eHH7zm9+EXXfdtcOy1RaYPXt2GDp0aHLYrFmzwpAhQ6qtosfKt7T02Km75cTeEWrPbMyUNm12l9hr30+lY9/ZrcZMeblmt/G9VD729tRWoNm/l6JWZ7+fmt2GS+nvpc66lK7N1p4SSPPv3z1l1ozndQVgM0a1gj7F5NuOO+4YttpqqyQRt9Zaa4UlS5aE+MZw1VVXhWuuuSbMmzcv7L333mHmzJlh8803r6BWRQgQIECAAAECBAgQIECAAAECBBpNQAKw0SLSDe2Jib8XXnih7JkOOuigcO2114b99tsvLFy4MJx88slJQrDsAXYQIECAAAECBAgQIECAAAECBAg0rIBJQBo2NPVrWO/evTusfN999w0bbrhhUm7atGkdlleAAAECBAgQIECAAAECBAgQIECgMQUkABszLg3RqhVXXDFpx/vvv98Q7dEIAgQIECBAgAABAgQIECBAgACB6gUkAKs3y8QR//znP8NDDz2U9HWjjTbKRJ91kgABAgQIECBAgAABAgQIECDQjAISgM0Y1U72af78+eHJJ58MZ555Zthhhx3CokWLkpq+/vWvd7JGhxEgQIAAAQIECBAgQIAAAQIECPS0gElAejoCPXz+qVOnhokTJ5ZtxbHHHhs+//nPl91fbkecTbi9Zc6cOe3tto8AAQIECBAgQIAAAQIECBAgQKBGAhKANYJstmq22GKLMGXKlDBq1KhOdW3o0KGdOs5BBAgQIECAAAECBAgQIECAAAECtRWQAKytZ+pqi7P9fuITn0javWDBgvD000+HK664Ivz+978PhxxySDj77LPDnnvumbp+aXDPCLS09Mx5u+usra3ddSbnIUCAAIFaCDT7z6Vo5GdTLUaKOggQqIdAs78He/+tx6hRZz0FWlpzSz1PoO50Cvz6178O48ePDy25d+2LLrooTJgwoaqOVHIL8OjRo5M6Z82aFYYMGVJV/T1Z2A+y8vpsSttwyaZL7LWfsKVj39mtzf691JUx0+w2nf1eanaXroyZzn4fNvtxxkz5CDe7jfeZ0rHvrEuszZgpbdoTW+Pv5/m79NL2+3dPeDXrOSUAmzWyNejXwQcfnFwwsEiXAABAAElEQVQNOGDAgPDCCy+E1VZbrQa1/l8VaX4D8oOs/DBgU9qGSzZdYq+78qG5tFq2tzb791JXxkyz23T2e6nZXboyZrL9blK+98ZMdm28z5SOfWddYm3N/v3UFZvS2vXbmubfv+unkr2azQKcvZhX3ON99tknKfvee++Fm2++ueLjFCRAgAABAgQIECBAgAABAgQIEGgcAQnAxolFw7Vk9dVXL7Tp+eefL6xbIUCAAAECBAgQIECAAAECBAgQSI+ABGB6YtXtLX3xxRcL5xw4cGBh3QoBAgQIECBAgAABAgQIECBAgEB6BCQA0xOrbm/plVdeWTjnZpttVli3QoAAAQIECBAgQIAAAQIECBAgkB4BCcD0xKpmLZ06dWp4//33263vrLPOCjfddFNSZp111gnbbbddu+XtJECAAAECBAgQIECAAAECBAgQaEyBPo3ZLK2qp8BJJ50UjjrqqHDAAQeEbbfdNqy33noh3uL7zjvvhEceeST89re/DTNmzEia0K9fvzBlypTQu3fvejZJ3QQIECBAgAABAgQIECBAgAABAnUSkACsE2yjV/v666+HCy64IPkq19YhQ4aEX/3qV+HTn/50uSK2EyBAgAABAgQIECBAgAABAgQINLiABGCDB6gezfvTn/4UbrzxxuQqv6eeeirMnTs3vPbaa6F///5hjTXWCFtssUXYc889w0EHHRRWWGGFejRBnQQIECBAgAABAgQIECBAgAABAt0kIAHYTdCNdJoNN9wwxK9vfvObjdQsbSFAgAABAgQIECBAgAABAgQIEKiDgElA6oCqSgIECBAgQIAAAQIECBAgQIAAAQKNIiAB2CiR0A4CBAgQIECAAAECBAgQIECAAAECdRCQAKwDqioJECBAgAABAgQIECBAgAABAgQINIqABGCjREI7CBAgQIAAAQIECBAgQIAAAQIECNRBQAKwDqiqJECAAAECBAgQIECAAAECBAgQINAoAhKAjRIJ7SBAgAABAgQIECBAgAABAgQIECBQBwEJwDqgqpIAAQIECBAgQIAAAQIECBAgQIBAowhIADZKJLSDAAECBAgQIECAAAECBAgQIECAQB0EJADrgKpKAgQIECBAgAABAgQIECBAgAABAo0iIAHYKJHQDgIECBAgQIAAAQIECBAgQIAAAQJ1EJAArAOqKgkQIECAAAECBAgQIECAAAECBAg0ioAEYKNEQjsIECBAgAABAgQIECBAgAABAgQI1EFAArAOqKokQIAAAQIECBAgQIAAAQIECBAg0CgCEoCNEgntIECAAAECBAgQIECAAAECBAgQIFAHAQnAOqCqkgABAgQIECBAgAABAgQIECBAgECjCEgANkoktIMAAQIECBAgQIAAAQIECBAgQIBAHQQkAOuAqkoCBAgQIECAAAECBAgQIECAAAECjSIgAdgokdAOAgQIECBAgAABAgQIECBAgAABAnUQkACsA6oqCRAgQIAAAQIECBAgQIAAAQIECDSKgARgo0RCOwgQIECAAAECBAgQIECAAAECBAjUQUACsA6oqiRAgAABAgQIECBAgAABAgQIECDQKAISgI0SCe0gQIAAAQIECBAgQIAAAQIECBAgUAcBCcA6oKqSAAECBAgQIECAAAECBAgQIECAQKMISAA2SiS0gwABAgQIECBAgAABAgQIECBAgEAdBCQA64CqSgIECBAgQIAAAQIECBAgQIAAAQKNIiAB2CiR0A4CBAgQIECAAAECBAgQIECAAAECdRCQAKwDqioJECBAgAABAgQIECBAgAABAgQINIqABGCjREI7CBAgQIAAAQIECBAgQIAAAQIECNRBQAKwDqiqJECAAAECBAgQIECAAAECBAgQINAoAhKAjRIJ7SBAgAABAgQIECBAgAABAgQIECBQBwEJwDqgqpIAAQIECBAgQIAAAQIECBAgQIBAowhIADZKJLSDAAECBAgQIECAAAECBAgQIECAQB0EJADrgKpKAgQIECBAgAABAgQIECBAgAABAo0iIAHYKJHQDgIECBAgQIAAAQIECBAgQIAAAQJ1EJAArAOqKgkQIECAAAECBAgQIECAAAECBAg0ioAEYKNEQjsIECBAgAABAgQIECBAgAABAgQI1EFAArAOqKokQIAAAQIECBAgQIAAAQIECBAg0CgCEoCNEgntIECAAAECBAgQIECAAAECBAgQIFAHAQnAOqCqkgABAgQIECBAgAABAgQIECBAgECjCEgANkoktIMAAQIECBAgQIAAAQIECBAgQIBAHQQkAOuAqkoCBAgQIECAAAECBAgQIECAAAECjSIgAdgokdAOAgQIECBAgAABAgQIECBAgAABAnUQkACsA6oqCRAgQIAAAQIECBAgQIAAAQIECDSKgARgo0RCOwgQIECAAAECBAgQIECAAAECBAjUQUACsA6oqiRAgAABAgQIECBAgAABAgQIECDQKAISgI0SCe0gQIAAAQIECBAgQIAAAQIECBAgUAcBCcA6oKqSAAECBAgQIECAAAECBAgQIECAQKMISAA2SiS0gwABAgQIECBAgAABAgQIECBAgEAdBCQA64CqSgIECBAgQIAAAQIECBAgQIAAAQKNIiAB2CiR0A4CBAgQIECAAAECBAgQIECAAAECdRCQAKwDqioJECBAgAABAgQIECBAgAABAgQINIqABGCjREI7CBAgQIAAAQIECBAgQIAAAQIECNRBQAKwDqiqJECAAAECBAgQIECAAAECBAgQINAoAhKAjRIJ7SBAgAABAgQIECBAgAABAgQIECBQBwEJwDqgqpIAAQIECBAgQIAAAQIECBAgQIBAowhIADZKJLSDAAECBAgQIECAAAECBAgQIECAQB0EJADrgKpKAgQIECBAgAABAgQIECBAgAABAo0iIAHYKJHQDgIECBAgQIAAAQIECBAgQIAAAQJ1EJAArAOqKgkQIECAAAECBAgQIECAAAECBAg0ioAEYKNEQjsIECBAgAABAgQIECBAgAABAgQI1EFAArAOqKokQIAAAQIECBAgQIAAAQIECBAg0CgCEoCNEgntIECAAAECBAgQIECAAAECBAgQIFAHAQnAOqCqkgABAgQIECBAgAABAgQIECBAgECjCEgANkoktIMAAQIECBAgQIAAAQIECBAgQIBAHQQkAOuAqkoCBAgQIECAAAECBAgQIECAAAECjSIgAdgokdAOAgQIECBAgAABAgQIECBAgAABAnUQkACsA2oaqrzvvvvCKaecEsaOHRuGDBkSlltuuTBw4MAwcuTIMHHixDB9+vQ0dEMbCRAgQIAAAQIECBAgQIAAAQIEOhDo08F+u5tQYPvttw/Tpk1r07OFCxeGJ598MvmaOnVqOPTQQ8MFF1wQ+vXr16asDQQIECBAgAABAgQIECBAgAABAukQkABMR5xq2sqXXnopqW/ttdcOBx54YNhuu+3CsGHDwuLFi8M999wTzjjjjPDiiy+GSy+9NHz44Yfhsssuq+n5VUaAAAECBAgQIECAAAECBAgQINB9Ai2tuaX7TudMjSCw5557Jlf3HXDAAaF3795tmjRv3rwwZsyY8MQTTyT77r777hCvGqzlMnv27DB06NCkylmzZiW3Idey/nrW1dJSz9p7vu6uvCOwKR0/Ltl0ib3uyvdTabVsb23276WujJlmt+ns91Kzu3RlzGT73aR8742Z7Np4nykd+866xNqa/fupKzalteu3Nc2/f9dPJXs1ewZg9mIebrjhhnDQQQeVTP5FjsGDBydXAeZprrrqqvyq/wkQIECAAAECBAgQIECAAAECBFImIAGYsoB1V3N33HHHwqmefvrpwroVAgQIECBAgAABAgQIECBAgACBdAlIAKYrXt3W2g8++KBwrlK3CRd2WiFAgAABAgQIECBAgAABAgQIEGhoAQnAhg5PzzUuPvcvv2y88cb5Vf8TIECAAAECBAgQIECAAAECBAikTMAswCkLWHc0d8mSJeH0008vnCo+L7DaJT5ktL1lzpw57e22jwABAgQIECBAgAABAgQIECBAoEYCEoA1gmymas4666wwc+bMpEv7779/2GqrraruXn6G36oPdAABAgQIECBAgAABAgQIECBAgEBNBdwCXFPO9FcWb/099thjk46sscYa4bzzzkt/p/SAAAECBAgQIECAAAECBAgQIJBhAVcAZjj4y3b973//e9hvv/3CokWLwvLLLx+uvPLKEJOAnVlmzZrV7mHxFuDRo0e3W8ZOAgQIECBAgAABAgQIECBAgACBrgtIAHbdsClqePbZZ8PYsWPDG2+8EeKsv5dffnnYfvvtO923IUOGdPpYBxIgQIAAAQIECBAgQIAAAQIECNROwC3AtbNMbU0vvfRS+PSnPx3i/y0tLeFXv/pV2GeffVLbHw0nQIAAAQIECBAgQIAAAQIECBD4l4AE4L8sMrk2b968sMsuu4Rnnnkm6f+5554bDj300Exa6DQBAgQIECBAgAABAgQIECBAoBkFJACbMaoV9umtt94Ku+66a3jssceSI04//fRwxBFHVHi0YgQIECBAgAABAgQIECBAgAABAmkQkABMQ5Tq0Mb58+eHPfbYIzzwwANJ7ccff3w45phj6nAmVRIgQIAAAQIECBAgQIAAAQIECPSkgARgT+r30LkXLlyYzPY7Y8aMpAWTJ08O3//+93uoNU5LgAABAgQIECBAgAABAgQIECBQTwGzANdTt0HrPuSQQ8Itt9yStG6nnXYKkyZNCo8++mjZ1vbr1y+MHDmy7H47CBAgQIAAAQIECBAgQIAAAQIEGldAArBxY1O3ll1zzTWFuu+4447wsY99rPC61Mrw4cPDc889V2qXbQQIECBAgAABAgQIECBAgAABAg0u4BbgBg+Q5hEgQIAAAQIECBAgQIAAAQIECBDoioArALuil9JjW1tbU9pyzSZAgAABAgQIECBAgAABAgQIEKhWwBWA1YopT4AAAQIECBAgQIAAAQIECBAgQCBFAhKAKQqWphIgQIAAAQIECBAgQIAAAQIECBCoVkACsFox5QkQIECAAAECBAgQIECAAAECBAikSEACMEXB0lQCBAgQIECAAAECBAgQIECAAAEC1QpIAFYrpjwBAgQIECBAgAABAgQIECBAgACBFAlIAKYoWJpKgAABAgQIECBAgAABAgQIECBAoFoBCcBqxZQnQIAAAQIECBAgQIAAAQIECBAgkCIBCcAUBUtTCRAgQIAAAQIECBAgQIAAAQIECFQrIAFYrZjyBAgQIECAAAECBAgQIECAAAECBFIkIAGYomBpKgECBAgQIECAAAECBAgQIECAAIFqBSQAqxVTngABAgQIECBAgAABAgQIECBAgECKBCQAUxQsTSVAgAABAgQIECBAgAABAgQIECBQrYAEYLViyhMgQIAAAQIECBAgQIAAAQIECBBIkYAEYIqCpakECBAgQIAAAQIECBAgQIAAAQIEqhWQAKxWTHkCBAgQIECAAAECBAgQIECAAAECKRKQAExRsDSVAAECBAgQIECAAAECBAgQIECAQLUCEoDViilPgAABAgQIECBAgAABAgQIECBAIEUCEoApCpamEiBAgAABAgQIECBAgAABAgQIEKhWQAKwWjHlCRAgQIAAAQIECBAgQIAAAQIECKRIQAIwRcHSVAIECBAgQIAAAQIECBAgQIAAAQLVCkgAViumPAECBAgQIECAAAECBAgQIECAAIEUCUgApihYmkqAAAECBAgQIECAAAECBAgQIECgWgEJwGrFlCdAgAABAgQIECBAgAABAgQIECCQIgEJwBQFS1MJECBAgAABAgQIECBAgAABAgQIVCsgAVitmPIECBAgQIAAAQIECBAgQIAAAQIEUiQgAZiiYGkqAQIECBAgQIAAAQIECBAgQIAAgWoFJACrFVOeAAECBAgQIECAAAECBAgQIECAQIoEJABTFCxNJUCAAAECBAgQIECAAAECBAgQIFCtgARgtWLKEyBAgAABAgQIECBAgAABAgQIEEiRgARgioKlqQQIECBAgAABAgQIECBAgAABAgSqFZAArFZMeQIECBAgQIAAAQIECBAgQIAAAQIpEpAATFGwNJUAAQIECBAgQIAAAQIECBAgQIBAtQISgNWKKU+AAAECBAgQIECAAAECBAgQIEAgRQISgCkKlqYSIECAAAECBAgQIECAAAECBAgQqFZAArBaMeUJECBAgAABAgQIECBAgAABAgQIpEhAAjBFwdJUAgQIECBAgAABAgQIECBAgAABAtUKSABWK6Y8AQIECBAgQIAAAQIECBAgQIAAgRQJSACmKFiaSoAAAQIECBAgQIAAAQIECBAgQKBaAQnAasWUJ0CAAAECBAgQIECAAAECBAgQIJAiAQnAFAVLUwkQIECAAAECBAgQIECAAAECBAhUKyABWK2Y8gQIECBAgAABAgQIECBAgAABAgRSJCABmKJgaSoBAgQIECBAgAABAgQIECBAgACBagUkAKsVU54AAQIECBAgQIAAAQIECBAgQIBAigQkAFMULE0lQIAAAQIECBAgQIAAAQIECBAgUK2ABGC1YsoTIECAAAECBAgQIECAAAECBAgQSJGABGCKgqWpBAgQIECAAAECBAgQIECAAAECBKoVkACsVkx5AgQIECBAgAABAgQIECBAgAABAikSkABMUbA0lQABAgQIECBAgAABAgQIECBAgEC1AhKA1YopT4AAAQIECBAgQIAAAQIECBAgQCBFAhKAKQqWphIgQIAAAQIECBAgQIAAAQIECBCoVkACsFox5QkQIECAAAECBAgQIECAAAECBAikSEACMEXB0lQCBAgQIECAAAECBAgQIECAAAEC1QpIAFYrpjwBAgQIECBAgAABAgQIECBAgACBFAlIAKYoWJpKgAABAgQIECBAgAABAgQIECBAoFoBCcBqxZQnQIAAAQIECBAgQIAAAQIECBAgkCIBCcAUBUtTCRAgQIAAAQIECBAgQIAAAQIECFQrIAFYrZjyBAgQIECAAAECBAgQIECAAAECBFIkIAGYomBpKgECBAgQIECAAAECBAgQIECAAIFqBSQAqxVTngABAgQIECBAgAABAgQIECBAgECKBCQAUxQsTSVAgAABAgQIECBAgAABAgQIECBQrYAEYLViyhMgQIAAAQIECBAgQIAAAQIECBBIkYAEYIqCpakECBAgQIAAAQIECBAgQIAAAQIEqhWQAKxWTHkCBAgQIECAAAECBAgQIECAAAECKRKQAExRsDSVAAECBAgQIECAAAECBAgQIECAQLUCEoDViilPgAABAgQIECBAgAABAgQIECBAIEUCEoApCpamEiBAgAABAgQIECBAgAABAgQIEKhWQAKwWrEmKf/KK6+EG264IZxwwglht912C4MHDw4tLS3J14QJE5qkl7pBgAABAgQIECBAgAABAgQIECDQB0E2BdZcc81sdlyvCRAgQIAAAQIECBAgQIAAAQIZE3AFYMYCXqq7w4YNC2PHji21yzYCBAgQIECAAAECBAgQIECAAIGUC7gCMOUB7Gzz462/o0aNSr7i1YDPPfdcWGeddTpbneMIECBAgAABAgQIECBAgAABAgQaVEACsEEDU+9mnXzyyfU+hfoJECBAgAABAgQIECBAgAABAgQaQMAtwA0QBE0gQIAAAQIECBAgQIAAAQIECBAgUC8BCcB6yaqXAAECBAgQIECAAAECBAgQIECAQAMISAA2QBA0gQABAgQIECBAgAABAgQIECBAgEC9BDwDsF6yGa939uzZ7QrMmTOn3f12EiBAgAABAgQIECBAgAABAgQI1EZAArA2jmpZRmDo0KHLbPGSAAECBAgQIECAAAECBAgQIECgJwQkAHtC3TkJECBAgEA7Ai0t7exsgl2trU3QCV0gkHIB7zMpD6DmEyBAgACBKgUkAKsEU7wygVmzZrVbMN4CPHr06HbL2EmAAAECBAgQIECAAAECBAgQINB1AQnArhuqoYTAkCFDSmy1iQABAgQIECBAgAABAgQIECBAoLsFzALc3eLOR4AAAQIECBAgQIAAAQIECBAgQKAbBSQAuxHbqQgQIECAAAECBAgQIECAAAECBAh0t4AEYHeLOx8BAgQIECBAgAABAgQIECBAgACBbhSQAOxGbKciQIAAAQIECBAgQIAAAQIECBAg0N0CEoDdLe58BAgQIECAAAECBAgQIECAAAECBLpRwCzA3YjdSKeaPn16eOqppwpNmjdvXmE9bp86dWrhdVyZMGHCUq+9IECAAAECBAgQIECAAAECBAgQSIeABGA64lTzVl544YXhkksuKVnvjBkzQvwqXiQAizWsEyBAgAABAgQIECBAgAABAgTSI+AW4PTESksJECBAgAABAgQIECBAgAABAgQIVC0gAVg1WXMcEG/xbW1trfirOXqtFwQIECBAgAABAgQIECBAgACB7AlIAGYv5npMgAABAgQIECBAgAABAgQIECCQIQEJwAwFW1cJECBAgAABAgQIECBAgAABAgSyJyABmL2Y6zEBAgQIECBAgAABAgQIECBAgECGBCQAMxRsXSVAgAABAgQIECBAgAABAgQIEMiegARg9mKuxwQIECBAgAABAgQIECBAgAABAhkSkADMULB1lQABAgQIECBAgAABAgQIECBAIHsCEoDZi7keEyBAgAABAgQIECBAgAABAgQIZEhAAjBDwdZVAgQIECBAgAABAgQIECBAgACB7AlIAGYv5npMgAABAgQIECBAgAABAgQIECCQIQEJwAwFW1cJECBAgAABAgQIECBAgAABAgSyJyABmL2Y6zEBAgQIECBAgAABAgQIECBAgECGBCQAMxRsXSVAgAABAgQIECBAgAABAgQIEMiegARg9mKuxwQIECBAgAABAgQIECBAgAABAhkSkADMULB1lQABAgQIECBAgAABAgQIECBAIHsCEoDZi7keEyBAgAABAgQIECBAgAABAgQIZEhAAjBDwdZVAgQIECBAgAABAgQIECBAgACB7AlIAGYv5npMgAABAgQIECBAgAABAgQIECCQIQEJwAwFW1cJECBAgAABAgQIECBAgAABAgSyJyABmL2Y6zEBAgQIECBAgAABAgQIECBAgECGBCQAMxRsXSVAgAABAgQIECBAgAABAgQIEMiegARg9mKuxwQIECBAgAABAgQIECBAgAABAhkSkADMULB1lQABAgQIECBAgAABAgQIECBAIHsCEoDZi7keEyBAgAABAgQIECBAgAABAgQIZEhAAjBDwdZVAgQIECBAgAABAgQIECBAgACB7AlIAGYv5npMgAABAgQIECBAgAABAgQIECCQIQEJwAwFW1cJECBAgAABAgQIECBAgAABAgSyJyABmL2Y6zEBAgQIECBAgAABAgQIECBAgECGBCQAMxRsXSVAgAABAgQIECBAgAABAgQIEMiegARg9mKuxwQIECBAgAABAgQIECBAgAABAhkSkADMULB1lQABAgQIECBAgAABAgQIECBAIHsCEoDZi7keEyBAgAABAgQIECBAgAABAgQIZEhAAjBDwdZVAgQIECBAgAABAgQIECBAgACB7AlIAGYv5npMgAABAgQIECBAgAABAgQIECCQIQEJwAwFW1cJECBAgAABAgQIECBAgAABAgSyJyABmL2Y6zEBAgQIECBAgAABAgQIECBAgECGBCQAMxRsXSVAgAABAgQIECBAgAABAgQIEMiegARg9mKuxwQIECBAgAABAgQIECBAgAABAhkSkADMULB1lQABAgQIECBAgAABAgQIECBAIHsCEoDZi7keEyBAgAABAgQIECBAgAABAgQIZEhAAjBDwdZVAgQIECBAgAABAgQIECBAgACB7AlIAGYv5npMgAABAgQIECBAgAABAgQIECCQIQEJwAwFW1cJECBAgAABAgQIECBAgAABAgSyJyABmL2Y6zEBAgQIECBAgAABAgQIECBAgECGBCQAMxRsXSVAgAABAgQIECBAgAABAgQIEMiegARg9mKuxwQIECBAgAABAgQIECBAgAABAhkSkADMULB1lQABAgQIECBAgAABAgQIECBAIHsCEoDZi7keEyBAgAABAgQIECBAgAABAgQIZEhAAjBDwdZVAgQIECBAgAABAgQIECBAgACB7AlIAGYv5npMgAABAgQIECBAgAABAgQIECCQIQEJwAwFW1cJECBAgAABAgQIECBAgAABAgSyJyABmL2Y6zEBAgQIECBAgAABAgQIECBAgECGBCQAMxRsXSVAgAABAgQIECBAgAABAgQIEMiegARg9mKuxwQIECBAgAABAgQIECBAgAABAhkSkADMULB1lQABAgQIECBAgAABAgQIECBAIHsCEoDZi7keEyBAgAABAgQIECBAgAABAgQIZEhAAjBDwdZVAgQIECBAgAABAgQIECBAgACB7AlIAGYv5npMgAABAgQIECBAgAABAgQIECCQIQEJwAwFW1cJECBAgAABAgQIECBAgAABAgSyJyABmL2Y6zEBAgQIECBAgAABAgQIECBAgECGBCQAMxRsXSVAgAABAgQIECBAgAABAgQIEMiegARg9mKuxwQIECBAgAABAgQIECBAgAABAhkSkADMULB1lQABAgQIECBAgAABAgQIECBAIHsCEoDZi7keEyBAgAABAgQIECBAgAABAgQIZEhAAjBDwdZVAgQIECBAgAABAgQIECBAgACB7AlIAGYv5npMgAABAgQIECBAgAABAgQIECCQIQEJwAwFW1cJECBAgAABAgQIECBAgAABAgSyJyABmL2Yt+nx888/H4466qiw0UYbhQEDBoTVVlstjBo1KvzkJz8J8+fPb1PeBgIECBAgQIAAAQIECBAgQIAAgfQI9ElPU7W0HgLXX399GDduXHj77bcL1cek33333Zd8XXjhheHGG28M66+/fmG/FQIECBAgQIAAAQIECBAgQIAAgfQIuAIwPbGqeUsffPDBcPDBByfJv4EDB4Yf/OAH4S9/+Uu4/fbbw5e//OXkfE888UTYY489wjvvvFPz86uQAAECBAgQIECAAAECBAgQIECg/gKuAKy/ccOeYfLkyWHBggWhT58+4ZZbbgnbbLNNoa077bRT2GCDDcLRRx8dYhLwjDPOCCeddFJhvxUCBAgQIECAAAECBAgQIECAAIF0CLgCMB1xqnkrZ86cGaZNm5bUO2nSpKWSf/mTxecCbrzxxsnLc845J3z44Yf5Xf4nQIAAAQIECBAgQIAAAQIECBBIiYAEYEoCVetmXnvttYUqJ06cWFgvXunVq1c49NBDk01vvvlmuPPOO4t3WydAgAABAgQIECBAgAABAgQIEEiBgARgCoJUjyZOnz49qTbO+rvVVluVPcUOO+xQ2DdjxozCuhUCBAgQIECAAAECBAgQIECAAIF0CEgApiNONW/l448/ntQZZ/eNzwAst2y00UaFXfljChusECBAgAABAgQIECBAgAABAgQINLxA+cxPwzddAzsr8P7774d58+Ylhw8ZMqTdalZdddUQrxJ87733wqxZs9otW7xz9uzZxS/brBfXNWfOnDb7beg5gQ5C13MNa4AzsykdBC6lXeJWNqVtuJR2MWa4lBcov8f3U2kbLqVd4lY2pW24cCktUH5rmsZM8e/cixYtKt8pe5paQAKwqcNbunPvvPNOYcfAgQML6+VW8gnAd999t1yRNtuHDh3aZlu5DaNHjy63y/YeEKgidD3Qup49JZvS/lxKu8StbErbcCntYsxwKS9Qfo/vp9I2XEq7xK1sSttw4VJaoPzWtI6ZV199NYwYMaJ8x+xpWgG3ADdtaMt3LF4BmF/69euXXy37/3LLLZfsW7BgQdkydhAgQIAAAQIECBAgQIAAAQIECDSmgCsAGzMudW3V8ssvX6h/4cKFhfVyKx988EGyq3///uWKtNlefItvm525DTEJ+Y9//COsueaaYfXVV2/3OYSljs/CtniZdv7qyJkzZ4a11lorC93Wxy4IGDNdwMvoocZMRgPfhW4bM13Ay+ihxkxGA9+FbhszXcDL6KHGTMeBj7f9xiv/4rLZZpt1fIASTSkgAdiUYW2/UyuuuGKhQCW39cbn/8WlktuF8xV39GzBWC5OQGKpTCAm/yoxraw2pbIgYMxkIcq17aMxU1vPLNRmzGQhyrXtozFTW88s1GbMZCHKte2jMVPe022/5W2yssctwFmJdFE/4xWAgwYNSrZ0NFnHG2+8kUwAEgtX81y/otNZJUCAAAECBAgQIECAAAECBAgQ6EEBCcAexO/JU2+yySbJ6Z966qnQ3ixA8Tbd/LLxxhvnV/1PgAABAgQIECBAgAABAgQIECCQEgEJwJQEqtbN3HbbbZMq4+29999/f9nq77777sK+MWPGFNatECBAgAABAgQIECBAgAABAgQIpENAAjAdcap5K/fdd99CnRdffHFhvXhlyZIl4dJLL002rbLKKmHHHXcs3m2dAAECBAgQIECAAAECBAgQIEAgBQISgCkIUj2aGGeX3W677ZKqL7roonDPPfe0Oc0ZZ5wRHn/88WT75MmTQ9++fduUsYEAAQIECBAgQIAAAQIECBAgQKCxBcwC3NjxqWvrzjnnnBBv612wYEEYO3ZsOO6445Kr/OLryy+/PEyZMiU5/8iRI8NRRx1V17aonAABAgQIECBAgAABAgQIECBAoD4CEoD1cU1FrVtuuWX43e9+F8aNGxfefvvtJAG4bMNj8u/GG28MK6644rK7vCZAgAABAgQIECBAgAABAgQIEEiBQEtrbklBOzWxjgLPP/98iFcDxkTf7NmzQ79+/cL6668fDjzwwHDkkUeGFVZYoY5nVzUBAgQIECBAgAABAgQIECBAgEA9BSQA66mrbgIECBAgQIAAAQIECBAgQIAAAQI9LGASkB4OgNMTIECAAAECBAgQIECAAAECBAgQqKeABGA9ddVNgAABAgQIECBAgAABAgQIECBAoIcFJAB7OABOT4AAAQIECBAgQIAAAQIECBAgQKCeAhKA9dRVNwECBAgQIECAAAECBAgQIECAAIEeFpAA7OEAOD0BAgQIECBAgAABAgQIECBAgACBegpIANZTV90ECBAgQIAAAQIECBAgQIAAAQIEelhAArCHA+D0BAgQIECAAAECBAgQIECAAAECBOopIAFYT111EyBAgAABAgQIECBAgAABAgQIEOhhAQnAHg6A0xMgQIAAAQIECBAgQIAAAQIECBCop4AEYD111U2gSOCVV14JN9xwQzjhhBPCbrvtFgYPHhxaWlqSrwkTJhSV7Hj1ueeeC8ccc0zYaqutwiqrrBL69u0bVltttfDJT34ynHLKKSGey5Jugfvuuy+J5dixY8OQIUPCcsstFwYOHBhGjhwZJk6cGKZPn15VB//4xz+G/fbbr1BXrDO+jtstzSFQizEzf/78cM0114T/+I//CKNGjQqrrrpq8v4yaNCgsM0224STTjopvPzyy80BphehFmOmHGMcS+uuu27h59yIESPKFbU9RQL1GDO33XZbiJ+D1l9//TBgwICw8sorJz/rPvvZz4bzzjsvvPvuuykS0tRlBWo5Znz+XVa3+V6//fbb4fLLLw9HHXVU2GGHHZL3hfie0K9fv7DGGmuET33qU+HHP/5xeO211yrq/F/+8pcwbty4MHz48LD88suHj3zkI2HXXXcN//M//1PR8QoRaDqBVgsBAt0ikHvzaC33NX78+IrbcOmll7b279+/bF3xHLlkYOstt9xScZ0KNpbAdttt12588+Po0EMPbf3ggw/abfzixYtbJ02a1G59hx12WGssZ0mvQC3GzMMPP9yaSzK3O1bi2FtppZVacx/O04ul5YlALcZMe5S5X96WGku5X77aK25fCgRqPWZef/311n322WepcZL/+Vb8/4MPPpgCHU0sJVDLMePzbynh5tt26623dvieEN8fchdStN58883tApx44omtvXr1KlvfHnvs0bpgwYJ267CTQLMJ9Ml9A1kIEOhmgWHDhoWNNtoo5JJ0VZ15xowZyV/JlyxZEnI/0EIucRhyH57D2muvHV544YVwySWXhOuvvz7kPlQn2x999NHkCoyqTqJwjwu89NJLSRtiXA888MCQ+wAd4pjJJenCPffcE84444zw4osvhtyH4fDhhx+Gyy67rGybjz/++HDRRRcl+7fccstw9NFHh/XWWy88/fTTyV9Qc79YhQsvvDCsvvrq4bTTTitbjx2NLVCLMRP/6p6/0mbMmDFhzz33DJ/4xCdCvPrv1VdfTa4MvOCCC0Is94UvfCHkEoHJ1cyNLaN15QRqMWbK1R3fV84+++zkaot4hfo777xTrqjtKRKo5Zh56623wi677BLuv//+RCBekR6v+Is/n3r37h1mzZoV7r777nD11VenSEhTlxWo1Zjx+XdZ2eZ+PXTo0LDjjjsmdzrF9bXWWivE331mz54drrrqquTzyLx588Lee+8dZs6cGTbffPM2IOeff344+eSTk+3xfeW4444Lm222WYhj8pxzzgl33nlnuPHGG8OXvvSldj9Ht6nYBgJpF2i2jKb+EGhUgdytv6255Fxr7va5pInPPvts4S9SlV4BGP9SlXvPSb5+/vOfl+zqN7/5zUKZI444omQZGxtbIMb5d7/7XeuiRYtKNjSXjGnN3QpciHPul6SS5f75z3+29unTJymXS+S05m7JW6rce++91xq3xzEVyz355JNL7fciPQK1GDO5X7BaDzrooNa///3vZTt+7bXXtuYeXZCMmdwH6tbcB/KyZe1obIFajJlSPYzvW7nHUyRjJPdIitZ45V98j3EFYCmtdG2r5Zj54he/mIyL3OMtWv/whz+UhYjvMbk/dJXdb0djC9RqzMR6fP5t7FjXqnXlPvsW1//73/++MB5yfzwo3pWs524Pbs3dNpyUyf0BvTV+bi5e4jn22muvQh25ZGDxbusEmlogNHXvdI5AAwt0JgGYex5X8sMqd0VO2Z69+eabhR9oH//4x8uWsyPdAjGZnP8w/LWvfa1kZ3LPcSuUyV05WLJM3J6v5z//8z9LlrGxOQQqGTOV9PSAAw4ojJnc1TuVHKJMSgU6M2ZyVygn42PDDTdMHlEgAZjS4Hey2ZWMmWnTphXeQ37yk5908kwOaxaBSsaMz7/NEu3a9SP+jImfX+OtwMsuP/rRjwrvMbln/S27O3mdu8q4NXe1cVJu9913L1nGRgLNKGASkNw7h4VAWgQWLlyYNHWdddYp2+T4oNw4wUhc8uXLFrYjtQLx1oj8Em/nXXbJ/cAKuasqks3xdvOtt9562SLJ67g99yEqWY/l43GW5hToaMxU2uta1VPp+ZTrOYFqY/38888nE13FFv/yl79MHtrec6135p4QqGTM/OxnP0uaFj+vHHnkkT3RTOdsIIFKxkz+86zPvw0UuB5uyoorrpi04P3332/TktzdCsm2+KiS/fffv83+uCFOhvfpT3862Xf77bd7VEVJJRubUUACsBmjqk9NK5BP1OSuHizbx/h8rvhcjLjky5ctbEdqBXKTfxTaHp+XtOwSx0j+2TtxFrX2lvz++FzBOMOepTkFOhozlfa6VvVUej7lek6g2ljnriIOuUcLhNztnclMjT3XcmfuKYGOxkxM5OT/OBWfARhn5YxLfMZtfO5f/BlU6hf6nuqP89ZfoKMxE1uQ/zzr82/945GGM+QecRMeeuihpKnxj9zFS3yPic8FjMs222zT7h+i8p9/4xiMs1VbCGRBQAIwC1HWx6YR+OpXv5r0Jfdsi+TqilIdO/XUUwub8+ULG6w0jUB8OHp+2XjjjfOrhf8fe+yxwvqyH44KO/7/SvH+xx9/fNndXjeJQEdjptJu1qqeSs+nXM8JVBPr3MzQ4aabbgq5W/WSiYp6rtXO3JMCHY2Z3GzjhQRffCB//KPl17/+9eTOhTjZVbzCK14ZGJODd911V092xbm7SaCjMRObkf886/NvNwWlAU+Te451yD2rOpx55pkhJu5yz/FLWhnfP4qXJ554IvmDQtxW/Pm2uEx+vXi/z795Ff83u4BZgJs9wvrXVAJxpqrp06cns7/mJvhIZs+LM2DF2bHiLMC//vWvQ/6y9zj7a/7S9qZC0JlkJrTTTz+9IJGbuKGwnl+JM6Xll3ibQ3tLnGEtv8QrMCzNJxBnz+tozFTS6/jLe5w1Ly7xl/dSyedK6lGm8QWqGTNvvPFGksSJvYrjLM4qbsmeQCVjpviPU7F8nGk8/lJfvMQreG677bYQb8v74Q9/GI455pji3dabSKCSMRO76/NvEwW9iq5MnTo1TJw4sewRxx57bPj85z+/1H6ff5fi8IJAGwEJwDYkNhBoXIF4q+cll1wScjNXhdNOOy1ceOGFyVdxi+OzVOJU95J/xSrNtX7WWWcVbm+IzzbJzbjZpoPvvPNOYdvAgQML66VWBgwYUNj87rvvFtatNI9AJWOmo97GW2QOO+ywwl/Wf/CDH3R0iP0pFqhmzHz7298Oc+fOTW63+vKXv5ziXmt6VwQqGTOvv/564RS5B/UnVwN+5jOfCbkZo8PHPvax5IrAq6++OsRf7N96663k/3iVzj777FM4zkrzCFQyZmJvff5tnpjXoidbbLFFmDJlShg1alSb6nz+bUNiA4GlBNwCvBSHFwQaXyBeon7ppZeGRx55pGRjc7O6hosuuijE57lZmk8g3ioTfzGKyxprrBHOO++8kp0sfoZSv379SpbJb1xuueXyq2HBggWFdSvNIVDpmOmot/Fh/fln5IwfPz75Q0RHx9ifToFqxsyf//zn8Ktf/Sr06dMneTRFS0tLOjut1V0SqHTMxGdE5pf4cyre6nvDDTckv8jHn0Xx6tF4u2fc1qvX//2a8p3vfMcEVXm0Jvq/0jGT77LPv3mJ7Py/7777Jr/vxN954nP9cjP6hv322y95/t8hhxySvE8sq+Hz77IiXhNYWkACcGkPrwg0tMC0adOSKyyuv/768NGPfjS55ffll19OZvuNt27+/Oc/DyussEKIz2IaPXp0+Pvf/97Q/dG46gRiPOMHn/jck/jg9CuvvDJJApaqJf9g9bgvP3teqXJxW/EDuPv371+umO0pFKhmzLTXvXgbXrziOC7xL+7xvcbSnALVjJn43nH44YcnyZnJkycnV3A1p4petSdQzZgp/tkU64xXAZaayGrbbbctzN4ZEz/l/ujZXrvsa1yBasZM7IXPv40by3q2bJVVVgmbbrpp8hU/e3zuc58L11xzTXIhxDPPPJNcGRxvEy5eit9jfP4tlrFO4P8EJACNBAIpEYi/aMW/dsVbYj7ykY+Ev/71r2HcuHFhzTXXDH379k2ms48zMMarMeIPvzgDbLxKx9IcAnHmu7Fjx4b4rK34y1JM8m6//fZlO7fiiisW9nV0W2/xFRkd3S5cqNRKwwtUO2bKdej8889PHisQ98db8eJED8W3jZc7zvb0CVQ7ZuJt4HE2xvgc0ZNPPjl9HdbiLgtUO2aKfzbFq/223HLLsm3YddddC/vuvffewrqVdAtUO2Z8/k13vOvR+jjT/IEHHpg8EzvenVD8aIHi9xiff+uhr860C3gGYNojqP2ZEbj55psLt/V+7WtfS5KApTr/b//2b0liMF6tc//994f40P7NN9+8VFHbUiIQk7nxmY7x/3h7XbzdrqPnIRVP/FH8QORSXS6e+KN4QpBSZW1Lh0BnxkypnsXbbeIfFuIyfPjwcOuttyazdZYqa1u6BTozZuLVW3GJ70/xyvRSS/4PDPH/+IeLuMTHF+y0006lituWIoHOjJninzHFP6dKdbu47KuvvlqqiG0pE+jMmPH5N2VB7qbmxs/BV1xxRYg/W+IYyU8GUvy+4vNvNwXDaVIlIAGYqnBpbJYFiqen//jHP94uRZwUIn+73j/+8Q8JwHa1GnvnvHnzkmckxVsd4nLuueeGQw89tMNGb7LJJoUycQy0txTvN6tre1Lp2NfZMbNs76677rpkrMVZGuNM43FGzuIP1suW9zq9Ap0dM/nbqy6++OIQv9pb4jniVexx2WGHHSQA28NKwb7Ojpn4R8r8snjx4vxqyf+L98dnTFrSLdDZMePzb7rjXq/WF882//zzzxdOM3LkyOROmfj+Ufz5tlCgaKV4v8+/RTBWm1rALcBNHV6dayaB4g+/8Rlw7S0ffvhhYXfxcYWNVlIhEG/3jrdAPfbYY0l7Tz/99HDEEUdU1PZ11lknrL322knZ+KDt9pZ423hc4nMlR4wYkaz7J50CXRkzxT2Oyb6DDjooed7koEGDkiv/1ltvveIi1ptEoFZjpkk4dKMCga6MmXgl8bBhw5KzPPfcc+1O7vH0008XWhN/PlnSK9CVMVP8Odbn3/SOgVq3vHiyw+LH18SJ7+Jz0OMSJ0bM/6Gq1Pnzn4/jBESf+MQnShWxjUDTCUgANl1IdahZBWJCJ7/EhyG3t+R/oMUyxce1d4x9jSUwf/78sMcee4QHHnggadjxxx8fjjnmmIobGW8Vzt8mHP/CGZ8ZWWqJ2/N/AY3lzeBZSikd27o6ZvK9/Mtf/pKMnfjcpZVXXjn86U9/CsVX7eTL+T/9Al0dM62trUkCp73/Y8InLvH/fLm77ror2eaf9Al0dczEHh9wwAFJx99+++3kyuJyCvFh//klTgpiSadAV8dM8edYn3/TOQbq0eo4EV5+2WyzzfKryf9x9uC4xPeY4veRZOP//yfeHnzbbbclr3beeedQ/OzA4nLWCTSdQO7DmIUAgR4QyD0EuTX3hpJ85Sbr6LAFuckfWnMz/Cblcz+kWv/3f/+35DG5B/S39urVKymX+4t5a+4S+JLlbGxcgVzipTU34UdhfORm1+xUY3MP52/NTRiS1JP7y2Zr7kP4UvXE13F7HIe5v7C3PvHEE0vt9yI9ArUaMw8++GBrbta9ZEzkJvponT59enoQtLQqgVqNmY5Omkv8JeMp/m9Jt0Ctxkzudr3W3GRlybjI/eLemrs6rA3Mr3/962R//PmU+2NYm/02pEOgFmPG5990xLpWrcw9TqJ1wYIF7VZ35plnFt4fcgni1tyVoUuVf+2111pzf8As/OzJ3X6+1P5Yfq+99irUceeddy613wsCzSzQEjvXdFlNHSLQgAK5X6TDU089VWhZfBbKt7/97eT1mDFjwmGHHVbYF1cmTJiw1Ov44tRTTw0nnHBCsj1e7h4nA9lll13CqquuGubOnRv+8Ic/hAsuuCC5bS8Wyn2ATiYESQ7wT2oE4tUR+b9Yxgfln3322e1emRdvd4jPPCm1fOc73wnx1uG4xNkW41WE8VbOeGtVfIB/LuGT7IvlTjvttGTdP+kTqMWYiWPik5/8ZHjllVcSgLPOOiuZ3KE9jTiZQ/yypE+gFmOmkl7HxwrE5zPFKwDjLZ+W9ArUcsz85Cc/CUcffXSCseGGGyY/mz72sY8Vrtg577zzQnyG10orrRTuu+++sMEGG6QXLsMtr9WY8fk3O4Mo/sx45513kiuF45W/8TNr/J0nbnvkkUfCb3/72zBjxowEJH7+vfHGG0t+Vjn//PPDV7/61aRcrCPeSROvFIwT0cTP1bmkX7IvPpv2sssuyw6wnhJo5uymvhFoJIF4lV/uHafir1Jtzz2Mv/XrX/96a+42zXbr6du3b2vuw3WpKmxLgUA14ySWbe/KmngF6Je+9KV2x8ukSZNcKZqCcdFeE2sxZuJf3aut58QTT2yvWfY1sEC1sW7vfaa9bsbjOnqfau94+xpHoNZj5thjj23380zujwutuUcSNA6AllQtUKsx4/Nv1fSpPSD/M6OjsZOblKz1lltuabefuYsm2n2P2X333Tu82rDdE9hJIIUCptTKvbtYCKRFID6fLV6VM27cuGSW33hVYbyyIj5fJf51bP31109mV/zKV75S9oqwtPRVO2sjkLsdPFx00UXJX1KnTJkS7r333hCvPh08eHAYNWpUiGNlt912q83J1EKAAAECBCoU+OEPfxj23nvvEK/2i892mzNnTsjdGpx8fonb410O8TmkFgI+/2ZnDMTnDser+uJVfvHOqXiHU+6W3tC/f//kjoMtttgi7LnnnslEZblHI7ULc/LJJyeT6f385z9P3mNiXbnHnITNN988TJw4sTAzfbuV2EmgyQTcAtxkAdUdAgQIECBAgAABAgQIECBAgAABAsUCZgEu1rBOgAABAgQIECBAgAABAgQIECBAoMkEJACbLKC6Q4AAAQIECBAgQIAAAQIECBAgQKBYQAKwWMM6AQIECBAgQIAAAQIECBAgQIAAgSYTkABssoDqDgECBAgQIECAAAECBAgQIECAAIFiAQnAYg3rBAgQIECAAAECBAgQIECAAAECBJpMQAKwyQKqOwQIECBAgAABAgQIECBAgAABAgSKBSQAizWsEyBAgAABAgQIECBAgAABAgQIEGgyAQnAJguo7hAgQIAAAQIECBAgQIAAAQIECBAoFpAALNawToAAAQIECBAgQIAAAQIECBAgQKDJBCQAmyygukOAAAECBAgQIECAAAECBAgQIECgWEACsFjDOgECBAgQIECAAAECBAgQIECAAIEmE5AAbLKA6g4BAgQIECBAgAABAgQIECBAgACBYgEJwGIN6wQIECBAgAABAgQIECBAgAABAgSaTEACsMkCqjsECBAgQIAAAQIECBAgQIAAAQIEigUkAIs1rBMgQIAAAQIECBAgQIAAAQIECBBoMgEJwCYLqO4QIECAAAECBAgQIECAAAECBAgQKBaQACzWsE6AAAECBAgQINAtAnfddVdoaWlJvuK6hQABAgQIECBAoH4CEoD1s1UzAQIECBAgQIAAAQIECBAgQIAAgR4XkADs8RBoAAECBAgQIECAAAECBAgQIECAAIH6CUgA1s9WzQQIECBAgAABAgQIECBAgAABAgR6XEACsMdDoAEECBAgQIAAAQIECBAgQIAAAQIE6icgAVg/WzUTIECAAAECBAgQIECAAAECBAgQ6HEBCcAeD4EGECBAgAABAgTaF3jttdfC0UcfHTbccMPQv3//sOaaa4Zddtkl/P73v08OnDp1amFG3eeee26pykaMGJHsmzBhQrL9/vvvD3F9nXXWCcstt1yyr/iAZ555Jpxxxhlhr732CvHYeL74NXz48HDwwQeHm2++ubh42fUFCxaE0047LWy++eZhwIABYdCgQWHMmDHhggsuCEuWLCl73LI7Fi9eHC655JKw5557hrXXXjtpc6xr2223DWeeeWaI57EQIECAAAECBAi0L9DSmlvaL2IvAQIECBAgQIBATwk88sgjSbJv7ty5JZtw+OGHh2222SZMnDgx2f/ss88mibt84ZjEe/7558P48ePD1ltvHb72ta+FRYsW5Xcn/+c/DsZj11133aX2lXoxbty4cPHFF4c+ffqU2h1efvnlsNP/a+9eQ6La2gCOP53uEmlqYpF9CDOyLCKzqMyK0gyKItIoutCFEIKyC0FfKqgvQaFQdiMjFLOLkViUIkRKEFpaUZpdKLQLpFRUpmX1vudZvHvO5Fw8dpoz8zr/BZ7Ze62991r7N/MhnvPs/cycKbW1tU7Hk5KSZPPmzaKf2q5duybTp0832/b/qa+vl/nz58vdu3ftu3/ajoyMlMuXL0tUVNRP/ewggAACCCCAAAII/CXg/F9tf42zhQACCCCAAAIIIOAlgffv38ucOXPECv4tX75cli5dKgMHDpQnT55IZmamHDt2zG2AzFp6ZWWl5ObmSkREhGzdulViY2NNILC8vNw6RDTbrlevXiYwpxmG0dHREhwcLG/fvpVHjx7JoUOH5MGDB+Y6GijcvXu37VxrQ4OLmq1nBf8SExMlLS3NzKsBvayshfR5dgAACnJJREFULCkuLjbXtM5x9qlZj5rl19DQYLL+1q1bJwkJCSa4+enTJykpKTH3rw7JyclSVVUlgYGBzi5FHwIIIIAAAggg4PcCZAD6/U8AAAQQQAABBBDwVYH09HTJyMgwy9PPjRs3/rRUDdgtWrRICgsLbf2uMgD1gJiYGCkrK5OgoCDb8fYbzc3N8uHDBxk0aJB9t21bMwVXr14t+sixPtb78uVLh6CbBgk3bNhgztHsxKNHj9rOtzbWrFkj2dnZ1q7TDMBly5ZJXl6eefRYMwT1keX2rbq6WuLj40XXvWPHDtm7d2/7Q9hHAAEEEEAAAQQQ+FOAACA/AwQQQAABBBBAwAcFvnz5IuHh4aJZgBMmTJCKigqnq9TsQH3Mt7W11Yy7CwBq8E8DZv+kaTZgWFiYyRY8f/68CUDaX2/UqFFSU1Nj3lOo7xMMCAiwHzbbmsGnGYSNjY1mv/0jwPoeQ320VwOcRUVFJqPQ4SL/69i+fbvs27fPvB9QA5I0BBBAAAEEEEAAAUcBioA4mtCDAAIIIIAAAgh4XeDWrVsm+KcL0XfuuWpaEMR6l56rY7RfH/3tbPCvra1NXrx4YR7nvX//vujfq1evTEEPvWb7d/O9fv3aBP90LCUlxWnwT8f69etnxnXbWdN3+mnwT4OH+nivuzZt2jQzrOvSR4xpCCCAAAIIIIAAAo4CvAPQ0YQeBBBAAAEEEEDA6wIabLPa+PHjrU2nn/o+P/vHgJ0dNGbMGGfdDn0a9NP3Cubk5Ig+Yvv161eHY6yOpqYma9N8asESq2nWorsWFxdn3ino7BgNfmr7/Pmzy0Ijzs7T4iNDhw51NkQfAggggAACCCDg1wIEAP366+fmEUAAAQQQQMBXBd69e2dbmhb9cNc6GtdzBwwY4O4SZkwf79WiHbdv3+7wWD2gpaXlp+P0fKvpY8LummYuumpv3rxxNeS2XwOGNAQQQAABBBBAAAFHAQKAjib0IIAAAggggAACXU6ge/fuHd6TFhmxgn8LFiwwBT80c1CDeX369JFu3bqZa2iWnVbn1aIgrpp1rKtxd/36+K+20NBQUyDE3bH2Y84KhdiPs40AAggggAACCPirAAFAf/3muW8EEEAAAQQQ8GkB+4w9LZYRFRXlcr1WMQ2XB/yNAa3+e+bMGXOkVuDNzc11eZZ9dqL9QfZr1uIk7pq78ZCQEHPqx48fZeTIkfJ3gpfu5mIMAQQQQAABBBDwdwGKgPj7L4D7RwABBBBAAAGfFNBqulazsvKs/faf1jvz2vd3Zv/x48ei7//Tlpqa6vLUhw8filbxddZiYmJs3ZWVlbZtZxvuxseNG2dO0UrIv+PenM1PHwIIIIAAAggg4E8CBAD96dvmXhFAAAEEEEDg/0ZAC3sEBgaa9brLxtNMuuLi4n98X9++fbNdo7m52bbdfuPIkSPtu2z7gwcPNhl72nHu3DmHdwRaB+r1z549a+06fM6bN8/2uHFGRobDOB0IIIAAAggggAACnRMgANg5L45GAAEEEEAAAQT+FQF9596KFSvMXJotl5mZ6TDvjx8/ZP369dLa2uow1tmOyMhIW9Dt1KlTTt/vV1RUJAcPHnR76bS0NDOuFXm3bNni9Nj09HRxV+hjxIgRsnjxYnNufn6+HDhwwOl1rM5nz57J6dOnrV0+EUAAAQQQQAABBNoJEABsB8IuAggggAACCCDgKwK7du2S8PBws5xNmzaZgKBm+1VVVZkMuvj4eCksLJS4uDjbkn+1+Ia+d2/u3LnmOlevXjXVgC9cuGCKgly5ckXWrl0rCxculGHDhom7qsMaALQe4T18+LAkJyebNeqada1JSUly/Phx0QxHd03P1bm0aSAxISFBTpw4ITdv3pTq6mopLS2V/fv3y+zZs0WDlwUFBe4uxxgCCCCAAAIIIODXAhQB8euvn5tHAAEEEEAAAV8WCA4OFg3GaZBLC33k5OSYP/s1r1q1SjQQWFFRYbo1c/BXmwbdpk6dKvX19SbApkE2+6bVfy9evGgLFNqPWds9evSQS5cuycyZM6Wurs6sX+/BviUmJpqgngYDXTW99xs3bkhKSoqUl5dLWVmZ+XN1fP/+/V0N0Y8AAggggAACCPi9ABmAfv8TAAABBBBAAAEEfFlg7NixUlNTYwJmw4cPl969e0toaKjMmDFD8vLy5OTJk6IVfK1mvTfQ2u/MZ0REhMku3LZtm6k6rHPp9XQNO3fulDt37kh0dHSHl9R3AWqW3p49e2T06NHSt29fCQoKkkmTJklWVpZoRmGvXr06vI5mP2rgTwOKWplYMwIDAgKkZ8+eJgtx8uTJxuX69euSnZ3d4fU4AAEEEEAAAQQQ8FeBbv/5s/nrzXPfCCCAAAIIIIBAVxDQx3P18dghQ4ZIQ0NDV7gl7gEBBBBAAAEEEEDgNwqQAfgbMbkUAggggAACCCDwbwu0tLSYd+vpvJphR0MAAQQQQAABBBBAoL0AAcD2IuwjgAACCCCAAAI+JPD06VOnFXl1id+/fxctutHU1GRWvHLlSh9aOUtBAAEEEEAAAQQQ8BUBHgH2lW+CdSCAAAIIIIAAAk4EtMiHFvhYsmSJTJw4UcLCwkSz/u7du2eq6Wp1XW2zZs2SkpIS+dUqwE6mpgsBBBBAAAEEEECgiwhQBbiLfJHcBgIIIIAAAgh0XYHa2lpThMPVHU6ZMkXy8/MJ/rkCoh8BBBBAAAEEEPBzATIA/fwHwO0jgAACCCCAgG8L1NXVSUFBgZSWlsrz58+lsbFR2traJCQkRGJjYyU1NdVkB/7xB2928e1vktUhgAACCCCAAALeEyAA6D17ZkYAAQQQQAABBBBAAAEEEEAAAQQQQMDjAvyvYo8TMwECCCCAAAIIIIAAAggggAACCCCAAALeEyAA6D17ZkYAAQQQQAABBBBAAAEEEEAAAQQQQMDjAgQAPU7MBAgggAACCCCAAAIIIIAAAggggAACCHhPgACg9+yZGQEEEEAAAQQQQAABBBBAAAEEEEAAAY8LEAD0ODETIIAAAggggAACCCCAAAIIIIAAAggg4D0BAoDes2dmBBBAAAEEEEAAAQQQQAABBBBAAAEEPC5AANDjxEyAAAIIIIAAAggggAACCCCAAAIIIICA9wQIAHrPnpkRQAABBBBAAAEEEEAAAQQQQAABBBDwuAABQI8TMwECCCCAAAIIIIAAAggggAACCCCAAALeEyAA6D17ZkYAAQQQQAABBBBAAAEEEEAAAQQQQMDjAgQAPU7MBAgggAACCCCAAAIIIIAAAggggAACCHhPgACg9+yZGQEEEEAAAQQQQAABBBBAAAEEEEAAAY8LEAD0ODETIIAAAggggAACCCCAAAIIIIAAAggg4D0BAoDes2dmBBBAAAEEEEAAAQQQQAABBBBAAAEEPC5AANDjxEyAAAIIIIAAAggggAACCCCAAAIIIICA9wQIAHrPnpkRQAABBBBAAAEEEEAAAQQQQAABBBDwuAABQI8TMwECCCCAAAIIIIAAAggggAACCCCAAALeEyAA6D17ZkYAAQQQQAABBBBAAAEEEEAAAQQQQMDjAv8Fc6X0Nn8RzyYAAAAASUVORK5CYII=\" width=\"640\">"
      ],
      "text/plain": [
       "<IPython.core.display.HTML object>"
      ]
     },
     "metadata": {},
     "output_type": "display_data"
    },
    {
     "data": {
      "text/plain": [
       "Text(0, 0.5, 'frequency')"
      ]
     },
     "execution_count": 171,
     "metadata": {},
     "output_type": "execute_result"
    }
   ],
   "source": [
    "%matplotlib notebook\n",
    "import matplotlib.pyplot as plt\n",
    "\n",
    "plt.bar(data.keys(), data.values(), color='blue')\n",
    "plt.title(\"distribution of grades in midterm\")\n",
    "plt.xlabel('grade')\n",
    "plt.ylabel('frequency')"
   ]
  },
  {
   "cell_type": "markdown",
   "metadata": {},
   "source": [
    "You could also create a histogram using the `matplotlib.pyplot.histogram`"
   ]
  },
  {
   "cell_type": "code",
   "execution_count": 172,
   "metadata": {},
   "outputs": [
    {
     "data": {
      "application/javascript": [
       "/* Put everything inside the global mpl namespace */\n",
       "window.mpl = {};\n",
       "\n",
       "\n",
       "mpl.get_websocket_type = function() {\n",
       "    if (typeof(WebSocket) !== 'undefined') {\n",
       "        return WebSocket;\n",
       "    } else if (typeof(MozWebSocket) !== 'undefined') {\n",
       "        return MozWebSocket;\n",
       "    } else {\n",
       "        alert('Your browser does not have WebSocket support.' +\n",
       "              'Please try Chrome, Safari or Firefox ≥ 6. ' +\n",
       "              'Firefox 4 and 5 are also supported but you ' +\n",
       "              'have to enable WebSockets in about:config.');\n",
       "    };\n",
       "}\n",
       "\n",
       "mpl.figure = function(figure_id, websocket, ondownload, parent_element) {\n",
       "    this.id = figure_id;\n",
       "\n",
       "    this.ws = websocket;\n",
       "\n",
       "    this.supports_binary = (this.ws.binaryType != undefined);\n",
       "\n",
       "    if (!this.supports_binary) {\n",
       "        var warnings = document.getElementById(\"mpl-warnings\");\n",
       "        if (warnings) {\n",
       "            warnings.style.display = 'block';\n",
       "            warnings.textContent = (\n",
       "                \"This browser does not support binary websocket messages. \" +\n",
       "                    \"Performance may be slow.\");\n",
       "        }\n",
       "    }\n",
       "\n",
       "    this.imageObj = new Image();\n",
       "\n",
       "    this.context = undefined;\n",
       "    this.message = undefined;\n",
       "    this.canvas = undefined;\n",
       "    this.rubberband_canvas = undefined;\n",
       "    this.rubberband_context = undefined;\n",
       "    this.format_dropdown = undefined;\n",
       "\n",
       "    this.image_mode = 'full';\n",
       "\n",
       "    this.root = $('<div/>');\n",
       "    this._root_extra_style(this.root)\n",
       "    this.root.attr('style', 'display: inline-block');\n",
       "\n",
       "    $(parent_element).append(this.root);\n",
       "\n",
       "    this._init_header(this);\n",
       "    this._init_canvas(this);\n",
       "    this._init_toolbar(this);\n",
       "\n",
       "    var fig = this;\n",
       "\n",
       "    this.waiting = false;\n",
       "\n",
       "    this.ws.onopen =  function () {\n",
       "            fig.send_message(\"supports_binary\", {value: fig.supports_binary});\n",
       "            fig.send_message(\"send_image_mode\", {});\n",
       "            if (mpl.ratio != 1) {\n",
       "                fig.send_message(\"set_dpi_ratio\", {'dpi_ratio': mpl.ratio});\n",
       "            }\n",
       "            fig.send_message(\"refresh\", {});\n",
       "        }\n",
       "\n",
       "    this.imageObj.onload = function() {\n",
       "            if (fig.image_mode == 'full') {\n",
       "                // Full images could contain transparency (where diff images\n",
       "                // almost always do), so we need to clear the canvas so that\n",
       "                // there is no ghosting.\n",
       "                fig.context.clearRect(0, 0, fig.canvas.width, fig.canvas.height);\n",
       "            }\n",
       "            fig.context.drawImage(fig.imageObj, 0, 0);\n",
       "        };\n",
       "\n",
       "    this.imageObj.onunload = function() {\n",
       "        fig.ws.close();\n",
       "    }\n",
       "\n",
       "    this.ws.onmessage = this._make_on_message_function(this);\n",
       "\n",
       "    this.ondownload = ondownload;\n",
       "}\n",
       "\n",
       "mpl.figure.prototype._init_header = function() {\n",
       "    var titlebar = $(\n",
       "        '<div class=\"ui-dialog-titlebar ui-widget-header ui-corner-all ' +\n",
       "        'ui-helper-clearfix\"/>');\n",
       "    var titletext = $(\n",
       "        '<div class=\"ui-dialog-title\" style=\"width: 100%; ' +\n",
       "        'text-align: center; padding: 3px;\"/>');\n",
       "    titlebar.append(titletext)\n",
       "    this.root.append(titlebar);\n",
       "    this.header = titletext[0];\n",
       "}\n",
       "\n",
       "\n",
       "\n",
       "mpl.figure.prototype._canvas_extra_style = function(canvas_div) {\n",
       "\n",
       "}\n",
       "\n",
       "\n",
       "mpl.figure.prototype._root_extra_style = function(canvas_div) {\n",
       "\n",
       "}\n",
       "\n",
       "mpl.figure.prototype._init_canvas = function() {\n",
       "    var fig = this;\n",
       "\n",
       "    var canvas_div = $('<div/>');\n",
       "\n",
       "    canvas_div.attr('style', 'position: relative; clear: both; outline: 0');\n",
       "\n",
       "    function canvas_keyboard_event(event) {\n",
       "        return fig.key_event(event, event['data']);\n",
       "    }\n",
       "\n",
       "    canvas_div.keydown('key_press', canvas_keyboard_event);\n",
       "    canvas_div.keyup('key_release', canvas_keyboard_event);\n",
       "    this.canvas_div = canvas_div\n",
       "    this._canvas_extra_style(canvas_div)\n",
       "    this.root.append(canvas_div);\n",
       "\n",
       "    var canvas = $('<canvas/>');\n",
       "    canvas.addClass('mpl-canvas');\n",
       "    canvas.attr('style', \"left: 0; top: 0; z-index: 0; outline: 0\")\n",
       "\n",
       "    this.canvas = canvas[0];\n",
       "    this.context = canvas[0].getContext(\"2d\");\n",
       "\n",
       "    var backingStore = this.context.backingStorePixelRatio ||\n",
       "\tthis.context.webkitBackingStorePixelRatio ||\n",
       "\tthis.context.mozBackingStorePixelRatio ||\n",
       "\tthis.context.msBackingStorePixelRatio ||\n",
       "\tthis.context.oBackingStorePixelRatio ||\n",
       "\tthis.context.backingStorePixelRatio || 1;\n",
       "\n",
       "    mpl.ratio = (window.devicePixelRatio || 1) / backingStore;\n",
       "\n",
       "    var rubberband = $('<canvas/>');\n",
       "    rubberband.attr('style', \"position: absolute; left: 0; top: 0; z-index: 1;\")\n",
       "\n",
       "    var pass_mouse_events = true;\n",
       "\n",
       "    canvas_div.resizable({\n",
       "        start: function(event, ui) {\n",
       "            pass_mouse_events = false;\n",
       "        },\n",
       "        resize: function(event, ui) {\n",
       "            fig.request_resize(ui.size.width, ui.size.height);\n",
       "        },\n",
       "        stop: function(event, ui) {\n",
       "            pass_mouse_events = true;\n",
       "            fig.request_resize(ui.size.width, ui.size.height);\n",
       "        },\n",
       "    });\n",
       "\n",
       "    function mouse_event_fn(event) {\n",
       "        if (pass_mouse_events)\n",
       "            return fig.mouse_event(event, event['data']);\n",
       "    }\n",
       "\n",
       "    rubberband.mousedown('button_press', mouse_event_fn);\n",
       "    rubberband.mouseup('button_release', mouse_event_fn);\n",
       "    // Throttle sequential mouse events to 1 every 20ms.\n",
       "    rubberband.mousemove('motion_notify', mouse_event_fn);\n",
       "\n",
       "    rubberband.mouseenter('figure_enter', mouse_event_fn);\n",
       "    rubberband.mouseleave('figure_leave', mouse_event_fn);\n",
       "\n",
       "    canvas_div.on(\"wheel\", function (event) {\n",
       "        event = event.originalEvent;\n",
       "        event['data'] = 'scroll'\n",
       "        if (event.deltaY < 0) {\n",
       "            event.step = 1;\n",
       "        } else {\n",
       "            event.step = -1;\n",
       "        }\n",
       "        mouse_event_fn(event);\n",
       "    });\n",
       "\n",
       "    canvas_div.append(canvas);\n",
       "    canvas_div.append(rubberband);\n",
       "\n",
       "    this.rubberband = rubberband;\n",
       "    this.rubberband_canvas = rubberband[0];\n",
       "    this.rubberband_context = rubberband[0].getContext(\"2d\");\n",
       "    this.rubberband_context.strokeStyle = \"#000000\";\n",
       "\n",
       "    this._resize_canvas = function(width, height) {\n",
       "        // Keep the size of the canvas, canvas container, and rubber band\n",
       "        // canvas in synch.\n",
       "        canvas_div.css('width', width)\n",
       "        canvas_div.css('height', height)\n",
       "\n",
       "        canvas.attr('width', width * mpl.ratio);\n",
       "        canvas.attr('height', height * mpl.ratio);\n",
       "        canvas.attr('style', 'width: ' + width + 'px; height: ' + height + 'px;');\n",
       "\n",
       "        rubberband.attr('width', width);\n",
       "        rubberband.attr('height', height);\n",
       "    }\n",
       "\n",
       "    // Set the figure to an initial 600x600px, this will subsequently be updated\n",
       "    // upon first draw.\n",
       "    this._resize_canvas(600, 600);\n",
       "\n",
       "    // Disable right mouse context menu.\n",
       "    $(this.rubberband_canvas).bind(\"contextmenu\",function(e){\n",
       "        return false;\n",
       "    });\n",
       "\n",
       "    function set_focus () {\n",
       "        canvas.focus();\n",
       "        canvas_div.focus();\n",
       "    }\n",
       "\n",
       "    window.setTimeout(set_focus, 100);\n",
       "}\n",
       "\n",
       "mpl.figure.prototype._init_toolbar = function() {\n",
       "    var fig = this;\n",
       "\n",
       "    var nav_element = $('<div/>')\n",
       "    nav_element.attr('style', 'width: 100%');\n",
       "    this.root.append(nav_element);\n",
       "\n",
       "    // Define a callback function for later on.\n",
       "    function toolbar_event(event) {\n",
       "        return fig.toolbar_button_onclick(event['data']);\n",
       "    }\n",
       "    function toolbar_mouse_event(event) {\n",
       "        return fig.toolbar_button_onmouseover(event['data']);\n",
       "    }\n",
       "\n",
       "    for(var toolbar_ind in mpl.toolbar_items) {\n",
       "        var name = mpl.toolbar_items[toolbar_ind][0];\n",
       "        var tooltip = mpl.toolbar_items[toolbar_ind][1];\n",
       "        var image = mpl.toolbar_items[toolbar_ind][2];\n",
       "        var method_name = mpl.toolbar_items[toolbar_ind][3];\n",
       "\n",
       "        if (!name) {\n",
       "            // put a spacer in here.\n",
       "            continue;\n",
       "        }\n",
       "        var button = $('<button/>');\n",
       "        button.addClass('ui-button ui-widget ui-state-default ui-corner-all ' +\n",
       "                        'ui-button-icon-only');\n",
       "        button.attr('role', 'button');\n",
       "        button.attr('aria-disabled', 'false');\n",
       "        button.click(method_name, toolbar_event);\n",
       "        button.mouseover(tooltip, toolbar_mouse_event);\n",
       "\n",
       "        var icon_img = $('<span/>');\n",
       "        icon_img.addClass('ui-button-icon-primary ui-icon');\n",
       "        icon_img.addClass(image);\n",
       "        icon_img.addClass('ui-corner-all');\n",
       "\n",
       "        var tooltip_span = $('<span/>');\n",
       "        tooltip_span.addClass('ui-button-text');\n",
       "        tooltip_span.html(tooltip);\n",
       "\n",
       "        button.append(icon_img);\n",
       "        button.append(tooltip_span);\n",
       "\n",
       "        nav_element.append(button);\n",
       "    }\n",
       "\n",
       "    var fmt_picker_span = $('<span/>');\n",
       "\n",
       "    var fmt_picker = $('<select/>');\n",
       "    fmt_picker.addClass('mpl-toolbar-option ui-widget ui-widget-content');\n",
       "    fmt_picker_span.append(fmt_picker);\n",
       "    nav_element.append(fmt_picker_span);\n",
       "    this.format_dropdown = fmt_picker[0];\n",
       "\n",
       "    for (var ind in mpl.extensions) {\n",
       "        var fmt = mpl.extensions[ind];\n",
       "        var option = $(\n",
       "            '<option/>', {selected: fmt === mpl.default_extension}).html(fmt);\n",
       "        fmt_picker.append(option)\n",
       "    }\n",
       "\n",
       "    // Add hover states to the ui-buttons\n",
       "    $( \".ui-button\" ).hover(\n",
       "        function() { $(this).addClass(\"ui-state-hover\");},\n",
       "        function() { $(this).removeClass(\"ui-state-hover\");}\n",
       "    );\n",
       "\n",
       "    var status_bar = $('<span class=\"mpl-message\"/>');\n",
       "    nav_element.append(status_bar);\n",
       "    this.message = status_bar[0];\n",
       "}\n",
       "\n",
       "mpl.figure.prototype.request_resize = function(x_pixels, y_pixels) {\n",
       "    // Request matplotlib to resize the figure. Matplotlib will then trigger a resize in the client,\n",
       "    // which will in turn request a refresh of the image.\n",
       "    this.send_message('resize', {'width': x_pixels, 'height': y_pixels});\n",
       "}\n",
       "\n",
       "mpl.figure.prototype.send_message = function(type, properties) {\n",
       "    properties['type'] = type;\n",
       "    properties['figure_id'] = this.id;\n",
       "    this.ws.send(JSON.stringify(properties));\n",
       "}\n",
       "\n",
       "mpl.figure.prototype.send_draw_message = function() {\n",
       "    if (!this.waiting) {\n",
       "        this.waiting = true;\n",
       "        this.ws.send(JSON.stringify({type: \"draw\", figure_id: this.id}));\n",
       "    }\n",
       "}\n",
       "\n",
       "\n",
       "mpl.figure.prototype.handle_save = function(fig, msg) {\n",
       "    var format_dropdown = fig.format_dropdown;\n",
       "    var format = format_dropdown.options[format_dropdown.selectedIndex].value;\n",
       "    fig.ondownload(fig, format);\n",
       "}\n",
       "\n",
       "\n",
       "mpl.figure.prototype.handle_resize = function(fig, msg) {\n",
       "    var size = msg['size'];\n",
       "    if (size[0] != fig.canvas.width || size[1] != fig.canvas.height) {\n",
       "        fig._resize_canvas(size[0], size[1]);\n",
       "        fig.send_message(\"refresh\", {});\n",
       "    };\n",
       "}\n",
       "\n",
       "mpl.figure.prototype.handle_rubberband = function(fig, msg) {\n",
       "    var x0 = msg['x0'] / mpl.ratio;\n",
       "    var y0 = (fig.canvas.height - msg['y0']) / mpl.ratio;\n",
       "    var x1 = msg['x1'] / mpl.ratio;\n",
       "    var y1 = (fig.canvas.height - msg['y1']) / mpl.ratio;\n",
       "    x0 = Math.floor(x0) + 0.5;\n",
       "    y0 = Math.floor(y0) + 0.5;\n",
       "    x1 = Math.floor(x1) + 0.5;\n",
       "    y1 = Math.floor(y1) + 0.5;\n",
       "    var min_x = Math.min(x0, x1);\n",
       "    var min_y = Math.min(y0, y1);\n",
       "    var width = Math.abs(x1 - x0);\n",
       "    var height = Math.abs(y1 - y0);\n",
       "\n",
       "    fig.rubberband_context.clearRect(\n",
       "        0, 0, fig.canvas.width, fig.canvas.height);\n",
       "\n",
       "    fig.rubberband_context.strokeRect(min_x, min_y, width, height);\n",
       "}\n",
       "\n",
       "mpl.figure.prototype.handle_figure_label = function(fig, msg) {\n",
       "    // Updates the figure title.\n",
       "    fig.header.textContent = msg['label'];\n",
       "}\n",
       "\n",
       "mpl.figure.prototype.handle_cursor = function(fig, msg) {\n",
       "    var cursor = msg['cursor'];\n",
       "    switch(cursor)\n",
       "    {\n",
       "    case 0:\n",
       "        cursor = 'pointer';\n",
       "        break;\n",
       "    case 1:\n",
       "        cursor = 'default';\n",
       "        break;\n",
       "    case 2:\n",
       "        cursor = 'crosshair';\n",
       "        break;\n",
       "    case 3:\n",
       "        cursor = 'move';\n",
       "        break;\n",
       "    }\n",
       "    fig.rubberband_canvas.style.cursor = cursor;\n",
       "}\n",
       "\n",
       "mpl.figure.prototype.handle_message = function(fig, msg) {\n",
       "    fig.message.textContent = msg['message'];\n",
       "}\n",
       "\n",
       "mpl.figure.prototype.handle_draw = function(fig, msg) {\n",
       "    // Request the server to send over a new figure.\n",
       "    fig.send_draw_message();\n",
       "}\n",
       "\n",
       "mpl.figure.prototype.handle_image_mode = function(fig, msg) {\n",
       "    fig.image_mode = msg['mode'];\n",
       "}\n",
       "\n",
       "mpl.figure.prototype.updated_canvas_event = function() {\n",
       "    // Called whenever the canvas gets updated.\n",
       "    this.send_message(\"ack\", {});\n",
       "}\n",
       "\n",
       "// A function to construct a web socket function for onmessage handling.\n",
       "// Called in the figure constructor.\n",
       "mpl.figure.prototype._make_on_message_function = function(fig) {\n",
       "    return function socket_on_message(evt) {\n",
       "        if (evt.data instanceof Blob) {\n",
       "            /* FIXME: We get \"Resource interpreted as Image but\n",
       "             * transferred with MIME type text/plain:\" errors on\n",
       "             * Chrome.  But how to set the MIME type?  It doesn't seem\n",
       "             * to be part of the websocket stream */\n",
       "            evt.data.type = \"image/png\";\n",
       "\n",
       "            /* Free the memory for the previous frames */\n",
       "            if (fig.imageObj.src) {\n",
       "                (window.URL || window.webkitURL).revokeObjectURL(\n",
       "                    fig.imageObj.src);\n",
       "            }\n",
       "\n",
       "            fig.imageObj.src = (window.URL || window.webkitURL).createObjectURL(\n",
       "                evt.data);\n",
       "            fig.updated_canvas_event();\n",
       "            fig.waiting = false;\n",
       "            return;\n",
       "        }\n",
       "        else if (typeof evt.data === 'string' && evt.data.slice(0, 21) == \"data:image/png;base64\") {\n",
       "            fig.imageObj.src = evt.data;\n",
       "            fig.updated_canvas_event();\n",
       "            fig.waiting = false;\n",
       "            return;\n",
       "        }\n",
       "\n",
       "        var msg = JSON.parse(evt.data);\n",
       "        var msg_type = msg['type'];\n",
       "\n",
       "        // Call the  \"handle_{type}\" callback, which takes\n",
       "        // the figure and JSON message as its only arguments.\n",
       "        try {\n",
       "            var callback = fig[\"handle_\" + msg_type];\n",
       "        } catch (e) {\n",
       "            console.log(\"No handler for the '\" + msg_type + \"' message type: \", msg);\n",
       "            return;\n",
       "        }\n",
       "\n",
       "        if (callback) {\n",
       "            try {\n",
       "                // console.log(\"Handling '\" + msg_type + \"' message: \", msg);\n",
       "                callback(fig, msg);\n",
       "            } catch (e) {\n",
       "                console.log(\"Exception inside the 'handler_\" + msg_type + \"' callback:\", e, e.stack, msg);\n",
       "            }\n",
       "        }\n",
       "    };\n",
       "}\n",
       "\n",
       "// from http://stackoverflow.com/questions/1114465/getting-mouse-location-in-canvas\n",
       "mpl.findpos = function(e) {\n",
       "    //this section is from http://www.quirksmode.org/js/events_properties.html\n",
       "    var targ;\n",
       "    if (!e)\n",
       "        e = window.event;\n",
       "    if (e.target)\n",
       "        targ = e.target;\n",
       "    else if (e.srcElement)\n",
       "        targ = e.srcElement;\n",
       "    if (targ.nodeType == 3) // defeat Safari bug\n",
       "        targ = targ.parentNode;\n",
       "\n",
       "    // jQuery normalizes the pageX and pageY\n",
       "    // pageX,Y are the mouse positions relative to the document\n",
       "    // offset() returns the position of the element relative to the document\n",
       "    var x = e.pageX - $(targ).offset().left;\n",
       "    var y = e.pageY - $(targ).offset().top;\n",
       "\n",
       "    return {\"x\": x, \"y\": y};\n",
       "};\n",
       "\n",
       "/*\n",
       " * return a copy of an object with only non-object keys\n",
       " * we need this to avoid circular references\n",
       " * http://stackoverflow.com/a/24161582/3208463\n",
       " */\n",
       "function simpleKeys (original) {\n",
       "  return Object.keys(original).reduce(function (obj, key) {\n",
       "    if (typeof original[key] !== 'object')\n",
       "        obj[key] = original[key]\n",
       "    return obj;\n",
       "  }, {});\n",
       "}\n",
       "\n",
       "mpl.figure.prototype.mouse_event = function(event, name) {\n",
       "    var canvas_pos = mpl.findpos(event)\n",
       "\n",
       "    if (name === 'button_press')\n",
       "    {\n",
       "        this.canvas.focus();\n",
       "        this.canvas_div.focus();\n",
       "    }\n",
       "\n",
       "    var x = canvas_pos.x * mpl.ratio;\n",
       "    var y = canvas_pos.y * mpl.ratio;\n",
       "\n",
       "    this.send_message(name, {x: x, y: y, button: event.button,\n",
       "                             step: event.step,\n",
       "                             guiEvent: simpleKeys(event)});\n",
       "\n",
       "    /* This prevents the web browser from automatically changing to\n",
       "     * the text insertion cursor when the button is pressed.  We want\n",
       "     * to control all of the cursor setting manually through the\n",
       "     * 'cursor' event from matplotlib */\n",
       "    event.preventDefault();\n",
       "    return false;\n",
       "}\n",
       "\n",
       "mpl.figure.prototype._key_event_extra = function(event, name) {\n",
       "    // Handle any extra behaviour associated with a key event\n",
       "}\n",
       "\n",
       "mpl.figure.prototype.key_event = function(event, name) {\n",
       "\n",
       "    // Prevent repeat events\n",
       "    if (name == 'key_press')\n",
       "    {\n",
       "        if (event.which === this._key)\n",
       "            return;\n",
       "        else\n",
       "            this._key = event.which;\n",
       "    }\n",
       "    if (name == 'key_release')\n",
       "        this._key = null;\n",
       "\n",
       "    var value = '';\n",
       "    if (event.ctrlKey && event.which != 17)\n",
       "        value += \"ctrl+\";\n",
       "    if (event.altKey && event.which != 18)\n",
       "        value += \"alt+\";\n",
       "    if (event.shiftKey && event.which != 16)\n",
       "        value += \"shift+\";\n",
       "\n",
       "    value += 'k';\n",
       "    value += event.which.toString();\n",
       "\n",
       "    this._key_event_extra(event, name);\n",
       "\n",
       "    this.send_message(name, {key: value,\n",
       "                             guiEvent: simpleKeys(event)});\n",
       "    return false;\n",
       "}\n",
       "\n",
       "mpl.figure.prototype.toolbar_button_onclick = function(name) {\n",
       "    if (name == 'download') {\n",
       "        this.handle_save(this, null);\n",
       "    } else {\n",
       "        this.send_message(\"toolbar_button\", {name: name});\n",
       "    }\n",
       "};\n",
       "\n",
       "mpl.figure.prototype.toolbar_button_onmouseover = function(tooltip) {\n",
       "    this.message.textContent = tooltip;\n",
       "};\n",
       "mpl.toolbar_items = [[\"Home\", \"Reset original view\", \"fa fa-home icon-home\", \"home\"], [\"Back\", \"Back to previous view\", \"fa fa-arrow-left icon-arrow-left\", \"back\"], [\"Forward\", \"Forward to next view\", \"fa fa-arrow-right icon-arrow-right\", \"forward\"], [\"\", \"\", \"\", \"\"], [\"Pan\", \"Pan axes with left mouse, zoom with right\", \"fa fa-arrows icon-move\", \"pan\"], [\"Zoom\", \"Zoom to rectangle\", \"fa fa-square-o icon-check-empty\", \"zoom\"], [\"\", \"\", \"\", \"\"], [\"Download\", \"Download plot\", \"fa fa-floppy-o icon-save\", \"download\"]];\n",
       "\n",
       "mpl.extensions = [\"eps\", \"pdf\", \"png\", \"ps\", \"raw\", \"svg\"];\n",
       "\n",
       "mpl.default_extension = \"png\";var comm_websocket_adapter = function(comm) {\n",
       "    // Create a \"websocket\"-like object which calls the given IPython comm\n",
       "    // object with the appropriate methods. Currently this is a non binary\n",
       "    // socket, so there is still some room for performance tuning.\n",
       "    var ws = {};\n",
       "\n",
       "    ws.close = function() {\n",
       "        comm.close()\n",
       "    };\n",
       "    ws.send = function(m) {\n",
       "        //console.log('sending', m);\n",
       "        comm.send(m);\n",
       "    };\n",
       "    // Register the callback with on_msg.\n",
       "    comm.on_msg(function(msg) {\n",
       "        //console.log('receiving', msg['content']['data'], msg);\n",
       "        // Pass the mpl event to the overridden (by mpl) onmessage function.\n",
       "        ws.onmessage(msg['content']['data'])\n",
       "    });\n",
       "    return ws;\n",
       "}\n",
       "\n",
       "mpl.mpl_figure_comm = function(comm, msg) {\n",
       "    // This is the function which gets called when the mpl process\n",
       "    // starts-up an IPython Comm through the \"matplotlib\" channel.\n",
       "\n",
       "    var id = msg.content.data.id;\n",
       "    // Get hold of the div created by the display call when the Comm\n",
       "    // socket was opened in Python.\n",
       "    var element = $(\"#\" + id);\n",
       "    var ws_proxy = comm_websocket_adapter(comm)\n",
       "\n",
       "    function ondownload(figure, format) {\n",
       "        window.open(figure.imageObj.src);\n",
       "    }\n",
       "\n",
       "    var fig = new mpl.figure(id, ws_proxy,\n",
       "                           ondownload,\n",
       "                           element.get(0));\n",
       "\n",
       "    // Call onopen now - mpl needs it, as it is assuming we've passed it a real\n",
       "    // web socket which is closed, not our websocket->open comm proxy.\n",
       "    ws_proxy.onopen();\n",
       "\n",
       "    fig.parent_element = element.get(0);\n",
       "    fig.cell_info = mpl.find_output_cell(\"<div id='\" + id + \"'></div>\");\n",
       "    if (!fig.cell_info) {\n",
       "        console.error(\"Failed to find cell for figure\", id, fig);\n",
       "        return;\n",
       "    }\n",
       "\n",
       "    var output_index = fig.cell_info[2]\n",
       "    var cell = fig.cell_info[0];\n",
       "\n",
       "};\n",
       "\n",
       "mpl.figure.prototype.handle_close = function(fig, msg) {\n",
       "    var width = fig.canvas.width/mpl.ratio\n",
       "    fig.root.unbind('remove')\n",
       "\n",
       "    // Update the output cell to use the data from the current canvas.\n",
       "    fig.push_to_output();\n",
       "    var dataURL = fig.canvas.toDataURL();\n",
       "    // Re-enable the keyboard manager in IPython - without this line, in FF,\n",
       "    // the notebook keyboard shortcuts fail.\n",
       "    IPython.keyboard_manager.enable()\n",
       "    $(fig.parent_element).html('<img src=\"' + dataURL + '\" width=\"' + width + '\">');\n",
       "    fig.close_ws(fig, msg);\n",
       "}\n",
       "\n",
       "mpl.figure.prototype.close_ws = function(fig, msg){\n",
       "    fig.send_message('closing', msg);\n",
       "    // fig.ws.close()\n",
       "}\n",
       "\n",
       "mpl.figure.prototype.push_to_output = function(remove_interactive) {\n",
       "    // Turn the data on the canvas into data in the output cell.\n",
       "    var width = this.canvas.width/mpl.ratio\n",
       "    var dataURL = this.canvas.toDataURL();\n",
       "    this.cell_info[1]['text/html'] = '<img src=\"' + dataURL + '\" width=\"' + width + '\">';\n",
       "}\n",
       "\n",
       "mpl.figure.prototype.updated_canvas_event = function() {\n",
       "    // Tell IPython that the notebook contents must change.\n",
       "    IPython.notebook.set_dirty(true);\n",
       "    this.send_message(\"ack\", {});\n",
       "    var fig = this;\n",
       "    // Wait a second, then push the new image to the DOM so\n",
       "    // that it is saved nicely (might be nice to debounce this).\n",
       "    setTimeout(function () { fig.push_to_output() }, 1000);\n",
       "}\n",
       "\n",
       "mpl.figure.prototype._init_toolbar = function() {\n",
       "    var fig = this;\n",
       "\n",
       "    var nav_element = $('<div/>')\n",
       "    nav_element.attr('style', 'width: 100%');\n",
       "    this.root.append(nav_element);\n",
       "\n",
       "    // Define a callback function for later on.\n",
       "    function toolbar_event(event) {\n",
       "        return fig.toolbar_button_onclick(event['data']);\n",
       "    }\n",
       "    function toolbar_mouse_event(event) {\n",
       "        return fig.toolbar_button_onmouseover(event['data']);\n",
       "    }\n",
       "\n",
       "    for(var toolbar_ind in mpl.toolbar_items){\n",
       "        var name = mpl.toolbar_items[toolbar_ind][0];\n",
       "        var tooltip = mpl.toolbar_items[toolbar_ind][1];\n",
       "        var image = mpl.toolbar_items[toolbar_ind][2];\n",
       "        var method_name = mpl.toolbar_items[toolbar_ind][3];\n",
       "\n",
       "        if (!name) { continue; };\n",
       "\n",
       "        var button = $('<button class=\"btn btn-default\" href=\"#\" title=\"' + name + '\"><i class=\"fa ' + image + ' fa-lg\"></i></button>');\n",
       "        button.click(method_name, toolbar_event);\n",
       "        button.mouseover(tooltip, toolbar_mouse_event);\n",
       "        nav_element.append(button);\n",
       "    }\n",
       "\n",
       "    // Add the status bar.\n",
       "    var status_bar = $('<span class=\"mpl-message\" style=\"text-align:right; float: right;\"/>');\n",
       "    nav_element.append(status_bar);\n",
       "    this.message = status_bar[0];\n",
       "\n",
       "    // Add the close button to the window.\n",
       "    var buttongrp = $('<div class=\"btn-group inline pull-right\"></div>');\n",
       "    var button = $('<button class=\"btn btn-mini btn-primary\" href=\"#\" title=\"Stop Interaction\"><i class=\"fa fa-power-off icon-remove icon-large\"></i></button>');\n",
       "    button.click(function (evt) { fig.handle_close(fig, {}); } );\n",
       "    button.mouseover('Stop Interaction', toolbar_mouse_event);\n",
       "    buttongrp.append(button);\n",
       "    var titlebar = this.root.find($('.ui-dialog-titlebar'));\n",
       "    titlebar.prepend(buttongrp);\n",
       "}\n",
       "\n",
       "mpl.figure.prototype._root_extra_style = function(el){\n",
       "    var fig = this\n",
       "    el.on(\"remove\", function(){\n",
       "\tfig.close_ws(fig, {});\n",
       "    });\n",
       "}\n",
       "\n",
       "mpl.figure.prototype._canvas_extra_style = function(el){\n",
       "    // this is important to make the div 'focusable\n",
       "    el.attr('tabindex', 0)\n",
       "    // reach out to IPython and tell the keyboard manager to turn it's self\n",
       "    // off when our div gets focus\n",
       "\n",
       "    // location in version 3\n",
       "    if (IPython.notebook.keyboard_manager) {\n",
       "        IPython.notebook.keyboard_manager.register_events(el);\n",
       "    }\n",
       "    else {\n",
       "        // location in version 2\n",
       "        IPython.keyboard_manager.register_events(el);\n",
       "    }\n",
       "\n",
       "}\n",
       "\n",
       "mpl.figure.prototype._key_event_extra = function(event, name) {\n",
       "    var manager = IPython.notebook.keyboard_manager;\n",
       "    if (!manager)\n",
       "        manager = IPython.keyboard_manager;\n",
       "\n",
       "    // Check for shift+enter\n",
       "    if (event.shiftKey && event.which == 13) {\n",
       "        this.canvas_div.blur();\n",
       "        event.shiftKey = false;\n",
       "        // Send a \"J\" for go to next cell\n",
       "        event.which = 74;\n",
       "        event.keyCode = 74;\n",
       "        manager.command_mode();\n",
       "        manager.handle_keydown(event);\n",
       "    }\n",
       "}\n",
       "\n",
       "mpl.figure.prototype.handle_save = function(fig, msg) {\n",
       "    fig.ondownload(fig, null);\n",
       "}\n",
       "\n",
       "\n",
       "mpl.find_output_cell = function(html_output) {\n",
       "    // Return the cell and output element which can be found *uniquely* in the notebook.\n",
       "    // Note - this is a bit hacky, but it is done because the \"notebook_saving.Notebook\"\n",
       "    // IPython event is triggered only after the cells have been serialised, which for\n",
       "    // our purposes (turning an active figure into a static one), is too late.\n",
       "    var cells = IPython.notebook.get_cells();\n",
       "    var ncells = cells.length;\n",
       "    for (var i=0; i<ncells; i++) {\n",
       "        var cell = cells[i];\n",
       "        if (cell.cell_type === 'code'){\n",
       "            for (var j=0; j<cell.output_area.outputs.length; j++) {\n",
       "                var data = cell.output_area.outputs[j];\n",
       "                if (data.data) {\n",
       "                    // IPython >= 3 moved mimebundle to data attribute of output\n",
       "                    data = data.data;\n",
       "                }\n",
       "                if (data['text/html'] == html_output) {\n",
       "                    return [cell, data, j];\n",
       "                }\n",
       "            }\n",
       "        }\n",
       "    }\n",
       "}\n",
       "\n",
       "// Register the function which deals with the matplotlib target/channel.\n",
       "// The kernel may be null if the page has been refreshed.\n",
       "if (IPython.notebook.kernel != null) {\n",
       "    IPython.notebook.kernel.comm_manager.register_target('matplotlib', mpl.mpl_figure_comm);\n",
       "}\n"
      ],
      "text/plain": [
       "<IPython.core.display.Javascript object>"
      ]
     },
     "metadata": {},
     "output_type": "display_data"
    },
    {
     "data": {
      "text/html": [
       "<img src=\"data:image/png;base64,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\" width=\"640\">"
      ],
      "text/plain": [
       "<IPython.core.display.HTML object>"
      ]
     },
     "metadata": {},
     "output_type": "display_data"
    },
    {
     "name": "stdout",
     "output_type": "stream",
     "text": [
      "[4. 3. 7. 7. 1. 8. 7. 3. 1. 6. 7. 6. 3.]\n",
      "[18.         18.92307692 19.84615385 20.76923077 21.69230769 22.61538462\n",
      " 23.53846154 24.46153846 25.38461538 26.30769231 27.23076923 28.15384615\n",
      " 29.07692308 30.        ]\n"
     ]
    }
   ],
   "source": [
    "%matplotlib notebook\n",
    "n, bins, patches = plt.hist(grades, bins=len(set(grades)),facecolor='green')\n",
    "print(n)\n",
    "print(bins)"
   ]
  },
  {
   "cell_type": "markdown",
   "metadata": {},
   "source": [
    "## Set operations\n",
    "sets in python  support all mathematical operations for a mathematical set\n",
    "try `help(set)` for all functionalities"
   ]
  },
  {
   "cell_type": "code",
   "execution_count": 173,
   "metadata": {},
   "outputs": [],
   "source": [
    "a = {0,1,2,3,4,5,6,7,8,9}\n",
    "even = {0,2,4,6,8}\n",
    "odd = {1,3,5,7,9}\n",
    "prime = {1,2,3,5,7,11,13,17,19}"
   ]
  },
  {
   "cell_type": "code",
   "execution_count": 174,
   "metadata": {},
   "outputs": [
    {
     "data": {
      "text/plain": [
       "{0, 2, 4, 6, 8}"
      ]
     },
     "execution_count": 174,
     "metadata": {},
     "output_type": "execute_result"
    }
   ],
   "source": [
    "a & even"
   ]
  },
  {
   "cell_type": "code",
   "execution_count": 175,
   "metadata": {},
   "outputs": [
    {
     "data": {
      "text/plain": [
       "{2}"
      ]
     },
     "execution_count": 175,
     "metadata": {},
     "output_type": "execute_result"
    }
   ],
   "source": [
    "even.intersection(prime)"
   ]
  },
  {
   "cell_type": "code",
   "execution_count": 176,
   "metadata": {},
   "outputs": [
    {
     "data": {
      "text/plain": [
       "{0, 1, 2, 3, 4, 5, 6, 7, 8, 9, 11, 13, 17, 19}"
      ]
     },
     "execution_count": 176,
     "metadata": {},
     "output_type": "execute_result"
    }
   ],
   "source": [
    "a | prime"
   ]
  },
  {
   "cell_type": "code",
   "execution_count": 177,
   "metadata": {},
   "outputs": [
    {
     "data": {
      "text/plain": [
       "{0, 1, 2, 3, 4, 5, 6, 7, 8, 11, 13, 17, 19}"
      ]
     },
     "execution_count": 177,
     "metadata": {},
     "output_type": "execute_result"
    }
   ],
   "source": [
    "even.union(prime)"
   ]
  },
  {
   "cell_type": "code",
   "execution_count": 178,
   "metadata": {},
   "outputs": [
    {
     "data": {
      "text/plain": [
       "{9}"
      ]
     },
     "execution_count": 178,
     "metadata": {},
     "output_type": "execute_result"
    }
   ],
   "source": [
    "odd.difference(prime)"
   ]
  },
  {
   "cell_type": "markdown",
   "metadata": {},
   "source": [
    "# Comprehensions for List, Set, Dict\n",
    "- One of the lost-loved features of python\n",
    "- allows concise operation on collections without too many loops\n",
    "- outout of the operation is a new collection\n",
    "\n",
    "## List comprehension\n",
    "the basic expression is\n",
    "```python\n",
    "[ expression for val in collection if some_condition ]\n",
    "```\n",
    "Let's consider this example where we want to analyse the results of the midterm test"
   ]
  },
  {
   "cell_type": "code",
   "execution_count": 97,
   "metadata": {},
   "outputs": [
    {
     "name": "stdout",
     "output_type": "stream",
     "text": [
      "[19, 14, 22, 23, 23, 25, 14, 22, 20, 23, 22, 20, 12, 10, 24, 16, 20, 24, 10, 23, 24, 22, 28, 28, 17, 21, 14, 21, 29, 25, 23, 17, 30, 28, 19, 28, 24, 20, 28, 29, 20, 26, 10, 19, 16, 28, 24, 10, 13, 18, 17, 25, 25, 18, 20, 30, 17, 27, 27, 12, 13, 26, 16, 27, 26, 25, 19, 20, 17, 16, 13, 30, 26, 27, 21, 14, 20, 28, 17, 10, 30, 19, 12, 25, 30, 15, 13, 25, 25, 25, 24, 23, 13, 29, 22, 22, 13, 23, 12, 29]\n"
     ]
    }
   ],
   "source": [
    "import numpy as np\n",
    "voti = np.random.randint(10,31, 100).tolist()\n",
    "print(voti)"
   ]
  },
  {
   "cell_type": "markdown",
   "metadata": {},
   "source": [
    "The most basic question is how many people failed the exam.\n",
    "\n",
    "you could  do simple counting"
   ]
  },
  {
   "cell_type": "code",
   "execution_count": 106,
   "metadata": {},
   "outputs": [
    {
     "name": "stdout",
     "output_type": "stream",
     "text": [
      "# grades <18:  30\n"
     ]
    }
   ],
   "source": [
    "nfail = 0\n",
    "for v in voti:\n",
    "    if v <18:\n",
    "        nfail+=1\n",
    "print(\"# grades <18:  %2d\"%(nfail))"
   ]
  },
  {
   "cell_type": "markdown",
   "metadata": {},
   "source": [
    "but in general having a list of information is more flexible for future analysis"
   ]
  },
  {
   "cell_type": "code",
   "execution_count": 105,
   "metadata": {},
   "outputs": [
    {
     "name": "stdout",
     "output_type": "stream",
     "text": [
      "# grades <18:  30\n"
     ]
    }
   ],
   "source": [
    "failed = []\n",
    "for v in voti:\n",
    "    if v <18:\n",
    "        failed.append(v)\n",
    "print(\"# grades <18:  {0}\".format(len(failed)))"
   ]
  },
  {
   "cell_type": "markdown",
   "metadata": {},
   "source": [
    "You note that you did the following sequence of operations\n",
    "  - create a new empty list\n",
    "  - iterate over existing objects\n",
    "  - check some_condition on each object\n",
    "  - if positive then add object to new list\n",
    "\n",
    "In python this can be written concisely and in a natural language with what is called a __comprehension__."
   ]
  },
  {
   "cell_type": "code",
   "execution_count": 108,
   "metadata": {},
   "outputs": [
    {
     "data": {
      "text/plain": [
       "30"
      ]
     },
     "execution_count": 108,
     "metadata": {},
     "output_type": "execute_result"
    }
   ],
   "source": [
    "new_failed  = [ v for v in voti if v<18 ]\n",
    "len(new_failed)"
   ]
  },
  {
   "cell_type": "markdown",
   "metadata": {},
   "source": [
    "you can also also apply any function to each item \n"
   ]
  },
  {
   "cell_type": "code",
   "execution_count": 112,
   "metadata": {},
   "outputs": [
    {
     "name": "stdout",
     "output_type": "stream",
     "text": [
      "45\n",
      "55\n"
     ]
    }
   ],
   "source": [
    "def isodd(x):\n",
    "    if x%2 != 0:\n",
    "        return True\n",
    "odds  = [ v for v in voti if isodd(v) ]\n",
    "evens  = [ v for v in voti if not isodd(v) ]\n",
    "print(len(odds))\n",
    "print(len(evens))\n"
   ]
  },
  {
   "cell_type": "markdown",
   "metadata": {},
   "source": [
    "Manioulation with strings is also very easy"
   ]
  },
  {
   "cell_type": "code",
   "execution_count": 114,
   "metadata": {
    "scrolled": true
   },
   "outputs": [
    {
     "data": {
      "text/plain": [
       "['january',\n",
       " 'february',\n",
       " 'march',\n",
       " 'april',\n",
       " 'may',\n",
       " 'june',\n",
       " 'july',\n",
       " 'august',\n",
       " 'september',\n",
       " 'october',\n",
       " 'november',\n",
       " 'december']"
      ]
     },
     "execution_count": 114,
     "metadata": {},
     "output_type": "execute_result"
    }
   ],
   "source": [
    "months"
   ]
  },
  {
   "cell_type": "code",
   "execution_count": 117,
   "metadata": {},
   "outputs": [
    {
     "data": {
      "text/plain": [
       "['JAN',\n",
       " 'FEB',\n",
       " 'MAR',\n",
       " 'APR',\n",
       " 'MAY',\n",
       " 'JUN',\n",
       " 'JUL',\n",
       " 'AUG',\n",
       " 'SEP',\n",
       " 'OCT',\n",
       " 'NOV',\n",
       " 'DEC']"
      ]
     },
     "execution_count": 117,
     "metadata": {},
     "output_type": "execute_result"
    }
   ],
   "source": [
    "monthkeys = [ m[:3].upper() for m in months ]\n",
    "monthkeys"
   ]
  },
  {
   "cell_type": "markdown",
   "metadata": {},
   "source": [
    "## Another example with comprehensions: motion of a body under gravity\n",
    "we now revisit our program from last lecture to use comprehensions.\n",
    "\n",
    "The orignal example [gravity1](../lec23/examples/gravity1.py) is reported here again"
   ]
  },
  {
   "cell_type": "code",
   "execution_count": null,
   "metadata": {},
   "outputs": [],
   "source": [
    "# initial conditions\n",
    "g = 9.8\n",
    "h = 0.\n",
    "theta = (45./180.)*math.pi\n",
    "v0 = 10.\n",
    "dt=0.01\n",
    "\n",
    "#compute velocity components\n",
    "v0x = v0*math.cos(theta)\n",
    "v0y = v0*math.sin(theta)\n",
    "print(\"v0_x: %.3f m/s \\t v0_y: %.3f m/s\"%(v0x,v0y))\n",
    "\n",
    "t=0.\n",
    "x=[]\n",
    "y=[]\n",
    "xi=0\n",
    "yi=h\n",
    "\n",
    "while yi>=0:\n",
    "    x.append(xi)\n",
    "    y.append(yi)\n",
    "    t+=dt\n",
    "    xi=v0x*t\n",
    "    yi=h+v0y*t-0.5*g*t*t"
   ]
  },
  {
   "cell_type": "code",
   "execution_count": 144,
   "metadata": {},
   "outputs": [
    {
     "name": "stdout",
     "output_type": "stream",
     "text": [
      "v0_x: 7.071 m/s \t v0_y: 7.071 m/s\n",
      "[0.0, 0.01, 0.02, 0.03, 0.04, 0.05, 0.06, 0.07, 0.08, 0.09]\n",
      "total steps:\t 145 \n",
      "last x:\t\t 10.18\n",
      "last y:\t\t 0.022\n"
     ]
    }
   ],
   "source": [
    "import numpy as np\n",
    "import math\n",
    "\n",
    "# initial conditions\n",
    "g = 9.8\n",
    "h = 0.\n",
    "theta = (45./180.)*math.pi\n",
    "v0 = 10.\n",
    "dt=0.01\n",
    "\n",
    "#compute velocity components\n",
    "v0x = v0*math.cos(theta)\n",
    "v0y = v0*math.sin(theta)\n",
    "print(\"v0_x: %.3f m/s \\t v0_y: %.3f m/s\"%(v0x,v0y))\n",
    "\n",
    "x0 = 0\n",
    "y0 = h\n",
    "\n",
    "def x(t):\n",
    "    return x0+v0x*t\n",
    "\n",
    "def y(t):\n",
    "    return y0+v0y*t-0.5*g*t*t\n",
    "\n",
    "\n",
    "# generate list of times for sampling\n",
    "times = np.arange(0., 1000., 0.01).tolist() \n",
    "\n",
    "#print first 10 elements\n",
    "print(times[:10])\n",
    "\n",
    "# compute x(t_i)\n",
    "xi = [ x(t) for t in times if y(t)>=0.]\n",
    "\n",
    "# compute y(t_i)\n",
    "yi = [ y(t) for t in times if y(t)>=0. ]\n",
    "\n",
    "print( \"total steps:\\t %-4d\"%len(xi))\n",
    "print( \"last x:\\t\\t %.2f\"%xi[-1])\n",
    "print( \"last y:\\t\\t %.3f\"%yi[-1])"
   ]
  },
  {
   "cell_type": "markdown",
   "metadata": {},
   "source": [
    "### Comprehension with dictionary\n",
    "We now use a comprehension to invert our dict of months and days"
   ]
  },
  {
   "cell_type": "code",
   "execution_count": 145,
   "metadata": {
    "scrolled": true
   },
   "outputs": [
    {
     "data": {
      "text/plain": [
       "{'january': 31,\n",
       " 'february': 28,\n",
       " 'march': 31,\n",
       " 'april': 30,\n",
       " 'may': 31,\n",
       " 'june': 30,\n",
       " 'july': 31,\n",
       " 'august': 31,\n",
       " 'september': 30,\n",
       " 'october': 31,\n",
       " 'november': 30,\n",
       " 'december': 31}"
      ]
     },
     "execution_count": 145,
     "metadata": {},
     "output_type": "execute_result"
    }
   ],
   "source": [
    "days"
   ]
  },
  {
   "cell_type": "code",
   "execution_count": 166,
   "metadata": {},
   "outputs": [
    {
     "name": "stdout",
     "output_type": "stream",
     "text": [
      "{31: [], 28: [], 30: []}\n",
      "{31: None, 28: None, 30: None}\n"
     ]
    }
   ],
   "source": [
    "inv_map = { i: [] for i in days.values() }\n",
    "print(inv_map)\n",
    "\n",
    "for i in days:\n",
    "    inv_map[days[i]].append(i)"
   ]
  }
 ],
 "metadata": {
  "kernelspec": {
   "display_name": "Python 3",
   "language": "python",
   "name": "python3"
  },
  "language_info": {
   "codemirror_mode": {
    "name": "ipython",
    "version": 3
   },
   "file_extension": ".py",
   "mimetype": "text/x-python",
   "name": "python",
   "nbconvert_exporter": "python",
   "pygments_lexer": "ipython3",
   "version": "3.7.0"
  }
 },
 "nbformat": 4,
 "nbformat_minor": 2
}
