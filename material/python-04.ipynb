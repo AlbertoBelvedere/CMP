{
 "cells": [
  {
   "cell_type": "markdown",
   "metadata": {},
   "source": [
    "# I/O with files \n",
    "\n",
    "Today we cover some practical aspects of python that make it a great language for scripting. While the same is possibile with bash and other shells, the OOP aspect of python and its high level semantics make it very easy for a beginner to write their first scripts.\n",
    "\n",
    "- Input/Output with files\n",
    "  - with statement\n",
    "  - parsing lines\n",
    "  - lines as lists\n",
    "  - splitting lines into lists\n",
    "  \n",
    "- json format for storage\n",
    "  - example of json usage\n",
    "  - storing python objects and reading them back\n",
    "  - storing custom python objects\n",
    "   [custom serialize](https://realpython.com/python-json/)\n",
    "  \n",
    "- functions with variable number of arguments\n",
    "  - example of printf\n"
   ]
  },
  {
   "cell_type": "markdown",
   "metadata": {},
   "source": [
    "# File handling\n",
    "\n",
    "Basic I/O with files is almost identical to C, at first.\n",
    "\n",
    "- You need to open a file object on disk before writing information into it\n",
    "- Opening a file can fail\n",
    "  - location does not exist\n",
    "  - no write privilege for the location\n",
    "\n",
    "By default a file is opened in **read** mode"
   ]
  },
  {
   "cell_type": "code",
   "execution_count": null,
   "metadata": {
    "scrolled": false
   },
   "outputs": [],
   "source": [
    "fname = '/tmp/data.txt'\n",
    "f = open(fname)"
   ]
  },
  {
   "cell_type": "markdown",
   "metadata": {},
   "source": [
    "You must specify the **write** mode to store data in a file in output"
   ]
  },
  {
   "cell_type": "code",
   "execution_count": null,
   "metadata": {
    "scrolled": true
   },
   "outputs": [],
   "source": [
    "fname = '/tmp/data.txt'\n",
    "\n",
    "f = open(fname,mode='w')"
   ]
  },
  {
   "cell_type": "markdown",
   "metadata": {},
   "source": [
    "In this case the user does not have write permissions in `/`.\n",
    "\n",
    "Possible modes are:\n",
    "```\n",
    "========= ===============================================================\n",
    "Character Meaning\n",
    "--------- ---------------------------------------------------------------\n",
    "'r'       open for reading (default)\n",
    "'w'       open for writing, truncating the file first\n",
    "'x'       create a new file and open it for writing\n",
    "'a'       open for writing, appending to the end of the file if it exists\n",
    "'b'       binary mode\n",
    "'t'       text mode (default)\n",
    "'+'       open a disk file for updating (reading and writing)\n",
    "========= ===============================================================\n",
    "```\n",
    "So by default a text file is opened in read mode.\n",
    "\n",
    "We now store some values in a file to simulate data.\n",
    "\n",
    "It is important to close the file to make sure all data are flushed from memory to disk and the file handle closed properly"
   ]
  },
  {
   "cell_type": "code",
   "execution_count": null,
   "metadata": {},
   "outputs": [],
   "source": [
    "import os\n",
    "import numpy as np\n",
    "\n",
    "l0 =  set(os.listdir())\n",
    "\n",
    "print(len(l0))\n"
   ]
  },
  {
   "cell_type": "code",
   "execution_count": null,
   "metadata": {},
   "outputs": [],
   "source": [
    "print(\"print one file at the time\")\n",
    "for i in l0:\n",
    "    print(i)"
   ]
  },
  {
   "cell_type": "markdown",
   "metadata": {},
   "source": [
    "Note how `listdir()` shows files and directories and gidden files starting with `.`"
   ]
  },
  {
   "cell_type": "code",
   "execution_count": null,
   "metadata": {},
   "outputs": [],
   "source": [
    "fname = 'data.txt'\n",
    "f = open(fname,'w')\n",
    "\n",
    "f.write('first file in python\\n')\n",
    "    \n",
    "f.close()\n"
   ]
  },
  {
   "cell_type": "markdown",
   "metadata": {},
   "source": [
    "By default `write()` does  not have a carriage return so you need to add `\\n` to start a new line"
   ]
  },
  {
   "cell_type": "markdown",
   "metadata": {},
   "source": [
    "check the new files"
   ]
  },
  {
   "cell_type": "code",
   "execution_count": null,
   "metadata": {},
   "outputs": [],
   "source": [
    "lnew = set(os.listdir())\n",
    "\n",
    "new_items = lnew.difference(l0)\n",
    "print(new_items)"
   ]
  },
  {
   "cell_type": "markdown",
   "metadata": {},
   "source": [
    "use the magic jupyter command to look at the file"
   ]
  },
  {
   "cell_type": "code",
   "execution_count": null,
   "metadata": {},
   "outputs": [],
   "source": [
    "!cat data.txt"
   ]
  },
  {
   "cell_type": "markdown",
   "metadata": {},
   "source": [
    "## getting rid of `close()`\n",
    "\n",
    "To make it less C-like and feel more like python we can get rid of `close()` is usinng the `with` statement"
   ]
  },
  {
   "cell_type": "code",
   "execution_count": null,
   "metadata": {},
   "outputs": [],
   "source": [
    "fname = 'data2.txt'\n",
    "with open(fname,'w') as ofile:\n",
    "  ofile.write('a new file in python\\n')\n"
   ]
  },
  {
   "cell_type": "markdown",
   "metadata": {},
   "source": [
    "`with` makes sure that ofile is an open file handle in the `with` scope. Once it ends you can no more use the handle, because `close()` has been called autmatically"
   ]
  },
  {
   "cell_type": "markdown",
   "metadata": {},
   "source": [
    "## Storing lists and multiple values\n",
    "\n",
    "You can use the C-style output to format and store elements of a list"
   ]
  },
  {
   "cell_type": "code",
   "execution_count": null,
   "metadata": {},
   "outputs": [],
   "source": [
    "import random\n",
    "\n",
    "nevents = 3\n",
    "\n",
    "fname = 'data1.txt'\n",
    "with open(fname,'w') as f:\n",
    "    for i in range(nevents):\n",
    "        measurements = [ random.random() for j in range(5) ]\n",
    "        for val in measurements:\n",
    "            f.write(\"%.3f\\t\"%val)\n",
    "        f.write('\\n')\n"
   ]
  },
  {
   "cell_type": "code",
   "execution_count": null,
   "metadata": {},
   "outputs": [],
   "source": [
    "!cat data1.txt"
   ]
  },
  {
   "cell_type": "markdown",
   "metadata": {},
   "source": [
    "A more python-style is to use a new `writelines()` function and comprehensions"
   ]
  },
  {
   "cell_type": "code",
   "execution_count": null,
   "metadata": {},
   "outputs": [],
   "source": [
    "import random\n",
    "\n",
    "nevents = 3\n",
    "\n",
    "fname = 'data2.txt'\n",
    "with open(fname,'w') as f:\n",
    "    for i in range(nevents):\n",
    "        measurements = [ random.random() for j in range(5) ]\n",
    "        f.writelines(\"%.3f\\t\"%val for val in measurements)\n",
    "        f.write('\\n')"
   ]
  },
  {
   "cell_type": "code",
   "execution_count": null,
   "metadata": {},
   "outputs": [],
   "source": [
    "!cat data2.txt"
   ]
  },
  {
   "cell_type": "markdown",
   "metadata": {},
   "source": [
    "which can be further reduced"
   ]
  },
  {
   "cell_type": "code",
   "execution_count": null,
   "metadata": {},
   "outputs": [],
   "source": [
    "import random\n",
    "\n",
    "nevents = 10\n",
    "\n",
    "fname = 'data2.txt'\n",
    "with open(fname,'w') as f:\n",
    "    for i in range(nevents):\n",
    "        f.writelines(\"%.3f\\t\"%val for val in [ random.random() for j in range(3) ] )\n",
    "        f.write('\\n')\n"
   ]
  },
  {
   "cell_type": "markdown",
   "metadata": {},
   "source": [
    "## Input from file\n",
    "\n",
    "A file can be read in a single string and then split into lines and columns. "
   ]
  },
  {
   "cell_type": "code",
   "execution_count": null,
   "metadata": {
    "scrolled": true
   },
   "outputs": [],
   "source": [
    "fname = 'data2.txt'\n",
    "\n",
    "f = open(fname)\n",
    "file = f.read()\n",
    "print(file)"
   ]
  },
  {
   "cell_type": "code",
   "execution_count": null,
   "metadata": {},
   "outputs": [],
   "source": [
    "vals = file.split()\n",
    "print(type(vals))\n",
    "print(len(vals))\n"
   ]
  },
  {
   "cell_type": "code",
   "execution_count": null,
   "metadata": {},
   "outputs": [],
   "source": [
    "print(vals[0])\n",
    "print(vals[-1])"
   ]
  },
  {
   "cell_type": "markdown",
   "metadata": {},
   "source": [
    "### Reading line by line\n",
    "You could also read the file as a list of lines, each line marked by a newline `\\n`"
   ]
  },
  {
   "cell_type": "code",
   "execution_count": null,
   "metadata": {},
   "outputs": [],
   "source": [
    "fname = 'data2.txt'\n",
    "lines = [l for l in open(fname)]\n",
    "print(type(lines))\n",
    "print(len(lines))"
   ]
  },
  {
   "cell_type": "code",
   "execution_count": null,
   "metadata": {},
   "outputs": [],
   "source": [
    "print(lines[-1])"
   ]
  },
  {
   "cell_type": "markdown",
   "metadata": {},
   "source": [
    "However you note that you have `\\t` and `\\n` as part of the string being read in. Fixing this is easy with the `strip()` function"
   ]
  },
  {
   "cell_type": "code",
   "execution_count": null,
   "metadata": {},
   "outputs": [],
   "source": [
    "fname = 'data2.txt'\n",
    "lines = [l.strip() for l in open(fname)]\n",
    "print(lines)"
   ]
  },
  {
   "cell_type": "markdown",
   "metadata": {},
   "source": [
    "this has removed the `\\n`. We now split each line using `\\t` as the separator"
   ]
  },
  {
   "cell_type": "code",
   "execution_count": null,
   "metadata": {},
   "outputs": [],
   "source": [
    "fname = 'data2.txt'\n",
    "\n",
    "lines = [l.strip() for l in open(fname)]\n",
    "\n",
    "data = [ l.split('\\t') for l in lines ]\n"
   ]
  },
  {
   "cell_type": "code",
   "execution_count": null,
   "metadata": {},
   "outputs": [],
   "source": [
    "print(data)\n",
    "print(data[2:])\n"
   ]
  },
  {
   "cell_type": "markdown",
   "metadata": {},
   "source": [
    "even more concisely"
   ]
  },
  {
   "cell_type": "code",
   "execution_count": null,
   "metadata": {},
   "outputs": [],
   "source": [
    "fname = 'data2.txt'\n",
    "data = [ l.split('\\t') for l in [line.strip() for line in open(fname)] ]\n",
    "print(data)"
   ]
  },
  {
   "cell_type": "markdown",
   "metadata": {},
   "source": [
    "### exercise\n",
    "- change the separator and use `,` or `:` to store and read back data files"
   ]
  },
  {
   "cell_type": "markdown",
   "metadata": {},
   "source": [
    "### Reading data into arrays\n",
    "\n",
    "Often you will have a file with the following structure\n",
    "```\n",
    "#x  #y  #z  #t  #energy\n",
    ".. ..  ..   ..  ....\n",
    ".. ..  ..   ..  ....\n",
    ".. ..  ..   ..  ....\n",
    ".. ..  ..   ..  ....\n",
    "```\n",
    "\n",
    "with data stored per event (line) in columns (variables).\n",
    "\n",
    "With numpy we can read the data directly into arrays per column without reading in all data and then manipulate it\n",
    "- [Input/Output with numpy](https://numpy.org/doc/stable/reference/routines.io.html)\n",
    "\n",
    "In particular [numpy.loadtxt](https://numpy.org/doc/stable/reference/generated/numpy.loadtxt.html#numpy.loadtxt) is very handy for quick reading of data from files\n"
   ]
  },
  {
   "cell_type": "code",
   "execution_count": null,
   "metadata": {},
   "outputs": [],
   "source": [
    "!cat data2.txt"
   ]
  },
  {
   "cell_type": "code",
   "execution_count": null,
   "metadata": {},
   "outputs": [],
   "source": [
    "fname = 'data2.txt'\n",
    "\n",
    "data = np.loadtxt(fname)\n",
    "\n",
    "print(data.shape)"
   ]
  },
  {
   "cell_type": "code",
   "execution_count": null,
   "metadata": {
    "scrolled": true
   },
   "outputs": [],
   "source": [
    "print(data)"
   ]
  },
  {
   "cell_type": "code",
   "execution_count": null,
   "metadata": {},
   "outputs": [],
   "source": [
    "print(data[0])"
   ]
  },
  {
   "cell_type": "code",
   "execution_count": null,
   "metadata": {},
   "outputs": [],
   "source": [
    "print(data[:,0])"
   ]
  },
  {
   "cell_type": "markdown",
   "metadata": {},
   "source": [
    "now use slicing to put in columns"
   ]
  },
  {
   "cell_type": "code",
   "execution_count": null,
   "metadata": {},
   "outputs": [],
   "source": [
    "x = data[:,0]\n",
    "y = data[:,1]\n",
    "z = data[:,2]\n",
    "\n",
    "print(z)"
   ]
  },
  {
   "cell_type": "markdown",
   "metadata": {},
   "source": [
    "since this is a typical usecase, `loadtxt` has options to do it for you"
   ]
  },
  {
   "cell_type": "code",
   "execution_count": null,
   "metadata": {},
   "outputs": [],
   "source": [
    "x,z = np.loadtxt(fname, unpack=True, usecols=(0,2))\n",
    "\n",
    "print(z)"
   ]
  },
  {
   "cell_type": "markdown",
   "metadata": {},
   "source": [
    "- `usecols=(a,b,c)` or `usecols=d` reads only the specific columns\n",
    "- `unpack=True` transposes data to go in columns"
   ]
  },
  {
   "cell_type": "code",
   "execution_count": null,
   "metadata": {},
   "outputs": [],
   "source": [
    "y = np.loadtxt(fname, unpack=True, usecols=1)\n",
    "print(y)"
   ]
  },
  {
   "cell_type": "code",
   "execution_count": null,
   "metadata": {},
   "outputs": [],
   "source": [
    "%matplotlib notebook\n",
    "import matplotlib.pyplot as pl\n",
    "\n",
    "pl.plot(x,y, '^', label=\"y\")\n",
    "pl.plot(x,z, '.', label=\"z\")\n",
    "pl.xlabel('x')\n",
    "pl.grid()\n",
    "pl.legend()\n",
    "pl.show()\n",
    "\n"
   ]
  },
  {
   "cell_type": "markdown",
   "metadata": {},
   "source": [
    "# Fitting data\n",
    "\n",
    "A typical use case for data input is to fir the data to some model and estimatethe model parameter.\n",
    "This can be done easily with the [scipy.optimize.curve_fit](https://docs.scipy.org/doc/scipy/reference/generated/scipy.optimize.curve_fit.html) function\n",
    "\n",
    "In this example we\n",
    "\n",
    "- generate some data according to a model\n",
    "- add some random noise \n",
    "- write the data to file\n",
    "- read back the data with numpy\n",
    "- fit the data with `curve_fit`"
   ]
  },
  {
   "cell_type": "markdown",
   "metadata": {},
   "source": [
    "### generate data"
   ]
  },
  {
   "cell_type": "code",
   "execution_count": null,
   "metadata": {},
   "outputs": [],
   "source": [
    "nevents = 100\n",
    "\n",
    "x = np.linspace(10, 100, nevents)\n",
    "\n",
    "def background(x, A=100, tau=10):\n",
    "    return A*np.exp(-x/tau)\n",
    "\n",
    "y = background(x)\n",
    "\n",
    "import matplotlib.pyplot as pl\n",
    "\n",
    "%matplotlib notebook\n",
    "pl.plot(x,y, 'b-', label='background')\n",
    "pl.xlabel('x')\n",
    "pl.legend()"
   ]
  },
  {
   "cell_type": "markdown",
   "metadata": {},
   "source": [
    "### add some random noise"
   ]
  },
  {
   "cell_type": "code",
   "execution_count": null,
   "metadata": {
    "scrolled": false
   },
   "outputs": [],
   "source": [
    "pedestal = 3\n",
    "\n",
    "noise = pedestal * np.random.normal(size=x.size)\n",
    "\n",
    "y_noise = y+noise\n",
    "\n",
    "%matplotlib notebook\n",
    "pl.plot(x,y_noise, 'r-', label='background with noise')\n",
    "pl.xlabel('x')\n",
    "pl.legend()"
   ]
  },
  {
   "cell_type": "markdown",
   "metadata": {},
   "source": [
    "### write data to file\n",
    "\n",
    "this time we use [nump.savetxt](https://numpy.org/doc/stable/reference/generated/numpy.savetxt.html)"
   ]
  },
  {
   "cell_type": "code",
   "execution_count": null,
   "metadata": {},
   "outputs": [],
   "source": [
    "fname = 'fitdata.txt'\n",
    "\n",
    "np.savetxt(fname, (x, y, y_noise), delimiter=\" \", fmt=\"%.4f\")"
   ]
  },
  {
   "cell_type": "code",
   "execution_count": null,
   "metadata": {
    "scrolled": false
   },
   "outputs": [],
   "source": [
    "!cat fitdata.txt"
   ]
  },
  {
   "cell_type": "markdown",
   "metadata": {},
   "source": [
    "otherwise you can loop and write to file as in the past"
   ]
  },
  {
   "cell_type": "code",
   "execution_count": null,
   "metadata": {},
   "outputs": [],
   "source": [
    "fname = 'fitdata2.txt'\n",
    "\n",
    "with open(fname,'w') as f:\n",
    "    for i in range(len(x)):\n",
    "        f.writelines(\"%.3f %.3f %.3f\"%(x[i],y[i],y_noise[i]) )\n",
    "        f.write('\\n')\n"
   ]
  },
  {
   "cell_type": "code",
   "execution_count": null,
   "metadata": {},
   "outputs": [],
   "source": [
    "!cat fitdata2.txt"
   ]
  },
  {
   "cell_type": "markdown",
   "metadata": {},
   "source": [
    "### read data from file"
   ]
  },
  {
   "cell_type": "code",
   "execution_count": null,
   "metadata": {},
   "outputs": [],
   "source": [
    "t, z, w = np.loadtxt(fname, unpack=True)\n",
    "print(t.shape)"
   ]
  },
  {
   "cell_type": "code",
   "execution_count": null,
   "metadata": {
    "scrolled": false
   },
   "outputs": [],
   "source": [
    "%matplotlib notebook\n",
    "pl.plot(t,z, 'r-', label='z')\n",
    "pl.plot(t,w, 'b--', label='w')\n",
    "\n",
    "pl.xlabel('time [s]')\n",
    "pl.legend()"
   ]
  },
  {
   "cell_type": "markdown",
   "metadata": {},
   "source": [
    "### Fit data"
   ]
  },
  {
   "cell_type": "code",
   "execution_count": null,
   "metadata": {},
   "outputs": [],
   "source": [
    "def fitfunc(x, N, alpha, c):\n",
    "    return N*np.exp(-alpha*x) + c\n"
   ]
  },
  {
   "cell_type": "code",
   "execution_count": null,
   "metadata": {},
   "outputs": [],
   "source": [
    "from scipy.optimize import curve_fit\n",
    "\n",
    "pars, pars_cov = curve_fit(fitfunc, t, w)\n",
    "\n",
    "print(pars)\n",
    "print(pars_cov)"
   ]
  },
  {
   "cell_type": "code",
   "execution_count": null,
   "metadata": {},
   "outputs": [],
   "source": [
    "%matplotlib notebook\n",
    "pl.plot(t, w, 'b-', label='data points w')\n",
    "pl.plot(t, fitfunc(t, *pars), 'm-', label='fit N:%.2f alpha: %.3f  c: %.3f'%tuple(pars))\n",
    "pl.legend()\n",
    "pl.xlabel('t')\n",
    "pl.grid()"
   ]
  },
  {
   "cell_type": "markdown",
   "metadata": {},
   "source": [
    "## Storing Lists, Dicts, and Tuples\n",
    "\n",
    "As you have seen with the example above, there is no automatic writing of objects. So for a dictionary you need to take care of formatting the output file. "
   ]
  },
  {
   "cell_type": "code",
   "execution_count": null,
   "metadata": {},
   "outputs": [],
   "source": [
    "import random\n",
    "\n",
    "datum = {'val':-1.1, 'err':0.2}\n",
    "\n",
    "fname = 'data4.txt'\n",
    "\n",
    "with open(fname,'w') as f:\n",
    "    f.writelines(\"%s\\t\"%v for v in datum.keys())\n",
    "    f.write('\\n')\n",
    "    for i in range(10):\n",
    "        datum['val'] = random.uniform(-3.,3.)\n",
    "        datum['err'] = random.normalvariate(0., 0.2)\n",
    "        f.writelines(\"%.3f\\t\"%val for val in datum.values() )\n",
    "        f.write('\\n')\n"
   ]
  },
  {
   "cell_type": "markdown",
   "metadata": {},
   "source": [
    "### Exercise\n",
    "- use a dictionary to store data for 3 keys of different type\n",
    "- store 100 dictionary instances in file\n",
    "- read back and populate dictionary objects from file"
   ]
  },
  {
   "cell_type": "markdown",
   "metadata": {},
   "source": [
    "## Storing NumPy objects\n",
    "\n",
    "NumPy provides built-in functions to easily store and read ndarrays in binary and text format  without iterating over each element"
   ]
  },
  {
   "cell_type": "code",
   "execution_count": null,
   "metadata": {},
   "outputs": [],
   "source": [
    "import numpy as np\n",
    "import os\n",
    "\n",
    "matrix = np.random.randn(100,10)\n",
    "\n",
    "fname = 'npdata1'\n",
    "np.save(fname+'.npy', matrix)\n",
    "np.savetxt(fname+'.txt', matrix)\n"
   ]
  },
  {
   "cell_type": "markdown",
   "metadata": {},
   "source": [
    "Reading the file is also simple with `load()`"
   ]
  },
  {
   "cell_type": "code",
   "execution_count": null,
   "metadata": {},
   "outputs": [],
   "source": [
    "vals = np.load(fname+'.npy')\n",
    "\n",
    "print(vals.shape)\n",
    "print(vals[:1,])"
   ]
  },
  {
   "cell_type": "markdown",
   "metadata": {},
   "source": [
    "The [Python Data Analysis Library (pandas)](http://pandas.pydata.org) provides even more efficient tools and data formats to handle data for analysis and their storage to file."
   ]
  },
  {
   "cell_type": "markdown",
   "metadata": {},
   "source": [
    "## Data storage with pickle and JSON \n",
    "\n",
    "With NumPy we saw the first example of using the binary format to easy store an array.\n",
    "\n",
    "Previously we had oly saved data in text files by iterating over elements of lists and dictionaries.\n",
    "\n",
    "Python provides a built-in [pickle]() library for easy storage of lists and other built-in python objects in binary format. "
   ]
  },
  {
   "cell_type": "code",
   "execution_count": null,
   "metadata": {
    "scrolled": true
   },
   "outputs": [],
   "source": [
    "import random\n",
    "import pickle\n",
    "import os\n",
    "\n",
    "datum = {'val':-1.1, 'err':0.2}\n",
    "\n",
    "fname = 'pickle1.data'\n",
    "with open(fname,'wb') as f:\n",
    "    pickle.dump(datum,f)\n",
    "\n",
    "os.listdir()"
   ]
  },
  {
   "cell_type": "markdown",
   "metadata": {},
   "source": [
    "Readig back is also easy"
   ]
  },
  {
   "cell_type": "code",
   "execution_count": null,
   "metadata": {},
   "outputs": [],
   "source": [
    "\n",
    "fname = 'pickle1.data'\n",
    "with open(fname,'rb') as f:\n",
    "    indata = pickle.load(f)\n",
    "\n",
    "print(indata)\n"
   ]
  },
  {
   "cell_type": "markdown",
   "metadata": {},
   "source": [
    "## JSON \n",
    "\n",
    "However, a commonly used format for data storage that is cross platform and cross language is [JSON (JavaScript Object Notation](https://www.json.org).\n",
    "\n",
    "The JSON librray in python allows you to convert python objects (including your custom classes) into JSON for storage.\n",
    "\n",
    "Converting or enconding an object into JSON is commonly called **serialization**. Converting from JSON to python objects is referred to as **deserialization**. For  more details and introduction see this nice webpage on [working with JSON](https://realpython.com/python-json/). \n",
    "\n",
    "Here is an example of dictionary and list stored in JSON files.\n",
    "\n",
    "There are two functions commonly used\n",
    "- `dump()`: convert an object into JSON and possibly write to file\n",
    "- `dumps()` note the extra **s**: converto to JSON string but cannot interact with file\n",
    "The two functions are identical except for the file interaction."
   ]
  },
  {
   "cell_type": "code",
   "execution_count": null,
   "metadata": {
    "scrolled": true
   },
   "outputs": [],
   "source": [
    "import json\n",
    "import os\n",
    "\n",
    "datum = {'val':-1.1, 'err':0.2}\n",
    "\n",
    "x = json.dumps(datum)\n",
    "print(x)\n",
    "\n",
    "data = [z for z in range(10)]\n",
    "y = json.dumps(data)\n",
    "\n",
    "print(y)\n",
    "\n",
    "with open('data.json','w') as of:\n",
    "    json.dump([datum, data], of)\n",
    " \n",
    "os.listdir()"
   ]
  },
  {
   "cell_type": "markdown",
   "metadata": {},
   "source": [
    "Now we read back or deserialize the data from file"
   ]
  },
  {
   "cell_type": "code",
   "execution_count": null,
   "metadata": {
    "scrolled": true
   },
   "outputs": [],
   "source": [
    "with open('data.json') as infile:\n",
    "    indata = json.load(infile)\n",
    "print(indata)\n",
    "datum = indata[0]\n",
    "data = indata[1]\n",
    "print(datum, data)"
   ]
  },
  {
   "cell_type": "markdown",
   "metadata": {},
   "source": [
    "# Functions with arbitrary number of arguments\n",
    "\n",
    "As you have seen, `print()` function can have a variable number of arguments. The same behaviour can easily be defined for any custom defined function for both positioal and keyword arguments\n",
    "\n",
    "## positional arguments\n",
    "\n",
    "Additional arguments are taken via the special `*arg` argument which is a tuple of additional positional arguments"
   ]
  },
  {
   "cell_type": "code",
   "execution_count": null,
   "metadata": {},
   "outputs": [],
   "source": [
    "def myfunc(a, *arg):\n",
    "    print(\"positional arguments: %s %s\"%(a,arg))\n",
    "    if len(arg):\n",
    "        for x in arg:\n",
    "            print('[%s]\\t'%x)\n",
    "        print('\\n')\n"
   ]
  },
  {
   "cell_type": "code",
   "execution_count": null,
   "metadata": {},
   "outputs": [],
   "source": [
    "myfunc(1.1)\n"
   ]
  },
  {
   "cell_type": "code",
   "execution_count": null,
   "metadata": {},
   "outputs": [],
   "source": [
    "myfunc('ciao')\n"
   ]
  },
  {
   "cell_type": "code",
   "execution_count": null,
   "metadata": {},
   "outputs": [],
   "source": [
    "myfunc(-0.2, 0.3, 'ciao')"
   ]
  },
  {
   "cell_type": "code",
   "execution_count": null,
   "metadata": {},
   "outputs": [],
   "source": [
    "myfunc(-0.2, 0.3, 'ciao', 'hello', -2, 100)"
   ]
  },
  {
   "cell_type": "markdown",
   "metadata": {},
   "source": [
    "## keyword arguments\n",
    "\n",
    "For optional keyword arguments the `**kargs` feature is used"
   ]
  },
  {
   "cell_type": "code",
   "execution_count": null,
   "metadata": {},
   "outputs": [],
   "source": [
    "def myf2(a,mu=0.0, sig=0.1, **karg):\n",
    "    print(\"a: %s\"%(a))\n",
    "    print(\"keyword arguments: %s %s %s\"%(mu,sig,karg))\n",
    "    if len(karg):\n",
    "        for x in karg:\n",
    "            print('[%s]\\t'%x)\n",
    "            \n",
    "        print('\\n')\n"
   ]
  },
  {
   "cell_type": "code",
   "execution_count": null,
   "metadata": {},
   "outputs": [],
   "source": [
    "myf2(0.1)\n"
   ]
  },
  {
   "cell_type": "code",
   "execution_count": null,
   "metadata": {},
   "outputs": [],
   "source": [
    "myf2(0.3, sig=0.5)\n"
   ]
  },
  {
   "cell_type": "code",
   "execution_count": null,
   "metadata": {},
   "outputs": [],
   "source": [
    "myf2(0.3, color='red')\n"
   ]
  },
  {
   "cell_type": "code",
   "execution_count": null,
   "metadata": {},
   "outputs": [],
   "source": [
    "myf2(0.3, color='red', mu=0.6)"
   ]
  },
  {
   "cell_type": "markdown",
   "metadata": {},
   "source": [
    "The additional keyword arguments are stored as a dictionary."
   ]
  },
  {
   "cell_type": "code",
   "execution_count": null,
   "metadata": {},
   "outputs": [],
   "source": [
    "def myf3(a,mu=0.0, sig=0.1, **karg):\n",
    "    print(\"a: %s\"%(a))\n",
    "    print(\"keyword arguments: %s %s %s\"%(mu,sig,karg))\n",
    "    if len(karg):\n",
    "        for x in karg.keys():\n",
    "            print('[%s = %s]\\t'%(x, karg[x]))\n",
    "        print('\\n')\n",
    "myf3(0.1)"
   ]
  },
  {
   "cell_type": "code",
   "execution_count": null,
   "metadata": {},
   "outputs": [],
   "source": [
    "myf3(0.3, color='red', mu=0.6)"
   ]
  },
  {
   "cell_type": "markdown",
   "metadata": {},
   "source": [
    "You can also combine both positional and keyword arguments for the most generic function"
   ]
  },
  {
   "cell_type": "code",
   "execution_count": null,
   "metadata": {},
   "outputs": [],
   "source": [
    "def myf4(a,*arg, mu=0.0, sig=0.1, **karg):\n",
    "    print(\"myf4 called\")\n",
    "    print(\"positional:  a: %s    optional: %s\"%(a,arg))\n",
    "    if len(arg):\n",
    "        for x in arg:\n",
    "            print('[%s]\\t'%x)\n",
    "        print('\\n')\n",
    "    print(\"keyword: %s %s %s\"%(mu,sig,karg))    \n",
    "    if len(karg):\n",
    "        for x in karg.keys():\n",
    "            print('[%s = %s]\\t'%(x, karg[x]))\n",
    "        print('\\n')\n",
    "    print('\\n')\n",
    "myf4(-0.1)\n"
   ]
  },
  {
   "cell_type": "code",
   "execution_count": null,
   "metadata": {},
   "outputs": [],
   "source": [
    "myf4(-0.1,10.1)\n"
   ]
  },
  {
   "cell_type": "code",
   "execution_count": null,
   "metadata": {},
   "outputs": [],
   "source": [
    "myf4(-0.1,mu=10.1)"
   ]
  },
  {
   "cell_type": "code",
   "execution_count": null,
   "metadata": {},
   "outputs": [],
   "source": [
    "myf4(0.3,'x','y', 0.9, color='red', mu=0.6, thick=1.1, fill='true')"
   ]
  },
  {
   "cell_type": "markdown",
   "metadata": {},
   "source": [
    "## Command line arguments for python programs\n",
    "\n",
    "The sys module gives easy access to command line arguments as a list. An example is in [app1.py](../examples/python/app1.py)"
   ]
  },
  {
   "cell_type": "code",
   "execution_count": null,
   "metadata": {},
   "outputs": [],
   "source": [
    "# %load examples/app1.py\n",
    "import sys, os\n",
    "\n",
    "print(\"Running \"+__file__)\n",
    "\n",
    "print(\"Running \"+os.path.basename(__file__))\n",
    "\n",
    "\n",
    "print(\"program called with %d arguments\"%len(sys.argv))\n",
    "\n",
    "for a in sys.argv:\n",
    "    print(a)\n"
   ]
  },
  {
   "cell_type": "code",
   "execution_count": null,
   "metadata": {},
   "outputs": [],
   "source": []
  }
 ],
 "metadata": {
  "kernelspec": {
   "display_name": "Python 3",
   "language": "python",
   "name": "python3"
  },
  "language_info": {
   "codemirror_mode": {
    "name": "ipython",
    "version": 3
   },
   "file_extension": ".py",
   "mimetype": "text/x-python",
   "name": "python",
   "nbconvert_exporter": "python",
   "pygments_lexer": "ipython3",
   "version": "3.7.6"
  }
 },
 "nbformat": 4,
 "nbformat_minor": 2
}
