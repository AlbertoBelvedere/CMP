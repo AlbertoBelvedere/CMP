{
 "cells": [
  {
   "cell_type": "markdown",
   "metadata": {
    "slideshow": {
     "slide_type": "slide"
    }
   },
   "source": [
    "# Input from keyboard\n",
    "\n",
    "`input()` acquires simple text from keyboard. "
   ]
  },
  {
   "cell_type": "code",
   "execution_count": 2,
   "metadata": {
    "slideshow": {
     "slide_type": "subslide"
    }
   },
   "outputs": [
    {
     "name": "stdout",
     "output_type": "stream",
     "text": [
      "insert a number: test\n",
      "your input:  test\n"
     ]
    },
    {
     "ename": "TypeError",
     "evalue": "'>' not supported between instances of 'str' and 'int'",
     "output_type": "error",
     "traceback": [
      "\u001b[0;31m---------------------------------------------------------------------------\u001b[0m",
      "\u001b[0;31mTypeError\u001b[0m                                 Traceback (most recent call last)",
      "\u001b[0;32m<ipython-input-2-10b9586cbdea>\u001b[0m in \u001b[0;36m<module>\u001b[0;34m\u001b[0m\n\u001b[1;32m      1\u001b[0m \u001b[0mz\u001b[0m \u001b[0;34m=\u001b[0m \u001b[0minput\u001b[0m\u001b[0;34m(\u001b[0m\u001b[0;34m\"insert a number: \"\u001b[0m\u001b[0;34m)\u001b[0m\u001b[0;34m\u001b[0m\u001b[0;34m\u001b[0m\u001b[0m\n\u001b[1;32m      2\u001b[0m \u001b[0mprint\u001b[0m\u001b[0;34m(\u001b[0m\u001b[0;34m\"your input: \"\u001b[0m\u001b[0;34m,\u001b[0m \u001b[0mz\u001b[0m\u001b[0;34m)\u001b[0m\u001b[0;34m\u001b[0m\u001b[0;34m\u001b[0m\u001b[0m\n\u001b[0;32m----> 3\u001b[0;31m \u001b[0;32mif\u001b[0m \u001b[0mz\u001b[0m\u001b[0;34m>\u001b[0m\u001b[0;36m0\u001b[0m\u001b[0;34m:\u001b[0m\u001b[0;34m\u001b[0m\u001b[0;34m\u001b[0m\u001b[0m\n\u001b[0m\u001b[1;32m      4\u001b[0m     \u001b[0mprint\u001b[0m\u001b[0;34m(\u001b[0m\u001b[0;34m\"positive number: \"\u001b[0m\u001b[0;34m,\u001b[0m \u001b[0mz\u001b[0m\u001b[0;34m)\u001b[0m\u001b[0;34m\u001b[0m\u001b[0;34m\u001b[0m\u001b[0m\n",
      "\u001b[0;31mTypeError\u001b[0m: '>' not supported between instances of 'str' and 'int'"
     ]
    }
   ],
   "source": [
    "z = input(\"insert a number: \")\n",
    "print(\"your input: \", z)\n",
    "if z>0:\n",
    "    print(\"positive number: \", z)"
   ]
  },
  {
   "cell_type": "markdown",
   "metadata": {
    "slideshow": {
     "slide_type": "subslide"
    }
   },
   "source": [
    "`z` is simple text and cannot be used with the `>` operator. \n",
    "\n",
    "You need to explicitly convert to the type you need."
   ]
  },
  {
   "cell_type": "code",
   "execution_count": 4,
   "metadata": {
    "slideshow": {
     "slide_type": "subslide"
    }
   },
   "outputs": [
    {
     "name": "stdout",
     "output_type": "stream",
     "text": [
      "insert integer: 34.7\n"
     ]
    },
    {
     "ename": "ValueError",
     "evalue": "invalid literal for int() with base 10: '34.7'",
     "output_type": "error",
     "traceback": [
      "\u001b[0;31m---------------------------------------------------------------------------\u001b[0m",
      "\u001b[0;31mValueError\u001b[0m                                Traceback (most recent call last)",
      "\u001b[0;32m<ipython-input-4-bfc8543a5bf3>\u001b[0m in \u001b[0;36m<module>\u001b[0;34m\u001b[0m\n\u001b[0;32m----> 1\u001b[0;31m \u001b[0mx\u001b[0m \u001b[0;34m=\u001b[0m \u001b[0mint\u001b[0m\u001b[0;34m(\u001b[0m\u001b[0minput\u001b[0m\u001b[0;34m(\u001b[0m\u001b[0;34m\"insert integer: \"\u001b[0m\u001b[0;34m)\u001b[0m\u001b[0;34m)\u001b[0m\u001b[0;34m\u001b[0m\u001b[0;34m\u001b[0m\u001b[0m\n\u001b[0m\u001b[1;32m      2\u001b[0m \u001b[0mprint\u001b[0m \u001b[0;34m(\u001b[0m\u001b[0;34m\"x = \"\u001b[0m\u001b[0;34m,\u001b[0m \u001b[0mx\u001b[0m\u001b[0;34m)\u001b[0m\u001b[0;34m\u001b[0m\u001b[0;34m\u001b[0m\u001b[0m\n",
      "\u001b[0;31mValueError\u001b[0m: invalid literal for int() with base 10: '34.7'"
     ]
    }
   ],
   "source": [
    "x = int(input(\"insert integer: \"))\n",
    "print (\"x = \", x)"
   ]
  },
  {
   "cell_type": "code",
   "execution_count": 6,
   "metadata": {
    "slideshow": {
     "slide_type": "subslide"
    }
   },
   "outputs": [
    {
     "name": "stdout",
     "output_type": "stream",
     "text": [
      "insert integer number: 12\n",
      "a rational number? 12.1\n",
      "y: 12.1 > x:12\n"
     ]
    }
   ],
   "source": [
    "x = int(input(\"insert integer number: \"))\n",
    "y = float( input(\"a rational number? \"))\n",
    "\n",
    "if x > y:\n",
    "    print(\"x: {0} > y:{1}\".format(x,y)  )\n",
    "else: \n",
    "    print(\"y: {1} > x:{0}\".format(x,y) )\n",
    "\n"
   ]
  },
  {
   "cell_type": "markdown",
   "metadata": {},
   "source": [
    "# built-in types\n",
    "\n",
    "Commonly used numerical and string types are\n",
    "\n",
    "type | Description |\n",
    ":----|:-----------\n",
    " str | similar to C++ string \n",
    " float | C double precision \n",
    " complex | complex number with real parts x + yj\n",
    " int | integer \n",
    " bool | boolean variable. special integer with just 1 bit\n",
    "\n",
    "you have to explicitly convert `input()` to desired type for use.\n"
   ]
  },
  {
   "cell_type": "code",
   "execution_count": 7,
   "metadata": {},
   "outputs": [
    {
     "name": "stdout",
     "output_type": "stream",
     "text": [
      "insert an integer: 12\n",
      "12\n"
     ]
    }
   ],
   "source": [
    "anint = int( input(\"insert an integer: \"))\n",
    "print(anint)"
   ]
  },
  {
   "cell_type": "markdown",
   "metadata": {},
   "source": [
    "by putting the explicit cast, you will have an error if a floating point number is provided in input.\n",
    "There is no automatic conversion!"
   ]
  },
  {
   "cell_type": "code",
   "execution_count": 8,
   "metadata": {},
   "outputs": [
    {
     "name": "stdout",
     "output_type": "stream",
     "text": [
      "insert a float: 1.2\n",
      "1.2\n"
     ]
    }
   ],
   "source": [
    "afloat = float( input(\"insert a float: \"))\n",
    "print(afloat)"
   ]
  },
  {
   "cell_type": "markdown",
   "metadata": {},
   "source": [
    "However an integer literal can be used as float:"
   ]
  },
  {
   "cell_type": "code",
   "execution_count": 9,
   "metadata": {},
   "outputs": [
    {
     "name": "stdout",
     "output_type": "stream",
     "text": [
      "insert a float: 12\n",
      "12.0\n"
     ]
    }
   ],
   "source": [
    "afloat = float( input(\"insert a float: \"))\n",
    "print(afloat)"
   ]
  },
  {
   "cell_type": "code",
   "execution_count": 11,
   "metadata": {},
   "outputs": [
    {
     "name": "stdout",
     "output_type": "stream",
     "text": [
      "insert a complex number: 10j\n",
      "10j\n"
     ]
    }
   ],
   "source": [
    "acomplex = complex( input(\"insert a complex number: \"))\n",
    "print(acomplex)"
   ]
  },
  {
   "cell_type": "markdown",
   "metadata": {},
   "source": [
    "## bool type\n",
    "same as bool in C++. used for logical operation and uses just one bit to store the info"
   ]
  },
  {
   "cell_type": "code",
   "execution_count": 12,
   "metadata": {},
   "outputs": [
    {
     "name": "stdout",
     "output_type": "stream",
     "text": [
      "True <class 'bool'> 1\n",
      "False 0\n",
      "True 1\n",
      "True 1\n",
      "<class 'float'> <class 'bool'> <class 'str'>\n"
     ]
    }
   ],
   "source": [
    "c = 2.3 < 3\n",
    "print(c,type(c),c.bit_length())\n",
    "\n",
    "c = bool(0)\n",
    "print(c,c.bit_length())\n",
    "\n",
    "c = bool(-3)\n",
    "print(c,c.bit_length())\n",
    "\n",
    "d = True\n",
    "print(d, int(d))\n",
    "\n",
    "print(type(2.3), type(True), type(\"hello\"))"
   ]
  },
  {
   "cell_type": "markdown",
   "metadata": {},
   "source": [
    "## integers in python\n",
    "Unlike in C/C++, you can have arbitrarily large integers in python"
   ]
  },
  {
   "cell_type": "code",
   "execution_count": 14,
   "metadata": {},
   "outputs": [
    {
     "name": "stdout",
     "output_type": "stream",
     "text": [
      "2282964069396179429161277601795098342183689069116233595351030111107374894317918598839132436948135567673806054712849856030005501307907699595360638611572383720569\n",
      "<class 'int'>\n",
      "18334\n"
     ]
    }
   ],
   "source": [
    "j = 3**334 # 3^334\n",
    "print(j)\n",
    "print(type(j))\n",
    "print( (3**11567).bit_length())"
   ]
  },
  {
   "cell_type": "markdown",
   "metadata": {},
   "source": [
    "## Integer in arbitrary base\n",
    "\n",
    "A neat feature of integers in python is easy conversion to an arbitrary base"
   ]
  },
  {
   "cell_type": "code",
   "execution_count": 17,
   "metadata": {},
   "outputs": [
    {
     "name": "stdout",
     "output_type": "stream",
     "text": [
      "5 101\n"
     ]
    }
   ],
   "source": [
    "a = int('101',base=2)\n",
    "b = int(101)\n",
    "print(a,b)"
   ]
  },
  {
   "cell_type": "code",
   "execution_count": 18,
   "metadata": {},
   "outputs": [
    {
     "data": {
      "text/plain": [
       "10"
      ]
     },
     "execution_count": 18,
     "metadata": {},
     "output_type": "execute_result"
    }
   ],
   "source": [
    "int('101', base=3)"
   ]
  },
  {
   "cell_type": "code",
   "execution_count": 19,
   "metadata": {},
   "outputs": [
    {
     "data": {
      "text/plain": [
       "26"
      ]
     },
     "execution_count": 19,
     "metadata": {},
     "output_type": "execute_result"
    }
   ],
   "source": [
    "int('101', base=5)"
   ]
  },
  {
   "cell_type": "code",
   "execution_count": 20,
   "metadata": {},
   "outputs": [
    {
     "data": {
      "text/plain": [
       "50"
      ]
     },
     "execution_count": 20,
     "metadata": {},
     "output_type": "execute_result"
    }
   ],
   "source": [
    "int('101', base=7)"
   ]
  },
  {
   "cell_type": "code",
   "execution_count": 21,
   "metadata": {},
   "outputs": [
    {
     "data": {
      "text/plain": [
       "65"
      ]
     },
     "execution_count": 21,
     "metadata": {},
     "output_type": "execute_result"
    }
   ],
   "source": [
    "int('101', base=8)"
   ]
  },
  {
   "cell_type": "code",
   "execution_count": 22,
   "metadata": {},
   "outputs": [
    {
     "data": {
      "text/plain": [
       "257"
      ]
     },
     "execution_count": 22,
     "metadata": {},
     "output_type": "execute_result"
    }
   ],
   "source": [
    "int('101', base=16)"
   ]
  },
  {
   "cell_type": "code",
   "execution_count": 23,
   "metadata": {},
   "outputs": [
    {
     "data": {
      "text/plain": [
       "31"
      ]
     },
     "execution_count": 23,
     "metadata": {},
     "output_type": "execute_result"
    }
   ],
   "source": [
    "int('1F',base=16)"
   ]
  },
  {
   "cell_type": "code",
   "execution_count": 25,
   "metadata": {},
   "outputs": [
    {
     "name": "stdout",
     "output_type": "stream",
     "text": [
      "65281\n",
      "113\n"
     ]
    },
    {
     "data": {
      "text/plain": [
       "65394"
      ]
     },
     "execution_count": 25,
     "metadata": {},
     "output_type": "execute_result"
    }
   ],
   "source": [
    "x = int('FF01',base=16)\n",
    "print(x)\n",
    "print(int('1110001',base=2))\n",
    "int('FF01',base=16)+int('1110001',base=2)"
   ]
  },
  {
   "cell_type": "markdown",
   "metadata": {},
   "source": [
    "# Inline help and inspection\n",
    "In addition to `?` in jupyter, you can use the inline help facility in the interactive python session:"
   ]
  },
  {
   "cell_type": "code",
   "execution_count": 26,
   "metadata": {},
   "outputs": [
    {
     "name": "stdout",
     "output_type": "stream",
     "text": [
      "Help on class int in module builtins:\n",
      "\n",
      "class int(object)\n",
      " |  int([x]) -> integer\n",
      " |  int(x, base=10) -> integer\n",
      " |  \n",
      " |  Convert a number or string to an integer, or return 0 if no arguments\n",
      " |  are given.  If x is a number, return x.__int__().  For floating point\n",
      " |  numbers, this truncates towards zero.\n",
      " |  \n",
      " |  If x is not a number or if base is given, then x must be a string,\n",
      " |  bytes, or bytearray instance representing an integer literal in the\n",
      " |  given base.  The literal can be preceded by '+' or '-' and be surrounded\n",
      " |  by whitespace.  The base defaults to 10.  Valid bases are 0 and 2-36.\n",
      " |  Base 0 means to interpret the base from the string as an integer literal.\n",
      " |  >>> int('0b100', base=0)\n",
      " |  4\n",
      " |  \n",
      " |  Methods defined here:\n",
      " |  \n",
      " |  __abs__(self, /)\n",
      " |      abs(self)\n",
      " |  \n",
      " |  __add__(self, value, /)\n",
      " |      Return self+value.\n",
      " |  \n",
      " |  __and__(self, value, /)\n",
      " |      Return self&value.\n",
      " |  \n",
      " |  __bool__(self, /)\n",
      " |      self != 0\n",
      " |  \n",
      " |  __ceil__(...)\n",
      " |      Ceiling of an Integral returns itself.\n",
      " |  \n",
      " |  __divmod__(self, value, /)\n",
      " |      Return divmod(self, value).\n",
      " |  \n",
      " |  __eq__(self, value, /)\n",
      " |      Return self==value.\n",
      " |  \n",
      " |  __float__(self, /)\n",
      " |      float(self)\n",
      " |  \n",
      " |  __floor__(...)\n",
      " |      Flooring an Integral returns itself.\n",
      " |  \n",
      " |  __floordiv__(self, value, /)\n",
      " |      Return self//value.\n",
      " |  \n",
      " |  __format__(self, format_spec, /)\n",
      " |      Default object formatter.\n",
      " |  \n",
      " |  __ge__(self, value, /)\n",
      " |      Return self>=value.\n",
      " |  \n",
      " |  __getattribute__(self, name, /)\n",
      " |      Return getattr(self, name).\n",
      " |  \n",
      " |  __getnewargs__(self, /)\n",
      " |  \n",
      " |  __gt__(self, value, /)\n",
      " |      Return self>value.\n",
      " |  \n",
      " |  __hash__(self, /)\n",
      " |      Return hash(self).\n",
      " |  \n",
      " |  __index__(self, /)\n",
      " |      Return self converted to an integer, if self is suitable for use as an index into a list.\n",
      " |  \n",
      " |  __int__(self, /)\n",
      " |      int(self)\n",
      " |  \n",
      " |  __invert__(self, /)\n",
      " |      ~self\n",
      " |  \n",
      " |  __le__(self, value, /)\n",
      " |      Return self<=value.\n",
      " |  \n",
      " |  __lshift__(self, value, /)\n",
      " |      Return self<<value.\n",
      " |  \n",
      " |  __lt__(self, value, /)\n",
      " |      Return self<value.\n",
      " |  \n",
      " |  __mod__(self, value, /)\n",
      " |      Return self%value.\n",
      " |  \n",
      " |  __mul__(self, value, /)\n",
      " |      Return self*value.\n",
      " |  \n",
      " |  __ne__(self, value, /)\n",
      " |      Return self!=value.\n",
      " |  \n",
      " |  __neg__(self, /)\n",
      " |      -self\n",
      " |  \n",
      " |  __or__(self, value, /)\n",
      " |      Return self|value.\n",
      " |  \n",
      " |  __pos__(self, /)\n",
      " |      +self\n",
      " |  \n",
      " |  __pow__(self, value, mod=None, /)\n",
      " |      Return pow(self, value, mod).\n",
      " |  \n",
      " |  __radd__(self, value, /)\n",
      " |      Return value+self.\n",
      " |  \n",
      " |  __rand__(self, value, /)\n",
      " |      Return value&self.\n",
      " |  \n",
      " |  __rdivmod__(self, value, /)\n",
      " |      Return divmod(value, self).\n",
      " |  \n",
      " |  __repr__(self, /)\n",
      " |      Return repr(self).\n",
      " |  \n",
      " |  __rfloordiv__(self, value, /)\n",
      " |      Return value//self.\n",
      " |  \n",
      " |  __rlshift__(self, value, /)\n",
      " |      Return value<<self.\n",
      " |  \n",
      " |  __rmod__(self, value, /)\n",
      " |      Return value%self.\n",
      " |  \n",
      " |  __rmul__(self, value, /)\n",
      " |      Return value*self.\n",
      " |  \n",
      " |  __ror__(self, value, /)\n",
      " |      Return value|self.\n",
      " |  \n",
      " |  __round__(...)\n",
      " |      Rounding an Integral returns itself.\n",
      " |      Rounding with an ndigits argument also returns an integer.\n",
      " |  \n",
      " |  __rpow__(self, value, mod=None, /)\n",
      " |      Return pow(value, self, mod).\n",
      " |  \n",
      " |  __rrshift__(self, value, /)\n",
      " |      Return value>>self.\n",
      " |  \n",
      " |  __rshift__(self, value, /)\n",
      " |      Return self>>value.\n",
      " |  \n",
      " |  __rsub__(self, value, /)\n",
      " |      Return value-self.\n",
      " |  \n",
      " |  __rtruediv__(self, value, /)\n",
      " |      Return value/self.\n",
      " |  \n",
      " |  __rxor__(self, value, /)\n",
      " |      Return value^self.\n",
      " |  \n",
      " |  __sizeof__(self, /)\n",
      " |      Returns size in memory, in bytes.\n",
      " |  \n",
      " |  __str__(self, /)\n",
      " |      Return str(self).\n",
      " |  \n",
      " |  __sub__(self, value, /)\n",
      " |      Return self-value.\n",
      " |  \n",
      " |  __truediv__(self, value, /)\n",
      " |      Return self/value.\n",
      " |  \n",
      " |  __trunc__(...)\n",
      " |      Truncating an Integral returns itself.\n",
      " |  \n",
      " |  __xor__(self, value, /)\n",
      " |      Return self^value.\n",
      " |  \n",
      " |  bit_length(self, /)\n",
      " |      Number of bits necessary to represent self in binary.\n",
      " |      \n",
      " |      >>> bin(37)\n",
      " |      '0b100101'\n",
      " |      >>> (37).bit_length()\n",
      " |      6\n",
      " |  \n",
      " |  conjugate(...)\n",
      " |      Returns self, the complex conjugate of any int.\n",
      " |  \n",
      " |  to_bytes(self, /, length, byteorder, *, signed=False)\n",
      " |      Return an array of bytes representing an integer.\n",
      " |      \n",
      " |      length\n",
      " |        Length of bytes object to use.  An OverflowError is raised if the\n",
      " |        integer is not representable with the given number of bytes.\n",
      " |      byteorder\n",
      " |        The byte order used to represent the integer.  If byteorder is 'big',\n",
      " |        the most significant byte is at the beginning of the byte array.  If\n",
      " |        byteorder is 'little', the most significant byte is at the end of the\n",
      " |        byte array.  To request the native byte order of the host system, use\n",
      " |        `sys.byteorder' as the byte order value.\n",
      " |      signed\n",
      " |        Determines whether two's complement is used to represent the integer.\n",
      " |        If signed is False and a negative integer is given, an OverflowError\n",
      " |        is raised.\n",
      " |  \n",
      " |  ----------------------------------------------------------------------\n",
      " |  Class methods defined here:\n",
      " |  \n",
      " |  from_bytes(bytes, byteorder, *, signed=False) from builtins.type\n",
      " |      Return the integer represented by the given array of bytes.\n",
      " |      \n",
      " |      bytes\n",
      " |        Holds the array of bytes to convert.  The argument must either\n",
      " |        support the buffer protocol or be an iterable object producing bytes.\n",
      " |        Bytes and bytearray are examples of built-in objects that support the\n",
      " |        buffer protocol.\n",
      " |      byteorder\n",
      " |        The byte order used to represent the integer.  If byteorder is 'big',\n",
      " |        the most significant byte is at the beginning of the byte array.  If\n",
      " |        byteorder is 'little', the most significant byte is at the end of the\n",
      " |        byte array.  To request the native byte order of the host system, use\n",
      " |        `sys.byteorder' as the byte order value.\n",
      " |      signed\n",
      " |        Indicates whether two's complement is used to represent the integer.\n",
      " |  \n",
      " |  ----------------------------------------------------------------------\n",
      " |  Static methods defined here:\n",
      " |  \n",
      " |  __new__(*args, **kwargs) from builtins.type\n",
      " |      Create and return a new object.  See help(type) for accurate signature.\n",
      " |  \n",
      " |  ----------------------------------------------------------------------\n",
      " |  Data descriptors defined here:\n",
      " |  \n",
      " |  denominator\n",
      " |      the denominator of a rational number in lowest terms\n",
      " |  \n",
      " |  imag\n",
      " |      the imaginary part of a complex number\n",
      " |  \n",
      " |  numerator\n",
      " |      the numerator of a rational number in lowest terms\n",
      " |  \n",
      " |  real\n",
      " |      the real part of a complex number\n",
      "\n"
     ]
    }
   ],
   "source": [
    "help(int)"
   ]
  },
  {
   "cell_type": "markdown",
   "metadata": {},
   "source": [
    "and since everything is an object in python, you can list the attributes, data and functions which are all objects, within any object."
   ]
  },
  {
   "cell_type": "code",
   "execution_count": 27,
   "metadata": {},
   "outputs": [
    {
     "data": {
      "text/plain": [
       "['__abs__',\n",
       " '__add__',\n",
       " '__and__',\n",
       " '__bool__',\n",
       " '__ceil__',\n",
       " '__class__',\n",
       " '__delattr__',\n",
       " '__dir__',\n",
       " '__divmod__',\n",
       " '__doc__',\n",
       " '__eq__',\n",
       " '__float__',\n",
       " '__floor__',\n",
       " '__floordiv__',\n",
       " '__format__',\n",
       " '__ge__',\n",
       " '__getattribute__',\n",
       " '__getnewargs__',\n",
       " '__gt__',\n",
       " '__hash__',\n",
       " '__index__',\n",
       " '__init__',\n",
       " '__init_subclass__',\n",
       " '__int__',\n",
       " '__invert__',\n",
       " '__le__',\n",
       " '__lshift__',\n",
       " '__lt__',\n",
       " '__mod__',\n",
       " '__mul__',\n",
       " '__ne__',\n",
       " '__neg__',\n",
       " '__new__',\n",
       " '__or__',\n",
       " '__pos__',\n",
       " '__pow__',\n",
       " '__radd__',\n",
       " '__rand__',\n",
       " '__rdivmod__',\n",
       " '__reduce__',\n",
       " '__reduce_ex__',\n",
       " '__repr__',\n",
       " '__rfloordiv__',\n",
       " '__rlshift__',\n",
       " '__rmod__',\n",
       " '__rmul__',\n",
       " '__ror__',\n",
       " '__round__',\n",
       " '__rpow__',\n",
       " '__rrshift__',\n",
       " '__rshift__',\n",
       " '__rsub__',\n",
       " '__rtruediv__',\n",
       " '__rxor__',\n",
       " '__setattr__',\n",
       " '__sizeof__',\n",
       " '__str__',\n",
       " '__sub__',\n",
       " '__subclasshook__',\n",
       " '__truediv__',\n",
       " '__trunc__',\n",
       " '__xor__',\n",
       " 'bit_length',\n",
       " 'conjugate',\n",
       " 'denominator',\n",
       " 'from_bytes',\n",
       " 'imag',\n",
       " 'numerator',\n",
       " 'real',\n",
       " 'to_bytes']"
      ]
     },
     "execution_count": 27,
     "metadata": {},
     "output_type": "execute_result"
    }
   ],
   "source": [
    "dir(int)"
   ]
  },
  {
   "cell_type": "code",
   "execution_count": 28,
   "metadata": {},
   "outputs": [
    {
     "name": "stdout",
     "output_type": "stream",
     "text": [
      "Help on method_descriptor:\n",
      "\n",
      "bit_length(self, /)\n",
      "    Number of bits necessary to represent self in binary.\n",
      "    \n",
      "    >>> bin(37)\n",
      "    '0b100101'\n",
      "    >>> (37).bit_length()\n",
      "    6\n",
      "\n"
     ]
    }
   ],
   "source": [
    "help(int.bit_length)"
   ]
  },
  {
   "cell_type": "code",
   "execution_count": 29,
   "metadata": {
    "scrolled": true
   },
   "outputs": [
    {
     "name": "stdout",
     "output_type": "stream",
     "text": [
      "Help on built-in function bin in module builtins:\n",
      "\n",
      "bin(number, /)\n",
      "    Return the binary representation of an integer.\n",
      "    \n",
      "    >>> bin(2796202)\n",
      "    '0b1010101010101010101010'\n",
      "\n"
     ]
    }
   ],
   "source": [
    "help(bin)"
   ]
  },
  {
   "cell_type": "code",
   "execution_count": 30,
   "metadata": {},
   "outputs": [
    {
     "data": {
      "text/plain": [
       "'0b111100001111'"
      ]
     },
     "execution_count": 30,
     "metadata": {},
     "output_type": "execute_result"
    }
   ],
   "source": [
    "bin( int('F0F',base=16) )"
   ]
  },
  {
   "cell_type": "markdown",
   "metadata": {},
   "source": [
    "There are actually built-in functions for easy base conversion"
   ]
  },
  {
   "cell_type": "code",
   "execution_count": 32,
   "metadata": {},
   "outputs": [
    {
     "name": "stdout",
     "output_type": "stream",
     "text": [
      "0b10111 0o27 0x17\n"
     ]
    },
    {
     "data": {
      "text/plain": [
       "41"
      ]
     },
     "execution_count": 32,
     "metadata": {},
     "output_type": "execute_result"
    }
   ],
   "source": [
    "c = 23\n",
    "print( bin(c), oct(c), hex(c))\n",
    "\n",
    "0x1F + 3 +0b111"
   ]
  },
  {
   "cell_type": "markdown",
   "metadata": {},
   "source": [
    "So finally you can quickly exercise your ability to convert between hexadecimal and binary bases."
   ]
  },
  {
   "cell_type": "code",
   "execution_count": 33,
   "metadata": {},
   "outputs": [
    {
     "name": "stdout",
     "output_type": "stream",
     "text": [
      "0x18\n"
     ]
    }
   ],
   "source": [
    "print( hex(0b00011000))"
   ]
  },
  {
   "cell_type": "markdown",
   "metadata": {},
   "source": [
    "# Flow control in python\n",
    "The main difference with respect to C++ is the lack of `}` and `;` and use of `:` and indentation for logical \n",
    "structure\n",
    "\n",
    "```c++\n",
    "if(x<0) {\n",
    "} else {\n",
    "    cout << x << endl;\n",
    "}\n",
    "```\n",
    "\n",
    "\n",
    "## If/elif/else "
   ]
  },
  {
   "cell_type": "code",
   "execution_count": 37,
   "metadata": {},
   "outputs": [
    {
     "name": "stdout",
     "output_type": "stream",
     "text": [
      "insert a number: 0.6\n",
      "0 < x < 1\n"
     ]
    }
   ],
   "source": [
    "x = float(input(\"insert a number: \"))\n",
    "if x < 0 :\n",
    "    pass\n",
    "elif x < 1:\n",
    "    print(\"0 < x < 1\")\n",
    "else:\n",
    "    print(\"x > 1\")\n",
    "    "
   ]
  },
  {
   "cell_type": "markdown",
   "metadata": {},
   "source": [
    "The new keyword `pass` is needed for an empty scope. It does not skip anything. It only tells the interpreter that in this scope there is nothing to do. It is equivalent to `{}` in C++."
   ]
  },
  {
   "cell_type": "markdown",
   "metadata": {},
   "source": [
    "## while loop"
   ]
  },
  {
   "cell_type": "code",
   "execution_count": 38,
   "metadata": {},
   "outputs": [
    {
     "name": "stdout",
     "output_type": "stream",
     "text": [
      "insert x in [0,1]: 5\n",
      "insert x in [0,1]: -5\n",
      "insert x in [0,1]: 0.5\n"
     ]
    }
   ],
   "source": [
    "w = -2\n",
    "while w<0 or w>1:\n",
    "    w = float(input(\"insert x in [0,1]: \"))"
   ]
  },
  {
   "cell_type": "markdown",
   "metadata": {},
   "source": [
    "You can now easily create a user interface for input with control over user input"
   ]
  },
  {
   "cell_type": "code",
   "execution_count": 39,
   "metadata": {},
   "outputs": [
    {
     "name": "stdout",
     "output_type": "stream",
     "text": [
      "insert x in [0,1]: 9\n",
      "insert x in [0,1]: -3\n",
      "insert x in [0,1]: 4\n",
      "insert x in [0,1]: 0.3\n"
     ]
    }
   ],
   "source": [
    "while True:\n",
    "    w = float(input(\"insert x in [0,1]: \"))\n",
    "    if w>=0 and w<=1: break"
   ]
  },
  {
   "cell_type": "markdown",
   "metadata": {},
   "source": [
    "## for loop\n",
    "we have already seen the use of a for loop that requires a sequence of objects to iterate over\n"
   ]
  },
  {
   "cell_type": "code",
   "execution_count": 42,
   "metadata": {},
   "outputs": [
    {
     "data": {
      "text/plain": [
       "range"
      ]
     },
     "execution_count": 42,
     "metadata": {},
     "output_type": "execute_result"
    }
   ],
   "source": [
    "type(range(0,10,1))"
   ]
  },
  {
   "cell_type": "code",
   "execution_count": 43,
   "metadata": {},
   "outputs": [
    {
     "name": "stdout",
     "output_type": "stream",
     "text": [
      "Help on class range in module builtins:\n",
      "\n",
      "class range(object)\n",
      " |  range(stop) -> range object\n",
      " |  range(start, stop[, step]) -> range object\n",
      " |  \n",
      " |  Return an object that produces a sequence of integers from start (inclusive)\n",
      " |  to stop (exclusive) by step.  range(i, j) produces i, i+1, i+2, ..., j-1.\n",
      " |  start defaults to 0, and stop is omitted!  range(4) produces 0, 1, 2, 3.\n",
      " |  These are exactly the valid indices for a list of 4 elements.\n",
      " |  When step is given, it specifies the increment (or decrement).\n",
      " |  \n",
      " |  Methods defined here:\n",
      " |  \n",
      " |  __bool__(self, /)\n",
      " |      self != 0\n",
      " |  \n",
      " |  __contains__(self, key, /)\n",
      " |      Return key in self.\n",
      " |  \n",
      " |  __eq__(self, value, /)\n",
      " |      Return self==value.\n",
      " |  \n",
      " |  __ge__(self, value, /)\n",
      " |      Return self>=value.\n",
      " |  \n",
      " |  __getattribute__(self, name, /)\n",
      " |      Return getattr(self, name).\n",
      " |  \n",
      " |  __getitem__(self, key, /)\n",
      " |      Return self[key].\n",
      " |  \n",
      " |  __gt__(self, value, /)\n",
      " |      Return self>value.\n",
      " |  \n",
      " |  __hash__(self, /)\n",
      " |      Return hash(self).\n",
      " |  \n",
      " |  __iter__(self, /)\n",
      " |      Implement iter(self).\n",
      " |  \n",
      " |  __le__(self, value, /)\n",
      " |      Return self<=value.\n",
      " |  \n",
      " |  __len__(self, /)\n",
      " |      Return len(self).\n",
      " |  \n",
      " |  __lt__(self, value, /)\n",
      " |      Return self<value.\n",
      " |  \n",
      " |  __ne__(self, value, /)\n",
      " |      Return self!=value.\n",
      " |  \n",
      " |  __reduce__(...)\n",
      " |      Helper for pickle.\n",
      " |  \n",
      " |  __repr__(self, /)\n",
      " |      Return repr(self).\n",
      " |  \n",
      " |  __reversed__(...)\n",
      " |      Return a reverse iterator.\n",
      " |  \n",
      " |  count(...)\n",
      " |      rangeobject.count(value) -> integer -- return number of occurrences of value\n",
      " |  \n",
      " |  index(...)\n",
      " |      rangeobject.index(value) -> integer -- return index of value.\n",
      " |      Raise ValueError if the value is not present.\n",
      " |  \n",
      " |  ----------------------------------------------------------------------\n",
      " |  Static methods defined here:\n",
      " |  \n",
      " |  __new__(*args, **kwargs) from builtins.type\n",
      " |      Create and return a new object.  See help(type) for accurate signature.\n",
      " |  \n",
      " |  ----------------------------------------------------------------------\n",
      " |  Data descriptors defined here:\n",
      " |  \n",
      " |  start\n",
      " |  \n",
      " |  step\n",
      " |  \n",
      " |  stop\n",
      "\n"
     ]
    }
   ],
   "source": [
    "help(range)"
   ]
  },
  {
   "cell_type": "code",
   "execution_count": 44,
   "metadata": {},
   "outputs": [
    {
     "name": "stdout",
     "output_type": "stream",
     "text": [
      "i: 1  \t i^2: 1\n",
      "i: 1\t i^2: 1\n",
      "i: 3  \t i^2: 9\n",
      "i: 3\t i^2: 9\n",
      "i: 5  \t i^2: 25\n",
      "i: 5\t i^2: 25\n",
      "i: 7  \t i^2: 49\n",
      "i: 7\t i^2: 49\n",
      "i: 9  \t i^2: 81\n",
      "i: 9\t i^2: 81\n"
     ]
    }
   ],
   "source": [
    "for i in range(1,11,2):\n",
    "    print(\"i: %-3d\\t i^2: %d\"%(i, i**2))\n",
    "    print(\"i: {0}\\t i^2: {1}\".format(i,i**2))"
   ]
  },
  {
   "cell_type": "markdown",
   "metadata": {},
   "source": [
    "In this example you can also use the C-style `fprintf` formatting for displaying information."
   ]
  },
  {
   "cell_type": "markdown",
   "metadata": {},
   "source": [
    "# Functions\n",
    "\n",
    "as in other languages  function is defined by its name and its arguments. But there is no return type nor you need to specify the type of arguments. Any object can be the input to any function.\n",
    "\n",
    "The generic structure of a function is\n",
    "```python\n",
    "def function(arg1, arg2, arg3=val):\n",
    "    statements\n",
    "    return value\n",
    "```\n",
    "\n",
    "If a function does not return a value, a `None` value is returned automatically"
   ]
  },
  {
   "cell_type": "code",
   "execution_count": 47,
   "metadata": {},
   "outputs": [
    {
     "name": "stdout",
     "output_type": "stream",
     "text": [
      "three body decay\n",
      "decay to 4 or more bodies\n",
      "two body decay\n",
      "<class 'NoneType'>\n",
      "x = 0.1996\n",
      "two body decay\n"
     ]
    }
   ],
   "source": [
    "def decay(x, a=0.3, b=0.7):\n",
    "    if x < a:\n",
    "        print(\"two body decay\")\n",
    "    elif x<b:\n",
    "        print(\"three body decay\")\n",
    "    else:\n",
    "        print(\"decay to 4 or more bodies\")\n",
    "    \n",
    "decay(0.4)\n",
    "decay(0.9, b=0.6)\n",
    "# also decay() has a return type\n",
    "v = decay(0.003)\n",
    "print( type(v))\n",
    "\n",
    "# import NumPy module\n",
    "import numpy as np\n",
    "x = np.random.random()\n",
    "print(\"x = %.4f\"%x)\n",
    "decay(x)\n"
   ]
  },
  {
   "cell_type": "markdown",
   "metadata": {},
   "source": [
    "# python application and modules\n",
    "An important difference with respect to C++ is the lack of an entry point.\n",
    "\n",
    "A typical C/C++ application `app.cc` is\n",
    "```c++\n",
    "#include <stdio>\n",
    "#include<math>\n",
    "\n",
    "double uniform(double,double);\n",
    "\n",
    "int main() {\n",
    "  /*   code goes here */\n",
    "  return 0;\n",
    "}\n",
    "\n",
    "double uniform(double a,double b) {\n",
    "  /* implement uniform */\n",
    "  return something\n",
    "}\n",
    "```\n",
    "you compile and link the application using the math library as\n",
    "```\n",
    "g++ -o /tmp/app.exe -lm app.cc\n",
    "```\n",
    "and finally run the executable\n",
    "```\n",
    "/tmp/app.exe\n",
    "```\n",
    "\n",
    "Running the executable means that the oeprating system calls the `main()` function in `app.exe`.\n",
    "\n",
    "**In python however there is no such thing!**\n",
    "\n",
    "A program is any file containing python statements. Being an interpreted language, all statements are executed as they appear in the file.\n",
    "\n",
    "\n",
    "The following example showing the use of modules and namespace are available at [examples/python](https://github.com/rahatlou/CMP/tree/CMP2020/examples/python)\n",
    "\n",
    "\n",
    "Our first program is `example11.py`"
   ]
  },
  {
   "cell_type": "markdown",
   "metadata": {},
   "source": [
    "````\n",
    "# this is my first module\n",
    "\n",
    "print(\"==== running example11.py\")\n",
    "\n",
    "a = 2.3\n",
    "b = 4.5\n",
    "c = a/b\n",
    "\n",
    "def line(x, m=1., q=0.):\n",
    "  print(\"x: {2}, m: {0}, q: {1}\".format(m,q,x))\n",
    "  return m*x+q\n",
    "\n",
    "#print using ''\n",
    "print('a = {0}, b = {1}, c = {2}'.format( a, b, c) )\n",
    "\n",
    "\n",
    "print( \"y = \", line(2., q=2.3) )\n",
    "print( \"y = \", line(0., q=-1.3) )\n",
    "print(\"==== end of example1.py\")\n",
    "```"
   ]
  },
  {
   "cell_type": "markdown",
   "metadata": {},
   "source": [
    "__Reminder__: you can execute the program from the command line with \n",
    "```\n",
    "python3 example11.py\n",
    "```\n",
    "In jupyter you can run a local file (with path relative to directory where you started the notebook session) by using the magic `%run` command.\n",
    "\n",
    "In this case I am already in  \n",
    "```\n",
    "$ pwd\n",
    "/Users/rahatlou/Didattica/Computing Methods in Physics/lec22\n",
    "```"
   ]
  },
  {
   "cell_type": "code",
   "execution_count": 2,
   "metadata": {},
   "outputs": [
    {
     "name": "stdout",
     "output_type": "stream",
     "text": [
      "==== running example11.py\n",
      "a = 2.3, b = 4.5, c = 0.5111111111111111\n",
      "x: 2.0, m: 1.0, q: 2.3\n",
      "4.3\n",
      "x: 0.0, m: 1.0, q: -1.3\n",
      "-1.3\n",
      "==== end of example11.py\n"
     ]
    }
   ],
   "source": [
    "%run ../examples/python/example11.py"
   ]
  },
  {
   "cell_type": "markdown",
   "metadata": {},
   "source": [
    "## Our first module\n",
    "We now want to use the `line()` function in this examples in other programs. Rather than copying the code by hand we want to use a library model, or what is called a __module__ in python. \n",
    "\n",
    "Unlike C there is  no special setup to create a module.\n",
    "\n",
    "We write a second program `example12.py`\n",
    "```python\n",
    "import example11\n",
    "\n",
    "print('===== running example12.py ===== ')\n",
    "\n",
    "x = float(input(\"insert x:\"))\n",
    "y = example11.line(x)\n",
    "print( y )\n",
    "\n",
    "# a much shorter way\n",
    "print( example11.line( float( input(\"insert x:\")  )  )  )\n",
    "```\n",
    "then execute from the command line\n",
    "\n",
    "```shell\n",
    "$ python3 example12.py\n",
    "==== running example11.py\n",
    "a = 2.3, b = 4.5, c = 0.5111111111111111\n",
    "x: 2.0, m: 1.0, q: 2.3\n",
    "4.3\n",
    "x: 0.0, m: 1.0, q: -1.3\n",
    "-1.3\n",
    "==== end of example11.py\n",
    "===== running example12.py ===== \n",
    "insert x:-123\n",
    "x: -123.0, m: 1.0, q: 0.0\n",
    "-123.0\n",
    "insert x:23\n",
    "x: 23.0, m: 1.0, q: 0.0\n",
    "23.0\n",
    "```"
   ]
  },
  {
   "cell_type": "markdown",
   "metadata": {},
   "source": [
    "There are 2 important aspects to note\n",
    "  1. the function `line()` belongs to the `example11` namespace. So you __must__ use `example11.line` to call the functions\n",
    "  2. by importing `example11` in addition to the function `line` you also execute the rest of the python program\n",
    "  This is expected because __python is an interpreted language__ \n",
    "  \n",
    "let's address these 2 issues\n",
    "\n",
    "### importing only some objects of a module\n",
    "To address the first issue we can do the following in `example13.py`\n",
    "```python\n",
    "from  example11 import line\n",
    "\n",
    "print(\"++++ executing \"+ __file__)\n",
    "\n",
    "print( line( -3.4, q=0.5 )  )\n",
    "```\n",
    "Now when we run the program:\n",
    "```shell\n",
    "$ python3 example13.py \n",
    "==== running example1.py\n",
    "a = 2.3, b = 4.5, c = 0.5111111111111111\n",
    "x: 2.0, m: 1.0, q: 2.3\n",
    "4.3\n",
    "x: 0.0, m: 1.0, q: -1.3\n",
    "-1.3\n",
    "==== end of example1.py\n",
    "++++ executing example13.py\n",
    "x: -3.4, m: 1.0, q: 0.5\n",
    "-2.9\n",
    "```"
   ]
  },
  {
   "cell_type": "markdown",
   "metadata": {},
   "source": [
    "### importing objects from a module with a new name\n",
    "A different approach is shown in (`example14.py`) where line is imported with a new name `p1`\n",
    "```python\n",
    "from  example11 import line as p1\n",
    "\n",
    "print(\"++++ executing \"+ __file__)\n",
    "\n",
    "print( p1( -3.4, q=0.5 )  )\n",
    "```\n",
    "which produces\n",
    "\n",
    "```shell\n",
    "$ python3 example14.py\n",
    "==== running example11.py\n",
    "a = 2.3, b = 4.5, c = 0.5111111111111111\n",
    "x: 2.0, m: 1.0, q: 2.3\n",
    "4.3\n",
    "x: 0.0, m: 1.0, q: -1.3\n",
    "-1.3\n",
    "==== end of example11.py\n",
    "++++ executing example14.py\n",
    "x: -3.4, m: 1.0, q: 0.5\n",
    "-2.9\n",
    "```"
   ]
  },
  {
   "cell_type": "markdown",
   "metadata": {},
   "source": [
    "### what is imported? \n",
    "All objects defined in a module are available when a module is imported. \n",
    "\n",
    "This is shown in `example15.py`\n",
    "```python \n",
    "$ cat example15.py \n",
    "import example11\n",
    "\n",
    "print(\"++++ executing file: \"+ __file__)\n",
    "\n",
    "print( \"callig example11.line( 2.34, q=0.5 ): \", example11.line( 2.34, q=0.5 )  )\n",
    "\n",
    "print( \"example11.a: %f\"%example11.a )\n",
    "```\n",
    "and when running in the terminal\n",
    "\n",
    "```shell\n",
    "$ python3 example15.py\n",
    "==== running example1.py\n",
    "a = 2.3, b = 4.5, c = 0.5111111111111111\n",
    "x: 2.0, m: 1.0, q: 2.3\n",
    "4.3\n",
    "x: 0.0, m: 1.0, q: -1.3\n",
    "-1.3\n",
    "==== end of example1.py\n",
    "++++ executing file: example15.py\n",
    "x: 2.34, m: 1.0, q: 0.5\n",
    "callig example11.line( 2.34, q=0.5 ):  2.84\n",
    "example11.a: 2.300000\n",
    "```"
   ]
  },
  {
   "cell_type": "markdown",
   "metadata": {},
   "source": [
    "### importing only objects without executing statements\n",
    "We now solve our sec0nd problem which is how to avoid running the statements in `example11.py`  when importing it as a module.\n",
    "\n",
    "This can be done with a more advanced feature of python which we will understand better in future lecture. The solution is actually trivial. A modified version of `example11.py` is `mymodule.py`\n",
    "```python\n",
    "# this is my first module\n",
    "a = 2.3\n",
    "b = 4.5\n",
    "c = a/b\n",
    "\n",
    "def line(x, m=1., q=0.):\n",
    "  print(\"=== in line === x: {2}, m: {0}, q: {1}\".format(m,q,x))\n",
    "  return m*x+q\n",
    "\n",
    "print(\"__name__ : \"+  __name__ + \" in \" + __file__)\n",
    "\n",
    "\n",
    "if __name__ == \"__main__\":\n",
    "  print(\"executing \"+  __name__ + \" in \" + __file__)\n",
    "\n",
    "  #print using ''\n",
    "  print('a = {0}, b = {1}, c = {2}'.format( a, b, c) )\n",
    "  print( \"calling line(): \", line(2., q=2.3) )\n",
    "  print( \"calling line()\", line(0., q=-1.3) )\n",
    "\n",
    "  def p1(x, m=1., q=0.):\n",
    "     print(\"x: {2}, m: {0}, q: {1}\".format(m,q,x))\n",
    "     return m*x+q\n",
    "```\n",
    "which has this behavior\n",
    "```shell\n",
    "$ python3 mymodule.py \n",
    "__name__ : __main__ in mymodule.py\n",
    "executing __main__ in mymodule.py\n",
    "\n",
    "a = 2.3, b = 4.5, c = 0.5111111111111111\n",
    "\n",
    "=== in line === x: 2.0, m: 1.0, q: 2.3\n",
    "calling line():  4.3\n",
    "\n",
    "=== in line === x: 0.0, m: 1.0, q: -1.3\n",
    "calling line() -1.3\n",
    "```"
   ]
  },
  {
   "cell_type": "markdown",
   "metadata": {},
   "source": [
    "To understand this better look at in `example16.py`\n",
    "```python\n",
    "import mymodule\n",
    "\n",
    "print(\"++++ executing namespace \" + __name__ + \" in file: \" +  __file__)\n",
    "\n",
    "# local a variable\n",
    "a = 'test string'\n",
    "\n",
    "# any object in mymodule can be used\n",
    "# and there is no confusion with local a\n",
    "print( \"mymodule.a: %f\"%mymodule.a )\n",
    "print( \"local a: \", a )\n",
    "\n",
    "## use line function from mymodule\n",
    "print( mymodule.line( 2.34, q=0.5 )  )\n",
    "\n",
    "## function p1 is defined in mymodule but cannot be used because\n",
    "## behind __name__ == \"__main__\" in mymodule\n",
    "##\n",
    "print( mymodule.p1( 2.34, q=0.5 )  )\n",
    "```"
   ]
  },
  {
   "cell_type": "markdown",
   "metadata": {},
   "source": [
    "At runtime we get the following error\n",
    "```shell\n",
    "$ python3 example16.py\n",
    "__name__ : mymodule in /Users/rahatlou/Sites/Didattica/cmp/examples/python/mymodule.py\n",
    "\n",
    "++++ executing namespace __main__ in file: example16.py\n",
    "\n",
    "mymodule.a: 2.300000\n",
    "local a:  test string\n",
    "\n",
    "=== in line === x: 2.34, m: 1.0, q: 0.5\n",
    "2.84\n",
    "Traceback (most recent call last):\n",
    "  File \"example16.py\", line 19, in <module>\n",
    "    print( mymodule.p1( 2.34, q=0.5 )  )\n",
    "AttributeError: module 'mymodule' has no attribute 'p1'\n",
    "```"
   ]
  },
  {
   "cell_type": "markdown",
   "metadata": {},
   "source": [
    "When `mymodule` is imported it has its own namespace which is not `__main__`. Therefore at anytime only the python program being executed has the `__main__` namespace as desired.\n"
   ]
  },
  {
   "cell_type": "markdown",
   "metadata": {},
   "source": [
    "# Built-in data structures: containers and sequences\n",
    "\n",
    "- One of the great and popular features of python is the presence of built-in containers for sequenes of objects.\n",
    "  - These are similar to STL containers discussed in C++.\n",
    "\n",
    "- Since in python everything is an object and all objects can be refrenced in the same way, containers can include objects of different type\n",
    "  - this is unlike anything seen in C++\n",
    "  \n",
    "- these built-in types and the reference-driven flexibility of python has made it very popular for data analysis\n",
    "\n",
    "- basic built-in data structures in python are\n",
    "  - tuple\n",
    "  - list\n",
    "  - set\n",
    "  - dictionary\n",
    "  \n",
    "- Today we only focus on these types\n",
    "- We will introduce more advanced types when discussing [NumPy](https://www.numpy.org) and [pandas](http://pandas.pydata.org) packages, e.g.\n",
    "  - ndarrays\n",
    "  - series\n",
    "  - time series\n",
    "  - DataFrame"
   ]
  },
  {
   "cell_type": "markdown",
   "metadata": {},
   "source": [
    "## Tuples\n",
    "\n",
    "- sequence of python objects\n",
    "  - fixed length\n",
    "  - immutable\n",
    "\n",
    "to create a tuple simply separate its elements with a `,`"
   ]
  },
  {
   "cell_type": "code",
   "execution_count": 52,
   "metadata": {},
   "outputs": [
    {
     "name": "stdout",
     "output_type": "stream",
     "text": [
      "('lec23', 'lec24', 'lec25')\n"
     ]
    }
   ],
   "source": [
    "a = 'lec23', 'lec24', 'lec25'\n",
    "print(a)\n"
   ]
  },
  {
   "cell_type": "code",
   "execution_count": 56,
   "metadata": {},
   "outputs": [
    {
     "data": {
      "text/plain": [
       "3"
      ]
     },
     "execution_count": 56,
     "metadata": {},
     "output_type": "execute_result"
    }
   ],
   "source": [
    "len(a)\n"
   ]
  },
  {
   "cell_type": "markdown",
   "metadata": {},
   "source": [
    "a tuple can contain different type of objects"
   ]
  },
  {
   "cell_type": "code",
   "execution_count": 57,
   "metadata": {},
   "outputs": [
    {
     "name": "stdout",
     "output_type": "stream",
     "text": [
      "('paul', 24, 1.75, 85.3)\n"
     ]
    }
   ],
   "source": [
    "b = 'paul', 24, 1.75, 85.3\n",
    "print(b)"
   ]
  },
  {
   "cell_type": "code",
   "execution_count": 59,
   "metadata": {},
   "outputs": [
    {
     "name": "stdout",
     "output_type": "stream",
     "text": [
      "('lec23', 'lec24', 'lec25') ('paul', 24, 1.75, 85.3)\n",
      "<class 'tuple'>\n"
     ]
    }
   ],
   "source": [
    "print(a,b)\n",
    "print(type(b))"
   ]
  },
  {
   "cell_type": "markdown",
   "metadata": {},
   "source": [
    "## access tuple elements\n",
    "Access to the i-th element of a tuple is done with `[]` operator"
   ]
  },
  {
   "cell_type": "code",
   "execution_count": 61,
   "metadata": {},
   "outputs": [
    {
     "name": "stdout",
     "output_type": "stream",
     "text": [
      "lec25\n",
      "85.3\n",
      "<class 'int'>\n",
      "4\n"
     ]
    },
    {
     "ename": "IndexError",
     "evalue": "tuple index out of range",
     "output_type": "error",
     "traceback": [
      "\u001b[0;31m---------------------------------------------------------------------------\u001b[0m",
      "\u001b[0;31mIndexError\u001b[0m                                Traceback (most recent call last)",
      "\u001b[0;32m<ipython-input-61-a6680c665144>\u001b[0m in \u001b[0;36m<module>\u001b[0;34m\u001b[0m\n\u001b[1;32m      3\u001b[0m \u001b[0mprint\u001b[0m\u001b[0;34m(\u001b[0m\u001b[0mtype\u001b[0m\u001b[0;34m(\u001b[0m\u001b[0mb\u001b[0m\u001b[0;34m[\u001b[0m\u001b[0;36m1\u001b[0m\u001b[0;34m]\u001b[0m\u001b[0;34m)\u001b[0m\u001b[0;34m)\u001b[0m\u001b[0;34m\u001b[0m\u001b[0;34m\u001b[0m\u001b[0m\n\u001b[1;32m      4\u001b[0m \u001b[0mprint\u001b[0m\u001b[0;34m(\u001b[0m\u001b[0mlen\u001b[0m\u001b[0;34m(\u001b[0m\u001b[0mb\u001b[0m\u001b[0;34m)\u001b[0m\u001b[0;34m)\u001b[0m\u001b[0;34m\u001b[0m\u001b[0;34m\u001b[0m\u001b[0m\n\u001b[0;32m----> 5\u001b[0;31m \u001b[0mprint\u001b[0m\u001b[0;34m(\u001b[0m\u001b[0mb\u001b[0m\u001b[0;34m[\u001b[0m\u001b[0;36m4\u001b[0m\u001b[0;34m]\u001b[0m\u001b[0;34m)\u001b[0m\u001b[0;34m\u001b[0m\u001b[0;34m\u001b[0m\u001b[0m\n\u001b[0m",
      "\u001b[0;31mIndexError\u001b[0m: tuple index out of range"
     ]
    }
   ],
   "source": [
    "print(a[2])\n",
    "print(b[3])\n",
    "print(type(b[1]))\n",
    "print(len(b))\n",
    "print(b[4])"
   ]
  },
  {
   "cell_type": "markdown",
   "metadata": {},
   "source": [
    "Note how there is protection against out-of-bound access to tuples."
   ]
  },
  {
   "cell_type": "markdown",
   "metadata": {},
   "source": [
    "## empty or one-element tuple"
   ]
  },
  {
   "cell_type": "code",
   "execution_count": 63,
   "metadata": {},
   "outputs": [
    {
     "name": "stdout",
     "output_type": "stream",
     "text": [
      "<class 'tuple'> ()\n",
      "<class 'tuple'> ('something',)\n",
      "<class 'str'> something\n"
     ]
    }
   ],
   "source": [
    "c = ()\n",
    "print(type(c),c)\n",
    "\n",
    "d = 'something',\n",
    "print(type(d),d)\n",
    "\n",
    "e = 'something'\n",
    "print(type(e),e)\n",
    "\n"
   ]
  },
  {
   "cell_type": "markdown",
   "metadata": {},
   "source": [
    "Note that the `,` is critical to distinguish a on-element tuple from a normal variable."
   ]
  },
  {
   "cell_type": "code",
   "execution_count": 64,
   "metadata": {},
   "outputs": [
    {
     "name": "stdout",
     "output_type": "stream",
     "text": [
      "<class 'str'> valore\n",
      "<class 'str'> something\n",
      "<class 'tuple'> ('valore',)\n",
      "<class 'tuple'> ('another',)\n"
     ]
    }
   ],
   "source": [
    "e = 'valore'\n",
    "print(type(e), e)\n",
    "\n",
    "g = ('something')\n",
    "print(type(g),g)\n",
    "\n",
    "\n",
    "f = 'valore',\n",
    "print(type(f), f)\n",
    "\n",
    "\n",
    "h = ('another',)\n",
    "print(type(h), h)"
   ]
  },
  {
   "cell_type": "markdown",
   "metadata": {},
   "source": [
    "## conversion to tuple"
   ]
  },
  {
   "cell_type": "code",
   "execution_count": 65,
   "metadata": {},
   "outputs": [
    {
     "name": "stdout",
     "output_type": "stream",
     "text": [
      "range(3, 10)\n"
     ]
    }
   ],
   "source": [
    "print(range(3,10))"
   ]
  },
  {
   "cell_type": "code",
   "execution_count": 68,
   "metadata": {},
   "outputs": [
    {
     "name": "stdout",
     "output_type": "stream",
     "text": [
      "length:  10\n",
      "tup: range(0, 10)\n",
      "<class 'range'>\n"
     ]
    }
   ],
   "source": [
    "tup = range(10)\n",
    "print(\"length: \",len(tup))\n",
    "print(\"tup:\",tup)\n",
    "print(type(tup))"
   ]
  },
  {
   "cell_type": "markdown",
   "metadata": {},
   "source": [
    "Note how tup is not a tuple but simply a refernce to function call `range(10)`.\n",
    "\n",
    "If you want a tuple you have to explicitly convert the output of `range(10)` to be a tuple"
   ]
  },
  {
   "cell_type": "code",
   "execution_count": 69,
   "metadata": {},
   "outputs": [
    {
     "name": "stdout",
     "output_type": "stream",
     "text": [
      "length:  10\n",
      "tup:  (0, 1, 2, 3, 4, 5, 6, 7, 8, 9)\n",
      "<class 'tuple'>\n"
     ]
    }
   ],
   "source": [
    "tup = tuple(range(10))\n",
    "print(\"length: \", len(tup))\n",
    "print(\"tup: \", tup)\n",
    "print(type(tup))"
   ]
  },
  {
   "cell_type": "markdown",
   "metadata": {},
   "source": [
    "Iterating over a tuple is easy"
   ]
  },
  {
   "cell_type": "code",
   "execution_count": 70,
   "metadata": {},
   "outputs": [
    {
     "name": "stdout",
     "output_type": "stream",
     "text": [
      "0\n",
      "1\n",
      "2\n",
      "3\n",
      "4\n",
      "5\n",
      "6\n",
      "7\n",
      "8\n",
      "9\n"
     ]
    }
   ],
   "source": [
    "for i in tup:\n",
    "    print(i)"
   ]
  },
  {
   "cell_type": "markdown",
   "metadata": {},
   "source": [
    "## converting strings to tuples\n"
   ]
  },
  {
   "cell_type": "code",
   "execution_count": 72,
   "metadata": {},
   "outputs": [
    {
     "name": "stdout",
     "output_type": "stream",
     "text": [
      "tup:  ('h', 'e', 'l', 'l', 'o', ' ', 'w', 'o', 'r', 'l', 'd')\n",
      "11\n",
      "h\n",
      "e\n",
      "l\n",
      "l\n",
      "o\n",
      " \n",
      "w\n",
      "o\n",
      "r\n",
      "l\n",
      "d\n",
      "h >> e >> l >> l >> o >>   >> w >> o >> r >> l >> d >> \n",
      "\n"
     ]
    }
   ],
   "source": [
    "tup = tuple(\"hello world\")\n",
    "print(\"tup: \",tup)\n",
    "print(len(tup))\n",
    "\n",
    "for i in tup:\n",
    "    print(i)\n",
    "\n",
    "for i in tup:\n",
    "    print(i,end=\" >> \")\n",
    "    \n",
    "print(\"\\n\")    \n"
   ]
  },
  {
   "cell_type": "markdown",
   "metadata": {},
   "source": [
    "## Tuples can contain any object\n",
    "even a function is a valid object"
   ]
  },
  {
   "cell_type": "code",
   "execution_count": 73,
   "metadata": {},
   "outputs": [
    {
     "name": "stdout",
     "output_type": "stream",
     "text": [
      "tup:  (1, 'name', <function myprod at 0x119b08560>)\n",
      "<class 'int'>\n",
      "<class 'str'>\n",
      "<class 'function'>\n"
     ]
    }
   ],
   "source": [
    "def myprod(a,b=3.145,scale=1.0):\n",
    "    return a*b*scale\n",
    "\n",
    "tup = (1, 'name', myprod)\n",
    "print(\"tup: \",tup)\n",
    "\n",
    "for i in tup:\n",
    "    print(type(i))"
   ]
  },
  {
   "cell_type": "code",
   "execution_count": 75,
   "metadata": {},
   "outputs": [
    {
     "name": "stdout",
     "output_type": "stream",
     "text": [
      "12.0\n",
      "20.128\n"
     ]
    }
   ],
   "source": [
    "scale = 3.2\n",
    "print(tup[2](3,4))\n",
    "print(myprod(2,scale=scale))"
   ]
  },
  {
   "cell_type": "markdown",
   "metadata": {},
   "source": [
    "a tuple can contain tuples as its elements"
   ]
  },
  {
   "cell_type": "code",
   "execution_count": 76,
   "metadata": {},
   "outputs": [
    {
     "name": "stdout",
     "output_type": "stream",
     "text": [
      "i:  ('lec23', 'lec24', 'lec25')\n",
      "i:  ('paul', 24, 1.75, 85.3)\n",
      "i:  ()\n",
      "i:  (1, 'name', <function myprod at 0x119b08560>)\n"
     ]
    }
   ],
   "source": [
    "x = a,b,c, tup\n",
    "\n",
    "for i in x:\n",
    "    print(\"i: \", i)"
   ]
  },
  {
   "cell_type": "code",
   "execution_count": 78,
   "metadata": {},
   "outputs": [
    {
     "name": "stdout",
     "output_type": "stream",
     "text": [
      "()\n",
      "('lec23', 'lec24', 'lec25')\n",
      "15.0\n"
     ]
    }
   ],
   "source": [
    "print(x[2])\n",
    "print(x[0])\n",
    "print(x[3][2](3,5))  # calling function myprod contained in tup"
   ]
  },
  {
   "cell_type": "markdown",
   "metadata": {},
   "source": [
    "## Tuple is immutable\n",
    "You can bind a variable to a new tuple but you cannot change an element of a tuple"
   ]
  },
  {
   "cell_type": "code",
   "execution_count": 79,
   "metadata": {},
   "outputs": [
    {
     "name": "stdout",
     "output_type": "stream",
     "text": [
      "('paul', 24, 1.75, 85.3)\n"
     ]
    }
   ],
   "source": [
    "print(b)"
   ]
  },
  {
   "cell_type": "code",
   "execution_count": 80,
   "metadata": {},
   "outputs": [
    {
     "ename": "TypeError",
     "evalue": "'tuple' object does not support item assignment",
     "output_type": "error",
     "traceback": [
      "\u001b[0;31m---------------------------------------------------------------------------\u001b[0m",
      "\u001b[0;31mTypeError\u001b[0m                                 Traceback (most recent call last)",
      "\u001b[0;32m<ipython-input-80-e226c2b6ec84>\u001b[0m in \u001b[0;36m<module>\u001b[0;34m\u001b[0m\n\u001b[0;32m----> 1\u001b[0;31m \u001b[0mb\u001b[0m\u001b[0;34m[\u001b[0m\u001b[0;36m0\u001b[0m\u001b[0;34m]\u001b[0m \u001b[0;34m=\u001b[0m \u001b[0;34m'one'\u001b[0m\u001b[0;34m\u001b[0m\u001b[0;34m\u001b[0m\u001b[0m\n\u001b[0m",
      "\u001b[0;31mTypeError\u001b[0m: 'tuple' object does not support item assignment"
     ]
    }
   ],
   "source": [
    "b[0] = 'one'"
   ]
  },
  {
   "cell_type": "code",
   "execution_count": 81,
   "metadata": {},
   "outputs": [
    {
     "name": "stdout",
     "output_type": "stream",
     "text": [
      "('one', ('lec23', 'lec24', 'lec25'), (2, 3))\n",
      "('paul', 24, 1.75, 85.3)\n"
     ]
    }
   ],
   "source": [
    "y = 'one', a, (2,3)\n",
    "print(y)\n",
    "print(b)"
   ]
  },
  {
   "cell_type": "code",
   "execution_count": 82,
   "metadata": {},
   "outputs": [
    {
     "name": "stdout",
     "output_type": "stream",
     "text": [
      "('one', ('lec23', 'lec24', 'lec25'), (2, 3))\n"
     ]
    }
   ],
   "source": [
    "b = y\n",
    "print(b)"
   ]
  },
  {
   "cell_type": "code",
   "execution_count": 84,
   "metadata": {},
   "outputs": [
    {
     "name": "stdout",
     "output_type": "stream",
     "text": [
      "('lec23', 'lec27', 'lec25', 'lec25', 3.14, 3.56, 3.97)\n",
      "2\n",
      "2\n",
      "1\n",
      "<class 'int'>\n"
     ]
    },
    {
     "ename": "ValueError",
     "evalue": "tuple.index(x): x not in tuple",
     "output_type": "error",
     "traceback": [
      "\u001b[0;31m---------------------------------------------------------------------------\u001b[0m",
      "\u001b[0;31mValueError\u001b[0m                                Traceback (most recent call last)",
      "\u001b[0;32m<ipython-input-84-05257709d960>\u001b[0m in \u001b[0;36m<module>\u001b[0;34m\u001b[0m\n\u001b[1;32m      6\u001b[0m \u001b[0mprint\u001b[0m\u001b[0;34m(\u001b[0m\u001b[0mb\u001b[0m\u001b[0;34m.\u001b[0m\u001b[0mcount\u001b[0m\u001b[0;34m(\u001b[0m\u001b[0;36m3.14\u001b[0m\u001b[0;34m)\u001b[0m\u001b[0;34m)\u001b[0m\u001b[0;34m\u001b[0m\u001b[0;34m\u001b[0m\u001b[0m\n\u001b[1;32m      7\u001b[0m \u001b[0mprint\u001b[0m\u001b[0;34m(\u001b[0m\u001b[0mtype\u001b[0m\u001b[0;34m(\u001b[0m\u001b[0mb\u001b[0m\u001b[0;34m.\u001b[0m\u001b[0mcount\u001b[0m\u001b[0;34m(\u001b[0m\u001b[0;34m'lec25'\u001b[0m\u001b[0;34m)\u001b[0m\u001b[0;34m)\u001b[0m\u001b[0;34m)\u001b[0m\u001b[0;34m\u001b[0m\u001b[0;34m\u001b[0m\u001b[0m\n\u001b[0;32m----> 8\u001b[0;31m \u001b[0mprint\u001b[0m\u001b[0;34m(\u001b[0m\u001b[0mb\u001b[0m\u001b[0;34m.\u001b[0m\u001b[0mindex\u001b[0m\u001b[0;34m(\u001b[0m\u001b[0;34m'test'\u001b[0m\u001b[0;34m)\u001b[0m\u001b[0;34m)\u001b[0m\u001b[0;34m\u001b[0m\u001b[0;34m\u001b[0m\u001b[0m\n\u001b[0m",
      "\u001b[0;31mValueError\u001b[0m: tuple.index(x): x not in tuple"
     ]
    }
   ],
   "source": [
    "ntuple  = 'lec23', 'lec27', 'lec25', 'lec25', 3.14, 3.56, 3.97\n",
    "b = ntuple\n",
    "print(b)\n",
    "print(b.index('lec25'))\n",
    "print(b.count('lec25'))\n",
    "print(b.count(3.14))\n",
    "print(type(b.count('lec25')))\n",
    "print(b.index('test'))"
   ]
  },
  {
   "cell_type": "markdown",
   "metadata": {},
   "source": [
    "## Tuple methods\n",
    "given the limitation of tuple, content and size are immutable, there are very few methods. (checkout `dir(tuple)`)\n",
    "\n",
    "One very useful one is `count()`"
   ]
  },
  {
   "cell_type": "code",
   "execution_count": 85,
   "metadata": {},
   "outputs": [
    {
     "data": {
      "text/plain": [
       "4"
      ]
     },
     "execution_count": 85,
     "metadata": {},
     "output_type": "execute_result"
    }
   ],
   "source": [
    "grades = [30, 22, 24, 23, 30, 18, 24, 27, 28, 28, 25, 24, 22, 30, 30, 18, 20]\n",
    "grades.count(30)"
   ]
  },
  {
   "cell_type": "markdown",
   "metadata": {},
   "source": [
    "## Lists\n",
    "- Lists are also a collection of objects but unlike tuples they are mutable\n",
    "  - variable length\n",
    "  - each element can be modified\n",
    "  "
   ]
  },
  {
   "cell_type": "code",
   "execution_count": 86,
   "metadata": {
    "scrolled": true
   },
   "outputs": [
    {
     "name": "stdout",
     "output_type": "stream",
     "text": [
      "[2, 3, 4]\n",
      "4\n",
      "[2, 3, -3]\n"
     ]
    }
   ],
   "source": [
    "alist = [2,3,4]\n",
    "print(alist)\n",
    "print(alist[2])\n",
    "alist[2] = -3\n",
    "print(alist)"
   ]
  },
  {
   "cell_type": "markdown",
   "metadata": {},
   "source": [
    "lists (and tuples) are protected against out of range index"
   ]
  },
  {
   "cell_type": "code",
   "execution_count": 87,
   "metadata": {},
   "outputs": [
    {
     "name": "stdout",
     "output_type": "stream",
     "text": [
      "3\n"
     ]
    },
    {
     "ename": "IndexError",
     "evalue": "list index out of range",
     "output_type": "error",
     "traceback": [
      "\u001b[0;31m---------------------------------------------------------------------------\u001b[0m",
      "\u001b[0;31mIndexError\u001b[0m                                Traceback (most recent call last)",
      "\u001b[0;32m<ipython-input-87-758fda718bb3>\u001b[0m in \u001b[0;36m<module>\u001b[0;34m\u001b[0m\n\u001b[1;32m      1\u001b[0m \u001b[0mprint\u001b[0m\u001b[0;34m(\u001b[0m\u001b[0mlen\u001b[0m\u001b[0;34m(\u001b[0m\u001b[0malist\u001b[0m\u001b[0;34m)\u001b[0m\u001b[0;34m)\u001b[0m\u001b[0;34m\u001b[0m\u001b[0;34m\u001b[0m\u001b[0m\n\u001b[0;32m----> 2\u001b[0;31m \u001b[0malist\u001b[0m\u001b[0;34m[\u001b[0m\u001b[0;36m3\u001b[0m\u001b[0;34m]\u001b[0m\u001b[0;34m\u001b[0m\u001b[0;34m\u001b[0m\u001b[0m\n\u001b[0m",
      "\u001b[0;31mIndexError\u001b[0m: list index out of range"
     ]
    }
   ],
   "source": [
    "print(len(alist))\n",
    "alist[3]"
   ]
  },
  {
   "cell_type": "markdown",
   "metadata": {},
   "source": [
    "A list can cantain any type of data. In this example the list is made of strings, float, int, function, lists, and tuples"
   ]
  },
  {
   "cell_type": "code",
   "execution_count": 88,
   "metadata": {},
   "outputs": [
    {
     "name": "stdout",
     "output_type": "stream",
     "text": [
      "['one', 2, 3.24, <function myprod at 0x119b08560>, (23, 24), ['lec1', 'lec2', [<function myprod at 0x119b08560>, 3.14]]]\n",
      "42.0\n"
     ]
    }
   ],
   "source": [
    "alist = ['one', 2, 3.24, myprod, (23,24), ['lec1', 'lec2', [myprod,3.14]]]\n",
    "print(alist)\n",
    "print(alist[5][2][0](6,7))"
   ]
  },
  {
   "cell_type": "markdown",
   "metadata": {},
   "source": [
    "## lists and tuples\n",
    "- a list is created using the `[]` operator or the explicit type `list`\n",
    "- a tuple is created with the `()` operator or the explicit type `tuple`\n",
    "- Lists and tuples are semantically similar\n",
    "  - many functions can take a tuple or a list\n",
    "  \n",
    "- Lists are used in data analysis to store data from iterators or generators"
   ]
  },
  {
   "cell_type": "code",
   "execution_count": 90,
   "metadata": {},
   "outputs": [
    {
     "name": "stdout",
     "output_type": "stream",
     "text": [
      "range(-3, 10, 2)\n",
      "[-3, -1, 1, 3, 5, 7, 9]\n",
      "(-3, -1, 1, 3, 5, 7, 9)\n"
     ]
    }
   ],
   "source": [
    "values  = range(-3,10, 2)\n",
    "print(values)\n",
    "print(list(values))\n",
    "print(tuple(values))"
   ]
  },
  {
   "cell_type": "markdown",
   "metadata": {},
   "source": [
    "Note that as with tuples, you have to convert the output of `range` to be a list."
   ]
  },
  {
   "cell_type": "markdown",
   "metadata": {},
   "source": [
    "## list from tuple\n",
    "you can create a list from a tuple by explicit conversion "
   ]
  },
  {
   "cell_type": "code",
   "execution_count": 91,
   "metadata": {},
   "outputs": [
    {
     "name": "stdout",
     "output_type": "stream",
     "text": [
      "('lec23', 'lec24', 'lec25')\n",
      "['lec23', 'lec24', 'lec25']\n",
      "('lec23', 'lec24', 'lec28')\n"
     ]
    }
   ],
   "source": [
    "print(a)\n",
    "blist = list(a)\n",
    "print(blist)\n",
    "blist[2] = 'lec28'\n",
    "blist\n",
    "a = tuple(blist)\n",
    "print(a)"
   ]
  },
  {
   "cell_type": "markdown",
   "metadata": {},
   "source": [
    "## Manipulating lists\n",
    "\n",
    "### adding and removing elements\n",
    "to add an element at the end of the list"
   ]
  },
  {
   "cell_type": "code",
   "execution_count": 92,
   "metadata": {},
   "outputs": [
    {
     "name": "stdout",
     "output_type": "stream",
     "text": [
      "['one', 2, 3.14, 4, 'five', 6]\n"
     ]
    }
   ],
   "source": [
    "clist = ['one', 2, 3.14, 4, 'five']\n",
    "clist.append(6)\n",
    "print(clist)"
   ]
  },
  {
   "cell_type": "markdown",
   "metadata": {},
   "source": [
    "We can also insert a value at a specific location by providing the index"
   ]
  },
  {
   "cell_type": "code",
   "execution_count": 93,
   "metadata": {},
   "outputs": [
    {
     "name": "stdout",
     "output_type": "stream",
     "text": [
      "['one', 2, 'two', 3.14, 4, 'five', 6]\n"
     ]
    }
   ],
   "source": [
    "clist.insert(2, 'two')\n",
    "print(clist)"
   ]
  },
  {
   "cell_type": "markdown",
   "metadata": {},
   "source": [
    "note how the new element is inserted __before__ the indicated index. \n",
    "\n",
    "You can also remove an element from the list at a specific location with `pop`"
   ]
  },
  {
   "cell_type": "code",
   "execution_count": 94,
   "metadata": {},
   "outputs": [
    {
     "name": "stdout",
     "output_type": "stream",
     "text": [
      "['one', 2, 3.14, 4, 'five', 6]\n"
     ]
    }
   ],
   "source": [
    "clist.pop(2)\n",
    "print(clist)"
   ]
  },
  {
   "cell_type": "markdown",
   "metadata": {},
   "source": [
    "The `insert` and `pop` methods have a return value. \n",
    "\n",
    "In particular with `pop` it is useful to see the value you have removed from the list"
   ]
  },
  {
   "cell_type": "code",
   "execution_count": 95,
   "metadata": {},
   "outputs": [
    {
     "name": "stdout",
     "output_type": "stream",
     "text": [
      "None\n",
      "test\n",
      "['one', 2, 3.14, 4, 'five', 6]\n"
     ]
    }
   ],
   "source": [
    "x = clist.insert(2, 'test')\n",
    "print (x)\n",
    "x = clist.pop(2)\n",
    "print(x)\n",
    "print(clist)"
   ]
  },
  {
   "cell_type": "markdown",
   "metadata": {},
   "source": [
    "### removing by value\n",
    "Although not very efficient, you can remove a given value from the list. It will only remove the first such occurance. python will linearly go through all elements until it finds the first occurance"
   ]
  },
  {
   "cell_type": "code",
   "execution_count": 96,
   "metadata": {},
   "outputs": [
    {
     "name": "stdout",
     "output_type": "stream",
     "text": [
      "True\n",
      "['one', 2, 3.14, 4, 'five', 6]\n",
      "['one', 2, 3.14, 4, 'five', 6, 4]\n"
     ]
    }
   ],
   "source": [
    "print(4 in clist)\n",
    "print(clist)\n",
    "clist.append(4)\n",
    "print(clist)"
   ]
  },
  {
   "cell_type": "code",
   "execution_count": 97,
   "metadata": {},
   "outputs": [
    {
     "name": "stdout",
     "output_type": "stream",
     "text": [
      "['one', 2, 3.14, 'five', 6, 4]\n"
     ]
    }
   ],
   "source": [
    "if 4 in clist:\n",
    "    clist.remove(4)\n",
    "print(clist)\n"
   ]
  },
  {
   "cell_type": "code",
   "execution_count": 98,
   "metadata": {},
   "outputs": [
    {
     "name": "stdout",
     "output_type": "stream",
     "text": [
      "['one', 2, 3.14, 'five', 6]\n"
     ]
    }
   ],
   "source": [
    "if 4 in clist:\n",
    "    clist.remove(4)\n",
    "print(clist)"
   ]
  },
  {
   "cell_type": "markdown",
   "metadata": {},
   "source": [
    "### combining lists\n",
    "you can use `+` to combine or extend exisiting or new lists"
   ]
  },
  {
   "cell_type": "code",
   "execution_count": 99,
   "metadata": {},
   "outputs": [
    {
     "name": "stdout",
     "output_type": "stream",
     "text": [
      "['lec23', 'lec24', 'lec28']\n",
      "['one', 2, 3.14, 'five', 6]\n",
      "['lec23', 'lec24', 'lec28', 'id', 'name', 'major']\n"
     ]
    }
   ],
   "source": [
    "print(blist)\n",
    "print(clist)\n",
    "all = blist + ['id', 'name', 'major']\n",
    "print(all)"
   ]
  },
  {
   "cell_type": "markdown",
   "metadata": {},
   "source": [
    "Note that this is very different than doing"
   ]
  },
  {
   "cell_type": "code",
   "execution_count": 100,
   "metadata": {},
   "outputs": [
    {
     "name": "stdout",
     "output_type": "stream",
     "text": [
      "[['lec23', 'lec24', 'lec28'], 'id', 'name', 'major']\n"
     ]
    }
   ],
   "source": [
    "all = [blist,'id', 'name', 'major']\n",
    "print(all)"
   ]
  },
  {
   "cell_type": "markdown",
   "metadata": {},
   "source": [
    "The most efficient way to extend a list is with `extend`. It can take one or more elements to be added"
   ]
  },
  {
   "cell_type": "code",
   "execution_count": 101,
   "metadata": {},
   "outputs": [
    {
     "name": "stdout",
     "output_type": "stream",
     "text": [
      "1\n",
      "major\n",
      "id\n"
     ]
    }
   ],
   "source": [
    "print(all.index('id'))\n",
    "print(all[-1])\n",
    "print(all[-3])"
   ]
  },
  {
   "cell_type": "code",
   "execution_count": 103,
   "metadata": {
    "scrolled": false
   },
   "outputs": [
    {
     "name": "stdout",
     "output_type": "stream",
     "text": [
      "[['lec23', 'lec24', 'lec28'], 'id', 'name', 'major', 2, 3, 4, 'test', 'python', 4.56, 2, 3, (2, 3), 2, 3, 4, 'test', 'python']\n",
      "[['lec23', 'lec24', 'lec28'], 'id', 'name', 'major', 2, 3, 4, 'test', 'python', 4.56, 2, 3, (2, 3), 2, 3, 4, 'test', 'python', 4.56]\n",
      "[['lec23', 'lec24', 'lec28'], 'id', 'name', 'major', 2, 3, 4, 'test', 'python', 4.56, 2, 3, (2, 3), 2, 3, 4, 'test', 'python', 4.56, 2, 3]\n",
      "[['lec23', 'lec24', 'lec28'], 'id', 'name', 'major', 2, 3, 4, 'test', 'python', 4.56, 2, 3, (2, 3), 2, 3, 4, 'test', 'python', 4.56, 2, 3, (2, 3)]\n",
      "3\n",
      "3\n"
     ]
    }
   ],
   "source": [
    "all.extend([2,3,4, 'test', 'python'])\n",
    "print(all)\n",
    "all.append(4.56)\n",
    "print(all)\n",
    "all.extend( (2,3))\n",
    "print(all)\n",
    "all.append( (2,3))\n",
    "print(all)\n",
    "print(all[ all.index( (2,3)) ][1])\n",
    "print(all[-1][1])"
   ]
  },
  {
   "cell_type": "markdown",
   "metadata": {},
   "source": [
    "### Difference between append and extend"
   ]
  },
  {
   "cell_type": "code",
   "execution_count": 104,
   "metadata": {},
   "outputs": [],
   "source": [
    "lista_1 = [ 1, 2, 3]\n",
    "lista_2 = [1,2,3]\n",
    "\n",
    "lista_3 = [10,11]\n",
    "\n",
    "lista_1.append(lista_3)\n",
    "lista_2.extend(lista_3)"
   ]
  },
  {
   "cell_type": "code",
   "execution_count": 105,
   "metadata": {},
   "outputs": [
    {
     "name": "stdout",
     "output_type": "stream",
     "text": [
      "append to a list:  [1, 2, 3, [10, 11]]\n",
      "extending a list:  [1, 2, 3, 10, 11]\n"
     ]
    }
   ],
   "source": [
    "print(\"append to a list: \", lista_1)\n",
    "print(\"extending a list: \", lista_2)"
   ]
  },
  {
   "cell_type": "markdown",
   "metadata": {},
   "source": [
    "### sorting a list\n",
    "lists of elements that can be compared to each other can be sorted"
   ]
  },
  {
   "cell_type": "code",
   "execution_count": 106,
   "metadata": {},
   "outputs": [
    {
     "ename": "TypeError",
     "evalue": "'<' not supported between instances of 'str' and 'list'",
     "output_type": "error",
     "traceback": [
      "\u001b[0;31m---------------------------------------------------------------------------\u001b[0m",
      "\u001b[0;31mTypeError\u001b[0m                                 Traceback (most recent call last)",
      "\u001b[0;32m<ipython-input-106-88857521138d>\u001b[0m in \u001b[0;36m<module>\u001b[0;34m\u001b[0m\n\u001b[0;32m----> 1\u001b[0;31m \u001b[0mall\u001b[0m\u001b[0;34m.\u001b[0m\u001b[0msort\u001b[0m\u001b[0;34m(\u001b[0m\u001b[0;34m)\u001b[0m\u001b[0;34m\u001b[0m\u001b[0;34m\u001b[0m\u001b[0m\n\u001b[0m\u001b[1;32m      2\u001b[0m \u001b[0mprint\u001b[0m\u001b[0;34m(\u001b[0m\u001b[0mall\u001b[0m\u001b[0;34m)\u001b[0m\u001b[0;34m\u001b[0m\u001b[0;34m\u001b[0m\u001b[0m\n",
      "\u001b[0;31mTypeError\u001b[0m: '<' not supported between instances of 'str' and 'list'"
     ]
    }
   ],
   "source": [
    "all.sort()\n",
    "print(all)\n"
   ]
  },
  {
   "cell_type": "code",
   "execution_count": 107,
   "metadata": {},
   "outputs": [
    {
     "name": "stdout",
     "output_type": "stream",
     "text": [
      "['january', 'february', 'march', 'april', 'may', 'june', 'july', 'august', 'september', 'october', 'november', 'december']\n"
     ]
    }
   ],
   "source": [
    "months = ['january', 'february', 'march', 'april', 'may', 'june', 'july', 'august', 'september', 'october', 'november', 'december']\n",
    "print(months)"
   ]
  },
  {
   "cell_type": "code",
   "execution_count": 108,
   "metadata": {},
   "outputs": [
    {
     "name": "stdout",
     "output_type": "stream",
     "text": [
      "['april', 'august', 'december', 'february', 'january', 'july', 'june', 'march', 'may', 'november', 'october', 'september']\n"
     ]
    }
   ],
   "source": [
    "months.sort()\n",
    "print(months)"
   ]
  },
  {
   "cell_type": "code",
   "execution_count": 109,
   "metadata": {},
   "outputs": [
    {
     "name": "stdout",
     "output_type": "stream",
     "text": [
      "['may', 'july', 'june', 'april', 'march', 'august', 'january', 'october', 'december', 'february', 'november', 'september']\n"
     ]
    }
   ],
   "source": [
    "months.sort(key=len)\n",
    "print(months)"
   ]
  },
  {
   "cell_type": "code",
   "execution_count": 110,
   "metadata": {},
   "outputs": [
    {
     "name": "stdout",
     "output_type": "stream",
     "text": [
      "Help on method_descriptor:\n",
      "\n",
      "sort(self, /, *, key=None, reverse=False)\n",
      "    Stable sort *IN PLACE*.\n",
      "\n"
     ]
    }
   ],
   "source": [
    "help(list.sort)"
   ]
  },
  {
   "cell_type": "code",
   "execution_count": 112,
   "metadata": {},
   "outputs": [
    {
     "name": "stdout",
     "output_type": "stream",
     "text": [
      "['september', 'december', 'february', 'november', 'january', 'october', 'august', 'april', 'march', 'july', 'june', 'may']\n",
      "['september', 'october', 'november', 'may', 'march', 'june', 'july', 'january', 'february', 'december', 'august', 'april']\n"
     ]
    }
   ],
   "source": [
    "months.sort(key=len,reverse=True)\n",
    "print(months)\n",
    "\n",
    "months.sort(reverse=True)\n",
    "print(months)\n"
   ]
  },
  {
   "cell_type": "markdown",
   "metadata": {},
   "source": [
    "### sort vs sorted\n",
    "in this example `sort()` is **applied** to the object and **modifies** it. Instead we might prefer keeping the data intact and have a new sorted copy"
   ]
  },
  {
   "cell_type": "code",
   "execution_count": 113,
   "metadata": {},
   "outputs": [
    {
     "name": "stdout",
     "output_type": "stream",
     "text": [
      "['january', 'february', 'march', 'april', 'may', 'june', 'july', 'august', 'september', 'october', 'november', 'december']\n",
      "['april', 'august', 'december', 'february', 'january', 'july', 'june', 'march', 'may', 'november', 'october', 'september']\n",
      "['may', 'june', 'july', 'march', 'april', 'august', 'january', 'october', 'february', 'november', 'december', 'september']\n",
      "Help on built-in function sorted in module builtins:\n",
      "\n",
      "sorted(iterable, /, *, key=None, reverse=False)\n",
      "    Return a new list containing all items from the iterable in ascending order.\n",
      "    \n",
      "    A custom key function can be supplied to customize the sort order, and the\n",
      "    reverse flag can be set to request the result in descending order.\n",
      "\n"
     ]
    }
   ],
   "source": [
    "months = ['january', 'february', 'march', 'april', 'may', 'june', 'july', 'august', 'september', 'october', 'november', 'december']\n",
    "print(months)\n",
    "\n",
    "sorted_months_byname = sorted(months)\n",
    "print(sorted_months_byname)\n",
    "\n",
    "sorted_months_bylen = sorted(months, key=len)\n",
    "print(sorted_months_bylen)\n",
    "\n",
    "help(sorted)"
   ]
  },
  {
   "cell_type": "markdown",
   "metadata": {},
   "source": [
    "### lists and strings"
   ]
  },
  {
   "cell_type": "code",
   "execution_count": 114,
   "metadata": {},
   "outputs": [
    {
     "name": "stdout",
     "output_type": "stream",
     "text": [
      "['i', 'n', ' ', 'a', ' ', 'f', 'a', 'r', ' ', 'a', 'w', 'a', 'y', ' ', 'g', 'a', 'l', 'a', 'x', 'y']\n"
     ]
    },
    {
     "data": {
      "text/plain": [
       "4"
      ]
     },
     "execution_count": 114,
     "metadata": {},
     "output_type": "execute_result"
    }
   ],
   "source": [
    "chars = list(\"in a far away galaxy\")\n",
    "print(chars)\n",
    "chars.count(' ')\n"
   ]
  },
  {
   "cell_type": "markdown",
   "metadata": {},
   "source": [
    "### enumerate function\n",
    "useful python function  to keep track of index while iterating on a collection, e.g. a list.\n",
    "\n",
    "see how in python the `for` loop takes advantage of `numerate`"
   ]
  },
  {
   "cell_type": "code",
   "execution_count": 117,
   "metadata": {
    "scrolled": false
   },
   "outputs": [
    {
     "name": "stdout",
     "output_type": "stream",
     "text": [
      "['january', 'february', 'march', 'april', 'may', 'june', 'july', 'august', 'september', 'october', 'november', 'december']\n",
      "month 1 : january\n",
      "month 2 : february\n",
      "month 3 : march\n",
      "month 4 : april\n",
      "month 5 : may\n",
      "month 6 : june\n",
      "month 7 : july\n",
      "month 8 : august\n",
      "month 9 : september\n",
      "month 10: october\n",
      "month 11: november\n",
      "month 12: december\n"
     ]
    }
   ],
   "source": [
    "print(months)\n",
    "\n",
    "for i,m in enumerate(months):\n",
    "    print(\"month %-2d: %s\"%(i+1,m))"
   ]
  },
  {
   "cell_type": "code",
   "execution_count": 121,
   "metadata": {},
   "outputs": [
    {
     "name": "stdout",
     "output_type": "stream",
     "text": [
      "0 \t nome\n",
      "1 \t cognnome\n",
      "2 \t id\n"
     ]
    }
   ],
   "source": [
    "data = 'nome', 'cognnome', 'id'\n",
    "\n",
    "for i,d in enumerate(data):\n",
    "    print(i, \"\\t\", d)\n"
   ]
  },
  {
   "cell_type": "markdown",
   "metadata": {},
   "source": [
    "### slicing\n",
    "one of most popular featurs in data analysis with python is the possibility of accessing a subset of a collection by specifying the indices\n",
    "\n",
    "```months[ begin: end ]```\n"
   ]
  },
  {
   "cell_type": "code",
   "execution_count": 123,
   "metadata": {},
   "outputs": [
    {
     "name": "stdout",
     "output_type": "stream",
     "text": [
      "['january', 'february', 'march', 'april', 'may', 'june', 'july', 'august', 'september', 'october', 'november', 'december']\n"
     ]
    }
   ],
   "source": [
    "print(months)"
   ]
  },
  {
   "cell_type": "code",
   "execution_count": 124,
   "metadata": {},
   "outputs": [
    {
     "name": "stdout",
     "output_type": "stream",
     "text": [
      "['january', 'february', 'march']\n"
     ]
    }
   ],
   "source": [
    "print(months[:3])"
   ]
  },
  {
   "cell_type": "code",
   "execution_count": 125,
   "metadata": {},
   "outputs": [
    {
     "name": "stdout",
     "output_type": "stream",
     "text": [
      "['may', 'june']\n"
     ]
    }
   ],
   "source": [
    "print(months[4:6])"
   ]
  },
  {
   "cell_type": "code",
   "execution_count": 126,
   "metadata": {
    "scrolled": true
   },
   "outputs": [
    {
     "name": "stdout",
     "output_type": "stream",
     "text": [
      "['july', 'august', 'september', 'october', 'november', 'december']\n",
      "6\n"
     ]
    }
   ],
   "source": [
    "print(months[6:])\n",
    "print(len(months[6:]))"
   ]
  },
  {
   "cell_type": "code",
   "execution_count": 127,
   "metadata": {},
   "outputs": [
    {
     "name": "stdout",
     "output_type": "stream",
     "text": [
      "['january', 'february', 'march', 'april', 'may', 'june', 'july', 'august', 'september', 'october']\n",
      "['november', 'december']\n",
      "['july', 'august', 'september', 'october']\n"
     ]
    }
   ],
   "source": [
    "print(months[:-2])\n",
    "print(months[-2:])\n",
    "print(months[-6:-2])"
   ]
  },
  {
   "cell_type": "markdown",
   "metadata": {},
   "source": [
    "### references and lists\n",
    "in python all collection objects are handled as a reference. This is shown explicitly in this example"
   ]
  },
  {
   "cell_type": "code",
   "execution_count": 128,
   "metadata": {},
   "outputs": [
    {
     "name": "stdout",
     "output_type": "stream",
     "text": [
      "['january', 'february', 'march', 'april', 'may', 'june', 'july', 'august', 'september', 'october', 'november', 'december']\n"
     ]
    }
   ],
   "source": [
    "newlist = months\n",
    "print(newlist)"
   ]
  },
  {
   "cell_type": "code",
   "execution_count": 129,
   "metadata": {
    "scrolled": true
   },
   "outputs": [
    {
     "name": "stdout",
     "output_type": "stream",
     "text": [
      "['january', 'february', 'march', 'april', 'may', 'june', 'july', 'august', 'september', 'october', 'november', 'december', 'NewMonth']\n"
     ]
    }
   ],
   "source": [
    "newlist.append('NewMonth')\n",
    "print(months)"
   ]
  },
  {
   "cell_type": "markdown",
   "metadata": {},
   "source": [
    "so `newlist` __is not a new copy__. `newlist` and `months` are simply two references to the same list object!\n",
    "\n",
    "to have a new copy you have to use the explcit conversion"
   ]
  },
  {
   "cell_type": "code",
   "execution_count": 130,
   "metadata": {},
   "outputs": [
    {
     "name": "stdout",
     "output_type": "stream",
     "text": [
      "['january', 'february', 'march', 'april', 'may', 'june', 'july', 'august', 'september', 'october', 'november', 'december', 'NewMonth']\n",
      "['january', 'february', 'march', 'april', 'may', 'june', 'july', 'august', 'september', 'october', 'november', 'december', 'NewMonth', 'CrazyMonth']\n"
     ]
    }
   ],
   "source": [
    "newlist = list(months)\n",
    "newlist.append('CrazyMonth')\n",
    "print(months)\n",
    "print(newlist)"
   ]
  },
  {
   "cell_type": "markdown",
   "metadata": {},
   "source": [
    "# Using a list for plotting\n",
    "\n",
    "## motion of a body under gravity\n",
    "We want to simulate the motion of a body under gravity. This is one of the first exercises in __Laboratorio di Calcolo__. This time we also want to quickly plot the trajectory to check our equations.\n",
    "\n",
    "**NB:** \n",
    "- the magic command `%matplotlib notebook` is only needed in jupyter and should not be put in a python program\n",
    "- it is needed only **once** in the notebook before plotting. However, to make each cell standalone I have included this in each of the following cells"
   ]
  },
  {
   "cell_type": "code",
   "execution_count": 8,
   "metadata": {},
   "outputs": [
    {
     "name": "stdout",
     "output_type": "stream",
     "text": [
      "v0_x: 0.707 m/s \t v0_y: 0.707 m/s\n"
     ]
    },
    {
     "data": {
      "application/javascript": [
       "/* Put everything inside the global mpl namespace */\n",
       "window.mpl = {};\n",
       "\n",
       "\n",
       "mpl.get_websocket_type = function() {\n",
       "    if (typeof(WebSocket) !== 'undefined') {\n",
       "        return WebSocket;\n",
       "    } else if (typeof(MozWebSocket) !== 'undefined') {\n",
       "        return MozWebSocket;\n",
       "    } else {\n",
       "        alert('Your browser does not have WebSocket support. ' +\n",
       "              'Please try Chrome, Safari or Firefox ≥ 6. ' +\n",
       "              'Firefox 4 and 5 are also supported but you ' +\n",
       "              'have to enable WebSockets in about:config.');\n",
       "    };\n",
       "}\n",
       "\n",
       "mpl.figure = function(figure_id, websocket, ondownload, parent_element) {\n",
       "    this.id = figure_id;\n",
       "\n",
       "    this.ws = websocket;\n",
       "\n",
       "    this.supports_binary = (this.ws.binaryType != undefined);\n",
       "\n",
       "    if (!this.supports_binary) {\n",
       "        var warnings = document.getElementById(\"mpl-warnings\");\n",
       "        if (warnings) {\n",
       "            warnings.style.display = 'block';\n",
       "            warnings.textContent = (\n",
       "                \"This browser does not support binary websocket messages. \" +\n",
       "                    \"Performance may be slow.\");\n",
       "        }\n",
       "    }\n",
       "\n",
       "    this.imageObj = new Image();\n",
       "\n",
       "    this.context = undefined;\n",
       "    this.message = undefined;\n",
       "    this.canvas = undefined;\n",
       "    this.rubberband_canvas = undefined;\n",
       "    this.rubberband_context = undefined;\n",
       "    this.format_dropdown = undefined;\n",
       "\n",
       "    this.image_mode = 'full';\n",
       "\n",
       "    this.root = $('<div/>');\n",
       "    this._root_extra_style(this.root)\n",
       "    this.root.attr('style', 'display: inline-block');\n",
       "\n",
       "    $(parent_element).append(this.root);\n",
       "\n",
       "    this._init_header(this);\n",
       "    this._init_canvas(this);\n",
       "    this._init_toolbar(this);\n",
       "\n",
       "    var fig = this;\n",
       "\n",
       "    this.waiting = false;\n",
       "\n",
       "    this.ws.onopen =  function () {\n",
       "            fig.send_message(\"supports_binary\", {value: fig.supports_binary});\n",
       "            fig.send_message(\"send_image_mode\", {});\n",
       "            if (mpl.ratio != 1) {\n",
       "                fig.send_message(\"set_dpi_ratio\", {'dpi_ratio': mpl.ratio});\n",
       "            }\n",
       "            fig.send_message(\"refresh\", {});\n",
       "        }\n",
       "\n",
       "    this.imageObj.onload = function() {\n",
       "            if (fig.image_mode == 'full') {\n",
       "                // Full images could contain transparency (where diff images\n",
       "                // almost always do), so we need to clear the canvas so that\n",
       "                // there is no ghosting.\n",
       "                fig.context.clearRect(0, 0, fig.canvas.width, fig.canvas.height);\n",
       "            }\n",
       "            fig.context.drawImage(fig.imageObj, 0, 0);\n",
       "        };\n",
       "\n",
       "    this.imageObj.onunload = function() {\n",
       "        fig.ws.close();\n",
       "    }\n",
       "\n",
       "    this.ws.onmessage = this._make_on_message_function(this);\n",
       "\n",
       "    this.ondownload = ondownload;\n",
       "}\n",
       "\n",
       "mpl.figure.prototype._init_header = function() {\n",
       "    var titlebar = $(\n",
       "        '<div class=\"ui-dialog-titlebar ui-widget-header ui-corner-all ' +\n",
       "        'ui-helper-clearfix\"/>');\n",
       "    var titletext = $(\n",
       "        '<div class=\"ui-dialog-title\" style=\"width: 100%; ' +\n",
       "        'text-align: center; padding: 3px;\"/>');\n",
       "    titlebar.append(titletext)\n",
       "    this.root.append(titlebar);\n",
       "    this.header = titletext[0];\n",
       "}\n",
       "\n",
       "\n",
       "\n",
       "mpl.figure.prototype._canvas_extra_style = function(canvas_div) {\n",
       "\n",
       "}\n",
       "\n",
       "\n",
       "mpl.figure.prototype._root_extra_style = function(canvas_div) {\n",
       "\n",
       "}\n",
       "\n",
       "mpl.figure.prototype._init_canvas = function() {\n",
       "    var fig = this;\n",
       "\n",
       "    var canvas_div = $('<div/>');\n",
       "\n",
       "    canvas_div.attr('style', 'position: relative; clear: both; outline: 0');\n",
       "\n",
       "    function canvas_keyboard_event(event) {\n",
       "        return fig.key_event(event, event['data']);\n",
       "    }\n",
       "\n",
       "    canvas_div.keydown('key_press', canvas_keyboard_event);\n",
       "    canvas_div.keyup('key_release', canvas_keyboard_event);\n",
       "    this.canvas_div = canvas_div\n",
       "    this._canvas_extra_style(canvas_div)\n",
       "    this.root.append(canvas_div);\n",
       "\n",
       "    var canvas = $('<canvas/>');\n",
       "    canvas.addClass('mpl-canvas');\n",
       "    canvas.attr('style', \"left: 0; top: 0; z-index: 0; outline: 0\")\n",
       "\n",
       "    this.canvas = canvas[0];\n",
       "    this.context = canvas[0].getContext(\"2d\");\n",
       "\n",
       "    var backingStore = this.context.backingStorePixelRatio ||\n",
       "\tthis.context.webkitBackingStorePixelRatio ||\n",
       "\tthis.context.mozBackingStorePixelRatio ||\n",
       "\tthis.context.msBackingStorePixelRatio ||\n",
       "\tthis.context.oBackingStorePixelRatio ||\n",
       "\tthis.context.backingStorePixelRatio || 1;\n",
       "\n",
       "    mpl.ratio = (window.devicePixelRatio || 1) / backingStore;\n",
       "\n",
       "    var rubberband = $('<canvas/>');\n",
       "    rubberband.attr('style', \"position: absolute; left: 0; top: 0; z-index: 1;\")\n",
       "\n",
       "    var pass_mouse_events = true;\n",
       "\n",
       "    canvas_div.resizable({\n",
       "        start: function(event, ui) {\n",
       "            pass_mouse_events = false;\n",
       "        },\n",
       "        resize: function(event, ui) {\n",
       "            fig.request_resize(ui.size.width, ui.size.height);\n",
       "        },\n",
       "        stop: function(event, ui) {\n",
       "            pass_mouse_events = true;\n",
       "            fig.request_resize(ui.size.width, ui.size.height);\n",
       "        },\n",
       "    });\n",
       "\n",
       "    function mouse_event_fn(event) {\n",
       "        if (pass_mouse_events)\n",
       "            return fig.mouse_event(event, event['data']);\n",
       "    }\n",
       "\n",
       "    rubberband.mousedown('button_press', mouse_event_fn);\n",
       "    rubberband.mouseup('button_release', mouse_event_fn);\n",
       "    // Throttle sequential mouse events to 1 every 20ms.\n",
       "    rubberband.mousemove('motion_notify', mouse_event_fn);\n",
       "\n",
       "    rubberband.mouseenter('figure_enter', mouse_event_fn);\n",
       "    rubberband.mouseleave('figure_leave', mouse_event_fn);\n",
       "\n",
       "    canvas_div.on(\"wheel\", function (event) {\n",
       "        event = event.originalEvent;\n",
       "        event['data'] = 'scroll'\n",
       "        if (event.deltaY < 0) {\n",
       "            event.step = 1;\n",
       "        } else {\n",
       "            event.step = -1;\n",
       "        }\n",
       "        mouse_event_fn(event);\n",
       "    });\n",
       "\n",
       "    canvas_div.append(canvas);\n",
       "    canvas_div.append(rubberband);\n",
       "\n",
       "    this.rubberband = rubberband;\n",
       "    this.rubberband_canvas = rubberband[0];\n",
       "    this.rubberband_context = rubberband[0].getContext(\"2d\");\n",
       "    this.rubberband_context.strokeStyle = \"#000000\";\n",
       "\n",
       "    this._resize_canvas = function(width, height) {\n",
       "        // Keep the size of the canvas, canvas container, and rubber band\n",
       "        // canvas in synch.\n",
       "        canvas_div.css('width', width)\n",
       "        canvas_div.css('height', height)\n",
       "\n",
       "        canvas.attr('width', width * mpl.ratio);\n",
       "        canvas.attr('height', height * mpl.ratio);\n",
       "        canvas.attr('style', 'width: ' + width + 'px; height: ' + height + 'px;');\n",
       "\n",
       "        rubberband.attr('width', width);\n",
       "        rubberband.attr('height', height);\n",
       "    }\n",
       "\n",
       "    // Set the figure to an initial 600x600px, this will subsequently be updated\n",
       "    // upon first draw.\n",
       "    this._resize_canvas(600, 600);\n",
       "\n",
       "    // Disable right mouse context menu.\n",
       "    $(this.rubberband_canvas).bind(\"contextmenu\",function(e){\n",
       "        return false;\n",
       "    });\n",
       "\n",
       "    function set_focus () {\n",
       "        canvas.focus();\n",
       "        canvas_div.focus();\n",
       "    }\n",
       "\n",
       "    window.setTimeout(set_focus, 100);\n",
       "}\n",
       "\n",
       "mpl.figure.prototype._init_toolbar = function() {\n",
       "    var fig = this;\n",
       "\n",
       "    var nav_element = $('<div/>');\n",
       "    nav_element.attr('style', 'width: 100%');\n",
       "    this.root.append(nav_element);\n",
       "\n",
       "    // Define a callback function for later on.\n",
       "    function toolbar_event(event) {\n",
       "        return fig.toolbar_button_onclick(event['data']);\n",
       "    }\n",
       "    function toolbar_mouse_event(event) {\n",
       "        return fig.toolbar_button_onmouseover(event['data']);\n",
       "    }\n",
       "\n",
       "    for(var toolbar_ind in mpl.toolbar_items) {\n",
       "        var name = mpl.toolbar_items[toolbar_ind][0];\n",
       "        var tooltip = mpl.toolbar_items[toolbar_ind][1];\n",
       "        var image = mpl.toolbar_items[toolbar_ind][2];\n",
       "        var method_name = mpl.toolbar_items[toolbar_ind][3];\n",
       "\n",
       "        if (!name) {\n",
       "            // put a spacer in here.\n",
       "            continue;\n",
       "        }\n",
       "        var button = $('<button/>');\n",
       "        button.addClass('ui-button ui-widget ui-state-default ui-corner-all ' +\n",
       "                        'ui-button-icon-only');\n",
       "        button.attr('role', 'button');\n",
       "        button.attr('aria-disabled', 'false');\n",
       "        button.click(method_name, toolbar_event);\n",
       "        button.mouseover(tooltip, toolbar_mouse_event);\n",
       "\n",
       "        var icon_img = $('<span/>');\n",
       "        icon_img.addClass('ui-button-icon-primary ui-icon');\n",
       "        icon_img.addClass(image);\n",
       "        icon_img.addClass('ui-corner-all');\n",
       "\n",
       "        var tooltip_span = $('<span/>');\n",
       "        tooltip_span.addClass('ui-button-text');\n",
       "        tooltip_span.html(tooltip);\n",
       "\n",
       "        button.append(icon_img);\n",
       "        button.append(tooltip_span);\n",
       "\n",
       "        nav_element.append(button);\n",
       "    }\n",
       "\n",
       "    var fmt_picker_span = $('<span/>');\n",
       "\n",
       "    var fmt_picker = $('<select/>');\n",
       "    fmt_picker.addClass('mpl-toolbar-option ui-widget ui-widget-content');\n",
       "    fmt_picker_span.append(fmt_picker);\n",
       "    nav_element.append(fmt_picker_span);\n",
       "    this.format_dropdown = fmt_picker[0];\n",
       "\n",
       "    for (var ind in mpl.extensions) {\n",
       "        var fmt = mpl.extensions[ind];\n",
       "        var option = $(\n",
       "            '<option/>', {selected: fmt === mpl.default_extension}).html(fmt);\n",
       "        fmt_picker.append(option);\n",
       "    }\n",
       "\n",
       "    // Add hover states to the ui-buttons\n",
       "    $( \".ui-button\" ).hover(\n",
       "        function() { $(this).addClass(\"ui-state-hover\");},\n",
       "        function() { $(this).removeClass(\"ui-state-hover\");}\n",
       "    );\n",
       "\n",
       "    var status_bar = $('<span class=\"mpl-message\"/>');\n",
       "    nav_element.append(status_bar);\n",
       "    this.message = status_bar[0];\n",
       "}\n",
       "\n",
       "mpl.figure.prototype.request_resize = function(x_pixels, y_pixels) {\n",
       "    // Request matplotlib to resize the figure. Matplotlib will then trigger a resize in the client,\n",
       "    // which will in turn request a refresh of the image.\n",
       "    this.send_message('resize', {'width': x_pixels, 'height': y_pixels});\n",
       "}\n",
       "\n",
       "mpl.figure.prototype.send_message = function(type, properties) {\n",
       "    properties['type'] = type;\n",
       "    properties['figure_id'] = this.id;\n",
       "    this.ws.send(JSON.stringify(properties));\n",
       "}\n",
       "\n",
       "mpl.figure.prototype.send_draw_message = function() {\n",
       "    if (!this.waiting) {\n",
       "        this.waiting = true;\n",
       "        this.ws.send(JSON.stringify({type: \"draw\", figure_id: this.id}));\n",
       "    }\n",
       "}\n",
       "\n",
       "\n",
       "mpl.figure.prototype.handle_save = function(fig, msg) {\n",
       "    var format_dropdown = fig.format_dropdown;\n",
       "    var format = format_dropdown.options[format_dropdown.selectedIndex].value;\n",
       "    fig.ondownload(fig, format);\n",
       "}\n",
       "\n",
       "\n",
       "mpl.figure.prototype.handle_resize = function(fig, msg) {\n",
       "    var size = msg['size'];\n",
       "    if (size[0] != fig.canvas.width || size[1] != fig.canvas.height) {\n",
       "        fig._resize_canvas(size[0], size[1]);\n",
       "        fig.send_message(\"refresh\", {});\n",
       "    };\n",
       "}\n",
       "\n",
       "mpl.figure.prototype.handle_rubberband = function(fig, msg) {\n",
       "    var x0 = msg['x0'] / mpl.ratio;\n",
       "    var y0 = (fig.canvas.height - msg['y0']) / mpl.ratio;\n",
       "    var x1 = msg['x1'] / mpl.ratio;\n",
       "    var y1 = (fig.canvas.height - msg['y1']) / mpl.ratio;\n",
       "    x0 = Math.floor(x0) + 0.5;\n",
       "    y0 = Math.floor(y0) + 0.5;\n",
       "    x1 = Math.floor(x1) + 0.5;\n",
       "    y1 = Math.floor(y1) + 0.5;\n",
       "    var min_x = Math.min(x0, x1);\n",
       "    var min_y = Math.min(y0, y1);\n",
       "    var width = Math.abs(x1 - x0);\n",
       "    var height = Math.abs(y1 - y0);\n",
       "\n",
       "    fig.rubberband_context.clearRect(\n",
       "        0, 0, fig.canvas.width / mpl.ratio, fig.canvas.height / mpl.ratio);\n",
       "\n",
       "    fig.rubberband_context.strokeRect(min_x, min_y, width, height);\n",
       "}\n",
       "\n",
       "mpl.figure.prototype.handle_figure_label = function(fig, msg) {\n",
       "    // Updates the figure title.\n",
       "    fig.header.textContent = msg['label'];\n",
       "}\n",
       "\n",
       "mpl.figure.prototype.handle_cursor = function(fig, msg) {\n",
       "    var cursor = msg['cursor'];\n",
       "    switch(cursor)\n",
       "    {\n",
       "    case 0:\n",
       "        cursor = 'pointer';\n",
       "        break;\n",
       "    case 1:\n",
       "        cursor = 'default';\n",
       "        break;\n",
       "    case 2:\n",
       "        cursor = 'crosshair';\n",
       "        break;\n",
       "    case 3:\n",
       "        cursor = 'move';\n",
       "        break;\n",
       "    }\n",
       "    fig.rubberband_canvas.style.cursor = cursor;\n",
       "}\n",
       "\n",
       "mpl.figure.prototype.handle_message = function(fig, msg) {\n",
       "    fig.message.textContent = msg['message'];\n",
       "}\n",
       "\n",
       "mpl.figure.prototype.handle_draw = function(fig, msg) {\n",
       "    // Request the server to send over a new figure.\n",
       "    fig.send_draw_message();\n",
       "}\n",
       "\n",
       "mpl.figure.prototype.handle_image_mode = function(fig, msg) {\n",
       "    fig.image_mode = msg['mode'];\n",
       "}\n",
       "\n",
       "mpl.figure.prototype.updated_canvas_event = function() {\n",
       "    // Called whenever the canvas gets updated.\n",
       "    this.send_message(\"ack\", {});\n",
       "}\n",
       "\n",
       "// A function to construct a web socket function for onmessage handling.\n",
       "// Called in the figure constructor.\n",
       "mpl.figure.prototype._make_on_message_function = function(fig) {\n",
       "    return function socket_on_message(evt) {\n",
       "        if (evt.data instanceof Blob) {\n",
       "            /* FIXME: We get \"Resource interpreted as Image but\n",
       "             * transferred with MIME type text/plain:\" errors on\n",
       "             * Chrome.  But how to set the MIME type?  It doesn't seem\n",
       "             * to be part of the websocket stream */\n",
       "            evt.data.type = \"image/png\";\n",
       "\n",
       "            /* Free the memory for the previous frames */\n",
       "            if (fig.imageObj.src) {\n",
       "                (window.URL || window.webkitURL).revokeObjectURL(\n",
       "                    fig.imageObj.src);\n",
       "            }\n",
       "\n",
       "            fig.imageObj.src = (window.URL || window.webkitURL).createObjectURL(\n",
       "                evt.data);\n",
       "            fig.updated_canvas_event();\n",
       "            fig.waiting = false;\n",
       "            return;\n",
       "        }\n",
       "        else if (typeof evt.data === 'string' && evt.data.slice(0, 21) == \"data:image/png;base64\") {\n",
       "            fig.imageObj.src = evt.data;\n",
       "            fig.updated_canvas_event();\n",
       "            fig.waiting = false;\n",
       "            return;\n",
       "        }\n",
       "\n",
       "        var msg = JSON.parse(evt.data);\n",
       "        var msg_type = msg['type'];\n",
       "\n",
       "        // Call the  \"handle_{type}\" callback, which takes\n",
       "        // the figure and JSON message as its only arguments.\n",
       "        try {\n",
       "            var callback = fig[\"handle_\" + msg_type];\n",
       "        } catch (e) {\n",
       "            console.log(\"No handler for the '\" + msg_type + \"' message type: \", msg);\n",
       "            return;\n",
       "        }\n",
       "\n",
       "        if (callback) {\n",
       "            try {\n",
       "                // console.log(\"Handling '\" + msg_type + \"' message: \", msg);\n",
       "                callback(fig, msg);\n",
       "            } catch (e) {\n",
       "                console.log(\"Exception inside the 'handler_\" + msg_type + \"' callback:\", e, e.stack, msg);\n",
       "            }\n",
       "        }\n",
       "    };\n",
       "}\n",
       "\n",
       "// from http://stackoverflow.com/questions/1114465/getting-mouse-location-in-canvas\n",
       "mpl.findpos = function(e) {\n",
       "    //this section is from http://www.quirksmode.org/js/events_properties.html\n",
       "    var targ;\n",
       "    if (!e)\n",
       "        e = window.event;\n",
       "    if (e.target)\n",
       "        targ = e.target;\n",
       "    else if (e.srcElement)\n",
       "        targ = e.srcElement;\n",
       "    if (targ.nodeType == 3) // defeat Safari bug\n",
       "        targ = targ.parentNode;\n",
       "\n",
       "    // jQuery normalizes the pageX and pageY\n",
       "    // pageX,Y are the mouse positions relative to the document\n",
       "    // offset() returns the position of the element relative to the document\n",
       "    var x = e.pageX - $(targ).offset().left;\n",
       "    var y = e.pageY - $(targ).offset().top;\n",
       "\n",
       "    return {\"x\": x, \"y\": y};\n",
       "};\n",
       "\n",
       "/*\n",
       " * return a copy of an object with only non-object keys\n",
       " * we need this to avoid circular references\n",
       " * http://stackoverflow.com/a/24161582/3208463\n",
       " */\n",
       "function simpleKeys (original) {\n",
       "  return Object.keys(original).reduce(function (obj, key) {\n",
       "    if (typeof original[key] !== 'object')\n",
       "        obj[key] = original[key]\n",
       "    return obj;\n",
       "  }, {});\n",
       "}\n",
       "\n",
       "mpl.figure.prototype.mouse_event = function(event, name) {\n",
       "    var canvas_pos = mpl.findpos(event)\n",
       "\n",
       "    if (name === 'button_press')\n",
       "    {\n",
       "        this.canvas.focus();\n",
       "        this.canvas_div.focus();\n",
       "    }\n",
       "\n",
       "    var x = canvas_pos.x * mpl.ratio;\n",
       "    var y = canvas_pos.y * mpl.ratio;\n",
       "\n",
       "    this.send_message(name, {x: x, y: y, button: event.button,\n",
       "                             step: event.step,\n",
       "                             guiEvent: simpleKeys(event)});\n",
       "\n",
       "    /* This prevents the web browser from automatically changing to\n",
       "     * the text insertion cursor when the button is pressed.  We want\n",
       "     * to control all of the cursor setting manually through the\n",
       "     * 'cursor' event from matplotlib */\n",
       "    event.preventDefault();\n",
       "    return false;\n",
       "}\n",
       "\n",
       "mpl.figure.prototype._key_event_extra = function(event, name) {\n",
       "    // Handle any extra behaviour associated with a key event\n",
       "}\n",
       "\n",
       "mpl.figure.prototype.key_event = function(event, name) {\n",
       "\n",
       "    // Prevent repeat events\n",
       "    if (name == 'key_press')\n",
       "    {\n",
       "        if (event.which === this._key)\n",
       "            return;\n",
       "        else\n",
       "            this._key = event.which;\n",
       "    }\n",
       "    if (name == 'key_release')\n",
       "        this._key = null;\n",
       "\n",
       "    var value = '';\n",
       "    if (event.ctrlKey && event.which != 17)\n",
       "        value += \"ctrl+\";\n",
       "    if (event.altKey && event.which != 18)\n",
       "        value += \"alt+\";\n",
       "    if (event.shiftKey && event.which != 16)\n",
       "        value += \"shift+\";\n",
       "\n",
       "    value += 'k';\n",
       "    value += event.which.toString();\n",
       "\n",
       "    this._key_event_extra(event, name);\n",
       "\n",
       "    this.send_message(name, {key: value,\n",
       "                             guiEvent: simpleKeys(event)});\n",
       "    return false;\n",
       "}\n",
       "\n",
       "mpl.figure.prototype.toolbar_button_onclick = function(name) {\n",
       "    if (name == 'download') {\n",
       "        this.handle_save(this, null);\n",
       "    } else {\n",
       "        this.send_message(\"toolbar_button\", {name: name});\n",
       "    }\n",
       "};\n",
       "\n",
       "mpl.figure.prototype.toolbar_button_onmouseover = function(tooltip) {\n",
       "    this.message.textContent = tooltip;\n",
       "};\n",
       "mpl.toolbar_items = [[\"Home\", \"Reset original view\", \"fa fa-home icon-home\", \"home\"], [\"Back\", \"Back to previous view\", \"fa fa-arrow-left icon-arrow-left\", \"back\"], [\"Forward\", \"Forward to next view\", \"fa fa-arrow-right icon-arrow-right\", \"forward\"], [\"\", \"\", \"\", \"\"], [\"Pan\", \"Pan axes with left mouse, zoom with right\", \"fa fa-arrows icon-move\", \"pan\"], [\"Zoom\", \"Zoom to rectangle\", \"fa fa-square-o icon-check-empty\", \"zoom\"], [\"\", \"\", \"\", \"\"], [\"Download\", \"Download plot\", \"fa fa-floppy-o icon-save\", \"download\"]];\n",
       "\n",
       "mpl.extensions = [\"eps\", \"pdf\", \"png\", \"ps\", \"raw\", \"svg\"];\n",
       "\n",
       "mpl.default_extension = \"png\";var comm_websocket_adapter = function(comm) {\n",
       "    // Create a \"websocket\"-like object which calls the given IPython comm\n",
       "    // object with the appropriate methods. Currently this is a non binary\n",
       "    // socket, so there is still some room for performance tuning.\n",
       "    var ws = {};\n",
       "\n",
       "    ws.close = function() {\n",
       "        comm.close()\n",
       "    };\n",
       "    ws.send = function(m) {\n",
       "        //console.log('sending', m);\n",
       "        comm.send(m);\n",
       "    };\n",
       "    // Register the callback with on_msg.\n",
       "    comm.on_msg(function(msg) {\n",
       "        //console.log('receiving', msg['content']['data'], msg);\n",
       "        // Pass the mpl event to the overridden (by mpl) onmessage function.\n",
       "        ws.onmessage(msg['content']['data'])\n",
       "    });\n",
       "    return ws;\n",
       "}\n",
       "\n",
       "mpl.mpl_figure_comm = function(comm, msg) {\n",
       "    // This is the function which gets called when the mpl process\n",
       "    // starts-up an IPython Comm through the \"matplotlib\" channel.\n",
       "\n",
       "    var id = msg.content.data.id;\n",
       "    // Get hold of the div created by the display call when the Comm\n",
       "    // socket was opened in Python.\n",
       "    var element = $(\"#\" + id);\n",
       "    var ws_proxy = comm_websocket_adapter(comm)\n",
       "\n",
       "    function ondownload(figure, format) {\n",
       "        window.open(figure.imageObj.src);\n",
       "    }\n",
       "\n",
       "    var fig = new mpl.figure(id, ws_proxy,\n",
       "                           ondownload,\n",
       "                           element.get(0));\n",
       "\n",
       "    // Call onopen now - mpl needs it, as it is assuming we've passed it a real\n",
       "    // web socket which is closed, not our websocket->open comm proxy.\n",
       "    ws_proxy.onopen();\n",
       "\n",
       "    fig.parent_element = element.get(0);\n",
       "    fig.cell_info = mpl.find_output_cell(\"<div id='\" + id + \"'></div>\");\n",
       "    if (!fig.cell_info) {\n",
       "        console.error(\"Failed to find cell for figure\", id, fig);\n",
       "        return;\n",
       "    }\n",
       "\n",
       "    var output_index = fig.cell_info[2]\n",
       "    var cell = fig.cell_info[0];\n",
       "\n",
       "};\n",
       "\n",
       "mpl.figure.prototype.handle_close = function(fig, msg) {\n",
       "    var width = fig.canvas.width/mpl.ratio\n",
       "    fig.root.unbind('remove')\n",
       "\n",
       "    // Update the output cell to use the data from the current canvas.\n",
       "    fig.push_to_output();\n",
       "    var dataURL = fig.canvas.toDataURL();\n",
       "    // Re-enable the keyboard manager in IPython - without this line, in FF,\n",
       "    // the notebook keyboard shortcuts fail.\n",
       "    IPython.keyboard_manager.enable()\n",
       "    $(fig.parent_element).html('<img src=\"' + dataURL + '\" width=\"' + width + '\">');\n",
       "    fig.close_ws(fig, msg);\n",
       "}\n",
       "\n",
       "mpl.figure.prototype.close_ws = function(fig, msg){\n",
       "    fig.send_message('closing', msg);\n",
       "    // fig.ws.close()\n",
       "}\n",
       "\n",
       "mpl.figure.prototype.push_to_output = function(remove_interactive) {\n",
       "    // Turn the data on the canvas into data in the output cell.\n",
       "    var width = this.canvas.width/mpl.ratio\n",
       "    var dataURL = this.canvas.toDataURL();\n",
       "    this.cell_info[1]['text/html'] = '<img src=\"' + dataURL + '\" width=\"' + width + '\">';\n",
       "}\n",
       "\n",
       "mpl.figure.prototype.updated_canvas_event = function() {\n",
       "    // Tell IPython that the notebook contents must change.\n",
       "    IPython.notebook.set_dirty(true);\n",
       "    this.send_message(\"ack\", {});\n",
       "    var fig = this;\n",
       "    // Wait a second, then push the new image to the DOM so\n",
       "    // that it is saved nicely (might be nice to debounce this).\n",
       "    setTimeout(function () { fig.push_to_output() }, 1000);\n",
       "}\n",
       "\n",
       "mpl.figure.prototype._init_toolbar = function() {\n",
       "    var fig = this;\n",
       "\n",
       "    var nav_element = $('<div/>');\n",
       "    nav_element.attr('style', 'width: 100%');\n",
       "    this.root.append(nav_element);\n",
       "\n",
       "    // Define a callback function for later on.\n",
       "    function toolbar_event(event) {\n",
       "        return fig.toolbar_button_onclick(event['data']);\n",
       "    }\n",
       "    function toolbar_mouse_event(event) {\n",
       "        return fig.toolbar_button_onmouseover(event['data']);\n",
       "    }\n",
       "\n",
       "    for(var toolbar_ind in mpl.toolbar_items){\n",
       "        var name = mpl.toolbar_items[toolbar_ind][0];\n",
       "        var tooltip = mpl.toolbar_items[toolbar_ind][1];\n",
       "        var image = mpl.toolbar_items[toolbar_ind][2];\n",
       "        var method_name = mpl.toolbar_items[toolbar_ind][3];\n",
       "\n",
       "        if (!name) { continue; };\n",
       "\n",
       "        var button = $('<button class=\"btn btn-default\" href=\"#\" title=\"' + name + '\"><i class=\"fa ' + image + ' fa-lg\"></i></button>');\n",
       "        button.click(method_name, toolbar_event);\n",
       "        button.mouseover(tooltip, toolbar_mouse_event);\n",
       "        nav_element.append(button);\n",
       "    }\n",
       "\n",
       "    // Add the status bar.\n",
       "    var status_bar = $('<span class=\"mpl-message\" style=\"text-align:right; float: right;\"/>');\n",
       "    nav_element.append(status_bar);\n",
       "    this.message = status_bar[0];\n",
       "\n",
       "    // Add the close button to the window.\n",
       "    var buttongrp = $('<div class=\"btn-group inline pull-right\"></div>');\n",
       "    var button = $('<button class=\"btn btn-mini btn-primary\" href=\"#\" title=\"Stop Interaction\"><i class=\"fa fa-power-off icon-remove icon-large\"></i></button>');\n",
       "    button.click(function (evt) { fig.handle_close(fig, {}); } );\n",
       "    button.mouseover('Stop Interaction', toolbar_mouse_event);\n",
       "    buttongrp.append(button);\n",
       "    var titlebar = this.root.find($('.ui-dialog-titlebar'));\n",
       "    titlebar.prepend(buttongrp);\n",
       "}\n",
       "\n",
       "mpl.figure.prototype._root_extra_style = function(el){\n",
       "    var fig = this\n",
       "    el.on(\"remove\", function(){\n",
       "\tfig.close_ws(fig, {});\n",
       "    });\n",
       "}\n",
       "\n",
       "mpl.figure.prototype._canvas_extra_style = function(el){\n",
       "    // this is important to make the div 'focusable\n",
       "    el.attr('tabindex', 0)\n",
       "    // reach out to IPython and tell the keyboard manager to turn it's self\n",
       "    // off when our div gets focus\n",
       "\n",
       "    // location in version 3\n",
       "    if (IPython.notebook.keyboard_manager) {\n",
       "        IPython.notebook.keyboard_manager.register_events(el);\n",
       "    }\n",
       "    else {\n",
       "        // location in version 2\n",
       "        IPython.keyboard_manager.register_events(el);\n",
       "    }\n",
       "\n",
       "}\n",
       "\n",
       "mpl.figure.prototype._key_event_extra = function(event, name) {\n",
       "    var manager = IPython.notebook.keyboard_manager;\n",
       "    if (!manager)\n",
       "        manager = IPython.keyboard_manager;\n",
       "\n",
       "    // Check for shift+enter\n",
       "    if (event.shiftKey && event.which == 13) {\n",
       "        this.canvas_div.blur();\n",
       "        // select the cell after this one\n",
       "        var index = IPython.notebook.find_cell_index(this.cell_info[0]);\n",
       "        IPython.notebook.select(index + 1);\n",
       "    }\n",
       "}\n",
       "\n",
       "mpl.figure.prototype.handle_save = function(fig, msg) {\n",
       "    fig.ondownload(fig, null);\n",
       "}\n",
       "\n",
       "\n",
       "mpl.find_output_cell = function(html_output) {\n",
       "    // Return the cell and output element which can be found *uniquely* in the notebook.\n",
       "    // Note - this is a bit hacky, but it is done because the \"notebook_saving.Notebook\"\n",
       "    // IPython event is triggered only after the cells have been serialised, which for\n",
       "    // our purposes (turning an active figure into a static one), is too late.\n",
       "    var cells = IPython.notebook.get_cells();\n",
       "    var ncells = cells.length;\n",
       "    for (var i=0; i<ncells; i++) {\n",
       "        var cell = cells[i];\n",
       "        if (cell.cell_type === 'code'){\n",
       "            for (var j=0; j<cell.output_area.outputs.length; j++) {\n",
       "                var data = cell.output_area.outputs[j];\n",
       "                if (data.data) {\n",
       "                    // IPython >= 3 moved mimebundle to data attribute of output\n",
       "                    data = data.data;\n",
       "                }\n",
       "                if (data['text/html'] == html_output) {\n",
       "                    return [cell, data, j];\n",
       "                }\n",
       "            }\n",
       "        }\n",
       "    }\n",
       "}\n",
       "\n",
       "// Register the function which deals with the matplotlib target/channel.\n",
       "// The kernel may be null if the page has been refreshed.\n",
       "if (IPython.notebook.kernel != null) {\n",
       "    IPython.notebook.kernel.comm_manager.register_target('matplotlib', mpl.mpl_figure_comm);\n",
       "}\n"
      ],
      "text/plain": [
       "<IPython.core.display.Javascript object>"
      ]
     },
     "metadata": {},
     "output_type": "display_data"
    },
    {
     "data": {
      "text/html": [
       "<img src=\"data:image/png;base64,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\" width=\"640\">"
      ],
      "text/plain": [
       "<IPython.core.display.HTML object>"
      ]
     },
     "metadata": {},
     "output_type": "display_data"
    }
   ],
   "source": [
    "## ONLY for jupyter notebook\n",
    "%matplotlib notebook\n",
    "\n",
    "## import libraries \n",
    "import matplotlib.pyplot as plt\n",
    "import math\n",
    "\n",
    "\n",
    "# initial conditions\n",
    "g = 9.8\n",
    "h = 0.\n",
    "theta = math.radians(45.)\n",
    "v0 = 1.\n",
    "dt=0.01\n",
    "        \n",
    "#compute velocity components\n",
    "v0x = v0*math.cos(theta)\n",
    "v0y = v0*math.sin(theta)\n",
    "print(\"v0_x: %.3f m/s \\t v0_y: %.3f m/s\"%(v0x,v0y))\n",
    "\n",
    "t=0.\n",
    "x=[]\n",
    "y=[]\n",
    "xi=0\n",
    "yi=h\n",
    "\n",
    "while yi>=0:\n",
    "    x.append(xi)\n",
    "    y.append(yi)\n",
    "    t+=dt\n",
    "    xi=v0x*t\n",
    "    yi=h+v0y*t-0.5*g*t*t\n",
    "\n",
    "\n",
    "plt.plot(x,y, label=\"trajectory\", color='red', marker='.')\n",
    "plt.legend()\n",
    "plt.show()"
   ]
  },
  {
   "cell_type": "markdown",
   "metadata": {},
   "source": [
    "To make it more flexible we could ask the user to provide initial conditons"
   ]
  },
  {
   "cell_type": "code",
   "execution_count": 7,
   "metadata": {},
   "outputs": [
    {
     "name": "stdout",
     "output_type": "stream",
     "text": [
      "angle theta in [0,90] degrees: 23\n",
      "v0_x: 9.205 m/s \t v0_y: 3.907 m/s\n"
     ]
    },
    {
     "data": {
      "application/javascript": [
       "/* Put everything inside the global mpl namespace */\n",
       "window.mpl = {};\n",
       "\n",
       "\n",
       "mpl.get_websocket_type = function() {\n",
       "    if (typeof(WebSocket) !== 'undefined') {\n",
       "        return WebSocket;\n",
       "    } else if (typeof(MozWebSocket) !== 'undefined') {\n",
       "        return MozWebSocket;\n",
       "    } else {\n",
       "        alert('Your browser does not have WebSocket support. ' +\n",
       "              'Please try Chrome, Safari or Firefox ≥ 6. ' +\n",
       "              'Firefox 4 and 5 are also supported but you ' +\n",
       "              'have to enable WebSockets in about:config.');\n",
       "    };\n",
       "}\n",
       "\n",
       "mpl.figure = function(figure_id, websocket, ondownload, parent_element) {\n",
       "    this.id = figure_id;\n",
       "\n",
       "    this.ws = websocket;\n",
       "\n",
       "    this.supports_binary = (this.ws.binaryType != undefined);\n",
       "\n",
       "    if (!this.supports_binary) {\n",
       "        var warnings = document.getElementById(\"mpl-warnings\");\n",
       "        if (warnings) {\n",
       "            warnings.style.display = 'block';\n",
       "            warnings.textContent = (\n",
       "                \"This browser does not support binary websocket messages. \" +\n",
       "                    \"Performance may be slow.\");\n",
       "        }\n",
       "    }\n",
       "\n",
       "    this.imageObj = new Image();\n",
       "\n",
       "    this.context = undefined;\n",
       "    this.message = undefined;\n",
       "    this.canvas = undefined;\n",
       "    this.rubberband_canvas = undefined;\n",
       "    this.rubberband_context = undefined;\n",
       "    this.format_dropdown = undefined;\n",
       "\n",
       "    this.image_mode = 'full';\n",
       "\n",
       "    this.root = $('<div/>');\n",
       "    this._root_extra_style(this.root)\n",
       "    this.root.attr('style', 'display: inline-block');\n",
       "\n",
       "    $(parent_element).append(this.root);\n",
       "\n",
       "    this._init_header(this);\n",
       "    this._init_canvas(this);\n",
       "    this._init_toolbar(this);\n",
       "\n",
       "    var fig = this;\n",
       "\n",
       "    this.waiting = false;\n",
       "\n",
       "    this.ws.onopen =  function () {\n",
       "            fig.send_message(\"supports_binary\", {value: fig.supports_binary});\n",
       "            fig.send_message(\"send_image_mode\", {});\n",
       "            if (mpl.ratio != 1) {\n",
       "                fig.send_message(\"set_dpi_ratio\", {'dpi_ratio': mpl.ratio});\n",
       "            }\n",
       "            fig.send_message(\"refresh\", {});\n",
       "        }\n",
       "\n",
       "    this.imageObj.onload = function() {\n",
       "            if (fig.image_mode == 'full') {\n",
       "                // Full images could contain transparency (where diff images\n",
       "                // almost always do), so we need to clear the canvas so that\n",
       "                // there is no ghosting.\n",
       "                fig.context.clearRect(0, 0, fig.canvas.width, fig.canvas.height);\n",
       "            }\n",
       "            fig.context.drawImage(fig.imageObj, 0, 0);\n",
       "        };\n",
       "\n",
       "    this.imageObj.onunload = function() {\n",
       "        fig.ws.close();\n",
       "    }\n",
       "\n",
       "    this.ws.onmessage = this._make_on_message_function(this);\n",
       "\n",
       "    this.ondownload = ondownload;\n",
       "}\n",
       "\n",
       "mpl.figure.prototype._init_header = function() {\n",
       "    var titlebar = $(\n",
       "        '<div class=\"ui-dialog-titlebar ui-widget-header ui-corner-all ' +\n",
       "        'ui-helper-clearfix\"/>');\n",
       "    var titletext = $(\n",
       "        '<div class=\"ui-dialog-title\" style=\"width: 100%; ' +\n",
       "        'text-align: center; padding: 3px;\"/>');\n",
       "    titlebar.append(titletext)\n",
       "    this.root.append(titlebar);\n",
       "    this.header = titletext[0];\n",
       "}\n",
       "\n",
       "\n",
       "\n",
       "mpl.figure.prototype._canvas_extra_style = function(canvas_div) {\n",
       "\n",
       "}\n",
       "\n",
       "\n",
       "mpl.figure.prototype._root_extra_style = function(canvas_div) {\n",
       "\n",
       "}\n",
       "\n",
       "mpl.figure.prototype._init_canvas = function() {\n",
       "    var fig = this;\n",
       "\n",
       "    var canvas_div = $('<div/>');\n",
       "\n",
       "    canvas_div.attr('style', 'position: relative; clear: both; outline: 0');\n",
       "\n",
       "    function canvas_keyboard_event(event) {\n",
       "        return fig.key_event(event, event['data']);\n",
       "    }\n",
       "\n",
       "    canvas_div.keydown('key_press', canvas_keyboard_event);\n",
       "    canvas_div.keyup('key_release', canvas_keyboard_event);\n",
       "    this.canvas_div = canvas_div\n",
       "    this._canvas_extra_style(canvas_div)\n",
       "    this.root.append(canvas_div);\n",
       "\n",
       "    var canvas = $('<canvas/>');\n",
       "    canvas.addClass('mpl-canvas');\n",
       "    canvas.attr('style', \"left: 0; top: 0; z-index: 0; outline: 0\")\n",
       "\n",
       "    this.canvas = canvas[0];\n",
       "    this.context = canvas[0].getContext(\"2d\");\n",
       "\n",
       "    var backingStore = this.context.backingStorePixelRatio ||\n",
       "\tthis.context.webkitBackingStorePixelRatio ||\n",
       "\tthis.context.mozBackingStorePixelRatio ||\n",
       "\tthis.context.msBackingStorePixelRatio ||\n",
       "\tthis.context.oBackingStorePixelRatio ||\n",
       "\tthis.context.backingStorePixelRatio || 1;\n",
       "\n",
       "    mpl.ratio = (window.devicePixelRatio || 1) / backingStore;\n",
       "\n",
       "    var rubberband = $('<canvas/>');\n",
       "    rubberband.attr('style', \"position: absolute; left: 0; top: 0; z-index: 1;\")\n",
       "\n",
       "    var pass_mouse_events = true;\n",
       "\n",
       "    canvas_div.resizable({\n",
       "        start: function(event, ui) {\n",
       "            pass_mouse_events = false;\n",
       "        },\n",
       "        resize: function(event, ui) {\n",
       "            fig.request_resize(ui.size.width, ui.size.height);\n",
       "        },\n",
       "        stop: function(event, ui) {\n",
       "            pass_mouse_events = true;\n",
       "            fig.request_resize(ui.size.width, ui.size.height);\n",
       "        },\n",
       "    });\n",
       "\n",
       "    function mouse_event_fn(event) {\n",
       "        if (pass_mouse_events)\n",
       "            return fig.mouse_event(event, event['data']);\n",
       "    }\n",
       "\n",
       "    rubberband.mousedown('button_press', mouse_event_fn);\n",
       "    rubberband.mouseup('button_release', mouse_event_fn);\n",
       "    // Throttle sequential mouse events to 1 every 20ms.\n",
       "    rubberband.mousemove('motion_notify', mouse_event_fn);\n",
       "\n",
       "    rubberband.mouseenter('figure_enter', mouse_event_fn);\n",
       "    rubberband.mouseleave('figure_leave', mouse_event_fn);\n",
       "\n",
       "    canvas_div.on(\"wheel\", function (event) {\n",
       "        event = event.originalEvent;\n",
       "        event['data'] = 'scroll'\n",
       "        if (event.deltaY < 0) {\n",
       "            event.step = 1;\n",
       "        } else {\n",
       "            event.step = -1;\n",
       "        }\n",
       "        mouse_event_fn(event);\n",
       "    });\n",
       "\n",
       "    canvas_div.append(canvas);\n",
       "    canvas_div.append(rubberband);\n",
       "\n",
       "    this.rubberband = rubberband;\n",
       "    this.rubberband_canvas = rubberband[0];\n",
       "    this.rubberband_context = rubberband[0].getContext(\"2d\");\n",
       "    this.rubberband_context.strokeStyle = \"#000000\";\n",
       "\n",
       "    this._resize_canvas = function(width, height) {\n",
       "        // Keep the size of the canvas, canvas container, and rubber band\n",
       "        // canvas in synch.\n",
       "        canvas_div.css('width', width)\n",
       "        canvas_div.css('height', height)\n",
       "\n",
       "        canvas.attr('width', width * mpl.ratio);\n",
       "        canvas.attr('height', height * mpl.ratio);\n",
       "        canvas.attr('style', 'width: ' + width + 'px; height: ' + height + 'px;');\n",
       "\n",
       "        rubberband.attr('width', width);\n",
       "        rubberband.attr('height', height);\n",
       "    }\n",
       "\n",
       "    // Set the figure to an initial 600x600px, this will subsequently be updated\n",
       "    // upon first draw.\n",
       "    this._resize_canvas(600, 600);\n",
       "\n",
       "    // Disable right mouse context menu.\n",
       "    $(this.rubberband_canvas).bind(\"contextmenu\",function(e){\n",
       "        return false;\n",
       "    });\n",
       "\n",
       "    function set_focus () {\n",
       "        canvas.focus();\n",
       "        canvas_div.focus();\n",
       "    }\n",
       "\n",
       "    window.setTimeout(set_focus, 100);\n",
       "}\n",
       "\n",
       "mpl.figure.prototype._init_toolbar = function() {\n",
       "    var fig = this;\n",
       "\n",
       "    var nav_element = $('<div/>');\n",
       "    nav_element.attr('style', 'width: 100%');\n",
       "    this.root.append(nav_element);\n",
       "\n",
       "    // Define a callback function for later on.\n",
       "    function toolbar_event(event) {\n",
       "        return fig.toolbar_button_onclick(event['data']);\n",
       "    }\n",
       "    function toolbar_mouse_event(event) {\n",
       "        return fig.toolbar_button_onmouseover(event['data']);\n",
       "    }\n",
       "\n",
       "    for(var toolbar_ind in mpl.toolbar_items) {\n",
       "        var name = mpl.toolbar_items[toolbar_ind][0];\n",
       "        var tooltip = mpl.toolbar_items[toolbar_ind][1];\n",
       "        var image = mpl.toolbar_items[toolbar_ind][2];\n",
       "        var method_name = mpl.toolbar_items[toolbar_ind][3];\n",
       "\n",
       "        if (!name) {\n",
       "            // put a spacer in here.\n",
       "            continue;\n",
       "        }\n",
       "        var button = $('<button/>');\n",
       "        button.addClass('ui-button ui-widget ui-state-default ui-corner-all ' +\n",
       "                        'ui-button-icon-only');\n",
       "        button.attr('role', 'button');\n",
       "        button.attr('aria-disabled', 'false');\n",
       "        button.click(method_name, toolbar_event);\n",
       "        button.mouseover(tooltip, toolbar_mouse_event);\n",
       "\n",
       "        var icon_img = $('<span/>');\n",
       "        icon_img.addClass('ui-button-icon-primary ui-icon');\n",
       "        icon_img.addClass(image);\n",
       "        icon_img.addClass('ui-corner-all');\n",
       "\n",
       "        var tooltip_span = $('<span/>');\n",
       "        tooltip_span.addClass('ui-button-text');\n",
       "        tooltip_span.html(tooltip);\n",
       "\n",
       "        button.append(icon_img);\n",
       "        button.append(tooltip_span);\n",
       "\n",
       "        nav_element.append(button);\n",
       "    }\n",
       "\n",
       "    var fmt_picker_span = $('<span/>');\n",
       "\n",
       "    var fmt_picker = $('<select/>');\n",
       "    fmt_picker.addClass('mpl-toolbar-option ui-widget ui-widget-content');\n",
       "    fmt_picker_span.append(fmt_picker);\n",
       "    nav_element.append(fmt_picker_span);\n",
       "    this.format_dropdown = fmt_picker[0];\n",
       "\n",
       "    for (var ind in mpl.extensions) {\n",
       "        var fmt = mpl.extensions[ind];\n",
       "        var option = $(\n",
       "            '<option/>', {selected: fmt === mpl.default_extension}).html(fmt);\n",
       "        fmt_picker.append(option);\n",
       "    }\n",
       "\n",
       "    // Add hover states to the ui-buttons\n",
       "    $( \".ui-button\" ).hover(\n",
       "        function() { $(this).addClass(\"ui-state-hover\");},\n",
       "        function() { $(this).removeClass(\"ui-state-hover\");}\n",
       "    );\n",
       "\n",
       "    var status_bar = $('<span class=\"mpl-message\"/>');\n",
       "    nav_element.append(status_bar);\n",
       "    this.message = status_bar[0];\n",
       "}\n",
       "\n",
       "mpl.figure.prototype.request_resize = function(x_pixels, y_pixels) {\n",
       "    // Request matplotlib to resize the figure. Matplotlib will then trigger a resize in the client,\n",
       "    // which will in turn request a refresh of the image.\n",
       "    this.send_message('resize', {'width': x_pixels, 'height': y_pixels});\n",
       "}\n",
       "\n",
       "mpl.figure.prototype.send_message = function(type, properties) {\n",
       "    properties['type'] = type;\n",
       "    properties['figure_id'] = this.id;\n",
       "    this.ws.send(JSON.stringify(properties));\n",
       "}\n",
       "\n",
       "mpl.figure.prototype.send_draw_message = function() {\n",
       "    if (!this.waiting) {\n",
       "        this.waiting = true;\n",
       "        this.ws.send(JSON.stringify({type: \"draw\", figure_id: this.id}));\n",
       "    }\n",
       "}\n",
       "\n",
       "\n",
       "mpl.figure.prototype.handle_save = function(fig, msg) {\n",
       "    var format_dropdown = fig.format_dropdown;\n",
       "    var format = format_dropdown.options[format_dropdown.selectedIndex].value;\n",
       "    fig.ondownload(fig, format);\n",
       "}\n",
       "\n",
       "\n",
       "mpl.figure.prototype.handle_resize = function(fig, msg) {\n",
       "    var size = msg['size'];\n",
       "    if (size[0] != fig.canvas.width || size[1] != fig.canvas.height) {\n",
       "        fig._resize_canvas(size[0], size[1]);\n",
       "        fig.send_message(\"refresh\", {});\n",
       "    };\n",
       "}\n",
       "\n",
       "mpl.figure.prototype.handle_rubberband = function(fig, msg) {\n",
       "    var x0 = msg['x0'] / mpl.ratio;\n",
       "    var y0 = (fig.canvas.height - msg['y0']) / mpl.ratio;\n",
       "    var x1 = msg['x1'] / mpl.ratio;\n",
       "    var y1 = (fig.canvas.height - msg['y1']) / mpl.ratio;\n",
       "    x0 = Math.floor(x0) + 0.5;\n",
       "    y0 = Math.floor(y0) + 0.5;\n",
       "    x1 = Math.floor(x1) + 0.5;\n",
       "    y1 = Math.floor(y1) + 0.5;\n",
       "    var min_x = Math.min(x0, x1);\n",
       "    var min_y = Math.min(y0, y1);\n",
       "    var width = Math.abs(x1 - x0);\n",
       "    var height = Math.abs(y1 - y0);\n",
       "\n",
       "    fig.rubberband_context.clearRect(\n",
       "        0, 0, fig.canvas.width / mpl.ratio, fig.canvas.height / mpl.ratio);\n",
       "\n",
       "    fig.rubberband_context.strokeRect(min_x, min_y, width, height);\n",
       "}\n",
       "\n",
       "mpl.figure.prototype.handle_figure_label = function(fig, msg) {\n",
       "    // Updates the figure title.\n",
       "    fig.header.textContent = msg['label'];\n",
       "}\n",
       "\n",
       "mpl.figure.prototype.handle_cursor = function(fig, msg) {\n",
       "    var cursor = msg['cursor'];\n",
       "    switch(cursor)\n",
       "    {\n",
       "    case 0:\n",
       "        cursor = 'pointer';\n",
       "        break;\n",
       "    case 1:\n",
       "        cursor = 'default';\n",
       "        break;\n",
       "    case 2:\n",
       "        cursor = 'crosshair';\n",
       "        break;\n",
       "    case 3:\n",
       "        cursor = 'move';\n",
       "        break;\n",
       "    }\n",
       "    fig.rubberband_canvas.style.cursor = cursor;\n",
       "}\n",
       "\n",
       "mpl.figure.prototype.handle_message = function(fig, msg) {\n",
       "    fig.message.textContent = msg['message'];\n",
       "}\n",
       "\n",
       "mpl.figure.prototype.handle_draw = function(fig, msg) {\n",
       "    // Request the server to send over a new figure.\n",
       "    fig.send_draw_message();\n",
       "}\n",
       "\n",
       "mpl.figure.prototype.handle_image_mode = function(fig, msg) {\n",
       "    fig.image_mode = msg['mode'];\n",
       "}\n",
       "\n",
       "mpl.figure.prototype.updated_canvas_event = function() {\n",
       "    // Called whenever the canvas gets updated.\n",
       "    this.send_message(\"ack\", {});\n",
       "}\n",
       "\n",
       "// A function to construct a web socket function for onmessage handling.\n",
       "// Called in the figure constructor.\n",
       "mpl.figure.prototype._make_on_message_function = function(fig) {\n",
       "    return function socket_on_message(evt) {\n",
       "        if (evt.data instanceof Blob) {\n",
       "            /* FIXME: We get \"Resource interpreted as Image but\n",
       "             * transferred with MIME type text/plain:\" errors on\n",
       "             * Chrome.  But how to set the MIME type?  It doesn't seem\n",
       "             * to be part of the websocket stream */\n",
       "            evt.data.type = \"image/png\";\n",
       "\n",
       "            /* Free the memory for the previous frames */\n",
       "            if (fig.imageObj.src) {\n",
       "                (window.URL || window.webkitURL).revokeObjectURL(\n",
       "                    fig.imageObj.src);\n",
       "            }\n",
       "\n",
       "            fig.imageObj.src = (window.URL || window.webkitURL).createObjectURL(\n",
       "                evt.data);\n",
       "            fig.updated_canvas_event();\n",
       "            fig.waiting = false;\n",
       "            return;\n",
       "        }\n",
       "        else if (typeof evt.data === 'string' && evt.data.slice(0, 21) == \"data:image/png;base64\") {\n",
       "            fig.imageObj.src = evt.data;\n",
       "            fig.updated_canvas_event();\n",
       "            fig.waiting = false;\n",
       "            return;\n",
       "        }\n",
       "\n",
       "        var msg = JSON.parse(evt.data);\n",
       "        var msg_type = msg['type'];\n",
       "\n",
       "        // Call the  \"handle_{type}\" callback, which takes\n",
       "        // the figure and JSON message as its only arguments.\n",
       "        try {\n",
       "            var callback = fig[\"handle_\" + msg_type];\n",
       "        } catch (e) {\n",
       "            console.log(\"No handler for the '\" + msg_type + \"' message type: \", msg);\n",
       "            return;\n",
       "        }\n",
       "\n",
       "        if (callback) {\n",
       "            try {\n",
       "                // console.log(\"Handling '\" + msg_type + \"' message: \", msg);\n",
       "                callback(fig, msg);\n",
       "            } catch (e) {\n",
       "                console.log(\"Exception inside the 'handler_\" + msg_type + \"' callback:\", e, e.stack, msg);\n",
       "            }\n",
       "        }\n",
       "    };\n",
       "}\n",
       "\n",
       "// from http://stackoverflow.com/questions/1114465/getting-mouse-location-in-canvas\n",
       "mpl.findpos = function(e) {\n",
       "    //this section is from http://www.quirksmode.org/js/events_properties.html\n",
       "    var targ;\n",
       "    if (!e)\n",
       "        e = window.event;\n",
       "    if (e.target)\n",
       "        targ = e.target;\n",
       "    else if (e.srcElement)\n",
       "        targ = e.srcElement;\n",
       "    if (targ.nodeType == 3) // defeat Safari bug\n",
       "        targ = targ.parentNode;\n",
       "\n",
       "    // jQuery normalizes the pageX and pageY\n",
       "    // pageX,Y are the mouse positions relative to the document\n",
       "    // offset() returns the position of the element relative to the document\n",
       "    var x = e.pageX - $(targ).offset().left;\n",
       "    var y = e.pageY - $(targ).offset().top;\n",
       "\n",
       "    return {\"x\": x, \"y\": y};\n",
       "};\n",
       "\n",
       "/*\n",
       " * return a copy of an object with only non-object keys\n",
       " * we need this to avoid circular references\n",
       " * http://stackoverflow.com/a/24161582/3208463\n",
       " */\n",
       "function simpleKeys (original) {\n",
       "  return Object.keys(original).reduce(function (obj, key) {\n",
       "    if (typeof original[key] !== 'object')\n",
       "        obj[key] = original[key]\n",
       "    return obj;\n",
       "  }, {});\n",
       "}\n",
       "\n",
       "mpl.figure.prototype.mouse_event = function(event, name) {\n",
       "    var canvas_pos = mpl.findpos(event)\n",
       "\n",
       "    if (name === 'button_press')\n",
       "    {\n",
       "        this.canvas.focus();\n",
       "        this.canvas_div.focus();\n",
       "    }\n",
       "\n",
       "    var x = canvas_pos.x * mpl.ratio;\n",
       "    var y = canvas_pos.y * mpl.ratio;\n",
       "\n",
       "    this.send_message(name, {x: x, y: y, button: event.button,\n",
       "                             step: event.step,\n",
       "                             guiEvent: simpleKeys(event)});\n",
       "\n",
       "    /* This prevents the web browser from automatically changing to\n",
       "     * the text insertion cursor when the button is pressed.  We want\n",
       "     * to control all of the cursor setting manually through the\n",
       "     * 'cursor' event from matplotlib */\n",
       "    event.preventDefault();\n",
       "    return false;\n",
       "}\n",
       "\n",
       "mpl.figure.prototype._key_event_extra = function(event, name) {\n",
       "    // Handle any extra behaviour associated with a key event\n",
       "}\n",
       "\n",
       "mpl.figure.prototype.key_event = function(event, name) {\n",
       "\n",
       "    // Prevent repeat events\n",
       "    if (name == 'key_press')\n",
       "    {\n",
       "        if (event.which === this._key)\n",
       "            return;\n",
       "        else\n",
       "            this._key = event.which;\n",
       "    }\n",
       "    if (name == 'key_release')\n",
       "        this._key = null;\n",
       "\n",
       "    var value = '';\n",
       "    if (event.ctrlKey && event.which != 17)\n",
       "        value += \"ctrl+\";\n",
       "    if (event.altKey && event.which != 18)\n",
       "        value += \"alt+\";\n",
       "    if (event.shiftKey && event.which != 16)\n",
       "        value += \"shift+\";\n",
       "\n",
       "    value += 'k';\n",
       "    value += event.which.toString();\n",
       "\n",
       "    this._key_event_extra(event, name);\n",
       "\n",
       "    this.send_message(name, {key: value,\n",
       "                             guiEvent: simpleKeys(event)});\n",
       "    return false;\n",
       "}\n",
       "\n",
       "mpl.figure.prototype.toolbar_button_onclick = function(name) {\n",
       "    if (name == 'download') {\n",
       "        this.handle_save(this, null);\n",
       "    } else {\n",
       "        this.send_message(\"toolbar_button\", {name: name});\n",
       "    }\n",
       "};\n",
       "\n",
       "mpl.figure.prototype.toolbar_button_onmouseover = function(tooltip) {\n",
       "    this.message.textContent = tooltip;\n",
       "};\n",
       "mpl.toolbar_items = [[\"Home\", \"Reset original view\", \"fa fa-home icon-home\", \"home\"], [\"Back\", \"Back to previous view\", \"fa fa-arrow-left icon-arrow-left\", \"back\"], [\"Forward\", \"Forward to next view\", \"fa fa-arrow-right icon-arrow-right\", \"forward\"], [\"\", \"\", \"\", \"\"], [\"Pan\", \"Pan axes with left mouse, zoom with right\", \"fa fa-arrows icon-move\", \"pan\"], [\"Zoom\", \"Zoom to rectangle\", \"fa fa-square-o icon-check-empty\", \"zoom\"], [\"\", \"\", \"\", \"\"], [\"Download\", \"Download plot\", \"fa fa-floppy-o icon-save\", \"download\"]];\n",
       "\n",
       "mpl.extensions = [\"eps\", \"pdf\", \"png\", \"ps\", \"raw\", \"svg\"];\n",
       "\n",
       "mpl.default_extension = \"png\";var comm_websocket_adapter = function(comm) {\n",
       "    // Create a \"websocket\"-like object which calls the given IPython comm\n",
       "    // object with the appropriate methods. Currently this is a non binary\n",
       "    // socket, so there is still some room for performance tuning.\n",
       "    var ws = {};\n",
       "\n",
       "    ws.close = function() {\n",
       "        comm.close()\n",
       "    };\n",
       "    ws.send = function(m) {\n",
       "        //console.log('sending', m);\n",
       "        comm.send(m);\n",
       "    };\n",
       "    // Register the callback with on_msg.\n",
       "    comm.on_msg(function(msg) {\n",
       "        //console.log('receiving', msg['content']['data'], msg);\n",
       "        // Pass the mpl event to the overridden (by mpl) onmessage function.\n",
       "        ws.onmessage(msg['content']['data'])\n",
       "    });\n",
       "    return ws;\n",
       "}\n",
       "\n",
       "mpl.mpl_figure_comm = function(comm, msg) {\n",
       "    // This is the function which gets called when the mpl process\n",
       "    // starts-up an IPython Comm through the \"matplotlib\" channel.\n",
       "\n",
       "    var id = msg.content.data.id;\n",
       "    // Get hold of the div created by the display call when the Comm\n",
       "    // socket was opened in Python.\n",
       "    var element = $(\"#\" + id);\n",
       "    var ws_proxy = comm_websocket_adapter(comm)\n",
       "\n",
       "    function ondownload(figure, format) {\n",
       "        window.open(figure.imageObj.src);\n",
       "    }\n",
       "\n",
       "    var fig = new mpl.figure(id, ws_proxy,\n",
       "                           ondownload,\n",
       "                           element.get(0));\n",
       "\n",
       "    // Call onopen now - mpl needs it, as it is assuming we've passed it a real\n",
       "    // web socket which is closed, not our websocket->open comm proxy.\n",
       "    ws_proxy.onopen();\n",
       "\n",
       "    fig.parent_element = element.get(0);\n",
       "    fig.cell_info = mpl.find_output_cell(\"<div id='\" + id + \"'></div>\");\n",
       "    if (!fig.cell_info) {\n",
       "        console.error(\"Failed to find cell for figure\", id, fig);\n",
       "        return;\n",
       "    }\n",
       "\n",
       "    var output_index = fig.cell_info[2]\n",
       "    var cell = fig.cell_info[0];\n",
       "\n",
       "};\n",
       "\n",
       "mpl.figure.prototype.handle_close = function(fig, msg) {\n",
       "    var width = fig.canvas.width/mpl.ratio\n",
       "    fig.root.unbind('remove')\n",
       "\n",
       "    // Update the output cell to use the data from the current canvas.\n",
       "    fig.push_to_output();\n",
       "    var dataURL = fig.canvas.toDataURL();\n",
       "    // Re-enable the keyboard manager in IPython - without this line, in FF,\n",
       "    // the notebook keyboard shortcuts fail.\n",
       "    IPython.keyboard_manager.enable()\n",
       "    $(fig.parent_element).html('<img src=\"' + dataURL + '\" width=\"' + width + '\">');\n",
       "    fig.close_ws(fig, msg);\n",
       "}\n",
       "\n",
       "mpl.figure.prototype.close_ws = function(fig, msg){\n",
       "    fig.send_message('closing', msg);\n",
       "    // fig.ws.close()\n",
       "}\n",
       "\n",
       "mpl.figure.prototype.push_to_output = function(remove_interactive) {\n",
       "    // Turn the data on the canvas into data in the output cell.\n",
       "    var width = this.canvas.width/mpl.ratio\n",
       "    var dataURL = this.canvas.toDataURL();\n",
       "    this.cell_info[1]['text/html'] = '<img src=\"' + dataURL + '\" width=\"' + width + '\">';\n",
       "}\n",
       "\n",
       "mpl.figure.prototype.updated_canvas_event = function() {\n",
       "    // Tell IPython that the notebook contents must change.\n",
       "    IPython.notebook.set_dirty(true);\n",
       "    this.send_message(\"ack\", {});\n",
       "    var fig = this;\n",
       "    // Wait a second, then push the new image to the DOM so\n",
       "    // that it is saved nicely (might be nice to debounce this).\n",
       "    setTimeout(function () { fig.push_to_output() }, 1000);\n",
       "}\n",
       "\n",
       "mpl.figure.prototype._init_toolbar = function() {\n",
       "    var fig = this;\n",
       "\n",
       "    var nav_element = $('<div/>');\n",
       "    nav_element.attr('style', 'width: 100%');\n",
       "    this.root.append(nav_element);\n",
       "\n",
       "    // Define a callback function for later on.\n",
       "    function toolbar_event(event) {\n",
       "        return fig.toolbar_button_onclick(event['data']);\n",
       "    }\n",
       "    function toolbar_mouse_event(event) {\n",
       "        return fig.toolbar_button_onmouseover(event['data']);\n",
       "    }\n",
       "\n",
       "    for(var toolbar_ind in mpl.toolbar_items){\n",
       "        var name = mpl.toolbar_items[toolbar_ind][0];\n",
       "        var tooltip = mpl.toolbar_items[toolbar_ind][1];\n",
       "        var image = mpl.toolbar_items[toolbar_ind][2];\n",
       "        var method_name = mpl.toolbar_items[toolbar_ind][3];\n",
       "\n",
       "        if (!name) { continue; };\n",
       "\n",
       "        var button = $('<button class=\"btn btn-default\" href=\"#\" title=\"' + name + '\"><i class=\"fa ' + image + ' fa-lg\"></i></button>');\n",
       "        button.click(method_name, toolbar_event);\n",
       "        button.mouseover(tooltip, toolbar_mouse_event);\n",
       "        nav_element.append(button);\n",
       "    }\n",
       "\n",
       "    // Add the status bar.\n",
       "    var status_bar = $('<span class=\"mpl-message\" style=\"text-align:right; float: right;\"/>');\n",
       "    nav_element.append(status_bar);\n",
       "    this.message = status_bar[0];\n",
       "\n",
       "    // Add the close button to the window.\n",
       "    var buttongrp = $('<div class=\"btn-group inline pull-right\"></div>');\n",
       "    var button = $('<button class=\"btn btn-mini btn-primary\" href=\"#\" title=\"Stop Interaction\"><i class=\"fa fa-power-off icon-remove icon-large\"></i></button>');\n",
       "    button.click(function (evt) { fig.handle_close(fig, {}); } );\n",
       "    button.mouseover('Stop Interaction', toolbar_mouse_event);\n",
       "    buttongrp.append(button);\n",
       "    var titlebar = this.root.find($('.ui-dialog-titlebar'));\n",
       "    titlebar.prepend(buttongrp);\n",
       "}\n",
       "\n",
       "mpl.figure.prototype._root_extra_style = function(el){\n",
       "    var fig = this\n",
       "    el.on(\"remove\", function(){\n",
       "\tfig.close_ws(fig, {});\n",
       "    });\n",
       "}\n",
       "\n",
       "mpl.figure.prototype._canvas_extra_style = function(el){\n",
       "    // this is important to make the div 'focusable\n",
       "    el.attr('tabindex', 0)\n",
       "    // reach out to IPython and tell the keyboard manager to turn it's self\n",
       "    // off when our div gets focus\n",
       "\n",
       "    // location in version 3\n",
       "    if (IPython.notebook.keyboard_manager) {\n",
       "        IPython.notebook.keyboard_manager.register_events(el);\n",
       "    }\n",
       "    else {\n",
       "        // location in version 2\n",
       "        IPython.keyboard_manager.register_events(el);\n",
       "    }\n",
       "\n",
       "}\n",
       "\n",
       "mpl.figure.prototype._key_event_extra = function(event, name) {\n",
       "    var manager = IPython.notebook.keyboard_manager;\n",
       "    if (!manager)\n",
       "        manager = IPython.keyboard_manager;\n",
       "\n",
       "    // Check for shift+enter\n",
       "    if (event.shiftKey && event.which == 13) {\n",
       "        this.canvas_div.blur();\n",
       "        // select the cell after this one\n",
       "        var index = IPython.notebook.find_cell_index(this.cell_info[0]);\n",
       "        IPython.notebook.select(index + 1);\n",
       "    }\n",
       "}\n",
       "\n",
       "mpl.figure.prototype.handle_save = function(fig, msg) {\n",
       "    fig.ondownload(fig, null);\n",
       "}\n",
       "\n",
       "\n",
       "mpl.find_output_cell = function(html_output) {\n",
       "    // Return the cell and output element which can be found *uniquely* in the notebook.\n",
       "    // Note - this is a bit hacky, but it is done because the \"notebook_saving.Notebook\"\n",
       "    // IPython event is triggered only after the cells have been serialised, which for\n",
       "    // our purposes (turning an active figure into a static one), is too late.\n",
       "    var cells = IPython.notebook.get_cells();\n",
       "    var ncells = cells.length;\n",
       "    for (var i=0; i<ncells; i++) {\n",
       "        var cell = cells[i];\n",
       "        if (cell.cell_type === 'code'){\n",
       "            for (var j=0; j<cell.output_area.outputs.length; j++) {\n",
       "                var data = cell.output_area.outputs[j];\n",
       "                if (data.data) {\n",
       "                    // IPython >= 3 moved mimebundle to data attribute of output\n",
       "                    data = data.data;\n",
       "                }\n",
       "                if (data['text/html'] == html_output) {\n",
       "                    return [cell, data, j];\n",
       "                }\n",
       "            }\n",
       "        }\n",
       "    }\n",
       "}\n",
       "\n",
       "// Register the function which deals with the matplotlib target/channel.\n",
       "// The kernel may be null if the page has been refreshed.\n",
       "if (IPython.notebook.kernel != null) {\n",
       "    IPython.notebook.kernel.comm_manager.register_target('matplotlib', mpl.mpl_figure_comm);\n",
       "}\n"
      ],
      "text/plain": [
       "<IPython.core.display.Javascript object>"
      ]
     },
     "metadata": {},
     "output_type": "display_data"
    },
    {
     "data": {
      "text/html": [
       "<img src=\"data:image/png;base64,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\" width=\"640\">"
      ],
      "text/plain": [
       "<IPython.core.display.HTML object>"
      ]
     },
     "metadata": {},
     "output_type": "display_data"
    },
    {
     "data": {
      "text/plain": [
       "[<matplotlib.lines.Line2D at 0x11578e350>]"
      ]
     },
     "execution_count": 7,
     "metadata": {},
     "output_type": "execute_result"
    }
   ],
   "source": [
    "## ONLY for jupyter notebook\n",
    "\n",
    "%matplotlib notebook\n",
    "import matplotlib.pyplot as plt\n",
    "import math\n",
    "\n",
    "# initial conditions\n",
    "g = 9.8\n",
    "h = 0.\n",
    "\n",
    "v0 = 10.\n",
    "dt=0.1\n",
    "\n",
    "theta = 45\n",
    "while True:\n",
    "    theta = float(input(\"angle theta in [0,90] degrees: \"))\n",
    "    if(theta>0 and theta<90): break\n",
    "theta = math.radians(theta)\n",
    "\n",
    "#compute velocity components\n",
    "v0x = v0*math.cos(theta)\n",
    "v0y = v0*math.sin(theta)\n",
    "print(\"v0_x: %.3f m/s \\t v0_y: %.3f m/s\"%(v0x,v0y))\n",
    "\n",
    "t=0.\n",
    "x=[]\n",
    "y=[]\n",
    "xi=0\n",
    "yi=h\n",
    "\n",
    "while yi>=0:\n",
    "    x.append(xi)\n",
    "    y.append(yi)\n",
    "    t+=dt\n",
    "    xi=v0x*t\n",
    "    yi=h+v0y*t-0.5*g*t*t\n",
    "\n",
    "#print(x,y)\n",
    "plt.plot(x,y, marker='x', color='magenta')"
   ]
  },
  {
   "cell_type": "markdown",
   "metadata": {},
   "source": [
    "__To make it more user friendly we could provide a default value for the angle!__\n",
    "\n",
    "We do this by providing a default and pressing return w/o any input"
   ]
  },
  {
   "cell_type": "code",
   "execution_count": 9,
   "metadata": {},
   "outputs": [
    {
     "name": "stdout",
     "output_type": "stream",
     "text": [
      "angle theta in [0,90] degrees (press return for 23.0 degree): 45\n",
      "v0_x: 7.071 m/s \t v0_y: 7.071 m/s\n"
     ]
    },
    {
     "data": {
      "application/javascript": [
       "/* Put everything inside the global mpl namespace */\n",
       "window.mpl = {};\n",
       "\n",
       "\n",
       "mpl.get_websocket_type = function() {\n",
       "    if (typeof(WebSocket) !== 'undefined') {\n",
       "        return WebSocket;\n",
       "    } else if (typeof(MozWebSocket) !== 'undefined') {\n",
       "        return MozWebSocket;\n",
       "    } else {\n",
       "        alert('Your browser does not have WebSocket support. ' +\n",
       "              'Please try Chrome, Safari or Firefox ≥ 6. ' +\n",
       "              'Firefox 4 and 5 are also supported but you ' +\n",
       "              'have to enable WebSockets in about:config.');\n",
       "    };\n",
       "}\n",
       "\n",
       "mpl.figure = function(figure_id, websocket, ondownload, parent_element) {\n",
       "    this.id = figure_id;\n",
       "\n",
       "    this.ws = websocket;\n",
       "\n",
       "    this.supports_binary = (this.ws.binaryType != undefined);\n",
       "\n",
       "    if (!this.supports_binary) {\n",
       "        var warnings = document.getElementById(\"mpl-warnings\");\n",
       "        if (warnings) {\n",
       "            warnings.style.display = 'block';\n",
       "            warnings.textContent = (\n",
       "                \"This browser does not support binary websocket messages. \" +\n",
       "                    \"Performance may be slow.\");\n",
       "        }\n",
       "    }\n",
       "\n",
       "    this.imageObj = new Image();\n",
       "\n",
       "    this.context = undefined;\n",
       "    this.message = undefined;\n",
       "    this.canvas = undefined;\n",
       "    this.rubberband_canvas = undefined;\n",
       "    this.rubberband_context = undefined;\n",
       "    this.format_dropdown = undefined;\n",
       "\n",
       "    this.image_mode = 'full';\n",
       "\n",
       "    this.root = $('<div/>');\n",
       "    this._root_extra_style(this.root)\n",
       "    this.root.attr('style', 'display: inline-block');\n",
       "\n",
       "    $(parent_element).append(this.root);\n",
       "\n",
       "    this._init_header(this);\n",
       "    this._init_canvas(this);\n",
       "    this._init_toolbar(this);\n",
       "\n",
       "    var fig = this;\n",
       "\n",
       "    this.waiting = false;\n",
       "\n",
       "    this.ws.onopen =  function () {\n",
       "            fig.send_message(\"supports_binary\", {value: fig.supports_binary});\n",
       "            fig.send_message(\"send_image_mode\", {});\n",
       "            if (mpl.ratio != 1) {\n",
       "                fig.send_message(\"set_dpi_ratio\", {'dpi_ratio': mpl.ratio});\n",
       "            }\n",
       "            fig.send_message(\"refresh\", {});\n",
       "        }\n",
       "\n",
       "    this.imageObj.onload = function() {\n",
       "            if (fig.image_mode == 'full') {\n",
       "                // Full images could contain transparency (where diff images\n",
       "                // almost always do), so we need to clear the canvas so that\n",
       "                // there is no ghosting.\n",
       "                fig.context.clearRect(0, 0, fig.canvas.width, fig.canvas.height);\n",
       "            }\n",
       "            fig.context.drawImage(fig.imageObj, 0, 0);\n",
       "        };\n",
       "\n",
       "    this.imageObj.onunload = function() {\n",
       "        fig.ws.close();\n",
       "    }\n",
       "\n",
       "    this.ws.onmessage = this._make_on_message_function(this);\n",
       "\n",
       "    this.ondownload = ondownload;\n",
       "}\n",
       "\n",
       "mpl.figure.prototype._init_header = function() {\n",
       "    var titlebar = $(\n",
       "        '<div class=\"ui-dialog-titlebar ui-widget-header ui-corner-all ' +\n",
       "        'ui-helper-clearfix\"/>');\n",
       "    var titletext = $(\n",
       "        '<div class=\"ui-dialog-title\" style=\"width: 100%; ' +\n",
       "        'text-align: center; padding: 3px;\"/>');\n",
       "    titlebar.append(titletext)\n",
       "    this.root.append(titlebar);\n",
       "    this.header = titletext[0];\n",
       "}\n",
       "\n",
       "\n",
       "\n",
       "mpl.figure.prototype._canvas_extra_style = function(canvas_div) {\n",
       "\n",
       "}\n",
       "\n",
       "\n",
       "mpl.figure.prototype._root_extra_style = function(canvas_div) {\n",
       "\n",
       "}\n",
       "\n",
       "mpl.figure.prototype._init_canvas = function() {\n",
       "    var fig = this;\n",
       "\n",
       "    var canvas_div = $('<div/>');\n",
       "\n",
       "    canvas_div.attr('style', 'position: relative; clear: both; outline: 0');\n",
       "\n",
       "    function canvas_keyboard_event(event) {\n",
       "        return fig.key_event(event, event['data']);\n",
       "    }\n",
       "\n",
       "    canvas_div.keydown('key_press', canvas_keyboard_event);\n",
       "    canvas_div.keyup('key_release', canvas_keyboard_event);\n",
       "    this.canvas_div = canvas_div\n",
       "    this._canvas_extra_style(canvas_div)\n",
       "    this.root.append(canvas_div);\n",
       "\n",
       "    var canvas = $('<canvas/>');\n",
       "    canvas.addClass('mpl-canvas');\n",
       "    canvas.attr('style', \"left: 0; top: 0; z-index: 0; outline: 0\")\n",
       "\n",
       "    this.canvas = canvas[0];\n",
       "    this.context = canvas[0].getContext(\"2d\");\n",
       "\n",
       "    var backingStore = this.context.backingStorePixelRatio ||\n",
       "\tthis.context.webkitBackingStorePixelRatio ||\n",
       "\tthis.context.mozBackingStorePixelRatio ||\n",
       "\tthis.context.msBackingStorePixelRatio ||\n",
       "\tthis.context.oBackingStorePixelRatio ||\n",
       "\tthis.context.backingStorePixelRatio || 1;\n",
       "\n",
       "    mpl.ratio = (window.devicePixelRatio || 1) / backingStore;\n",
       "\n",
       "    var rubberband = $('<canvas/>');\n",
       "    rubberband.attr('style', \"position: absolute; left: 0; top: 0; z-index: 1;\")\n",
       "\n",
       "    var pass_mouse_events = true;\n",
       "\n",
       "    canvas_div.resizable({\n",
       "        start: function(event, ui) {\n",
       "            pass_mouse_events = false;\n",
       "        },\n",
       "        resize: function(event, ui) {\n",
       "            fig.request_resize(ui.size.width, ui.size.height);\n",
       "        },\n",
       "        stop: function(event, ui) {\n",
       "            pass_mouse_events = true;\n",
       "            fig.request_resize(ui.size.width, ui.size.height);\n",
       "        },\n",
       "    });\n",
       "\n",
       "    function mouse_event_fn(event) {\n",
       "        if (pass_mouse_events)\n",
       "            return fig.mouse_event(event, event['data']);\n",
       "    }\n",
       "\n",
       "    rubberband.mousedown('button_press', mouse_event_fn);\n",
       "    rubberband.mouseup('button_release', mouse_event_fn);\n",
       "    // Throttle sequential mouse events to 1 every 20ms.\n",
       "    rubberband.mousemove('motion_notify', mouse_event_fn);\n",
       "\n",
       "    rubberband.mouseenter('figure_enter', mouse_event_fn);\n",
       "    rubberband.mouseleave('figure_leave', mouse_event_fn);\n",
       "\n",
       "    canvas_div.on(\"wheel\", function (event) {\n",
       "        event = event.originalEvent;\n",
       "        event['data'] = 'scroll'\n",
       "        if (event.deltaY < 0) {\n",
       "            event.step = 1;\n",
       "        } else {\n",
       "            event.step = -1;\n",
       "        }\n",
       "        mouse_event_fn(event);\n",
       "    });\n",
       "\n",
       "    canvas_div.append(canvas);\n",
       "    canvas_div.append(rubberband);\n",
       "\n",
       "    this.rubberband = rubberband;\n",
       "    this.rubberband_canvas = rubberband[0];\n",
       "    this.rubberband_context = rubberband[0].getContext(\"2d\");\n",
       "    this.rubberband_context.strokeStyle = \"#000000\";\n",
       "\n",
       "    this._resize_canvas = function(width, height) {\n",
       "        // Keep the size of the canvas, canvas container, and rubber band\n",
       "        // canvas in synch.\n",
       "        canvas_div.css('width', width)\n",
       "        canvas_div.css('height', height)\n",
       "\n",
       "        canvas.attr('width', width * mpl.ratio);\n",
       "        canvas.attr('height', height * mpl.ratio);\n",
       "        canvas.attr('style', 'width: ' + width + 'px; height: ' + height + 'px;');\n",
       "\n",
       "        rubberband.attr('width', width);\n",
       "        rubberband.attr('height', height);\n",
       "    }\n",
       "\n",
       "    // Set the figure to an initial 600x600px, this will subsequently be updated\n",
       "    // upon first draw.\n",
       "    this._resize_canvas(600, 600);\n",
       "\n",
       "    // Disable right mouse context menu.\n",
       "    $(this.rubberband_canvas).bind(\"contextmenu\",function(e){\n",
       "        return false;\n",
       "    });\n",
       "\n",
       "    function set_focus () {\n",
       "        canvas.focus();\n",
       "        canvas_div.focus();\n",
       "    }\n",
       "\n",
       "    window.setTimeout(set_focus, 100);\n",
       "}\n",
       "\n",
       "mpl.figure.prototype._init_toolbar = function() {\n",
       "    var fig = this;\n",
       "\n",
       "    var nav_element = $('<div/>');\n",
       "    nav_element.attr('style', 'width: 100%');\n",
       "    this.root.append(nav_element);\n",
       "\n",
       "    // Define a callback function for later on.\n",
       "    function toolbar_event(event) {\n",
       "        return fig.toolbar_button_onclick(event['data']);\n",
       "    }\n",
       "    function toolbar_mouse_event(event) {\n",
       "        return fig.toolbar_button_onmouseover(event['data']);\n",
       "    }\n",
       "\n",
       "    for(var toolbar_ind in mpl.toolbar_items) {\n",
       "        var name = mpl.toolbar_items[toolbar_ind][0];\n",
       "        var tooltip = mpl.toolbar_items[toolbar_ind][1];\n",
       "        var image = mpl.toolbar_items[toolbar_ind][2];\n",
       "        var method_name = mpl.toolbar_items[toolbar_ind][3];\n",
       "\n",
       "        if (!name) {\n",
       "            // put a spacer in here.\n",
       "            continue;\n",
       "        }\n",
       "        var button = $('<button/>');\n",
       "        button.addClass('ui-button ui-widget ui-state-default ui-corner-all ' +\n",
       "                        'ui-button-icon-only');\n",
       "        button.attr('role', 'button');\n",
       "        button.attr('aria-disabled', 'false');\n",
       "        button.click(method_name, toolbar_event);\n",
       "        button.mouseover(tooltip, toolbar_mouse_event);\n",
       "\n",
       "        var icon_img = $('<span/>');\n",
       "        icon_img.addClass('ui-button-icon-primary ui-icon');\n",
       "        icon_img.addClass(image);\n",
       "        icon_img.addClass('ui-corner-all');\n",
       "\n",
       "        var tooltip_span = $('<span/>');\n",
       "        tooltip_span.addClass('ui-button-text');\n",
       "        tooltip_span.html(tooltip);\n",
       "\n",
       "        button.append(icon_img);\n",
       "        button.append(tooltip_span);\n",
       "\n",
       "        nav_element.append(button);\n",
       "    }\n",
       "\n",
       "    var fmt_picker_span = $('<span/>');\n",
       "\n",
       "    var fmt_picker = $('<select/>');\n",
       "    fmt_picker.addClass('mpl-toolbar-option ui-widget ui-widget-content');\n",
       "    fmt_picker_span.append(fmt_picker);\n",
       "    nav_element.append(fmt_picker_span);\n",
       "    this.format_dropdown = fmt_picker[0];\n",
       "\n",
       "    for (var ind in mpl.extensions) {\n",
       "        var fmt = mpl.extensions[ind];\n",
       "        var option = $(\n",
       "            '<option/>', {selected: fmt === mpl.default_extension}).html(fmt);\n",
       "        fmt_picker.append(option);\n",
       "    }\n",
       "\n",
       "    // Add hover states to the ui-buttons\n",
       "    $( \".ui-button\" ).hover(\n",
       "        function() { $(this).addClass(\"ui-state-hover\");},\n",
       "        function() { $(this).removeClass(\"ui-state-hover\");}\n",
       "    );\n",
       "\n",
       "    var status_bar = $('<span class=\"mpl-message\"/>');\n",
       "    nav_element.append(status_bar);\n",
       "    this.message = status_bar[0];\n",
       "}\n",
       "\n",
       "mpl.figure.prototype.request_resize = function(x_pixels, y_pixels) {\n",
       "    // Request matplotlib to resize the figure. Matplotlib will then trigger a resize in the client,\n",
       "    // which will in turn request a refresh of the image.\n",
       "    this.send_message('resize', {'width': x_pixels, 'height': y_pixels});\n",
       "}\n",
       "\n",
       "mpl.figure.prototype.send_message = function(type, properties) {\n",
       "    properties['type'] = type;\n",
       "    properties['figure_id'] = this.id;\n",
       "    this.ws.send(JSON.stringify(properties));\n",
       "}\n",
       "\n",
       "mpl.figure.prototype.send_draw_message = function() {\n",
       "    if (!this.waiting) {\n",
       "        this.waiting = true;\n",
       "        this.ws.send(JSON.stringify({type: \"draw\", figure_id: this.id}));\n",
       "    }\n",
       "}\n",
       "\n",
       "\n",
       "mpl.figure.prototype.handle_save = function(fig, msg) {\n",
       "    var format_dropdown = fig.format_dropdown;\n",
       "    var format = format_dropdown.options[format_dropdown.selectedIndex].value;\n",
       "    fig.ondownload(fig, format);\n",
       "}\n",
       "\n",
       "\n",
       "mpl.figure.prototype.handle_resize = function(fig, msg) {\n",
       "    var size = msg['size'];\n",
       "    if (size[0] != fig.canvas.width || size[1] != fig.canvas.height) {\n",
       "        fig._resize_canvas(size[0], size[1]);\n",
       "        fig.send_message(\"refresh\", {});\n",
       "    };\n",
       "}\n",
       "\n",
       "mpl.figure.prototype.handle_rubberband = function(fig, msg) {\n",
       "    var x0 = msg['x0'] / mpl.ratio;\n",
       "    var y0 = (fig.canvas.height - msg['y0']) / mpl.ratio;\n",
       "    var x1 = msg['x1'] / mpl.ratio;\n",
       "    var y1 = (fig.canvas.height - msg['y1']) / mpl.ratio;\n",
       "    x0 = Math.floor(x0) + 0.5;\n",
       "    y0 = Math.floor(y0) + 0.5;\n",
       "    x1 = Math.floor(x1) + 0.5;\n",
       "    y1 = Math.floor(y1) + 0.5;\n",
       "    var min_x = Math.min(x0, x1);\n",
       "    var min_y = Math.min(y0, y1);\n",
       "    var width = Math.abs(x1 - x0);\n",
       "    var height = Math.abs(y1 - y0);\n",
       "\n",
       "    fig.rubberband_context.clearRect(\n",
       "        0, 0, fig.canvas.width / mpl.ratio, fig.canvas.height / mpl.ratio);\n",
       "\n",
       "    fig.rubberband_context.strokeRect(min_x, min_y, width, height);\n",
       "}\n",
       "\n",
       "mpl.figure.prototype.handle_figure_label = function(fig, msg) {\n",
       "    // Updates the figure title.\n",
       "    fig.header.textContent = msg['label'];\n",
       "}\n",
       "\n",
       "mpl.figure.prototype.handle_cursor = function(fig, msg) {\n",
       "    var cursor = msg['cursor'];\n",
       "    switch(cursor)\n",
       "    {\n",
       "    case 0:\n",
       "        cursor = 'pointer';\n",
       "        break;\n",
       "    case 1:\n",
       "        cursor = 'default';\n",
       "        break;\n",
       "    case 2:\n",
       "        cursor = 'crosshair';\n",
       "        break;\n",
       "    case 3:\n",
       "        cursor = 'move';\n",
       "        break;\n",
       "    }\n",
       "    fig.rubberband_canvas.style.cursor = cursor;\n",
       "}\n",
       "\n",
       "mpl.figure.prototype.handle_message = function(fig, msg) {\n",
       "    fig.message.textContent = msg['message'];\n",
       "}\n",
       "\n",
       "mpl.figure.prototype.handle_draw = function(fig, msg) {\n",
       "    // Request the server to send over a new figure.\n",
       "    fig.send_draw_message();\n",
       "}\n",
       "\n",
       "mpl.figure.prototype.handle_image_mode = function(fig, msg) {\n",
       "    fig.image_mode = msg['mode'];\n",
       "}\n",
       "\n",
       "mpl.figure.prototype.updated_canvas_event = function() {\n",
       "    // Called whenever the canvas gets updated.\n",
       "    this.send_message(\"ack\", {});\n",
       "}\n",
       "\n",
       "// A function to construct a web socket function for onmessage handling.\n",
       "// Called in the figure constructor.\n",
       "mpl.figure.prototype._make_on_message_function = function(fig) {\n",
       "    return function socket_on_message(evt) {\n",
       "        if (evt.data instanceof Blob) {\n",
       "            /* FIXME: We get \"Resource interpreted as Image but\n",
       "             * transferred with MIME type text/plain:\" errors on\n",
       "             * Chrome.  But how to set the MIME type?  It doesn't seem\n",
       "             * to be part of the websocket stream */\n",
       "            evt.data.type = \"image/png\";\n",
       "\n",
       "            /* Free the memory for the previous frames */\n",
       "            if (fig.imageObj.src) {\n",
       "                (window.URL || window.webkitURL).revokeObjectURL(\n",
       "                    fig.imageObj.src);\n",
       "            }\n",
       "\n",
       "            fig.imageObj.src = (window.URL || window.webkitURL).createObjectURL(\n",
       "                evt.data);\n",
       "            fig.updated_canvas_event();\n",
       "            fig.waiting = false;\n",
       "            return;\n",
       "        }\n",
       "        else if (typeof evt.data === 'string' && evt.data.slice(0, 21) == \"data:image/png;base64\") {\n",
       "            fig.imageObj.src = evt.data;\n",
       "            fig.updated_canvas_event();\n",
       "            fig.waiting = false;\n",
       "            return;\n",
       "        }\n",
       "\n",
       "        var msg = JSON.parse(evt.data);\n",
       "        var msg_type = msg['type'];\n",
       "\n",
       "        // Call the  \"handle_{type}\" callback, which takes\n",
       "        // the figure and JSON message as its only arguments.\n",
       "        try {\n",
       "            var callback = fig[\"handle_\" + msg_type];\n",
       "        } catch (e) {\n",
       "            console.log(\"No handler for the '\" + msg_type + \"' message type: \", msg);\n",
       "            return;\n",
       "        }\n",
       "\n",
       "        if (callback) {\n",
       "            try {\n",
       "                // console.log(\"Handling '\" + msg_type + \"' message: \", msg);\n",
       "                callback(fig, msg);\n",
       "            } catch (e) {\n",
       "                console.log(\"Exception inside the 'handler_\" + msg_type + \"' callback:\", e, e.stack, msg);\n",
       "            }\n",
       "        }\n",
       "    };\n",
       "}\n",
       "\n",
       "// from http://stackoverflow.com/questions/1114465/getting-mouse-location-in-canvas\n",
       "mpl.findpos = function(e) {\n",
       "    //this section is from http://www.quirksmode.org/js/events_properties.html\n",
       "    var targ;\n",
       "    if (!e)\n",
       "        e = window.event;\n",
       "    if (e.target)\n",
       "        targ = e.target;\n",
       "    else if (e.srcElement)\n",
       "        targ = e.srcElement;\n",
       "    if (targ.nodeType == 3) // defeat Safari bug\n",
       "        targ = targ.parentNode;\n",
       "\n",
       "    // jQuery normalizes the pageX and pageY\n",
       "    // pageX,Y are the mouse positions relative to the document\n",
       "    // offset() returns the position of the element relative to the document\n",
       "    var x = e.pageX - $(targ).offset().left;\n",
       "    var y = e.pageY - $(targ).offset().top;\n",
       "\n",
       "    return {\"x\": x, \"y\": y};\n",
       "};\n",
       "\n",
       "/*\n",
       " * return a copy of an object with only non-object keys\n",
       " * we need this to avoid circular references\n",
       " * http://stackoverflow.com/a/24161582/3208463\n",
       " */\n",
       "function simpleKeys (original) {\n",
       "  return Object.keys(original).reduce(function (obj, key) {\n",
       "    if (typeof original[key] !== 'object')\n",
       "        obj[key] = original[key]\n",
       "    return obj;\n",
       "  }, {});\n",
       "}\n",
       "\n",
       "mpl.figure.prototype.mouse_event = function(event, name) {\n",
       "    var canvas_pos = mpl.findpos(event)\n",
       "\n",
       "    if (name === 'button_press')\n",
       "    {\n",
       "        this.canvas.focus();\n",
       "        this.canvas_div.focus();\n",
       "    }\n",
       "\n",
       "    var x = canvas_pos.x * mpl.ratio;\n",
       "    var y = canvas_pos.y * mpl.ratio;\n",
       "\n",
       "    this.send_message(name, {x: x, y: y, button: event.button,\n",
       "                             step: event.step,\n",
       "                             guiEvent: simpleKeys(event)});\n",
       "\n",
       "    /* This prevents the web browser from automatically changing to\n",
       "     * the text insertion cursor when the button is pressed.  We want\n",
       "     * to control all of the cursor setting manually through the\n",
       "     * 'cursor' event from matplotlib */\n",
       "    event.preventDefault();\n",
       "    return false;\n",
       "}\n",
       "\n",
       "mpl.figure.prototype._key_event_extra = function(event, name) {\n",
       "    // Handle any extra behaviour associated with a key event\n",
       "}\n",
       "\n",
       "mpl.figure.prototype.key_event = function(event, name) {\n",
       "\n",
       "    // Prevent repeat events\n",
       "    if (name == 'key_press')\n",
       "    {\n",
       "        if (event.which === this._key)\n",
       "            return;\n",
       "        else\n",
       "            this._key = event.which;\n",
       "    }\n",
       "    if (name == 'key_release')\n",
       "        this._key = null;\n",
       "\n",
       "    var value = '';\n",
       "    if (event.ctrlKey && event.which != 17)\n",
       "        value += \"ctrl+\";\n",
       "    if (event.altKey && event.which != 18)\n",
       "        value += \"alt+\";\n",
       "    if (event.shiftKey && event.which != 16)\n",
       "        value += \"shift+\";\n",
       "\n",
       "    value += 'k';\n",
       "    value += event.which.toString();\n",
       "\n",
       "    this._key_event_extra(event, name);\n",
       "\n",
       "    this.send_message(name, {key: value,\n",
       "                             guiEvent: simpleKeys(event)});\n",
       "    return false;\n",
       "}\n",
       "\n",
       "mpl.figure.prototype.toolbar_button_onclick = function(name) {\n",
       "    if (name == 'download') {\n",
       "        this.handle_save(this, null);\n",
       "    } else {\n",
       "        this.send_message(\"toolbar_button\", {name: name});\n",
       "    }\n",
       "};\n",
       "\n",
       "mpl.figure.prototype.toolbar_button_onmouseover = function(tooltip) {\n",
       "    this.message.textContent = tooltip;\n",
       "};\n",
       "mpl.toolbar_items = [[\"Home\", \"Reset original view\", \"fa fa-home icon-home\", \"home\"], [\"Back\", \"Back to previous view\", \"fa fa-arrow-left icon-arrow-left\", \"back\"], [\"Forward\", \"Forward to next view\", \"fa fa-arrow-right icon-arrow-right\", \"forward\"], [\"\", \"\", \"\", \"\"], [\"Pan\", \"Pan axes with left mouse, zoom with right\", \"fa fa-arrows icon-move\", \"pan\"], [\"Zoom\", \"Zoom to rectangle\", \"fa fa-square-o icon-check-empty\", \"zoom\"], [\"\", \"\", \"\", \"\"], [\"Download\", \"Download plot\", \"fa fa-floppy-o icon-save\", \"download\"]];\n",
       "\n",
       "mpl.extensions = [\"eps\", \"pdf\", \"png\", \"ps\", \"raw\", \"svg\"];\n",
       "\n",
       "mpl.default_extension = \"png\";var comm_websocket_adapter = function(comm) {\n",
       "    // Create a \"websocket\"-like object which calls the given IPython comm\n",
       "    // object with the appropriate methods. Currently this is a non binary\n",
       "    // socket, so there is still some room for performance tuning.\n",
       "    var ws = {};\n",
       "\n",
       "    ws.close = function() {\n",
       "        comm.close()\n",
       "    };\n",
       "    ws.send = function(m) {\n",
       "        //console.log('sending', m);\n",
       "        comm.send(m);\n",
       "    };\n",
       "    // Register the callback with on_msg.\n",
       "    comm.on_msg(function(msg) {\n",
       "        //console.log('receiving', msg['content']['data'], msg);\n",
       "        // Pass the mpl event to the overridden (by mpl) onmessage function.\n",
       "        ws.onmessage(msg['content']['data'])\n",
       "    });\n",
       "    return ws;\n",
       "}\n",
       "\n",
       "mpl.mpl_figure_comm = function(comm, msg) {\n",
       "    // This is the function which gets called when the mpl process\n",
       "    // starts-up an IPython Comm through the \"matplotlib\" channel.\n",
       "\n",
       "    var id = msg.content.data.id;\n",
       "    // Get hold of the div created by the display call when the Comm\n",
       "    // socket was opened in Python.\n",
       "    var element = $(\"#\" + id);\n",
       "    var ws_proxy = comm_websocket_adapter(comm)\n",
       "\n",
       "    function ondownload(figure, format) {\n",
       "        window.open(figure.imageObj.src);\n",
       "    }\n",
       "\n",
       "    var fig = new mpl.figure(id, ws_proxy,\n",
       "                           ondownload,\n",
       "                           element.get(0));\n",
       "\n",
       "    // Call onopen now - mpl needs it, as it is assuming we've passed it a real\n",
       "    // web socket which is closed, not our websocket->open comm proxy.\n",
       "    ws_proxy.onopen();\n",
       "\n",
       "    fig.parent_element = element.get(0);\n",
       "    fig.cell_info = mpl.find_output_cell(\"<div id='\" + id + \"'></div>\");\n",
       "    if (!fig.cell_info) {\n",
       "        console.error(\"Failed to find cell for figure\", id, fig);\n",
       "        return;\n",
       "    }\n",
       "\n",
       "    var output_index = fig.cell_info[2]\n",
       "    var cell = fig.cell_info[0];\n",
       "\n",
       "};\n",
       "\n",
       "mpl.figure.prototype.handle_close = function(fig, msg) {\n",
       "    var width = fig.canvas.width/mpl.ratio\n",
       "    fig.root.unbind('remove')\n",
       "\n",
       "    // Update the output cell to use the data from the current canvas.\n",
       "    fig.push_to_output();\n",
       "    var dataURL = fig.canvas.toDataURL();\n",
       "    // Re-enable the keyboard manager in IPython - without this line, in FF,\n",
       "    // the notebook keyboard shortcuts fail.\n",
       "    IPython.keyboard_manager.enable()\n",
       "    $(fig.parent_element).html('<img src=\"' + dataURL + '\" width=\"' + width + '\">');\n",
       "    fig.close_ws(fig, msg);\n",
       "}\n",
       "\n",
       "mpl.figure.prototype.close_ws = function(fig, msg){\n",
       "    fig.send_message('closing', msg);\n",
       "    // fig.ws.close()\n",
       "}\n",
       "\n",
       "mpl.figure.prototype.push_to_output = function(remove_interactive) {\n",
       "    // Turn the data on the canvas into data in the output cell.\n",
       "    var width = this.canvas.width/mpl.ratio\n",
       "    var dataURL = this.canvas.toDataURL();\n",
       "    this.cell_info[1]['text/html'] = '<img src=\"' + dataURL + '\" width=\"' + width + '\">';\n",
       "}\n",
       "\n",
       "mpl.figure.prototype.updated_canvas_event = function() {\n",
       "    // Tell IPython that the notebook contents must change.\n",
       "    IPython.notebook.set_dirty(true);\n",
       "    this.send_message(\"ack\", {});\n",
       "    var fig = this;\n",
       "    // Wait a second, then push the new image to the DOM so\n",
       "    // that it is saved nicely (might be nice to debounce this).\n",
       "    setTimeout(function () { fig.push_to_output() }, 1000);\n",
       "}\n",
       "\n",
       "mpl.figure.prototype._init_toolbar = function() {\n",
       "    var fig = this;\n",
       "\n",
       "    var nav_element = $('<div/>');\n",
       "    nav_element.attr('style', 'width: 100%');\n",
       "    this.root.append(nav_element);\n",
       "\n",
       "    // Define a callback function for later on.\n",
       "    function toolbar_event(event) {\n",
       "        return fig.toolbar_button_onclick(event['data']);\n",
       "    }\n",
       "    function toolbar_mouse_event(event) {\n",
       "        return fig.toolbar_button_onmouseover(event['data']);\n",
       "    }\n",
       "\n",
       "    for(var toolbar_ind in mpl.toolbar_items){\n",
       "        var name = mpl.toolbar_items[toolbar_ind][0];\n",
       "        var tooltip = mpl.toolbar_items[toolbar_ind][1];\n",
       "        var image = mpl.toolbar_items[toolbar_ind][2];\n",
       "        var method_name = mpl.toolbar_items[toolbar_ind][3];\n",
       "\n",
       "        if (!name) { continue; };\n",
       "\n",
       "        var button = $('<button class=\"btn btn-default\" href=\"#\" title=\"' + name + '\"><i class=\"fa ' + image + ' fa-lg\"></i></button>');\n",
       "        button.click(method_name, toolbar_event);\n",
       "        button.mouseover(tooltip, toolbar_mouse_event);\n",
       "        nav_element.append(button);\n",
       "    }\n",
       "\n",
       "    // Add the status bar.\n",
       "    var status_bar = $('<span class=\"mpl-message\" style=\"text-align:right; float: right;\"/>');\n",
       "    nav_element.append(status_bar);\n",
       "    this.message = status_bar[0];\n",
       "\n",
       "    // Add the close button to the window.\n",
       "    var buttongrp = $('<div class=\"btn-group inline pull-right\"></div>');\n",
       "    var button = $('<button class=\"btn btn-mini btn-primary\" href=\"#\" title=\"Stop Interaction\"><i class=\"fa fa-power-off icon-remove icon-large\"></i></button>');\n",
       "    button.click(function (evt) { fig.handle_close(fig, {}); } );\n",
       "    button.mouseover('Stop Interaction', toolbar_mouse_event);\n",
       "    buttongrp.append(button);\n",
       "    var titlebar = this.root.find($('.ui-dialog-titlebar'));\n",
       "    titlebar.prepend(buttongrp);\n",
       "}\n",
       "\n",
       "mpl.figure.prototype._root_extra_style = function(el){\n",
       "    var fig = this\n",
       "    el.on(\"remove\", function(){\n",
       "\tfig.close_ws(fig, {});\n",
       "    });\n",
       "}\n",
       "\n",
       "mpl.figure.prototype._canvas_extra_style = function(el){\n",
       "    // this is important to make the div 'focusable\n",
       "    el.attr('tabindex', 0)\n",
       "    // reach out to IPython and tell the keyboard manager to turn it's self\n",
       "    // off when our div gets focus\n",
       "\n",
       "    // location in version 3\n",
       "    if (IPython.notebook.keyboard_manager) {\n",
       "        IPython.notebook.keyboard_manager.register_events(el);\n",
       "    }\n",
       "    else {\n",
       "        // location in version 2\n",
       "        IPython.keyboard_manager.register_events(el);\n",
       "    }\n",
       "\n",
       "}\n",
       "\n",
       "mpl.figure.prototype._key_event_extra = function(event, name) {\n",
       "    var manager = IPython.notebook.keyboard_manager;\n",
       "    if (!manager)\n",
       "        manager = IPython.keyboard_manager;\n",
       "\n",
       "    // Check for shift+enter\n",
       "    if (event.shiftKey && event.which == 13) {\n",
       "        this.canvas_div.blur();\n",
       "        // select the cell after this one\n",
       "        var index = IPython.notebook.find_cell_index(this.cell_info[0]);\n",
       "        IPython.notebook.select(index + 1);\n",
       "    }\n",
       "}\n",
       "\n",
       "mpl.figure.prototype.handle_save = function(fig, msg) {\n",
       "    fig.ondownload(fig, null);\n",
       "}\n",
       "\n",
       "\n",
       "mpl.find_output_cell = function(html_output) {\n",
       "    // Return the cell and output element which can be found *uniquely* in the notebook.\n",
       "    // Note - this is a bit hacky, but it is done because the \"notebook_saving.Notebook\"\n",
       "    // IPython event is triggered only after the cells have been serialised, which for\n",
       "    // our purposes (turning an active figure into a static one), is too late.\n",
       "    var cells = IPython.notebook.get_cells();\n",
       "    var ncells = cells.length;\n",
       "    for (var i=0; i<ncells; i++) {\n",
       "        var cell = cells[i];\n",
       "        if (cell.cell_type === 'code'){\n",
       "            for (var j=0; j<cell.output_area.outputs.length; j++) {\n",
       "                var data = cell.output_area.outputs[j];\n",
       "                if (data.data) {\n",
       "                    // IPython >= 3 moved mimebundle to data attribute of output\n",
       "                    data = data.data;\n",
       "                }\n",
       "                if (data['text/html'] == html_output) {\n",
       "                    return [cell, data, j];\n",
       "                }\n",
       "            }\n",
       "        }\n",
       "    }\n",
       "}\n",
       "\n",
       "// Register the function which deals with the matplotlib target/channel.\n",
       "// The kernel may be null if the page has been refreshed.\n",
       "if (IPython.notebook.kernel != null) {\n",
       "    IPython.notebook.kernel.comm_manager.register_target('matplotlib', mpl.mpl_figure_comm);\n",
       "}\n"
      ],
      "text/plain": [
       "<IPython.core.display.Javascript object>"
      ]
     },
     "metadata": {},
     "output_type": "display_data"
    },
    {
     "data": {
      "text/html": [
       "<img src=\"data:image/png;base64,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\" width=\"640\">"
      ],
      "text/plain": [
       "<IPython.core.display.HTML object>"
      ]
     },
     "metadata": {},
     "output_type": "display_data"
    },
    {
     "data": {
      "text/plain": [
       "[<matplotlib.lines.Line2D at 0x11587ae50>]"
      ]
     },
     "execution_count": 9,
     "metadata": {},
     "output_type": "execute_result"
    }
   ],
   "source": [
    "%matplotlib notebook\n",
    "import matplotlib.pyplot as plt\n",
    "import math\n",
    "\n",
    "# initial conditions\n",
    "g = 9.8\n",
    "h = 0.\n",
    "\n",
    "v0 = 10.\n",
    "dt=0.01\n",
    "\n",
    "theta = 23.\n",
    "while True:\n",
    "    x = input(\"angle theta in [0,90] degrees (press return for {0} degree): \".format(theta))\n",
    "    if x == \"\" : break\n",
    "    theta  = float(x)\n",
    "    if(theta>0 and theta<90): break\n",
    "theta = math.radians(theta)\n",
    " \n",
    "#compute velocity components\n",
    "v0x = v0*math.cos(theta)\n",
    "v0y = v0*math.sin(theta)\n",
    "print(\"v0_x: %.3f m/s \\t v0_y: %.3f m/s\"%(v0x,v0y))\n",
    "\n",
    "t=0.\n",
    "x=[]\n",
    "y=[]\n",
    "xi=0\n",
    "yi=h\n",
    "\n",
    "while yi>=0:\n",
    "    x.append(xi)\n",
    "    y.append(yi)\n",
    "    t+=dt\n",
    "    xi=v0x*t\n",
    "    yi=h+v0y*t-0.5*g*t*t\n",
    "\n",
    "#print(x,y)\n",
    "plt.plot(x,y, marker='.')"
   ]
  },
  {
   "cell_type": "markdown",
   "metadata": {},
   "source": [
    "We now change all the variables to be configurable by the user"
   ]
  },
  {
   "cell_type": "code",
   "execution_count": 12,
   "metadata": {
    "scrolled": false
   },
   "outputs": [
    {
     "name": "stdout",
     "output_type": "stream",
     "text": [
      "initial height h in m: (press return for h = 0 m): 34\n",
      "angle theta in [0,90] degrees (press return for 20.0 degree): 56\n",
      "insert v_0 > 0 in m/s (press return for 10.0 m/s): 45\n",
      "insert dt > 0 in sec (press return for 0.1 sec): 0.1\n",
      "v0_x: 25.164 m/s \t v0_y: 37.307 m/s\n"
     ]
    },
    {
     "data": {
      "application/javascript": [
       "/* Put everything inside the global mpl namespace */\n",
       "window.mpl = {};\n",
       "\n",
       "\n",
       "mpl.get_websocket_type = function() {\n",
       "    if (typeof(WebSocket) !== 'undefined') {\n",
       "        return WebSocket;\n",
       "    } else if (typeof(MozWebSocket) !== 'undefined') {\n",
       "        return MozWebSocket;\n",
       "    } else {\n",
       "        alert('Your browser does not have WebSocket support. ' +\n",
       "              'Please try Chrome, Safari or Firefox ≥ 6. ' +\n",
       "              'Firefox 4 and 5 are also supported but you ' +\n",
       "              'have to enable WebSockets in about:config.');\n",
       "    };\n",
       "}\n",
       "\n",
       "mpl.figure = function(figure_id, websocket, ondownload, parent_element) {\n",
       "    this.id = figure_id;\n",
       "\n",
       "    this.ws = websocket;\n",
       "\n",
       "    this.supports_binary = (this.ws.binaryType != undefined);\n",
       "\n",
       "    if (!this.supports_binary) {\n",
       "        var warnings = document.getElementById(\"mpl-warnings\");\n",
       "        if (warnings) {\n",
       "            warnings.style.display = 'block';\n",
       "            warnings.textContent = (\n",
       "                \"This browser does not support binary websocket messages. \" +\n",
       "                    \"Performance may be slow.\");\n",
       "        }\n",
       "    }\n",
       "\n",
       "    this.imageObj = new Image();\n",
       "\n",
       "    this.context = undefined;\n",
       "    this.message = undefined;\n",
       "    this.canvas = undefined;\n",
       "    this.rubberband_canvas = undefined;\n",
       "    this.rubberband_context = undefined;\n",
       "    this.format_dropdown = undefined;\n",
       "\n",
       "    this.image_mode = 'full';\n",
       "\n",
       "    this.root = $('<div/>');\n",
       "    this._root_extra_style(this.root)\n",
       "    this.root.attr('style', 'display: inline-block');\n",
       "\n",
       "    $(parent_element).append(this.root);\n",
       "\n",
       "    this._init_header(this);\n",
       "    this._init_canvas(this);\n",
       "    this._init_toolbar(this);\n",
       "\n",
       "    var fig = this;\n",
       "\n",
       "    this.waiting = false;\n",
       "\n",
       "    this.ws.onopen =  function () {\n",
       "            fig.send_message(\"supports_binary\", {value: fig.supports_binary});\n",
       "            fig.send_message(\"send_image_mode\", {});\n",
       "            if (mpl.ratio != 1) {\n",
       "                fig.send_message(\"set_dpi_ratio\", {'dpi_ratio': mpl.ratio});\n",
       "            }\n",
       "            fig.send_message(\"refresh\", {});\n",
       "        }\n",
       "\n",
       "    this.imageObj.onload = function() {\n",
       "            if (fig.image_mode == 'full') {\n",
       "                // Full images could contain transparency (where diff images\n",
       "                // almost always do), so we need to clear the canvas so that\n",
       "                // there is no ghosting.\n",
       "                fig.context.clearRect(0, 0, fig.canvas.width, fig.canvas.height);\n",
       "            }\n",
       "            fig.context.drawImage(fig.imageObj, 0, 0);\n",
       "        };\n",
       "\n",
       "    this.imageObj.onunload = function() {\n",
       "        fig.ws.close();\n",
       "    }\n",
       "\n",
       "    this.ws.onmessage = this._make_on_message_function(this);\n",
       "\n",
       "    this.ondownload = ondownload;\n",
       "}\n",
       "\n",
       "mpl.figure.prototype._init_header = function() {\n",
       "    var titlebar = $(\n",
       "        '<div class=\"ui-dialog-titlebar ui-widget-header ui-corner-all ' +\n",
       "        'ui-helper-clearfix\"/>');\n",
       "    var titletext = $(\n",
       "        '<div class=\"ui-dialog-title\" style=\"width: 100%; ' +\n",
       "        'text-align: center; padding: 3px;\"/>');\n",
       "    titlebar.append(titletext)\n",
       "    this.root.append(titlebar);\n",
       "    this.header = titletext[0];\n",
       "}\n",
       "\n",
       "\n",
       "\n",
       "mpl.figure.prototype._canvas_extra_style = function(canvas_div) {\n",
       "\n",
       "}\n",
       "\n",
       "\n",
       "mpl.figure.prototype._root_extra_style = function(canvas_div) {\n",
       "\n",
       "}\n",
       "\n",
       "mpl.figure.prototype._init_canvas = function() {\n",
       "    var fig = this;\n",
       "\n",
       "    var canvas_div = $('<div/>');\n",
       "\n",
       "    canvas_div.attr('style', 'position: relative; clear: both; outline: 0');\n",
       "\n",
       "    function canvas_keyboard_event(event) {\n",
       "        return fig.key_event(event, event['data']);\n",
       "    }\n",
       "\n",
       "    canvas_div.keydown('key_press', canvas_keyboard_event);\n",
       "    canvas_div.keyup('key_release', canvas_keyboard_event);\n",
       "    this.canvas_div = canvas_div\n",
       "    this._canvas_extra_style(canvas_div)\n",
       "    this.root.append(canvas_div);\n",
       "\n",
       "    var canvas = $('<canvas/>');\n",
       "    canvas.addClass('mpl-canvas');\n",
       "    canvas.attr('style', \"left: 0; top: 0; z-index: 0; outline: 0\")\n",
       "\n",
       "    this.canvas = canvas[0];\n",
       "    this.context = canvas[0].getContext(\"2d\");\n",
       "\n",
       "    var backingStore = this.context.backingStorePixelRatio ||\n",
       "\tthis.context.webkitBackingStorePixelRatio ||\n",
       "\tthis.context.mozBackingStorePixelRatio ||\n",
       "\tthis.context.msBackingStorePixelRatio ||\n",
       "\tthis.context.oBackingStorePixelRatio ||\n",
       "\tthis.context.backingStorePixelRatio || 1;\n",
       "\n",
       "    mpl.ratio = (window.devicePixelRatio || 1) / backingStore;\n",
       "\n",
       "    var rubberband = $('<canvas/>');\n",
       "    rubberband.attr('style', \"position: absolute; left: 0; top: 0; z-index: 1;\")\n",
       "\n",
       "    var pass_mouse_events = true;\n",
       "\n",
       "    canvas_div.resizable({\n",
       "        start: function(event, ui) {\n",
       "            pass_mouse_events = false;\n",
       "        },\n",
       "        resize: function(event, ui) {\n",
       "            fig.request_resize(ui.size.width, ui.size.height);\n",
       "        },\n",
       "        stop: function(event, ui) {\n",
       "            pass_mouse_events = true;\n",
       "            fig.request_resize(ui.size.width, ui.size.height);\n",
       "        },\n",
       "    });\n",
       "\n",
       "    function mouse_event_fn(event) {\n",
       "        if (pass_mouse_events)\n",
       "            return fig.mouse_event(event, event['data']);\n",
       "    }\n",
       "\n",
       "    rubberband.mousedown('button_press', mouse_event_fn);\n",
       "    rubberband.mouseup('button_release', mouse_event_fn);\n",
       "    // Throttle sequential mouse events to 1 every 20ms.\n",
       "    rubberband.mousemove('motion_notify', mouse_event_fn);\n",
       "\n",
       "    rubberband.mouseenter('figure_enter', mouse_event_fn);\n",
       "    rubberband.mouseleave('figure_leave', mouse_event_fn);\n",
       "\n",
       "    canvas_div.on(\"wheel\", function (event) {\n",
       "        event = event.originalEvent;\n",
       "        event['data'] = 'scroll'\n",
       "        if (event.deltaY < 0) {\n",
       "            event.step = 1;\n",
       "        } else {\n",
       "            event.step = -1;\n",
       "        }\n",
       "        mouse_event_fn(event);\n",
       "    });\n",
       "\n",
       "    canvas_div.append(canvas);\n",
       "    canvas_div.append(rubberband);\n",
       "\n",
       "    this.rubberband = rubberband;\n",
       "    this.rubberband_canvas = rubberband[0];\n",
       "    this.rubberband_context = rubberband[0].getContext(\"2d\");\n",
       "    this.rubberband_context.strokeStyle = \"#000000\";\n",
       "\n",
       "    this._resize_canvas = function(width, height) {\n",
       "        // Keep the size of the canvas, canvas container, and rubber band\n",
       "        // canvas in synch.\n",
       "        canvas_div.css('width', width)\n",
       "        canvas_div.css('height', height)\n",
       "\n",
       "        canvas.attr('width', width * mpl.ratio);\n",
       "        canvas.attr('height', height * mpl.ratio);\n",
       "        canvas.attr('style', 'width: ' + width + 'px; height: ' + height + 'px;');\n",
       "\n",
       "        rubberband.attr('width', width);\n",
       "        rubberband.attr('height', height);\n",
       "    }\n",
       "\n",
       "    // Set the figure to an initial 600x600px, this will subsequently be updated\n",
       "    // upon first draw.\n",
       "    this._resize_canvas(600, 600);\n",
       "\n",
       "    // Disable right mouse context menu.\n",
       "    $(this.rubberband_canvas).bind(\"contextmenu\",function(e){\n",
       "        return false;\n",
       "    });\n",
       "\n",
       "    function set_focus () {\n",
       "        canvas.focus();\n",
       "        canvas_div.focus();\n",
       "    }\n",
       "\n",
       "    window.setTimeout(set_focus, 100);\n",
       "}\n",
       "\n",
       "mpl.figure.prototype._init_toolbar = function() {\n",
       "    var fig = this;\n",
       "\n",
       "    var nav_element = $('<div/>');\n",
       "    nav_element.attr('style', 'width: 100%');\n",
       "    this.root.append(nav_element);\n",
       "\n",
       "    // Define a callback function for later on.\n",
       "    function toolbar_event(event) {\n",
       "        return fig.toolbar_button_onclick(event['data']);\n",
       "    }\n",
       "    function toolbar_mouse_event(event) {\n",
       "        return fig.toolbar_button_onmouseover(event['data']);\n",
       "    }\n",
       "\n",
       "    for(var toolbar_ind in mpl.toolbar_items) {\n",
       "        var name = mpl.toolbar_items[toolbar_ind][0];\n",
       "        var tooltip = mpl.toolbar_items[toolbar_ind][1];\n",
       "        var image = mpl.toolbar_items[toolbar_ind][2];\n",
       "        var method_name = mpl.toolbar_items[toolbar_ind][3];\n",
       "\n",
       "        if (!name) {\n",
       "            // put a spacer in here.\n",
       "            continue;\n",
       "        }\n",
       "        var button = $('<button/>');\n",
       "        button.addClass('ui-button ui-widget ui-state-default ui-corner-all ' +\n",
       "                        'ui-button-icon-only');\n",
       "        button.attr('role', 'button');\n",
       "        button.attr('aria-disabled', 'false');\n",
       "        button.click(method_name, toolbar_event);\n",
       "        button.mouseover(tooltip, toolbar_mouse_event);\n",
       "\n",
       "        var icon_img = $('<span/>');\n",
       "        icon_img.addClass('ui-button-icon-primary ui-icon');\n",
       "        icon_img.addClass(image);\n",
       "        icon_img.addClass('ui-corner-all');\n",
       "\n",
       "        var tooltip_span = $('<span/>');\n",
       "        tooltip_span.addClass('ui-button-text');\n",
       "        tooltip_span.html(tooltip);\n",
       "\n",
       "        button.append(icon_img);\n",
       "        button.append(tooltip_span);\n",
       "\n",
       "        nav_element.append(button);\n",
       "    }\n",
       "\n",
       "    var fmt_picker_span = $('<span/>');\n",
       "\n",
       "    var fmt_picker = $('<select/>');\n",
       "    fmt_picker.addClass('mpl-toolbar-option ui-widget ui-widget-content');\n",
       "    fmt_picker_span.append(fmt_picker);\n",
       "    nav_element.append(fmt_picker_span);\n",
       "    this.format_dropdown = fmt_picker[0];\n",
       "\n",
       "    for (var ind in mpl.extensions) {\n",
       "        var fmt = mpl.extensions[ind];\n",
       "        var option = $(\n",
       "            '<option/>', {selected: fmt === mpl.default_extension}).html(fmt);\n",
       "        fmt_picker.append(option);\n",
       "    }\n",
       "\n",
       "    // Add hover states to the ui-buttons\n",
       "    $( \".ui-button\" ).hover(\n",
       "        function() { $(this).addClass(\"ui-state-hover\");},\n",
       "        function() { $(this).removeClass(\"ui-state-hover\");}\n",
       "    );\n",
       "\n",
       "    var status_bar = $('<span class=\"mpl-message\"/>');\n",
       "    nav_element.append(status_bar);\n",
       "    this.message = status_bar[0];\n",
       "}\n",
       "\n",
       "mpl.figure.prototype.request_resize = function(x_pixels, y_pixels) {\n",
       "    // Request matplotlib to resize the figure. Matplotlib will then trigger a resize in the client,\n",
       "    // which will in turn request a refresh of the image.\n",
       "    this.send_message('resize', {'width': x_pixels, 'height': y_pixels});\n",
       "}\n",
       "\n",
       "mpl.figure.prototype.send_message = function(type, properties) {\n",
       "    properties['type'] = type;\n",
       "    properties['figure_id'] = this.id;\n",
       "    this.ws.send(JSON.stringify(properties));\n",
       "}\n",
       "\n",
       "mpl.figure.prototype.send_draw_message = function() {\n",
       "    if (!this.waiting) {\n",
       "        this.waiting = true;\n",
       "        this.ws.send(JSON.stringify({type: \"draw\", figure_id: this.id}));\n",
       "    }\n",
       "}\n",
       "\n",
       "\n",
       "mpl.figure.prototype.handle_save = function(fig, msg) {\n",
       "    var format_dropdown = fig.format_dropdown;\n",
       "    var format = format_dropdown.options[format_dropdown.selectedIndex].value;\n",
       "    fig.ondownload(fig, format);\n",
       "}\n",
       "\n",
       "\n",
       "mpl.figure.prototype.handle_resize = function(fig, msg) {\n",
       "    var size = msg['size'];\n",
       "    if (size[0] != fig.canvas.width || size[1] != fig.canvas.height) {\n",
       "        fig._resize_canvas(size[0], size[1]);\n",
       "        fig.send_message(\"refresh\", {});\n",
       "    };\n",
       "}\n",
       "\n",
       "mpl.figure.prototype.handle_rubberband = function(fig, msg) {\n",
       "    var x0 = msg['x0'] / mpl.ratio;\n",
       "    var y0 = (fig.canvas.height - msg['y0']) / mpl.ratio;\n",
       "    var x1 = msg['x1'] / mpl.ratio;\n",
       "    var y1 = (fig.canvas.height - msg['y1']) / mpl.ratio;\n",
       "    x0 = Math.floor(x0) + 0.5;\n",
       "    y0 = Math.floor(y0) + 0.5;\n",
       "    x1 = Math.floor(x1) + 0.5;\n",
       "    y1 = Math.floor(y1) + 0.5;\n",
       "    var min_x = Math.min(x0, x1);\n",
       "    var min_y = Math.min(y0, y1);\n",
       "    var width = Math.abs(x1 - x0);\n",
       "    var height = Math.abs(y1 - y0);\n",
       "\n",
       "    fig.rubberband_context.clearRect(\n",
       "        0, 0, fig.canvas.width / mpl.ratio, fig.canvas.height / mpl.ratio);\n",
       "\n",
       "    fig.rubberband_context.strokeRect(min_x, min_y, width, height);\n",
       "}\n",
       "\n",
       "mpl.figure.prototype.handle_figure_label = function(fig, msg) {\n",
       "    // Updates the figure title.\n",
       "    fig.header.textContent = msg['label'];\n",
       "}\n",
       "\n",
       "mpl.figure.prototype.handle_cursor = function(fig, msg) {\n",
       "    var cursor = msg['cursor'];\n",
       "    switch(cursor)\n",
       "    {\n",
       "    case 0:\n",
       "        cursor = 'pointer';\n",
       "        break;\n",
       "    case 1:\n",
       "        cursor = 'default';\n",
       "        break;\n",
       "    case 2:\n",
       "        cursor = 'crosshair';\n",
       "        break;\n",
       "    case 3:\n",
       "        cursor = 'move';\n",
       "        break;\n",
       "    }\n",
       "    fig.rubberband_canvas.style.cursor = cursor;\n",
       "}\n",
       "\n",
       "mpl.figure.prototype.handle_message = function(fig, msg) {\n",
       "    fig.message.textContent = msg['message'];\n",
       "}\n",
       "\n",
       "mpl.figure.prototype.handle_draw = function(fig, msg) {\n",
       "    // Request the server to send over a new figure.\n",
       "    fig.send_draw_message();\n",
       "}\n",
       "\n",
       "mpl.figure.prototype.handle_image_mode = function(fig, msg) {\n",
       "    fig.image_mode = msg['mode'];\n",
       "}\n",
       "\n",
       "mpl.figure.prototype.updated_canvas_event = function() {\n",
       "    // Called whenever the canvas gets updated.\n",
       "    this.send_message(\"ack\", {});\n",
       "}\n",
       "\n",
       "// A function to construct a web socket function for onmessage handling.\n",
       "// Called in the figure constructor.\n",
       "mpl.figure.prototype._make_on_message_function = function(fig) {\n",
       "    return function socket_on_message(evt) {\n",
       "        if (evt.data instanceof Blob) {\n",
       "            /* FIXME: We get \"Resource interpreted as Image but\n",
       "             * transferred with MIME type text/plain:\" errors on\n",
       "             * Chrome.  But how to set the MIME type?  It doesn't seem\n",
       "             * to be part of the websocket stream */\n",
       "            evt.data.type = \"image/png\";\n",
       "\n",
       "            /* Free the memory for the previous frames */\n",
       "            if (fig.imageObj.src) {\n",
       "                (window.URL || window.webkitURL).revokeObjectURL(\n",
       "                    fig.imageObj.src);\n",
       "            }\n",
       "\n",
       "            fig.imageObj.src = (window.URL || window.webkitURL).createObjectURL(\n",
       "                evt.data);\n",
       "            fig.updated_canvas_event();\n",
       "            fig.waiting = false;\n",
       "            return;\n",
       "        }\n",
       "        else if (typeof evt.data === 'string' && evt.data.slice(0, 21) == \"data:image/png;base64\") {\n",
       "            fig.imageObj.src = evt.data;\n",
       "            fig.updated_canvas_event();\n",
       "            fig.waiting = false;\n",
       "            return;\n",
       "        }\n",
       "\n",
       "        var msg = JSON.parse(evt.data);\n",
       "        var msg_type = msg['type'];\n",
       "\n",
       "        // Call the  \"handle_{type}\" callback, which takes\n",
       "        // the figure and JSON message as its only arguments.\n",
       "        try {\n",
       "            var callback = fig[\"handle_\" + msg_type];\n",
       "        } catch (e) {\n",
       "            console.log(\"No handler for the '\" + msg_type + \"' message type: \", msg);\n",
       "            return;\n",
       "        }\n",
       "\n",
       "        if (callback) {\n",
       "            try {\n",
       "                // console.log(\"Handling '\" + msg_type + \"' message: \", msg);\n",
       "                callback(fig, msg);\n",
       "            } catch (e) {\n",
       "                console.log(\"Exception inside the 'handler_\" + msg_type + \"' callback:\", e, e.stack, msg);\n",
       "            }\n",
       "        }\n",
       "    };\n",
       "}\n",
       "\n",
       "// from http://stackoverflow.com/questions/1114465/getting-mouse-location-in-canvas\n",
       "mpl.findpos = function(e) {\n",
       "    //this section is from http://www.quirksmode.org/js/events_properties.html\n",
       "    var targ;\n",
       "    if (!e)\n",
       "        e = window.event;\n",
       "    if (e.target)\n",
       "        targ = e.target;\n",
       "    else if (e.srcElement)\n",
       "        targ = e.srcElement;\n",
       "    if (targ.nodeType == 3) // defeat Safari bug\n",
       "        targ = targ.parentNode;\n",
       "\n",
       "    // jQuery normalizes the pageX and pageY\n",
       "    // pageX,Y are the mouse positions relative to the document\n",
       "    // offset() returns the position of the element relative to the document\n",
       "    var x = e.pageX - $(targ).offset().left;\n",
       "    var y = e.pageY - $(targ).offset().top;\n",
       "\n",
       "    return {\"x\": x, \"y\": y};\n",
       "};\n",
       "\n",
       "/*\n",
       " * return a copy of an object with only non-object keys\n",
       " * we need this to avoid circular references\n",
       " * http://stackoverflow.com/a/24161582/3208463\n",
       " */\n",
       "function simpleKeys (original) {\n",
       "  return Object.keys(original).reduce(function (obj, key) {\n",
       "    if (typeof original[key] !== 'object')\n",
       "        obj[key] = original[key]\n",
       "    return obj;\n",
       "  }, {});\n",
       "}\n",
       "\n",
       "mpl.figure.prototype.mouse_event = function(event, name) {\n",
       "    var canvas_pos = mpl.findpos(event)\n",
       "\n",
       "    if (name === 'button_press')\n",
       "    {\n",
       "        this.canvas.focus();\n",
       "        this.canvas_div.focus();\n",
       "    }\n",
       "\n",
       "    var x = canvas_pos.x * mpl.ratio;\n",
       "    var y = canvas_pos.y * mpl.ratio;\n",
       "\n",
       "    this.send_message(name, {x: x, y: y, button: event.button,\n",
       "                             step: event.step,\n",
       "                             guiEvent: simpleKeys(event)});\n",
       "\n",
       "    /* This prevents the web browser from automatically changing to\n",
       "     * the text insertion cursor when the button is pressed.  We want\n",
       "     * to control all of the cursor setting manually through the\n",
       "     * 'cursor' event from matplotlib */\n",
       "    event.preventDefault();\n",
       "    return false;\n",
       "}\n",
       "\n",
       "mpl.figure.prototype._key_event_extra = function(event, name) {\n",
       "    // Handle any extra behaviour associated with a key event\n",
       "}\n",
       "\n",
       "mpl.figure.prototype.key_event = function(event, name) {\n",
       "\n",
       "    // Prevent repeat events\n",
       "    if (name == 'key_press')\n",
       "    {\n",
       "        if (event.which === this._key)\n",
       "            return;\n",
       "        else\n",
       "            this._key = event.which;\n",
       "    }\n",
       "    if (name == 'key_release')\n",
       "        this._key = null;\n",
       "\n",
       "    var value = '';\n",
       "    if (event.ctrlKey && event.which != 17)\n",
       "        value += \"ctrl+\";\n",
       "    if (event.altKey && event.which != 18)\n",
       "        value += \"alt+\";\n",
       "    if (event.shiftKey && event.which != 16)\n",
       "        value += \"shift+\";\n",
       "\n",
       "    value += 'k';\n",
       "    value += event.which.toString();\n",
       "\n",
       "    this._key_event_extra(event, name);\n",
       "\n",
       "    this.send_message(name, {key: value,\n",
       "                             guiEvent: simpleKeys(event)});\n",
       "    return false;\n",
       "}\n",
       "\n",
       "mpl.figure.prototype.toolbar_button_onclick = function(name) {\n",
       "    if (name == 'download') {\n",
       "        this.handle_save(this, null);\n",
       "    } else {\n",
       "        this.send_message(\"toolbar_button\", {name: name});\n",
       "    }\n",
       "};\n",
       "\n",
       "mpl.figure.prototype.toolbar_button_onmouseover = function(tooltip) {\n",
       "    this.message.textContent = tooltip;\n",
       "};\n",
       "mpl.toolbar_items = [[\"Home\", \"Reset original view\", \"fa fa-home icon-home\", \"home\"], [\"Back\", \"Back to previous view\", \"fa fa-arrow-left icon-arrow-left\", \"back\"], [\"Forward\", \"Forward to next view\", \"fa fa-arrow-right icon-arrow-right\", \"forward\"], [\"\", \"\", \"\", \"\"], [\"Pan\", \"Pan axes with left mouse, zoom with right\", \"fa fa-arrows icon-move\", \"pan\"], [\"Zoom\", \"Zoom to rectangle\", \"fa fa-square-o icon-check-empty\", \"zoom\"], [\"\", \"\", \"\", \"\"], [\"Download\", \"Download plot\", \"fa fa-floppy-o icon-save\", \"download\"]];\n",
       "\n",
       "mpl.extensions = [\"eps\", \"pdf\", \"png\", \"ps\", \"raw\", \"svg\"];\n",
       "\n",
       "mpl.default_extension = \"png\";var comm_websocket_adapter = function(comm) {\n",
       "    // Create a \"websocket\"-like object which calls the given IPython comm\n",
       "    // object with the appropriate methods. Currently this is a non binary\n",
       "    // socket, so there is still some room for performance tuning.\n",
       "    var ws = {};\n",
       "\n",
       "    ws.close = function() {\n",
       "        comm.close()\n",
       "    };\n",
       "    ws.send = function(m) {\n",
       "        //console.log('sending', m);\n",
       "        comm.send(m);\n",
       "    };\n",
       "    // Register the callback with on_msg.\n",
       "    comm.on_msg(function(msg) {\n",
       "        //console.log('receiving', msg['content']['data'], msg);\n",
       "        // Pass the mpl event to the overridden (by mpl) onmessage function.\n",
       "        ws.onmessage(msg['content']['data'])\n",
       "    });\n",
       "    return ws;\n",
       "}\n",
       "\n",
       "mpl.mpl_figure_comm = function(comm, msg) {\n",
       "    // This is the function which gets called when the mpl process\n",
       "    // starts-up an IPython Comm through the \"matplotlib\" channel.\n",
       "\n",
       "    var id = msg.content.data.id;\n",
       "    // Get hold of the div created by the display call when the Comm\n",
       "    // socket was opened in Python.\n",
       "    var element = $(\"#\" + id);\n",
       "    var ws_proxy = comm_websocket_adapter(comm)\n",
       "\n",
       "    function ondownload(figure, format) {\n",
       "        window.open(figure.imageObj.src);\n",
       "    }\n",
       "\n",
       "    var fig = new mpl.figure(id, ws_proxy,\n",
       "                           ondownload,\n",
       "                           element.get(0));\n",
       "\n",
       "    // Call onopen now - mpl needs it, as it is assuming we've passed it a real\n",
       "    // web socket which is closed, not our websocket->open comm proxy.\n",
       "    ws_proxy.onopen();\n",
       "\n",
       "    fig.parent_element = element.get(0);\n",
       "    fig.cell_info = mpl.find_output_cell(\"<div id='\" + id + \"'></div>\");\n",
       "    if (!fig.cell_info) {\n",
       "        console.error(\"Failed to find cell for figure\", id, fig);\n",
       "        return;\n",
       "    }\n",
       "\n",
       "    var output_index = fig.cell_info[2]\n",
       "    var cell = fig.cell_info[0];\n",
       "\n",
       "};\n",
       "\n",
       "mpl.figure.prototype.handle_close = function(fig, msg) {\n",
       "    var width = fig.canvas.width/mpl.ratio\n",
       "    fig.root.unbind('remove')\n",
       "\n",
       "    // Update the output cell to use the data from the current canvas.\n",
       "    fig.push_to_output();\n",
       "    var dataURL = fig.canvas.toDataURL();\n",
       "    // Re-enable the keyboard manager in IPython - without this line, in FF,\n",
       "    // the notebook keyboard shortcuts fail.\n",
       "    IPython.keyboard_manager.enable()\n",
       "    $(fig.parent_element).html('<img src=\"' + dataURL + '\" width=\"' + width + '\">');\n",
       "    fig.close_ws(fig, msg);\n",
       "}\n",
       "\n",
       "mpl.figure.prototype.close_ws = function(fig, msg){\n",
       "    fig.send_message('closing', msg);\n",
       "    // fig.ws.close()\n",
       "}\n",
       "\n",
       "mpl.figure.prototype.push_to_output = function(remove_interactive) {\n",
       "    // Turn the data on the canvas into data in the output cell.\n",
       "    var width = this.canvas.width/mpl.ratio\n",
       "    var dataURL = this.canvas.toDataURL();\n",
       "    this.cell_info[1]['text/html'] = '<img src=\"' + dataURL + '\" width=\"' + width + '\">';\n",
       "}\n",
       "\n",
       "mpl.figure.prototype.updated_canvas_event = function() {\n",
       "    // Tell IPython that the notebook contents must change.\n",
       "    IPython.notebook.set_dirty(true);\n",
       "    this.send_message(\"ack\", {});\n",
       "    var fig = this;\n",
       "    // Wait a second, then push the new image to the DOM so\n",
       "    // that it is saved nicely (might be nice to debounce this).\n",
       "    setTimeout(function () { fig.push_to_output() }, 1000);\n",
       "}\n",
       "\n",
       "mpl.figure.prototype._init_toolbar = function() {\n",
       "    var fig = this;\n",
       "\n",
       "    var nav_element = $('<div/>');\n",
       "    nav_element.attr('style', 'width: 100%');\n",
       "    this.root.append(nav_element);\n",
       "\n",
       "    // Define a callback function for later on.\n",
       "    function toolbar_event(event) {\n",
       "        return fig.toolbar_button_onclick(event['data']);\n",
       "    }\n",
       "    function toolbar_mouse_event(event) {\n",
       "        return fig.toolbar_button_onmouseover(event['data']);\n",
       "    }\n",
       "\n",
       "    for(var toolbar_ind in mpl.toolbar_items){\n",
       "        var name = mpl.toolbar_items[toolbar_ind][0];\n",
       "        var tooltip = mpl.toolbar_items[toolbar_ind][1];\n",
       "        var image = mpl.toolbar_items[toolbar_ind][2];\n",
       "        var method_name = mpl.toolbar_items[toolbar_ind][3];\n",
       "\n",
       "        if (!name) { continue; };\n",
       "\n",
       "        var button = $('<button class=\"btn btn-default\" href=\"#\" title=\"' + name + '\"><i class=\"fa ' + image + ' fa-lg\"></i></button>');\n",
       "        button.click(method_name, toolbar_event);\n",
       "        button.mouseover(tooltip, toolbar_mouse_event);\n",
       "        nav_element.append(button);\n",
       "    }\n",
       "\n",
       "    // Add the status bar.\n",
       "    var status_bar = $('<span class=\"mpl-message\" style=\"text-align:right; float: right;\"/>');\n",
       "    nav_element.append(status_bar);\n",
       "    this.message = status_bar[0];\n",
       "\n",
       "    // Add the close button to the window.\n",
       "    var buttongrp = $('<div class=\"btn-group inline pull-right\"></div>');\n",
       "    var button = $('<button class=\"btn btn-mini btn-primary\" href=\"#\" title=\"Stop Interaction\"><i class=\"fa fa-power-off icon-remove icon-large\"></i></button>');\n",
       "    button.click(function (evt) { fig.handle_close(fig, {}); } );\n",
       "    button.mouseover('Stop Interaction', toolbar_mouse_event);\n",
       "    buttongrp.append(button);\n",
       "    var titlebar = this.root.find($('.ui-dialog-titlebar'));\n",
       "    titlebar.prepend(buttongrp);\n",
       "}\n",
       "\n",
       "mpl.figure.prototype._root_extra_style = function(el){\n",
       "    var fig = this\n",
       "    el.on(\"remove\", function(){\n",
       "\tfig.close_ws(fig, {});\n",
       "    });\n",
       "}\n",
       "\n",
       "mpl.figure.prototype._canvas_extra_style = function(el){\n",
       "    // this is important to make the div 'focusable\n",
       "    el.attr('tabindex', 0)\n",
       "    // reach out to IPython and tell the keyboard manager to turn it's self\n",
       "    // off when our div gets focus\n",
       "\n",
       "    // location in version 3\n",
       "    if (IPython.notebook.keyboard_manager) {\n",
       "        IPython.notebook.keyboard_manager.register_events(el);\n",
       "    }\n",
       "    else {\n",
       "        // location in version 2\n",
       "        IPython.keyboard_manager.register_events(el);\n",
       "    }\n",
       "\n",
       "}\n",
       "\n",
       "mpl.figure.prototype._key_event_extra = function(event, name) {\n",
       "    var manager = IPython.notebook.keyboard_manager;\n",
       "    if (!manager)\n",
       "        manager = IPython.keyboard_manager;\n",
       "\n",
       "    // Check for shift+enter\n",
       "    if (event.shiftKey && event.which == 13) {\n",
       "        this.canvas_div.blur();\n",
       "        // select the cell after this one\n",
       "        var index = IPython.notebook.find_cell_index(this.cell_info[0]);\n",
       "        IPython.notebook.select(index + 1);\n",
       "    }\n",
       "}\n",
       "\n",
       "mpl.figure.prototype.handle_save = function(fig, msg) {\n",
       "    fig.ondownload(fig, null);\n",
       "}\n",
       "\n",
       "\n",
       "mpl.find_output_cell = function(html_output) {\n",
       "    // Return the cell and output element which can be found *uniquely* in the notebook.\n",
       "    // Note - this is a bit hacky, but it is done because the \"notebook_saving.Notebook\"\n",
       "    // IPython event is triggered only after the cells have been serialised, which for\n",
       "    // our purposes (turning an active figure into a static one), is too late.\n",
       "    var cells = IPython.notebook.get_cells();\n",
       "    var ncells = cells.length;\n",
       "    for (var i=0; i<ncells; i++) {\n",
       "        var cell = cells[i];\n",
       "        if (cell.cell_type === 'code'){\n",
       "            for (var j=0; j<cell.output_area.outputs.length; j++) {\n",
       "                var data = cell.output_area.outputs[j];\n",
       "                if (data.data) {\n",
       "                    // IPython >= 3 moved mimebundle to data attribute of output\n",
       "                    data = data.data;\n",
       "                }\n",
       "                if (data['text/html'] == html_output) {\n",
       "                    return [cell, data, j];\n",
       "                }\n",
       "            }\n",
       "        }\n",
       "    }\n",
       "}\n",
       "\n",
       "// Register the function which deals with the matplotlib target/channel.\n",
       "// The kernel may be null if the page has been refreshed.\n",
       "if (IPython.notebook.kernel != null) {\n",
       "    IPython.notebook.kernel.comm_manager.register_target('matplotlib', mpl.mpl_figure_comm);\n",
       "}\n"
      ],
      "text/plain": [
       "<IPython.core.display.Javascript object>"
      ]
     },
     "metadata": {},
     "output_type": "display_data"
    },
    {
     "data": {
      "text/html": [
       "<img src=\"data:image/png;base64,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\" width=\"640\">"
      ],
      "text/plain": [
       "<IPython.core.display.HTML object>"
      ]
     },
     "metadata": {},
     "output_type": "display_data"
    }
   ],
   "source": [
    "# only for jupyter\n",
    "%matplotlib notebook\n",
    "\n",
    "import matplotlib.pyplot as plt\n",
    "import math\n",
    "\n",
    "g = 9.8\n",
    "\n",
    "h = 0.\n",
    "while True:\n",
    "    x = input(\"initial height h in m: (press return for h = 0 m): \")\n",
    "    if x == \"\":  break\n",
    "    h = float(x)\n",
    "    if(h>=0): break\n",
    "\n",
    "\n",
    "theta = 20.\n",
    "while True:\n",
    "    x = input(\"angle theta in [0,90] degrees (press return for {0} degree): \".format(theta))\n",
    "    if x == \"\" : break\n",
    "    theta  = float(x)\n",
    "    if(theta>0 and theta<90): break\n",
    "theta = math.radians(theta)\n",
    "        \n",
    "\n",
    "v0 = 10.\n",
    "while True:\n",
    "    x = input(\"insert v_0 > 0 in m/s (press return for {0} m/s): \".format(v0))\n",
    "    if x == \"\":  break\n",
    "    v0 = float(x)\n",
    "    if(v0>0): break\n",
    "\n",
    "dt=0.1\n",
    "while True:\n",
    "    x = input(\"insert dt > 0 in sec (press return for {0} sec): \".format(dt))\n",
    "    if x == \"\": break\n",
    "    dt = float(x)\n",
    "    if(dt>0): break\n",
    "      \n",
    "        \n",
    "v0x = v0*math.cos(theta)\n",
    "v0y = v0*math.sin(theta)\n",
    "\n",
    "print(\"v0_x: %.3f m/s \\t v0_y: %.3f m/s\"%(v0x,v0y))\n",
    "\n",
    "t=0.\n",
    "x=[]\n",
    "y=[]\n",
    "xi=0\n",
    "yi=h\n",
    "\n",
    "while yi>=0:\n",
    "    x.append(xi)\n",
    "    y.append(yi)\n",
    "    t+=dt\n",
    "    xi=v0x*t\n",
    "    yi=h+v0y*t-0.5*g*t*t\n",
    "\n",
    "#print(x,y)\n",
    "plt.plot(x,y, label='trajectory', color='red', marker='.')\n",
    "plt.legend()\n",
    "\n",
    "# we also make the plot nicer\n",
    "plt.title('motion under gravity')\n",
    "plt.xlabel(\"x [m]\")\n",
    "plt.ylabel(\"y [m]\")\n",
    "plt.grid(True)\n",
    "plt.xlim(-0.1, max(x)*1.1)\n",
    "plt.ylim(-0.1,max(y)*1.10)\n",
    "plt.show()"
   ]
  },
  {
   "cell_type": "code",
   "execution_count": null,
   "metadata": {},
   "outputs": [],
   "source": []
  }
 ],
 "metadata": {
  "kernelspec": {
   "display_name": "Python 3",
   "language": "python",
   "name": "python3"
  },
  "language_info": {
   "codemirror_mode": {
    "name": "ipython",
    "version": 3
   },
   "file_extension": ".py",
   "mimetype": "text/x-python",
   "name": "python",
   "nbconvert_exporter": "python",
   "pygments_lexer": "ipython3",
   "version": "3.7.6"
  }
 },
 "nbformat": 4,
 "nbformat_minor": 2
}
